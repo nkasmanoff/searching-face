{
 "cells": [
  {
   "cell_type": "code",
   "execution_count": 1,
   "metadata": {},
   "outputs": [],
   "source": [
    "import datasets\n",
    "from selenium import webdriver\n",
    "from time import sleep\n",
    "from random import randrange\n",
    "import pandas as pd\n",
    "\n",
    "from tqdm import tqdm\n"
   ]
  },
  {
   "cell_type": "code",
   "execution_count": null,
   "metadata": {},
   "outputs": [],
   "source": []
  },
  {
   "cell_type": "code",
   "execution_count": 2,
   "metadata": {},
   "outputs": [],
   "source": [
    "all_datasets = datasets.list_datasets()"
   ]
  },
  {
   "cell_type": "code",
   "execution_count": 4,
   "metadata": {},
   "outputs": [
    {
     "data": {
      "text/plain": [
       "['planhanasan/github-issues',\n",
       " 'purnasai/celeb-identities',\n",
       " 'jiang12/nasa',\n",
       " 'jiang12/nasa1',\n",
       " 'nasa-cisto-data-science-group/modis-lake-powell-toy-dataset',\n",
       " 'ujangmanuel/ujangdanasanjaya',\n",
       " 'nkasmanoff/nasa_earth_instagram',\n",
       " 'nasa-cisto-data-science-group/modis-lake-powell-raster-dataset']"
      ]
     },
     "execution_count": 4,
     "metadata": {},
     "output_type": "execute_result"
    }
   ],
   "source": [
    "[x for x in all_datasets if 'nasa' in x]"
   ]
  },
  {
   "cell_type": "code",
   "execution_count": null,
   "metadata": {},
   "outputs": [],
   "source": [
    "dataset_cards_df = pd.DataFrame()\n",
    "for dataset in tqdm(all_datasets):\n",
    "    try:\n",
    "        data = datasets.get_dataset_infos(path=dataset)\n",
    "        card = data['default'].description\n",
    "        dataset_cards_df = dataset_cards_df.append(pd.DataFrame([{'dataset': dataset, \n",
    "                                                            'dataset_card': card}]))\n",
    "    except Exception as e:\n",
    "        print(e)\n",
    "        pass"
   ]
  },
  {
   "cell_type": "code",
   "execution_count": null,
   "metadata": {},
   "outputs": [],
   "source": [
    "dataset_cards_df"
   ]
  },
  {
   "cell_type": "code",
   "execution_count": 3,
   "metadata": {},
   "outputs": [
    {
     "name": "stderr",
     "output_type": "stream",
     "text": [
      "/var/folders/27/vq5y844134sb8423ngwxqzgc0000gn/T/ipykernel_88665/2981078717.py:2: DeprecationWarning: executable_path has been deprecated, please pass in a Service object\n",
      "  driver = webdriver.Chrome(executable_path)\n"
     ]
    }
   ],
   "source": [
    "executable_path = '../chromedriver'\n",
    "driver = webdriver.Chrome(executable_path)"
   ]
  },
  {
   "cell_type": "code",
   "execution_count": 4,
   "metadata": {},
   "outputs": [
    {
     "name": "stderr",
     "output_type": "stream",
     "text": [
      "  0%|          | 30/30819 [03:16<62:44:35,  7.34s/it]"
     ]
    },
    {
     "name": "stdout",
     "output_type": "stream",
     "text": [
      "Message: no such element: Unable to locate element: {\"method\":\"css selector\",\"selector\":\".prose\"}\n",
      "  (Session info: chrome=112.0.5615.137)\n",
      "Stacktrace:\n",
      "0   chromedriver                        0x000000010491ed3c chromedriver + 4222268\n",
      "1   chromedriver                        0x00000001048a58e8 chromedriver + 3725544\n",
      "2   chromedriver                        0x000000010455bda4 chromedriver + 277924\n",
      "3   chromedriver                        0x00000001045971b8 chromedriver + 520632\n",
      "4   chromedriver                        0x00000001045cf618 chromedriver + 751128\n",
      "5   chromedriver                        0x00000001045898f0 chromedriver + 465136\n",
      "6   chromedriver                        0x000000010458a974 chromedriver + 469364\n",
      "7   chromedriver                        0x00000001048ef788 chromedriver + 4028296\n",
      "8   chromedriver                        0x00000001048f3c1c chromedriver + 4045852\n",
      "9   chromedriver                        0x00000001048f9c98 chromedriver + 4070552\n",
      "10  chromedriver                        0x00000001048f48d8 chromedriver + 4049112\n",
      "11  chromedriver                        0x00000001048cbd84 chromedriver + 3882372\n",
      "12  chromedriver                        0x0000000104912720 chromedriver + 4171552\n",
      "13  chromedriver                        0x0000000104912878 chromedriver + 4171896\n",
      "14  chromedriver                        0x0000000104926014 chromedriver + 4251668\n",
      "15  libsystem_pthread.dylib             0x00000001a3d2606c _pthread_start + 148\n",
      "16  libsystem_pthread.dylib             0x00000001a3d20e2c thread_start + 8\n",
      "\n"
     ]
    },
    {
     "name": "stderr",
     "output_type": "stream",
     "text": [
      "  0%|          | 31/30819 [03:20<54:56:19,  6.42s/it]"
     ]
    },
    {
     "name": "stdout",
     "output_type": "stream",
     "text": [
      "Message: no such element: Unable to locate element: {\"method\":\"css selector\",\"selector\":\".prose\"}\n",
      "  (Session info: chrome=112.0.5615.137)\n",
      "Stacktrace:\n",
      "0   chromedriver                        0x000000010491ed3c chromedriver + 4222268\n",
      "1   chromedriver                        0x00000001048a58e8 chromedriver + 3725544\n",
      "2   chromedriver                        0x000000010455bda4 chromedriver + 277924\n",
      "3   chromedriver                        0x00000001045971b8 chromedriver + 520632\n",
      "4   chromedriver                        0x00000001045cf618 chromedriver + 751128\n",
      "5   chromedriver                        0x00000001045898f0 chromedriver + 465136\n",
      "6   chromedriver                        0x000000010458a974 chromedriver + 469364\n",
      "7   chromedriver                        0x00000001048ef788 chromedriver + 4028296\n",
      "8   chromedriver                        0x00000001048f3c1c chromedriver + 4045852\n",
      "9   chromedriver                        0x00000001048f9c98 chromedriver + 4070552\n",
      "10  chromedriver                        0x00000001048f48d8 chromedriver + 4049112\n",
      "11  chromedriver                        0x00000001048cbd84 chromedriver + 3882372\n",
      "12  chromedriver                        0x0000000104912720 chromedriver + 4171552\n",
      "13  chromedriver                        0x0000000104912878 chromedriver + 4171896\n",
      "14  chromedriver                        0x0000000104926014 chromedriver + 4251668\n",
      "15  libsystem_pthread.dylib             0x00000001a3d2606c _pthread_start + 148\n",
      "16  libsystem_pthread.dylib             0x00000001a3d20e2c thread_start + 8\n",
      "\n"
     ]
    },
    {
     "name": "stderr",
     "output_type": "stream",
     "text": [
      "  0%|          | 32/30819 [03:26<51:58:02,  6.08s/it]"
     ]
    },
    {
     "name": "stdout",
     "output_type": "stream",
     "text": [
      "Message: no such element: Unable to locate element: {\"method\":\"css selector\",\"selector\":\".prose\"}\n",
      "  (Session info: chrome=112.0.5615.137)\n",
      "Stacktrace:\n",
      "0   chromedriver                        0x000000010491ed3c chromedriver + 4222268\n",
      "1   chromedriver                        0x00000001048a58e8 chromedriver + 3725544\n",
      "2   chromedriver                        0x000000010455bda4 chromedriver + 277924\n",
      "3   chromedriver                        0x00000001045971b8 chromedriver + 520632\n",
      "4   chromedriver                        0x00000001045cf618 chromedriver + 751128\n",
      "5   chromedriver                        0x00000001045898f0 chromedriver + 465136\n",
      "6   chromedriver                        0x000000010458a974 chromedriver + 469364\n",
      "7   chromedriver                        0x00000001048ef788 chromedriver + 4028296\n",
      "8   chromedriver                        0x00000001048f3c1c chromedriver + 4045852\n",
      "9   chromedriver                        0x00000001048f9c98 chromedriver + 4070552\n",
      "10  chromedriver                        0x00000001048f48d8 chromedriver + 4049112\n",
      "11  chromedriver                        0x00000001048cbd84 chromedriver + 3882372\n",
      "12  chromedriver                        0x0000000104912720 chromedriver + 4171552\n",
      "13  chromedriver                        0x0000000104912878 chromedriver + 4171896\n",
      "14  chromedriver                        0x0000000104926014 chromedriver + 4251668\n",
      "15  libsystem_pthread.dylib             0x00000001a3d2606c _pthread_start + 148\n",
      "16  libsystem_pthread.dylib             0x00000001a3d20e2c thread_start + 8\n",
      "\n"
     ]
    },
    {
     "name": "stderr",
     "output_type": "stream",
     "text": [
      "  0%|          | 33/30819 [03:30<47:17:55,  5.53s/it]"
     ]
    },
    {
     "name": "stdout",
     "output_type": "stream",
     "text": [
      "Message: no such element: Unable to locate element: {\"method\":\"css selector\",\"selector\":\".prose\"}\n",
      "  (Session info: chrome=112.0.5615.137)\n",
      "Stacktrace:\n",
      "0   chromedriver                        0x000000010491ed3c chromedriver + 4222268\n",
      "1   chromedriver                        0x00000001048a58e8 chromedriver + 3725544\n",
      "2   chromedriver                        0x000000010455bda4 chromedriver + 277924\n",
      "3   chromedriver                        0x00000001045971b8 chromedriver + 520632\n",
      "4   chromedriver                        0x00000001045cf618 chromedriver + 751128\n",
      "5   chromedriver                        0x00000001045898f0 chromedriver + 465136\n",
      "6   chromedriver                        0x000000010458a974 chromedriver + 469364\n",
      "7   chromedriver                        0x00000001048ef788 chromedriver + 4028296\n",
      "8   chromedriver                        0x00000001048f3c1c chromedriver + 4045852\n",
      "9   chromedriver                        0x00000001048f9c98 chromedriver + 4070552\n",
      "10  chromedriver                        0x00000001048f48d8 chromedriver + 4049112\n",
      "11  chromedriver                        0x00000001048cbd84 chromedriver + 3882372\n",
      "12  chromedriver                        0x0000000104912720 chromedriver + 4171552\n",
      "13  chromedriver                        0x0000000104912878 chromedriver + 4171896\n",
      "14  chromedriver                        0x0000000104926014 chromedriver + 4251668\n",
      "15  libsystem_pthread.dylib             0x00000001a3d2606c _pthread_start + 148\n",
      "16  libsystem_pthread.dylib             0x00000001a3d20e2c thread_start + 8\n",
      "\n"
     ]
    },
    {
     "name": "stderr",
     "output_type": "stream",
     "text": [
      "  0%|          | 34/30819 [03:35<46:33:56,  5.45s/it]"
     ]
    },
    {
     "name": "stdout",
     "output_type": "stream",
     "text": [
      "Message: no such element: Unable to locate element: {\"method\":\"css selector\",\"selector\":\".prose\"}\n",
      "  (Session info: chrome=112.0.5615.137)\n",
      "Stacktrace:\n",
      "0   chromedriver                        0x000000010491ed3c chromedriver + 4222268\n",
      "1   chromedriver                        0x00000001048a58e8 chromedriver + 3725544\n",
      "2   chromedriver                        0x000000010455bda4 chromedriver + 277924\n",
      "3   chromedriver                        0x00000001045971b8 chromedriver + 520632\n",
      "4   chromedriver                        0x00000001045cf618 chromedriver + 751128\n",
      "5   chromedriver                        0x00000001045898f0 chromedriver + 465136\n",
      "6   chromedriver                        0x000000010458a974 chromedriver + 469364\n",
      "7   chromedriver                        0x00000001048ef788 chromedriver + 4028296\n",
      "8   chromedriver                        0x00000001048f3c1c chromedriver + 4045852\n",
      "9   chromedriver                        0x00000001048f9c98 chromedriver + 4070552\n",
      "10  chromedriver                        0x00000001048f48d8 chromedriver + 4049112\n",
      "11  chromedriver                        0x00000001048cbd84 chromedriver + 3882372\n",
      "12  chromedriver                        0x0000000104912720 chromedriver + 4171552\n",
      "13  chromedriver                        0x0000000104912878 chromedriver + 4171896\n",
      "14  chromedriver                        0x0000000104926014 chromedriver + 4251668\n",
      "15  libsystem_pthread.dylib             0x00000001a3d2606c _pthread_start + 148\n",
      "16  libsystem_pthread.dylib             0x00000001a3d20e2c thread_start + 8\n",
      "\n"
     ]
    },
    {
     "name": "stderr",
     "output_type": "stream",
     "text": [
      "  0%|          | 35/30819 [03:41<48:54:40,  5.72s/it]"
     ]
    },
    {
     "name": "stdout",
     "output_type": "stream",
     "text": [
      "Message: no such element: Unable to locate element: {\"method\":\"css selector\",\"selector\":\".prose\"}\n",
      "  (Session info: chrome=112.0.5615.137)\n",
      "Stacktrace:\n",
      "0   chromedriver                        0x000000010491ed3c chromedriver + 4222268\n",
      "1   chromedriver                        0x00000001048a58e8 chromedriver + 3725544\n",
      "2   chromedriver                        0x000000010455bda4 chromedriver + 277924\n",
      "3   chromedriver                        0x00000001045971b8 chromedriver + 520632\n",
      "4   chromedriver                        0x00000001045cf618 chromedriver + 751128\n",
      "5   chromedriver                        0x00000001045898f0 chromedriver + 465136\n",
      "6   chromedriver                        0x000000010458a974 chromedriver + 469364\n",
      "7   chromedriver                        0x00000001048ef788 chromedriver + 4028296\n",
      "8   chromedriver                        0x00000001048f3c1c chromedriver + 4045852\n",
      "9   chromedriver                        0x00000001048f9c98 chromedriver + 4070552\n",
      "10  chromedriver                        0x00000001048f48d8 chromedriver + 4049112\n",
      "11  chromedriver                        0x00000001048cbd84 chromedriver + 3882372\n",
      "12  chromedriver                        0x0000000104912720 chromedriver + 4171552\n",
      "13  chromedriver                        0x0000000104912878 chromedriver + 4171896\n",
      "14  chromedriver                        0x0000000104926014 chromedriver + 4251668\n",
      "15  libsystem_pthread.dylib             0x00000001a3d2606c _pthread_start + 148\n",
      "16  libsystem_pthread.dylib             0x00000001a3d20e2c thread_start + 8\n",
      "\n"
     ]
    },
    {
     "name": "stderr",
     "output_type": "stream",
     "text": [
      "  0%|          | 36/30819 [03:48<50:20:04,  5.89s/it]"
     ]
    },
    {
     "name": "stdout",
     "output_type": "stream",
     "text": [
      "Message: no such element: Unable to locate element: {\"method\":\"css selector\",\"selector\":\".prose\"}\n",
      "  (Session info: chrome=112.0.5615.137)\n",
      "Stacktrace:\n",
      "0   chromedriver                        0x000000010491ed3c chromedriver + 4222268\n",
      "1   chromedriver                        0x00000001048a58e8 chromedriver + 3725544\n",
      "2   chromedriver                        0x000000010455bda4 chromedriver + 277924\n",
      "3   chromedriver                        0x00000001045971b8 chromedriver + 520632\n",
      "4   chromedriver                        0x00000001045cf618 chromedriver + 751128\n",
      "5   chromedriver                        0x00000001045898f0 chromedriver + 465136\n",
      "6   chromedriver                        0x000000010458a974 chromedriver + 469364\n",
      "7   chromedriver                        0x00000001048ef788 chromedriver + 4028296\n",
      "8   chromedriver                        0x00000001048f3c1c chromedriver + 4045852\n",
      "9   chromedriver                        0x00000001048f9c98 chromedriver + 4070552\n",
      "10  chromedriver                        0x00000001048f48d8 chromedriver + 4049112\n",
      "11  chromedriver                        0x00000001048cbd84 chromedriver + 3882372\n",
      "12  chromedriver                        0x0000000104912720 chromedriver + 4171552\n",
      "13  chromedriver                        0x0000000104912878 chromedriver + 4171896\n",
      "14  chromedriver                        0x0000000104926014 chromedriver + 4251668\n",
      "15  libsystem_pthread.dylib             0x00000001a3d2606c _pthread_start + 148\n",
      "16  libsystem_pthread.dylib             0x00000001a3d20e2c thread_start + 8\n",
      "\n"
     ]
    },
    {
     "name": "stderr",
     "output_type": "stream",
     "text": [
      "  0%|          | 37/30819 [03:54<51:27:44,  6.02s/it]"
     ]
    },
    {
     "name": "stdout",
     "output_type": "stream",
     "text": [
      "Message: no such element: Unable to locate element: {\"method\":\"css selector\",\"selector\":\".prose\"}\n",
      "  (Session info: chrome=112.0.5615.137)\n",
      "Stacktrace:\n",
      "0   chromedriver                        0x000000010491ed3c chromedriver + 4222268\n",
      "1   chromedriver                        0x00000001048a58e8 chromedriver + 3725544\n",
      "2   chromedriver                        0x000000010455bda4 chromedriver + 277924\n",
      "3   chromedriver                        0x00000001045971b8 chromedriver + 520632\n",
      "4   chromedriver                        0x00000001045cf618 chromedriver + 751128\n",
      "5   chromedriver                        0x00000001045898f0 chromedriver + 465136\n",
      "6   chromedriver                        0x000000010458a974 chromedriver + 469364\n",
      "7   chromedriver                        0x00000001048ef788 chromedriver + 4028296\n",
      "8   chromedriver                        0x00000001048f3c1c chromedriver + 4045852\n",
      "9   chromedriver                        0x00000001048f9c98 chromedriver + 4070552\n",
      "10  chromedriver                        0x00000001048f48d8 chromedriver + 4049112\n",
      "11  chromedriver                        0x00000001048cbd84 chromedriver + 3882372\n",
      "12  chromedriver                        0x0000000104912720 chromedriver + 4171552\n",
      "13  chromedriver                        0x0000000104912878 chromedriver + 4171896\n",
      "14  chromedriver                        0x0000000104926014 chromedriver + 4251668\n",
      "15  libsystem_pthread.dylib             0x00000001a3d2606c _pthread_start + 148\n",
      "16  libsystem_pthread.dylib             0x00000001a3d20e2c thread_start + 8\n",
      "\n"
     ]
    },
    {
     "name": "stderr",
     "output_type": "stream",
     "text": [
      "  0%|          | 38/30819 [03:58<46:58:41,  5.49s/it]"
     ]
    },
    {
     "name": "stdout",
     "output_type": "stream",
     "text": [
      "Message: no such element: Unable to locate element: {\"method\":\"css selector\",\"selector\":\".prose\"}\n",
      "  (Session info: chrome=112.0.5615.137)\n",
      "Stacktrace:\n",
      "0   chromedriver                        0x000000010491ed3c chromedriver + 4222268\n",
      "1   chromedriver                        0x00000001048a58e8 chromedriver + 3725544\n",
      "2   chromedriver                        0x000000010455bda4 chromedriver + 277924\n",
      "3   chromedriver                        0x00000001045971b8 chromedriver + 520632\n",
      "4   chromedriver                        0x00000001045cf618 chromedriver + 751128\n",
      "5   chromedriver                        0x00000001045898f0 chromedriver + 465136\n",
      "6   chromedriver                        0x000000010458a974 chromedriver + 469364\n",
      "7   chromedriver                        0x00000001048ef788 chromedriver + 4028296\n",
      "8   chromedriver                        0x00000001048f3c1c chromedriver + 4045852\n",
      "9   chromedriver                        0x00000001048f9c98 chromedriver + 4070552\n",
      "10  chromedriver                        0x00000001048f48d8 chromedriver + 4049112\n",
      "11  chromedriver                        0x00000001048cbd84 chromedriver + 3882372\n",
      "12  chromedriver                        0x0000000104912720 chromedriver + 4171552\n",
      "13  chromedriver                        0x0000000104912878 chromedriver + 4171896\n",
      "14  chromedriver                        0x0000000104926014 chromedriver + 4251668\n",
      "15  libsystem_pthread.dylib             0x00000001a3d2606c _pthread_start + 148\n",
      "16  libsystem_pthread.dylib             0x00000001a3d20e2c thread_start + 8\n",
      "\n"
     ]
    },
    {
     "name": "stderr",
     "output_type": "stream",
     "text": [
      "  0%|          | 39/30819 [04:05<49:00:03,  5.73s/it]"
     ]
    },
    {
     "name": "stdout",
     "output_type": "stream",
     "text": [
      "Message: no such element: Unable to locate element: {\"method\":\"css selector\",\"selector\":\".prose\"}\n",
      "  (Session info: chrome=112.0.5615.137)\n",
      "Stacktrace:\n",
      "0   chromedriver                        0x000000010491ed3c chromedriver + 4222268\n",
      "1   chromedriver                        0x00000001048a58e8 chromedriver + 3725544\n",
      "2   chromedriver                        0x000000010455bda4 chromedriver + 277924\n",
      "3   chromedriver                        0x00000001045971b8 chromedriver + 520632\n",
      "4   chromedriver                        0x00000001045cf618 chromedriver + 751128\n",
      "5   chromedriver                        0x00000001045898f0 chromedriver + 465136\n",
      "6   chromedriver                        0x000000010458a974 chromedriver + 469364\n",
      "7   chromedriver                        0x00000001048ef788 chromedriver + 4028296\n",
      "8   chromedriver                        0x00000001048f3c1c chromedriver + 4045852\n",
      "9   chromedriver                        0x00000001048f9c98 chromedriver + 4070552\n",
      "10  chromedriver                        0x00000001048f48d8 chromedriver + 4049112\n",
      "11  chromedriver                        0x00000001048cbd84 chromedriver + 3882372\n",
      "12  chromedriver                        0x0000000104912720 chromedriver + 4171552\n",
      "13  chromedriver                        0x0000000104912878 chromedriver + 4171896\n",
      "14  chromedriver                        0x0000000104926014 chromedriver + 4251668\n",
      "15  libsystem_pthread.dylib             0x00000001a3d2606c _pthread_start + 148\n",
      "16  libsystem_pthread.dylib             0x00000001a3d20e2c thread_start + 8\n",
      "\n"
     ]
    },
    {
     "name": "stderr",
     "output_type": "stream",
     "text": [
      "  0%|          | 40/30819 [04:09<45:15:07,  5.29s/it]"
     ]
    },
    {
     "name": "stdout",
     "output_type": "stream",
     "text": [
      "Message: no such element: Unable to locate element: {\"method\":\"css selector\",\"selector\":\".prose\"}\n",
      "  (Session info: chrome=112.0.5615.137)\n",
      "Stacktrace:\n",
      "0   chromedriver                        0x000000010491ed3c chromedriver + 4222268\n",
      "1   chromedriver                        0x00000001048a58e8 chromedriver + 3725544\n",
      "2   chromedriver                        0x000000010455bda4 chromedriver + 277924\n",
      "3   chromedriver                        0x00000001045971b8 chromedriver + 520632\n",
      "4   chromedriver                        0x00000001045cf618 chromedriver + 751128\n",
      "5   chromedriver                        0x00000001045898f0 chromedriver + 465136\n",
      "6   chromedriver                        0x000000010458a974 chromedriver + 469364\n",
      "7   chromedriver                        0x00000001048ef788 chromedriver + 4028296\n",
      "8   chromedriver                        0x00000001048f3c1c chromedriver + 4045852\n",
      "9   chromedriver                        0x00000001048f9c98 chromedriver + 4070552\n",
      "10  chromedriver                        0x00000001048f48d8 chromedriver + 4049112\n",
      "11  chromedriver                        0x00000001048cbd84 chromedriver + 3882372\n",
      "12  chromedriver                        0x0000000104912720 chromedriver + 4171552\n",
      "13  chromedriver                        0x0000000104912878 chromedriver + 4171896\n",
      "14  chromedriver                        0x0000000104926014 chromedriver + 4251668\n",
      "15  libsystem_pthread.dylib             0x00000001a3d2606c _pthread_start + 148\n",
      "16  libsystem_pthread.dylib             0x00000001a3d20e2c thread_start + 8\n",
      "\n"
     ]
    },
    {
     "name": "stderr",
     "output_type": "stream",
     "text": [
      "  0%|          | 41/30819 [04:13<42:38:38,  4.99s/it]"
     ]
    },
    {
     "name": "stdout",
     "output_type": "stream",
     "text": [
      "Message: no such element: Unable to locate element: {\"method\":\"css selector\",\"selector\":\".prose\"}\n",
      "  (Session info: chrome=112.0.5615.137)\n",
      "Stacktrace:\n",
      "0   chromedriver                        0x000000010491ed3c chromedriver + 4222268\n",
      "1   chromedriver                        0x00000001048a58e8 chromedriver + 3725544\n",
      "2   chromedriver                        0x000000010455bda4 chromedriver + 277924\n",
      "3   chromedriver                        0x00000001045971b8 chromedriver + 520632\n",
      "4   chromedriver                        0x00000001045cf618 chromedriver + 751128\n",
      "5   chromedriver                        0x00000001045898f0 chromedriver + 465136\n",
      "6   chromedriver                        0x000000010458a974 chromedriver + 469364\n",
      "7   chromedriver                        0x00000001048ef788 chromedriver + 4028296\n",
      "8   chromedriver                        0x00000001048f3c1c chromedriver + 4045852\n",
      "9   chromedriver                        0x00000001048f9c98 chromedriver + 4070552\n",
      "10  chromedriver                        0x00000001048f48d8 chromedriver + 4049112\n",
      "11  chromedriver                        0x00000001048cbd84 chromedriver + 3882372\n",
      "12  chromedriver                        0x0000000104912720 chromedriver + 4171552\n",
      "13  chromedriver                        0x0000000104912878 chromedriver + 4171896\n",
      "14  chromedriver                        0x0000000104926014 chromedriver + 4251668\n",
      "15  libsystem_pthread.dylib             0x00000001a3d2606c _pthread_start + 148\n",
      "16  libsystem_pthread.dylib             0x00000001a3d20e2c thread_start + 8\n",
      "\n"
     ]
    },
    {
     "name": "stderr",
     "output_type": "stream",
     "text": [
      "  0%|          | 42/30819 [04:17<40:49:39,  4.78s/it]"
     ]
    },
    {
     "name": "stdout",
     "output_type": "stream",
     "text": [
      "Message: no such element: Unable to locate element: {\"method\":\"css selector\",\"selector\":\".prose\"}\n",
      "  (Session info: chrome=112.0.5615.137)\n",
      "Stacktrace:\n",
      "0   chromedriver                        0x000000010491ed3c chromedriver + 4222268\n",
      "1   chromedriver                        0x00000001048a58e8 chromedriver + 3725544\n",
      "2   chromedriver                        0x000000010455bda4 chromedriver + 277924\n",
      "3   chromedriver                        0x00000001045971b8 chromedriver + 520632\n",
      "4   chromedriver                        0x00000001045cf618 chromedriver + 751128\n",
      "5   chromedriver                        0x00000001045898f0 chromedriver + 465136\n",
      "6   chromedriver                        0x000000010458a974 chromedriver + 469364\n",
      "7   chromedriver                        0x00000001048ef788 chromedriver + 4028296\n",
      "8   chromedriver                        0x00000001048f3c1c chromedriver + 4045852\n",
      "9   chromedriver                        0x00000001048f9c98 chromedriver + 4070552\n",
      "10  chromedriver                        0x00000001048f48d8 chromedriver + 4049112\n",
      "11  chromedriver                        0x00000001048cbd84 chromedriver + 3882372\n",
      "12  chromedriver                        0x0000000104912720 chromedriver + 4171552\n",
      "13  chromedriver                        0x0000000104912878 chromedriver + 4171896\n",
      "14  chromedriver                        0x0000000104926014 chromedriver + 4251668\n",
      "15  libsystem_pthread.dylib             0x00000001a3d2606c _pthread_start + 148\n",
      "16  libsystem_pthread.dylib             0x00000001a3d20e2c thread_start + 8\n",
      "\n"
     ]
    },
    {
     "name": "stderr",
     "output_type": "stream",
     "text": [
      "  0%|          | 43/30819 [04:23<42:05:28,  4.92s/it]"
     ]
    },
    {
     "name": "stdout",
     "output_type": "stream",
     "text": [
      "Message: no such element: Unable to locate element: {\"method\":\"css selector\",\"selector\":\".prose\"}\n",
      "  (Session info: chrome=112.0.5615.137)\n",
      "Stacktrace:\n",
      "0   chromedriver                        0x000000010491ed3c chromedriver + 4222268\n",
      "1   chromedriver                        0x00000001048a58e8 chromedriver + 3725544\n",
      "2   chromedriver                        0x000000010455bda4 chromedriver + 277924\n",
      "3   chromedriver                        0x00000001045971b8 chromedriver + 520632\n",
      "4   chromedriver                        0x00000001045cf618 chromedriver + 751128\n",
      "5   chromedriver                        0x00000001045898f0 chromedriver + 465136\n",
      "6   chromedriver                        0x000000010458a974 chromedriver + 469364\n",
      "7   chromedriver                        0x00000001048ef788 chromedriver + 4028296\n",
      "8   chromedriver                        0x00000001048f3c1c chromedriver + 4045852\n",
      "9   chromedriver                        0x00000001048f9c98 chromedriver + 4070552\n",
      "10  chromedriver                        0x00000001048f48d8 chromedriver + 4049112\n",
      "11  chromedriver                        0x00000001048cbd84 chromedriver + 3882372\n",
      "12  chromedriver                        0x0000000104912720 chromedriver + 4171552\n",
      "13  chromedriver                        0x0000000104912878 chromedriver + 4171896\n",
      "14  chromedriver                        0x0000000104926014 chromedriver + 4251668\n",
      "15  libsystem_pthread.dylib             0x00000001a3d2606c _pthread_start + 148\n",
      "16  libsystem_pthread.dylib             0x00000001a3d20e2c thread_start + 8\n",
      "\n"
     ]
    },
    {
     "name": "stderr",
     "output_type": "stream",
     "text": [
      "  0%|          | 44/30819 [04:28<43:04:47,  5.04s/it]"
     ]
    },
    {
     "name": "stdout",
     "output_type": "stream",
     "text": [
      "Message: no such element: Unable to locate element: {\"method\":\"css selector\",\"selector\":\".prose\"}\n",
      "  (Session info: chrome=112.0.5615.137)\n",
      "Stacktrace:\n",
      "0   chromedriver                        0x000000010491ed3c chromedriver + 4222268\n",
      "1   chromedriver                        0x00000001048a58e8 chromedriver + 3725544\n",
      "2   chromedriver                        0x000000010455bda4 chromedriver + 277924\n",
      "3   chromedriver                        0x00000001045971b8 chromedriver + 520632\n",
      "4   chromedriver                        0x00000001045cf618 chromedriver + 751128\n",
      "5   chromedriver                        0x00000001045898f0 chromedriver + 465136\n",
      "6   chromedriver                        0x000000010458a974 chromedriver + 469364\n",
      "7   chromedriver                        0x00000001048ef788 chromedriver + 4028296\n",
      "8   chromedriver                        0x00000001048f3c1c chromedriver + 4045852\n",
      "9   chromedriver                        0x00000001048f9c98 chromedriver + 4070552\n",
      "10  chromedriver                        0x00000001048f48d8 chromedriver + 4049112\n",
      "11  chromedriver                        0x00000001048cbd84 chromedriver + 3882372\n",
      "12  chromedriver                        0x0000000104912720 chromedriver + 4171552\n",
      "13  chromedriver                        0x0000000104912878 chromedriver + 4171896\n",
      "14  chromedriver                        0x0000000104926014 chromedriver + 4251668\n",
      "15  libsystem_pthread.dylib             0x00000001a3d2606c _pthread_start + 148\n",
      "16  libsystem_pthread.dylib             0x00000001a3d20e2c thread_start + 8\n",
      "\n"
     ]
    },
    {
     "name": "stderr",
     "output_type": "stream",
     "text": [
      "  0%|          | 45/30819 [04:34<46:21:19,  5.42s/it]"
     ]
    },
    {
     "name": "stdout",
     "output_type": "stream",
     "text": [
      "Message: no such element: Unable to locate element: {\"method\":\"css selector\",\"selector\":\".prose\"}\n",
      "  (Session info: chrome=112.0.5615.137)\n",
      "Stacktrace:\n",
      "0   chromedriver                        0x000000010491ed3c chromedriver + 4222268\n",
      "1   chromedriver                        0x00000001048a58e8 chromedriver + 3725544\n",
      "2   chromedriver                        0x000000010455bda4 chromedriver + 277924\n",
      "3   chromedriver                        0x00000001045971b8 chromedriver + 520632\n",
      "4   chromedriver                        0x00000001045cf618 chromedriver + 751128\n",
      "5   chromedriver                        0x00000001045898f0 chromedriver + 465136\n",
      "6   chromedriver                        0x000000010458a974 chromedriver + 469364\n",
      "7   chromedriver                        0x00000001048ef788 chromedriver + 4028296\n",
      "8   chromedriver                        0x00000001048f3c1c chromedriver + 4045852\n",
      "9   chromedriver                        0x00000001048f9c98 chromedriver + 4070552\n",
      "10  chromedriver                        0x00000001048f48d8 chromedriver + 4049112\n",
      "11  chromedriver                        0x00000001048cbd84 chromedriver + 3882372\n",
      "12  chromedriver                        0x0000000104912720 chromedriver + 4171552\n",
      "13  chromedriver                        0x0000000104912878 chromedriver + 4171896\n",
      "14  chromedriver                        0x0000000104926014 chromedriver + 4251668\n",
      "15  libsystem_pthread.dylib             0x00000001a3d2606c _pthread_start + 148\n",
      "16  libsystem_pthread.dylib             0x00000001a3d20e2c thread_start + 8\n",
      "\n"
     ]
    },
    {
     "name": "stderr",
     "output_type": "stream",
     "text": [
      "  0%|          | 46/30819 [04:40<46:06:10,  5.39s/it]"
     ]
    },
    {
     "name": "stdout",
     "output_type": "stream",
     "text": [
      "Message: no such element: Unable to locate element: {\"method\":\"css selector\",\"selector\":\".prose\"}\n",
      "  (Session info: chrome=112.0.5615.137)\n",
      "Stacktrace:\n",
      "0   chromedriver                        0x000000010491ed3c chromedriver + 4222268\n",
      "1   chromedriver                        0x00000001048a58e8 chromedriver + 3725544\n",
      "2   chromedriver                        0x000000010455bda4 chromedriver + 277924\n",
      "3   chromedriver                        0x00000001045971b8 chromedriver + 520632\n",
      "4   chromedriver                        0x00000001045cf618 chromedriver + 751128\n",
      "5   chromedriver                        0x00000001045898f0 chromedriver + 465136\n",
      "6   chromedriver                        0x000000010458a974 chromedriver + 469364\n",
      "7   chromedriver                        0x00000001048ef788 chromedriver + 4028296\n",
      "8   chromedriver                        0x00000001048f3c1c chromedriver + 4045852\n",
      "9   chromedriver                        0x00000001048f9c98 chromedriver + 4070552\n",
      "10  chromedriver                        0x00000001048f48d8 chromedriver + 4049112\n",
      "11  chromedriver                        0x00000001048cbd84 chromedriver + 3882372\n",
      "12  chromedriver                        0x0000000104912720 chromedriver + 4171552\n",
      "13  chromedriver                        0x0000000104912878 chromedriver + 4171896\n",
      "14  chromedriver                        0x0000000104926014 chromedriver + 4251668\n",
      "15  libsystem_pthread.dylib             0x00000001a3d2606c _pthread_start + 148\n",
      "16  libsystem_pthread.dylib             0x00000001a3d20e2c thread_start + 8\n",
      "\n"
     ]
    },
    {
     "name": "stderr",
     "output_type": "stream",
     "text": [
      "  0%|          | 47/30819 [04:46<48:30:27,  5.67s/it]"
     ]
    },
    {
     "name": "stdout",
     "output_type": "stream",
     "text": [
      "Message: no such element: Unable to locate element: {\"method\":\"css selector\",\"selector\":\".prose\"}\n",
      "  (Session info: chrome=112.0.5615.137)\n",
      "Stacktrace:\n",
      "0   chromedriver                        0x000000010491ed3c chromedriver + 4222268\n",
      "1   chromedriver                        0x00000001048a58e8 chromedriver + 3725544\n",
      "2   chromedriver                        0x000000010455bda4 chromedriver + 277924\n",
      "3   chromedriver                        0x00000001045971b8 chromedriver + 520632\n",
      "4   chromedriver                        0x00000001045cf618 chromedriver + 751128\n",
      "5   chromedriver                        0x00000001045898f0 chromedriver + 465136\n",
      "6   chromedriver                        0x000000010458a974 chromedriver + 469364\n",
      "7   chromedriver                        0x00000001048ef788 chromedriver + 4028296\n",
      "8   chromedriver                        0x00000001048f3c1c chromedriver + 4045852\n",
      "9   chromedriver                        0x00000001048f9c98 chromedriver + 4070552\n",
      "10  chromedriver                        0x00000001048f48d8 chromedriver + 4049112\n",
      "11  chromedriver                        0x00000001048cbd84 chromedriver + 3882372\n",
      "12  chromedriver                        0x0000000104912720 chromedriver + 4171552\n",
      "13  chromedriver                        0x0000000104912878 chromedriver + 4171896\n",
      "14  chromedriver                        0x0000000104926014 chromedriver + 4251668\n",
      "15  libsystem_pthread.dylib             0x00000001a3d2606c _pthread_start + 148\n",
      "16  libsystem_pthread.dylib             0x00000001a3d20e2c thread_start + 8\n",
      "\n"
     ]
    },
    {
     "name": "stderr",
     "output_type": "stream",
     "text": [
      "  0%|          | 48/30819 [04:52<50:13:38,  5.88s/it]"
     ]
    },
    {
     "name": "stdout",
     "output_type": "stream",
     "text": [
      "Message: no such element: Unable to locate element: {\"method\":\"css selector\",\"selector\":\".prose\"}\n",
      "  (Session info: chrome=112.0.5615.137)\n",
      "Stacktrace:\n",
      "0   chromedriver                        0x000000010491ed3c chromedriver + 4222268\n",
      "1   chromedriver                        0x00000001048a58e8 chromedriver + 3725544\n",
      "2   chromedriver                        0x000000010455bda4 chromedriver + 277924\n",
      "3   chromedriver                        0x00000001045971b8 chromedriver + 520632\n",
      "4   chromedriver                        0x00000001045cf618 chromedriver + 751128\n",
      "5   chromedriver                        0x00000001045898f0 chromedriver + 465136\n",
      "6   chromedriver                        0x000000010458a974 chromedriver + 469364\n",
      "7   chromedriver                        0x00000001048ef788 chromedriver + 4028296\n",
      "8   chromedriver                        0x00000001048f3c1c chromedriver + 4045852\n",
      "9   chromedriver                        0x00000001048f9c98 chromedriver + 4070552\n",
      "10  chromedriver                        0x00000001048f48d8 chromedriver + 4049112\n",
      "11  chromedriver                        0x00000001048cbd84 chromedriver + 3882372\n",
      "12  chromedriver                        0x0000000104912720 chromedriver + 4171552\n",
      "13  chromedriver                        0x0000000104912878 chromedriver + 4171896\n",
      "14  chromedriver                        0x0000000104926014 chromedriver + 4251668\n",
      "15  libsystem_pthread.dylib             0x00000001a3d2606c _pthread_start + 148\n",
      "16  libsystem_pthread.dylib             0x00000001a3d20e2c thread_start + 8\n",
      "\n"
     ]
    },
    {
     "name": "stderr",
     "output_type": "stream",
     "text": [
      "  0%|          | 49/30819 [04:57<46:16:00,  5.41s/it]"
     ]
    },
    {
     "name": "stdout",
     "output_type": "stream",
     "text": [
      "Message: no such element: Unable to locate element: {\"method\":\"css selector\",\"selector\":\".prose\"}\n",
      "  (Session info: chrome=112.0.5615.137)\n",
      "Stacktrace:\n",
      "0   chromedriver                        0x000000010491ed3c chromedriver + 4222268\n",
      "1   chromedriver                        0x00000001048a58e8 chromedriver + 3725544\n",
      "2   chromedriver                        0x000000010455bda4 chromedriver + 277924\n",
      "3   chromedriver                        0x00000001045971b8 chromedriver + 520632\n",
      "4   chromedriver                        0x00000001045cf618 chromedriver + 751128\n",
      "5   chromedriver                        0x00000001045898f0 chromedriver + 465136\n",
      "6   chromedriver                        0x000000010458a974 chromedriver + 469364\n",
      "7   chromedriver                        0x00000001048ef788 chromedriver + 4028296\n",
      "8   chromedriver                        0x00000001048f3c1c chromedriver + 4045852\n",
      "9   chromedriver                        0x00000001048f9c98 chromedriver + 4070552\n",
      "10  chromedriver                        0x00000001048f48d8 chromedriver + 4049112\n",
      "11  chromedriver                        0x00000001048cbd84 chromedriver + 3882372\n",
      "12  chromedriver                        0x0000000104912720 chromedriver + 4171552\n",
      "13  chromedriver                        0x0000000104912878 chromedriver + 4171896\n",
      "14  chromedriver                        0x0000000104926014 chromedriver + 4251668\n",
      "15  libsystem_pthread.dylib             0x00000001a3d2606c _pthread_start + 148\n",
      "16  libsystem_pthread.dylib             0x00000001a3d20e2c thread_start + 8\n",
      "\n"
     ]
    },
    {
     "name": "stderr",
     "output_type": "stream",
     "text": [
      "  0%|          | 50/30819 [05:02<46:01:41,  5.39s/it]"
     ]
    },
    {
     "name": "stdout",
     "output_type": "stream",
     "text": [
      "Message: no such element: Unable to locate element: {\"method\":\"css selector\",\"selector\":\".prose\"}\n",
      "  (Session info: chrome=112.0.5615.137)\n",
      "Stacktrace:\n",
      "0   chromedriver                        0x000000010491ed3c chromedriver + 4222268\n",
      "1   chromedriver                        0x00000001048a58e8 chromedriver + 3725544\n",
      "2   chromedriver                        0x000000010455bda4 chromedriver + 277924\n",
      "3   chromedriver                        0x00000001045971b8 chromedriver + 520632\n",
      "4   chromedriver                        0x00000001045cf618 chromedriver + 751128\n",
      "5   chromedriver                        0x00000001045898f0 chromedriver + 465136\n",
      "6   chromedriver                        0x000000010458a974 chromedriver + 469364\n",
      "7   chromedriver                        0x00000001048ef788 chromedriver + 4028296\n",
      "8   chromedriver                        0x00000001048f3c1c chromedriver + 4045852\n",
      "9   chromedriver                        0x00000001048f9c98 chromedriver + 4070552\n",
      "10  chromedriver                        0x00000001048f48d8 chromedriver + 4049112\n",
      "11  chromedriver                        0x00000001048cbd84 chromedriver + 3882372\n",
      "12  chromedriver                        0x0000000104912720 chromedriver + 4171552\n",
      "13  chromedriver                        0x0000000104912878 chromedriver + 4171896\n",
      "14  chromedriver                        0x0000000104926014 chromedriver + 4251668\n",
      "15  libsystem_pthread.dylib             0x00000001a3d2606c _pthread_start + 148\n",
      "16  libsystem_pthread.dylib             0x00000001a3d20e2c thread_start + 8\n",
      "\n"
     ]
    },
    {
     "name": "stderr",
     "output_type": "stream",
     "text": [
      "  0%|          | 51/30819 [05:08<48:26:14,  5.67s/it]"
     ]
    },
    {
     "name": "stdout",
     "output_type": "stream",
     "text": [
      "Message: no such element: Unable to locate element: {\"method\":\"css selector\",\"selector\":\".prose\"}\n",
      "  (Session info: chrome=112.0.5615.137)\n",
      "Stacktrace:\n",
      "0   chromedriver                        0x000000010491ed3c chromedriver + 4222268\n",
      "1   chromedriver                        0x00000001048a58e8 chromedriver + 3725544\n",
      "2   chromedriver                        0x000000010455bda4 chromedriver + 277924\n",
      "3   chromedriver                        0x00000001045971b8 chromedriver + 520632\n",
      "4   chromedriver                        0x00000001045cf618 chromedriver + 751128\n",
      "5   chromedriver                        0x00000001045898f0 chromedriver + 465136\n",
      "6   chromedriver                        0x000000010458a974 chromedriver + 469364\n",
      "7   chromedriver                        0x00000001048ef788 chromedriver + 4028296\n",
      "8   chromedriver                        0x00000001048f3c1c chromedriver + 4045852\n",
      "9   chromedriver                        0x00000001048f9c98 chromedriver + 4070552\n",
      "10  chromedriver                        0x00000001048f48d8 chromedriver + 4049112\n",
      "11  chromedriver                        0x00000001048cbd84 chromedriver + 3882372\n",
      "12  chromedriver                        0x0000000104912720 chromedriver + 4171552\n",
      "13  chromedriver                        0x0000000104912878 chromedriver + 4171896\n",
      "14  chromedriver                        0x0000000104926014 chromedriver + 4251668\n",
      "15  libsystem_pthread.dylib             0x00000001a3d2606c _pthread_start + 148\n",
      "16  libsystem_pthread.dylib             0x00000001a3d20e2c thread_start + 8\n",
      "\n"
     ]
    },
    {
     "name": "stderr",
     "output_type": "stream",
     "text": [
      "  0%|          | 52/30819 [05:15<50:06:30,  5.86s/it]"
     ]
    },
    {
     "name": "stdout",
     "output_type": "stream",
     "text": [
      "Message: no such element: Unable to locate element: {\"method\":\"css selector\",\"selector\":\".prose\"}\n",
      "  (Session info: chrome=112.0.5615.137)\n",
      "Stacktrace:\n",
      "0   chromedriver                        0x000000010491ed3c chromedriver + 4222268\n",
      "1   chromedriver                        0x00000001048a58e8 chromedriver + 3725544\n",
      "2   chromedriver                        0x000000010455bda4 chromedriver + 277924\n",
      "3   chromedriver                        0x00000001045971b8 chromedriver + 520632\n",
      "4   chromedriver                        0x00000001045cf618 chromedriver + 751128\n",
      "5   chromedriver                        0x00000001045898f0 chromedriver + 465136\n",
      "6   chromedriver                        0x000000010458a974 chromedriver + 469364\n",
      "7   chromedriver                        0x00000001048ef788 chromedriver + 4028296\n",
      "8   chromedriver                        0x00000001048f3c1c chromedriver + 4045852\n",
      "9   chromedriver                        0x00000001048f9c98 chromedriver + 4070552\n",
      "10  chromedriver                        0x00000001048f48d8 chromedriver + 4049112\n",
      "11  chromedriver                        0x00000001048cbd84 chromedriver + 3882372\n",
      "12  chromedriver                        0x0000000104912720 chromedriver + 4171552\n",
      "13  chromedriver                        0x0000000104912878 chromedriver + 4171896\n",
      "14  chromedriver                        0x0000000104926014 chromedriver + 4251668\n",
      "15  libsystem_pthread.dylib             0x00000001a3d2606c _pthread_start + 148\n",
      "16  libsystem_pthread.dylib             0x00000001a3d20e2c thread_start + 8\n",
      "\n"
     ]
    },
    {
     "name": "stderr",
     "output_type": "stream",
     "text": [
      "  0%|          | 53/30819 [05:20<48:41:48,  5.70s/it]"
     ]
    },
    {
     "name": "stdout",
     "output_type": "stream",
     "text": [
      "Message: no such element: Unable to locate element: {\"method\":\"css selector\",\"selector\":\".prose\"}\n",
      "  (Session info: chrome=112.0.5615.137)\n",
      "Stacktrace:\n",
      "0   chromedriver                        0x000000010491ed3c chromedriver + 4222268\n",
      "1   chromedriver                        0x00000001048a58e8 chromedriver + 3725544\n",
      "2   chromedriver                        0x000000010455bda4 chromedriver + 277924\n",
      "3   chromedriver                        0x00000001045971b8 chromedriver + 520632\n",
      "4   chromedriver                        0x00000001045cf618 chromedriver + 751128\n",
      "5   chromedriver                        0x00000001045898f0 chromedriver + 465136\n",
      "6   chromedriver                        0x000000010458a974 chromedriver + 469364\n",
      "7   chromedriver                        0x00000001048ef788 chromedriver + 4028296\n",
      "8   chromedriver                        0x00000001048f3c1c chromedriver + 4045852\n",
      "9   chromedriver                        0x00000001048f9c98 chromedriver + 4070552\n",
      "10  chromedriver                        0x00000001048f48d8 chromedriver + 4049112\n",
      "11  chromedriver                        0x00000001048cbd84 chromedriver + 3882372\n",
      "12  chromedriver                        0x0000000104912720 chromedriver + 4171552\n",
      "13  chromedriver                        0x0000000104912878 chromedriver + 4171896\n",
      "14  chromedriver                        0x0000000104926014 chromedriver + 4251668\n",
      "15  libsystem_pthread.dylib             0x00000001a3d2606c _pthread_start + 148\n",
      "16  libsystem_pthread.dylib             0x00000001a3d20e2c thread_start + 8\n",
      "\n"
     ]
    },
    {
     "name": "stderr",
     "output_type": "stream",
     "text": [
      "  0%|          | 54/30819 [05:25<47:04:35,  5.51s/it]"
     ]
    },
    {
     "name": "stdout",
     "output_type": "stream",
     "text": [
      "Message: no such element: Unable to locate element: {\"method\":\"css selector\",\"selector\":\".prose\"}\n",
      "  (Session info: chrome=112.0.5615.137)\n",
      "Stacktrace:\n",
      "0   chromedriver                        0x000000010491ed3c chromedriver + 4222268\n",
      "1   chromedriver                        0x00000001048a58e8 chromedriver + 3725544\n",
      "2   chromedriver                        0x000000010455bda4 chromedriver + 277924\n",
      "3   chromedriver                        0x00000001045971b8 chromedriver + 520632\n",
      "4   chromedriver                        0x00000001045cf618 chromedriver + 751128\n",
      "5   chromedriver                        0x00000001045898f0 chromedriver + 465136\n",
      "6   chromedriver                        0x000000010458a974 chromedriver + 469364\n",
      "7   chromedriver                        0x00000001048ef788 chromedriver + 4028296\n",
      "8   chromedriver                        0x00000001048f3c1c chromedriver + 4045852\n",
      "9   chromedriver                        0x00000001048f9c98 chromedriver + 4070552\n",
      "10  chromedriver                        0x00000001048f48d8 chromedriver + 4049112\n",
      "11  chromedriver                        0x00000001048cbd84 chromedriver + 3882372\n",
      "12  chromedriver                        0x0000000104912720 chromedriver + 4171552\n",
      "13  chromedriver                        0x0000000104912878 chromedriver + 4171896\n",
      "14  chromedriver                        0x0000000104926014 chromedriver + 4251668\n",
      "15  libsystem_pthread.dylib             0x00000001a3d2606c _pthread_start + 148\n",
      "16  libsystem_pthread.dylib             0x00000001a3d20e2c thread_start + 8\n",
      "\n"
     ]
    },
    {
     "name": "stderr",
     "output_type": "stream",
     "text": [
      "  0%|          | 55/30819 [05:29<44:07:56,  5.16s/it]"
     ]
    },
    {
     "name": "stdout",
     "output_type": "stream",
     "text": [
      "Message: no such element: Unable to locate element: {\"method\":\"css selector\",\"selector\":\".prose\"}\n",
      "  (Session info: chrome=112.0.5615.137)\n",
      "Stacktrace:\n",
      "0   chromedriver                        0x000000010491ed3c chromedriver + 4222268\n",
      "1   chromedriver                        0x00000001048a58e8 chromedriver + 3725544\n",
      "2   chromedriver                        0x000000010455bda4 chromedriver + 277924\n",
      "3   chromedriver                        0x00000001045971b8 chromedriver + 520632\n",
      "4   chromedriver                        0x00000001045cf618 chromedriver + 751128\n",
      "5   chromedriver                        0x00000001045898f0 chromedriver + 465136\n",
      "6   chromedriver                        0x000000010458a974 chromedriver + 469364\n",
      "7   chromedriver                        0x00000001048ef788 chromedriver + 4028296\n",
      "8   chromedriver                        0x00000001048f3c1c chromedriver + 4045852\n",
      "9   chromedriver                        0x00000001048f9c98 chromedriver + 4070552\n",
      "10  chromedriver                        0x00000001048f48d8 chromedriver + 4049112\n",
      "11  chromedriver                        0x00000001048cbd84 chromedriver + 3882372\n",
      "12  chromedriver                        0x0000000104912720 chromedriver + 4171552\n",
      "13  chromedriver                        0x0000000104912878 chromedriver + 4171896\n",
      "14  chromedriver                        0x0000000104926014 chromedriver + 4251668\n",
      "15  libsystem_pthread.dylib             0x00000001a3d2606c _pthread_start + 148\n",
      "16  libsystem_pthread.dylib             0x00000001a3d20e2c thread_start + 8\n",
      "\n"
     ]
    },
    {
     "name": "stderr",
     "output_type": "stream",
     "text": [
      "  0%|          | 56/30819 [05:36<47:32:53,  5.56s/it]"
     ]
    },
    {
     "name": "stdout",
     "output_type": "stream",
     "text": [
      "Message: no such element: Unable to locate element: {\"method\":\"css selector\",\"selector\":\".prose\"}\n",
      "  (Session info: chrome=112.0.5615.137)\n",
      "Stacktrace:\n",
      "0   chromedriver                        0x000000010491ed3c chromedriver + 4222268\n",
      "1   chromedriver                        0x00000001048a58e8 chromedriver + 3725544\n",
      "2   chromedriver                        0x000000010455bda4 chromedriver + 277924\n",
      "3   chromedriver                        0x00000001045971b8 chromedriver + 520632\n",
      "4   chromedriver                        0x00000001045cf618 chromedriver + 751128\n",
      "5   chromedriver                        0x00000001045898f0 chromedriver + 465136\n",
      "6   chromedriver                        0x000000010458a974 chromedriver + 469364\n",
      "7   chromedriver                        0x00000001048ef788 chromedriver + 4028296\n",
      "8   chromedriver                        0x00000001048f3c1c chromedriver + 4045852\n",
      "9   chromedriver                        0x00000001048f9c98 chromedriver + 4070552\n",
      "10  chromedriver                        0x00000001048f48d8 chromedriver + 4049112\n",
      "11  chromedriver                        0x00000001048cbd84 chromedriver + 3882372\n",
      "12  chromedriver                        0x0000000104912720 chromedriver + 4171552\n",
      "13  chromedriver                        0x0000000104912878 chromedriver + 4171896\n",
      "14  chromedriver                        0x0000000104926014 chromedriver + 4251668\n",
      "15  libsystem_pthread.dylib             0x00000001a3d2606c _pthread_start + 148\n",
      "16  libsystem_pthread.dylib             0x00000001a3d20e2c thread_start + 8\n",
      "\n"
     ]
    },
    {
     "name": "stderr",
     "output_type": "stream",
     "text": [
      "  0%|          | 65/30819 [06:31<47:58:05,  5.62s/it]"
     ]
    },
    {
     "name": "stdout",
     "output_type": "stream",
     "text": [
      "Message: no such element: Unable to locate element: {\"method\":\"css selector\",\"selector\":\".prose\"}\n",
      "  (Session info: chrome=112.0.5615.137)\n",
      "Stacktrace:\n",
      "0   chromedriver                        0x000000010491ed3c chromedriver + 4222268\n",
      "1   chromedriver                        0x00000001048a58e8 chromedriver + 3725544\n",
      "2   chromedriver                        0x000000010455bda4 chromedriver + 277924\n",
      "3   chromedriver                        0x00000001045971b8 chromedriver + 520632\n",
      "4   chromedriver                        0x00000001045cf618 chromedriver + 751128\n",
      "5   chromedriver                        0x00000001045898f0 chromedriver + 465136\n",
      "6   chromedriver                        0x000000010458a974 chromedriver + 469364\n",
      "7   chromedriver                        0x00000001048ef788 chromedriver + 4028296\n",
      "8   chromedriver                        0x00000001048f3c1c chromedriver + 4045852\n",
      "9   chromedriver                        0x00000001048f9c98 chromedriver + 4070552\n",
      "10  chromedriver                        0x00000001048f48d8 chromedriver + 4049112\n",
      "11  chromedriver                        0x00000001048cbd84 chromedriver + 3882372\n",
      "12  chromedriver                        0x0000000104912720 chromedriver + 4171552\n",
      "13  chromedriver                        0x0000000104912878 chromedriver + 4171896\n",
      "14  chromedriver                        0x0000000104926014 chromedriver + 4251668\n",
      "15  libsystem_pthread.dylib             0x00000001a3d2606c _pthread_start + 148\n",
      "16  libsystem_pthread.dylib             0x00000001a3d20e2c thread_start + 8\n",
      "\n"
     ]
    },
    {
     "name": "stderr",
     "output_type": "stream",
     "text": [
      "  0%|          | 66/30819 [06:37<47:23:05,  5.55s/it]"
     ]
    },
    {
     "name": "stdout",
     "output_type": "stream",
     "text": [
      "Message: no such element: Unable to locate element: {\"method\":\"css selector\",\"selector\":\".prose\"}\n",
      "  (Session info: chrome=112.0.5615.137)\n",
      "Stacktrace:\n",
      "0   chromedriver                        0x000000010491ed3c chromedriver + 4222268\n",
      "1   chromedriver                        0x00000001048a58e8 chromedriver + 3725544\n",
      "2   chromedriver                        0x000000010455bda4 chromedriver + 277924\n",
      "3   chromedriver                        0x00000001045971b8 chromedriver + 520632\n",
      "4   chromedriver                        0x00000001045cf618 chromedriver + 751128\n",
      "5   chromedriver                        0x00000001045898f0 chromedriver + 465136\n",
      "6   chromedriver                        0x000000010458a974 chromedriver + 469364\n",
      "7   chromedriver                        0x00000001048ef788 chromedriver + 4028296\n",
      "8   chromedriver                        0x00000001048f3c1c chromedriver + 4045852\n",
      "9   chromedriver                        0x00000001048f9c98 chromedriver + 4070552\n",
      "10  chromedriver                        0x00000001048f48d8 chromedriver + 4049112\n",
      "11  chromedriver                        0x00000001048cbd84 chromedriver + 3882372\n",
      "12  chromedriver                        0x0000000104912720 chromedriver + 4171552\n",
      "13  chromedriver                        0x0000000104912878 chromedriver + 4171896\n",
      "14  chromedriver                        0x0000000104926014 chromedriver + 4251668\n",
      "15  libsystem_pthread.dylib             0x00000001a3d2606c _pthread_start + 148\n",
      "16  libsystem_pthread.dylib             0x00000001a3d20e2c thread_start + 8\n",
      "\n"
     ]
    },
    {
     "name": "stderr",
     "output_type": "stream",
     "text": [
      "  0%|          | 85/30819 [08:18<45:48:13,  5.37s/it]"
     ]
    },
    {
     "name": "stdout",
     "output_type": "stream",
     "text": [
      "Message: no such element: Unable to locate element: {\"method\":\"css selector\",\"selector\":\".prose\"}\n",
      "  (Session info: chrome=112.0.5615.137)\n",
      "Stacktrace:\n",
      "0   chromedriver                        0x000000010491ed3c chromedriver + 4222268\n",
      "1   chromedriver                        0x00000001048a58e8 chromedriver + 3725544\n",
      "2   chromedriver                        0x000000010455bda4 chromedriver + 277924\n",
      "3   chromedriver                        0x00000001045971b8 chromedriver + 520632\n",
      "4   chromedriver                        0x00000001045cf618 chromedriver + 751128\n",
      "5   chromedriver                        0x00000001045898f0 chromedriver + 465136\n",
      "6   chromedriver                        0x000000010458a974 chromedriver + 469364\n",
      "7   chromedriver                        0x00000001048ef788 chromedriver + 4028296\n",
      "8   chromedriver                        0x00000001048f3c1c chromedriver + 4045852\n",
      "9   chromedriver                        0x00000001048f9c98 chromedriver + 4070552\n",
      "10  chromedriver                        0x00000001048f48d8 chromedriver + 4049112\n",
      "11  chromedriver                        0x00000001048cbd84 chromedriver + 3882372\n",
      "12  chromedriver                        0x0000000104912720 chromedriver + 4171552\n",
      "13  chromedriver                        0x0000000104912878 chromedriver + 4171896\n",
      "14  chromedriver                        0x0000000104926014 chromedriver + 4251668\n",
      "15  libsystem_pthread.dylib             0x00000001a3d2606c _pthread_start + 148\n",
      "16  libsystem_pthread.dylib             0x00000001a3d20e2c thread_start + 8\n",
      "\n"
     ]
    },
    {
     "name": "stderr",
     "output_type": "stream",
     "text": [
      "  0%|          | 86/30819 [08:22<43:17:04,  5.07s/it]"
     ]
    },
    {
     "name": "stdout",
     "output_type": "stream",
     "text": [
      "Message: no such element: Unable to locate element: {\"method\":\"css selector\",\"selector\":\".prose\"}\n",
      "  (Session info: chrome=112.0.5615.137)\n",
      "Stacktrace:\n",
      "0   chromedriver                        0x000000010491ed3c chromedriver + 4222268\n",
      "1   chromedriver                        0x00000001048a58e8 chromedriver + 3725544\n",
      "2   chromedriver                        0x000000010455bda4 chromedriver + 277924\n",
      "3   chromedriver                        0x00000001045971b8 chromedriver + 520632\n",
      "4   chromedriver                        0x00000001045cf618 chromedriver + 751128\n",
      "5   chromedriver                        0x00000001045898f0 chromedriver + 465136\n",
      "6   chromedriver                        0x000000010458a974 chromedriver + 469364\n",
      "7   chromedriver                        0x00000001048ef788 chromedriver + 4028296\n",
      "8   chromedriver                        0x00000001048f3c1c chromedriver + 4045852\n",
      "9   chromedriver                        0x00000001048f9c98 chromedriver + 4070552\n",
      "10  chromedriver                        0x00000001048f48d8 chromedriver + 4049112\n",
      "11  chromedriver                        0x00000001048cbd84 chromedriver + 3882372\n",
      "12  chromedriver                        0x0000000104912720 chromedriver + 4171552\n",
      "13  chromedriver                        0x0000000104912878 chromedriver + 4171896\n",
      "14  chromedriver                        0x0000000104926014 chromedriver + 4251668\n",
      "15  libsystem_pthread.dylib             0x00000001a3d2606c _pthread_start + 148\n",
      "16  libsystem_pthread.dylib             0x00000001a3d20e2c thread_start + 8\n",
      "\n"
     ]
    },
    {
     "name": "stderr",
     "output_type": "stream",
     "text": [
      "  0%|          | 87/30819 [08:28<44:02:45,  5.16s/it]"
     ]
    },
    {
     "name": "stdout",
     "output_type": "stream",
     "text": [
      "Message: no such element: Unable to locate element: {\"method\":\"css selector\",\"selector\":\".prose\"}\n",
      "  (Session info: chrome=112.0.5615.137)\n",
      "Stacktrace:\n",
      "0   chromedriver                        0x000000010491ed3c chromedriver + 4222268\n",
      "1   chromedriver                        0x00000001048a58e8 chromedriver + 3725544\n",
      "2   chromedriver                        0x000000010455bda4 chromedriver + 277924\n",
      "3   chromedriver                        0x00000001045971b8 chromedriver + 520632\n",
      "4   chromedriver                        0x00000001045cf618 chromedriver + 751128\n",
      "5   chromedriver                        0x00000001045898f0 chromedriver + 465136\n",
      "6   chromedriver                        0x000000010458a974 chromedriver + 469364\n",
      "7   chromedriver                        0x00000001048ef788 chromedriver + 4028296\n",
      "8   chromedriver                        0x00000001048f3c1c chromedriver + 4045852\n",
      "9   chromedriver                        0x00000001048f9c98 chromedriver + 4070552\n",
      "10  chromedriver                        0x00000001048f48d8 chromedriver + 4049112\n",
      "11  chromedriver                        0x00000001048cbd84 chromedriver + 3882372\n",
      "12  chromedriver                        0x0000000104912720 chromedriver + 4171552\n",
      "13  chromedriver                        0x0000000104912878 chromedriver + 4171896\n",
      "14  chromedriver                        0x0000000104926014 chromedriver + 4251668\n",
      "15  libsystem_pthread.dylib             0x00000001a3d2606c _pthread_start + 148\n",
      "16  libsystem_pthread.dylib             0x00000001a3d20e2c thread_start + 8\n",
      "\n"
     ]
    },
    {
     "name": "stderr",
     "output_type": "stream",
     "text": [
      "  0%|          | 88/30819 [08:34<46:57:12,  5.50s/it]"
     ]
    },
    {
     "name": "stdout",
     "output_type": "stream",
     "text": [
      "Message: no such element: Unable to locate element: {\"method\":\"css selector\",\"selector\":\".prose\"}\n",
      "  (Session info: chrome=112.0.5615.137)\n",
      "Stacktrace:\n",
      "0   chromedriver                        0x000000010491ed3c chromedriver + 4222268\n",
      "1   chromedriver                        0x00000001048a58e8 chromedriver + 3725544\n",
      "2   chromedriver                        0x000000010455bda4 chromedriver + 277924\n",
      "3   chromedriver                        0x00000001045971b8 chromedriver + 520632\n",
      "4   chromedriver                        0x00000001045cf618 chromedriver + 751128\n",
      "5   chromedriver                        0x00000001045898f0 chromedriver + 465136\n",
      "6   chromedriver                        0x000000010458a974 chromedriver + 469364\n",
      "7   chromedriver                        0x00000001048ef788 chromedriver + 4028296\n",
      "8   chromedriver                        0x00000001048f3c1c chromedriver + 4045852\n",
      "9   chromedriver                        0x00000001048f9c98 chromedriver + 4070552\n",
      "10  chromedriver                        0x00000001048f48d8 chromedriver + 4049112\n",
      "11  chromedriver                        0x00000001048cbd84 chromedriver + 3882372\n",
      "12  chromedriver                        0x0000000104912720 chromedriver + 4171552\n",
      "13  chromedriver                        0x0000000104912878 chromedriver + 4171896\n",
      "14  chromedriver                        0x0000000104926014 chromedriver + 4251668\n",
      "15  libsystem_pthread.dylib             0x00000001a3d2606c _pthread_start + 148\n",
      "16  libsystem_pthread.dylib             0x00000001a3d20e2c thread_start + 8\n",
      "\n"
     ]
    },
    {
     "name": "stderr",
     "output_type": "stream",
     "text": [
      "  0%|          | 94/30819 [09:09<48:42:01,  5.71s/it]"
     ]
    },
    {
     "name": "stdout",
     "output_type": "stream",
     "text": [
      "Message: no such element: Unable to locate element: {\"method\":\"css selector\",\"selector\":\".prose\"}\n",
      "  (Session info: chrome=112.0.5615.137)\n",
      "Stacktrace:\n",
      "0   chromedriver                        0x000000010491ed3c chromedriver + 4222268\n",
      "1   chromedriver                        0x00000001048a58e8 chromedriver + 3725544\n",
      "2   chromedriver                        0x000000010455bda4 chromedriver + 277924\n",
      "3   chromedriver                        0x00000001045971b8 chromedriver + 520632\n",
      "4   chromedriver                        0x00000001045cf618 chromedriver + 751128\n",
      "5   chromedriver                        0x00000001045898f0 chromedriver + 465136\n",
      "6   chromedriver                        0x000000010458a974 chromedriver + 469364\n",
      "7   chromedriver                        0x00000001048ef788 chromedriver + 4028296\n",
      "8   chromedriver                        0x00000001048f3c1c chromedriver + 4045852\n",
      "9   chromedriver                        0x00000001048f9c98 chromedriver + 4070552\n",
      "10  chromedriver                        0x00000001048f48d8 chromedriver + 4049112\n",
      "11  chromedriver                        0x00000001048cbd84 chromedriver + 3882372\n",
      "12  chromedriver                        0x0000000104912720 chromedriver + 4171552\n",
      "13  chromedriver                        0x0000000104912878 chromedriver + 4171896\n",
      "14  chromedriver                        0x0000000104926014 chromedriver + 4251668\n",
      "15  libsystem_pthread.dylib             0x00000001a3d2606c _pthread_start + 148\n",
      "16  libsystem_pthread.dylib             0x00000001a3d20e2c thread_start + 8\n",
      "\n"
     ]
    },
    {
     "name": "stderr",
     "output_type": "stream",
     "text": [
      "  0%|          | 95/30819 [09:13<45:06:37,  5.29s/it]"
     ]
    },
    {
     "name": "stdout",
     "output_type": "stream",
     "text": [
      "Message: no such element: Unable to locate element: {\"method\":\"css selector\",\"selector\":\".prose\"}\n",
      "  (Session info: chrome=112.0.5615.137)\n",
      "Stacktrace:\n",
      "0   chromedriver                        0x000000010491ed3c chromedriver + 4222268\n",
      "1   chromedriver                        0x00000001048a58e8 chromedriver + 3725544\n",
      "2   chromedriver                        0x000000010455bda4 chromedriver + 277924\n",
      "3   chromedriver                        0x00000001045971b8 chromedriver + 520632\n",
      "4   chromedriver                        0x00000001045cf618 chromedriver + 751128\n",
      "5   chromedriver                        0x00000001045898f0 chromedriver + 465136\n",
      "6   chromedriver                        0x000000010458a974 chromedriver + 469364\n",
      "7   chromedriver                        0x00000001048ef788 chromedriver + 4028296\n",
      "8   chromedriver                        0x00000001048f3c1c chromedriver + 4045852\n",
      "9   chromedriver                        0x00000001048f9c98 chromedriver + 4070552\n",
      "10  chromedriver                        0x00000001048f48d8 chromedriver + 4049112\n",
      "11  chromedriver                        0x00000001048cbd84 chromedriver + 3882372\n",
      "12  chromedriver                        0x0000000104912720 chromedriver + 4171552\n",
      "13  chromedriver                        0x0000000104912878 chromedriver + 4171896\n",
      "14  chromedriver                        0x0000000104926014 chromedriver + 4251668\n",
      "15  libsystem_pthread.dylib             0x00000001a3d2606c _pthread_start + 148\n",
      "16  libsystem_pthread.dylib             0x00000001a3d20e2c thread_start + 8\n",
      "\n"
     ]
    },
    {
     "name": "stderr",
     "output_type": "stream",
     "text": [
      "  0%|          | 96/30819 [09:19<47:41:43,  5.59s/it]"
     ]
    },
    {
     "name": "stdout",
     "output_type": "stream",
     "text": [
      "Message: no such element: Unable to locate element: {\"method\":\"css selector\",\"selector\":\".prose\"}\n",
      "  (Session info: chrome=112.0.5615.137)\n",
      "Stacktrace:\n",
      "0   chromedriver                        0x000000010491ed3c chromedriver + 4222268\n",
      "1   chromedriver                        0x00000001048a58e8 chromedriver + 3725544\n",
      "2   chromedriver                        0x000000010455bda4 chromedriver + 277924\n",
      "3   chromedriver                        0x00000001045971b8 chromedriver + 520632\n",
      "4   chromedriver                        0x00000001045cf618 chromedriver + 751128\n",
      "5   chromedriver                        0x00000001045898f0 chromedriver + 465136\n",
      "6   chromedriver                        0x000000010458a974 chromedriver + 469364\n",
      "7   chromedriver                        0x00000001048ef788 chromedriver + 4028296\n",
      "8   chromedriver                        0x00000001048f3c1c chromedriver + 4045852\n",
      "9   chromedriver                        0x00000001048f9c98 chromedriver + 4070552\n",
      "10  chromedriver                        0x00000001048f48d8 chromedriver + 4049112\n",
      "11  chromedriver                        0x00000001048cbd84 chromedriver + 3882372\n",
      "12  chromedriver                        0x0000000104912720 chromedriver + 4171552\n",
      "13  chromedriver                        0x0000000104912878 chromedriver + 4171896\n",
      "14  chromedriver                        0x0000000104926014 chromedriver + 4251668\n",
      "15  libsystem_pthread.dylib             0x00000001a3d2606c _pthread_start + 148\n",
      "16  libsystem_pthread.dylib             0x00000001a3d20e2c thread_start + 8\n",
      "\n"
     ]
    },
    {
     "name": "stderr",
     "output_type": "stream",
     "text": [
      "  0%|          | 97/30819 [09:26<49:22:44,  5.79s/it]"
     ]
    },
    {
     "name": "stdout",
     "output_type": "stream",
     "text": [
      "Message: no such element: Unable to locate element: {\"method\":\"css selector\",\"selector\":\".prose\"}\n",
      "  (Session info: chrome=112.0.5615.137)\n",
      "Stacktrace:\n",
      "0   chromedriver                        0x000000010491ed3c chromedriver + 4222268\n",
      "1   chromedriver                        0x00000001048a58e8 chromedriver + 3725544\n",
      "2   chromedriver                        0x000000010455bda4 chromedriver + 277924\n",
      "3   chromedriver                        0x00000001045971b8 chromedriver + 520632\n",
      "4   chromedriver                        0x00000001045cf618 chromedriver + 751128\n",
      "5   chromedriver                        0x00000001045898f0 chromedriver + 465136\n",
      "6   chromedriver                        0x000000010458a974 chromedriver + 469364\n",
      "7   chromedriver                        0x00000001048ef788 chromedriver + 4028296\n",
      "8   chromedriver                        0x00000001048f3c1c chromedriver + 4045852\n",
      "9   chromedriver                        0x00000001048f9c98 chromedriver + 4070552\n",
      "10  chromedriver                        0x00000001048f48d8 chromedriver + 4049112\n",
      "11  chromedriver                        0x00000001048cbd84 chromedriver + 3882372\n",
      "12  chromedriver                        0x0000000104912720 chromedriver + 4171552\n",
      "13  chromedriver                        0x0000000104912878 chromedriver + 4171896\n",
      "14  chromedriver                        0x0000000104926014 chromedriver + 4251668\n",
      "15  libsystem_pthread.dylib             0x00000001a3d2606c _pthread_start + 148\n",
      "16  libsystem_pthread.dylib             0x00000001a3d20e2c thread_start + 8\n",
      "\n"
     ]
    },
    {
     "name": "stderr",
     "output_type": "stream",
     "text": [
      "  0%|          | 98/30819 [09:31<47:59:37,  5.62s/it]"
     ]
    },
    {
     "name": "stdout",
     "output_type": "stream",
     "text": [
      "Message: no such element: Unable to locate element: {\"method\":\"css selector\",\"selector\":\".prose\"}\n",
      "  (Session info: chrome=112.0.5615.137)\n",
      "Stacktrace:\n",
      "0   chromedriver                        0x000000010491ed3c chromedriver + 4222268\n",
      "1   chromedriver                        0x00000001048a58e8 chromedriver + 3725544\n",
      "2   chromedriver                        0x000000010455bda4 chromedriver + 277924\n",
      "3   chromedriver                        0x00000001045971b8 chromedriver + 520632\n",
      "4   chromedriver                        0x00000001045cf618 chromedriver + 751128\n",
      "5   chromedriver                        0x00000001045898f0 chromedriver + 465136\n",
      "6   chromedriver                        0x000000010458a974 chromedriver + 469364\n",
      "7   chromedriver                        0x00000001048ef788 chromedriver + 4028296\n",
      "8   chromedriver                        0x00000001048f3c1c chromedriver + 4045852\n",
      "9   chromedriver                        0x00000001048f9c98 chromedriver + 4070552\n",
      "10  chromedriver                        0x00000001048f48d8 chromedriver + 4049112\n",
      "11  chromedriver                        0x00000001048cbd84 chromedriver + 3882372\n",
      "12  chromedriver                        0x0000000104912720 chromedriver + 4171552\n",
      "13  chromedriver                        0x0000000104912878 chromedriver + 4171896\n",
      "14  chromedriver                        0x0000000104926014 chromedriver + 4251668\n",
      "15  libsystem_pthread.dylib             0x00000001a3d2606c _pthread_start + 148\n",
      "16  libsystem_pthread.dylib             0x00000001a3d20e2c thread_start + 8\n",
      "\n"
     ]
    },
    {
     "name": "stderr",
     "output_type": "stream",
     "text": [
      "  0%|          | 99/30819 [09:37<49:42:28,  5.83s/it]"
     ]
    },
    {
     "name": "stdout",
     "output_type": "stream",
     "text": [
      "Message: no such element: Unable to locate element: {\"method\":\"css selector\",\"selector\":\".prose\"}\n",
      "  (Session info: chrome=112.0.5615.137)\n",
      "Stacktrace:\n",
      "0   chromedriver                        0x000000010491ed3c chromedriver + 4222268\n",
      "1   chromedriver                        0x00000001048a58e8 chromedriver + 3725544\n",
      "2   chromedriver                        0x000000010455bda4 chromedriver + 277924\n",
      "3   chromedriver                        0x00000001045971b8 chromedriver + 520632\n",
      "4   chromedriver                        0x00000001045cf618 chromedriver + 751128\n",
      "5   chromedriver                        0x00000001045898f0 chromedriver + 465136\n",
      "6   chromedriver                        0x000000010458a974 chromedriver + 469364\n",
      "7   chromedriver                        0x00000001048ef788 chromedriver + 4028296\n",
      "8   chromedriver                        0x00000001048f3c1c chromedriver + 4045852\n",
      "9   chromedriver                        0x00000001048f9c98 chromedriver + 4070552\n",
      "10  chromedriver                        0x00000001048f48d8 chromedriver + 4049112\n",
      "11  chromedriver                        0x00000001048cbd84 chromedriver + 3882372\n",
      "12  chromedriver                        0x0000000104912720 chromedriver + 4171552\n",
      "13  chromedriver                        0x0000000104912878 chromedriver + 4171896\n",
      "14  chromedriver                        0x0000000104926014 chromedriver + 4251668\n",
      "15  libsystem_pthread.dylib             0x00000001a3d2606c _pthread_start + 148\n",
      "16  libsystem_pthread.dylib             0x00000001a3d20e2c thread_start + 8\n",
      "\n"
     ]
    },
    {
     "name": "stderr",
     "output_type": "stream",
     "text": [
      "  0%|          | 100/30819 [09:42<48:20:20,  5.66s/it]"
     ]
    },
    {
     "name": "stdout",
     "output_type": "stream",
     "text": [
      "Message: no such element: Unable to locate element: {\"method\":\"css selector\",\"selector\":\".prose\"}\n",
      "  (Session info: chrome=112.0.5615.137)\n",
      "Stacktrace:\n",
      "0   chromedriver                        0x000000010491ed3c chromedriver + 4222268\n",
      "1   chromedriver                        0x00000001048a58e8 chromedriver + 3725544\n",
      "2   chromedriver                        0x000000010455bda4 chromedriver + 277924\n",
      "3   chromedriver                        0x00000001045971b8 chromedriver + 520632\n",
      "4   chromedriver                        0x00000001045cf618 chromedriver + 751128\n",
      "5   chromedriver                        0x00000001045898f0 chromedriver + 465136\n",
      "6   chromedriver                        0x000000010458a974 chromedriver + 469364\n",
      "7   chromedriver                        0x00000001048ef788 chromedriver + 4028296\n",
      "8   chromedriver                        0x00000001048f3c1c chromedriver + 4045852\n",
      "9   chromedriver                        0x00000001048f9c98 chromedriver + 4070552\n",
      "10  chromedriver                        0x00000001048f48d8 chromedriver + 4049112\n",
      "11  chromedriver                        0x00000001048cbd84 chromedriver + 3882372\n",
      "12  chromedriver                        0x0000000104912720 chromedriver + 4171552\n",
      "13  chromedriver                        0x0000000104912878 chromedriver + 4171896\n",
      "14  chromedriver                        0x0000000104926014 chromedriver + 4251668\n",
      "15  libsystem_pthread.dylib             0x00000001a3d2606c _pthread_start + 148\n",
      "16  libsystem_pthread.dylib             0x00000001a3d20e2c thread_start + 8\n",
      "\n"
     ]
    },
    {
     "name": "stderr",
     "output_type": "stream",
     "text": [
      "  0%|          | 101/30819 [09:48<47:37:47,  5.58s/it]"
     ]
    },
    {
     "name": "stdout",
     "output_type": "stream",
     "text": [
      "Message: no such element: Unable to locate element: {\"method\":\"css selector\",\"selector\":\".prose\"}\n",
      "  (Session info: chrome=112.0.5615.137)\n",
      "Stacktrace:\n",
      "0   chromedriver                        0x000000010491ed3c chromedriver + 4222268\n",
      "1   chromedriver                        0x00000001048a58e8 chromedriver + 3725544\n",
      "2   chromedriver                        0x000000010455bda4 chromedriver + 277924\n",
      "3   chromedriver                        0x00000001045971b8 chromedriver + 520632\n",
      "4   chromedriver                        0x00000001045cf618 chromedriver + 751128\n",
      "5   chromedriver                        0x00000001045898f0 chromedriver + 465136\n",
      "6   chromedriver                        0x000000010458a974 chromedriver + 469364\n",
      "7   chromedriver                        0x00000001048ef788 chromedriver + 4028296\n",
      "8   chromedriver                        0x00000001048f3c1c chromedriver + 4045852\n",
      "9   chromedriver                        0x00000001048f9c98 chromedriver + 4070552\n",
      "10  chromedriver                        0x00000001048f48d8 chromedriver + 4049112\n",
      "11  chromedriver                        0x00000001048cbd84 chromedriver + 3882372\n",
      "12  chromedriver                        0x0000000104912720 chromedriver + 4171552\n",
      "13  chromedriver                        0x0000000104912878 chromedriver + 4171896\n",
      "14  chromedriver                        0x0000000104926014 chromedriver + 4251668\n",
      "15  libsystem_pthread.dylib             0x00000001a3d2606c _pthread_start + 148\n",
      "16  libsystem_pthread.dylib             0x00000001a3d20e2c thread_start + 8\n",
      "\n"
     ]
    },
    {
     "name": "stderr",
     "output_type": "stream",
     "text": [
      "  0%|          | 102/30819 [09:54<50:27:12,  5.91s/it]"
     ]
    },
    {
     "name": "stdout",
     "output_type": "stream",
     "text": [
      "Message: no such element: Unable to locate element: {\"method\":\"css selector\",\"selector\":\".prose\"}\n",
      "  (Session info: chrome=112.0.5615.137)\n",
      "Stacktrace:\n",
      "0   chromedriver                        0x000000010491ed3c chromedriver + 4222268\n",
      "1   chromedriver                        0x00000001048a58e8 chromedriver + 3725544\n",
      "2   chromedriver                        0x000000010455bda4 chromedriver + 277924\n",
      "3   chromedriver                        0x00000001045971b8 chromedriver + 520632\n",
      "4   chromedriver                        0x00000001045cf618 chromedriver + 751128\n",
      "5   chromedriver                        0x00000001045898f0 chromedriver + 465136\n",
      "6   chromedriver                        0x000000010458a974 chromedriver + 469364\n",
      "7   chromedriver                        0x00000001048ef788 chromedriver + 4028296\n",
      "8   chromedriver                        0x00000001048f3c1c chromedriver + 4045852\n",
      "9   chromedriver                        0x00000001048f9c98 chromedriver + 4070552\n",
      "10  chromedriver                        0x00000001048f48d8 chromedriver + 4049112\n",
      "11  chromedriver                        0x00000001048cbd84 chromedriver + 3882372\n",
      "12  chromedriver                        0x0000000104912720 chromedriver + 4171552\n",
      "13  chromedriver                        0x0000000104912878 chromedriver + 4171896\n",
      "14  chromedriver                        0x0000000104926014 chromedriver + 4251668\n",
      "15  libsystem_pthread.dylib             0x00000001a3d2606c _pthread_start + 148\n",
      "16  libsystem_pthread.dylib             0x00000001a3d20e2c thread_start + 8\n",
      "\n"
     ]
    },
    {
     "name": "stderr",
     "output_type": "stream",
     "text": [
      "  0%|          | 103/30819 [10:01<51:24:40,  6.03s/it]"
     ]
    },
    {
     "name": "stdout",
     "output_type": "stream",
     "text": [
      "Message: no such element: Unable to locate element: {\"method\":\"css selector\",\"selector\":\".prose\"}\n",
      "  (Session info: chrome=112.0.5615.137)\n",
      "Stacktrace:\n",
      "0   chromedriver                        0x000000010491ed3c chromedriver + 4222268\n",
      "1   chromedriver                        0x00000001048a58e8 chromedriver + 3725544\n",
      "2   chromedriver                        0x000000010455bda4 chromedriver + 277924\n",
      "3   chromedriver                        0x00000001045971b8 chromedriver + 520632\n",
      "4   chromedriver                        0x00000001045cf618 chromedriver + 751128\n",
      "5   chromedriver                        0x00000001045898f0 chromedriver + 465136\n",
      "6   chromedriver                        0x000000010458a974 chromedriver + 469364\n",
      "7   chromedriver                        0x00000001048ef788 chromedriver + 4028296\n",
      "8   chromedriver                        0x00000001048f3c1c chromedriver + 4045852\n",
      "9   chromedriver                        0x00000001048f9c98 chromedriver + 4070552\n",
      "10  chromedriver                        0x00000001048f48d8 chromedriver + 4049112\n",
      "11  chromedriver                        0x00000001048cbd84 chromedriver + 3882372\n",
      "12  chromedriver                        0x0000000104912720 chromedriver + 4171552\n",
      "13  chromedriver                        0x0000000104912878 chromedriver + 4171896\n",
      "14  chromedriver                        0x0000000104926014 chromedriver + 4251668\n",
      "15  libsystem_pthread.dylib             0x00000001a3d2606c _pthread_start + 148\n",
      "16  libsystem_pthread.dylib             0x00000001a3d20e2c thread_start + 8\n",
      "\n"
     ]
    },
    {
     "name": "stderr",
     "output_type": "stream",
     "text": [
      "  0%|          | 104/30819 [10:05<46:58:22,  5.51s/it]"
     ]
    },
    {
     "name": "stdout",
     "output_type": "stream",
     "text": [
      "Message: no such element: Unable to locate element: {\"method\":\"css selector\",\"selector\":\".prose\"}\n",
      "  (Session info: chrome=112.0.5615.137)\n",
      "Stacktrace:\n",
      "0   chromedriver                        0x000000010491ed3c chromedriver + 4222268\n",
      "1   chromedriver                        0x00000001048a58e8 chromedriver + 3725544\n",
      "2   chromedriver                        0x000000010455bda4 chromedriver + 277924\n",
      "3   chromedriver                        0x00000001045971b8 chromedriver + 520632\n",
      "4   chromedriver                        0x00000001045cf618 chromedriver + 751128\n",
      "5   chromedriver                        0x00000001045898f0 chromedriver + 465136\n",
      "6   chromedriver                        0x000000010458a974 chromedriver + 469364\n",
      "7   chromedriver                        0x00000001048ef788 chromedriver + 4028296\n",
      "8   chromedriver                        0x00000001048f3c1c chromedriver + 4045852\n",
      "9   chromedriver                        0x00000001048f9c98 chromedriver + 4070552\n",
      "10  chromedriver                        0x00000001048f48d8 chromedriver + 4049112\n",
      "11  chromedriver                        0x00000001048cbd84 chromedriver + 3882372\n",
      "12  chromedriver                        0x0000000104912720 chromedriver + 4171552\n",
      "13  chromedriver                        0x0000000104912878 chromedriver + 4171896\n",
      "14  chromedriver                        0x0000000104926014 chromedriver + 4251668\n",
      "15  libsystem_pthread.dylib             0x00000001a3d2606c _pthread_start + 148\n",
      "16  libsystem_pthread.dylib             0x00000001a3d20e2c thread_start + 8\n",
      "\n"
     ]
    },
    {
     "name": "stderr",
     "output_type": "stream",
     "text": [
      "  0%|          | 105/30819 [10:10<46:45:07,  5.48s/it]"
     ]
    },
    {
     "name": "stdout",
     "output_type": "stream",
     "text": [
      "Message: no such element: Unable to locate element: {\"method\":\"css selector\",\"selector\":\".prose\"}\n",
      "  (Session info: chrome=112.0.5615.137)\n",
      "Stacktrace:\n",
      "0   chromedriver                        0x000000010491ed3c chromedriver + 4222268\n",
      "1   chromedriver                        0x00000001048a58e8 chromedriver + 3725544\n",
      "2   chromedriver                        0x000000010455bda4 chromedriver + 277924\n",
      "3   chromedriver                        0x00000001045971b8 chromedriver + 520632\n",
      "4   chromedriver                        0x00000001045cf618 chromedriver + 751128\n",
      "5   chromedriver                        0x00000001045898f0 chromedriver + 465136\n",
      "6   chromedriver                        0x000000010458a974 chromedriver + 469364\n",
      "7   chromedriver                        0x00000001048ef788 chromedriver + 4028296\n",
      "8   chromedriver                        0x00000001048f3c1c chromedriver + 4045852\n",
      "9   chromedriver                        0x00000001048f9c98 chromedriver + 4070552\n",
      "10  chromedriver                        0x00000001048f48d8 chromedriver + 4049112\n",
      "11  chromedriver                        0x00000001048cbd84 chromedriver + 3882372\n",
      "12  chromedriver                        0x0000000104912720 chromedriver + 4171552\n",
      "13  chromedriver                        0x0000000104912878 chromedriver + 4171896\n",
      "14  chromedriver                        0x0000000104926014 chromedriver + 4251668\n",
      "15  libsystem_pthread.dylib             0x00000001a3d2606c _pthread_start + 148\n",
      "16  libsystem_pthread.dylib             0x00000001a3d20e2c thread_start + 8\n",
      "\n"
     ]
    },
    {
     "name": "stderr",
     "output_type": "stream",
     "text": [
      "  0%|          | 106/30819 [10:17<49:10:18,  5.76s/it]"
     ]
    },
    {
     "name": "stdout",
     "output_type": "stream",
     "text": [
      "Message: no such element: Unable to locate element: {\"method\":\"css selector\",\"selector\":\".prose\"}\n",
      "  (Session info: chrome=112.0.5615.137)\n",
      "Stacktrace:\n",
      "0   chromedriver                        0x000000010491ed3c chromedriver + 4222268\n",
      "1   chromedriver                        0x00000001048a58e8 chromedriver + 3725544\n",
      "2   chromedriver                        0x000000010455bda4 chromedriver + 277924\n",
      "3   chromedriver                        0x00000001045971b8 chromedriver + 520632\n",
      "4   chromedriver                        0x00000001045cf618 chromedriver + 751128\n",
      "5   chromedriver                        0x00000001045898f0 chromedriver + 465136\n",
      "6   chromedriver                        0x000000010458a974 chromedriver + 469364\n",
      "7   chromedriver                        0x00000001048ef788 chromedriver + 4028296\n",
      "8   chromedriver                        0x00000001048f3c1c chromedriver + 4045852\n",
      "9   chromedriver                        0x00000001048f9c98 chromedriver + 4070552\n",
      "10  chromedriver                        0x00000001048f48d8 chromedriver + 4049112\n",
      "11  chromedriver                        0x00000001048cbd84 chromedriver + 3882372\n",
      "12  chromedriver                        0x0000000104912720 chromedriver + 4171552\n",
      "13  chromedriver                        0x0000000104912878 chromedriver + 4171896\n",
      "14  chromedriver                        0x0000000104926014 chromedriver + 4251668\n",
      "15  libsystem_pthread.dylib             0x00000001a3d2606c _pthread_start + 148\n",
      "16  libsystem_pthread.dylib             0x00000001a3d20e2c thread_start + 8\n",
      "\n"
     ]
    },
    {
     "name": "stderr",
     "output_type": "stream",
     "text": [
      "  0%|          | 107/30819 [10:23<50:38:27,  5.94s/it]"
     ]
    },
    {
     "name": "stdout",
     "output_type": "stream",
     "text": [
      "Message: no such element: Unable to locate element: {\"method\":\"css selector\",\"selector\":\".prose\"}\n",
      "  (Session info: chrome=112.0.5615.137)\n",
      "Stacktrace:\n",
      "0   chromedriver                        0x000000010491ed3c chromedriver + 4222268\n",
      "1   chromedriver                        0x00000001048a58e8 chromedriver + 3725544\n",
      "2   chromedriver                        0x000000010455bda4 chromedriver + 277924\n",
      "3   chromedriver                        0x00000001045971b8 chromedriver + 520632\n",
      "4   chromedriver                        0x00000001045cf618 chromedriver + 751128\n",
      "5   chromedriver                        0x00000001045898f0 chromedriver + 465136\n",
      "6   chromedriver                        0x000000010458a974 chromedriver + 469364\n",
      "7   chromedriver                        0x00000001048ef788 chromedriver + 4028296\n",
      "8   chromedriver                        0x00000001048f3c1c chromedriver + 4045852\n",
      "9   chromedriver                        0x00000001048f9c98 chromedriver + 4070552\n",
      "10  chromedriver                        0x00000001048f48d8 chromedriver + 4049112\n",
      "11  chromedriver                        0x00000001048cbd84 chromedriver + 3882372\n",
      "12  chromedriver                        0x0000000104912720 chromedriver + 4171552\n",
      "13  chromedriver                        0x0000000104912878 chromedriver + 4171896\n",
      "14  chromedriver                        0x0000000104926014 chromedriver + 4251668\n",
      "15  libsystem_pthread.dylib             0x00000001a3d2606c _pthread_start + 148\n",
      "16  libsystem_pthread.dylib             0x00000001a3d20e2c thread_start + 8\n",
      "\n"
     ]
    },
    {
     "name": "stderr",
     "output_type": "stream",
     "text": [
      "  0%|          | 108/30819 [10:28<46:29:45,  5.45s/it]"
     ]
    },
    {
     "name": "stdout",
     "output_type": "stream",
     "text": [
      "Message: no such element: Unable to locate element: {\"method\":\"css selector\",\"selector\":\".prose\"}\n",
      "  (Session info: chrome=112.0.5615.137)\n",
      "Stacktrace:\n",
      "0   chromedriver                        0x000000010491ed3c chromedriver + 4222268\n",
      "1   chromedriver                        0x00000001048a58e8 chromedriver + 3725544\n",
      "2   chromedriver                        0x000000010455bda4 chromedriver + 277924\n",
      "3   chromedriver                        0x00000001045971b8 chromedriver + 520632\n",
      "4   chromedriver                        0x00000001045cf618 chromedriver + 751128\n",
      "5   chromedriver                        0x00000001045898f0 chromedriver + 465136\n",
      "6   chromedriver                        0x000000010458a974 chromedriver + 469364\n",
      "7   chromedriver                        0x00000001048ef788 chromedriver + 4028296\n",
      "8   chromedriver                        0x00000001048f3c1c chromedriver + 4045852\n",
      "9   chromedriver                        0x00000001048f9c98 chromedriver + 4070552\n",
      "10  chromedriver                        0x00000001048f48d8 chromedriver + 4049112\n",
      "11  chromedriver                        0x00000001048cbd84 chromedriver + 3882372\n",
      "12  chromedriver                        0x0000000104912720 chromedriver + 4171552\n",
      "13  chromedriver                        0x0000000104912878 chromedriver + 4171896\n",
      "14  chromedriver                        0x0000000104926014 chromedriver + 4251668\n",
      "15  libsystem_pthread.dylib             0x00000001a3d2606c _pthread_start + 148\n",
      "16  libsystem_pthread.dylib             0x00000001a3d20e2c thread_start + 8\n",
      "\n"
     ]
    },
    {
     "name": "stderr",
     "output_type": "stream",
     "text": [
      "  0%|          | 109/30819 [10:33<46:31:59,  5.45s/it]"
     ]
    },
    {
     "name": "stdout",
     "output_type": "stream",
     "text": [
      "Message: no such element: Unable to locate element: {\"method\":\"css selector\",\"selector\":\".prose\"}\n",
      "  (Session info: chrome=112.0.5615.137)\n",
      "Stacktrace:\n",
      "0   chromedriver                        0x000000010491ed3c chromedriver + 4222268\n",
      "1   chromedriver                        0x00000001048a58e8 chromedriver + 3725544\n",
      "2   chromedriver                        0x000000010455bda4 chromedriver + 277924\n",
      "3   chromedriver                        0x00000001045971b8 chromedriver + 520632\n",
      "4   chromedriver                        0x00000001045cf618 chromedriver + 751128\n",
      "5   chromedriver                        0x00000001045898f0 chromedriver + 465136\n",
      "6   chromedriver                        0x000000010458a974 chromedriver + 469364\n",
      "7   chromedriver                        0x00000001048ef788 chromedriver + 4028296\n",
      "8   chromedriver                        0x00000001048f3c1c chromedriver + 4045852\n",
      "9   chromedriver                        0x00000001048f9c98 chromedriver + 4070552\n",
      "10  chromedriver                        0x00000001048f48d8 chromedriver + 4049112\n",
      "11  chromedriver                        0x00000001048cbd84 chromedriver + 3882372\n",
      "12  chromedriver                        0x0000000104912720 chromedriver + 4171552\n",
      "13  chromedriver                        0x0000000104912878 chromedriver + 4171896\n",
      "14  chromedriver                        0x0000000104926014 chromedriver + 4251668\n",
      "15  libsystem_pthread.dylib             0x00000001a3d2606c _pthread_start + 148\n",
      "16  libsystem_pthread.dylib             0x00000001a3d20e2c thread_start + 8\n",
      "\n"
     ]
    },
    {
     "name": "stderr",
     "output_type": "stream",
     "text": [
      "  0%|          | 112/30819 [10:52<51:18:31,  6.02s/it]"
     ]
    },
    {
     "name": "stdout",
     "output_type": "stream",
     "text": [
      "Message: no such element: Unable to locate element: {\"method\":\"css selector\",\"selector\":\".prose\"}\n",
      "  (Session info: chrome=112.0.5615.137)\n",
      "Stacktrace:\n",
      "0   chromedriver                        0x000000010491ed3c chromedriver + 4222268\n",
      "1   chromedriver                        0x00000001048a58e8 chromedriver + 3725544\n",
      "2   chromedriver                        0x000000010455bda4 chromedriver + 277924\n",
      "3   chromedriver                        0x00000001045971b8 chromedriver + 520632\n",
      "4   chromedriver                        0x00000001045cf618 chromedriver + 751128\n",
      "5   chromedriver                        0x00000001045898f0 chromedriver + 465136\n",
      "6   chromedriver                        0x000000010458a974 chromedriver + 469364\n",
      "7   chromedriver                        0x00000001048ef788 chromedriver + 4028296\n",
      "8   chromedriver                        0x00000001048f3c1c chromedriver + 4045852\n",
      "9   chromedriver                        0x00000001048f9c98 chromedriver + 4070552\n",
      "10  chromedriver                        0x00000001048f48d8 chromedriver + 4049112\n",
      "11  chromedriver                        0x00000001048cbd84 chromedriver + 3882372\n",
      "12  chromedriver                        0x0000000104912720 chromedriver + 4171552\n",
      "13  chromedriver                        0x0000000104912878 chromedriver + 4171896\n",
      "14  chromedriver                        0x0000000104926014 chromedriver + 4251668\n",
      "15  libsystem_pthread.dylib             0x00000001a3d2606c _pthread_start + 148\n",
      "16  libsystem_pthread.dylib             0x00000001a3d20e2c thread_start + 8\n",
      "\n"
     ]
    },
    {
     "name": "stderr",
     "output_type": "stream",
     "text": [
      "  0%|          | 113/30819 [10:58<49:28:43,  5.80s/it]"
     ]
    },
    {
     "name": "stdout",
     "output_type": "stream",
     "text": [
      "Message: no such element: Unable to locate element: {\"method\":\"css selector\",\"selector\":\".prose\"}\n",
      "  (Session info: chrome=112.0.5615.137)\n",
      "Stacktrace:\n",
      "0   chromedriver                        0x000000010491ed3c chromedriver + 4222268\n",
      "1   chromedriver                        0x00000001048a58e8 chromedriver + 3725544\n",
      "2   chromedriver                        0x000000010455bda4 chromedriver + 277924\n",
      "3   chromedriver                        0x00000001045971b8 chromedriver + 520632\n",
      "4   chromedriver                        0x00000001045cf618 chromedriver + 751128\n",
      "5   chromedriver                        0x00000001045898f0 chromedriver + 465136\n",
      "6   chromedriver                        0x000000010458a974 chromedriver + 469364\n",
      "7   chromedriver                        0x00000001048ef788 chromedriver + 4028296\n",
      "8   chromedriver                        0x00000001048f3c1c chromedriver + 4045852\n",
      "9   chromedriver                        0x00000001048f9c98 chromedriver + 4070552\n",
      "10  chromedriver                        0x00000001048f48d8 chromedriver + 4049112\n",
      "11  chromedriver                        0x00000001048cbd84 chromedriver + 3882372\n",
      "12  chromedriver                        0x0000000104912720 chromedriver + 4171552\n",
      "13  chromedriver                        0x0000000104912878 chromedriver + 4171896\n",
      "14  chromedriver                        0x0000000104926014 chromedriver + 4251668\n",
      "15  libsystem_pthread.dylib             0x00000001a3d2606c _pthread_start + 148\n",
      "16  libsystem_pthread.dylib             0x00000001a3d20e2c thread_start + 8\n",
      "\n"
     ]
    },
    {
     "name": "stderr",
     "output_type": "stream",
     "text": [
      "  0%|          | 114/30819 [11:02<45:50:06,  5.37s/it]"
     ]
    },
    {
     "name": "stdout",
     "output_type": "stream",
     "text": [
      "Message: no such element: Unable to locate element: {\"method\":\"css selector\",\"selector\":\".prose\"}\n",
      "  (Session info: chrome=112.0.5615.137)\n",
      "Stacktrace:\n",
      "0   chromedriver                        0x000000010491ed3c chromedriver + 4222268\n",
      "1   chromedriver                        0x00000001048a58e8 chromedriver + 3725544\n",
      "2   chromedriver                        0x000000010455bda4 chromedriver + 277924\n",
      "3   chromedriver                        0x00000001045971b8 chromedriver + 520632\n",
      "4   chromedriver                        0x00000001045cf618 chromedriver + 751128\n",
      "5   chromedriver                        0x00000001045898f0 chromedriver + 465136\n",
      "6   chromedriver                        0x000000010458a974 chromedriver + 469364\n",
      "7   chromedriver                        0x00000001048ef788 chromedriver + 4028296\n",
      "8   chromedriver                        0x00000001048f3c1c chromedriver + 4045852\n",
      "9   chromedriver                        0x00000001048f9c98 chromedriver + 4070552\n",
      "10  chromedriver                        0x00000001048f48d8 chromedriver + 4049112\n",
      "11  chromedriver                        0x00000001048cbd84 chromedriver + 3882372\n",
      "12  chromedriver                        0x0000000104912720 chromedriver + 4171552\n",
      "13  chromedriver                        0x0000000104912878 chromedriver + 4171896\n",
      "14  chromedriver                        0x0000000104926014 chromedriver + 4251668\n",
      "15  libsystem_pthread.dylib             0x00000001a3d2606c _pthread_start + 148\n",
      "16  libsystem_pthread.dylib             0x00000001a3d20e2c thread_start + 8\n",
      "\n"
     ]
    },
    {
     "name": "stderr",
     "output_type": "stream",
     "text": [
      "  0%|          | 115/30819 [11:08<48:29:25,  5.69s/it]"
     ]
    },
    {
     "name": "stdout",
     "output_type": "stream",
     "text": [
      "Message: no such element: Unable to locate element: {\"method\":\"css selector\",\"selector\":\".prose\"}\n",
      "  (Session info: chrome=112.0.5615.137)\n",
      "Stacktrace:\n",
      "0   chromedriver                        0x000000010491ed3c chromedriver + 4222268\n",
      "1   chromedriver                        0x00000001048a58e8 chromedriver + 3725544\n",
      "2   chromedriver                        0x000000010455bda4 chromedriver + 277924\n",
      "3   chromedriver                        0x00000001045971b8 chromedriver + 520632\n",
      "4   chromedriver                        0x00000001045cf618 chromedriver + 751128\n",
      "5   chromedriver                        0x00000001045898f0 chromedriver + 465136\n",
      "6   chromedriver                        0x000000010458a974 chromedriver + 469364\n",
      "7   chromedriver                        0x00000001048ef788 chromedriver + 4028296\n",
      "8   chromedriver                        0x00000001048f3c1c chromedriver + 4045852\n",
      "9   chromedriver                        0x00000001048f9c98 chromedriver + 4070552\n",
      "10  chromedriver                        0x00000001048f48d8 chromedriver + 4049112\n",
      "11  chromedriver                        0x00000001048cbd84 chromedriver + 3882372\n",
      "12  chromedriver                        0x0000000104912720 chromedriver + 4171552\n",
      "13  chromedriver                        0x0000000104912878 chromedriver + 4171896\n",
      "14  chromedriver                        0x0000000104926014 chromedriver + 4251668\n",
      "15  libsystem_pthread.dylib             0x00000001a3d2606c _pthread_start + 148\n",
      "16  libsystem_pthread.dylib             0x00000001a3d20e2c thread_start + 8\n",
      "\n"
     ]
    },
    {
     "name": "stderr",
     "output_type": "stream",
     "text": [
      "  0%|          | 116/30819 [11:14<47:28:58,  5.57s/it]"
     ]
    },
    {
     "name": "stdout",
     "output_type": "stream",
     "text": [
      "Message: no such element: Unable to locate element: {\"method\":\"css selector\",\"selector\":\".prose\"}\n",
      "  (Session info: chrome=112.0.5615.137)\n",
      "Stacktrace:\n",
      "0   chromedriver                        0x000000010491ed3c chromedriver + 4222268\n",
      "1   chromedriver                        0x00000001048a58e8 chromedriver + 3725544\n",
      "2   chromedriver                        0x000000010455bda4 chromedriver + 277924\n",
      "3   chromedriver                        0x00000001045971b8 chromedriver + 520632\n",
      "4   chromedriver                        0x00000001045cf618 chromedriver + 751128\n",
      "5   chromedriver                        0x00000001045898f0 chromedriver + 465136\n",
      "6   chromedriver                        0x000000010458a974 chromedriver + 469364\n",
      "7   chromedriver                        0x00000001048ef788 chromedriver + 4028296\n",
      "8   chromedriver                        0x00000001048f3c1c chromedriver + 4045852\n",
      "9   chromedriver                        0x00000001048f9c98 chromedriver + 4070552\n",
      "10  chromedriver                        0x00000001048f48d8 chromedriver + 4049112\n",
      "11  chromedriver                        0x00000001048cbd84 chromedriver + 3882372\n",
      "12  chromedriver                        0x0000000104912720 chromedriver + 4171552\n",
      "13  chromedriver                        0x0000000104912878 chromedriver + 4171896\n",
      "14  chromedriver                        0x0000000104926014 chromedriver + 4251668\n",
      "15  libsystem_pthread.dylib             0x00000001a3d2606c _pthread_start + 148\n",
      "16  libsystem_pthread.dylib             0x00000001a3d20e2c thread_start + 8\n",
      "\n"
     ]
    },
    {
     "name": "stderr",
     "output_type": "stream",
     "text": [
      "  0%|          | 117/30819 [11:18<44:29:03,  5.22s/it]"
     ]
    },
    {
     "name": "stdout",
     "output_type": "stream",
     "text": [
      "Message: no such element: Unable to locate element: {\"method\":\"css selector\",\"selector\":\".prose\"}\n",
      "  (Session info: chrome=112.0.5615.137)\n",
      "Stacktrace:\n",
      "0   chromedriver                        0x000000010491ed3c chromedriver + 4222268\n",
      "1   chromedriver                        0x00000001048a58e8 chromedriver + 3725544\n",
      "2   chromedriver                        0x000000010455bda4 chromedriver + 277924\n",
      "3   chromedriver                        0x00000001045971b8 chromedriver + 520632\n",
      "4   chromedriver                        0x00000001045cf618 chromedriver + 751128\n",
      "5   chromedriver                        0x00000001045898f0 chromedriver + 465136\n",
      "6   chromedriver                        0x000000010458a974 chromedriver + 469364\n",
      "7   chromedriver                        0x00000001048ef788 chromedriver + 4028296\n",
      "8   chromedriver                        0x00000001048f3c1c chromedriver + 4045852\n",
      "9   chromedriver                        0x00000001048f9c98 chromedriver + 4070552\n",
      "10  chromedriver                        0x00000001048f48d8 chromedriver + 4049112\n",
      "11  chromedriver                        0x00000001048cbd84 chromedriver + 3882372\n",
      "12  chromedriver                        0x0000000104912720 chromedriver + 4171552\n",
      "13  chromedriver                        0x0000000104912878 chromedriver + 4171896\n",
      "14  chromedriver                        0x0000000104926014 chromedriver + 4251668\n",
      "15  libsystem_pthread.dylib             0x00000001a3d2606c _pthread_start + 148\n",
      "16  libsystem_pthread.dylib             0x00000001a3d20e2c thread_start + 8\n",
      "\n"
     ]
    },
    {
     "name": "stderr",
     "output_type": "stream",
     "text": [
      "  0%|          | 118/30819 [11:22<42:31:27,  4.99s/it]"
     ]
    },
    {
     "name": "stdout",
     "output_type": "stream",
     "text": [
      "Message: no such element: Unable to locate element: {\"method\":\"css selector\",\"selector\":\".prose\"}\n",
      "  (Session info: chrome=112.0.5615.137)\n",
      "Stacktrace:\n",
      "0   chromedriver                        0x000000010491ed3c chromedriver + 4222268\n",
      "1   chromedriver                        0x00000001048a58e8 chromedriver + 3725544\n",
      "2   chromedriver                        0x000000010455bda4 chromedriver + 277924\n",
      "3   chromedriver                        0x00000001045971b8 chromedriver + 520632\n",
      "4   chromedriver                        0x00000001045cf618 chromedriver + 751128\n",
      "5   chromedriver                        0x00000001045898f0 chromedriver + 465136\n",
      "6   chromedriver                        0x000000010458a974 chromedriver + 469364\n",
      "7   chromedriver                        0x00000001048ef788 chromedriver + 4028296\n",
      "8   chromedriver                        0x00000001048f3c1c chromedriver + 4045852\n",
      "9   chromedriver                        0x00000001048f9c98 chromedriver + 4070552\n",
      "10  chromedriver                        0x00000001048f48d8 chromedriver + 4049112\n",
      "11  chromedriver                        0x00000001048cbd84 chromedriver + 3882372\n",
      "12  chromedriver                        0x0000000104912720 chromedriver + 4171552\n",
      "13  chromedriver                        0x0000000104912878 chromedriver + 4171896\n",
      "14  chromedriver                        0x0000000104926014 chromedriver + 4251668\n",
      "15  libsystem_pthread.dylib             0x00000001a3d2606c _pthread_start + 148\n",
      "16  libsystem_pthread.dylib             0x00000001a3d20e2c thread_start + 8\n",
      "\n"
     ]
    },
    {
     "name": "stderr",
     "output_type": "stream",
     "text": [
      "  0%|          | 119/30819 [11:29<45:58:56,  5.39s/it]"
     ]
    },
    {
     "name": "stdout",
     "output_type": "stream",
     "text": [
      "Message: no such element: Unable to locate element: {\"method\":\"css selector\",\"selector\":\".prose\"}\n",
      "  (Session info: chrome=112.0.5615.137)\n",
      "Stacktrace:\n",
      "0   chromedriver                        0x000000010491ed3c chromedriver + 4222268\n",
      "1   chromedriver                        0x00000001048a58e8 chromedriver + 3725544\n",
      "2   chromedriver                        0x000000010455bda4 chromedriver + 277924\n",
      "3   chromedriver                        0x00000001045971b8 chromedriver + 520632\n",
      "4   chromedriver                        0x00000001045cf618 chromedriver + 751128\n",
      "5   chromedriver                        0x00000001045898f0 chromedriver + 465136\n",
      "6   chromedriver                        0x000000010458a974 chromedriver + 469364\n",
      "7   chromedriver                        0x00000001048ef788 chromedriver + 4028296\n",
      "8   chromedriver                        0x00000001048f3c1c chromedriver + 4045852\n",
      "9   chromedriver                        0x00000001048f9c98 chromedriver + 4070552\n",
      "10  chromedriver                        0x00000001048f48d8 chromedriver + 4049112\n",
      "11  chromedriver                        0x00000001048cbd84 chromedriver + 3882372\n",
      "12  chromedriver                        0x0000000104912720 chromedriver + 4171552\n",
      "13  chromedriver                        0x0000000104912878 chromedriver + 4171896\n",
      "14  chromedriver                        0x0000000104926014 chromedriver + 4251668\n",
      "15  libsystem_pthread.dylib             0x00000001a3d2606c _pthread_start + 148\n",
      "16  libsystem_pthread.dylib             0x00000001a3d20e2c thread_start + 8\n",
      "\n"
     ]
    },
    {
     "name": "stderr",
     "output_type": "stream",
     "text": [
      "  0%|          | 120/30819 [11:33<43:09:37,  5.06s/it]"
     ]
    },
    {
     "name": "stdout",
     "output_type": "stream",
     "text": [
      "Message: no such element: Unable to locate element: {\"method\":\"css selector\",\"selector\":\".prose\"}\n",
      "  (Session info: chrome=112.0.5615.137)\n",
      "Stacktrace:\n",
      "0   chromedriver                        0x000000010491ed3c chromedriver + 4222268\n",
      "1   chromedriver                        0x00000001048a58e8 chromedriver + 3725544\n",
      "2   chromedriver                        0x000000010455bda4 chromedriver + 277924\n",
      "3   chromedriver                        0x00000001045971b8 chromedriver + 520632\n",
      "4   chromedriver                        0x00000001045cf618 chromedriver + 751128\n",
      "5   chromedriver                        0x00000001045898f0 chromedriver + 465136\n",
      "6   chromedriver                        0x000000010458a974 chromedriver + 469364\n",
      "7   chromedriver                        0x00000001048ef788 chromedriver + 4028296\n",
      "8   chromedriver                        0x00000001048f3c1c chromedriver + 4045852\n",
      "9   chromedriver                        0x00000001048f9c98 chromedriver + 4070552\n",
      "10  chromedriver                        0x00000001048f48d8 chromedriver + 4049112\n",
      "11  chromedriver                        0x00000001048cbd84 chromedriver + 3882372\n",
      "12  chromedriver                        0x0000000104912720 chromedriver + 4171552\n",
      "13  chromedriver                        0x0000000104912878 chromedriver + 4171896\n",
      "14  chromedriver                        0x0000000104926014 chromedriver + 4251668\n",
      "15  libsystem_pthread.dylib             0x00000001a3d2606c _pthread_start + 148\n",
      "16  libsystem_pthread.dylib             0x00000001a3d20e2c thread_start + 8\n",
      "\n"
     ]
    },
    {
     "name": "stderr",
     "output_type": "stream",
     "text": [
      "  0%|          | 140/30819 [13:32<45:25:35,  5.33s/it]"
     ]
    },
    {
     "name": "stdout",
     "output_type": "stream",
     "text": [
      "Message: no such element: Unable to locate element: {\"method\":\"css selector\",\"selector\":\".prose\"}\n",
      "  (Session info: chrome=112.0.5615.137)\n",
      "Stacktrace:\n",
      "0   chromedriver                        0x000000010491ed3c chromedriver + 4222268\n",
      "1   chromedriver                        0x00000001048a58e8 chromedriver + 3725544\n",
      "2   chromedriver                        0x000000010455bda4 chromedriver + 277924\n",
      "3   chromedriver                        0x00000001045971b8 chromedriver + 520632\n",
      "4   chromedriver                        0x00000001045cf618 chromedriver + 751128\n",
      "5   chromedriver                        0x00000001045898f0 chromedriver + 465136\n",
      "6   chromedriver                        0x000000010458a974 chromedriver + 469364\n",
      "7   chromedriver                        0x00000001048ef788 chromedriver + 4028296\n",
      "8   chromedriver                        0x00000001048f3c1c chromedriver + 4045852\n",
      "9   chromedriver                        0x00000001048f9c98 chromedriver + 4070552\n",
      "10  chromedriver                        0x00000001048f48d8 chromedriver + 4049112\n",
      "11  chromedriver                        0x00000001048cbd84 chromedriver + 3882372\n",
      "12  chromedriver                        0x0000000104912720 chromedriver + 4171552\n",
      "13  chromedriver                        0x0000000104912878 chromedriver + 4171896\n",
      "14  chromedriver                        0x0000000104926014 chromedriver + 4251668\n",
      "15  libsystem_pthread.dylib             0x00000001a3d2606c _pthread_start + 148\n",
      "16  libsystem_pthread.dylib             0x00000001a3d20e2c thread_start + 8\n",
      "\n"
     ]
    },
    {
     "name": "stderr",
     "output_type": "stream",
     "text": [
      "  0%|          | 141/30819 [13:38<45:14:25,  5.31s/it]"
     ]
    },
    {
     "name": "stdout",
     "output_type": "stream",
     "text": [
      "Message: no such element: Unable to locate element: {\"method\":\"css selector\",\"selector\":\".prose\"}\n",
      "  (Session info: chrome=112.0.5615.137)\n",
      "Stacktrace:\n",
      "0   chromedriver                        0x000000010491ed3c chromedriver + 4222268\n",
      "1   chromedriver                        0x00000001048a58e8 chromedriver + 3725544\n",
      "2   chromedriver                        0x000000010455bda4 chromedriver + 277924\n",
      "3   chromedriver                        0x00000001045971b8 chromedriver + 520632\n",
      "4   chromedriver                        0x00000001045cf618 chromedriver + 751128\n",
      "5   chromedriver                        0x00000001045898f0 chromedriver + 465136\n",
      "6   chromedriver                        0x000000010458a974 chromedriver + 469364\n",
      "7   chromedriver                        0x00000001048ef788 chromedriver + 4028296\n",
      "8   chromedriver                        0x00000001048f3c1c chromedriver + 4045852\n",
      "9   chromedriver                        0x00000001048f9c98 chromedriver + 4070552\n",
      "10  chromedriver                        0x00000001048f48d8 chromedriver + 4049112\n",
      "11  chromedriver                        0x00000001048cbd84 chromedriver + 3882372\n",
      "12  chromedriver                        0x0000000104912720 chromedriver + 4171552\n",
      "13  chromedriver                        0x0000000104912878 chromedriver + 4171896\n",
      "14  chromedriver                        0x0000000104926014 chromedriver + 4251668\n",
      "15  libsystem_pthread.dylib             0x00000001a3d2606c _pthread_start + 148\n",
      "16  libsystem_pthread.dylib             0x00000001a3d20e2c thread_start + 8\n",
      "\n"
     ]
    },
    {
     "name": "stderr",
     "output_type": "stream",
     "text": [
      "  0%|          | 149/30819 [14:19<40:45:53,  4.78s/it]"
     ]
    },
    {
     "name": "stdout",
     "output_type": "stream",
     "text": [
      "Message: no such element: Unable to locate element: {\"method\":\"css selector\",\"selector\":\".prose\"}\n",
      "  (Session info: chrome=112.0.5615.137)\n",
      "Stacktrace:\n",
      "0   chromedriver                        0x000000010491ed3c chromedriver + 4222268\n",
      "1   chromedriver                        0x00000001048a58e8 chromedriver + 3725544\n",
      "2   chromedriver                        0x000000010455bda4 chromedriver + 277924\n",
      "3   chromedriver                        0x00000001045971b8 chromedriver + 520632\n",
      "4   chromedriver                        0x00000001045cf618 chromedriver + 751128\n",
      "5   chromedriver                        0x00000001045898f0 chromedriver + 465136\n",
      "6   chromedriver                        0x000000010458a974 chromedriver + 469364\n",
      "7   chromedriver                        0x00000001048ef788 chromedriver + 4028296\n",
      "8   chromedriver                        0x00000001048f3c1c chromedriver + 4045852\n",
      "9   chromedriver                        0x00000001048f9c98 chromedriver + 4070552\n",
      "10  chromedriver                        0x00000001048f48d8 chromedriver + 4049112\n",
      "11  chromedriver                        0x00000001048cbd84 chromedriver + 3882372\n",
      "12  chromedriver                        0x0000000104912720 chromedriver + 4171552\n",
      "13  chromedriver                        0x0000000104912878 chromedriver + 4171896\n",
      "14  chromedriver                        0x0000000104926014 chromedriver + 4251668\n",
      "15  libsystem_pthread.dylib             0x00000001a3d2606c _pthread_start + 148\n",
      "16  libsystem_pthread.dylib             0x00000001a3d20e2c thread_start + 8\n",
      "\n"
     ]
    },
    {
     "name": "stderr",
     "output_type": "stream",
     "text": [
      "  0%|          | 150/30819 [14:23<39:23:37,  4.62s/it]"
     ]
    },
    {
     "name": "stdout",
     "output_type": "stream",
     "text": [
      "Message: no such element: Unable to locate element: {\"method\":\"css selector\",\"selector\":\".prose\"}\n",
      "  (Session info: chrome=112.0.5615.137)\n",
      "Stacktrace:\n",
      "0   chromedriver                        0x000000010491ed3c chromedriver + 4222268\n",
      "1   chromedriver                        0x00000001048a58e8 chromedriver + 3725544\n",
      "2   chromedriver                        0x000000010455bda4 chromedriver + 277924\n",
      "3   chromedriver                        0x00000001045971b8 chromedriver + 520632\n",
      "4   chromedriver                        0x00000001045cf618 chromedriver + 751128\n",
      "5   chromedriver                        0x00000001045898f0 chromedriver + 465136\n",
      "6   chromedriver                        0x000000010458a974 chromedriver + 469364\n",
      "7   chromedriver                        0x00000001048ef788 chromedriver + 4028296\n",
      "8   chromedriver                        0x00000001048f3c1c chromedriver + 4045852\n",
      "9   chromedriver                        0x00000001048f9c98 chromedriver + 4070552\n",
      "10  chromedriver                        0x00000001048f48d8 chromedriver + 4049112\n",
      "11  chromedriver                        0x00000001048cbd84 chromedriver + 3882372\n",
      "12  chromedriver                        0x0000000104912720 chromedriver + 4171552\n",
      "13  chromedriver                        0x0000000104912878 chromedriver + 4171896\n",
      "14  chromedriver                        0x0000000104926014 chromedriver + 4251668\n",
      "15  libsystem_pthread.dylib             0x00000001a3d2606c _pthread_start + 148\n",
      "16  libsystem_pthread.dylib             0x00000001a3d20e2c thread_start + 8\n",
      "\n"
     ]
    },
    {
     "name": "stderr",
     "output_type": "stream",
     "text": [
      "  0%|          | 151/30819 [14:27<38:25:33,  4.51s/it]"
     ]
    },
    {
     "name": "stdout",
     "output_type": "stream",
     "text": [
      "Message: no such element: Unable to locate element: {\"method\":\"css selector\",\"selector\":\".prose\"}\n",
      "  (Session info: chrome=112.0.5615.137)\n",
      "Stacktrace:\n",
      "0   chromedriver                        0x000000010491ed3c chromedriver + 4222268\n",
      "1   chromedriver                        0x00000001048a58e8 chromedriver + 3725544\n",
      "2   chromedriver                        0x000000010455bda4 chromedriver + 277924\n",
      "3   chromedriver                        0x00000001045971b8 chromedriver + 520632\n",
      "4   chromedriver                        0x00000001045cf618 chromedriver + 751128\n",
      "5   chromedriver                        0x00000001045898f0 chromedriver + 465136\n",
      "6   chromedriver                        0x000000010458a974 chromedriver + 469364\n",
      "7   chromedriver                        0x00000001048ef788 chromedriver + 4028296\n",
      "8   chromedriver                        0x00000001048f3c1c chromedriver + 4045852\n",
      "9   chromedriver                        0x00000001048f9c98 chromedriver + 4070552\n",
      "10  chromedriver                        0x00000001048f48d8 chromedriver + 4049112\n",
      "11  chromedriver                        0x00000001048cbd84 chromedriver + 3882372\n",
      "12  chromedriver                        0x0000000104912720 chromedriver + 4171552\n",
      "13  chromedriver                        0x0000000104912878 chromedriver + 4171896\n",
      "14  chromedriver                        0x0000000104926014 chromedriver + 4251668\n",
      "15  libsystem_pthread.dylib             0x00000001a3d2606c _pthread_start + 148\n",
      "16  libsystem_pthread.dylib             0x00000001a3d20e2c thread_start + 8\n",
      "\n"
     ]
    },
    {
     "name": "stderr",
     "output_type": "stream",
     "text": [
      "  0%|          | 152/30819 [14:33<42:54:36,  5.04s/it]"
     ]
    },
    {
     "name": "stdout",
     "output_type": "stream",
     "text": [
      "Message: no such element: Unable to locate element: {\"method\":\"css selector\",\"selector\":\".prose\"}\n",
      "  (Session info: chrome=112.0.5615.137)\n",
      "Stacktrace:\n",
      "0   chromedriver                        0x000000010491ed3c chromedriver + 4222268\n",
      "1   chromedriver                        0x00000001048a58e8 chromedriver + 3725544\n",
      "2   chromedriver                        0x000000010455bda4 chromedriver + 277924\n",
      "3   chromedriver                        0x00000001045971b8 chromedriver + 520632\n",
      "4   chromedriver                        0x00000001045cf618 chromedriver + 751128\n",
      "5   chromedriver                        0x00000001045898f0 chromedriver + 465136\n",
      "6   chromedriver                        0x000000010458a974 chromedriver + 469364\n",
      "7   chromedriver                        0x00000001048ef788 chromedriver + 4028296\n",
      "8   chromedriver                        0x00000001048f3c1c chromedriver + 4045852\n",
      "9   chromedriver                        0x00000001048f9c98 chromedriver + 4070552\n",
      "10  chromedriver                        0x00000001048f48d8 chromedriver + 4049112\n",
      "11  chromedriver                        0x00000001048cbd84 chromedriver + 3882372\n",
      "12  chromedriver                        0x0000000104912720 chromedriver + 4171552\n",
      "13  chromedriver                        0x0000000104912878 chromedriver + 4171896\n",
      "14  chromedriver                        0x0000000104926014 chromedriver + 4251668\n",
      "15  libsystem_pthread.dylib             0x00000001a3d2606c _pthread_start + 148\n",
      "16  libsystem_pthread.dylib             0x00000001a3d20e2c thread_start + 8\n",
      "\n"
     ]
    },
    {
     "name": "stderr",
     "output_type": "stream",
     "text": [
      "  0%|          | 153/30819 [14:38<41:00:17,  4.81s/it]"
     ]
    },
    {
     "name": "stdout",
     "output_type": "stream",
     "text": [
      "Message: no such element: Unable to locate element: {\"method\":\"css selector\",\"selector\":\".prose\"}\n",
      "  (Session info: chrome=112.0.5615.137)\n",
      "Stacktrace:\n",
      "0   chromedriver                        0x000000010491ed3c chromedriver + 4222268\n",
      "1   chromedriver                        0x00000001048a58e8 chromedriver + 3725544\n",
      "2   chromedriver                        0x000000010455bda4 chromedriver + 277924\n",
      "3   chromedriver                        0x00000001045971b8 chromedriver + 520632\n",
      "4   chromedriver                        0x00000001045cf618 chromedriver + 751128\n",
      "5   chromedriver                        0x00000001045898f0 chromedriver + 465136\n",
      "6   chromedriver                        0x000000010458a974 chromedriver + 469364\n",
      "7   chromedriver                        0x00000001048ef788 chromedriver + 4028296\n",
      "8   chromedriver                        0x00000001048f3c1c chromedriver + 4045852\n",
      "9   chromedriver                        0x00000001048f9c98 chromedriver + 4070552\n",
      "10  chromedriver                        0x00000001048f48d8 chromedriver + 4049112\n",
      "11  chromedriver                        0x00000001048cbd84 chromedriver + 3882372\n",
      "12  chromedriver                        0x0000000104912720 chromedriver + 4171552\n",
      "13  chromedriver                        0x0000000104912878 chromedriver + 4171896\n",
      "14  chromedriver                        0x0000000104926014 chromedriver + 4251668\n",
      "15  libsystem_pthread.dylib             0x00000001a3d2606c _pthread_start + 148\n",
      "16  libsystem_pthread.dylib             0x00000001a3d20e2c thread_start + 8\n",
      "\n"
     ]
    },
    {
     "name": "stderr",
     "output_type": "stream",
     "text": [
      "  0%|          | 154/30819 [14:44<44:41:46,  5.25s/it]"
     ]
    },
    {
     "name": "stdout",
     "output_type": "stream",
     "text": [
      "Message: no such element: Unable to locate element: {\"method\":\"css selector\",\"selector\":\".prose\"}\n",
      "  (Session info: chrome=112.0.5615.137)\n",
      "Stacktrace:\n",
      "0   chromedriver                        0x000000010491ed3c chromedriver + 4222268\n",
      "1   chromedriver                        0x00000001048a58e8 chromedriver + 3725544\n",
      "2   chromedriver                        0x000000010455bda4 chromedriver + 277924\n",
      "3   chromedriver                        0x00000001045971b8 chromedriver + 520632\n",
      "4   chromedriver                        0x00000001045cf618 chromedriver + 751128\n",
      "5   chromedriver                        0x00000001045898f0 chromedriver + 465136\n",
      "6   chromedriver                        0x000000010458a974 chromedriver + 469364\n",
      "7   chromedriver                        0x00000001048ef788 chromedriver + 4028296\n",
      "8   chromedriver                        0x00000001048f3c1c chromedriver + 4045852\n",
      "9   chromedriver                        0x00000001048f9c98 chromedriver + 4070552\n",
      "10  chromedriver                        0x00000001048f48d8 chromedriver + 4049112\n",
      "11  chromedriver                        0x00000001048cbd84 chromedriver + 3882372\n",
      "12  chromedriver                        0x0000000104912720 chromedriver + 4171552\n",
      "13  chromedriver                        0x0000000104912878 chromedriver + 4171896\n",
      "14  chromedriver                        0x0000000104926014 chromedriver + 4251668\n",
      "15  libsystem_pthread.dylib             0x00000001a3d2606c _pthread_start + 148\n",
      "16  libsystem_pthread.dylib             0x00000001a3d20e2c thread_start + 8\n",
      "\n"
     ]
    },
    {
     "name": "stderr",
     "output_type": "stream",
     "text": [
      "  1%|          | 155/30819 [14:50<47:16:58,  5.55s/it]"
     ]
    },
    {
     "name": "stdout",
     "output_type": "stream",
     "text": [
      "Message: no such element: Unable to locate element: {\"method\":\"css selector\",\"selector\":\".prose\"}\n",
      "  (Session info: chrome=112.0.5615.137)\n",
      "Stacktrace:\n",
      "0   chromedriver                        0x000000010491ed3c chromedriver + 4222268\n",
      "1   chromedriver                        0x00000001048a58e8 chromedriver + 3725544\n",
      "2   chromedriver                        0x000000010455bda4 chromedriver + 277924\n",
      "3   chromedriver                        0x00000001045971b8 chromedriver + 520632\n",
      "4   chromedriver                        0x00000001045cf618 chromedriver + 751128\n",
      "5   chromedriver                        0x00000001045898f0 chromedriver + 465136\n",
      "6   chromedriver                        0x000000010458a974 chromedriver + 469364\n",
      "7   chromedriver                        0x00000001048ef788 chromedriver + 4028296\n",
      "8   chromedriver                        0x00000001048f3c1c chromedriver + 4045852\n",
      "9   chromedriver                        0x00000001048f9c98 chromedriver + 4070552\n",
      "10  chromedriver                        0x00000001048f48d8 chromedriver + 4049112\n",
      "11  chromedriver                        0x00000001048cbd84 chromedriver + 3882372\n",
      "12  chromedriver                        0x0000000104912720 chromedriver + 4171552\n",
      "13  chromedriver                        0x0000000104912878 chromedriver + 4171896\n",
      "14  chromedriver                        0x0000000104926014 chromedriver + 4251668\n",
      "15  libsystem_pthread.dylib             0x00000001a3d2606c _pthread_start + 148\n",
      "16  libsystem_pthread.dylib             0x00000001a3d20e2c thread_start + 8\n",
      "\n"
     ]
    },
    {
     "name": "stderr",
     "output_type": "stream",
     "text": [
      "  1%|          | 156/30819 [14:57<49:06:22,  5.77s/it]"
     ]
    },
    {
     "name": "stdout",
     "output_type": "stream",
     "text": [
      "Message: no such element: Unable to locate element: {\"method\":\"css selector\",\"selector\":\".prose\"}\n",
      "  (Session info: chrome=112.0.5615.137)\n",
      "Stacktrace:\n",
      "0   chromedriver                        0x000000010491ed3c chromedriver + 4222268\n",
      "1   chromedriver                        0x00000001048a58e8 chromedriver + 3725544\n",
      "2   chromedriver                        0x000000010455bda4 chromedriver + 277924\n",
      "3   chromedriver                        0x00000001045971b8 chromedriver + 520632\n",
      "4   chromedriver                        0x00000001045cf618 chromedriver + 751128\n",
      "5   chromedriver                        0x00000001045898f0 chromedriver + 465136\n",
      "6   chromedriver                        0x000000010458a974 chromedriver + 469364\n",
      "7   chromedriver                        0x00000001048ef788 chromedriver + 4028296\n",
      "8   chromedriver                        0x00000001048f3c1c chromedriver + 4045852\n",
      "9   chromedriver                        0x00000001048f9c98 chromedriver + 4070552\n",
      "10  chromedriver                        0x00000001048f48d8 chromedriver + 4049112\n",
      "11  chromedriver                        0x00000001048cbd84 chromedriver + 3882372\n",
      "12  chromedriver                        0x0000000104912720 chromedriver + 4171552\n",
      "13  chromedriver                        0x0000000104912878 chromedriver + 4171896\n",
      "14  chromedriver                        0x0000000104926014 chromedriver + 4251668\n",
      "15  libsystem_pthread.dylib             0x00000001a3d2606c _pthread_start + 148\n",
      "16  libsystem_pthread.dylib             0x00000001a3d20e2c thread_start + 8\n",
      "\n"
     ]
    },
    {
     "name": "stderr",
     "output_type": "stream",
     "text": [
      "  1%|          | 157/30819 [15:02<47:48:40,  5.61s/it]"
     ]
    },
    {
     "name": "stdout",
     "output_type": "stream",
     "text": [
      "Message: no such element: Unable to locate element: {\"method\":\"css selector\",\"selector\":\".prose\"}\n",
      "  (Session info: chrome=112.0.5615.137)\n",
      "Stacktrace:\n",
      "0   chromedriver                        0x000000010491ed3c chromedriver + 4222268\n",
      "1   chromedriver                        0x00000001048a58e8 chromedriver + 3725544\n",
      "2   chromedriver                        0x000000010455bda4 chromedriver + 277924\n",
      "3   chromedriver                        0x00000001045971b8 chromedriver + 520632\n",
      "4   chromedriver                        0x00000001045cf618 chromedriver + 751128\n",
      "5   chromedriver                        0x00000001045898f0 chromedriver + 465136\n",
      "6   chromedriver                        0x000000010458a974 chromedriver + 469364\n",
      "7   chromedriver                        0x00000001048ef788 chromedriver + 4028296\n",
      "8   chromedriver                        0x00000001048f3c1c chromedriver + 4045852\n",
      "9   chromedriver                        0x00000001048f9c98 chromedriver + 4070552\n",
      "10  chromedriver                        0x00000001048f48d8 chromedriver + 4049112\n",
      "11  chromedriver                        0x00000001048cbd84 chromedriver + 3882372\n",
      "12  chromedriver                        0x0000000104912720 chromedriver + 4171552\n",
      "13  chromedriver                        0x0000000104912878 chromedriver + 4171896\n",
      "14  chromedriver                        0x0000000104926014 chromedriver + 4251668\n",
      "15  libsystem_pthread.dylib             0x00000001a3d2606c _pthread_start + 148\n",
      "16  libsystem_pthread.dylib             0x00000001a3d20e2c thread_start + 8\n",
      "\n"
     ]
    },
    {
     "name": "stderr",
     "output_type": "stream",
     "text": [
      "  1%|          | 158/30819 [15:06<44:21:53,  5.21s/it]"
     ]
    },
    {
     "name": "stdout",
     "output_type": "stream",
     "text": [
      "Message: no such element: Unable to locate element: {\"method\":\"css selector\",\"selector\":\".prose\"}\n",
      "  (Session info: chrome=112.0.5615.137)\n",
      "Stacktrace:\n",
      "0   chromedriver                        0x000000010491ed3c chromedriver + 4222268\n",
      "1   chromedriver                        0x00000001048a58e8 chromedriver + 3725544\n",
      "2   chromedriver                        0x000000010455bda4 chromedriver + 277924\n",
      "3   chromedriver                        0x00000001045971b8 chromedriver + 520632\n",
      "4   chromedriver                        0x00000001045cf618 chromedriver + 751128\n",
      "5   chromedriver                        0x00000001045898f0 chromedriver + 465136\n",
      "6   chromedriver                        0x000000010458a974 chromedriver + 469364\n",
      "7   chromedriver                        0x00000001048ef788 chromedriver + 4028296\n",
      "8   chromedriver                        0x00000001048f3c1c chromedriver + 4045852\n",
      "9   chromedriver                        0x00000001048f9c98 chromedriver + 4070552\n",
      "10  chromedriver                        0x00000001048f48d8 chromedriver + 4049112\n",
      "11  chromedriver                        0x00000001048cbd84 chromedriver + 3882372\n",
      "12  chromedriver                        0x0000000104912720 chromedriver + 4171552\n",
      "13  chromedriver                        0x0000000104912878 chromedriver + 4171896\n",
      "14  chromedriver                        0x0000000104926014 chromedriver + 4251668\n",
      "15  libsystem_pthread.dylib             0x00000001a3d2606c _pthread_start + 148\n",
      "16  libsystem_pthread.dylib             0x00000001a3d20e2c thread_start + 8\n",
      "\n"
     ]
    },
    {
     "name": "stderr",
     "output_type": "stream",
     "text": [
      "  1%|          | 159/30819 [15:12<47:10:07,  5.54s/it]"
     ]
    },
    {
     "name": "stdout",
     "output_type": "stream",
     "text": [
      "Message: no such element: Unable to locate element: {\"method\":\"css selector\",\"selector\":\".prose\"}\n",
      "  (Session info: chrome=112.0.5615.137)\n",
      "Stacktrace:\n",
      "0   chromedriver                        0x000000010491ed3c chromedriver + 4222268\n",
      "1   chromedriver                        0x00000001048a58e8 chromedriver + 3725544\n",
      "2   chromedriver                        0x000000010455bda4 chromedriver + 277924\n",
      "3   chromedriver                        0x00000001045971b8 chromedriver + 520632\n",
      "4   chromedriver                        0x00000001045cf618 chromedriver + 751128\n",
      "5   chromedriver                        0x00000001045898f0 chromedriver + 465136\n",
      "6   chromedriver                        0x000000010458a974 chromedriver + 469364\n",
      "7   chromedriver                        0x00000001048ef788 chromedriver + 4028296\n",
      "8   chromedriver                        0x00000001048f3c1c chromedriver + 4045852\n",
      "9   chromedriver                        0x00000001048f9c98 chromedriver + 4070552\n",
      "10  chromedriver                        0x00000001048f48d8 chromedriver + 4049112\n",
      "11  chromedriver                        0x00000001048cbd84 chromedriver + 3882372\n",
      "12  chromedriver                        0x0000000104912720 chromedriver + 4171552\n",
      "13  chromedriver                        0x0000000104912878 chromedriver + 4171896\n",
      "14  chromedriver                        0x0000000104926014 chromedriver + 4251668\n",
      "15  libsystem_pthread.dylib             0x00000001a3d2606c _pthread_start + 148\n",
      "16  libsystem_pthread.dylib             0x00000001a3d20e2c thread_start + 8\n",
      "\n"
     ]
    },
    {
     "name": "stderr",
     "output_type": "stream",
     "text": [
      "  1%|          | 160/30819 [15:17<43:56:45,  5.16s/it]"
     ]
    },
    {
     "name": "stdout",
     "output_type": "stream",
     "text": [
      "Message: no such element: Unable to locate element: {\"method\":\"css selector\",\"selector\":\".prose\"}\n",
      "  (Session info: chrome=112.0.5615.137)\n",
      "Stacktrace:\n",
      "0   chromedriver                        0x000000010491ed3c chromedriver + 4222268\n",
      "1   chromedriver                        0x00000001048a58e8 chromedriver + 3725544\n",
      "2   chromedriver                        0x000000010455bda4 chromedriver + 277924\n",
      "3   chromedriver                        0x00000001045971b8 chromedriver + 520632\n",
      "4   chromedriver                        0x00000001045cf618 chromedriver + 751128\n",
      "5   chromedriver                        0x00000001045898f0 chromedriver + 465136\n",
      "6   chromedriver                        0x000000010458a974 chromedriver + 469364\n",
      "7   chromedriver                        0x00000001048ef788 chromedriver + 4028296\n",
      "8   chromedriver                        0x00000001048f3c1c chromedriver + 4045852\n",
      "9   chromedriver                        0x00000001048f9c98 chromedriver + 4070552\n",
      "10  chromedriver                        0x00000001048f48d8 chromedriver + 4049112\n",
      "11  chromedriver                        0x00000001048cbd84 chromedriver + 3882372\n",
      "12  chromedriver                        0x0000000104912720 chromedriver + 4171552\n",
      "13  chromedriver                        0x0000000104912878 chromedriver + 4171896\n",
      "14  chromedriver                        0x0000000104926014 chromedriver + 4251668\n",
      "15  libsystem_pthread.dylib             0x00000001a3d2606c _pthread_start + 148\n",
      "16  libsystem_pthread.dylib             0x00000001a3d20e2c thread_start + 8\n",
      "\n"
     ]
    },
    {
     "name": "stderr",
     "output_type": "stream",
     "text": [
      "  1%|          | 161/30819 [15:21<41:38:46,  4.89s/it]"
     ]
    },
    {
     "name": "stdout",
     "output_type": "stream",
     "text": [
      "Message: no such element: Unable to locate element: {\"method\":\"css selector\",\"selector\":\".prose\"}\n",
      "  (Session info: chrome=112.0.5615.137)\n",
      "Stacktrace:\n",
      "0   chromedriver                        0x000000010491ed3c chromedriver + 4222268\n",
      "1   chromedriver                        0x00000001048a58e8 chromedriver + 3725544\n",
      "2   chromedriver                        0x000000010455bda4 chromedriver + 277924\n",
      "3   chromedriver                        0x00000001045971b8 chromedriver + 520632\n",
      "4   chromedriver                        0x00000001045cf618 chromedriver + 751128\n",
      "5   chromedriver                        0x00000001045898f0 chromedriver + 465136\n",
      "6   chromedriver                        0x000000010458a974 chromedriver + 469364\n",
      "7   chromedriver                        0x00000001048ef788 chromedriver + 4028296\n",
      "8   chromedriver                        0x00000001048f3c1c chromedriver + 4045852\n",
      "9   chromedriver                        0x00000001048f9c98 chromedriver + 4070552\n",
      "10  chromedriver                        0x00000001048f48d8 chromedriver + 4049112\n",
      "11  chromedriver                        0x00000001048cbd84 chromedriver + 3882372\n",
      "12  chromedriver                        0x0000000104912720 chromedriver + 4171552\n",
      "13  chromedriver                        0x0000000104912878 chromedriver + 4171896\n",
      "14  chromedriver                        0x0000000104926014 chromedriver + 4251668\n",
      "15  libsystem_pthread.dylib             0x00000001a3d2606c _pthread_start + 148\n",
      "16  libsystem_pthread.dylib             0x00000001a3d20e2c thread_start + 8\n",
      "\n"
     ]
    },
    {
     "name": "stderr",
     "output_type": "stream",
     "text": [
      "  1%|          | 162/30819 [15:25<40:07:24,  4.71s/it]"
     ]
    },
    {
     "name": "stdout",
     "output_type": "stream",
     "text": [
      "Message: no such element: Unable to locate element: {\"method\":\"css selector\",\"selector\":\".prose\"}\n",
      "  (Session info: chrome=112.0.5615.137)\n",
      "Stacktrace:\n",
      "0   chromedriver                        0x000000010491ed3c chromedriver + 4222268\n",
      "1   chromedriver                        0x00000001048a58e8 chromedriver + 3725544\n",
      "2   chromedriver                        0x000000010455bda4 chromedriver + 277924\n",
      "3   chromedriver                        0x00000001045971b8 chromedriver + 520632\n",
      "4   chromedriver                        0x00000001045cf618 chromedriver + 751128\n",
      "5   chromedriver                        0x00000001045898f0 chromedriver + 465136\n",
      "6   chromedriver                        0x000000010458a974 chromedriver + 469364\n",
      "7   chromedriver                        0x00000001048ef788 chromedriver + 4028296\n",
      "8   chromedriver                        0x00000001048f3c1c chromedriver + 4045852\n",
      "9   chromedriver                        0x00000001048f9c98 chromedriver + 4070552\n",
      "10  chromedriver                        0x00000001048f48d8 chromedriver + 4049112\n",
      "11  chromedriver                        0x00000001048cbd84 chromedriver + 3882372\n",
      "12  chromedriver                        0x0000000104912720 chromedriver + 4171552\n",
      "13  chromedriver                        0x0000000104912878 chromedriver + 4171896\n",
      "14  chromedriver                        0x0000000104926014 chromedriver + 4251668\n",
      "15  libsystem_pthread.dylib             0x00000001a3d2606c _pthread_start + 148\n",
      "16  libsystem_pthread.dylib             0x00000001a3d20e2c thread_start + 8\n",
      "\n"
     ]
    },
    {
     "name": "stderr",
     "output_type": "stream",
     "text": [
      "  1%|          | 163/30819 [15:30<41:33:09,  4.88s/it]"
     ]
    },
    {
     "name": "stdout",
     "output_type": "stream",
     "text": [
      "Message: no such element: Unable to locate element: {\"method\":\"css selector\",\"selector\":\".prose\"}\n",
      "  (Session info: chrome=112.0.5615.137)\n",
      "Stacktrace:\n",
      "0   chromedriver                        0x000000010491ed3c chromedriver + 4222268\n",
      "1   chromedriver                        0x00000001048a58e8 chromedriver + 3725544\n",
      "2   chromedriver                        0x000000010455bda4 chromedriver + 277924\n",
      "3   chromedriver                        0x00000001045971b8 chromedriver + 520632\n",
      "4   chromedriver                        0x00000001045cf618 chromedriver + 751128\n",
      "5   chromedriver                        0x00000001045898f0 chromedriver + 465136\n",
      "6   chromedriver                        0x000000010458a974 chromedriver + 469364\n",
      "7   chromedriver                        0x00000001048ef788 chromedriver + 4028296\n",
      "8   chromedriver                        0x00000001048f3c1c chromedriver + 4045852\n",
      "9   chromedriver                        0x00000001048f9c98 chromedriver + 4070552\n",
      "10  chromedriver                        0x00000001048f48d8 chromedriver + 4049112\n",
      "11  chromedriver                        0x00000001048cbd84 chromedriver + 3882372\n",
      "12  chromedriver                        0x0000000104912720 chromedriver + 4171552\n",
      "13  chromedriver                        0x0000000104912878 chromedriver + 4171896\n",
      "14  chromedriver                        0x0000000104926014 chromedriver + 4251668\n",
      "15  libsystem_pthread.dylib             0x00000001a3d2606c _pthread_start + 148\n",
      "16  libsystem_pthread.dylib             0x00000001a3d20e2c thread_start + 8\n",
      "\n"
     ]
    },
    {
     "name": "stderr",
     "output_type": "stream",
     "text": [
      "  1%|          | 164/30819 [15:36<42:41:42,  5.01s/it]"
     ]
    },
    {
     "name": "stdout",
     "output_type": "stream",
     "text": [
      "Message: no such element: Unable to locate element: {\"method\":\"css selector\",\"selector\":\".prose\"}\n",
      "  (Session info: chrome=112.0.5615.137)\n",
      "Stacktrace:\n",
      "0   chromedriver                        0x000000010491ed3c chromedriver + 4222268\n",
      "1   chromedriver                        0x00000001048a58e8 chromedriver + 3725544\n",
      "2   chromedriver                        0x000000010455bda4 chromedriver + 277924\n",
      "3   chromedriver                        0x00000001045971b8 chromedriver + 520632\n",
      "4   chromedriver                        0x00000001045cf618 chromedriver + 751128\n",
      "5   chromedriver                        0x00000001045898f0 chromedriver + 465136\n",
      "6   chromedriver                        0x000000010458a974 chromedriver + 469364\n",
      "7   chromedriver                        0x00000001048ef788 chromedriver + 4028296\n",
      "8   chromedriver                        0x00000001048f3c1c chromedriver + 4045852\n",
      "9   chromedriver                        0x00000001048f9c98 chromedriver + 4070552\n",
      "10  chromedriver                        0x00000001048f48d8 chromedriver + 4049112\n",
      "11  chromedriver                        0x00000001048cbd84 chromedriver + 3882372\n",
      "12  chromedriver                        0x0000000104912720 chromedriver + 4171552\n",
      "13  chromedriver                        0x0000000104912878 chromedriver + 4171896\n",
      "14  chromedriver                        0x0000000104926014 chromedriver + 4251668\n",
      "15  libsystem_pthread.dylib             0x00000001a3d2606c _pthread_start + 148\n",
      "16  libsystem_pthread.dylib             0x00000001a3d20e2c thread_start + 8\n",
      "\n"
     ]
    },
    {
     "name": "stderr",
     "output_type": "stream",
     "text": [
      "  1%|          | 167/30819 [15:51<41:57:52,  4.93s/it]"
     ]
    },
    {
     "name": "stdout",
     "output_type": "stream",
     "text": [
      "Message: no such element: Unable to locate element: {\"method\":\"css selector\",\"selector\":\".prose\"}\n",
      "  (Session info: chrome=112.0.5615.137)\n",
      "Stacktrace:\n",
      "0   chromedriver                        0x000000010491ed3c chromedriver + 4222268\n",
      "1   chromedriver                        0x00000001048a58e8 chromedriver + 3725544\n",
      "2   chromedriver                        0x000000010455bda4 chromedriver + 277924\n",
      "3   chromedriver                        0x00000001045971b8 chromedriver + 520632\n",
      "4   chromedriver                        0x00000001045cf618 chromedriver + 751128\n",
      "5   chromedriver                        0x00000001045898f0 chromedriver + 465136\n",
      "6   chromedriver                        0x000000010458a974 chromedriver + 469364\n",
      "7   chromedriver                        0x00000001048ef788 chromedriver + 4028296\n",
      "8   chromedriver                        0x00000001048f3c1c chromedriver + 4045852\n",
      "9   chromedriver                        0x00000001048f9c98 chromedriver + 4070552\n",
      "10  chromedriver                        0x00000001048f48d8 chromedriver + 4049112\n",
      "11  chromedriver                        0x00000001048cbd84 chromedriver + 3882372\n",
      "12  chromedriver                        0x0000000104912720 chromedriver + 4171552\n",
      "13  chromedriver                        0x0000000104912878 chromedriver + 4171896\n",
      "14  chromedriver                        0x0000000104926014 chromedriver + 4251668\n",
      "15  libsystem_pthread.dylib             0x00000001a3d2606c _pthread_start + 148\n",
      "16  libsystem_pthread.dylib             0x00000001a3d20e2c thread_start + 8\n",
      "\n"
     ]
    },
    {
     "name": "stderr",
     "output_type": "stream",
     "text": [
      "  1%|          | 168/30819 [15:57<45:21:06,  5.33s/it]"
     ]
    },
    {
     "name": "stdout",
     "output_type": "stream",
     "text": [
      "Message: no such element: Unable to locate element: {\"method\":\"css selector\",\"selector\":\".prose\"}\n",
      "  (Session info: chrome=112.0.5615.137)\n",
      "Stacktrace:\n",
      "0   chromedriver                        0x000000010491ed3c chromedriver + 4222268\n",
      "1   chromedriver                        0x00000001048a58e8 chromedriver + 3725544\n",
      "2   chromedriver                        0x000000010455bda4 chromedriver + 277924\n",
      "3   chromedriver                        0x00000001045971b8 chromedriver + 520632\n",
      "4   chromedriver                        0x00000001045cf618 chromedriver + 751128\n",
      "5   chromedriver                        0x00000001045898f0 chromedriver + 465136\n",
      "6   chromedriver                        0x000000010458a974 chromedriver + 469364\n",
      "7   chromedriver                        0x00000001048ef788 chromedriver + 4028296\n",
      "8   chromedriver                        0x00000001048f3c1c chromedriver + 4045852\n",
      "9   chromedriver                        0x00000001048f9c98 chromedriver + 4070552\n",
      "10  chromedriver                        0x00000001048f48d8 chromedriver + 4049112\n",
      "11  chromedriver                        0x00000001048cbd84 chromedriver + 3882372\n",
      "12  chromedriver                        0x0000000104912720 chromedriver + 4171552\n",
      "13  chromedriver                        0x0000000104912878 chromedriver + 4171896\n",
      "14  chromedriver                        0x0000000104926014 chromedriver + 4251668\n",
      "15  libsystem_pthread.dylib             0x00000001a3d2606c _pthread_start + 148\n",
      "16  libsystem_pthread.dylib             0x00000001a3d20e2c thread_start + 8\n",
      "\n"
     ]
    },
    {
     "name": "stderr",
     "output_type": "stream",
     "text": [
      "  1%|          | 169/30819 [16:03<47:44:17,  5.61s/it]"
     ]
    },
    {
     "name": "stdout",
     "output_type": "stream",
     "text": [
      "Message: no such element: Unable to locate element: {\"method\":\"css selector\",\"selector\":\".prose\"}\n",
      "  (Session info: chrome=112.0.5615.137)\n",
      "Stacktrace:\n",
      "0   chromedriver                        0x000000010491ed3c chromedriver + 4222268\n",
      "1   chromedriver                        0x00000001048a58e8 chromedriver + 3725544\n",
      "2   chromedriver                        0x000000010455bda4 chromedriver + 277924\n",
      "3   chromedriver                        0x00000001045971b8 chromedriver + 520632\n",
      "4   chromedriver                        0x00000001045cf618 chromedriver + 751128\n",
      "5   chromedriver                        0x00000001045898f0 chromedriver + 465136\n",
      "6   chromedriver                        0x000000010458a974 chromedriver + 469364\n",
      "7   chromedriver                        0x00000001048ef788 chromedriver + 4028296\n",
      "8   chromedriver                        0x00000001048f3c1c chromedriver + 4045852\n",
      "9   chromedriver                        0x00000001048f9c98 chromedriver + 4070552\n",
      "10  chromedriver                        0x00000001048f48d8 chromedriver + 4049112\n",
      "11  chromedriver                        0x00000001048cbd84 chromedriver + 3882372\n",
      "12  chromedriver                        0x0000000104912720 chromedriver + 4171552\n",
      "13  chromedriver                        0x0000000104912878 chromedriver + 4171896\n",
      "14  chromedriver                        0x0000000104926014 chromedriver + 4251668\n",
      "15  libsystem_pthread.dylib             0x00000001a3d2606c _pthread_start + 148\n",
      "16  libsystem_pthread.dylib             0x00000001a3d20e2c thread_start + 8\n",
      "\n"
     ]
    },
    {
     "name": "stderr",
     "output_type": "stream",
     "text": [
      "  1%|          | 170/30819 [16:09<49:22:59,  5.80s/it]"
     ]
    },
    {
     "name": "stdout",
     "output_type": "stream",
     "text": [
      "Message: no such element: Unable to locate element: {\"method\":\"css selector\",\"selector\":\".prose\"}\n",
      "  (Session info: chrome=112.0.5615.137)\n",
      "Stacktrace:\n",
      "0   chromedriver                        0x000000010491ed3c chromedriver + 4222268\n",
      "1   chromedriver                        0x00000001048a58e8 chromedriver + 3725544\n",
      "2   chromedriver                        0x000000010455bda4 chromedriver + 277924\n",
      "3   chromedriver                        0x00000001045971b8 chromedriver + 520632\n",
      "4   chromedriver                        0x00000001045cf618 chromedriver + 751128\n",
      "5   chromedriver                        0x00000001045898f0 chromedriver + 465136\n",
      "6   chromedriver                        0x000000010458a974 chromedriver + 469364\n",
      "7   chromedriver                        0x00000001048ef788 chromedriver + 4028296\n",
      "8   chromedriver                        0x00000001048f3c1c chromedriver + 4045852\n",
      "9   chromedriver                        0x00000001048f9c98 chromedriver + 4070552\n",
      "10  chromedriver                        0x00000001048f48d8 chromedriver + 4049112\n",
      "11  chromedriver                        0x00000001048cbd84 chromedriver + 3882372\n",
      "12  chromedriver                        0x0000000104912720 chromedriver + 4171552\n",
      "13  chromedriver                        0x0000000104912878 chromedriver + 4171896\n",
      "14  chromedriver                        0x0000000104926014 chromedriver + 4251668\n",
      "15  libsystem_pthread.dylib             0x00000001a3d2606c _pthread_start + 148\n",
      "16  libsystem_pthread.dylib             0x00000001a3d20e2c thread_start + 8\n",
      "\n"
     ]
    },
    {
     "name": "stderr",
     "output_type": "stream",
     "text": [
      "  1%|          | 171/30819 [16:15<47:58:45,  5.64s/it]"
     ]
    },
    {
     "name": "stdout",
     "output_type": "stream",
     "text": [
      "Message: no such element: Unable to locate element: {\"method\":\"css selector\",\"selector\":\".prose\"}\n",
      "  (Session info: chrome=112.0.5615.137)\n",
      "Stacktrace:\n",
      "0   chromedriver                        0x000000010491ed3c chromedriver + 4222268\n",
      "1   chromedriver                        0x00000001048a58e8 chromedriver + 3725544\n",
      "2   chromedriver                        0x000000010455bda4 chromedriver + 277924\n",
      "3   chromedriver                        0x00000001045971b8 chromedriver + 520632\n",
      "4   chromedriver                        0x00000001045cf618 chromedriver + 751128\n",
      "5   chromedriver                        0x00000001045898f0 chromedriver + 465136\n",
      "6   chromedriver                        0x000000010458a974 chromedriver + 469364\n",
      "7   chromedriver                        0x00000001048ef788 chromedriver + 4028296\n",
      "8   chromedriver                        0x00000001048f3c1c chromedriver + 4045852\n",
      "9   chromedriver                        0x00000001048f9c98 chromedriver + 4070552\n",
      "10  chromedriver                        0x00000001048f48d8 chromedriver + 4049112\n",
      "11  chromedriver                        0x00000001048cbd84 chromedriver + 3882372\n",
      "12  chromedriver                        0x0000000104912720 chromedriver + 4171552\n",
      "13  chromedriver                        0x0000000104912878 chromedriver + 4171896\n",
      "14  chromedriver                        0x0000000104926014 chromedriver + 4251668\n",
      "15  libsystem_pthread.dylib             0x00000001a3d2606c _pthread_start + 148\n",
      "16  libsystem_pthread.dylib             0x00000001a3d20e2c thread_start + 8\n",
      "\n"
     ]
    },
    {
     "name": "stderr",
     "output_type": "stream",
     "text": [
      "  1%|          | 172/30819 [16:21<49:31:11,  5.82s/it]"
     ]
    },
    {
     "name": "stdout",
     "output_type": "stream",
     "text": [
      "Message: no such element: Unable to locate element: {\"method\":\"css selector\",\"selector\":\".prose\"}\n",
      "  (Session info: chrome=112.0.5615.137)\n",
      "Stacktrace:\n",
      "0   chromedriver                        0x000000010491ed3c chromedriver + 4222268\n",
      "1   chromedriver                        0x00000001048a58e8 chromedriver + 3725544\n",
      "2   chromedriver                        0x000000010455bda4 chromedriver + 277924\n",
      "3   chromedriver                        0x00000001045971b8 chromedriver + 520632\n",
      "4   chromedriver                        0x00000001045cf618 chromedriver + 751128\n",
      "5   chromedriver                        0x00000001045898f0 chromedriver + 465136\n",
      "6   chromedriver                        0x000000010458a974 chromedriver + 469364\n",
      "7   chromedriver                        0x00000001048ef788 chromedriver + 4028296\n",
      "8   chromedriver                        0x00000001048f3c1c chromedriver + 4045852\n",
      "9   chromedriver                        0x00000001048f9c98 chromedriver + 4070552\n",
      "10  chromedriver                        0x00000001048f48d8 chromedriver + 4049112\n",
      "11  chromedriver                        0x00000001048cbd84 chromedriver + 3882372\n",
      "12  chromedriver                        0x0000000104912720 chromedriver + 4171552\n",
      "13  chromedriver                        0x0000000104912878 chromedriver + 4171896\n",
      "14  chromedriver                        0x0000000104926014 chromedriver + 4251668\n",
      "15  libsystem_pthread.dylib             0x00000001a3d2606c _pthread_start + 148\n",
      "16  libsystem_pthread.dylib             0x00000001a3d20e2c thread_start + 8\n",
      "\n"
     ]
    },
    {
     "name": "stderr",
     "output_type": "stream",
     "text": [
      "  1%|          | 173/30819 [16:26<48:09:51,  5.66s/it]"
     ]
    },
    {
     "name": "stdout",
     "output_type": "stream",
     "text": [
      "Message: no such element: Unable to locate element: {\"method\":\"css selector\",\"selector\":\".prose\"}\n",
      "  (Session info: chrome=112.0.5615.137)\n",
      "Stacktrace:\n",
      "0   chromedriver                        0x000000010491ed3c chromedriver + 4222268\n",
      "1   chromedriver                        0x00000001048a58e8 chromedriver + 3725544\n",
      "2   chromedriver                        0x000000010455bda4 chromedriver + 277924\n",
      "3   chromedriver                        0x00000001045971b8 chromedriver + 520632\n",
      "4   chromedriver                        0x00000001045cf618 chromedriver + 751128\n",
      "5   chromedriver                        0x00000001045898f0 chromedriver + 465136\n",
      "6   chromedriver                        0x000000010458a974 chromedriver + 469364\n",
      "7   chromedriver                        0x00000001048ef788 chromedriver + 4028296\n",
      "8   chromedriver                        0x00000001048f3c1c chromedriver + 4045852\n",
      "9   chromedriver                        0x00000001048f9c98 chromedriver + 4070552\n",
      "10  chromedriver                        0x00000001048f48d8 chromedriver + 4049112\n",
      "11  chromedriver                        0x00000001048cbd84 chromedriver + 3882372\n",
      "12  chromedriver                        0x0000000104912720 chromedriver + 4171552\n",
      "13  chromedriver                        0x0000000104912878 chromedriver + 4171896\n",
      "14  chromedriver                        0x0000000104926014 chromedriver + 4251668\n",
      "15  libsystem_pthread.dylib             0x00000001a3d2606c _pthread_start + 148\n",
      "16  libsystem_pthread.dylib             0x00000001a3d20e2c thread_start + 8\n",
      "\n"
     ]
    },
    {
     "name": "stderr",
     "output_type": "stream",
     "text": [
      "  1%|          | 174/30819 [16:31<44:37:53,  5.24s/it]"
     ]
    },
    {
     "name": "stdout",
     "output_type": "stream",
     "text": [
      "Message: no such element: Unable to locate element: {\"method\":\"css selector\",\"selector\":\".prose\"}\n",
      "  (Session info: chrome=112.0.5615.137)\n",
      "Stacktrace:\n",
      "0   chromedriver                        0x000000010491ed3c chromedriver + 4222268\n",
      "1   chromedriver                        0x00000001048a58e8 chromedriver + 3725544\n",
      "2   chromedriver                        0x000000010455bda4 chromedriver + 277924\n",
      "3   chromedriver                        0x00000001045971b8 chromedriver + 520632\n",
      "4   chromedriver                        0x00000001045cf618 chromedriver + 751128\n",
      "5   chromedriver                        0x00000001045898f0 chromedriver + 465136\n",
      "6   chromedriver                        0x000000010458a974 chromedriver + 469364\n",
      "7   chromedriver                        0x00000001048ef788 chromedriver + 4028296\n",
      "8   chromedriver                        0x00000001048f3c1c chromedriver + 4045852\n",
      "9   chromedriver                        0x00000001048f9c98 chromedriver + 4070552\n",
      "10  chromedriver                        0x00000001048f48d8 chromedriver + 4049112\n",
      "11  chromedriver                        0x00000001048cbd84 chromedriver + 3882372\n",
      "12  chromedriver                        0x0000000104912720 chromedriver + 4171552\n",
      "13  chromedriver                        0x0000000104912878 chromedriver + 4171896\n",
      "14  chromedriver                        0x0000000104926014 chromedriver + 4251668\n",
      "15  libsystem_pthread.dylib             0x00000001a3d2606c _pthread_start + 148\n",
      "16  libsystem_pthread.dylib             0x00000001a3d20e2c thread_start + 8\n",
      "\n"
     ]
    },
    {
     "name": "stderr",
     "output_type": "stream",
     "text": [
      "  1%|          | 175/30819 [16:36<44:39:40,  5.25s/it]"
     ]
    },
    {
     "name": "stdout",
     "output_type": "stream",
     "text": [
      "Message: no such element: Unable to locate element: {\"method\":\"css selector\",\"selector\":\".prose\"}\n",
      "  (Session info: chrome=112.0.5615.137)\n",
      "Stacktrace:\n",
      "0   chromedriver                        0x000000010491ed3c chromedriver + 4222268\n",
      "1   chromedriver                        0x00000001048a58e8 chromedriver + 3725544\n",
      "2   chromedriver                        0x000000010455bda4 chromedriver + 277924\n",
      "3   chromedriver                        0x00000001045971b8 chromedriver + 520632\n",
      "4   chromedriver                        0x00000001045cf618 chromedriver + 751128\n",
      "5   chromedriver                        0x00000001045898f0 chromedriver + 465136\n",
      "6   chromedriver                        0x000000010458a974 chromedriver + 469364\n",
      "7   chromedriver                        0x00000001048ef788 chromedriver + 4028296\n",
      "8   chromedriver                        0x00000001048f3c1c chromedriver + 4045852\n",
      "9   chromedriver                        0x00000001048f9c98 chromedriver + 4070552\n",
      "10  chromedriver                        0x00000001048f48d8 chromedriver + 4049112\n",
      "11  chromedriver                        0x00000001048cbd84 chromedriver + 3882372\n",
      "12  chromedriver                        0x0000000104912720 chromedriver + 4171552\n",
      "13  chromedriver                        0x0000000104912878 chromedriver + 4171896\n",
      "14  chromedriver                        0x0000000104926014 chromedriver + 4251668\n",
      "15  libsystem_pthread.dylib             0x00000001a3d2606c _pthread_start + 148\n",
      "16  libsystem_pthread.dylib             0x00000001a3d20e2c thread_start + 8\n",
      "\n"
     ]
    },
    {
     "name": "stderr",
     "output_type": "stream",
     "text": [
      "  1%|          | 182/30819 [17:19<47:47:03,  5.61s/it]"
     ]
    },
    {
     "name": "stdout",
     "output_type": "stream",
     "text": [
      "Message: no such element: Unable to locate element: {\"method\":\"css selector\",\"selector\":\".prose\"}\n",
      "  (Session info: chrome=112.0.5615.137)\n",
      "Stacktrace:\n",
      "0   chromedriver                        0x000000010491ed3c chromedriver + 4222268\n",
      "1   chromedriver                        0x00000001048a58e8 chromedriver + 3725544\n",
      "2   chromedriver                        0x000000010455bda4 chromedriver + 277924\n",
      "3   chromedriver                        0x00000001045971b8 chromedriver + 520632\n",
      "4   chromedriver                        0x00000001045cf618 chromedriver + 751128\n",
      "5   chromedriver                        0x00000001045898f0 chromedriver + 465136\n",
      "6   chromedriver                        0x000000010458a974 chromedriver + 469364\n",
      "7   chromedriver                        0x00000001048ef788 chromedriver + 4028296\n",
      "8   chromedriver                        0x00000001048f3c1c chromedriver + 4045852\n",
      "9   chromedriver                        0x00000001048f9c98 chromedriver + 4070552\n",
      "10  chromedriver                        0x00000001048f48d8 chromedriver + 4049112\n",
      "11  chromedriver                        0x00000001048cbd84 chromedriver + 3882372\n",
      "12  chromedriver                        0x0000000104912720 chromedriver + 4171552\n",
      "13  chromedriver                        0x0000000104912878 chromedriver + 4171896\n",
      "14  chromedriver                        0x0000000104926014 chromedriver + 4251668\n",
      "15  libsystem_pthread.dylib             0x00000001a3d2606c _pthread_start + 148\n",
      "16  libsystem_pthread.dylib             0x00000001a3d20e2c thread_start + 8\n",
      "\n"
     ]
    },
    {
     "name": "stderr",
     "output_type": "stream",
     "text": [
      "  1%|          | 183/30819 [17:24<46:51:34,  5.51s/it]"
     ]
    },
    {
     "name": "stdout",
     "output_type": "stream",
     "text": [
      "Message: no such element: Unable to locate element: {\"method\":\"css selector\",\"selector\":\".prose\"}\n",
      "  (Session info: chrome=112.0.5615.137)\n",
      "Stacktrace:\n",
      "0   chromedriver                        0x000000010491ed3c chromedriver + 4222268\n",
      "1   chromedriver                        0x00000001048a58e8 chromedriver + 3725544\n",
      "2   chromedriver                        0x000000010455bda4 chromedriver + 277924\n",
      "3   chromedriver                        0x00000001045971b8 chromedriver + 520632\n",
      "4   chromedriver                        0x00000001045cf618 chromedriver + 751128\n",
      "5   chromedriver                        0x00000001045898f0 chromedriver + 465136\n",
      "6   chromedriver                        0x000000010458a974 chromedriver + 469364\n",
      "7   chromedriver                        0x00000001048ef788 chromedriver + 4028296\n",
      "8   chromedriver                        0x00000001048f3c1c chromedriver + 4045852\n",
      "9   chromedriver                        0x00000001048f9c98 chromedriver + 4070552\n",
      "10  chromedriver                        0x00000001048f48d8 chromedriver + 4049112\n",
      "11  chromedriver                        0x00000001048cbd84 chromedriver + 3882372\n",
      "12  chromedriver                        0x0000000104912720 chromedriver + 4171552\n",
      "13  chromedriver                        0x0000000104912878 chromedriver + 4171896\n",
      "14  chromedriver                        0x0000000104926014 chromedriver + 4251668\n",
      "15  libsystem_pthread.dylib             0x00000001a3d2606c _pthread_start + 148\n",
      "16  libsystem_pthread.dylib             0x00000001a3d20e2c thread_start + 8\n",
      "\n"
     ]
    },
    {
     "name": "stderr",
     "output_type": "stream",
     "text": [
      "  1%|          | 184/30819 [17:28<43:41:11,  5.13s/it]"
     ]
    },
    {
     "name": "stdout",
     "output_type": "stream",
     "text": [
      "Message: no such element: Unable to locate element: {\"method\":\"css selector\",\"selector\":\".prose\"}\n",
      "  (Session info: chrome=112.0.5615.137)\n",
      "Stacktrace:\n",
      "0   chromedriver                        0x000000010491ed3c chromedriver + 4222268\n",
      "1   chromedriver                        0x00000001048a58e8 chromedriver + 3725544\n",
      "2   chromedriver                        0x000000010455bda4 chromedriver + 277924\n",
      "3   chromedriver                        0x00000001045971b8 chromedriver + 520632\n",
      "4   chromedriver                        0x00000001045cf618 chromedriver + 751128\n",
      "5   chromedriver                        0x00000001045898f0 chromedriver + 465136\n",
      "6   chromedriver                        0x000000010458a974 chromedriver + 469364\n",
      "7   chromedriver                        0x00000001048ef788 chromedriver + 4028296\n",
      "8   chromedriver                        0x00000001048f3c1c chromedriver + 4045852\n",
      "9   chromedriver                        0x00000001048f9c98 chromedriver + 4070552\n",
      "10  chromedriver                        0x00000001048f48d8 chromedriver + 4049112\n",
      "11  chromedriver                        0x00000001048cbd84 chromedriver + 3882372\n",
      "12  chromedriver                        0x0000000104912720 chromedriver + 4171552\n",
      "13  chromedriver                        0x0000000104912878 chromedriver + 4171896\n",
      "14  chromedriver                        0x0000000104926014 chromedriver + 4251668\n",
      "15  libsystem_pthread.dylib             0x00000001a3d2606c _pthread_start + 148\n",
      "16  libsystem_pthread.dylib             0x00000001a3d20e2c thread_start + 8\n",
      "\n"
     ]
    },
    {
     "name": "stderr",
     "output_type": "stream",
     "text": [
      "  1%|          | 185/30819 [17:33<44:01:11,  5.17s/it]"
     ]
    },
    {
     "name": "stdout",
     "output_type": "stream",
     "text": [
      "Message: no such element: Unable to locate element: {\"method\":\"css selector\",\"selector\":\".prose\"}\n",
      "  (Session info: chrome=112.0.5615.137)\n",
      "Stacktrace:\n",
      "0   chromedriver                        0x000000010491ed3c chromedriver + 4222268\n",
      "1   chromedriver                        0x00000001048a58e8 chromedriver + 3725544\n",
      "2   chromedriver                        0x000000010455bda4 chromedriver + 277924\n",
      "3   chromedriver                        0x00000001045971b8 chromedriver + 520632\n",
      "4   chromedriver                        0x00000001045cf618 chromedriver + 751128\n",
      "5   chromedriver                        0x00000001045898f0 chromedriver + 465136\n",
      "6   chromedriver                        0x000000010458a974 chromedriver + 469364\n",
      "7   chromedriver                        0x00000001048ef788 chromedriver + 4028296\n",
      "8   chromedriver                        0x00000001048f3c1c chromedriver + 4045852\n",
      "9   chromedriver                        0x00000001048f9c98 chromedriver + 4070552\n",
      "10  chromedriver                        0x00000001048f48d8 chromedriver + 4049112\n",
      "11  chromedriver                        0x00000001048cbd84 chromedriver + 3882372\n",
      "12  chromedriver                        0x0000000104912720 chromedriver + 4171552\n",
      "13  chromedriver                        0x0000000104912878 chromedriver + 4171896\n",
      "14  chromedriver                        0x0000000104926014 chromedriver + 4251668\n",
      "15  libsystem_pthread.dylib             0x00000001a3d2606c _pthread_start + 148\n",
      "16  libsystem_pthread.dylib             0x00000001a3d20e2c thread_start + 8\n",
      "\n"
     ]
    },
    {
     "name": "stderr",
     "output_type": "stream",
     "text": [
      "  1%|          | 193/30819 [18:20<50:16:29,  5.91s/it]"
     ]
    },
    {
     "name": "stdout",
     "output_type": "stream",
     "text": [
      "Message: no such element: Unable to locate element: {\"method\":\"css selector\",\"selector\":\".prose\"}\n",
      "  (Session info: chrome=112.0.5615.137)\n",
      "Stacktrace:\n",
      "0   chromedriver                        0x000000010491ed3c chromedriver + 4222268\n",
      "1   chromedriver                        0x00000001048a58e8 chromedriver + 3725544\n",
      "2   chromedriver                        0x000000010455bda4 chromedriver + 277924\n",
      "3   chromedriver                        0x00000001045971b8 chromedriver + 520632\n",
      "4   chromedriver                        0x00000001045cf618 chromedriver + 751128\n",
      "5   chromedriver                        0x00000001045898f0 chromedriver + 465136\n",
      "6   chromedriver                        0x000000010458a974 chromedriver + 469364\n",
      "7   chromedriver                        0x00000001048ef788 chromedriver + 4028296\n",
      "8   chromedriver                        0x00000001048f3c1c chromedriver + 4045852\n",
      "9   chromedriver                        0x00000001048f9c98 chromedriver + 4070552\n",
      "10  chromedriver                        0x00000001048f48d8 chromedriver + 4049112\n",
      "11  chromedriver                        0x00000001048cbd84 chromedriver + 3882372\n",
      "12  chromedriver                        0x0000000104912720 chromedriver + 4171552\n",
      "13  chromedriver                        0x0000000104912878 chromedriver + 4171896\n",
      "14  chromedriver                        0x0000000104926014 chromedriver + 4251668\n",
      "15  libsystem_pthread.dylib             0x00000001a3d2606c _pthread_start + 148\n",
      "16  libsystem_pthread.dylib             0x00000001a3d20e2c thread_start + 8\n",
      "\n"
     ]
    },
    {
     "name": "stderr",
     "output_type": "stream",
     "text": [
      "  1%|          | 194/30819 [18:25<48:33:15,  5.71s/it]"
     ]
    },
    {
     "name": "stdout",
     "output_type": "stream",
     "text": [
      "Message: no such element: Unable to locate element: {\"method\":\"css selector\",\"selector\":\".prose\"}\n",
      "  (Session info: chrome=112.0.5615.137)\n",
      "Stacktrace:\n",
      "0   chromedriver                        0x000000010491ed3c chromedriver + 4222268\n",
      "1   chromedriver                        0x00000001048a58e8 chromedriver + 3725544\n",
      "2   chromedriver                        0x000000010455bda4 chromedriver + 277924\n",
      "3   chromedriver                        0x00000001045971b8 chromedriver + 520632\n",
      "4   chromedriver                        0x00000001045cf618 chromedriver + 751128\n",
      "5   chromedriver                        0x00000001045898f0 chromedriver + 465136\n",
      "6   chromedriver                        0x000000010458a974 chromedriver + 469364\n",
      "7   chromedriver                        0x00000001048ef788 chromedriver + 4028296\n",
      "8   chromedriver                        0x00000001048f3c1c chromedriver + 4045852\n",
      "9   chromedriver                        0x00000001048f9c98 chromedriver + 4070552\n",
      "10  chromedriver                        0x00000001048f48d8 chromedriver + 4049112\n",
      "11  chromedriver                        0x00000001048cbd84 chromedriver + 3882372\n",
      "12  chromedriver                        0x0000000104912720 chromedriver + 4171552\n",
      "13  chromedriver                        0x0000000104912878 chromedriver + 4171896\n",
      "14  chromedriver                        0x0000000104926014 chromedriver + 4251668\n",
      "15  libsystem_pthread.dylib             0x00000001a3d2606c _pthread_start + 148\n",
      "16  libsystem_pthread.dylib             0x00000001a3d20e2c thread_start + 8\n",
      "\n"
     ]
    },
    {
     "name": "stderr",
     "output_type": "stream",
     "text": [
      "  1%|          | 195/30819 [18:32<50:01:31,  5.88s/it]"
     ]
    },
    {
     "name": "stdout",
     "output_type": "stream",
     "text": [
      "Message: no such element: Unable to locate element: {\"method\":\"css selector\",\"selector\":\".prose\"}\n",
      "  (Session info: chrome=112.0.5615.137)\n",
      "Stacktrace:\n",
      "0   chromedriver                        0x000000010491ed3c chromedriver + 4222268\n",
      "1   chromedriver                        0x00000001048a58e8 chromedriver + 3725544\n",
      "2   chromedriver                        0x000000010455bda4 chromedriver + 277924\n",
      "3   chromedriver                        0x00000001045971b8 chromedriver + 520632\n",
      "4   chromedriver                        0x00000001045cf618 chromedriver + 751128\n",
      "5   chromedriver                        0x00000001045898f0 chromedriver + 465136\n",
      "6   chromedriver                        0x000000010458a974 chromedriver + 469364\n",
      "7   chromedriver                        0x00000001048ef788 chromedriver + 4028296\n",
      "8   chromedriver                        0x00000001048f3c1c chromedriver + 4045852\n",
      "9   chromedriver                        0x00000001048f9c98 chromedriver + 4070552\n",
      "10  chromedriver                        0x00000001048f48d8 chromedriver + 4049112\n",
      "11  chromedriver                        0x00000001048cbd84 chromedriver + 3882372\n",
      "12  chromedriver                        0x0000000104912720 chromedriver + 4171552\n",
      "13  chromedriver                        0x0000000104912878 chromedriver + 4171896\n",
      "14  chromedriver                        0x0000000104926014 chromedriver + 4251668\n",
      "15  libsystem_pthread.dylib             0x00000001a3d2606c _pthread_start + 148\n",
      "16  libsystem_pthread.dylib             0x00000001a3d20e2c thread_start + 8\n",
      "\n"
     ]
    },
    {
     "name": "stderr",
     "output_type": "stream",
     "text": [
      "  1%|          | 205/30819 [19:28<45:53:47,  5.40s/it]"
     ]
    },
    {
     "name": "stdout",
     "output_type": "stream",
     "text": [
      "Message: no such element: Unable to locate element: {\"method\":\"css selector\",\"selector\":\".prose\"}\n",
      "  (Session info: chrome=112.0.5615.137)\n",
      "Stacktrace:\n",
      "0   chromedriver                        0x000000010491ed3c chromedriver + 4222268\n",
      "1   chromedriver                        0x00000001048a58e8 chromedriver + 3725544\n",
      "2   chromedriver                        0x000000010455bda4 chromedriver + 277924\n",
      "3   chromedriver                        0x00000001045971b8 chromedriver + 520632\n",
      "4   chromedriver                        0x00000001045cf618 chromedriver + 751128\n",
      "5   chromedriver                        0x00000001045898f0 chromedriver + 465136\n",
      "6   chromedriver                        0x000000010458a974 chromedriver + 469364\n",
      "7   chromedriver                        0x00000001048ef788 chromedriver + 4028296\n",
      "8   chromedriver                        0x00000001048f3c1c chromedriver + 4045852\n",
      "9   chromedriver                        0x00000001048f9c98 chromedriver + 4070552\n",
      "10  chromedriver                        0x00000001048f48d8 chromedriver + 4049112\n",
      "11  chromedriver                        0x00000001048cbd84 chromedriver + 3882372\n",
      "12  chromedriver                        0x0000000104912720 chromedriver + 4171552\n",
      "13  chromedriver                        0x0000000104912878 chromedriver + 4171896\n",
      "14  chromedriver                        0x0000000104926014 chromedriver + 4251668\n",
      "15  libsystem_pthread.dylib             0x00000001a3d2606c _pthread_start + 148\n",
      "16  libsystem_pthread.dylib             0x00000001a3d20e2c thread_start + 8\n",
      "\n"
     ]
    },
    {
     "name": "stderr",
     "output_type": "stream",
     "text": [
      "  1%|          | 206/30819 [19:32<42:55:22,  5.05s/it]"
     ]
    },
    {
     "name": "stdout",
     "output_type": "stream",
     "text": [
      "Message: no such element: Unable to locate element: {\"method\":\"css selector\",\"selector\":\".prose\"}\n",
      "  (Session info: chrome=112.0.5615.137)\n",
      "Stacktrace:\n",
      "0   chromedriver                        0x000000010491ed3c chromedriver + 4222268\n",
      "1   chromedriver                        0x00000001048a58e8 chromedriver + 3725544\n",
      "2   chromedriver                        0x000000010455bda4 chromedriver + 277924\n",
      "3   chromedriver                        0x00000001045971b8 chromedriver + 520632\n",
      "4   chromedriver                        0x00000001045cf618 chromedriver + 751128\n",
      "5   chromedriver                        0x00000001045898f0 chromedriver + 465136\n",
      "6   chromedriver                        0x000000010458a974 chromedriver + 469364\n",
      "7   chromedriver                        0x00000001048ef788 chromedriver + 4028296\n",
      "8   chromedriver                        0x00000001048f3c1c chromedriver + 4045852\n",
      "9   chromedriver                        0x00000001048f9c98 chromedriver + 4070552\n",
      "10  chromedriver                        0x00000001048f48d8 chromedriver + 4049112\n",
      "11  chromedriver                        0x00000001048cbd84 chromedriver + 3882372\n",
      "12  chromedriver                        0x0000000104912720 chromedriver + 4171552\n",
      "13  chromedriver                        0x0000000104912878 chromedriver + 4171896\n",
      "14  chromedriver                        0x0000000104926014 chromedriver + 4251668\n",
      "15  libsystem_pthread.dylib             0x00000001a3d2606c _pthread_start + 148\n",
      "16  libsystem_pthread.dylib             0x00000001a3d20e2c thread_start + 8\n",
      "\n"
     ]
    },
    {
     "name": "stderr",
     "output_type": "stream",
     "text": [
      "  1%|          | 212/30819 [20:10<51:44:40,  6.09s/it]"
     ]
    },
    {
     "name": "stdout",
     "output_type": "stream",
     "text": [
      "Message: no such element: Unable to locate element: {\"method\":\"css selector\",\"selector\":\".prose\"}\n",
      "  (Session info: chrome=112.0.5615.137)\n",
      "Stacktrace:\n",
      "0   chromedriver                        0x000000010491ed3c chromedriver + 4222268\n",
      "1   chromedriver                        0x00000001048a58e8 chromedriver + 3725544\n",
      "2   chromedriver                        0x000000010455bda4 chromedriver + 277924\n",
      "3   chromedriver                        0x00000001045971b8 chromedriver + 520632\n",
      "4   chromedriver                        0x00000001045cf618 chromedriver + 751128\n",
      "5   chromedriver                        0x00000001045898f0 chromedriver + 465136\n",
      "6   chromedriver                        0x000000010458a974 chromedriver + 469364\n",
      "7   chromedriver                        0x00000001048ef788 chromedriver + 4028296\n",
      "8   chromedriver                        0x00000001048f3c1c chromedriver + 4045852\n",
      "9   chromedriver                        0x00000001048f9c98 chromedriver + 4070552\n",
      "10  chromedriver                        0x00000001048f48d8 chromedriver + 4049112\n",
      "11  chromedriver                        0x00000001048cbd84 chromedriver + 3882372\n",
      "12  chromedriver                        0x0000000104912720 chromedriver + 4171552\n",
      "13  chromedriver                        0x0000000104912878 chromedriver + 4171896\n",
      "14  chromedriver                        0x0000000104926014 chromedriver + 4251668\n",
      "15  libsystem_pthread.dylib             0x00000001a3d2606c _pthread_start + 148\n",
      "16  libsystem_pthread.dylib             0x00000001a3d20e2c thread_start + 8\n",
      "\n"
     ]
    },
    {
     "name": "stderr",
     "output_type": "stream",
     "text": [
      "  1%|          | 213/30819 [20:14<46:57:31,  5.52s/it]"
     ]
    },
    {
     "name": "stdout",
     "output_type": "stream",
     "text": [
      "Message: no such element: Unable to locate element: {\"method\":\"css selector\",\"selector\":\".prose\"}\n",
      "  (Session info: chrome=112.0.5615.137)\n",
      "Stacktrace:\n",
      "0   chromedriver                        0x000000010491ed3c chromedriver + 4222268\n",
      "1   chromedriver                        0x00000001048a58e8 chromedriver + 3725544\n",
      "2   chromedriver                        0x000000010455bda4 chromedriver + 277924\n",
      "3   chromedriver                        0x00000001045971b8 chromedriver + 520632\n",
      "4   chromedriver                        0x00000001045cf618 chromedriver + 751128\n",
      "5   chromedriver                        0x00000001045898f0 chromedriver + 465136\n",
      "6   chromedriver                        0x000000010458a974 chromedriver + 469364\n",
      "7   chromedriver                        0x00000001048ef788 chromedriver + 4028296\n",
      "8   chromedriver                        0x00000001048f3c1c chromedriver + 4045852\n",
      "9   chromedriver                        0x00000001048f9c98 chromedriver + 4070552\n",
      "10  chromedriver                        0x00000001048f48d8 chromedriver + 4049112\n",
      "11  chromedriver                        0x00000001048cbd84 chromedriver + 3882372\n",
      "12  chromedriver                        0x0000000104912720 chromedriver + 4171552\n",
      "13  chromedriver                        0x0000000104912878 chromedriver + 4171896\n",
      "14  chromedriver                        0x0000000104926014 chromedriver + 4251668\n",
      "15  libsystem_pthread.dylib             0x00000001a3d2606c _pthread_start + 148\n",
      "16  libsystem_pthread.dylib             0x00000001a3d20e2c thread_start + 8\n",
      "\n"
     ]
    },
    {
     "name": "stderr",
     "output_type": "stream",
     "text": [
      "  1%|          | 214/30819 [20:21<48:47:20,  5.74s/it]"
     ]
    },
    {
     "name": "stdout",
     "output_type": "stream",
     "text": [
      "Message: no such element: Unable to locate element: {\"method\":\"css selector\",\"selector\":\".prose\"}\n",
      "  (Session info: chrome=112.0.5615.137)\n",
      "Stacktrace:\n",
      "0   chromedriver                        0x000000010491ed3c chromedriver + 4222268\n",
      "1   chromedriver                        0x00000001048a58e8 chromedriver + 3725544\n",
      "2   chromedriver                        0x000000010455bda4 chromedriver + 277924\n",
      "3   chromedriver                        0x00000001045971b8 chromedriver + 520632\n",
      "4   chromedriver                        0x00000001045cf618 chromedriver + 751128\n",
      "5   chromedriver                        0x00000001045898f0 chromedriver + 465136\n",
      "6   chromedriver                        0x000000010458a974 chromedriver + 469364\n",
      "7   chromedriver                        0x00000001048ef788 chromedriver + 4028296\n",
      "8   chromedriver                        0x00000001048f3c1c chromedriver + 4045852\n",
      "9   chromedriver                        0x00000001048f9c98 chromedriver + 4070552\n",
      "10  chromedriver                        0x00000001048f48d8 chromedriver + 4049112\n",
      "11  chromedriver                        0x00000001048cbd84 chromedriver + 3882372\n",
      "12  chromedriver                        0x0000000104912720 chromedriver + 4171552\n",
      "13  chromedriver                        0x0000000104912878 chromedriver + 4171896\n",
      "14  chromedriver                        0x0000000104926014 chromedriver + 4251668\n",
      "15  libsystem_pthread.dylib             0x00000001a3d2606c _pthread_start + 148\n",
      "16  libsystem_pthread.dylib             0x00000001a3d20e2c thread_start + 8\n",
      "\n"
     ]
    },
    {
     "name": "stderr",
     "output_type": "stream",
     "text": [
      "  1%|          | 215/30819 [20:26<47:30:34,  5.59s/it]"
     ]
    },
    {
     "name": "stdout",
     "output_type": "stream",
     "text": [
      "Message: no such element: Unable to locate element: {\"method\":\"css selector\",\"selector\":\".prose\"}\n",
      "  (Session info: chrome=112.0.5615.137)\n",
      "Stacktrace:\n",
      "0   chromedriver                        0x000000010491ed3c chromedriver + 4222268\n",
      "1   chromedriver                        0x00000001048a58e8 chromedriver + 3725544\n",
      "2   chromedriver                        0x000000010455bda4 chromedriver + 277924\n",
      "3   chromedriver                        0x00000001045971b8 chromedriver + 520632\n",
      "4   chromedriver                        0x00000001045cf618 chromedriver + 751128\n",
      "5   chromedriver                        0x00000001045898f0 chromedriver + 465136\n",
      "6   chromedriver                        0x000000010458a974 chromedriver + 469364\n",
      "7   chromedriver                        0x00000001048ef788 chromedriver + 4028296\n",
      "8   chromedriver                        0x00000001048f3c1c chromedriver + 4045852\n",
      "9   chromedriver                        0x00000001048f9c98 chromedriver + 4070552\n",
      "10  chromedriver                        0x00000001048f48d8 chromedriver + 4049112\n",
      "11  chromedriver                        0x00000001048cbd84 chromedriver + 3882372\n",
      "12  chromedriver                        0x0000000104912720 chromedriver + 4171552\n",
      "13  chromedriver                        0x0000000104912878 chromedriver + 4171896\n",
      "14  chromedriver                        0x0000000104926014 chromedriver + 4251668\n",
      "15  libsystem_pthread.dylib             0x00000001a3d2606c _pthread_start + 148\n",
      "16  libsystem_pthread.dylib             0x00000001a3d20e2c thread_start + 8\n",
      "\n"
     ]
    },
    {
     "name": "stderr",
     "output_type": "stream",
     "text": [
      "  1%|          | 216/30819 [20:31<46:41:22,  5.49s/it]"
     ]
    },
    {
     "name": "stdout",
     "output_type": "stream",
     "text": [
      "Message: no such element: Unable to locate element: {\"method\":\"css selector\",\"selector\":\".prose\"}\n",
      "  (Session info: chrome=112.0.5615.137)\n",
      "Stacktrace:\n",
      "0   chromedriver                        0x000000010491ed3c chromedriver + 4222268\n",
      "1   chromedriver                        0x00000001048a58e8 chromedriver + 3725544\n",
      "2   chromedriver                        0x000000010455bda4 chromedriver + 277924\n",
      "3   chromedriver                        0x00000001045971b8 chromedriver + 520632\n",
      "4   chromedriver                        0x00000001045cf618 chromedriver + 751128\n",
      "5   chromedriver                        0x00000001045898f0 chromedriver + 465136\n",
      "6   chromedriver                        0x000000010458a974 chromedriver + 469364\n",
      "7   chromedriver                        0x00000001048ef788 chromedriver + 4028296\n",
      "8   chromedriver                        0x00000001048f3c1c chromedriver + 4045852\n",
      "9   chromedriver                        0x00000001048f9c98 chromedriver + 4070552\n",
      "10  chromedriver                        0x00000001048f48d8 chromedriver + 4049112\n",
      "11  chromedriver                        0x00000001048cbd84 chromedriver + 3882372\n",
      "12  chromedriver                        0x0000000104912720 chromedriver + 4171552\n",
      "13  chromedriver                        0x0000000104912878 chromedriver + 4171896\n",
      "14  chromedriver                        0x0000000104926014 chromedriver + 4251668\n",
      "15  libsystem_pthread.dylib             0x00000001a3d2606c _pthread_start + 148\n",
      "16  libsystem_pthread.dylib             0x00000001a3d20e2c thread_start + 8\n",
      "\n"
     ]
    },
    {
     "name": "stderr",
     "output_type": "stream",
     "text": [
      "  1%|          | 217/30819 [20:37<48:38:42,  5.72s/it]"
     ]
    },
    {
     "name": "stdout",
     "output_type": "stream",
     "text": [
      "Message: no such element: Unable to locate element: {\"method\":\"css selector\",\"selector\":\".prose\"}\n",
      "  (Session info: chrome=112.0.5615.137)\n",
      "Stacktrace:\n",
      "0   chromedriver                        0x000000010491ed3c chromedriver + 4222268\n",
      "1   chromedriver                        0x00000001048a58e8 chromedriver + 3725544\n",
      "2   chromedriver                        0x000000010455bda4 chromedriver + 277924\n",
      "3   chromedriver                        0x00000001045971b8 chromedriver + 520632\n",
      "4   chromedriver                        0x00000001045cf618 chromedriver + 751128\n",
      "5   chromedriver                        0x00000001045898f0 chromedriver + 465136\n",
      "6   chromedriver                        0x000000010458a974 chromedriver + 469364\n",
      "7   chromedriver                        0x00000001048ef788 chromedriver + 4028296\n",
      "8   chromedriver                        0x00000001048f3c1c chromedriver + 4045852\n",
      "9   chromedriver                        0x00000001048f9c98 chromedriver + 4070552\n",
      "10  chromedriver                        0x00000001048f48d8 chromedriver + 4049112\n",
      "11  chromedriver                        0x00000001048cbd84 chromedriver + 3882372\n",
      "12  chromedriver                        0x0000000104912720 chromedriver + 4171552\n",
      "13  chromedriver                        0x0000000104912878 chromedriver + 4171896\n",
      "14  chromedriver                        0x0000000104926014 chromedriver + 4251668\n",
      "15  libsystem_pthread.dylib             0x00000001a3d2606c _pthread_start + 148\n",
      "16  libsystem_pthread.dylib             0x00000001a3d20e2c thread_start + 8\n",
      "\n"
     ]
    },
    {
     "name": "stderr",
     "output_type": "stream",
     "text": [
      "  1%|          | 218/30819 [20:43<47:27:20,  5.58s/it]"
     ]
    },
    {
     "name": "stdout",
     "output_type": "stream",
     "text": [
      "Message: no such element: Unable to locate element: {\"method\":\"css selector\",\"selector\":\".prose\"}\n",
      "  (Session info: chrome=112.0.5615.137)\n",
      "Stacktrace:\n",
      "0   chromedriver                        0x000000010491ed3c chromedriver + 4222268\n",
      "1   chromedriver                        0x00000001048a58e8 chromedriver + 3725544\n",
      "2   chromedriver                        0x000000010455bda4 chromedriver + 277924\n",
      "3   chromedriver                        0x00000001045971b8 chromedriver + 520632\n",
      "4   chromedriver                        0x00000001045cf618 chromedriver + 751128\n",
      "5   chromedriver                        0x00000001045898f0 chromedriver + 465136\n",
      "6   chromedriver                        0x000000010458a974 chromedriver + 469364\n",
      "7   chromedriver                        0x00000001048ef788 chromedriver + 4028296\n",
      "8   chromedriver                        0x00000001048f3c1c chromedriver + 4045852\n",
      "9   chromedriver                        0x00000001048f9c98 chromedriver + 4070552\n",
      "10  chromedriver                        0x00000001048f48d8 chromedriver + 4049112\n",
      "11  chromedriver                        0x00000001048cbd84 chromedriver + 3882372\n",
      "12  chromedriver                        0x0000000104912720 chromedriver + 4171552\n",
      "13  chromedriver                        0x0000000104912878 chromedriver + 4171896\n",
      "14  chromedriver                        0x0000000104926014 chromedriver + 4251668\n",
      "15  libsystem_pthread.dylib             0x00000001a3d2606c _pthread_start + 148\n",
      "16  libsystem_pthread.dylib             0x00000001a3d20e2c thread_start + 8\n",
      "\n"
     ]
    },
    {
     "name": "stderr",
     "output_type": "stream",
     "text": [
      "  1%|          | 219/30819 [20:49<49:11:45,  5.79s/it]"
     ]
    },
    {
     "name": "stdout",
     "output_type": "stream",
     "text": [
      "Message: no such element: Unable to locate element: {\"method\":\"css selector\",\"selector\":\".prose\"}\n",
      "  (Session info: chrome=112.0.5615.137)\n",
      "Stacktrace:\n",
      "0   chromedriver                        0x000000010491ed3c chromedriver + 4222268\n",
      "1   chromedriver                        0x00000001048a58e8 chromedriver + 3725544\n",
      "2   chromedriver                        0x000000010455bda4 chromedriver + 277924\n",
      "3   chromedriver                        0x00000001045971b8 chromedriver + 520632\n",
      "4   chromedriver                        0x00000001045cf618 chromedriver + 751128\n",
      "5   chromedriver                        0x00000001045898f0 chromedriver + 465136\n",
      "6   chromedriver                        0x000000010458a974 chromedriver + 469364\n",
      "7   chromedriver                        0x00000001048ef788 chromedriver + 4028296\n",
      "8   chromedriver                        0x00000001048f3c1c chromedriver + 4045852\n",
      "9   chromedriver                        0x00000001048f9c98 chromedriver + 4070552\n",
      "10  chromedriver                        0x00000001048f48d8 chromedriver + 4049112\n",
      "11  chromedriver                        0x00000001048cbd84 chromedriver + 3882372\n",
      "12  chromedriver                        0x0000000104912720 chromedriver + 4171552\n",
      "13  chromedriver                        0x0000000104912878 chromedriver + 4171896\n",
      "14  chromedriver                        0x0000000104926014 chromedriver + 4251668\n",
      "15  libsystem_pthread.dylib             0x00000001a3d2606c _pthread_start + 148\n",
      "16  libsystem_pthread.dylib             0x00000001a3d20e2c thread_start + 8\n",
      "\n"
     ]
    },
    {
     "name": "stderr",
     "output_type": "stream",
     "text": [
      "  1%|          | 220/30819 [20:53<45:20:49,  5.34s/it]"
     ]
    },
    {
     "name": "stdout",
     "output_type": "stream",
     "text": [
      "Message: no such element: Unable to locate element: {\"method\":\"css selector\",\"selector\":\".prose\"}\n",
      "  (Session info: chrome=112.0.5615.137)\n",
      "Stacktrace:\n",
      "0   chromedriver                        0x000000010491ed3c chromedriver + 4222268\n",
      "1   chromedriver                        0x00000001048a58e8 chromedriver + 3725544\n",
      "2   chromedriver                        0x000000010455bda4 chromedriver + 277924\n",
      "3   chromedriver                        0x00000001045971b8 chromedriver + 520632\n",
      "4   chromedriver                        0x00000001045cf618 chromedriver + 751128\n",
      "5   chromedriver                        0x00000001045898f0 chromedriver + 465136\n",
      "6   chromedriver                        0x000000010458a974 chromedriver + 469364\n",
      "7   chromedriver                        0x00000001048ef788 chromedriver + 4028296\n",
      "8   chromedriver                        0x00000001048f3c1c chromedriver + 4045852\n",
      "9   chromedriver                        0x00000001048f9c98 chromedriver + 4070552\n",
      "10  chromedriver                        0x00000001048f48d8 chromedriver + 4049112\n",
      "11  chromedriver                        0x00000001048cbd84 chromedriver + 3882372\n",
      "12  chromedriver                        0x0000000104912720 chromedriver + 4171552\n",
      "13  chromedriver                        0x0000000104912878 chromedriver + 4171896\n",
      "14  chromedriver                        0x0000000104926014 chromedriver + 4251668\n",
      "15  libsystem_pthread.dylib             0x00000001a3d2606c _pthread_start + 148\n",
      "16  libsystem_pthread.dylib             0x00000001a3d20e2c thread_start + 8\n",
      "\n"
     ]
    },
    {
     "name": "stderr",
     "output_type": "stream",
     "text": [
      "  1%|          | 221/30819 [21:00<47:45:06,  5.62s/it]"
     ]
    },
    {
     "name": "stdout",
     "output_type": "stream",
     "text": [
      "Message: no such element: Unable to locate element: {\"method\":\"css selector\",\"selector\":\".prose\"}\n",
      "  (Session info: chrome=112.0.5615.137)\n",
      "Stacktrace:\n",
      "0   chromedriver                        0x000000010491ed3c chromedriver + 4222268\n",
      "1   chromedriver                        0x00000001048a58e8 chromedriver + 3725544\n",
      "2   chromedriver                        0x000000010455bda4 chromedriver + 277924\n",
      "3   chromedriver                        0x00000001045971b8 chromedriver + 520632\n",
      "4   chromedriver                        0x00000001045cf618 chromedriver + 751128\n",
      "5   chromedriver                        0x00000001045898f0 chromedriver + 465136\n",
      "6   chromedriver                        0x000000010458a974 chromedriver + 469364\n",
      "7   chromedriver                        0x00000001048ef788 chromedriver + 4028296\n",
      "8   chromedriver                        0x00000001048f3c1c chromedriver + 4045852\n",
      "9   chromedriver                        0x00000001048f9c98 chromedriver + 4070552\n",
      "10  chromedriver                        0x00000001048f48d8 chromedriver + 4049112\n",
      "11  chromedriver                        0x00000001048cbd84 chromedriver + 3882372\n",
      "12  chromedriver                        0x0000000104912720 chromedriver + 4171552\n",
      "13  chromedriver                        0x0000000104912878 chromedriver + 4171896\n",
      "14  chromedriver                        0x0000000104926014 chromedriver + 4251668\n",
      "15  libsystem_pthread.dylib             0x00000001a3d2606c _pthread_start + 148\n",
      "16  libsystem_pthread.dylib             0x00000001a3d20e2c thread_start + 8\n",
      "\n"
     ]
    },
    {
     "name": "stderr",
     "output_type": "stream",
     "text": [
      "  1%|          | 222/30819 [21:05<46:50:14,  5.51s/it]"
     ]
    },
    {
     "name": "stdout",
     "output_type": "stream",
     "text": [
      "Message: no such element: Unable to locate element: {\"method\":\"css selector\",\"selector\":\".prose\"}\n",
      "  (Session info: chrome=112.0.5615.137)\n",
      "Stacktrace:\n",
      "0   chromedriver                        0x000000010491ed3c chromedriver + 4222268\n",
      "1   chromedriver                        0x00000001048a58e8 chromedriver + 3725544\n",
      "2   chromedriver                        0x000000010455bda4 chromedriver + 277924\n",
      "3   chromedriver                        0x00000001045971b8 chromedriver + 520632\n",
      "4   chromedriver                        0x00000001045cf618 chromedriver + 751128\n",
      "5   chromedriver                        0x00000001045898f0 chromedriver + 465136\n",
      "6   chromedriver                        0x000000010458a974 chromedriver + 469364\n",
      "7   chromedriver                        0x00000001048ef788 chromedriver + 4028296\n",
      "8   chromedriver                        0x00000001048f3c1c chromedriver + 4045852\n",
      "9   chromedriver                        0x00000001048f9c98 chromedriver + 4070552\n",
      "10  chromedriver                        0x00000001048f48d8 chromedriver + 4049112\n",
      "11  chromedriver                        0x00000001048cbd84 chromedriver + 3882372\n",
      "12  chromedriver                        0x0000000104912720 chromedriver + 4171552\n",
      "13  chromedriver                        0x0000000104912878 chromedriver + 4171896\n",
      "14  chromedriver                        0x0000000104926014 chromedriver + 4251668\n",
      "15  libsystem_pthread.dylib             0x00000001a3d2606c _pthread_start + 148\n",
      "16  libsystem_pthread.dylib             0x00000001a3d20e2c thread_start + 8\n",
      "\n"
     ]
    },
    {
     "name": "stderr",
     "output_type": "stream",
     "text": [
      "  1%|          | 223/30819 [21:11<48:45:20,  5.74s/it]"
     ]
    },
    {
     "name": "stdout",
     "output_type": "stream",
     "text": [
      "Message: no such element: Unable to locate element: {\"method\":\"css selector\",\"selector\":\".prose\"}\n",
      "  (Session info: chrome=112.0.5615.137)\n",
      "Stacktrace:\n",
      "0   chromedriver                        0x000000010491ed3c chromedriver + 4222268\n",
      "1   chromedriver                        0x00000001048a58e8 chromedriver + 3725544\n",
      "2   chromedriver                        0x000000010455bda4 chromedriver + 277924\n",
      "3   chromedriver                        0x00000001045971b8 chromedriver + 520632\n",
      "4   chromedriver                        0x00000001045cf618 chromedriver + 751128\n",
      "5   chromedriver                        0x00000001045898f0 chromedriver + 465136\n",
      "6   chromedriver                        0x000000010458a974 chromedriver + 469364\n",
      "7   chromedriver                        0x00000001048ef788 chromedriver + 4028296\n",
      "8   chromedriver                        0x00000001048f3c1c chromedriver + 4045852\n",
      "9   chromedriver                        0x00000001048f9c98 chromedriver + 4070552\n",
      "10  chromedriver                        0x00000001048f48d8 chromedriver + 4049112\n",
      "11  chromedriver                        0x00000001048cbd84 chromedriver + 3882372\n",
      "12  chromedriver                        0x0000000104912720 chromedriver + 4171552\n",
      "13  chromedriver                        0x0000000104912878 chromedriver + 4171896\n",
      "14  chromedriver                        0x0000000104926014 chromedriver + 4251668\n",
      "15  libsystem_pthread.dylib             0x00000001a3d2606c _pthread_start + 148\n",
      "16  libsystem_pthread.dylib             0x00000001a3d20e2c thread_start + 8\n",
      "\n"
     ]
    },
    {
     "name": "stderr",
     "output_type": "stream",
     "text": [
      "  1%|          | 224/30819 [21:17<50:06:59,  5.90s/it]"
     ]
    },
    {
     "name": "stdout",
     "output_type": "stream",
     "text": [
      "Message: no such element: Unable to locate element: {\"method\":\"css selector\",\"selector\":\".prose\"}\n",
      "  (Session info: chrome=112.0.5615.137)\n",
      "Stacktrace:\n",
      "0   chromedriver                        0x000000010491ed3c chromedriver + 4222268\n",
      "1   chromedriver                        0x00000001048a58e8 chromedriver + 3725544\n",
      "2   chromedriver                        0x000000010455bda4 chromedriver + 277924\n",
      "3   chromedriver                        0x00000001045971b8 chromedriver + 520632\n",
      "4   chromedriver                        0x00000001045cf618 chromedriver + 751128\n",
      "5   chromedriver                        0x00000001045898f0 chromedriver + 465136\n",
      "6   chromedriver                        0x000000010458a974 chromedriver + 469364\n",
      "7   chromedriver                        0x00000001048ef788 chromedriver + 4028296\n",
      "8   chromedriver                        0x00000001048f3c1c chromedriver + 4045852\n",
      "9   chromedriver                        0x00000001048f9c98 chromedriver + 4070552\n",
      "10  chromedriver                        0x00000001048f48d8 chromedriver + 4049112\n",
      "11  chromedriver                        0x00000001048cbd84 chromedriver + 3882372\n",
      "12  chromedriver                        0x0000000104912720 chromedriver + 4171552\n",
      "13  chromedriver                        0x0000000104912878 chromedriver + 4171896\n",
      "14  chromedriver                        0x0000000104926014 chromedriver + 4251668\n",
      "15  libsystem_pthread.dylib             0x00000001a3d2606c _pthread_start + 148\n",
      "16  libsystem_pthread.dylib             0x00000001a3d20e2c thread_start + 8\n",
      "\n"
     ]
    },
    {
     "name": "stderr",
     "output_type": "stream",
     "text": [
      "  1%|          | 225/30819 [21:23<48:29:53,  5.71s/it]"
     ]
    },
    {
     "name": "stdout",
     "output_type": "stream",
     "text": [
      "Message: no such element: Unable to locate element: {\"method\":\"css selector\",\"selector\":\".prose\"}\n",
      "  (Session info: chrome=112.0.5615.137)\n",
      "Stacktrace:\n",
      "0   chromedriver                        0x000000010491ed3c chromedriver + 4222268\n",
      "1   chromedriver                        0x00000001048a58e8 chromedriver + 3725544\n",
      "2   chromedriver                        0x000000010455bda4 chromedriver + 277924\n",
      "3   chromedriver                        0x00000001045971b8 chromedriver + 520632\n",
      "4   chromedriver                        0x00000001045cf618 chromedriver + 751128\n",
      "5   chromedriver                        0x00000001045898f0 chromedriver + 465136\n",
      "6   chromedriver                        0x000000010458a974 chromedriver + 469364\n",
      "7   chromedriver                        0x00000001048ef788 chromedriver + 4028296\n",
      "8   chromedriver                        0x00000001048f3c1c chromedriver + 4045852\n",
      "9   chromedriver                        0x00000001048f9c98 chromedriver + 4070552\n",
      "10  chromedriver                        0x00000001048f48d8 chromedriver + 4049112\n",
      "11  chromedriver                        0x00000001048cbd84 chromedriver + 3882372\n",
      "12  chromedriver                        0x0000000104912720 chromedriver + 4171552\n",
      "13  chromedriver                        0x0000000104912878 chromedriver + 4171896\n",
      "14  chromedriver                        0x0000000104926014 chromedriver + 4251668\n",
      "15  libsystem_pthread.dylib             0x00000001a3d2606c _pthread_start + 148\n",
      "16  libsystem_pthread.dylib             0x00000001a3d20e2c thread_start + 8\n",
      "\n"
     ]
    },
    {
     "name": "stderr",
     "output_type": "stream",
     "text": [
      "  1%|          | 226/30819 [21:28<47:24:38,  5.58s/it]"
     ]
    },
    {
     "name": "stdout",
     "output_type": "stream",
     "text": [
      "Message: no such element: Unable to locate element: {\"method\":\"css selector\",\"selector\":\".prose\"}\n",
      "  (Session info: chrome=112.0.5615.137)\n",
      "Stacktrace:\n",
      "0   chromedriver                        0x000000010491ed3c chromedriver + 4222268\n",
      "1   chromedriver                        0x00000001048a58e8 chromedriver + 3725544\n",
      "2   chromedriver                        0x000000010455bda4 chromedriver + 277924\n",
      "3   chromedriver                        0x00000001045971b8 chromedriver + 520632\n",
      "4   chromedriver                        0x00000001045cf618 chromedriver + 751128\n",
      "5   chromedriver                        0x00000001045898f0 chromedriver + 465136\n",
      "6   chromedriver                        0x000000010458a974 chromedriver + 469364\n",
      "7   chromedriver                        0x00000001048ef788 chromedriver + 4028296\n",
      "8   chromedriver                        0x00000001048f3c1c chromedriver + 4045852\n",
      "9   chromedriver                        0x00000001048f9c98 chromedriver + 4070552\n",
      "10  chromedriver                        0x00000001048f48d8 chromedriver + 4049112\n",
      "11  chromedriver                        0x00000001048cbd84 chromedriver + 3882372\n",
      "12  chromedriver                        0x0000000104912720 chromedriver + 4171552\n",
      "13  chromedriver                        0x0000000104912878 chromedriver + 4171896\n",
      "14  chromedriver                        0x0000000104926014 chromedriver + 4251668\n",
      "15  libsystem_pthread.dylib             0x00000001a3d2606c _pthread_start + 148\n",
      "16  libsystem_pthread.dylib             0x00000001a3d20e2c thread_start + 8\n",
      "\n"
     ]
    },
    {
     "name": "stderr",
     "output_type": "stream",
     "text": [
      "  1%|          | 227/30819 [21:33<46:39:21,  5.49s/it]"
     ]
    },
    {
     "name": "stdout",
     "output_type": "stream",
     "text": [
      "Message: no such element: Unable to locate element: {\"method\":\"css selector\",\"selector\":\".prose\"}\n",
      "  (Session info: chrome=112.0.5615.137)\n",
      "Stacktrace:\n",
      "0   chromedriver                        0x000000010491ed3c chromedriver + 4222268\n",
      "1   chromedriver                        0x00000001048a58e8 chromedriver + 3725544\n",
      "2   chromedriver                        0x000000010455bda4 chromedriver + 277924\n",
      "3   chromedriver                        0x00000001045971b8 chromedriver + 520632\n",
      "4   chromedriver                        0x00000001045cf618 chromedriver + 751128\n",
      "5   chromedriver                        0x00000001045898f0 chromedriver + 465136\n",
      "6   chromedriver                        0x000000010458a974 chromedriver + 469364\n",
      "7   chromedriver                        0x00000001048ef788 chromedriver + 4028296\n",
      "8   chromedriver                        0x00000001048f3c1c chromedriver + 4045852\n",
      "9   chromedriver                        0x00000001048f9c98 chromedriver + 4070552\n",
      "10  chromedriver                        0x00000001048f48d8 chromedriver + 4049112\n",
      "11  chromedriver                        0x00000001048cbd84 chromedriver + 3882372\n",
      "12  chromedriver                        0x0000000104912720 chromedriver + 4171552\n",
      "13  chromedriver                        0x0000000104912878 chromedriver + 4171896\n",
      "14  chromedriver                        0x0000000104926014 chromedriver + 4251668\n",
      "15  libsystem_pthread.dylib             0x00000001a3d2606c _pthread_start + 148\n",
      "16  libsystem_pthread.dylib             0x00000001a3d20e2c thread_start + 8\n",
      "\n"
     ]
    },
    {
     "name": "stderr",
     "output_type": "stream",
     "text": [
      "  1%|          | 233/30819 [22:08<47:22:49,  5.58s/it]"
     ]
    },
    {
     "name": "stdout",
     "output_type": "stream",
     "text": [
      "Message: no such element: Unable to locate element: {\"method\":\"css selector\",\"selector\":\".prose\"}\n",
      "  (Session info: chrome=112.0.5615.137)\n",
      "Stacktrace:\n",
      "0   chromedriver                        0x000000010491ed3c chromedriver + 4222268\n",
      "1   chromedriver                        0x00000001048a58e8 chromedriver + 3725544\n",
      "2   chromedriver                        0x000000010455bda4 chromedriver + 277924\n",
      "3   chromedriver                        0x00000001045971b8 chromedriver + 520632\n",
      "4   chromedriver                        0x00000001045cf618 chromedriver + 751128\n",
      "5   chromedriver                        0x00000001045898f0 chromedriver + 465136\n",
      "6   chromedriver                        0x000000010458a974 chromedriver + 469364\n",
      "7   chromedriver                        0x00000001048ef788 chromedriver + 4028296\n",
      "8   chromedriver                        0x00000001048f3c1c chromedriver + 4045852\n",
      "9   chromedriver                        0x00000001048f9c98 chromedriver + 4070552\n",
      "10  chromedriver                        0x00000001048f48d8 chromedriver + 4049112\n",
      "11  chromedriver                        0x00000001048cbd84 chromedriver + 3882372\n",
      "12  chromedriver                        0x0000000104912720 chromedriver + 4171552\n",
      "13  chromedriver                        0x0000000104912878 chromedriver + 4171896\n",
      "14  chromedriver                        0x0000000104926014 chromedriver + 4251668\n",
      "15  libsystem_pthread.dylib             0x00000001a3d2606c _pthread_start + 148\n",
      "16  libsystem_pthread.dylib             0x00000001a3d20e2c thread_start + 8\n",
      "\n"
     ]
    },
    {
     "name": "stderr",
     "output_type": "stream",
     "text": [
      "  1%|          | 234/30819 [22:14<46:34:32,  5.48s/it]"
     ]
    },
    {
     "name": "stdout",
     "output_type": "stream",
     "text": [
      "Message: no such element: Unable to locate element: {\"method\":\"css selector\",\"selector\":\".prose\"}\n",
      "  (Session info: chrome=112.0.5615.137)\n",
      "Stacktrace:\n",
      "0   chromedriver                        0x000000010491ed3c chromedriver + 4222268\n",
      "1   chromedriver                        0x00000001048a58e8 chromedriver + 3725544\n",
      "2   chromedriver                        0x000000010455bda4 chromedriver + 277924\n",
      "3   chromedriver                        0x00000001045971b8 chromedriver + 520632\n",
      "4   chromedriver                        0x00000001045cf618 chromedriver + 751128\n",
      "5   chromedriver                        0x00000001045898f0 chromedriver + 465136\n",
      "6   chromedriver                        0x000000010458a974 chromedriver + 469364\n",
      "7   chromedriver                        0x00000001048ef788 chromedriver + 4028296\n",
      "8   chromedriver                        0x00000001048f3c1c chromedriver + 4045852\n",
      "9   chromedriver                        0x00000001048f9c98 chromedriver + 4070552\n",
      "10  chromedriver                        0x00000001048f48d8 chromedriver + 4049112\n",
      "11  chromedriver                        0x00000001048cbd84 chromedriver + 3882372\n",
      "12  chromedriver                        0x0000000104912720 chromedriver + 4171552\n",
      "13  chromedriver                        0x0000000104912878 chromedriver + 4171896\n",
      "14  chromedriver                        0x0000000104926014 chromedriver + 4251668\n",
      "15  libsystem_pthread.dylib             0x00000001a3d2606c _pthread_start + 148\n",
      "16  libsystem_pthread.dylib             0x00000001a3d20e2c thread_start + 8\n",
      "\n"
     ]
    },
    {
     "name": "stderr",
     "output_type": "stream",
     "text": [
      "  1%|          | 235/30819 [22:20<48:31:48,  5.71s/it]"
     ]
    },
    {
     "name": "stdout",
     "output_type": "stream",
     "text": [
      "Message: no such element: Unable to locate element: {\"method\":\"css selector\",\"selector\":\".prose\"}\n",
      "  (Session info: chrome=112.0.5615.137)\n",
      "Stacktrace:\n",
      "0   chromedriver                        0x000000010491ed3c chromedriver + 4222268\n",
      "1   chromedriver                        0x00000001048a58e8 chromedriver + 3725544\n",
      "2   chromedriver                        0x000000010455bda4 chromedriver + 277924\n",
      "3   chromedriver                        0x00000001045971b8 chromedriver + 520632\n",
      "4   chromedriver                        0x00000001045cf618 chromedriver + 751128\n",
      "5   chromedriver                        0x00000001045898f0 chromedriver + 465136\n",
      "6   chromedriver                        0x000000010458a974 chromedriver + 469364\n",
      "7   chromedriver                        0x00000001048ef788 chromedriver + 4028296\n",
      "8   chromedriver                        0x00000001048f3c1c chromedriver + 4045852\n",
      "9   chromedriver                        0x00000001048f9c98 chromedriver + 4070552\n",
      "10  chromedriver                        0x00000001048f48d8 chromedriver + 4049112\n",
      "11  chromedriver                        0x00000001048cbd84 chromedriver + 3882372\n",
      "12  chromedriver                        0x0000000104912720 chromedriver + 4171552\n",
      "13  chromedriver                        0x0000000104912878 chromedriver + 4171896\n",
      "14  chromedriver                        0x0000000104926014 chromedriver + 4251668\n",
      "15  libsystem_pthread.dylib             0x00000001a3d2606c _pthread_start + 148\n",
      "16  libsystem_pthread.dylib             0x00000001a3d20e2c thread_start + 8\n",
      "\n"
     ]
    },
    {
     "name": "stderr",
     "output_type": "stream",
     "text": [
      "  1%|          | 236/30819 [22:24<44:46:55,  5.27s/it]"
     ]
    },
    {
     "name": "stdout",
     "output_type": "stream",
     "text": [
      "Message: no such element: Unable to locate element: {\"method\":\"css selector\",\"selector\":\".prose\"}\n",
      "  (Session info: chrome=112.0.5615.137)\n",
      "Stacktrace:\n",
      "0   chromedriver                        0x000000010491ed3c chromedriver + 4222268\n",
      "1   chromedriver                        0x00000001048a58e8 chromedriver + 3725544\n",
      "2   chromedriver                        0x000000010455bda4 chromedriver + 277924\n",
      "3   chromedriver                        0x00000001045971b8 chromedriver + 520632\n",
      "4   chromedriver                        0x00000001045cf618 chromedriver + 751128\n",
      "5   chromedriver                        0x00000001045898f0 chromedriver + 465136\n",
      "6   chromedriver                        0x000000010458a974 chromedriver + 469364\n",
      "7   chromedriver                        0x00000001048ef788 chromedriver + 4028296\n",
      "8   chromedriver                        0x00000001048f3c1c chromedriver + 4045852\n",
      "9   chromedriver                        0x00000001048f9c98 chromedriver + 4070552\n",
      "10  chromedriver                        0x00000001048f48d8 chromedriver + 4049112\n",
      "11  chromedriver                        0x00000001048cbd84 chromedriver + 3882372\n",
      "12  chromedriver                        0x0000000104912720 chromedriver + 4171552\n",
      "13  chromedriver                        0x0000000104912878 chromedriver + 4171896\n",
      "14  chromedriver                        0x0000000104926014 chromedriver + 4251668\n",
      "15  libsystem_pthread.dylib             0x00000001a3d2606c _pthread_start + 148\n",
      "16  libsystem_pthread.dylib             0x00000001a3d20e2c thread_start + 8\n",
      "\n"
     ]
    },
    {
     "name": "stderr",
     "output_type": "stream",
     "text": [
      "  1%|          | 237/30819 [22:28<42:14:20,  4.97s/it]"
     ]
    },
    {
     "name": "stdout",
     "output_type": "stream",
     "text": [
      "Message: no such element: Unable to locate element: {\"method\":\"css selector\",\"selector\":\".prose\"}\n",
      "  (Session info: chrome=112.0.5615.137)\n",
      "Stacktrace:\n",
      "0   chromedriver                        0x000000010491ed3c chromedriver + 4222268\n",
      "1   chromedriver                        0x00000001048a58e8 chromedriver + 3725544\n",
      "2   chromedriver                        0x000000010455bda4 chromedriver + 277924\n",
      "3   chromedriver                        0x00000001045971b8 chromedriver + 520632\n",
      "4   chromedriver                        0x00000001045cf618 chromedriver + 751128\n",
      "5   chromedriver                        0x00000001045898f0 chromedriver + 465136\n",
      "6   chromedriver                        0x000000010458a974 chromedriver + 469364\n",
      "7   chromedriver                        0x00000001048ef788 chromedriver + 4028296\n",
      "8   chromedriver                        0x00000001048f3c1c chromedriver + 4045852\n",
      "9   chromedriver                        0x00000001048f9c98 chromedriver + 4070552\n",
      "10  chromedriver                        0x00000001048f48d8 chromedriver + 4049112\n",
      "11  chromedriver                        0x00000001048cbd84 chromedriver + 3882372\n",
      "12  chromedriver                        0x0000000104912720 chromedriver + 4171552\n",
      "13  chromedriver                        0x0000000104912878 chromedriver + 4171896\n",
      "14  chromedriver                        0x0000000104926014 chromedriver + 4251668\n",
      "15  libsystem_pthread.dylib             0x00000001a3d2606c _pthread_start + 148\n",
      "16  libsystem_pthread.dylib             0x00000001a3d20e2c thread_start + 8\n",
      "\n"
     ]
    },
    {
     "name": "stderr",
     "output_type": "stream",
     "text": [
      "  1%|          | 238/30819 [22:33<40:21:33,  4.75s/it]"
     ]
    },
    {
     "name": "stdout",
     "output_type": "stream",
     "text": [
      "Message: no such element: Unable to locate element: {\"method\":\"css selector\",\"selector\":\".prose\"}\n",
      "  (Session info: chrome=112.0.5615.137)\n",
      "Stacktrace:\n",
      "0   chromedriver                        0x000000010491ed3c chromedriver + 4222268\n",
      "1   chromedriver                        0x00000001048a58e8 chromedriver + 3725544\n",
      "2   chromedriver                        0x000000010455bda4 chromedriver + 277924\n",
      "3   chromedriver                        0x00000001045971b8 chromedriver + 520632\n",
      "4   chromedriver                        0x00000001045cf618 chromedriver + 751128\n",
      "5   chromedriver                        0x00000001045898f0 chromedriver + 465136\n",
      "6   chromedriver                        0x000000010458a974 chromedriver + 469364\n",
      "7   chromedriver                        0x00000001048ef788 chromedriver + 4028296\n",
      "8   chromedriver                        0x00000001048f3c1c chromedriver + 4045852\n",
      "9   chromedriver                        0x00000001048f9c98 chromedriver + 4070552\n",
      "10  chromedriver                        0x00000001048f48d8 chromedriver + 4049112\n",
      "11  chromedriver                        0x00000001048cbd84 chromedriver + 3882372\n",
      "12  chromedriver                        0x0000000104912720 chromedriver + 4171552\n",
      "13  chromedriver                        0x0000000104912878 chromedriver + 4171896\n",
      "14  chromedriver                        0x0000000104926014 chromedriver + 4251668\n",
      "15  libsystem_pthread.dylib             0x00000001a3d2606c _pthread_start + 148\n",
      "16  libsystem_pthread.dylib             0x00000001a3d20e2c thread_start + 8\n",
      "\n"
     ]
    },
    {
     "name": "stderr",
     "output_type": "stream",
     "text": [
      "  1%|          | 245/30819 [23:11<45:32:00,  5.36s/it]"
     ]
    },
    {
     "name": "stdout",
     "output_type": "stream",
     "text": [
      "Message: no such element: Unable to locate element: {\"method\":\"css selector\",\"selector\":\".prose\"}\n",
      "  (Session info: chrome=112.0.5615.137)\n",
      "Stacktrace:\n",
      "0   chromedriver                        0x000000010491ed3c chromedriver + 4222268\n",
      "1   chromedriver                        0x00000001048a58e8 chromedriver + 3725544\n",
      "2   chromedriver                        0x000000010455bda4 chromedriver + 277924\n",
      "3   chromedriver                        0x00000001045971b8 chromedriver + 520632\n",
      "4   chromedriver                        0x00000001045cf618 chromedriver + 751128\n",
      "5   chromedriver                        0x00000001045898f0 chromedriver + 465136\n",
      "6   chromedriver                        0x000000010458a974 chromedriver + 469364\n",
      "7   chromedriver                        0x00000001048ef788 chromedriver + 4028296\n",
      "8   chromedriver                        0x00000001048f3c1c chromedriver + 4045852\n",
      "9   chromedriver                        0x00000001048f9c98 chromedriver + 4070552\n",
      "10  chromedriver                        0x00000001048f48d8 chromedriver + 4049112\n",
      "11  chromedriver                        0x00000001048cbd84 chromedriver + 3882372\n",
      "12  chromedriver                        0x0000000104912720 chromedriver + 4171552\n",
      "13  chromedriver                        0x0000000104912878 chromedriver + 4171896\n",
      "14  chromedriver                        0x0000000104926014 chromedriver + 4251668\n",
      "15  libsystem_pthread.dylib             0x00000001a3d2606c _pthread_start + 148\n",
      "16  libsystem_pthread.dylib             0x00000001a3d20e2c thread_start + 8\n",
      "\n"
     ]
    },
    {
     "name": "stderr",
     "output_type": "stream",
     "text": [
      "  1%|          | 246/30819 [23:17<45:15:00,  5.33s/it]"
     ]
    },
    {
     "name": "stdout",
     "output_type": "stream",
     "text": [
      "Message: no such element: Unable to locate element: {\"method\":\"css selector\",\"selector\":\".prose\"}\n",
      "  (Session info: chrome=112.0.5615.137)\n",
      "Stacktrace:\n",
      "0   chromedriver                        0x000000010491ed3c chromedriver + 4222268\n",
      "1   chromedriver                        0x00000001048a58e8 chromedriver + 3725544\n",
      "2   chromedriver                        0x000000010455bda4 chromedriver + 277924\n",
      "3   chromedriver                        0x00000001045971b8 chromedriver + 520632\n",
      "4   chromedriver                        0x00000001045cf618 chromedriver + 751128\n",
      "5   chromedriver                        0x00000001045898f0 chromedriver + 465136\n",
      "6   chromedriver                        0x000000010458a974 chromedriver + 469364\n",
      "7   chromedriver                        0x00000001048ef788 chromedriver + 4028296\n",
      "8   chromedriver                        0x00000001048f3c1c chromedriver + 4045852\n",
      "9   chromedriver                        0x00000001048f9c98 chromedriver + 4070552\n",
      "10  chromedriver                        0x00000001048f48d8 chromedriver + 4049112\n",
      "11  chromedriver                        0x00000001048cbd84 chromedriver + 3882372\n",
      "12  chromedriver                        0x0000000104912720 chromedriver + 4171552\n",
      "13  chromedriver                        0x0000000104912878 chromedriver + 4171896\n",
      "14  chromedriver                        0x0000000104926014 chromedriver + 4251668\n",
      "15  libsystem_pthread.dylib             0x00000001a3d2606c _pthread_start + 148\n",
      "16  libsystem_pthread.dylib             0x00000001a3d20e2c thread_start + 8\n",
      "\n"
     ]
    },
    {
     "name": "stderr",
     "output_type": "stream",
     "text": [
      "  1%|          | 247/30819 [23:22<45:02:33,  5.30s/it]"
     ]
    },
    {
     "name": "stdout",
     "output_type": "stream",
     "text": [
      "Message: no such element: Unable to locate element: {\"method\":\"css selector\",\"selector\":\".prose\"}\n",
      "  (Session info: chrome=112.0.5615.137)\n",
      "Stacktrace:\n",
      "0   chromedriver                        0x000000010491ed3c chromedriver + 4222268\n",
      "1   chromedriver                        0x00000001048a58e8 chromedriver + 3725544\n",
      "2   chromedriver                        0x000000010455bda4 chromedriver + 277924\n",
      "3   chromedriver                        0x00000001045971b8 chromedriver + 520632\n",
      "4   chromedriver                        0x00000001045cf618 chromedriver + 751128\n",
      "5   chromedriver                        0x00000001045898f0 chromedriver + 465136\n",
      "6   chromedriver                        0x000000010458a974 chromedriver + 469364\n",
      "7   chromedriver                        0x00000001048ef788 chromedriver + 4028296\n",
      "8   chromedriver                        0x00000001048f3c1c chromedriver + 4045852\n",
      "9   chromedriver                        0x00000001048f9c98 chromedriver + 4070552\n",
      "10  chromedriver                        0x00000001048f48d8 chromedriver + 4049112\n",
      "11  chromedriver                        0x00000001048cbd84 chromedriver + 3882372\n",
      "12  chromedriver                        0x0000000104912720 chromedriver + 4171552\n",
      "13  chromedriver                        0x0000000104912878 chromedriver + 4171896\n",
      "14  chromedriver                        0x0000000104926014 chromedriver + 4251668\n",
      "15  libsystem_pthread.dylib             0x00000001a3d2606c _pthread_start + 148\n",
      "16  libsystem_pthread.dylib             0x00000001a3d20e2c thread_start + 8\n",
      "\n"
     ]
    },
    {
     "name": "stderr",
     "output_type": "stream",
     "text": [
      "  1%|          | 248/30819 [23:28<47:27:08,  5.59s/it]"
     ]
    },
    {
     "name": "stdout",
     "output_type": "stream",
     "text": [
      "Message: no such element: Unable to locate element: {\"method\":\"css selector\",\"selector\":\".prose\"}\n",
      "  (Session info: chrome=112.0.5615.137)\n",
      "Stacktrace:\n",
      "0   chromedriver                        0x000000010491ed3c chromedriver + 4222268\n",
      "1   chromedriver                        0x00000001048a58e8 chromedriver + 3725544\n",
      "2   chromedriver                        0x000000010455bda4 chromedriver + 277924\n",
      "3   chromedriver                        0x00000001045971b8 chromedriver + 520632\n",
      "4   chromedriver                        0x00000001045cf618 chromedriver + 751128\n",
      "5   chromedriver                        0x00000001045898f0 chromedriver + 465136\n",
      "6   chromedriver                        0x000000010458a974 chromedriver + 469364\n",
      "7   chromedriver                        0x00000001048ef788 chromedriver + 4028296\n",
      "8   chromedriver                        0x00000001048f3c1c chromedriver + 4045852\n",
      "9   chromedriver                        0x00000001048f9c98 chromedriver + 4070552\n",
      "10  chromedriver                        0x00000001048f48d8 chromedriver + 4049112\n",
      "11  chromedriver                        0x00000001048cbd84 chromedriver + 3882372\n",
      "12  chromedriver                        0x0000000104912720 chromedriver + 4171552\n",
      "13  chromedriver                        0x0000000104912878 chromedriver + 4171896\n",
      "14  chromedriver                        0x0000000104926014 chromedriver + 4251668\n",
      "15  libsystem_pthread.dylib             0x00000001a3d2606c _pthread_start + 148\n",
      "16  libsystem_pthread.dylib             0x00000001a3d20e2c thread_start + 8\n",
      "\n"
     ]
    },
    {
     "name": "stderr",
     "output_type": "stream",
     "text": [
      "  1%|          | 249/30819 [23:32<44:02:37,  5.19s/it]"
     ]
    },
    {
     "name": "stdout",
     "output_type": "stream",
     "text": [
      "Message: no such element: Unable to locate element: {\"method\":\"css selector\",\"selector\":\".prose\"}\n",
      "  (Session info: chrome=112.0.5615.137)\n",
      "Stacktrace:\n",
      "0   chromedriver                        0x000000010491ed3c chromedriver + 4222268\n",
      "1   chromedriver                        0x00000001048a58e8 chromedriver + 3725544\n",
      "2   chromedriver                        0x000000010455bda4 chromedriver + 277924\n",
      "3   chromedriver                        0x00000001045971b8 chromedriver + 520632\n",
      "4   chromedriver                        0x00000001045cf618 chromedriver + 751128\n",
      "5   chromedriver                        0x00000001045898f0 chromedriver + 465136\n",
      "6   chromedriver                        0x000000010458a974 chromedriver + 469364\n",
      "7   chromedriver                        0x00000001048ef788 chromedriver + 4028296\n",
      "8   chromedriver                        0x00000001048f3c1c chromedriver + 4045852\n",
      "9   chromedriver                        0x00000001048f9c98 chromedriver + 4070552\n",
      "10  chromedriver                        0x00000001048f48d8 chromedriver + 4049112\n",
      "11  chromedriver                        0x00000001048cbd84 chromedriver + 3882372\n",
      "12  chromedriver                        0x0000000104912720 chromedriver + 4171552\n",
      "13  chromedriver                        0x0000000104912878 chromedriver + 4171896\n",
      "14  chromedriver                        0x0000000104926014 chromedriver + 4251668\n",
      "15  libsystem_pthread.dylib             0x00000001a3d2606c _pthread_start + 148\n",
      "16  libsystem_pthread.dylib             0x00000001a3d20e2c thread_start + 8\n",
      "\n"
     ]
    },
    {
     "name": "stderr",
     "output_type": "stream",
     "text": [
      "  1%|          | 259/30819 [24:28<45:30:07,  5.36s/it]"
     ]
    },
    {
     "name": "stdout",
     "output_type": "stream",
     "text": [
      "Message: no such element: Unable to locate element: {\"method\":\"css selector\",\"selector\":\".prose\"}\n",
      "  (Session info: chrome=112.0.5615.137)\n",
      "Stacktrace:\n",
      "0   chromedriver                        0x000000010491ed3c chromedriver + 4222268\n",
      "1   chromedriver                        0x00000001048a58e8 chromedriver + 3725544\n",
      "2   chromedriver                        0x000000010455bda4 chromedriver + 277924\n",
      "3   chromedriver                        0x00000001045971b8 chromedriver + 520632\n",
      "4   chromedriver                        0x00000001045cf618 chromedriver + 751128\n",
      "5   chromedriver                        0x00000001045898f0 chromedriver + 465136\n",
      "6   chromedriver                        0x000000010458a974 chromedriver + 469364\n",
      "7   chromedriver                        0x00000001048ef788 chromedriver + 4028296\n",
      "8   chromedriver                        0x00000001048f3c1c chromedriver + 4045852\n",
      "9   chromedriver                        0x00000001048f9c98 chromedriver + 4070552\n",
      "10  chromedriver                        0x00000001048f48d8 chromedriver + 4049112\n",
      "11  chromedriver                        0x00000001048cbd84 chromedriver + 3882372\n",
      "12  chromedriver                        0x0000000104912720 chromedriver + 4171552\n",
      "13  chromedriver                        0x0000000104912878 chromedriver + 4171896\n",
      "14  chromedriver                        0x0000000104926014 chromedriver + 4251668\n",
      "15  libsystem_pthread.dylib             0x00000001a3d2606c _pthread_start + 148\n",
      "16  libsystem_pthread.dylib             0x00000001a3d20e2c thread_start + 8\n",
      "\n"
     ]
    },
    {
     "name": "stderr",
     "output_type": "stream",
     "text": [
      "  1%|          | 260/30819 [24:33<45:08:48,  5.32s/it]"
     ]
    },
    {
     "name": "stdout",
     "output_type": "stream",
     "text": [
      "Message: no such element: Unable to locate element: {\"method\":\"css selector\",\"selector\":\".prose\"}\n",
      "  (Session info: chrome=112.0.5615.137)\n",
      "Stacktrace:\n",
      "0   chromedriver                        0x000000010491ed3c chromedriver + 4222268\n",
      "1   chromedriver                        0x00000001048a58e8 chromedriver + 3725544\n",
      "2   chromedriver                        0x000000010455bda4 chromedriver + 277924\n",
      "3   chromedriver                        0x00000001045971b8 chromedriver + 520632\n",
      "4   chromedriver                        0x00000001045cf618 chromedriver + 751128\n",
      "5   chromedriver                        0x00000001045898f0 chromedriver + 465136\n",
      "6   chromedriver                        0x000000010458a974 chromedriver + 469364\n",
      "7   chromedriver                        0x00000001048ef788 chromedriver + 4028296\n",
      "8   chromedriver                        0x00000001048f3c1c chromedriver + 4045852\n",
      "9   chromedriver                        0x00000001048f9c98 chromedriver + 4070552\n",
      "10  chromedriver                        0x00000001048f48d8 chromedriver + 4049112\n",
      "11  chromedriver                        0x00000001048cbd84 chromedriver + 3882372\n",
      "12  chromedriver                        0x0000000104912720 chromedriver + 4171552\n",
      "13  chromedriver                        0x0000000104912878 chromedriver + 4171896\n",
      "14  chromedriver                        0x0000000104926014 chromedriver + 4251668\n",
      "15  libsystem_pthread.dylib             0x00000001a3d2606c _pthread_start + 148\n",
      "16  libsystem_pthread.dylib             0x00000001a3d20e2c thread_start + 8\n",
      "\n"
     ]
    },
    {
     "name": "stderr",
     "output_type": "stream",
     "text": [
      "  1%|          | 261/30819 [24:37<42:28:18,  5.00s/it]"
     ]
    },
    {
     "name": "stdout",
     "output_type": "stream",
     "text": [
      "Message: no such element: Unable to locate element: {\"method\":\"css selector\",\"selector\":\".prose\"}\n",
      "  (Session info: chrome=112.0.5615.137)\n",
      "Stacktrace:\n",
      "0   chromedriver                        0x000000010491ed3c chromedriver + 4222268\n",
      "1   chromedriver                        0x00000001048a58e8 chromedriver + 3725544\n",
      "2   chromedriver                        0x000000010455bda4 chromedriver + 277924\n",
      "3   chromedriver                        0x00000001045971b8 chromedriver + 520632\n",
      "4   chromedriver                        0x00000001045cf618 chromedriver + 751128\n",
      "5   chromedriver                        0x00000001045898f0 chromedriver + 465136\n",
      "6   chromedriver                        0x000000010458a974 chromedriver + 469364\n",
      "7   chromedriver                        0x00000001048ef788 chromedriver + 4028296\n",
      "8   chromedriver                        0x00000001048f3c1c chromedriver + 4045852\n",
      "9   chromedriver                        0x00000001048f9c98 chromedriver + 4070552\n",
      "10  chromedriver                        0x00000001048f48d8 chromedriver + 4049112\n",
      "11  chromedriver                        0x00000001048cbd84 chromedriver + 3882372\n",
      "12  chromedriver                        0x0000000104912720 chromedriver + 4171552\n",
      "13  chromedriver                        0x0000000104912878 chromedriver + 4171896\n",
      "14  chromedriver                        0x0000000104926014 chromedriver + 4251668\n",
      "15  libsystem_pthread.dylib             0x00000001a3d2606c _pthread_start + 148\n",
      "16  libsystem_pthread.dylib             0x00000001a3d20e2c thread_start + 8\n",
      "\n"
     ]
    },
    {
     "name": "stderr",
     "output_type": "stream",
     "text": [
      "  1%|          | 269/30819 [25:19<45:33:36,  5.37s/it]"
     ]
    },
    {
     "name": "stdout",
     "output_type": "stream",
     "text": [
      "Message: no such element: Unable to locate element: {\"method\":\"css selector\",\"selector\":\".prose\"}\n",
      "  (Session info: chrome=112.0.5615.137)\n",
      "Stacktrace:\n",
      "0   chromedriver                        0x000000010491ed3c chromedriver + 4222268\n",
      "1   chromedriver                        0x00000001048a58e8 chromedriver + 3725544\n",
      "2   chromedriver                        0x000000010455bda4 chromedriver + 277924\n",
      "3   chromedriver                        0x00000001045971b8 chromedriver + 520632\n",
      "4   chromedriver                        0x00000001045cf618 chromedriver + 751128\n",
      "5   chromedriver                        0x00000001045898f0 chromedriver + 465136\n",
      "6   chromedriver                        0x000000010458a974 chromedriver + 469364\n",
      "7   chromedriver                        0x00000001048ef788 chromedriver + 4028296\n",
      "8   chromedriver                        0x00000001048f3c1c chromedriver + 4045852\n",
      "9   chromedriver                        0x00000001048f9c98 chromedriver + 4070552\n",
      "10  chromedriver                        0x00000001048f48d8 chromedriver + 4049112\n",
      "11  chromedriver                        0x00000001048cbd84 chromedriver + 3882372\n",
      "12  chromedriver                        0x0000000104912720 chromedriver + 4171552\n",
      "13  chromedriver                        0x0000000104912878 chromedriver + 4171896\n",
      "14  chromedriver                        0x0000000104926014 chromedriver + 4251668\n",
      "15  libsystem_pthread.dylib             0x00000001a3d2606c _pthread_start + 148\n",
      "16  libsystem_pthread.dylib             0x00000001a3d20e2c thread_start + 8\n",
      "\n"
     ]
    },
    {
     "name": "stderr",
     "output_type": "stream",
     "text": [
      "  1%|          | 270/30819 [25:23<42:34:58,  5.02s/it]"
     ]
    },
    {
     "name": "stdout",
     "output_type": "stream",
     "text": [
      "Message: no such element: Unable to locate element: {\"method\":\"css selector\",\"selector\":\".prose\"}\n",
      "  (Session info: chrome=112.0.5615.137)\n",
      "Stacktrace:\n",
      "0   chromedriver                        0x000000010491ed3c chromedriver + 4222268\n",
      "1   chromedriver                        0x00000001048a58e8 chromedriver + 3725544\n",
      "2   chromedriver                        0x000000010455bda4 chromedriver + 277924\n",
      "3   chromedriver                        0x00000001045971b8 chromedriver + 520632\n",
      "4   chromedriver                        0x00000001045cf618 chromedriver + 751128\n",
      "5   chromedriver                        0x00000001045898f0 chromedriver + 465136\n",
      "6   chromedriver                        0x000000010458a974 chromedriver + 469364\n",
      "7   chromedriver                        0x00000001048ef788 chromedriver + 4028296\n",
      "8   chromedriver                        0x00000001048f3c1c chromedriver + 4045852\n",
      "9   chromedriver                        0x00000001048f9c98 chromedriver + 4070552\n",
      "10  chromedriver                        0x00000001048f48d8 chromedriver + 4049112\n",
      "11  chromedriver                        0x00000001048cbd84 chromedriver + 3882372\n",
      "12  chromedriver                        0x0000000104912720 chromedriver + 4171552\n",
      "13  chromedriver                        0x0000000104912878 chromedriver + 4171896\n",
      "14  chromedriver                        0x0000000104926014 chromedriver + 4251668\n",
      "15  libsystem_pthread.dylib             0x00000001a3d2606c _pthread_start + 148\n",
      "16  libsystem_pthread.dylib             0x00000001a3d20e2c thread_start + 8\n",
      "\n"
     ]
    },
    {
     "name": "stderr",
     "output_type": "stream",
     "text": [
      "  1%|          | 271/30819 [25:29<43:09:53,  5.09s/it]"
     ]
    },
    {
     "name": "stdout",
     "output_type": "stream",
     "text": [
      "Message: no such element: Unable to locate element: {\"method\":\"css selector\",\"selector\":\".prose\"}\n",
      "  (Session info: chrome=112.0.5615.137)\n",
      "Stacktrace:\n",
      "0   chromedriver                        0x000000010491ed3c chromedriver + 4222268\n",
      "1   chromedriver                        0x00000001048a58e8 chromedriver + 3725544\n",
      "2   chromedriver                        0x000000010455bda4 chromedriver + 277924\n",
      "3   chromedriver                        0x00000001045971b8 chromedriver + 520632\n",
      "4   chromedriver                        0x00000001045cf618 chromedriver + 751128\n",
      "5   chromedriver                        0x00000001045898f0 chromedriver + 465136\n",
      "6   chromedriver                        0x000000010458a974 chromedriver + 469364\n",
      "7   chromedriver                        0x00000001048ef788 chromedriver + 4028296\n",
      "8   chromedriver                        0x00000001048f3c1c chromedriver + 4045852\n",
      "9   chromedriver                        0x00000001048f9c98 chromedriver + 4070552\n",
      "10  chromedriver                        0x00000001048f48d8 chromedriver + 4049112\n",
      "11  chromedriver                        0x00000001048cbd84 chromedriver + 3882372\n",
      "12  chromedriver                        0x0000000104912720 chromedriver + 4171552\n",
      "13  chromedriver                        0x0000000104912878 chromedriver + 4171896\n",
      "14  chromedriver                        0x0000000104926014 chromedriver + 4251668\n",
      "15  libsystem_pthread.dylib             0x00000001a3d2606c _pthread_start + 148\n",
      "16  libsystem_pthread.dylib             0x00000001a3d20e2c thread_start + 8\n",
      "\n"
     ]
    },
    {
     "name": "stderr",
     "output_type": "stream",
     "text": [
      "  1%|          | 272/30819 [25:34<43:35:38,  5.14s/it]"
     ]
    },
    {
     "name": "stdout",
     "output_type": "stream",
     "text": [
      "Message: no such element: Unable to locate element: {\"method\":\"css selector\",\"selector\":\".prose\"}\n",
      "  (Session info: chrome=112.0.5615.137)\n",
      "Stacktrace:\n",
      "0   chromedriver                        0x000000010491ed3c chromedriver + 4222268\n",
      "1   chromedriver                        0x00000001048a58e8 chromedriver + 3725544\n",
      "2   chromedriver                        0x000000010455bda4 chromedriver + 277924\n",
      "3   chromedriver                        0x00000001045971b8 chromedriver + 520632\n",
      "4   chromedriver                        0x00000001045cf618 chromedriver + 751128\n",
      "5   chromedriver                        0x00000001045898f0 chromedriver + 465136\n",
      "6   chromedriver                        0x000000010458a974 chromedriver + 469364\n",
      "7   chromedriver                        0x00000001048ef788 chromedriver + 4028296\n",
      "8   chromedriver                        0x00000001048f3c1c chromedriver + 4045852\n",
      "9   chromedriver                        0x00000001048f9c98 chromedriver + 4070552\n",
      "10  chromedriver                        0x00000001048f48d8 chromedriver + 4049112\n",
      "11  chromedriver                        0x00000001048cbd84 chromedriver + 3882372\n",
      "12  chromedriver                        0x0000000104912720 chromedriver + 4171552\n",
      "13  chromedriver                        0x0000000104912878 chromedriver + 4171896\n",
      "14  chromedriver                        0x0000000104926014 chromedriver + 4251668\n",
      "15  libsystem_pthread.dylib             0x00000001a3d2606c _pthread_start + 148\n",
      "16  libsystem_pthread.dylib             0x00000001a3d20e2c thread_start + 8\n",
      "\n"
     ]
    },
    {
     "name": "stderr",
     "output_type": "stream",
     "text": [
      "  1%|          | 273/30819 [25:40<46:24:57,  5.47s/it]"
     ]
    },
    {
     "name": "stdout",
     "output_type": "stream",
     "text": [
      "Message: no such element: Unable to locate element: {\"method\":\"css selector\",\"selector\":\".prose\"}\n",
      "  (Session info: chrome=112.0.5615.137)\n",
      "Stacktrace:\n",
      "0   chromedriver                        0x000000010491ed3c chromedriver + 4222268\n",
      "1   chromedriver                        0x00000001048a58e8 chromedriver + 3725544\n",
      "2   chromedriver                        0x000000010455bda4 chromedriver + 277924\n",
      "3   chromedriver                        0x00000001045971b8 chromedriver + 520632\n",
      "4   chromedriver                        0x00000001045cf618 chromedriver + 751128\n",
      "5   chromedriver                        0x00000001045898f0 chromedriver + 465136\n",
      "6   chromedriver                        0x000000010458a974 chromedriver + 469364\n",
      "7   chromedriver                        0x00000001048ef788 chromedriver + 4028296\n",
      "8   chromedriver                        0x00000001048f3c1c chromedriver + 4045852\n",
      "9   chromedriver                        0x00000001048f9c98 chromedriver + 4070552\n",
      "10  chromedriver                        0x00000001048f48d8 chromedriver + 4049112\n",
      "11  chromedriver                        0x00000001048cbd84 chromedriver + 3882372\n",
      "12  chromedriver                        0x0000000104912720 chromedriver + 4171552\n",
      "13  chromedriver                        0x0000000104912878 chromedriver + 4171896\n",
      "14  chromedriver                        0x0000000104926014 chromedriver + 4251668\n",
      "15  libsystem_pthread.dylib             0x00000001a3d2606c _pthread_start + 148\n",
      "16  libsystem_pthread.dylib             0x00000001a3d20e2c thread_start + 8\n",
      "\n"
     ]
    },
    {
     "name": "stderr",
     "output_type": "stream",
     "text": [
      "  1%|          | 274/30819 [25:46<48:24:42,  5.71s/it]"
     ]
    },
    {
     "name": "stdout",
     "output_type": "stream",
     "text": [
      "Message: no such element: Unable to locate element: {\"method\":\"css selector\",\"selector\":\".prose\"}\n",
      "  (Session info: chrome=112.0.5615.137)\n",
      "Stacktrace:\n",
      "0   chromedriver                        0x000000010491ed3c chromedriver + 4222268\n",
      "1   chromedriver                        0x00000001048a58e8 chromedriver + 3725544\n",
      "2   chromedriver                        0x000000010455bda4 chromedriver + 277924\n",
      "3   chromedriver                        0x00000001045971b8 chromedriver + 520632\n",
      "4   chromedriver                        0x00000001045cf618 chromedriver + 751128\n",
      "5   chromedriver                        0x00000001045898f0 chromedriver + 465136\n",
      "6   chromedriver                        0x000000010458a974 chromedriver + 469364\n",
      "7   chromedriver                        0x00000001048ef788 chromedriver + 4028296\n",
      "8   chromedriver                        0x00000001048f3c1c chromedriver + 4045852\n",
      "9   chromedriver                        0x00000001048f9c98 chromedriver + 4070552\n",
      "10  chromedriver                        0x00000001048f48d8 chromedriver + 4049112\n",
      "11  chromedriver                        0x00000001048cbd84 chromedriver + 3882372\n",
      "12  chromedriver                        0x0000000104912720 chromedriver + 4171552\n",
      "13  chromedriver                        0x0000000104912878 chromedriver + 4171896\n",
      "14  chromedriver                        0x0000000104926014 chromedriver + 4251668\n",
      "15  libsystem_pthread.dylib             0x00000001a3d2606c _pthread_start + 148\n",
      "16  libsystem_pthread.dylib             0x00000001a3d20e2c thread_start + 8\n",
      "\n"
     ]
    },
    {
     "name": "stderr",
     "output_type": "stream",
     "text": [
      "  1%|          | 275/30819 [25:53<49:49:25,  5.87s/it]"
     ]
    },
    {
     "name": "stdout",
     "output_type": "stream",
     "text": [
      "Message: no such element: Unable to locate element: {\"method\":\"css selector\",\"selector\":\".prose\"}\n",
      "  (Session info: chrome=112.0.5615.137)\n",
      "Stacktrace:\n",
      "0   chromedriver                        0x000000010491ed3c chromedriver + 4222268\n",
      "1   chromedriver                        0x00000001048a58e8 chromedriver + 3725544\n",
      "2   chromedriver                        0x000000010455bda4 chromedriver + 277924\n",
      "3   chromedriver                        0x00000001045971b8 chromedriver + 520632\n",
      "4   chromedriver                        0x00000001045cf618 chromedriver + 751128\n",
      "5   chromedriver                        0x00000001045898f0 chromedriver + 465136\n",
      "6   chromedriver                        0x000000010458a974 chromedriver + 469364\n",
      "7   chromedriver                        0x00000001048ef788 chromedriver + 4028296\n",
      "8   chromedriver                        0x00000001048f3c1c chromedriver + 4045852\n",
      "9   chromedriver                        0x00000001048f9c98 chromedriver + 4070552\n",
      "10  chromedriver                        0x00000001048f48d8 chromedriver + 4049112\n",
      "11  chromedriver                        0x00000001048cbd84 chromedriver + 3882372\n",
      "12  chromedriver                        0x0000000104912720 chromedriver + 4171552\n",
      "13  chromedriver                        0x0000000104912878 chromedriver + 4171896\n",
      "14  chromedriver                        0x0000000104926014 chromedriver + 4251668\n",
      "15  libsystem_pthread.dylib             0x00000001a3d2606c _pthread_start + 148\n",
      "16  libsystem_pthread.dylib             0x00000001a3d20e2c thread_start + 8\n",
      "\n"
     ]
    },
    {
     "name": "stderr",
     "output_type": "stream",
     "text": [
      "  1%|          | 276/30819 [25:58<48:15:26,  5.69s/it]"
     ]
    },
    {
     "name": "stdout",
     "output_type": "stream",
     "text": [
      "Message: no such element: Unable to locate element: {\"method\":\"css selector\",\"selector\":\".prose\"}\n",
      "  (Session info: chrome=112.0.5615.137)\n",
      "Stacktrace:\n",
      "0   chromedriver                        0x000000010491ed3c chromedriver + 4222268\n",
      "1   chromedriver                        0x00000001048a58e8 chromedriver + 3725544\n",
      "2   chromedriver                        0x000000010455bda4 chromedriver + 277924\n",
      "3   chromedriver                        0x00000001045971b8 chromedriver + 520632\n",
      "4   chromedriver                        0x00000001045cf618 chromedriver + 751128\n",
      "5   chromedriver                        0x00000001045898f0 chromedriver + 465136\n",
      "6   chromedriver                        0x000000010458a974 chromedriver + 469364\n",
      "7   chromedriver                        0x00000001048ef788 chromedriver + 4028296\n",
      "8   chromedriver                        0x00000001048f3c1c chromedriver + 4045852\n",
      "9   chromedriver                        0x00000001048f9c98 chromedriver + 4070552\n",
      "10  chromedriver                        0x00000001048f48d8 chromedriver + 4049112\n",
      "11  chromedriver                        0x00000001048cbd84 chromedriver + 3882372\n",
      "12  chromedriver                        0x0000000104912720 chromedriver + 4171552\n",
      "13  chromedriver                        0x0000000104912878 chromedriver + 4171896\n",
      "14  chromedriver                        0x0000000104926014 chromedriver + 4251668\n",
      "15  libsystem_pthread.dylib             0x00000001a3d2606c _pthread_start + 148\n",
      "16  libsystem_pthread.dylib             0x00000001a3d20e2c thread_start + 8\n",
      "\n"
     ]
    },
    {
     "name": "stderr",
     "output_type": "stream",
     "text": [
      "  1%|          | 277/30819 [26:04<49:45:22,  5.86s/it]"
     ]
    },
    {
     "name": "stdout",
     "output_type": "stream",
     "text": [
      "Message: no such element: Unable to locate element: {\"method\":\"css selector\",\"selector\":\".prose\"}\n",
      "  (Session info: chrome=112.0.5615.137)\n",
      "Stacktrace:\n",
      "0   chromedriver                        0x000000010491ed3c chromedriver + 4222268\n",
      "1   chromedriver                        0x00000001048a58e8 chromedriver + 3725544\n",
      "2   chromedriver                        0x000000010455bda4 chromedriver + 277924\n",
      "3   chromedriver                        0x00000001045971b8 chromedriver + 520632\n",
      "4   chromedriver                        0x00000001045cf618 chromedriver + 751128\n",
      "5   chromedriver                        0x00000001045898f0 chromedriver + 465136\n",
      "6   chromedriver                        0x000000010458a974 chromedriver + 469364\n",
      "7   chromedriver                        0x00000001048ef788 chromedriver + 4028296\n",
      "8   chromedriver                        0x00000001048f3c1c chromedriver + 4045852\n",
      "9   chromedriver                        0x00000001048f9c98 chromedriver + 4070552\n",
      "10  chromedriver                        0x00000001048f48d8 chromedriver + 4049112\n",
      "11  chromedriver                        0x00000001048cbd84 chromedriver + 3882372\n",
      "12  chromedriver                        0x0000000104912720 chromedriver + 4171552\n",
      "13  chromedriver                        0x0000000104912878 chromedriver + 4171896\n",
      "14  chromedriver                        0x0000000104926014 chromedriver + 4251668\n",
      "15  libsystem_pthread.dylib             0x00000001a3d2606c _pthread_start + 148\n",
      "16  libsystem_pthread.dylib             0x00000001a3d20e2c thread_start + 8\n",
      "\n"
     ]
    },
    {
     "name": "stderr",
     "output_type": "stream",
     "text": [
      "  1%|          | 278/30819 [26:11<50:46:56,  5.99s/it]"
     ]
    },
    {
     "name": "stdout",
     "output_type": "stream",
     "text": [
      "Message: no such element: Unable to locate element: {\"method\":\"css selector\",\"selector\":\".prose\"}\n",
      "  (Session info: chrome=112.0.5615.137)\n",
      "Stacktrace:\n",
      "0   chromedriver                        0x000000010491ed3c chromedriver + 4222268\n",
      "1   chromedriver                        0x00000001048a58e8 chromedriver + 3725544\n",
      "2   chromedriver                        0x000000010455bda4 chromedriver + 277924\n",
      "3   chromedriver                        0x00000001045971b8 chromedriver + 520632\n",
      "4   chromedriver                        0x00000001045cf618 chromedriver + 751128\n",
      "5   chromedriver                        0x00000001045898f0 chromedriver + 465136\n",
      "6   chromedriver                        0x000000010458a974 chromedriver + 469364\n",
      "7   chromedriver                        0x00000001048ef788 chromedriver + 4028296\n",
      "8   chromedriver                        0x00000001048f3c1c chromedriver + 4045852\n",
      "9   chromedriver                        0x00000001048f9c98 chromedriver + 4070552\n",
      "10  chromedriver                        0x00000001048f48d8 chromedriver + 4049112\n",
      "11  chromedriver                        0x00000001048cbd84 chromedriver + 3882372\n",
      "12  chromedriver                        0x0000000104912720 chromedriver + 4171552\n",
      "13  chromedriver                        0x0000000104912878 chromedriver + 4171896\n",
      "14  chromedriver                        0x0000000104926014 chromedriver + 4251668\n",
      "15  libsystem_pthread.dylib             0x00000001a3d2606c _pthread_start + 148\n",
      "16  libsystem_pthread.dylib             0x00000001a3d20e2c thread_start + 8\n",
      "\n"
     ]
    },
    {
     "name": "stderr",
     "output_type": "stream",
     "text": [
      "  1%|          | 279/30819 [26:16<48:58:27,  5.77s/it]"
     ]
    },
    {
     "name": "stdout",
     "output_type": "stream",
     "text": [
      "Message: no such element: Unable to locate element: {\"method\":\"css selector\",\"selector\":\".prose\"}\n",
      "  (Session info: chrome=112.0.5615.137)\n",
      "Stacktrace:\n",
      "0   chromedriver                        0x000000010491ed3c chromedriver + 4222268\n",
      "1   chromedriver                        0x00000001048a58e8 chromedriver + 3725544\n",
      "2   chromedriver                        0x000000010455bda4 chromedriver + 277924\n",
      "3   chromedriver                        0x00000001045971b8 chromedriver + 520632\n",
      "4   chromedriver                        0x00000001045cf618 chromedriver + 751128\n",
      "5   chromedriver                        0x00000001045898f0 chromedriver + 465136\n",
      "6   chromedriver                        0x000000010458a974 chromedriver + 469364\n",
      "7   chromedriver                        0x00000001048ef788 chromedriver + 4028296\n",
      "8   chromedriver                        0x00000001048f3c1c chromedriver + 4045852\n",
      "9   chromedriver                        0x00000001048f9c98 chromedriver + 4070552\n",
      "10  chromedriver                        0x00000001048f48d8 chromedriver + 4049112\n",
      "11  chromedriver                        0x00000001048cbd84 chromedriver + 3882372\n",
      "12  chromedriver                        0x0000000104912720 chromedriver + 4171552\n",
      "13  chromedriver                        0x0000000104912878 chromedriver + 4171896\n",
      "14  chromedriver                        0x0000000104926014 chromedriver + 4251668\n",
      "15  libsystem_pthread.dylib             0x00000001a3d2606c _pthread_start + 148\n",
      "16  libsystem_pthread.dylib             0x00000001a3d20e2c thread_start + 8\n",
      "\n"
     ]
    },
    {
     "name": "stderr",
     "output_type": "stream",
     "text": [
      "  1%|          | 280/30819 [26:22<50:13:50,  5.92s/it]"
     ]
    },
    {
     "name": "stdout",
     "output_type": "stream",
     "text": [
      "Message: no such element: Unable to locate element: {\"method\":\"css selector\",\"selector\":\".prose\"}\n",
      "  (Session info: chrome=112.0.5615.137)\n",
      "Stacktrace:\n",
      "0   chromedriver                        0x000000010491ed3c chromedriver + 4222268\n",
      "1   chromedriver                        0x00000001048a58e8 chromedriver + 3725544\n",
      "2   chromedriver                        0x000000010455bda4 chromedriver + 277924\n",
      "3   chromedriver                        0x00000001045971b8 chromedriver + 520632\n",
      "4   chromedriver                        0x00000001045cf618 chromedriver + 751128\n",
      "5   chromedriver                        0x00000001045898f0 chromedriver + 465136\n",
      "6   chromedriver                        0x000000010458a974 chromedriver + 469364\n",
      "7   chromedriver                        0x00000001048ef788 chromedriver + 4028296\n",
      "8   chromedriver                        0x00000001048f3c1c chromedriver + 4045852\n",
      "9   chromedriver                        0x00000001048f9c98 chromedriver + 4070552\n",
      "10  chromedriver                        0x00000001048f48d8 chromedriver + 4049112\n",
      "11  chromedriver                        0x00000001048cbd84 chromedriver + 3882372\n",
      "12  chromedriver                        0x0000000104912720 chromedriver + 4171552\n",
      "13  chromedriver                        0x0000000104912878 chromedriver + 4171896\n",
      "14  chromedriver                        0x0000000104926014 chromedriver + 4251668\n",
      "15  libsystem_pthread.dylib             0x00000001a3d2606c _pthread_start + 148\n",
      "16  libsystem_pthread.dylib             0x00000001a3d20e2c thread_start + 8\n",
      "\n"
     ]
    },
    {
     "name": "stderr",
     "output_type": "stream",
     "text": [
      "  1%|          | 281/30819 [26:26<46:02:43,  5.43s/it]"
     ]
    },
    {
     "name": "stdout",
     "output_type": "stream",
     "text": [
      "Message: no such element: Unable to locate element: {\"method\":\"css selector\",\"selector\":\".prose\"}\n",
      "  (Session info: chrome=112.0.5615.137)\n",
      "Stacktrace:\n",
      "0   chromedriver                        0x000000010491ed3c chromedriver + 4222268\n",
      "1   chromedriver                        0x00000001048a58e8 chromedriver + 3725544\n",
      "2   chromedriver                        0x000000010455bda4 chromedriver + 277924\n",
      "3   chromedriver                        0x00000001045971b8 chromedriver + 520632\n",
      "4   chromedriver                        0x00000001045cf618 chromedriver + 751128\n",
      "5   chromedriver                        0x00000001045898f0 chromedriver + 465136\n",
      "6   chromedriver                        0x000000010458a974 chromedriver + 469364\n",
      "7   chromedriver                        0x00000001048ef788 chromedriver + 4028296\n",
      "8   chromedriver                        0x00000001048f3c1c chromedriver + 4045852\n",
      "9   chromedriver                        0x00000001048f9c98 chromedriver + 4070552\n",
      "10  chromedriver                        0x00000001048f48d8 chromedriver + 4049112\n",
      "11  chromedriver                        0x00000001048cbd84 chromedriver + 3882372\n",
      "12  chromedriver                        0x0000000104912720 chromedriver + 4171552\n",
      "13  chromedriver                        0x0000000104912878 chromedriver + 4171896\n",
      "14  chromedriver                        0x0000000104926014 chromedriver + 4251668\n",
      "15  libsystem_pthread.dylib             0x00000001a3d2606c _pthread_start + 148\n",
      "16  libsystem_pthread.dylib             0x00000001a3d20e2c thread_start + 8\n",
      "\n"
     ]
    },
    {
     "name": "stderr",
     "output_type": "stream",
     "text": [
      "  1%|          | 282/30819 [26:31<43:09:45,  5.09s/it]"
     ]
    },
    {
     "name": "stdout",
     "output_type": "stream",
     "text": [
      "Message: no such element: Unable to locate element: {\"method\":\"css selector\",\"selector\":\".prose\"}\n",
      "  (Session info: chrome=112.0.5615.137)\n",
      "Stacktrace:\n",
      "0   chromedriver                        0x000000010491ed3c chromedriver + 4222268\n",
      "1   chromedriver                        0x00000001048a58e8 chromedriver + 3725544\n",
      "2   chromedriver                        0x000000010455bda4 chromedriver + 277924\n",
      "3   chromedriver                        0x00000001045971b8 chromedriver + 520632\n",
      "4   chromedriver                        0x00000001045cf618 chromedriver + 751128\n",
      "5   chromedriver                        0x00000001045898f0 chromedriver + 465136\n",
      "6   chromedriver                        0x000000010458a974 chromedriver + 469364\n",
      "7   chromedriver                        0x00000001048ef788 chromedriver + 4028296\n",
      "8   chromedriver                        0x00000001048f3c1c chromedriver + 4045852\n",
      "9   chromedriver                        0x00000001048f9c98 chromedriver + 4070552\n",
      "10  chromedriver                        0x00000001048f48d8 chromedriver + 4049112\n",
      "11  chromedriver                        0x00000001048cbd84 chromedriver + 3882372\n",
      "12  chromedriver                        0x0000000104912720 chromedriver + 4171552\n",
      "13  chromedriver                        0x0000000104912878 chromedriver + 4171896\n",
      "14  chromedriver                        0x0000000104926014 chromedriver + 4251668\n",
      "15  libsystem_pthread.dylib             0x00000001a3d2606c _pthread_start + 148\n",
      "16  libsystem_pthread.dylib             0x00000001a3d20e2c thread_start + 8\n",
      "\n"
     ]
    },
    {
     "name": "stderr",
     "output_type": "stream",
     "text": [
      "  1%|          | 283/30819 [26:35<41:05:58,  4.85s/it]"
     ]
    },
    {
     "name": "stdout",
     "output_type": "stream",
     "text": [
      "Message: no such element: Unable to locate element: {\"method\":\"css selector\",\"selector\":\".prose\"}\n",
      "  (Session info: chrome=112.0.5615.137)\n",
      "Stacktrace:\n",
      "0   chromedriver                        0x000000010491ed3c chromedriver + 4222268\n",
      "1   chromedriver                        0x00000001048a58e8 chromedriver + 3725544\n",
      "2   chromedriver                        0x000000010455bda4 chromedriver + 277924\n",
      "3   chromedriver                        0x00000001045971b8 chromedriver + 520632\n",
      "4   chromedriver                        0x00000001045cf618 chromedriver + 751128\n",
      "5   chromedriver                        0x00000001045898f0 chromedriver + 465136\n",
      "6   chromedriver                        0x000000010458a974 chromedriver + 469364\n",
      "7   chromedriver                        0x00000001048ef788 chromedriver + 4028296\n",
      "8   chromedriver                        0x00000001048f3c1c chromedriver + 4045852\n",
      "9   chromedriver                        0x00000001048f9c98 chromedriver + 4070552\n",
      "10  chromedriver                        0x00000001048f48d8 chromedriver + 4049112\n",
      "11  chromedriver                        0x00000001048cbd84 chromedriver + 3882372\n",
      "12  chromedriver                        0x0000000104912720 chromedriver + 4171552\n",
      "13  chromedriver                        0x0000000104912878 chromedriver + 4171896\n",
      "14  chromedriver                        0x0000000104926014 chromedriver + 4251668\n",
      "15  libsystem_pthread.dylib             0x00000001a3d2606c _pthread_start + 148\n",
      "16  libsystem_pthread.dylib             0x00000001a3d20e2c thread_start + 8\n",
      "\n"
     ]
    },
    {
     "name": "stderr",
     "output_type": "stream",
     "text": [
      "  1%|          | 290/30819 [27:11<43:48:43,  5.17s/it]"
     ]
    },
    {
     "name": "stdout",
     "output_type": "stream",
     "text": [
      "Message: no such element: Unable to locate element: {\"method\":\"css selector\",\"selector\":\".prose\"}\n",
      "  (Session info: chrome=112.0.5615.137)\n",
      "Stacktrace:\n",
      "0   chromedriver                        0x000000010491ed3c chromedriver + 4222268\n",
      "1   chromedriver                        0x00000001048a58e8 chromedriver + 3725544\n",
      "2   chromedriver                        0x000000010455bda4 chromedriver + 277924\n",
      "3   chromedriver                        0x00000001045971b8 chromedriver + 520632\n",
      "4   chromedriver                        0x00000001045cf618 chromedriver + 751128\n",
      "5   chromedriver                        0x00000001045898f0 chromedriver + 465136\n",
      "6   chromedriver                        0x000000010458a974 chromedriver + 469364\n",
      "7   chromedriver                        0x00000001048ef788 chromedriver + 4028296\n",
      "8   chromedriver                        0x00000001048f3c1c chromedriver + 4045852\n",
      "9   chromedriver                        0x00000001048f9c98 chromedriver + 4070552\n",
      "10  chromedriver                        0x00000001048f48d8 chromedriver + 4049112\n",
      "11  chromedriver                        0x00000001048cbd84 chromedriver + 3882372\n",
      "12  chromedriver                        0x0000000104912720 chromedriver + 4171552\n",
      "13  chromedriver                        0x0000000104912878 chromedriver + 4171896\n",
      "14  chromedriver                        0x0000000104926014 chromedriver + 4251668\n",
      "15  libsystem_pthread.dylib             0x00000001a3d2606c _pthread_start + 148\n",
      "16  libsystem_pthread.dylib             0x00000001a3d20e2c thread_start + 8\n",
      "\n"
     ]
    },
    {
     "name": "stderr",
     "output_type": "stream",
     "text": [
      "  1%|          | 291/30819 [27:15<41:22:12,  4.88s/it]"
     ]
    },
    {
     "name": "stdout",
     "output_type": "stream",
     "text": [
      "Message: no such element: Unable to locate element: {\"method\":\"css selector\",\"selector\":\".prose\"}\n",
      "  (Session info: chrome=112.0.5615.137)\n",
      "Stacktrace:\n",
      "0   chromedriver                        0x000000010491ed3c chromedriver + 4222268\n",
      "1   chromedriver                        0x00000001048a58e8 chromedriver + 3725544\n",
      "2   chromedriver                        0x000000010455bda4 chromedriver + 277924\n",
      "3   chromedriver                        0x00000001045971b8 chromedriver + 520632\n",
      "4   chromedriver                        0x00000001045cf618 chromedriver + 751128\n",
      "5   chromedriver                        0x00000001045898f0 chromedriver + 465136\n",
      "6   chromedriver                        0x000000010458a974 chromedriver + 469364\n",
      "7   chromedriver                        0x00000001048ef788 chromedriver + 4028296\n",
      "8   chromedriver                        0x00000001048f3c1c chromedriver + 4045852\n",
      "9   chromedriver                        0x00000001048f9c98 chromedriver + 4070552\n",
      "10  chromedriver                        0x00000001048f48d8 chromedriver + 4049112\n",
      "11  chromedriver                        0x00000001048cbd84 chromedriver + 3882372\n",
      "12  chromedriver                        0x0000000104912720 chromedriver + 4171552\n",
      "13  chromedriver                        0x0000000104912878 chromedriver + 4171896\n",
      "14  chromedriver                        0x0000000104926014 chromedriver + 4251668\n",
      "15  libsystem_pthread.dylib             0x00000001a3d2606c _pthread_start + 148\n",
      "16  libsystem_pthread.dylib             0x00000001a3d20e2c thread_start + 8\n",
      "\n"
     ]
    },
    {
     "name": "stderr",
     "output_type": "stream",
     "text": [
      "  1%|          | 292/30819 [27:20<42:18:26,  4.99s/it]"
     ]
    },
    {
     "name": "stdout",
     "output_type": "stream",
     "text": [
      "Message: no such element: Unable to locate element: {\"method\":\"css selector\",\"selector\":\".prose\"}\n",
      "  (Session info: chrome=112.0.5615.137)\n",
      "Stacktrace:\n",
      "0   chromedriver                        0x000000010491ed3c chromedriver + 4222268\n",
      "1   chromedriver                        0x00000001048a58e8 chromedriver + 3725544\n",
      "2   chromedriver                        0x000000010455bda4 chromedriver + 277924\n",
      "3   chromedriver                        0x00000001045971b8 chromedriver + 520632\n",
      "4   chromedriver                        0x00000001045cf618 chromedriver + 751128\n",
      "5   chromedriver                        0x00000001045898f0 chromedriver + 465136\n",
      "6   chromedriver                        0x000000010458a974 chromedriver + 469364\n",
      "7   chromedriver                        0x00000001048ef788 chromedriver + 4028296\n",
      "8   chromedriver                        0x00000001048f3c1c chromedriver + 4045852\n",
      "9   chromedriver                        0x00000001048f9c98 chromedriver + 4070552\n",
      "10  chromedriver                        0x00000001048f48d8 chromedriver + 4049112\n",
      "11  chromedriver                        0x00000001048cbd84 chromedriver + 3882372\n",
      "12  chromedriver                        0x0000000104912720 chromedriver + 4171552\n",
      "13  chromedriver                        0x0000000104912878 chromedriver + 4171896\n",
      "14  chromedriver                        0x0000000104926014 chromedriver + 4251668\n",
      "15  libsystem_pthread.dylib             0x00000001a3d2606c _pthread_start + 148\n",
      "16  libsystem_pthread.dylib             0x00000001a3d20e2c thread_start + 8\n",
      "\n"
     ]
    },
    {
     "name": "stderr",
     "output_type": "stream",
     "text": [
      "  1%|          | 293/30819 [27:26<42:55:51,  5.06s/it]"
     ]
    },
    {
     "name": "stdout",
     "output_type": "stream",
     "text": [
      "Message: no such element: Unable to locate element: {\"method\":\"css selector\",\"selector\":\".prose\"}\n",
      "  (Session info: chrome=112.0.5615.137)\n",
      "Stacktrace:\n",
      "0   chromedriver                        0x000000010491ed3c chromedriver + 4222268\n",
      "1   chromedriver                        0x00000001048a58e8 chromedriver + 3725544\n",
      "2   chromedriver                        0x000000010455bda4 chromedriver + 277924\n",
      "3   chromedriver                        0x00000001045971b8 chromedriver + 520632\n",
      "4   chromedriver                        0x00000001045cf618 chromedriver + 751128\n",
      "5   chromedriver                        0x00000001045898f0 chromedriver + 465136\n",
      "6   chromedriver                        0x000000010458a974 chromedriver + 469364\n",
      "7   chromedriver                        0x00000001048ef788 chromedriver + 4028296\n",
      "8   chromedriver                        0x00000001048f3c1c chromedriver + 4045852\n",
      "9   chromedriver                        0x00000001048f9c98 chromedriver + 4070552\n",
      "10  chromedriver                        0x00000001048f48d8 chromedriver + 4049112\n",
      "11  chromedriver                        0x00000001048cbd84 chromedriver + 3882372\n",
      "12  chromedriver                        0x0000000104912720 chromedriver + 4171552\n",
      "13  chromedriver                        0x0000000104912878 chromedriver + 4171896\n",
      "14  chromedriver                        0x0000000104926014 chromedriver + 4251668\n",
      "15  libsystem_pthread.dylib             0x00000001a3d2606c _pthread_start + 148\n",
      "16  libsystem_pthread.dylib             0x00000001a3d20e2c thread_start + 8\n",
      "\n"
     ]
    },
    {
     "name": "stderr",
     "output_type": "stream",
     "text": [
      "  1%|          | 294/30819 [27:32<45:57:43,  5.42s/it]"
     ]
    },
    {
     "name": "stdout",
     "output_type": "stream",
     "text": [
      "Message: no such element: Unable to locate element: {\"method\":\"css selector\",\"selector\":\".prose\"}\n",
      "  (Session info: chrome=112.0.5615.137)\n",
      "Stacktrace:\n",
      "0   chromedriver                        0x000000010491ed3c chromedriver + 4222268\n",
      "1   chromedriver                        0x00000001048a58e8 chromedriver + 3725544\n",
      "2   chromedriver                        0x000000010455bda4 chromedriver + 277924\n",
      "3   chromedriver                        0x00000001045971b8 chromedriver + 520632\n",
      "4   chromedriver                        0x00000001045cf618 chromedriver + 751128\n",
      "5   chromedriver                        0x00000001045898f0 chromedriver + 465136\n",
      "6   chromedriver                        0x000000010458a974 chromedriver + 469364\n",
      "7   chromedriver                        0x00000001048ef788 chromedriver + 4028296\n",
      "8   chromedriver                        0x00000001048f3c1c chromedriver + 4045852\n",
      "9   chromedriver                        0x00000001048f9c98 chromedriver + 4070552\n",
      "10  chromedriver                        0x00000001048f48d8 chromedriver + 4049112\n",
      "11  chromedriver                        0x00000001048cbd84 chromedriver + 3882372\n",
      "12  chromedriver                        0x0000000104912720 chromedriver + 4171552\n",
      "13  chromedriver                        0x0000000104912878 chromedriver + 4171896\n",
      "14  chromedriver                        0x0000000104926014 chromedriver + 4251668\n",
      "15  libsystem_pthread.dylib             0x00000001a3d2606c _pthread_start + 148\n",
      "16  libsystem_pthread.dylib             0x00000001a3d20e2c thread_start + 8\n",
      "\n"
     ]
    },
    {
     "name": "stderr",
     "output_type": "stream",
     "text": [
      "  1%|          | 295/30819 [27:37<45:33:38,  5.37s/it]"
     ]
    },
    {
     "name": "stdout",
     "output_type": "stream",
     "text": [
      "Message: no such element: Unable to locate element: {\"method\":\"css selector\",\"selector\":\".prose\"}\n",
      "  (Session info: chrome=112.0.5615.137)\n",
      "Stacktrace:\n",
      "0   chromedriver                        0x000000010491ed3c chromedriver + 4222268\n",
      "1   chromedriver                        0x00000001048a58e8 chromedriver + 3725544\n",
      "2   chromedriver                        0x000000010455bda4 chromedriver + 277924\n",
      "3   chromedriver                        0x00000001045971b8 chromedriver + 520632\n",
      "4   chromedriver                        0x00000001045cf618 chromedriver + 751128\n",
      "5   chromedriver                        0x00000001045898f0 chromedriver + 465136\n",
      "6   chromedriver                        0x000000010458a974 chromedriver + 469364\n",
      "7   chromedriver                        0x00000001048ef788 chromedriver + 4028296\n",
      "8   chromedriver                        0x00000001048f3c1c chromedriver + 4045852\n",
      "9   chromedriver                        0x00000001048f9c98 chromedriver + 4070552\n",
      "10  chromedriver                        0x00000001048f48d8 chromedriver + 4049112\n",
      "11  chromedriver                        0x00000001048cbd84 chromedriver + 3882372\n",
      "12  chromedriver                        0x0000000104912720 chromedriver + 4171552\n",
      "13  chromedriver                        0x0000000104912878 chromedriver + 4171896\n",
      "14  chromedriver                        0x0000000104926014 chromedriver + 4251668\n",
      "15  libsystem_pthread.dylib             0x00000001a3d2606c _pthread_start + 148\n",
      "16  libsystem_pthread.dylib             0x00000001a3d20e2c thread_start + 8\n",
      "\n"
     ]
    },
    {
     "name": "stderr",
     "output_type": "stream",
     "text": [
      "  1%|          | 301/30819 [28:09<41:21:48,  4.88s/it]"
     ]
    },
    {
     "name": "stdout",
     "output_type": "stream",
     "text": [
      "Message: no such element: Unable to locate element: {\"method\":\"css selector\",\"selector\":\".prose\"}\n",
      "  (Session info: chrome=112.0.5615.137)\n",
      "Stacktrace:\n",
      "0   chromedriver                        0x000000010491ed3c chromedriver + 4222268\n",
      "1   chromedriver                        0x00000001048a58e8 chromedriver + 3725544\n",
      "2   chromedriver                        0x000000010455bda4 chromedriver + 277924\n",
      "3   chromedriver                        0x00000001045971b8 chromedriver + 520632\n",
      "4   chromedriver                        0x00000001045cf618 chromedriver + 751128\n",
      "5   chromedriver                        0x00000001045898f0 chromedriver + 465136\n",
      "6   chromedriver                        0x000000010458a974 chromedriver + 469364\n",
      "7   chromedriver                        0x00000001048ef788 chromedriver + 4028296\n",
      "8   chromedriver                        0x00000001048f3c1c chromedriver + 4045852\n",
      "9   chromedriver                        0x00000001048f9c98 chromedriver + 4070552\n",
      "10  chromedriver                        0x00000001048f48d8 chromedriver + 4049112\n",
      "11  chromedriver                        0x00000001048cbd84 chromedriver + 3882372\n",
      "12  chromedriver                        0x0000000104912720 chromedriver + 4171552\n",
      "13  chromedriver                        0x0000000104912878 chromedriver + 4171896\n",
      "14  chromedriver                        0x0000000104926014 chromedriver + 4251668\n",
      "15  libsystem_pthread.dylib             0x00000001a3d2606c _pthread_start + 148\n",
      "16  libsystem_pthread.dylib             0x00000001a3d20e2c thread_start + 8\n",
      "\n"
     ]
    },
    {
     "name": "stderr",
     "output_type": "stream",
     "text": [
      "  1%|          | 302/30819 [28:14<42:42:37,  5.04s/it]"
     ]
    },
    {
     "name": "stdout",
     "output_type": "stream",
     "text": [
      "Message: no such element: Unable to locate element: {\"method\":\"css selector\",\"selector\":\".prose\"}\n",
      "  (Session info: chrome=112.0.5615.137)\n",
      "Stacktrace:\n",
      "0   chromedriver                        0x000000010491ed3c chromedriver + 4222268\n",
      "1   chromedriver                        0x00000001048a58e8 chromedriver + 3725544\n",
      "2   chromedriver                        0x000000010455bda4 chromedriver + 277924\n",
      "3   chromedriver                        0x00000001045971b8 chromedriver + 520632\n",
      "4   chromedriver                        0x00000001045cf618 chromedriver + 751128\n",
      "5   chromedriver                        0x00000001045898f0 chromedriver + 465136\n",
      "6   chromedriver                        0x000000010458a974 chromedriver + 469364\n",
      "7   chromedriver                        0x00000001048ef788 chromedriver + 4028296\n",
      "8   chromedriver                        0x00000001048f3c1c chromedriver + 4045852\n",
      "9   chromedriver                        0x00000001048f9c98 chromedriver + 4070552\n",
      "10  chromedriver                        0x00000001048f48d8 chromedriver + 4049112\n",
      "11  chromedriver                        0x00000001048cbd84 chromedriver + 3882372\n",
      "12  chromedriver                        0x0000000104912720 chromedriver + 4171552\n",
      "13  chromedriver                        0x0000000104912878 chromedriver + 4171896\n",
      "14  chromedriver                        0x0000000104926014 chromedriver + 4251668\n",
      "15  libsystem_pthread.dylib             0x00000001a3d2606c _pthread_start + 148\n",
      "16  libsystem_pthread.dylib             0x00000001a3d20e2c thread_start + 8\n",
      "\n"
     ]
    },
    {
     "name": "stderr",
     "output_type": "stream",
     "text": [
      "  1%|          | 303/30819 [28:18<40:40:52,  4.80s/it]"
     ]
    },
    {
     "name": "stdout",
     "output_type": "stream",
     "text": [
      "Message: no such element: Unable to locate element: {\"method\":\"css selector\",\"selector\":\".prose\"}\n",
      "  (Session info: chrome=112.0.5615.137)\n",
      "Stacktrace:\n",
      "0   chromedriver                        0x000000010491ed3c chromedriver + 4222268\n",
      "1   chromedriver                        0x00000001048a58e8 chromedriver + 3725544\n",
      "2   chromedriver                        0x000000010455bda4 chromedriver + 277924\n",
      "3   chromedriver                        0x00000001045971b8 chromedriver + 520632\n",
      "4   chromedriver                        0x00000001045cf618 chromedriver + 751128\n",
      "5   chromedriver                        0x00000001045898f0 chromedriver + 465136\n",
      "6   chromedriver                        0x000000010458a974 chromedriver + 469364\n",
      "7   chromedriver                        0x00000001048ef788 chromedriver + 4028296\n",
      "8   chromedriver                        0x00000001048f3c1c chromedriver + 4045852\n",
      "9   chromedriver                        0x00000001048f9c98 chromedriver + 4070552\n",
      "10  chromedriver                        0x00000001048f48d8 chromedriver + 4049112\n",
      "11  chromedriver                        0x00000001048cbd84 chromedriver + 3882372\n",
      "12  chromedriver                        0x0000000104912720 chromedriver + 4171552\n",
      "13  chromedriver                        0x0000000104912878 chromedriver + 4171896\n",
      "14  chromedriver                        0x0000000104926014 chromedriver + 4251668\n",
      "15  libsystem_pthread.dylib             0x00000001a3d2606c _pthread_start + 148\n",
      "16  libsystem_pthread.dylib             0x00000001a3d20e2c thread_start + 8\n",
      "\n"
     ]
    },
    {
     "name": "stderr",
     "output_type": "stream",
     "text": [
      "  1%|          | 304/30819 [28:25<44:21:45,  5.23s/it]"
     ]
    },
    {
     "name": "stdout",
     "output_type": "stream",
     "text": [
      "Message: no such element: Unable to locate element: {\"method\":\"css selector\",\"selector\":\".prose\"}\n",
      "  (Session info: chrome=112.0.5615.137)\n",
      "Stacktrace:\n",
      "0   chromedriver                        0x000000010491ed3c chromedriver + 4222268\n",
      "1   chromedriver                        0x00000001048a58e8 chromedriver + 3725544\n",
      "2   chromedriver                        0x000000010455bda4 chromedriver + 277924\n",
      "3   chromedriver                        0x00000001045971b8 chromedriver + 520632\n",
      "4   chromedriver                        0x00000001045cf618 chromedriver + 751128\n",
      "5   chromedriver                        0x00000001045898f0 chromedriver + 465136\n",
      "6   chromedriver                        0x000000010458a974 chromedriver + 469364\n",
      "7   chromedriver                        0x00000001048ef788 chromedriver + 4028296\n",
      "8   chromedriver                        0x00000001048f3c1c chromedriver + 4045852\n",
      "9   chromedriver                        0x00000001048f9c98 chromedriver + 4070552\n",
      "10  chromedriver                        0x00000001048f48d8 chromedriver + 4049112\n",
      "11  chromedriver                        0x00000001048cbd84 chromedriver + 3882372\n",
      "12  chromedriver                        0x0000000104912720 chromedriver + 4171552\n",
      "13  chromedriver                        0x0000000104912878 chromedriver + 4171896\n",
      "14  chromedriver                        0x0000000104926014 chromedriver + 4251668\n",
      "15  libsystem_pthread.dylib             0x00000001a3d2606c _pthread_start + 148\n",
      "16  libsystem_pthread.dylib             0x00000001a3d20e2c thread_start + 8\n",
      "\n"
     ]
    },
    {
     "name": "stderr",
     "output_type": "stream",
     "text": [
      "  1%|          | 305/30819 [28:29<41:54:00,  4.94s/it]"
     ]
    },
    {
     "name": "stdout",
     "output_type": "stream",
     "text": [
      "Message: no such element: Unable to locate element: {\"method\":\"css selector\",\"selector\":\".prose\"}\n",
      "  (Session info: chrome=112.0.5615.137)\n",
      "Stacktrace:\n",
      "0   chromedriver                        0x000000010491ed3c chromedriver + 4222268\n",
      "1   chromedriver                        0x00000001048a58e8 chromedriver + 3725544\n",
      "2   chromedriver                        0x000000010455bda4 chromedriver + 277924\n",
      "3   chromedriver                        0x00000001045971b8 chromedriver + 520632\n",
      "4   chromedriver                        0x00000001045cf618 chromedriver + 751128\n",
      "5   chromedriver                        0x00000001045898f0 chromedriver + 465136\n",
      "6   chromedriver                        0x000000010458a974 chromedriver + 469364\n",
      "7   chromedriver                        0x00000001048ef788 chromedriver + 4028296\n",
      "8   chromedriver                        0x00000001048f3c1c chromedriver + 4045852\n",
      "9   chromedriver                        0x00000001048f9c98 chromedriver + 4070552\n",
      "10  chromedriver                        0x00000001048f48d8 chromedriver + 4049112\n",
      "11  chromedriver                        0x00000001048cbd84 chromedriver + 3882372\n",
      "12  chromedriver                        0x0000000104912720 chromedriver + 4171552\n",
      "13  chromedriver                        0x0000000104912878 chromedriver + 4171896\n",
      "14  chromedriver                        0x0000000104926014 chromedriver + 4251668\n",
      "15  libsystem_pthread.dylib             0x00000001a3d2606c _pthread_start + 148\n",
      "16  libsystem_pthread.dylib             0x00000001a3d20e2c thread_start + 8\n",
      "\n"
     ]
    },
    {
     "name": "stderr",
     "output_type": "stream",
     "text": [
      "  1%|          | 306/30819 [28:33<40:20:19,  4.76s/it]"
     ]
    },
    {
     "name": "stdout",
     "output_type": "stream",
     "text": [
      "Message: no such element: Unable to locate element: {\"method\":\"css selector\",\"selector\":\".prose\"}\n",
      "  (Session info: chrome=112.0.5615.137)\n",
      "Stacktrace:\n",
      "0   chromedriver                        0x000000010491ed3c chromedriver + 4222268\n",
      "1   chromedriver                        0x00000001048a58e8 chromedriver + 3725544\n",
      "2   chromedriver                        0x000000010455bda4 chromedriver + 277924\n",
      "3   chromedriver                        0x00000001045971b8 chromedriver + 520632\n",
      "4   chromedriver                        0x00000001045cf618 chromedriver + 751128\n",
      "5   chromedriver                        0x00000001045898f0 chromedriver + 465136\n",
      "6   chromedriver                        0x000000010458a974 chromedriver + 469364\n",
      "7   chromedriver                        0x00000001048ef788 chromedriver + 4028296\n",
      "8   chromedriver                        0x00000001048f3c1c chromedriver + 4045852\n",
      "9   chromedriver                        0x00000001048f9c98 chromedriver + 4070552\n",
      "10  chromedriver                        0x00000001048f48d8 chromedriver + 4049112\n",
      "11  chromedriver                        0x00000001048cbd84 chromedriver + 3882372\n",
      "12  chromedriver                        0x0000000104912720 chromedriver + 4171552\n",
      "13  chromedriver                        0x0000000104912878 chromedriver + 4171896\n",
      "14  chromedriver                        0x0000000104926014 chromedriver + 4251668\n",
      "15  libsystem_pthread.dylib             0x00000001a3d2606c _pthread_start + 148\n",
      "16  libsystem_pthread.dylib             0x00000001a3d20e2c thread_start + 8\n",
      "\n"
     ]
    },
    {
     "name": "stderr",
     "output_type": "stream",
     "text": [
      "  1%|          | 314/30819 [29:18<45:05:24,  5.32s/it]"
     ]
    },
    {
     "name": "stdout",
     "output_type": "stream",
     "text": [
      "Message: no such element: Unable to locate element: {\"method\":\"css selector\",\"selector\":\".prose\"}\n",
      "  (Session info: chrome=112.0.5615.137)\n",
      "Stacktrace:\n",
      "0   chromedriver                        0x000000010491ed3c chromedriver + 4222268\n",
      "1   chromedriver                        0x00000001048a58e8 chromedriver + 3725544\n",
      "2   chromedriver                        0x000000010455bda4 chromedriver + 277924\n",
      "3   chromedriver                        0x00000001045971b8 chromedriver + 520632\n",
      "4   chromedriver                        0x00000001045cf618 chromedriver + 751128\n",
      "5   chromedriver                        0x00000001045898f0 chromedriver + 465136\n",
      "6   chromedriver                        0x000000010458a974 chromedriver + 469364\n",
      "7   chromedriver                        0x00000001048ef788 chromedriver + 4028296\n",
      "8   chromedriver                        0x00000001048f3c1c chromedriver + 4045852\n",
      "9   chromedriver                        0x00000001048f9c98 chromedriver + 4070552\n",
      "10  chromedriver                        0x00000001048f48d8 chromedriver + 4049112\n",
      "11  chromedriver                        0x00000001048cbd84 chromedriver + 3882372\n",
      "12  chromedriver                        0x0000000104912720 chromedriver + 4171552\n",
      "13  chromedriver                        0x0000000104912878 chromedriver + 4171896\n",
      "14  chromedriver                        0x0000000104926014 chromedriver + 4251668\n",
      "15  libsystem_pthread.dylib             0x00000001a3d2606c _pthread_start + 148\n",
      "16  libsystem_pthread.dylib             0x00000001a3d20e2c thread_start + 8\n",
      "\n"
     ]
    },
    {
     "name": "stderr",
     "output_type": "stream",
     "text": [
      "  1%|          | 315/30819 [29:23<44:54:47,  5.30s/it]"
     ]
    },
    {
     "name": "stdout",
     "output_type": "stream",
     "text": [
      "Message: no such element: Unable to locate element: {\"method\":\"css selector\",\"selector\":\".prose\"}\n",
      "  (Session info: chrome=112.0.5615.137)\n",
      "Stacktrace:\n",
      "0   chromedriver                        0x000000010491ed3c chromedriver + 4222268\n",
      "1   chromedriver                        0x00000001048a58e8 chromedriver + 3725544\n",
      "2   chromedriver                        0x000000010455bda4 chromedriver + 277924\n",
      "3   chromedriver                        0x00000001045971b8 chromedriver + 520632\n",
      "4   chromedriver                        0x00000001045cf618 chromedriver + 751128\n",
      "5   chromedriver                        0x00000001045898f0 chromedriver + 465136\n",
      "6   chromedriver                        0x000000010458a974 chromedriver + 469364\n",
      "7   chromedriver                        0x00000001048ef788 chromedriver + 4028296\n",
      "8   chromedriver                        0x00000001048f3c1c chromedriver + 4045852\n",
      "9   chromedriver                        0x00000001048f9c98 chromedriver + 4070552\n",
      "10  chromedriver                        0x00000001048f48d8 chromedriver + 4049112\n",
      "11  chromedriver                        0x00000001048cbd84 chromedriver + 3882372\n",
      "12  chromedriver                        0x0000000104912720 chromedriver + 4171552\n",
      "13  chromedriver                        0x0000000104912878 chromedriver + 4171896\n",
      "14  chromedriver                        0x0000000104926014 chromedriver + 4251668\n",
      "15  libsystem_pthread.dylib             0x00000001a3d2606c _pthread_start + 148\n",
      "16  libsystem_pthread.dylib             0x00000001a3d20e2c thread_start + 8\n",
      "\n"
     ]
    },
    {
     "name": "stderr",
     "output_type": "stream",
     "text": [
      "  1%|          | 316/30819 [29:28<42:22:56,  5.00s/it]"
     ]
    },
    {
     "name": "stdout",
     "output_type": "stream",
     "text": [
      "Message: no such element: Unable to locate element: {\"method\":\"css selector\",\"selector\":\".prose\"}\n",
      "  (Session info: chrome=112.0.5615.137)\n",
      "Stacktrace:\n",
      "0   chromedriver                        0x000000010491ed3c chromedriver + 4222268\n",
      "1   chromedriver                        0x00000001048a58e8 chromedriver + 3725544\n",
      "2   chromedriver                        0x000000010455bda4 chromedriver + 277924\n",
      "3   chromedriver                        0x00000001045971b8 chromedriver + 520632\n",
      "4   chromedriver                        0x00000001045cf618 chromedriver + 751128\n",
      "5   chromedriver                        0x00000001045898f0 chromedriver + 465136\n",
      "6   chromedriver                        0x000000010458a974 chromedriver + 469364\n",
      "7   chromedriver                        0x00000001048ef788 chromedriver + 4028296\n",
      "8   chromedriver                        0x00000001048f3c1c chromedriver + 4045852\n",
      "9   chromedriver                        0x00000001048f9c98 chromedriver + 4070552\n",
      "10  chromedriver                        0x00000001048f48d8 chromedriver + 4049112\n",
      "11  chromedriver                        0x00000001048cbd84 chromedriver + 3882372\n",
      "12  chromedriver                        0x0000000104912720 chromedriver + 4171552\n",
      "13  chromedriver                        0x0000000104912878 chromedriver + 4171896\n",
      "14  chromedriver                        0x0000000104926014 chromedriver + 4251668\n",
      "15  libsystem_pthread.dylib             0x00000001a3d2606c _pthread_start + 148\n",
      "16  libsystem_pthread.dylib             0x00000001a3d20e2c thread_start + 8\n",
      "\n"
     ]
    },
    {
     "name": "stderr",
     "output_type": "stream",
     "text": [
      "  1%|          | 317/30819 [29:33<43:01:01,  5.08s/it]"
     ]
    },
    {
     "name": "stdout",
     "output_type": "stream",
     "text": [
      "Message: no such element: Unable to locate element: {\"method\":\"css selector\",\"selector\":\".prose\"}\n",
      "  (Session info: chrome=112.0.5615.137)\n",
      "Stacktrace:\n",
      "0   chromedriver                        0x000000010491ed3c chromedriver + 4222268\n",
      "1   chromedriver                        0x00000001048a58e8 chromedriver + 3725544\n",
      "2   chromedriver                        0x000000010455bda4 chromedriver + 277924\n",
      "3   chromedriver                        0x00000001045971b8 chromedriver + 520632\n",
      "4   chromedriver                        0x00000001045cf618 chromedriver + 751128\n",
      "5   chromedriver                        0x00000001045898f0 chromedriver + 465136\n",
      "6   chromedriver                        0x000000010458a974 chromedriver + 469364\n",
      "7   chromedriver                        0x00000001048ef788 chromedriver + 4028296\n",
      "8   chromedriver                        0x00000001048f3c1c chromedriver + 4045852\n",
      "9   chromedriver                        0x00000001048f9c98 chromedriver + 4070552\n",
      "10  chromedriver                        0x00000001048f48d8 chromedriver + 4049112\n",
      "11  chromedriver                        0x00000001048cbd84 chromedriver + 3882372\n",
      "12  chromedriver                        0x0000000104912720 chromedriver + 4171552\n",
      "13  chromedriver                        0x0000000104912878 chromedriver + 4171896\n",
      "14  chromedriver                        0x0000000104926014 chromedriver + 4251668\n",
      "15  libsystem_pthread.dylib             0x00000001a3d2606c _pthread_start + 148\n",
      "16  libsystem_pthread.dylib             0x00000001a3d20e2c thread_start + 8\n",
      "\n"
     ]
    },
    {
     "name": "stderr",
     "output_type": "stream",
     "text": [
      "  1%|          | 325/30819 [30:19<45:57:43,  5.43s/it]"
     ]
    },
    {
     "name": "stdout",
     "output_type": "stream",
     "text": [
      "Message: no such element: Unable to locate element: {\"method\":\"css selector\",\"selector\":\".prose\"}\n",
      "  (Session info: chrome=112.0.5615.137)\n",
      "Stacktrace:\n",
      "0   chromedriver                        0x000000010491ed3c chromedriver + 4222268\n",
      "1   chromedriver                        0x00000001048a58e8 chromedriver + 3725544\n",
      "2   chromedriver                        0x000000010455bda4 chromedriver + 277924\n",
      "3   chromedriver                        0x00000001045971b8 chromedriver + 520632\n",
      "4   chromedriver                        0x00000001045cf618 chromedriver + 751128\n",
      "5   chromedriver                        0x00000001045898f0 chromedriver + 465136\n",
      "6   chromedriver                        0x000000010458a974 chromedriver + 469364\n",
      "7   chromedriver                        0x00000001048ef788 chromedriver + 4028296\n",
      "8   chromedriver                        0x00000001048f3c1c chromedriver + 4045852\n",
      "9   chromedriver                        0x00000001048f9c98 chromedriver + 4070552\n",
      "10  chromedriver                        0x00000001048f48d8 chromedriver + 4049112\n",
      "11  chromedriver                        0x00000001048cbd84 chromedriver + 3882372\n",
      "12  chromedriver                        0x0000000104912720 chromedriver + 4171552\n",
      "13  chromedriver                        0x0000000104912878 chromedriver + 4171896\n",
      "14  chromedriver                        0x0000000104926014 chromedriver + 4251668\n",
      "15  libsystem_pthread.dylib             0x00000001a3d2606c _pthread_start + 148\n",
      "16  libsystem_pthread.dylib             0x00000001a3d20e2c thread_start + 8\n",
      "\n"
     ]
    },
    {
     "name": "stderr",
     "output_type": "stream",
     "text": [
      "  1%|          | 326/30819 [30:23<43:01:26,  5.08s/it]"
     ]
    },
    {
     "name": "stdout",
     "output_type": "stream",
     "text": [
      "Message: no such element: Unable to locate element: {\"method\":\"css selector\",\"selector\":\".prose\"}\n",
      "  (Session info: chrome=112.0.5615.137)\n",
      "Stacktrace:\n",
      "0   chromedriver                        0x000000010491ed3c chromedriver + 4222268\n",
      "1   chromedriver                        0x00000001048a58e8 chromedriver + 3725544\n",
      "2   chromedriver                        0x000000010455bda4 chromedriver + 277924\n",
      "3   chromedriver                        0x00000001045971b8 chromedriver + 520632\n",
      "4   chromedriver                        0x00000001045cf618 chromedriver + 751128\n",
      "5   chromedriver                        0x00000001045898f0 chromedriver + 465136\n",
      "6   chromedriver                        0x000000010458a974 chromedriver + 469364\n",
      "7   chromedriver                        0x00000001048ef788 chromedriver + 4028296\n",
      "8   chromedriver                        0x00000001048f3c1c chromedriver + 4045852\n",
      "9   chromedriver                        0x00000001048f9c98 chromedriver + 4070552\n",
      "10  chromedriver                        0x00000001048f48d8 chromedriver + 4049112\n",
      "11  chromedriver                        0x00000001048cbd84 chromedriver + 3882372\n",
      "12  chromedriver                        0x0000000104912720 chromedriver + 4171552\n",
      "13  chromedriver                        0x0000000104912878 chromedriver + 4171896\n",
      "14  chromedriver                        0x0000000104926014 chromedriver + 4251668\n",
      "15  libsystem_pthread.dylib             0x00000001a3d2606c _pthread_start + 148\n",
      "16  libsystem_pthread.dylib             0x00000001a3d20e2c thread_start + 8\n",
      "\n"
     ]
    },
    {
     "name": "stderr",
     "output_type": "stream",
     "text": [
      "  1%|          | 327/30819 [30:29<43:27:30,  5.13s/it]"
     ]
    },
    {
     "name": "stdout",
     "output_type": "stream",
     "text": [
      "Message: no such element: Unable to locate element: {\"method\":\"css selector\",\"selector\":\".prose\"}\n",
      "  (Session info: chrome=112.0.5615.137)\n",
      "Stacktrace:\n",
      "0   chromedriver                        0x000000010491ed3c chromedriver + 4222268\n",
      "1   chromedriver                        0x00000001048a58e8 chromedriver + 3725544\n",
      "2   chromedriver                        0x000000010455bda4 chromedriver + 277924\n",
      "3   chromedriver                        0x00000001045971b8 chromedriver + 520632\n",
      "4   chromedriver                        0x00000001045cf618 chromedriver + 751128\n",
      "5   chromedriver                        0x00000001045898f0 chromedriver + 465136\n",
      "6   chromedriver                        0x000000010458a974 chromedriver + 469364\n",
      "7   chromedriver                        0x00000001048ef788 chromedriver + 4028296\n",
      "8   chromedriver                        0x00000001048f3c1c chromedriver + 4045852\n",
      "9   chromedriver                        0x00000001048f9c98 chromedriver + 4070552\n",
      "10  chromedriver                        0x00000001048f48d8 chromedriver + 4049112\n",
      "11  chromedriver                        0x00000001048cbd84 chromedriver + 3882372\n",
      "12  chromedriver                        0x0000000104912720 chromedriver + 4171552\n",
      "13  chromedriver                        0x0000000104912878 chromedriver + 4171896\n",
      "14  chromedriver                        0x0000000104926014 chromedriver + 4251668\n",
      "15  libsystem_pthread.dylib             0x00000001a3d2606c _pthread_start + 148\n",
      "16  libsystem_pthread.dylib             0x00000001a3d20e2c thread_start + 8\n",
      "\n"
     ]
    },
    {
     "name": "stderr",
     "output_type": "stream",
     "text": [
      "  1%|          | 328/30819 [30:33<41:15:31,  4.87s/it]"
     ]
    },
    {
     "name": "stdout",
     "output_type": "stream",
     "text": [
      "Message: no such element: Unable to locate element: {\"method\":\"css selector\",\"selector\":\".prose\"}\n",
      "  (Session info: chrome=112.0.5615.137)\n",
      "Stacktrace:\n",
      "0   chromedriver                        0x000000010491ed3c chromedriver + 4222268\n",
      "1   chromedriver                        0x00000001048a58e8 chromedriver + 3725544\n",
      "2   chromedriver                        0x000000010455bda4 chromedriver + 277924\n",
      "3   chromedriver                        0x00000001045971b8 chromedriver + 520632\n",
      "4   chromedriver                        0x00000001045cf618 chromedriver + 751128\n",
      "5   chromedriver                        0x00000001045898f0 chromedriver + 465136\n",
      "6   chromedriver                        0x000000010458a974 chromedriver + 469364\n",
      "7   chromedriver                        0x00000001048ef788 chromedriver + 4028296\n",
      "8   chromedriver                        0x00000001048f3c1c chromedriver + 4045852\n",
      "9   chromedriver                        0x00000001048f9c98 chromedriver + 4070552\n",
      "10  chromedriver                        0x00000001048f48d8 chromedriver + 4049112\n",
      "11  chromedriver                        0x00000001048cbd84 chromedriver + 3882372\n",
      "12  chromedriver                        0x0000000104912720 chromedriver + 4171552\n",
      "13  chromedriver                        0x0000000104912878 chromedriver + 4171896\n",
      "14  chromedriver                        0x0000000104926014 chromedriver + 4251668\n",
      "15  libsystem_pthread.dylib             0x00000001a3d2606c _pthread_start + 148\n",
      "16  libsystem_pthread.dylib             0x00000001a3d20e2c thread_start + 8\n",
      "\n"
     ]
    },
    {
     "name": "stderr",
     "output_type": "stream",
     "text": [
      "  1%|          | 329/30819 [30:37<39:36:47,  4.68s/it]"
     ]
    },
    {
     "name": "stdout",
     "output_type": "stream",
     "text": [
      "Message: no such element: Unable to locate element: {\"method\":\"css selector\",\"selector\":\".prose\"}\n",
      "  (Session info: chrome=112.0.5615.137)\n",
      "Stacktrace:\n",
      "0   chromedriver                        0x000000010491ed3c chromedriver + 4222268\n",
      "1   chromedriver                        0x00000001048a58e8 chromedriver + 3725544\n",
      "2   chromedriver                        0x000000010455bda4 chromedriver + 277924\n",
      "3   chromedriver                        0x00000001045971b8 chromedriver + 520632\n",
      "4   chromedriver                        0x00000001045cf618 chromedriver + 751128\n",
      "5   chromedriver                        0x00000001045898f0 chromedriver + 465136\n",
      "6   chromedriver                        0x000000010458a974 chromedriver + 469364\n",
      "7   chromedriver                        0x00000001048ef788 chromedriver + 4028296\n",
      "8   chromedriver                        0x00000001048f3c1c chromedriver + 4045852\n",
      "9   chromedriver                        0x00000001048f9c98 chromedriver + 4070552\n",
      "10  chromedriver                        0x00000001048f48d8 chromedriver + 4049112\n",
      "11  chromedriver                        0x00000001048cbd84 chromedriver + 3882372\n",
      "12  chromedriver                        0x0000000104912720 chromedriver + 4171552\n",
      "13  chromedriver                        0x0000000104912878 chromedriver + 4171896\n",
      "14  chromedriver                        0x0000000104926014 chromedriver + 4251668\n",
      "15  libsystem_pthread.dylib             0x00000001a3d2606c _pthread_start + 148\n",
      "16  libsystem_pthread.dylib             0x00000001a3d20e2c thread_start + 8\n",
      "\n"
     ]
    },
    {
     "name": "stderr",
     "output_type": "stream",
     "text": [
      "  1%|          | 335/30819 [31:08<40:20:26,  4.76s/it]"
     ]
    },
    {
     "name": "stdout",
     "output_type": "stream",
     "text": [
      "Message: no such element: Unable to locate element: {\"method\":\"css selector\",\"selector\":\".prose\"}\n",
      "  (Session info: chrome=112.0.5615.137)\n",
      "Stacktrace:\n",
      "0   chromedriver                        0x000000010491ed3c chromedriver + 4222268\n",
      "1   chromedriver                        0x00000001048a58e8 chromedriver + 3725544\n",
      "2   chromedriver                        0x000000010455bda4 chromedriver + 277924\n",
      "3   chromedriver                        0x00000001045971b8 chromedriver + 520632\n",
      "4   chromedriver                        0x00000001045cf618 chromedriver + 751128\n",
      "5   chromedriver                        0x00000001045898f0 chromedriver + 465136\n",
      "6   chromedriver                        0x000000010458a974 chromedriver + 469364\n",
      "7   chromedriver                        0x00000001048ef788 chromedriver + 4028296\n",
      "8   chromedriver                        0x00000001048f3c1c chromedriver + 4045852\n",
      "9   chromedriver                        0x00000001048f9c98 chromedriver + 4070552\n",
      "10  chromedriver                        0x00000001048f48d8 chromedriver + 4049112\n",
      "11  chromedriver                        0x00000001048cbd84 chromedriver + 3882372\n",
      "12  chromedriver                        0x0000000104912720 chromedriver + 4171552\n",
      "13  chromedriver                        0x0000000104912878 chromedriver + 4171896\n",
      "14  chromedriver                        0x0000000104926014 chromedriver + 4251668\n",
      "15  libsystem_pthread.dylib             0x00000001a3d2606c _pthread_start + 148\n",
      "16  libsystem_pthread.dylib             0x00000001a3d20e2c thread_start + 8\n",
      "\n"
     ]
    },
    {
     "name": "stderr",
     "output_type": "stream",
     "text": [
      "  1%|          | 336/30819 [31:12<38:56:25,  4.60s/it]"
     ]
    },
    {
     "name": "stdout",
     "output_type": "stream",
     "text": [
      "Message: no such element: Unable to locate element: {\"method\":\"css selector\",\"selector\":\".prose\"}\n",
      "  (Session info: chrome=112.0.5615.137)\n",
      "Stacktrace:\n",
      "0   chromedriver                        0x000000010491ed3c chromedriver + 4222268\n",
      "1   chromedriver                        0x00000001048a58e8 chromedriver + 3725544\n",
      "2   chromedriver                        0x000000010455bda4 chromedriver + 277924\n",
      "3   chromedriver                        0x00000001045971b8 chromedriver + 520632\n",
      "4   chromedriver                        0x00000001045cf618 chromedriver + 751128\n",
      "5   chromedriver                        0x00000001045898f0 chromedriver + 465136\n",
      "6   chromedriver                        0x000000010458a974 chromedriver + 469364\n",
      "7   chromedriver                        0x00000001048ef788 chromedriver + 4028296\n",
      "8   chromedriver                        0x00000001048f3c1c chromedriver + 4045852\n",
      "9   chromedriver                        0x00000001048f9c98 chromedriver + 4070552\n",
      "10  chromedriver                        0x00000001048f48d8 chromedriver + 4049112\n",
      "11  chromedriver                        0x00000001048cbd84 chromedriver + 3882372\n",
      "12  chromedriver                        0x0000000104912720 chromedriver + 4171552\n",
      "13  chromedriver                        0x0000000104912878 chromedriver + 4171896\n",
      "14  chromedriver                        0x0000000104926014 chromedriver + 4251668\n",
      "15  libsystem_pthread.dylib             0x00000001a3d2606c _pthread_start + 148\n",
      "16  libsystem_pthread.dylib             0x00000001a3d20e2c thread_start + 8\n",
      "\n"
     ]
    },
    {
     "name": "stderr",
     "output_type": "stream",
     "text": [
      "  1%|          | 337/30819 [31:18<43:08:49,  5.10s/it]"
     ]
    },
    {
     "name": "stdout",
     "output_type": "stream",
     "text": [
      "Message: no such element: Unable to locate element: {\"method\":\"css selector\",\"selector\":\".prose\"}\n",
      "  (Session info: chrome=112.0.5615.137)\n",
      "Stacktrace:\n",
      "0   chromedriver                        0x000000010491ed3c chromedriver + 4222268\n",
      "1   chromedriver                        0x00000001048a58e8 chromedriver + 3725544\n",
      "2   chromedriver                        0x000000010455bda4 chromedriver + 277924\n",
      "3   chromedriver                        0x00000001045971b8 chromedriver + 520632\n",
      "4   chromedriver                        0x00000001045cf618 chromedriver + 751128\n",
      "5   chromedriver                        0x00000001045898f0 chromedriver + 465136\n",
      "6   chromedriver                        0x000000010458a974 chromedriver + 469364\n",
      "7   chromedriver                        0x00000001048ef788 chromedriver + 4028296\n",
      "8   chromedriver                        0x00000001048f3c1c chromedriver + 4045852\n",
      "9   chromedriver                        0x00000001048f9c98 chromedriver + 4070552\n",
      "10  chromedriver                        0x00000001048f48d8 chromedriver + 4049112\n",
      "11  chromedriver                        0x00000001048cbd84 chromedriver + 3882372\n",
      "12  chromedriver                        0x0000000104912720 chromedriver + 4171552\n",
      "13  chromedriver                        0x0000000104912878 chromedriver + 4171896\n",
      "14  chromedriver                        0x0000000104926014 chromedriver + 4251668\n",
      "15  libsystem_pthread.dylib             0x00000001a3d2606c _pthread_start + 148\n",
      "16  libsystem_pthread.dylib             0x00000001a3d20e2c thread_start + 8\n",
      "\n"
     ]
    },
    {
     "name": "stderr",
     "output_type": "stream",
     "text": [
      "  1%|          | 338/30819 [31:25<46:04:23,  5.44s/it]"
     ]
    },
    {
     "name": "stdout",
     "output_type": "stream",
     "text": [
      "Message: no such element: Unable to locate element: {\"method\":\"css selector\",\"selector\":\".prose\"}\n",
      "  (Session info: chrome=112.0.5615.137)\n",
      "Stacktrace:\n",
      "0   chromedriver                        0x000000010491ed3c chromedriver + 4222268\n",
      "1   chromedriver                        0x00000001048a58e8 chromedriver + 3725544\n",
      "2   chromedriver                        0x000000010455bda4 chromedriver + 277924\n",
      "3   chromedriver                        0x00000001045971b8 chromedriver + 520632\n",
      "4   chromedriver                        0x00000001045cf618 chromedriver + 751128\n",
      "5   chromedriver                        0x00000001045898f0 chromedriver + 465136\n",
      "6   chromedriver                        0x000000010458a974 chromedriver + 469364\n",
      "7   chromedriver                        0x00000001048ef788 chromedriver + 4028296\n",
      "8   chromedriver                        0x00000001048f3c1c chromedriver + 4045852\n",
      "9   chromedriver                        0x00000001048f9c98 chromedriver + 4070552\n",
      "10  chromedriver                        0x00000001048f48d8 chromedriver + 4049112\n",
      "11  chromedriver                        0x00000001048cbd84 chromedriver + 3882372\n",
      "12  chromedriver                        0x0000000104912720 chromedriver + 4171552\n",
      "13  chromedriver                        0x0000000104912878 chromedriver + 4171896\n",
      "14  chromedriver                        0x0000000104926014 chromedriver + 4251668\n",
      "15  libsystem_pthread.dylib             0x00000001a3d2606c _pthread_start + 148\n",
      "16  libsystem_pthread.dylib             0x00000001a3d20e2c thread_start + 8\n",
      "\n"
     ]
    },
    {
     "name": "stderr",
     "output_type": "stream",
     "text": [
      "  1%|          | 339/30819 [31:29<43:04:08,  5.09s/it]"
     ]
    },
    {
     "name": "stdout",
     "output_type": "stream",
     "text": [
      "Message: no such element: Unable to locate element: {\"method\":\"css selector\",\"selector\":\".prose\"}\n",
      "  (Session info: chrome=112.0.5615.137)\n",
      "Stacktrace:\n",
      "0   chromedriver                        0x000000010491ed3c chromedriver + 4222268\n",
      "1   chromedriver                        0x00000001048a58e8 chromedriver + 3725544\n",
      "2   chromedriver                        0x000000010455bda4 chromedriver + 277924\n",
      "3   chromedriver                        0x00000001045971b8 chromedriver + 520632\n",
      "4   chromedriver                        0x00000001045cf618 chromedriver + 751128\n",
      "5   chromedriver                        0x00000001045898f0 chromedriver + 465136\n",
      "6   chromedriver                        0x000000010458a974 chromedriver + 469364\n",
      "7   chromedriver                        0x00000001048ef788 chromedriver + 4028296\n",
      "8   chromedriver                        0x00000001048f3c1c chromedriver + 4045852\n",
      "9   chromedriver                        0x00000001048f9c98 chromedriver + 4070552\n",
      "10  chromedriver                        0x00000001048f48d8 chromedriver + 4049112\n",
      "11  chromedriver                        0x00000001048cbd84 chromedriver + 3882372\n",
      "12  chromedriver                        0x0000000104912720 chromedriver + 4171552\n",
      "13  chromedriver                        0x0000000104912878 chromedriver + 4171896\n",
      "14  chromedriver                        0x0000000104926014 chromedriver + 4251668\n",
      "15  libsystem_pthread.dylib             0x00000001a3d2606c _pthread_start + 148\n",
      "16  libsystem_pthread.dylib             0x00000001a3d20e2c thread_start + 8\n",
      "\n"
     ]
    },
    {
     "name": "stderr",
     "output_type": "stream",
     "text": [
      "  1%|          | 340/30819 [31:35<46:03:38,  5.44s/it]"
     ]
    },
    {
     "name": "stdout",
     "output_type": "stream",
     "text": [
      "Message: no such element: Unable to locate element: {\"method\":\"css selector\",\"selector\":\".prose\"}\n",
      "  (Session info: chrome=112.0.5615.137)\n",
      "Stacktrace:\n",
      "0   chromedriver                        0x000000010491ed3c chromedriver + 4222268\n",
      "1   chromedriver                        0x00000001048a58e8 chromedriver + 3725544\n",
      "2   chromedriver                        0x000000010455bda4 chromedriver + 277924\n",
      "3   chromedriver                        0x00000001045971b8 chromedriver + 520632\n",
      "4   chromedriver                        0x00000001045cf618 chromedriver + 751128\n",
      "5   chromedriver                        0x00000001045898f0 chromedriver + 465136\n",
      "6   chromedriver                        0x000000010458a974 chromedriver + 469364\n",
      "7   chromedriver                        0x00000001048ef788 chromedriver + 4028296\n",
      "8   chromedriver                        0x00000001048f3c1c chromedriver + 4045852\n",
      "9   chromedriver                        0x00000001048f9c98 chromedriver + 4070552\n",
      "10  chromedriver                        0x00000001048f48d8 chromedriver + 4049112\n",
      "11  chromedriver                        0x00000001048cbd84 chromedriver + 3882372\n",
      "12  chromedriver                        0x0000000104912720 chromedriver + 4171552\n",
      "13  chromedriver                        0x0000000104912878 chromedriver + 4171896\n",
      "14  chromedriver                        0x0000000104926014 chromedriver + 4251668\n",
      "15  libsystem_pthread.dylib             0x00000001a3d2606c _pthread_start + 148\n",
      "16  libsystem_pthread.dylib             0x00000001a3d20e2c thread_start + 8\n",
      "\n"
     ]
    },
    {
     "name": "stderr",
     "output_type": "stream",
     "text": [
      "  1%|          | 343/30819 [31:50<42:26:04,  5.01s/it]"
     ]
    },
    {
     "name": "stdout",
     "output_type": "stream",
     "text": [
      "Message: no such element: Unable to locate element: {\"method\":\"css selector\",\"selector\":\".prose\"}\n",
      "  (Session info: chrome=112.0.5615.137)\n",
      "Stacktrace:\n",
      "0   chromedriver                        0x000000010491ed3c chromedriver + 4222268\n",
      "1   chromedriver                        0x00000001048a58e8 chromedriver + 3725544\n",
      "2   chromedriver                        0x000000010455bda4 chromedriver + 277924\n",
      "3   chromedriver                        0x00000001045971b8 chromedriver + 520632\n",
      "4   chromedriver                        0x00000001045cf618 chromedriver + 751128\n",
      "5   chromedriver                        0x00000001045898f0 chromedriver + 465136\n",
      "6   chromedriver                        0x000000010458a974 chromedriver + 469364\n",
      "7   chromedriver                        0x00000001048ef788 chromedriver + 4028296\n",
      "8   chromedriver                        0x00000001048f3c1c chromedriver + 4045852\n",
      "9   chromedriver                        0x00000001048f9c98 chromedriver + 4070552\n",
      "10  chromedriver                        0x00000001048f48d8 chromedriver + 4049112\n",
      "11  chromedriver                        0x00000001048cbd84 chromedriver + 3882372\n",
      "12  chromedriver                        0x0000000104912720 chromedriver + 4171552\n",
      "13  chromedriver                        0x0000000104912878 chromedriver + 4171896\n",
      "14  chromedriver                        0x0000000104926014 chromedriver + 4251668\n",
      "15  libsystem_pthread.dylib             0x00000001a3d2606c _pthread_start + 148\n",
      "16  libsystem_pthread.dylib             0x00000001a3d20e2c thread_start + 8\n",
      "\n"
     ]
    },
    {
     "name": "stderr",
     "output_type": "stream",
     "text": [
      "  1%|          | 344/30819 [31:55<43:01:46,  5.08s/it]"
     ]
    },
    {
     "name": "stdout",
     "output_type": "stream",
     "text": [
      "Message: no such element: Unable to locate element: {\"method\":\"css selector\",\"selector\":\".prose\"}\n",
      "  (Session info: chrome=112.0.5615.137)\n",
      "Stacktrace:\n",
      "0   chromedriver                        0x000000010491ed3c chromedriver + 4222268\n",
      "1   chromedriver                        0x00000001048a58e8 chromedriver + 3725544\n",
      "2   chromedriver                        0x000000010455bda4 chromedriver + 277924\n",
      "3   chromedriver                        0x00000001045971b8 chromedriver + 520632\n",
      "4   chromedriver                        0x00000001045cf618 chromedriver + 751128\n",
      "5   chromedriver                        0x00000001045898f0 chromedriver + 465136\n",
      "6   chromedriver                        0x000000010458a974 chromedriver + 469364\n",
      "7   chromedriver                        0x00000001048ef788 chromedriver + 4028296\n",
      "8   chromedriver                        0x00000001048f3c1c chromedriver + 4045852\n",
      "9   chromedriver                        0x00000001048f9c98 chromedriver + 4070552\n",
      "10  chromedriver                        0x00000001048f48d8 chromedriver + 4049112\n",
      "11  chromedriver                        0x00000001048cbd84 chromedriver + 3882372\n",
      "12  chromedriver                        0x0000000104912720 chromedriver + 4171552\n",
      "13  chromedriver                        0x0000000104912878 chromedriver + 4171896\n",
      "14  chromedriver                        0x0000000104926014 chromedriver + 4251668\n",
      "15  libsystem_pthread.dylib             0x00000001a3d2606c _pthread_start + 148\n",
      "16  libsystem_pthread.dylib             0x00000001a3d20e2c thread_start + 8\n",
      "\n"
     ]
    },
    {
     "name": "stderr",
     "output_type": "stream",
     "text": [
      "  1%|          | 345/30819 [32:01<45:58:14,  5.43s/it]"
     ]
    },
    {
     "name": "stdout",
     "output_type": "stream",
     "text": [
      "Message: no such element: Unable to locate element: {\"method\":\"css selector\",\"selector\":\".prose\"}\n",
      "  (Session info: chrome=112.0.5615.137)\n",
      "Stacktrace:\n",
      "0   chromedriver                        0x000000010491ed3c chromedriver + 4222268\n",
      "1   chromedriver                        0x00000001048a58e8 chromedriver + 3725544\n",
      "2   chromedriver                        0x000000010455bda4 chromedriver + 277924\n",
      "3   chromedriver                        0x00000001045971b8 chromedriver + 520632\n",
      "4   chromedriver                        0x00000001045cf618 chromedriver + 751128\n",
      "5   chromedriver                        0x00000001045898f0 chromedriver + 465136\n",
      "6   chromedriver                        0x000000010458a974 chromedriver + 469364\n",
      "7   chromedriver                        0x00000001048ef788 chromedriver + 4028296\n",
      "8   chromedriver                        0x00000001048f3c1c chromedriver + 4045852\n",
      "9   chromedriver                        0x00000001048f9c98 chromedriver + 4070552\n",
      "10  chromedriver                        0x00000001048f48d8 chromedriver + 4049112\n",
      "11  chromedriver                        0x00000001048cbd84 chromedriver + 3882372\n",
      "12  chromedriver                        0x0000000104912720 chromedriver + 4171552\n",
      "13  chromedriver                        0x0000000104912878 chromedriver + 4171896\n",
      "14  chromedriver                        0x0000000104926014 chromedriver + 4251668\n",
      "15  libsystem_pthread.dylib             0x00000001a3d2606c _pthread_start + 148\n",
      "16  libsystem_pthread.dylib             0x00000001a3d20e2c thread_start + 8\n",
      "\n"
     ]
    },
    {
     "name": "stderr",
     "output_type": "stream",
     "text": [
      "  1%|          | 346/30819 [32:08<48:05:00,  5.68s/it]"
     ]
    },
    {
     "name": "stdout",
     "output_type": "stream",
     "text": [
      "Message: no such element: Unable to locate element: {\"method\":\"css selector\",\"selector\":\".prose\"}\n",
      "  (Session info: chrome=112.0.5615.137)\n",
      "Stacktrace:\n",
      "0   chromedriver                        0x000000010491ed3c chromedriver + 4222268\n",
      "1   chromedriver                        0x00000001048a58e8 chromedriver + 3725544\n",
      "2   chromedriver                        0x000000010455bda4 chromedriver + 277924\n",
      "3   chromedriver                        0x00000001045971b8 chromedriver + 520632\n",
      "4   chromedriver                        0x00000001045cf618 chromedriver + 751128\n",
      "5   chromedriver                        0x00000001045898f0 chromedriver + 465136\n",
      "6   chromedriver                        0x000000010458a974 chromedriver + 469364\n",
      "7   chromedriver                        0x00000001048ef788 chromedriver + 4028296\n",
      "8   chromedriver                        0x00000001048f3c1c chromedriver + 4045852\n",
      "9   chromedriver                        0x00000001048f9c98 chromedriver + 4070552\n",
      "10  chromedriver                        0x00000001048f48d8 chromedriver + 4049112\n",
      "11  chromedriver                        0x00000001048cbd84 chromedriver + 3882372\n",
      "12  chromedriver                        0x0000000104912720 chromedriver + 4171552\n",
      "13  chromedriver                        0x0000000104912878 chromedriver + 4171896\n",
      "14  chromedriver                        0x0000000104926014 chromedriver + 4251668\n",
      "15  libsystem_pthread.dylib             0x00000001a3d2606c _pthread_start + 148\n",
      "16  libsystem_pthread.dylib             0x00000001a3d20e2c thread_start + 8\n",
      "\n"
     ]
    },
    {
     "name": "stderr",
     "output_type": "stream",
     "text": [
      "  1%|          | 347/30819 [32:14<49:34:28,  5.86s/it]"
     ]
    },
    {
     "name": "stdout",
     "output_type": "stream",
     "text": [
      "Message: no such element: Unable to locate element: {\"method\":\"css selector\",\"selector\":\".prose\"}\n",
      "  (Session info: chrome=112.0.5615.137)\n",
      "Stacktrace:\n",
      "0   chromedriver                        0x000000010491ed3c chromedriver + 4222268\n",
      "1   chromedriver                        0x00000001048a58e8 chromedriver + 3725544\n",
      "2   chromedriver                        0x000000010455bda4 chromedriver + 277924\n",
      "3   chromedriver                        0x00000001045971b8 chromedriver + 520632\n",
      "4   chromedriver                        0x00000001045cf618 chromedriver + 751128\n",
      "5   chromedriver                        0x00000001045898f0 chromedriver + 465136\n",
      "6   chromedriver                        0x000000010458a974 chromedriver + 469364\n",
      "7   chromedriver                        0x00000001048ef788 chromedriver + 4028296\n",
      "8   chromedriver                        0x00000001048f3c1c chromedriver + 4045852\n",
      "9   chromedriver                        0x00000001048f9c98 chromedriver + 4070552\n",
      "10  chromedriver                        0x00000001048f48d8 chromedriver + 4049112\n",
      "11  chromedriver                        0x00000001048cbd84 chromedriver + 3882372\n",
      "12  chromedriver                        0x0000000104912720 chromedriver + 4171552\n",
      "13  chromedriver                        0x0000000104912878 chromedriver + 4171896\n",
      "14  chromedriver                        0x0000000104926014 chromedriver + 4251668\n",
      "15  libsystem_pthread.dylib             0x00000001a3d2606c _pthread_start + 148\n",
      "16  libsystem_pthread.dylib             0x00000001a3d20e2c thread_start + 8\n",
      "\n"
     ]
    },
    {
     "name": "stderr",
     "output_type": "stream",
     "text": [
      "  1%|          | 348/30819 [32:19<48:05:05,  5.68s/it]"
     ]
    },
    {
     "name": "stdout",
     "output_type": "stream",
     "text": [
      "Message: no such element: Unable to locate element: {\"method\":\"css selector\",\"selector\":\".prose\"}\n",
      "  (Session info: chrome=112.0.5615.137)\n",
      "Stacktrace:\n",
      "0   chromedriver                        0x000000010491ed3c chromedriver + 4222268\n",
      "1   chromedriver                        0x00000001048a58e8 chromedriver + 3725544\n",
      "2   chromedriver                        0x000000010455bda4 chromedriver + 277924\n",
      "3   chromedriver                        0x00000001045971b8 chromedriver + 520632\n",
      "4   chromedriver                        0x00000001045cf618 chromedriver + 751128\n",
      "5   chromedriver                        0x00000001045898f0 chromedriver + 465136\n",
      "6   chromedriver                        0x000000010458a974 chromedriver + 469364\n",
      "7   chromedriver                        0x00000001048ef788 chromedriver + 4028296\n",
      "8   chromedriver                        0x00000001048f3c1c chromedriver + 4045852\n",
      "9   chromedriver                        0x00000001048f9c98 chromedriver + 4070552\n",
      "10  chromedriver                        0x00000001048f48d8 chromedriver + 4049112\n",
      "11  chromedriver                        0x00000001048cbd84 chromedriver + 3882372\n",
      "12  chromedriver                        0x0000000104912720 chromedriver + 4171552\n",
      "13  chromedriver                        0x0000000104912878 chromedriver + 4171896\n",
      "14  chromedriver                        0x0000000104926014 chromedriver + 4251668\n",
      "15  libsystem_pthread.dylib             0x00000001a3d2606c _pthread_start + 148\n",
      "16  libsystem_pthread.dylib             0x00000001a3d20e2c thread_start + 8\n",
      "\n"
     ]
    },
    {
     "name": "stderr",
     "output_type": "stream",
     "text": [
      "  1%|          | 349/30819 [32:23<44:27:28,  5.25s/it]"
     ]
    },
    {
     "name": "stdout",
     "output_type": "stream",
     "text": [
      "Message: no such element: Unable to locate element: {\"method\":\"css selector\",\"selector\":\".prose\"}\n",
      "  (Session info: chrome=112.0.5615.137)\n",
      "Stacktrace:\n",
      "0   chromedriver                        0x000000010491ed3c chromedriver + 4222268\n",
      "1   chromedriver                        0x00000001048a58e8 chromedriver + 3725544\n",
      "2   chromedriver                        0x000000010455bda4 chromedriver + 277924\n",
      "3   chromedriver                        0x00000001045971b8 chromedriver + 520632\n",
      "4   chromedriver                        0x00000001045cf618 chromedriver + 751128\n",
      "5   chromedriver                        0x00000001045898f0 chromedriver + 465136\n",
      "6   chromedriver                        0x000000010458a974 chromedriver + 469364\n",
      "7   chromedriver                        0x00000001048ef788 chromedriver + 4028296\n",
      "8   chromedriver                        0x00000001048f3c1c chromedriver + 4045852\n",
      "9   chromedriver                        0x00000001048f9c98 chromedriver + 4070552\n",
      "10  chromedriver                        0x00000001048f48d8 chromedriver + 4049112\n",
      "11  chromedriver                        0x00000001048cbd84 chromedriver + 3882372\n",
      "12  chromedriver                        0x0000000104912720 chromedriver + 4171552\n",
      "13  chromedriver                        0x0000000104912878 chromedriver + 4171896\n",
      "14  chromedriver                        0x0000000104926014 chromedriver + 4251668\n",
      "15  libsystem_pthread.dylib             0x00000001a3d2606c _pthread_start + 148\n",
      "16  libsystem_pthread.dylib             0x00000001a3d20e2c thread_start + 8\n",
      "\n"
     ]
    },
    {
     "name": "stderr",
     "output_type": "stream",
     "text": [
      "  1%|          | 350/30819 [32:29<44:34:27,  5.27s/it]"
     ]
    },
    {
     "name": "stdout",
     "output_type": "stream",
     "text": [
      "Message: no such element: Unable to locate element: {\"method\":\"css selector\",\"selector\":\".prose\"}\n",
      "  (Session info: chrome=112.0.5615.137)\n",
      "Stacktrace:\n",
      "0   chromedriver                        0x000000010491ed3c chromedriver + 4222268\n",
      "1   chromedriver                        0x00000001048a58e8 chromedriver + 3725544\n",
      "2   chromedriver                        0x000000010455bda4 chromedriver + 277924\n",
      "3   chromedriver                        0x00000001045971b8 chromedriver + 520632\n",
      "4   chromedriver                        0x00000001045cf618 chromedriver + 751128\n",
      "5   chromedriver                        0x00000001045898f0 chromedriver + 465136\n",
      "6   chromedriver                        0x000000010458a974 chromedriver + 469364\n",
      "7   chromedriver                        0x00000001048ef788 chromedriver + 4028296\n",
      "8   chromedriver                        0x00000001048f3c1c chromedriver + 4045852\n",
      "9   chromedriver                        0x00000001048f9c98 chromedriver + 4070552\n",
      "10  chromedriver                        0x00000001048f48d8 chromedriver + 4049112\n",
      "11  chromedriver                        0x00000001048cbd84 chromedriver + 3882372\n",
      "12  chromedriver                        0x0000000104912720 chromedriver + 4171552\n",
      "13  chromedriver                        0x0000000104912878 chromedriver + 4171896\n",
      "14  chromedriver                        0x0000000104926014 chromedriver + 4251668\n",
      "15  libsystem_pthread.dylib             0x00000001a3d2606c _pthread_start + 148\n",
      "16  libsystem_pthread.dylib             0x00000001a3d20e2c thread_start + 8\n",
      "\n"
     ]
    },
    {
     "name": "stderr",
     "output_type": "stream",
     "text": [
      "  1%|          | 351/30819 [32:34<44:32:09,  5.26s/it]"
     ]
    },
    {
     "name": "stdout",
     "output_type": "stream",
     "text": [
      "Message: no such element: Unable to locate element: {\"method\":\"css selector\",\"selector\":\".prose\"}\n",
      "  (Session info: chrome=112.0.5615.137)\n",
      "Stacktrace:\n",
      "0   chromedriver                        0x000000010491ed3c chromedriver + 4222268\n",
      "1   chromedriver                        0x00000001048a58e8 chromedriver + 3725544\n",
      "2   chromedriver                        0x000000010455bda4 chromedriver + 277924\n",
      "3   chromedriver                        0x00000001045971b8 chromedriver + 520632\n",
      "4   chromedriver                        0x00000001045cf618 chromedriver + 751128\n",
      "5   chromedriver                        0x00000001045898f0 chromedriver + 465136\n",
      "6   chromedriver                        0x000000010458a974 chromedriver + 469364\n",
      "7   chromedriver                        0x00000001048ef788 chromedriver + 4028296\n",
      "8   chromedriver                        0x00000001048f3c1c chromedriver + 4045852\n",
      "9   chromedriver                        0x00000001048f9c98 chromedriver + 4070552\n",
      "10  chromedriver                        0x00000001048f48d8 chromedriver + 4049112\n",
      "11  chromedriver                        0x00000001048cbd84 chromedriver + 3882372\n",
      "12  chromedriver                        0x0000000104912720 chromedriver + 4171552\n",
      "13  chromedriver                        0x0000000104912878 chromedriver + 4171896\n",
      "14  chromedriver                        0x0000000104926014 chromedriver + 4251668\n",
      "15  libsystem_pthread.dylib             0x00000001a3d2606c _pthread_start + 148\n",
      "16  libsystem_pthread.dylib             0x00000001a3d20e2c thread_start + 8\n",
      "\n"
     ]
    },
    {
     "name": "stderr",
     "output_type": "stream",
     "text": [
      "  1%|          | 360/30819 [33:22<43:42:56,  5.17s/it]"
     ]
    },
    {
     "name": "stdout",
     "output_type": "stream",
     "text": [
      "Message: no such element: Unable to locate element: {\"method\":\"css selector\",\"selector\":\".prose\"}\n",
      "  (Session info: chrome=112.0.5615.137)\n",
      "Stacktrace:\n",
      "0   chromedriver                        0x000000010491ed3c chromedriver + 4222268\n",
      "1   chromedriver                        0x00000001048a58e8 chromedriver + 3725544\n",
      "2   chromedriver                        0x000000010455bda4 chromedriver + 277924\n",
      "3   chromedriver                        0x00000001045971b8 chromedriver + 520632\n",
      "4   chromedriver                        0x00000001045cf618 chromedriver + 751128\n",
      "5   chromedriver                        0x00000001045898f0 chromedriver + 465136\n",
      "6   chromedriver                        0x000000010458a974 chromedriver + 469364\n",
      "7   chromedriver                        0x00000001048ef788 chromedriver + 4028296\n",
      "8   chromedriver                        0x00000001048f3c1c chromedriver + 4045852\n",
      "9   chromedriver                        0x00000001048f9c98 chromedriver + 4070552\n",
      "10  chromedriver                        0x00000001048f48d8 chromedriver + 4049112\n",
      "11  chromedriver                        0x00000001048cbd84 chromedriver + 3882372\n",
      "12  chromedriver                        0x0000000104912720 chromedriver + 4171552\n",
      "13  chromedriver                        0x0000000104912878 chromedriver + 4171896\n",
      "14  chromedriver                        0x0000000104926014 chromedriver + 4251668\n",
      "15  libsystem_pthread.dylib             0x00000001a3d2606c _pthread_start + 148\n",
      "16  libsystem_pthread.dylib             0x00000001a3d20e2c thread_start + 8\n",
      "\n"
     ]
    },
    {
     "name": "stderr",
     "output_type": "stream",
     "text": [
      "  1%|          | 361/30819 [33:26<41:20:30,  4.89s/it]"
     ]
    },
    {
     "name": "stdout",
     "output_type": "stream",
     "text": [
      "Message: no such element: Unable to locate element: {\"method\":\"css selector\",\"selector\":\".prose\"}\n",
      "  (Session info: chrome=112.0.5615.137)\n",
      "Stacktrace:\n",
      "0   chromedriver                        0x000000010491ed3c chromedriver + 4222268\n",
      "1   chromedriver                        0x00000001048a58e8 chromedriver + 3725544\n",
      "2   chromedriver                        0x000000010455bda4 chromedriver + 277924\n",
      "3   chromedriver                        0x00000001045971b8 chromedriver + 520632\n",
      "4   chromedriver                        0x00000001045cf618 chromedriver + 751128\n",
      "5   chromedriver                        0x00000001045898f0 chromedriver + 465136\n",
      "6   chromedriver                        0x000000010458a974 chromedriver + 469364\n",
      "7   chromedriver                        0x00000001048ef788 chromedriver + 4028296\n",
      "8   chromedriver                        0x00000001048f3c1c chromedriver + 4045852\n",
      "9   chromedriver                        0x00000001048f9c98 chromedriver + 4070552\n",
      "10  chromedriver                        0x00000001048f48d8 chromedriver + 4049112\n",
      "11  chromedriver                        0x00000001048cbd84 chromedriver + 3882372\n",
      "12  chromedriver                        0x0000000104912720 chromedriver + 4171552\n",
      "13  chromedriver                        0x0000000104912878 chromedriver + 4171896\n",
      "14  chromedriver                        0x0000000104926014 chromedriver + 4251668\n",
      "15  libsystem_pthread.dylib             0x00000001a3d2606c _pthread_start + 148\n",
      "16  libsystem_pthread.dylib             0x00000001a3d20e2c thread_start + 8\n",
      "\n"
     ]
    },
    {
     "name": "stderr",
     "output_type": "stream",
     "text": [
      "  1%|          | 362/30819 [33:31<39:43:04,  4.69s/it]"
     ]
    },
    {
     "name": "stdout",
     "output_type": "stream",
     "text": [
      "Message: no such element: Unable to locate element: {\"method\":\"css selector\",\"selector\":\".prose\"}\n",
      "  (Session info: chrome=112.0.5615.137)\n",
      "Stacktrace:\n",
      "0   chromedriver                        0x000000010491ed3c chromedriver + 4222268\n",
      "1   chromedriver                        0x00000001048a58e8 chromedriver + 3725544\n",
      "2   chromedriver                        0x000000010455bda4 chromedriver + 277924\n",
      "3   chromedriver                        0x00000001045971b8 chromedriver + 520632\n",
      "4   chromedriver                        0x00000001045cf618 chromedriver + 751128\n",
      "5   chromedriver                        0x00000001045898f0 chromedriver + 465136\n",
      "6   chromedriver                        0x000000010458a974 chromedriver + 469364\n",
      "7   chromedriver                        0x00000001048ef788 chromedriver + 4028296\n",
      "8   chromedriver                        0x00000001048f3c1c chromedriver + 4045852\n",
      "9   chromedriver                        0x00000001048f9c98 chromedriver + 4070552\n",
      "10  chromedriver                        0x00000001048f48d8 chromedriver + 4049112\n",
      "11  chromedriver                        0x00000001048cbd84 chromedriver + 3882372\n",
      "12  chromedriver                        0x0000000104912720 chromedriver + 4171552\n",
      "13  chromedriver                        0x0000000104912878 chromedriver + 4171896\n",
      "14  chromedriver                        0x0000000104926014 chromedriver + 4251668\n",
      "15  libsystem_pthread.dylib             0x00000001a3d2606c _pthread_start + 148\n",
      "16  libsystem_pthread.dylib             0x00000001a3d20e2c thread_start + 8\n",
      "\n"
     ]
    },
    {
     "name": "stderr",
     "output_type": "stream",
     "text": [
      "  1%|          | 363/30819 [33:37<43:40:37,  5.16s/it]"
     ]
    },
    {
     "name": "stdout",
     "output_type": "stream",
     "text": [
      "Message: no such element: Unable to locate element: {\"method\":\"css selector\",\"selector\":\".prose\"}\n",
      "  (Session info: chrome=112.0.5615.137)\n",
      "Stacktrace:\n",
      "0   chromedriver                        0x000000010491ed3c chromedriver + 4222268\n",
      "1   chromedriver                        0x00000001048a58e8 chromedriver + 3725544\n",
      "2   chromedriver                        0x000000010455bda4 chromedriver + 277924\n",
      "3   chromedriver                        0x00000001045971b8 chromedriver + 520632\n",
      "4   chromedriver                        0x00000001045cf618 chromedriver + 751128\n",
      "5   chromedriver                        0x00000001045898f0 chromedriver + 465136\n",
      "6   chromedriver                        0x000000010458a974 chromedriver + 469364\n",
      "7   chromedriver                        0x00000001048ef788 chromedriver + 4028296\n",
      "8   chromedriver                        0x00000001048f3c1c chromedriver + 4045852\n",
      "9   chromedriver                        0x00000001048f9c98 chromedriver + 4070552\n",
      "10  chromedriver                        0x00000001048f48d8 chromedriver + 4049112\n",
      "11  chromedriver                        0x00000001048cbd84 chromedriver + 3882372\n",
      "12  chromedriver                        0x0000000104912720 chromedriver + 4171552\n",
      "13  chromedriver                        0x0000000104912878 chromedriver + 4171896\n",
      "14  chromedriver                        0x0000000104926014 chromedriver + 4251668\n",
      "15  libsystem_pthread.dylib             0x00000001a3d2606c _pthread_start + 148\n",
      "16  libsystem_pthread.dylib             0x00000001a3d20e2c thread_start + 8\n",
      "\n"
     ]
    },
    {
     "name": "stderr",
     "output_type": "stream",
     "text": [
      "  1%|          | 371/30819 [34:20<43:18:46,  5.12s/it]"
     ]
    },
    {
     "name": "stdout",
     "output_type": "stream",
     "text": [
      "Message: no such element: Unable to locate element: {\"method\":\"css selector\",\"selector\":\".prose\"}\n",
      "  (Session info: chrome=112.0.5615.137)\n",
      "Stacktrace:\n",
      "0   chromedriver                        0x000000010491ed3c chromedriver + 4222268\n",
      "1   chromedriver                        0x00000001048a58e8 chromedriver + 3725544\n",
      "2   chromedriver                        0x000000010455bda4 chromedriver + 277924\n",
      "3   chromedriver                        0x00000001045971b8 chromedriver + 520632\n",
      "4   chromedriver                        0x00000001045cf618 chromedriver + 751128\n",
      "5   chromedriver                        0x00000001045898f0 chromedriver + 465136\n",
      "6   chromedriver                        0x000000010458a974 chromedriver + 469364\n",
      "7   chromedriver                        0x00000001048ef788 chromedriver + 4028296\n",
      "8   chromedriver                        0x00000001048f3c1c chromedriver + 4045852\n",
      "9   chromedriver                        0x00000001048f9c98 chromedriver + 4070552\n",
      "10  chromedriver                        0x00000001048f48d8 chromedriver + 4049112\n",
      "11  chromedriver                        0x00000001048cbd84 chromedriver + 3882372\n",
      "12  chromedriver                        0x0000000104912720 chromedriver + 4171552\n",
      "13  chromedriver                        0x0000000104912878 chromedriver + 4171896\n",
      "14  chromedriver                        0x0000000104926014 chromedriver + 4251668\n",
      "15  libsystem_pthread.dylib             0x00000001a3d2606c _pthread_start + 148\n",
      "16  libsystem_pthread.dylib             0x00000001a3d20e2c thread_start + 8\n",
      "\n"
     ]
    },
    {
     "name": "stderr",
     "output_type": "stream",
     "text": [
      "  1%|          | 372/30819 [34:25<43:37:44,  5.16s/it]"
     ]
    },
    {
     "name": "stdout",
     "output_type": "stream",
     "text": [
      "Message: no such element: Unable to locate element: {\"method\":\"css selector\",\"selector\":\".prose\"}\n",
      "  (Session info: chrome=112.0.5615.137)\n",
      "Stacktrace:\n",
      "0   chromedriver                        0x000000010491ed3c chromedriver + 4222268\n",
      "1   chromedriver                        0x00000001048a58e8 chromedriver + 3725544\n",
      "2   chromedriver                        0x000000010455bda4 chromedriver + 277924\n",
      "3   chromedriver                        0x00000001045971b8 chromedriver + 520632\n",
      "4   chromedriver                        0x00000001045cf618 chromedriver + 751128\n",
      "5   chromedriver                        0x00000001045898f0 chromedriver + 465136\n",
      "6   chromedriver                        0x000000010458a974 chromedriver + 469364\n",
      "7   chromedriver                        0x00000001048ef788 chromedriver + 4028296\n",
      "8   chromedriver                        0x00000001048f3c1c chromedriver + 4045852\n",
      "9   chromedriver                        0x00000001048f9c98 chromedriver + 4070552\n",
      "10  chromedriver                        0x00000001048f48d8 chromedriver + 4049112\n",
      "11  chromedriver                        0x00000001048cbd84 chromedriver + 3882372\n",
      "12  chromedriver                        0x0000000104912720 chromedriver + 4171552\n",
      "13  chromedriver                        0x0000000104912878 chromedriver + 4171896\n",
      "14  chromedriver                        0x0000000104926014 chromedriver + 4251668\n",
      "15  libsystem_pthread.dylib             0x00000001a3d2606c _pthread_start + 148\n",
      "16  libsystem_pthread.dylib             0x00000001a3d20e2c thread_start + 8\n",
      "\n"
     ]
    },
    {
     "name": "stderr",
     "output_type": "stream",
     "text": [
      "  1%|          | 373/30819 [34:32<46:20:58,  5.48s/it]"
     ]
    },
    {
     "name": "stdout",
     "output_type": "stream",
     "text": [
      "Message: no such element: Unable to locate element: {\"method\":\"css selector\",\"selector\":\".prose\"}\n",
      "  (Session info: chrome=112.0.5615.137)\n",
      "Stacktrace:\n",
      "0   chromedriver                        0x000000010491ed3c chromedriver + 4222268\n",
      "1   chromedriver                        0x00000001048a58e8 chromedriver + 3725544\n",
      "2   chromedriver                        0x000000010455bda4 chromedriver + 277924\n",
      "3   chromedriver                        0x00000001045971b8 chromedriver + 520632\n",
      "4   chromedriver                        0x00000001045cf618 chromedriver + 751128\n",
      "5   chromedriver                        0x00000001045898f0 chromedriver + 465136\n",
      "6   chromedriver                        0x000000010458a974 chromedriver + 469364\n",
      "7   chromedriver                        0x00000001048ef788 chromedriver + 4028296\n",
      "8   chromedriver                        0x00000001048f3c1c chromedriver + 4045852\n",
      "9   chromedriver                        0x00000001048f9c98 chromedriver + 4070552\n",
      "10  chromedriver                        0x00000001048f48d8 chromedriver + 4049112\n",
      "11  chromedriver                        0x00000001048cbd84 chromedriver + 3882372\n",
      "12  chromedriver                        0x0000000104912720 chromedriver + 4171552\n",
      "13  chromedriver                        0x0000000104912878 chromedriver + 4171896\n",
      "14  chromedriver                        0x0000000104926014 chromedriver + 4251668\n",
      "15  libsystem_pthread.dylib             0x00000001a3d2606c _pthread_start + 148\n",
      "16  libsystem_pthread.dylib             0x00000001a3d20e2c thread_start + 8\n",
      "\n"
     ]
    },
    {
     "name": "stderr",
     "output_type": "stream",
     "text": [
      "  1%|          | 380/30819 [35:12<49:44:42,  5.88s/it]"
     ]
    },
    {
     "name": "stdout",
     "output_type": "stream",
     "text": [
      "Message: no such element: Unable to locate element: {\"method\":\"css selector\",\"selector\":\".prose\"}\n",
      "  (Session info: chrome=112.0.5615.137)\n",
      "Stacktrace:\n",
      "0   chromedriver                        0x000000010491ed3c chromedriver + 4222268\n",
      "1   chromedriver                        0x00000001048a58e8 chromedriver + 3725544\n",
      "2   chromedriver                        0x000000010455bda4 chromedriver + 277924\n",
      "3   chromedriver                        0x00000001045971b8 chromedriver + 520632\n",
      "4   chromedriver                        0x00000001045cf618 chromedriver + 751128\n",
      "5   chromedriver                        0x00000001045898f0 chromedriver + 465136\n",
      "6   chromedriver                        0x000000010458a974 chromedriver + 469364\n",
      "7   chromedriver                        0x00000001048ef788 chromedriver + 4028296\n",
      "8   chromedriver                        0x00000001048f3c1c chromedriver + 4045852\n",
      "9   chromedriver                        0x00000001048f9c98 chromedriver + 4070552\n",
      "10  chromedriver                        0x00000001048f48d8 chromedriver + 4049112\n",
      "11  chromedriver                        0x00000001048cbd84 chromedriver + 3882372\n",
      "12  chromedriver                        0x0000000104912720 chromedriver + 4171552\n",
      "13  chromedriver                        0x0000000104912878 chromedriver + 4171896\n",
      "14  chromedriver                        0x0000000104926014 chromedriver + 4251668\n",
      "15  libsystem_pthread.dylib             0x00000001a3d2606c _pthread_start + 148\n",
      "16  libsystem_pthread.dylib             0x00000001a3d20e2c thread_start + 8\n",
      "\n"
     ]
    },
    {
     "name": "stderr",
     "output_type": "stream",
     "text": [
      "  1%|          | 381/30819 [35:19<50:47:29,  6.01s/it]"
     ]
    },
    {
     "name": "stdout",
     "output_type": "stream",
     "text": [
      "Message: no such element: Unable to locate element: {\"method\":\"css selector\",\"selector\":\".prose\"}\n",
      "  (Session info: chrome=112.0.5615.137)\n",
      "Stacktrace:\n",
      "0   chromedriver                        0x000000010491ed3c chromedriver + 4222268\n",
      "1   chromedriver                        0x00000001048a58e8 chromedriver + 3725544\n",
      "2   chromedriver                        0x000000010455bda4 chromedriver + 277924\n",
      "3   chromedriver                        0x00000001045971b8 chromedriver + 520632\n",
      "4   chromedriver                        0x00000001045cf618 chromedriver + 751128\n",
      "5   chromedriver                        0x00000001045898f0 chromedriver + 465136\n",
      "6   chromedriver                        0x000000010458a974 chromedriver + 469364\n",
      "7   chromedriver                        0x00000001048ef788 chromedriver + 4028296\n",
      "8   chromedriver                        0x00000001048f3c1c chromedriver + 4045852\n",
      "9   chromedriver                        0x00000001048f9c98 chromedriver + 4070552\n",
      "10  chromedriver                        0x00000001048f48d8 chromedriver + 4049112\n",
      "11  chromedriver                        0x00000001048cbd84 chromedriver + 3882372\n",
      "12  chromedriver                        0x0000000104912720 chromedriver + 4171552\n",
      "13  chromedriver                        0x0000000104912878 chromedriver + 4171896\n",
      "14  chromedriver                        0x0000000104926014 chromedriver + 4251668\n",
      "15  libsystem_pthread.dylib             0x00000001a3d2606c _pthread_start + 148\n",
      "16  libsystem_pthread.dylib             0x00000001a3d20e2c thread_start + 8\n",
      "\n"
     ]
    },
    {
     "name": "stderr",
     "output_type": "stream",
     "text": [
      "  1%|          | 382/30819 [35:23<46:19:44,  5.48s/it]"
     ]
    },
    {
     "name": "stdout",
     "output_type": "stream",
     "text": [
      "Message: no such element: Unable to locate element: {\"method\":\"css selector\",\"selector\":\".prose\"}\n",
      "  (Session info: chrome=112.0.5615.137)\n",
      "Stacktrace:\n",
      "0   chromedriver                        0x000000010491ed3c chromedriver + 4222268\n",
      "1   chromedriver                        0x00000001048a58e8 chromedriver + 3725544\n",
      "2   chromedriver                        0x000000010455bda4 chromedriver + 277924\n",
      "3   chromedriver                        0x00000001045971b8 chromedriver + 520632\n",
      "4   chromedriver                        0x00000001045cf618 chromedriver + 751128\n",
      "5   chromedriver                        0x00000001045898f0 chromedriver + 465136\n",
      "6   chromedriver                        0x000000010458a974 chromedriver + 469364\n",
      "7   chromedriver                        0x00000001048ef788 chromedriver + 4028296\n",
      "8   chromedriver                        0x00000001048f3c1c chromedriver + 4045852\n",
      "9   chromedriver                        0x00000001048f9c98 chromedriver + 4070552\n",
      "10  chromedriver                        0x00000001048f48d8 chromedriver + 4049112\n",
      "11  chromedriver                        0x00000001048cbd84 chromedriver + 3882372\n",
      "12  chromedriver                        0x0000000104912720 chromedriver + 4171552\n",
      "13  chromedriver                        0x0000000104912878 chromedriver + 4171896\n",
      "14  chromedriver                        0x0000000104926014 chromedriver + 4251668\n",
      "15  libsystem_pthread.dylib             0x00000001a3d2606c _pthread_start + 148\n",
      "16  libsystem_pthread.dylib             0x00000001a3d20e2c thread_start + 8\n",
      "\n"
     ]
    },
    {
     "name": "stderr",
     "output_type": "stream",
     "text": [
      "  1%|          | 383/30819 [35:27<43:14:23,  5.11s/it]"
     ]
    },
    {
     "name": "stdout",
     "output_type": "stream",
     "text": [
      "Message: no such element: Unable to locate element: {\"method\":\"css selector\",\"selector\":\".prose\"}\n",
      "  (Session info: chrome=112.0.5615.137)\n",
      "Stacktrace:\n",
      "0   chromedriver                        0x000000010491ed3c chromedriver + 4222268\n",
      "1   chromedriver                        0x00000001048a58e8 chromedriver + 3725544\n",
      "2   chromedriver                        0x000000010455bda4 chromedriver + 277924\n",
      "3   chromedriver                        0x00000001045971b8 chromedriver + 520632\n",
      "4   chromedriver                        0x00000001045cf618 chromedriver + 751128\n",
      "5   chromedriver                        0x00000001045898f0 chromedriver + 465136\n",
      "6   chromedriver                        0x000000010458a974 chromedriver + 469364\n",
      "7   chromedriver                        0x00000001048ef788 chromedriver + 4028296\n",
      "8   chromedriver                        0x00000001048f3c1c chromedriver + 4045852\n",
      "9   chromedriver                        0x00000001048f9c98 chromedriver + 4070552\n",
      "10  chromedriver                        0x00000001048f48d8 chromedriver + 4049112\n",
      "11  chromedriver                        0x00000001048cbd84 chromedriver + 3882372\n",
      "12  chromedriver                        0x0000000104912720 chromedriver + 4171552\n",
      "13  chromedriver                        0x0000000104912878 chromedriver + 4171896\n",
      "14  chromedriver                        0x0000000104926014 chromedriver + 4251668\n",
      "15  libsystem_pthread.dylib             0x00000001a3d2606c _pthread_start + 148\n",
      "16  libsystem_pthread.dylib             0x00000001a3d20e2c thread_start + 8\n",
      "\n"
     ]
    },
    {
     "name": "stderr",
     "output_type": "stream",
     "text": [
      "  1%|          | 384/30819 [35:33<46:07:36,  5.46s/it]"
     ]
    },
    {
     "name": "stdout",
     "output_type": "stream",
     "text": [
      "Message: no such element: Unable to locate element: {\"method\":\"css selector\",\"selector\":\".prose\"}\n",
      "  (Session info: chrome=112.0.5615.137)\n",
      "Stacktrace:\n",
      "0   chromedriver                        0x000000010491ed3c chromedriver + 4222268\n",
      "1   chromedriver                        0x00000001048a58e8 chromedriver + 3725544\n",
      "2   chromedriver                        0x000000010455bda4 chromedriver + 277924\n",
      "3   chromedriver                        0x00000001045971b8 chromedriver + 520632\n",
      "4   chromedriver                        0x00000001045cf618 chromedriver + 751128\n",
      "5   chromedriver                        0x00000001045898f0 chromedriver + 465136\n",
      "6   chromedriver                        0x000000010458a974 chromedriver + 469364\n",
      "7   chromedriver                        0x00000001048ef788 chromedriver + 4028296\n",
      "8   chromedriver                        0x00000001048f3c1c chromedriver + 4045852\n",
      "9   chromedriver                        0x00000001048f9c98 chromedriver + 4070552\n",
      "10  chromedriver                        0x00000001048f48d8 chromedriver + 4049112\n",
      "11  chromedriver                        0x00000001048cbd84 chromedriver + 3882372\n",
      "12  chromedriver                        0x0000000104912720 chromedriver + 4171552\n",
      "13  chromedriver                        0x0000000104912878 chromedriver + 4171896\n",
      "14  chromedriver                        0x0000000104926014 chromedriver + 4251668\n",
      "15  libsystem_pthread.dylib             0x00000001a3d2606c _pthread_start + 148\n",
      "16  libsystem_pthread.dylib             0x00000001a3d20e2c thread_start + 8\n",
      "\n"
     ]
    },
    {
     "name": "stderr",
     "output_type": "stream",
     "text": [
      "  1%|▏         | 390/30819 [36:08<47:58:22,  5.68s/it]"
     ]
    },
    {
     "name": "stdout",
     "output_type": "stream",
     "text": [
      "Message: no such element: Unable to locate element: {\"method\":\"css selector\",\"selector\":\".prose\"}\n",
      "  (Session info: chrome=112.0.5615.137)\n",
      "Stacktrace:\n",
      "0   chromedriver                        0x000000010491ed3c chromedriver + 4222268\n",
      "1   chromedriver                        0x00000001048a58e8 chromedriver + 3725544\n",
      "2   chromedriver                        0x000000010455bda4 chromedriver + 277924\n",
      "3   chromedriver                        0x00000001045971b8 chromedriver + 520632\n",
      "4   chromedriver                        0x00000001045cf618 chromedriver + 751128\n",
      "5   chromedriver                        0x00000001045898f0 chromedriver + 465136\n",
      "6   chromedriver                        0x000000010458a974 chromedriver + 469364\n",
      "7   chromedriver                        0x00000001048ef788 chromedriver + 4028296\n",
      "8   chromedriver                        0x00000001048f3c1c chromedriver + 4045852\n",
      "9   chromedriver                        0x00000001048f9c98 chromedriver + 4070552\n",
      "10  chromedriver                        0x00000001048f48d8 chromedriver + 4049112\n",
      "11  chromedriver                        0x00000001048cbd84 chromedriver + 3882372\n",
      "12  chromedriver                        0x0000000104912720 chromedriver + 4171552\n",
      "13  chromedriver                        0x0000000104912878 chromedriver + 4171896\n",
      "14  chromedriver                        0x0000000104926014 chromedriver + 4251668\n",
      "15  libsystem_pthread.dylib             0x00000001a3d2606c _pthread_start + 148\n",
      "16  libsystem_pthread.dylib             0x00000001a3d20e2c thread_start + 8\n",
      "\n"
     ]
    },
    {
     "name": "stderr",
     "output_type": "stream",
     "text": [
      "  1%|▏         | 391/30819 [36:14<49:25:09,  5.85s/it]"
     ]
    },
    {
     "name": "stdout",
     "output_type": "stream",
     "text": [
      "Message: no such element: Unable to locate element: {\"method\":\"css selector\",\"selector\":\".prose\"}\n",
      "  (Session info: chrome=112.0.5615.137)\n",
      "Stacktrace:\n",
      "0   chromedriver                        0x000000010491ed3c chromedriver + 4222268\n",
      "1   chromedriver                        0x00000001048a58e8 chromedriver + 3725544\n",
      "2   chromedriver                        0x000000010455bda4 chromedriver + 277924\n",
      "3   chromedriver                        0x00000001045971b8 chromedriver + 520632\n",
      "4   chromedriver                        0x00000001045cf618 chromedriver + 751128\n",
      "5   chromedriver                        0x00000001045898f0 chromedriver + 465136\n",
      "6   chromedriver                        0x000000010458a974 chromedriver + 469364\n",
      "7   chromedriver                        0x00000001048ef788 chromedriver + 4028296\n",
      "8   chromedriver                        0x00000001048f3c1c chromedriver + 4045852\n",
      "9   chromedriver                        0x00000001048f9c98 chromedriver + 4070552\n",
      "10  chromedriver                        0x00000001048f48d8 chromedriver + 4049112\n",
      "11  chromedriver                        0x00000001048cbd84 chromedriver + 3882372\n",
      "12  chromedriver                        0x0000000104912720 chromedriver + 4171552\n",
      "13  chromedriver                        0x0000000104912878 chromedriver + 4171896\n",
      "14  chromedriver                        0x0000000104926014 chromedriver + 4251668\n",
      "15  libsystem_pthread.dylib             0x00000001a3d2606c _pthread_start + 148\n",
      "16  libsystem_pthread.dylib             0x00000001a3d20e2c thread_start + 8\n",
      "\n"
     ]
    },
    {
     "name": "stderr",
     "output_type": "stream",
     "text": [
      "  1%|▏         | 392/30819 [36:20<50:28:03,  5.97s/it]"
     ]
    },
    {
     "name": "stdout",
     "output_type": "stream",
     "text": [
      "Message: no such element: Unable to locate element: {\"method\":\"css selector\",\"selector\":\".prose\"}\n",
      "  (Session info: chrome=112.0.5615.137)\n",
      "Stacktrace:\n",
      "0   chromedriver                        0x000000010491ed3c chromedriver + 4222268\n",
      "1   chromedriver                        0x00000001048a58e8 chromedriver + 3725544\n",
      "2   chromedriver                        0x000000010455bda4 chromedriver + 277924\n",
      "3   chromedriver                        0x00000001045971b8 chromedriver + 520632\n",
      "4   chromedriver                        0x00000001045cf618 chromedriver + 751128\n",
      "5   chromedriver                        0x00000001045898f0 chromedriver + 465136\n",
      "6   chromedriver                        0x000000010458a974 chromedriver + 469364\n",
      "7   chromedriver                        0x00000001048ef788 chromedriver + 4028296\n",
      "8   chromedriver                        0x00000001048f3c1c chromedriver + 4045852\n",
      "9   chromedriver                        0x00000001048f9c98 chromedriver + 4070552\n",
      "10  chromedriver                        0x00000001048f48d8 chromedriver + 4049112\n",
      "11  chromedriver                        0x00000001048cbd84 chromedriver + 3882372\n",
      "12  chromedriver                        0x0000000104912720 chromedriver + 4171552\n",
      "13  chromedriver                        0x0000000104912878 chromedriver + 4171896\n",
      "14  chromedriver                        0x0000000104926014 chromedriver + 4251668\n",
      "15  libsystem_pthread.dylib             0x00000001a3d2606c _pthread_start + 148\n",
      "16  libsystem_pthread.dylib             0x00000001a3d20e2c thread_start + 8\n",
      "\n"
     ]
    },
    {
     "name": "stderr",
     "output_type": "stream",
     "text": [
      "  1%|▏         | 393/30819 [36:24<46:05:24,  5.45s/it]"
     ]
    },
    {
     "name": "stdout",
     "output_type": "stream",
     "text": [
      "Message: no such element: Unable to locate element: {\"method\":\"css selector\",\"selector\":\".prose\"}\n",
      "  (Session info: chrome=112.0.5615.137)\n",
      "Stacktrace:\n",
      "0   chromedriver                        0x000000010491ed3c chromedriver + 4222268\n",
      "1   chromedriver                        0x00000001048a58e8 chromedriver + 3725544\n",
      "2   chromedriver                        0x000000010455bda4 chromedriver + 277924\n",
      "3   chromedriver                        0x00000001045971b8 chromedriver + 520632\n",
      "4   chromedriver                        0x00000001045cf618 chromedriver + 751128\n",
      "5   chromedriver                        0x00000001045898f0 chromedriver + 465136\n",
      "6   chromedriver                        0x000000010458a974 chromedriver + 469364\n",
      "7   chromedriver                        0x00000001048ef788 chromedriver + 4028296\n",
      "8   chromedriver                        0x00000001048f3c1c chromedriver + 4045852\n",
      "9   chromedriver                        0x00000001048f9c98 chromedriver + 4070552\n",
      "10  chromedriver                        0x00000001048f48d8 chromedriver + 4049112\n",
      "11  chromedriver                        0x00000001048cbd84 chromedriver + 3882372\n",
      "12  chromedriver                        0x0000000104912720 chromedriver + 4171552\n",
      "13  chromedriver                        0x0000000104912878 chromedriver + 4171896\n",
      "14  chromedriver                        0x0000000104926014 chromedriver + 4251668\n",
      "15  libsystem_pthread.dylib             0x00000001a3d2606c _pthread_start + 148\n",
      "16  libsystem_pthread.dylib             0x00000001a3d20e2c thread_start + 8\n",
      "\n"
     ]
    },
    {
     "name": "stderr",
     "output_type": "stream",
     "text": [
      "  1%|▏         | 394/30819 [36:30<45:34:23,  5.39s/it]"
     ]
    },
    {
     "name": "stdout",
     "output_type": "stream",
     "text": [
      "Message: no such element: Unable to locate element: {\"method\":\"css selector\",\"selector\":\".prose\"}\n",
      "  (Session info: chrome=112.0.5615.137)\n",
      "Stacktrace:\n",
      "0   chromedriver                        0x000000010491ed3c chromedriver + 4222268\n",
      "1   chromedriver                        0x00000001048a58e8 chromedriver + 3725544\n",
      "2   chromedriver                        0x000000010455bda4 chromedriver + 277924\n",
      "3   chromedriver                        0x00000001045971b8 chromedriver + 520632\n",
      "4   chromedriver                        0x00000001045cf618 chromedriver + 751128\n",
      "5   chromedriver                        0x00000001045898f0 chromedriver + 465136\n",
      "6   chromedriver                        0x000000010458a974 chromedriver + 469364\n",
      "7   chromedriver                        0x00000001048ef788 chromedriver + 4028296\n",
      "8   chromedriver                        0x00000001048f3c1c chromedriver + 4045852\n",
      "9   chromedriver                        0x00000001048f9c98 chromedriver + 4070552\n",
      "10  chromedriver                        0x00000001048f48d8 chromedriver + 4049112\n",
      "11  chromedriver                        0x00000001048cbd84 chromedriver + 3882372\n",
      "12  chromedriver                        0x0000000104912720 chromedriver + 4171552\n",
      "13  chromedriver                        0x0000000104912878 chromedriver + 4171896\n",
      "14  chromedriver                        0x0000000104926014 chromedriver + 4251668\n",
      "15  libsystem_pthread.dylib             0x00000001a3d2606c _pthread_start + 148\n",
      "16  libsystem_pthread.dylib             0x00000001a3d20e2c thread_start + 8\n",
      "\n"
     ]
    },
    {
     "name": "stderr",
     "output_type": "stream",
     "text": [
      "  1%|▏         | 395/30819 [36:34<42:42:26,  5.05s/it]"
     ]
    },
    {
     "name": "stdout",
     "output_type": "stream",
     "text": [
      "Message: no such element: Unable to locate element: {\"method\":\"css selector\",\"selector\":\".prose\"}\n",
      "  (Session info: chrome=112.0.5615.137)\n",
      "Stacktrace:\n",
      "0   chromedriver                        0x000000010491ed3c chromedriver + 4222268\n",
      "1   chromedriver                        0x00000001048a58e8 chromedriver + 3725544\n",
      "2   chromedriver                        0x000000010455bda4 chromedriver + 277924\n",
      "3   chromedriver                        0x00000001045971b8 chromedriver + 520632\n",
      "4   chromedriver                        0x00000001045cf618 chromedriver + 751128\n",
      "5   chromedriver                        0x00000001045898f0 chromedriver + 465136\n",
      "6   chromedriver                        0x000000010458a974 chromedriver + 469364\n",
      "7   chromedriver                        0x00000001048ef788 chromedriver + 4028296\n",
      "8   chromedriver                        0x00000001048f3c1c chromedriver + 4045852\n",
      "9   chromedriver                        0x00000001048f9c98 chromedriver + 4070552\n",
      "10  chromedriver                        0x00000001048f48d8 chromedriver + 4049112\n",
      "11  chromedriver                        0x00000001048cbd84 chromedriver + 3882372\n",
      "12  chromedriver                        0x0000000104912720 chromedriver + 4171552\n",
      "13  chromedriver                        0x0000000104912878 chromedriver + 4171896\n",
      "14  chromedriver                        0x0000000104926014 chromedriver + 4251668\n",
      "15  libsystem_pthread.dylib             0x00000001a3d2606c _pthread_start + 148\n",
      "16  libsystem_pthread.dylib             0x00000001a3d20e2c thread_start + 8\n",
      "\n"
     ]
    },
    {
     "name": "stderr",
     "output_type": "stream",
     "text": [
      "  1%|▏         | 400/30819 [37:01<43:25:56,  5.14s/it]"
     ]
    },
    {
     "name": "stdout",
     "output_type": "stream",
     "text": [
      "Message: no such element: Unable to locate element: {\"method\":\"css selector\",\"selector\":\".prose\"}\n",
      "  (Session info: chrome=112.0.5615.137)\n",
      "Stacktrace:\n",
      "0   chromedriver                        0x000000010491ed3c chromedriver + 4222268\n",
      "1   chromedriver                        0x00000001048a58e8 chromedriver + 3725544\n",
      "2   chromedriver                        0x000000010455bda4 chromedriver + 277924\n",
      "3   chromedriver                        0x00000001045971b8 chromedriver + 520632\n",
      "4   chromedriver                        0x00000001045cf618 chromedriver + 751128\n",
      "5   chromedriver                        0x00000001045898f0 chromedriver + 465136\n",
      "6   chromedriver                        0x000000010458a974 chromedriver + 469364\n",
      "7   chromedriver                        0x00000001048ef788 chromedriver + 4028296\n",
      "8   chromedriver                        0x00000001048f3c1c chromedriver + 4045852\n",
      "9   chromedriver                        0x00000001048f9c98 chromedriver + 4070552\n",
      "10  chromedriver                        0x00000001048f48d8 chromedriver + 4049112\n",
      "11  chromedriver                        0x00000001048cbd84 chromedriver + 3882372\n",
      "12  chromedriver                        0x0000000104912720 chromedriver + 4171552\n",
      "13  chromedriver                        0x0000000104912878 chromedriver + 4171896\n",
      "14  chromedriver                        0x0000000104926014 chromedriver + 4251668\n",
      "15  libsystem_pthread.dylib             0x00000001a3d2606c _pthread_start + 148\n",
      "16  libsystem_pthread.dylib             0x00000001a3d20e2c thread_start + 8\n",
      "\n"
     ]
    },
    {
     "name": "stderr",
     "output_type": "stream",
     "text": [
      "  1%|▏         | 401/30819 [37:05<41:10:34,  4.87s/it]"
     ]
    },
    {
     "name": "stdout",
     "output_type": "stream",
     "text": [
      "Message: no such element: Unable to locate element: {\"method\":\"css selector\",\"selector\":\".prose\"}\n",
      "  (Session info: chrome=112.0.5615.137)\n",
      "Stacktrace:\n",
      "0   chromedriver                        0x000000010491ed3c chromedriver + 4222268\n",
      "1   chromedriver                        0x00000001048a58e8 chromedriver + 3725544\n",
      "2   chromedriver                        0x000000010455bda4 chromedriver + 277924\n",
      "3   chromedriver                        0x00000001045971b8 chromedriver + 520632\n",
      "4   chromedriver                        0x00000001045cf618 chromedriver + 751128\n",
      "5   chromedriver                        0x00000001045898f0 chromedriver + 465136\n",
      "6   chromedriver                        0x000000010458a974 chromedriver + 469364\n",
      "7   chromedriver                        0x00000001048ef788 chromedriver + 4028296\n",
      "8   chromedriver                        0x00000001048f3c1c chromedriver + 4045852\n",
      "9   chromedriver                        0x00000001048f9c98 chromedriver + 4070552\n",
      "10  chromedriver                        0x00000001048f48d8 chromedriver + 4049112\n",
      "11  chromedriver                        0x00000001048cbd84 chromedriver + 3882372\n",
      "12  chromedriver                        0x0000000104912720 chromedriver + 4171552\n",
      "13  chromedriver                        0x0000000104912878 chromedriver + 4171896\n",
      "14  chromedriver                        0x0000000104926014 chromedriver + 4251668\n",
      "15  libsystem_pthread.dylib             0x00000001a3d2606c _pthread_start + 148\n",
      "16  libsystem_pthread.dylib             0x00000001a3d20e2c thread_start + 8\n",
      "\n"
     ]
    },
    {
     "name": "stderr",
     "output_type": "stream",
     "text": [
      "  1%|▏         | 402/30819 [37:09<39:34:49,  4.68s/it]"
     ]
    },
    {
     "name": "stdout",
     "output_type": "stream",
     "text": [
      "Message: no such element: Unable to locate element: {\"method\":\"css selector\",\"selector\":\".prose\"}\n",
      "  (Session info: chrome=112.0.5615.137)\n",
      "Stacktrace:\n",
      "0   chromedriver                        0x000000010491ed3c chromedriver + 4222268\n",
      "1   chromedriver                        0x00000001048a58e8 chromedriver + 3725544\n",
      "2   chromedriver                        0x000000010455bda4 chromedriver + 277924\n",
      "3   chromedriver                        0x00000001045971b8 chromedriver + 520632\n",
      "4   chromedriver                        0x00000001045cf618 chromedriver + 751128\n",
      "5   chromedriver                        0x00000001045898f0 chromedriver + 465136\n",
      "6   chromedriver                        0x000000010458a974 chromedriver + 469364\n",
      "7   chromedriver                        0x00000001048ef788 chromedriver + 4028296\n",
      "8   chromedriver                        0x00000001048f3c1c chromedriver + 4045852\n",
      "9   chromedriver                        0x00000001048f9c98 chromedriver + 4070552\n",
      "10  chromedriver                        0x00000001048f48d8 chromedriver + 4049112\n",
      "11  chromedriver                        0x00000001048cbd84 chromedriver + 3882372\n",
      "12  chromedriver                        0x0000000104912720 chromedriver + 4171552\n",
      "13  chromedriver                        0x0000000104912878 chromedriver + 4171896\n",
      "14  chromedriver                        0x0000000104926014 chromedriver + 4251668\n",
      "15  libsystem_pthread.dylib             0x00000001a3d2606c _pthread_start + 148\n",
      "16  libsystem_pthread.dylib             0x00000001a3d20e2c thread_start + 8\n",
      "\n"
     ]
    },
    {
     "name": "stderr",
     "output_type": "stream",
     "text": [
      "  1%|▏         | 403/30819 [37:15<43:34:55,  5.16s/it]"
     ]
    },
    {
     "name": "stdout",
     "output_type": "stream",
     "text": [
      "Message: no such element: Unable to locate element: {\"method\":\"css selector\",\"selector\":\".prose\"}\n",
      "  (Session info: chrome=112.0.5615.137)\n",
      "Stacktrace:\n",
      "0   chromedriver                        0x000000010491ed3c chromedriver + 4222268\n",
      "1   chromedriver                        0x00000001048a58e8 chromedriver + 3725544\n",
      "2   chromedriver                        0x000000010455bda4 chromedriver + 277924\n",
      "3   chromedriver                        0x00000001045971b8 chromedriver + 520632\n",
      "4   chromedriver                        0x00000001045cf618 chromedriver + 751128\n",
      "5   chromedriver                        0x00000001045898f0 chromedriver + 465136\n",
      "6   chromedriver                        0x000000010458a974 chromedriver + 469364\n",
      "7   chromedriver                        0x00000001048ef788 chromedriver + 4028296\n",
      "8   chromedriver                        0x00000001048f3c1c chromedriver + 4045852\n",
      "9   chromedriver                        0x00000001048f9c98 chromedriver + 4070552\n",
      "10  chromedriver                        0x00000001048f48d8 chromedriver + 4049112\n",
      "11  chromedriver                        0x00000001048cbd84 chromedriver + 3882372\n",
      "12  chromedriver                        0x0000000104912720 chromedriver + 4171552\n",
      "13  chromedriver                        0x0000000104912878 chromedriver + 4171896\n",
      "14  chromedriver                        0x0000000104926014 chromedriver + 4251668\n",
      "15  libsystem_pthread.dylib             0x00000001a3d2606c _pthread_start + 148\n",
      "16  libsystem_pthread.dylib             0x00000001a3d20e2c thread_start + 8\n",
      "\n"
     ]
    },
    {
     "name": "stderr",
     "output_type": "stream",
     "text": [
      "  1%|▏         | 404/30819 [37:21<43:49:17,  5.19s/it]"
     ]
    },
    {
     "name": "stdout",
     "output_type": "stream",
     "text": [
      "Message: no such element: Unable to locate element: {\"method\":\"css selector\",\"selector\":\".prose\"}\n",
      "  (Session info: chrome=112.0.5615.137)\n",
      "Stacktrace:\n",
      "0   chromedriver                        0x000000010491ed3c chromedriver + 4222268\n",
      "1   chromedriver                        0x00000001048a58e8 chromedriver + 3725544\n",
      "2   chromedriver                        0x000000010455bda4 chromedriver + 277924\n",
      "3   chromedriver                        0x00000001045971b8 chromedriver + 520632\n",
      "4   chromedriver                        0x00000001045cf618 chromedriver + 751128\n",
      "5   chromedriver                        0x00000001045898f0 chromedriver + 465136\n",
      "6   chromedriver                        0x000000010458a974 chromedriver + 469364\n",
      "7   chromedriver                        0x00000001048ef788 chromedriver + 4028296\n",
      "8   chromedriver                        0x00000001048f3c1c chromedriver + 4045852\n",
      "9   chromedriver                        0x00000001048f9c98 chromedriver + 4070552\n",
      "10  chromedriver                        0x00000001048f48d8 chromedriver + 4049112\n",
      "11  chromedriver                        0x00000001048cbd84 chromedriver + 3882372\n",
      "12  chromedriver                        0x0000000104912720 chromedriver + 4171552\n",
      "13  chromedriver                        0x0000000104912878 chromedriver + 4171896\n",
      "14  chromedriver                        0x0000000104926014 chromedriver + 4251668\n",
      "15  libsystem_pthread.dylib             0x00000001a3d2606c _pthread_start + 148\n",
      "16  libsystem_pthread.dylib             0x00000001a3d20e2c thread_start + 8\n",
      "\n"
     ]
    },
    {
     "name": "stderr",
     "output_type": "stream",
     "text": [
      "  1%|▏         | 405/30819 [37:25<41:29:05,  4.91s/it]"
     ]
    },
    {
     "name": "stdout",
     "output_type": "stream",
     "text": [
      "Message: no such element: Unable to locate element: {\"method\":\"css selector\",\"selector\":\".prose\"}\n",
      "  (Session info: chrome=112.0.5615.137)\n",
      "Stacktrace:\n",
      "0   chromedriver                        0x000000010491ed3c chromedriver + 4222268\n",
      "1   chromedriver                        0x00000001048a58e8 chromedriver + 3725544\n",
      "2   chromedriver                        0x000000010455bda4 chromedriver + 277924\n",
      "3   chromedriver                        0x00000001045971b8 chromedriver + 520632\n",
      "4   chromedriver                        0x00000001045cf618 chromedriver + 751128\n",
      "5   chromedriver                        0x00000001045898f0 chromedriver + 465136\n",
      "6   chromedriver                        0x000000010458a974 chromedriver + 469364\n",
      "7   chromedriver                        0x00000001048ef788 chromedriver + 4028296\n",
      "8   chromedriver                        0x00000001048f3c1c chromedriver + 4045852\n",
      "9   chromedriver                        0x00000001048f9c98 chromedriver + 4070552\n",
      "10  chromedriver                        0x00000001048f48d8 chromedriver + 4049112\n",
      "11  chromedriver                        0x00000001048cbd84 chromedriver + 3882372\n",
      "12  chromedriver                        0x0000000104912720 chromedriver + 4171552\n",
      "13  chromedriver                        0x0000000104912878 chromedriver + 4171896\n",
      "14  chromedriver                        0x0000000104926014 chromedriver + 4251668\n",
      "15  libsystem_pthread.dylib             0x00000001a3d2606c _pthread_start + 148\n",
      "16  libsystem_pthread.dylib             0x00000001a3d20e2c thread_start + 8\n",
      "\n"
     ]
    },
    {
     "name": "stderr",
     "output_type": "stream",
     "text": [
      "  1%|▏         | 406/30819 [37:29<39:50:13,  4.72s/it]"
     ]
    },
    {
     "name": "stdout",
     "output_type": "stream",
     "text": [
      "Message: no such element: Unable to locate element: {\"method\":\"css selector\",\"selector\":\".prose\"}\n",
      "  (Session info: chrome=112.0.5615.137)\n",
      "Stacktrace:\n",
      "0   chromedriver                        0x000000010491ed3c chromedriver + 4222268\n",
      "1   chromedriver                        0x00000001048a58e8 chromedriver + 3725544\n",
      "2   chromedriver                        0x000000010455bda4 chromedriver + 277924\n",
      "3   chromedriver                        0x00000001045971b8 chromedriver + 520632\n",
      "4   chromedriver                        0x00000001045cf618 chromedriver + 751128\n",
      "5   chromedriver                        0x00000001045898f0 chromedriver + 465136\n",
      "6   chromedriver                        0x000000010458a974 chromedriver + 469364\n",
      "7   chromedriver                        0x00000001048ef788 chromedriver + 4028296\n",
      "8   chromedriver                        0x00000001048f3c1c chromedriver + 4045852\n",
      "9   chromedriver                        0x00000001048f9c98 chromedriver + 4070552\n",
      "10  chromedriver                        0x00000001048f48d8 chromedriver + 4049112\n",
      "11  chromedriver                        0x00000001048cbd84 chromedriver + 3882372\n",
      "12  chromedriver                        0x0000000104912720 chromedriver + 4171552\n",
      "13  chromedriver                        0x0000000104912878 chromedriver + 4171896\n",
      "14  chromedriver                        0x0000000104926014 chromedriver + 4251668\n",
      "15  libsystem_pthread.dylib             0x00000001a3d2606c _pthread_start + 148\n",
      "16  libsystem_pthread.dylib             0x00000001a3d20e2c thread_start + 8\n",
      "\n"
     ]
    },
    {
     "name": "stderr",
     "output_type": "stream",
     "text": [
      "  1%|▏         | 407/30819 [37:33<38:42:53,  4.58s/it]"
     ]
    },
    {
     "name": "stdout",
     "output_type": "stream",
     "text": [
      "Message: no such element: Unable to locate element: {\"method\":\"css selector\",\"selector\":\".prose\"}\n",
      "  (Session info: chrome=112.0.5615.137)\n",
      "Stacktrace:\n",
      "0   chromedriver                        0x000000010491ed3c chromedriver + 4222268\n",
      "1   chromedriver                        0x00000001048a58e8 chromedriver + 3725544\n",
      "2   chromedriver                        0x000000010455bda4 chromedriver + 277924\n",
      "3   chromedriver                        0x00000001045971b8 chromedriver + 520632\n",
      "4   chromedriver                        0x00000001045cf618 chromedriver + 751128\n",
      "5   chromedriver                        0x00000001045898f0 chromedriver + 465136\n",
      "6   chromedriver                        0x000000010458a974 chromedriver + 469364\n",
      "7   chromedriver                        0x00000001048ef788 chromedriver + 4028296\n",
      "8   chromedriver                        0x00000001048f3c1c chromedriver + 4045852\n",
      "9   chromedriver                        0x00000001048f9c98 chromedriver + 4070552\n",
      "10  chromedriver                        0x00000001048f48d8 chromedriver + 4049112\n",
      "11  chromedriver                        0x00000001048cbd84 chromedriver + 3882372\n",
      "12  chromedriver                        0x0000000104912720 chromedriver + 4171552\n",
      "13  chromedriver                        0x0000000104912878 chromedriver + 4171896\n",
      "14  chromedriver                        0x0000000104926014 chromedriver + 4251668\n",
      "15  libsystem_pthread.dylib             0x00000001a3d2606c _pthread_start + 148\n",
      "16  libsystem_pthread.dylib             0x00000001a3d20e2c thread_start + 8\n",
      "\n"
     ]
    },
    {
     "name": "stderr",
     "output_type": "stream",
     "text": [
      "  1%|▏         | 408/30819 [37:38<37:53:57,  4.49s/it]"
     ]
    },
    {
     "name": "stdout",
     "output_type": "stream",
     "text": [
      "Message: no such element: Unable to locate element: {\"method\":\"css selector\",\"selector\":\".prose\"}\n",
      "  (Session info: chrome=112.0.5615.137)\n",
      "Stacktrace:\n",
      "0   chromedriver                        0x000000010491ed3c chromedriver + 4222268\n",
      "1   chromedriver                        0x00000001048a58e8 chromedriver + 3725544\n",
      "2   chromedriver                        0x000000010455bda4 chromedriver + 277924\n",
      "3   chromedriver                        0x00000001045971b8 chromedriver + 520632\n",
      "4   chromedriver                        0x00000001045cf618 chromedriver + 751128\n",
      "5   chromedriver                        0x00000001045898f0 chromedriver + 465136\n",
      "6   chromedriver                        0x000000010458a974 chromedriver + 469364\n",
      "7   chromedriver                        0x00000001048ef788 chromedriver + 4028296\n",
      "8   chromedriver                        0x00000001048f3c1c chromedriver + 4045852\n",
      "9   chromedriver                        0x00000001048f9c98 chromedriver + 4070552\n",
      "10  chromedriver                        0x00000001048f48d8 chromedriver + 4049112\n",
      "11  chromedriver                        0x00000001048cbd84 chromedriver + 3882372\n",
      "12  chromedriver                        0x0000000104912720 chromedriver + 4171552\n",
      "13  chromedriver                        0x0000000104912878 chromedriver + 4171896\n",
      "14  chromedriver                        0x0000000104926014 chromedriver + 4251668\n",
      "15  libsystem_pthread.dylib             0x00000001a3d2606c _pthread_start + 148\n",
      "16  libsystem_pthread.dylib             0x00000001a3d20e2c thread_start + 8\n",
      "\n"
     ]
    },
    {
     "name": "stderr",
     "output_type": "stream",
     "text": [
      "  1%|▏         | 414/30819 [38:14<50:23:01,  5.97s/it]"
     ]
    },
    {
     "name": "stdout",
     "output_type": "stream",
     "text": [
      "Message: no such element: Unable to locate element: {\"method\":\"css selector\",\"selector\":\".prose\"}\n",
      "  (Session info: chrome=112.0.5615.137)\n",
      "Stacktrace:\n",
      "0   chromedriver                        0x000000010491ed3c chromedriver + 4222268\n",
      "1   chromedriver                        0x00000001048a58e8 chromedriver + 3725544\n",
      "2   chromedriver                        0x000000010455bda4 chromedriver + 277924\n",
      "3   chromedriver                        0x00000001045971b8 chromedriver + 520632\n",
      "4   chromedriver                        0x00000001045cf618 chromedriver + 751128\n",
      "5   chromedriver                        0x00000001045898f0 chromedriver + 465136\n",
      "6   chromedriver                        0x000000010458a974 chromedriver + 469364\n",
      "7   chromedriver                        0x00000001048ef788 chromedriver + 4028296\n",
      "8   chromedriver                        0x00000001048f3c1c chromedriver + 4045852\n",
      "9   chromedriver                        0x00000001048f9c98 chromedriver + 4070552\n",
      "10  chromedriver                        0x00000001048f48d8 chromedriver + 4049112\n",
      "11  chromedriver                        0x00000001048cbd84 chromedriver + 3882372\n",
      "12  chromedriver                        0x0000000104912720 chromedriver + 4171552\n",
      "13  chromedriver                        0x0000000104912878 chromedriver + 4171896\n",
      "14  chromedriver                        0x0000000104926014 chromedriver + 4251668\n",
      "15  libsystem_pthread.dylib             0x00000001a3d2606c _pthread_start + 148\n",
      "16  libsystem_pthread.dylib             0x00000001a3d20e2c thread_start + 8\n",
      "\n"
     ]
    },
    {
     "name": "stderr",
     "output_type": "stream",
     "text": [
      "  1%|▏         | 415/30819 [38:18<46:00:15,  5.45s/it]"
     ]
    },
    {
     "name": "stdout",
     "output_type": "stream",
     "text": [
      "Message: no such element: Unable to locate element: {\"method\":\"css selector\",\"selector\":\".prose\"}\n",
      "  (Session info: chrome=112.0.5615.137)\n",
      "Stacktrace:\n",
      "0   chromedriver                        0x000000010491ed3c chromedriver + 4222268\n",
      "1   chromedriver                        0x00000001048a58e8 chromedriver + 3725544\n",
      "2   chromedriver                        0x000000010455bda4 chromedriver + 277924\n",
      "3   chromedriver                        0x00000001045971b8 chromedriver + 520632\n",
      "4   chromedriver                        0x00000001045cf618 chromedriver + 751128\n",
      "5   chromedriver                        0x00000001045898f0 chromedriver + 465136\n",
      "6   chromedriver                        0x000000010458a974 chromedriver + 469364\n",
      "7   chromedriver                        0x00000001048ef788 chromedriver + 4028296\n",
      "8   chromedriver                        0x00000001048f3c1c chromedriver + 4045852\n",
      "9   chromedriver                        0x00000001048f9c98 chromedriver + 4070552\n",
      "10  chromedriver                        0x00000001048f48d8 chromedriver + 4049112\n",
      "11  chromedriver                        0x00000001048cbd84 chromedriver + 3882372\n",
      "12  chromedriver                        0x0000000104912720 chromedriver + 4171552\n",
      "13  chromedriver                        0x0000000104912878 chromedriver + 4171896\n",
      "14  chromedriver                        0x0000000104926014 chromedriver + 4251668\n",
      "15  libsystem_pthread.dylib             0x00000001a3d2606c _pthread_start + 148\n",
      "16  libsystem_pthread.dylib             0x00000001a3d20e2c thread_start + 8\n",
      "\n"
     ]
    },
    {
     "name": "stderr",
     "output_type": "stream",
     "text": [
      "  1%|▏         | 416/30819 [38:25<48:03:24,  5.69s/it]"
     ]
    },
    {
     "name": "stdout",
     "output_type": "stream",
     "text": [
      "Message: no such element: Unable to locate element: {\"method\":\"css selector\",\"selector\":\".prose\"}\n",
      "  (Session info: chrome=112.0.5615.137)\n",
      "Stacktrace:\n",
      "0   chromedriver                        0x000000010491ed3c chromedriver + 4222268\n",
      "1   chromedriver                        0x00000001048a58e8 chromedriver + 3725544\n",
      "2   chromedriver                        0x000000010455bda4 chromedriver + 277924\n",
      "3   chromedriver                        0x00000001045971b8 chromedriver + 520632\n",
      "4   chromedriver                        0x00000001045cf618 chromedriver + 751128\n",
      "5   chromedriver                        0x00000001045898f0 chromedriver + 465136\n",
      "6   chromedriver                        0x000000010458a974 chromedriver + 469364\n",
      "7   chromedriver                        0x00000001048ef788 chromedriver + 4028296\n",
      "8   chromedriver                        0x00000001048f3c1c chromedriver + 4045852\n",
      "9   chromedriver                        0x00000001048f9c98 chromedriver + 4070552\n",
      "10  chromedriver                        0x00000001048f48d8 chromedriver + 4049112\n",
      "11  chromedriver                        0x00000001048cbd84 chromedriver + 3882372\n",
      "12  chromedriver                        0x0000000104912720 chromedriver + 4171552\n",
      "13  chromedriver                        0x0000000104912878 chromedriver + 4171896\n",
      "14  chromedriver                        0x0000000104926014 chromedriver + 4251668\n",
      "15  libsystem_pthread.dylib             0x00000001a3d2606c _pthread_start + 148\n",
      "16  libsystem_pthread.dylib             0x00000001a3d20e2c thread_start + 8\n",
      "\n"
     ]
    },
    {
     "name": "stderr",
     "output_type": "stream",
     "text": [
      "  1%|▏         | 417/30819 [38:30<46:55:42,  5.56s/it]"
     ]
    },
    {
     "name": "stdout",
     "output_type": "stream",
     "text": [
      "Message: no such element: Unable to locate element: {\"method\":\"css selector\",\"selector\":\".prose\"}\n",
      "  (Session info: chrome=112.0.5615.137)\n",
      "Stacktrace:\n",
      "0   chromedriver                        0x000000010491ed3c chromedriver + 4222268\n",
      "1   chromedriver                        0x00000001048a58e8 chromedriver + 3725544\n",
      "2   chromedriver                        0x000000010455bda4 chromedriver + 277924\n",
      "3   chromedriver                        0x00000001045971b8 chromedriver + 520632\n",
      "4   chromedriver                        0x00000001045cf618 chromedriver + 751128\n",
      "5   chromedriver                        0x00000001045898f0 chromedriver + 465136\n",
      "6   chromedriver                        0x000000010458a974 chromedriver + 469364\n",
      "7   chromedriver                        0x00000001048ef788 chromedriver + 4028296\n",
      "8   chromedriver                        0x00000001048f3c1c chromedriver + 4045852\n",
      "9   chromedriver                        0x00000001048f9c98 chromedriver + 4070552\n",
      "10  chromedriver                        0x00000001048f48d8 chromedriver + 4049112\n",
      "11  chromedriver                        0x00000001048cbd84 chromedriver + 3882372\n",
      "12  chromedriver                        0x0000000104912720 chromedriver + 4171552\n",
      "13  chromedriver                        0x0000000104912878 chromedriver + 4171896\n",
      "14  chromedriver                        0x0000000104926014 chromedriver + 4251668\n",
      "15  libsystem_pthread.dylib             0x00000001a3d2606c _pthread_start + 148\n",
      "16  libsystem_pthread.dylib             0x00000001a3d20e2c thread_start + 8\n",
      "\n"
     ]
    },
    {
     "name": "stderr",
     "output_type": "stream",
     "text": [
      "  1%|▏         | 418/30819 [38:35<46:08:44,  5.46s/it]"
     ]
    },
    {
     "name": "stdout",
     "output_type": "stream",
     "text": [
      "Message: no such element: Unable to locate element: {\"method\":\"css selector\",\"selector\":\".prose\"}\n",
      "  (Session info: chrome=112.0.5615.137)\n",
      "Stacktrace:\n",
      "0   chromedriver                        0x000000010491ed3c chromedriver + 4222268\n",
      "1   chromedriver                        0x00000001048a58e8 chromedriver + 3725544\n",
      "2   chromedriver                        0x000000010455bda4 chromedriver + 277924\n",
      "3   chromedriver                        0x00000001045971b8 chromedriver + 520632\n",
      "4   chromedriver                        0x00000001045cf618 chromedriver + 751128\n",
      "5   chromedriver                        0x00000001045898f0 chromedriver + 465136\n",
      "6   chromedriver                        0x000000010458a974 chromedriver + 469364\n",
      "7   chromedriver                        0x00000001048ef788 chromedriver + 4028296\n",
      "8   chromedriver                        0x00000001048f3c1c chromedriver + 4045852\n",
      "9   chromedriver                        0x00000001048f9c98 chromedriver + 4070552\n",
      "10  chromedriver                        0x00000001048f48d8 chromedriver + 4049112\n",
      "11  chromedriver                        0x00000001048cbd84 chromedriver + 3882372\n",
      "12  chromedriver                        0x0000000104912720 chromedriver + 4171552\n",
      "13  chromedriver                        0x0000000104912878 chromedriver + 4171896\n",
      "14  chromedriver                        0x0000000104926014 chromedriver + 4251668\n",
      "15  libsystem_pthread.dylib             0x00000001a3d2606c _pthread_start + 148\n",
      "16  libsystem_pthread.dylib             0x00000001a3d20e2c thread_start + 8\n",
      "\n"
     ]
    },
    {
     "name": "stderr",
     "output_type": "stream",
     "text": [
      "  1%|▏         | 425/30819 [39:18<52:21:11,  6.20s/it]"
     ]
    },
    {
     "name": "stdout",
     "output_type": "stream",
     "text": [
      "Message: no such element: Unable to locate element: {\"method\":\"css selector\",\"selector\":\".prose\"}\n",
      "  (Session info: chrome=112.0.5615.137)\n",
      "Stacktrace:\n",
      "0   chromedriver                        0x000000010491ed3c chromedriver + 4222268\n",
      "1   chromedriver                        0x00000001048a58e8 chromedriver + 3725544\n",
      "2   chromedriver                        0x000000010455bda4 chromedriver + 277924\n",
      "3   chromedriver                        0x00000001045971b8 chromedriver + 520632\n",
      "4   chromedriver                        0x00000001045cf618 chromedriver + 751128\n",
      "5   chromedriver                        0x00000001045898f0 chromedriver + 465136\n",
      "6   chromedriver                        0x000000010458a974 chromedriver + 469364\n",
      "7   chromedriver                        0x00000001048ef788 chromedriver + 4028296\n",
      "8   chromedriver                        0x00000001048f3c1c chromedriver + 4045852\n",
      "9   chromedriver                        0x00000001048f9c98 chromedriver + 4070552\n",
      "10  chromedriver                        0x00000001048f48d8 chromedriver + 4049112\n",
      "11  chromedriver                        0x00000001048cbd84 chromedriver + 3882372\n",
      "12  chromedriver                        0x0000000104912720 chromedriver + 4171552\n",
      "13  chromedriver                        0x0000000104912878 chromedriver + 4171896\n",
      "14  chromedriver                        0x0000000104926014 chromedriver + 4251668\n",
      "15  libsystem_pthread.dylib             0x00000001a3d2606c _pthread_start + 148\n",
      "16  libsystem_pthread.dylib             0x00000001a3d20e2c thread_start + 8\n",
      "\n"
     ]
    },
    {
     "name": "stderr",
     "output_type": "stream",
     "text": [
      "  1%|▏         | 426/30819 [39:23<49:53:02,  5.91s/it]"
     ]
    },
    {
     "name": "stdout",
     "output_type": "stream",
     "text": [
      "Message: no such element: Unable to locate element: {\"method\":\"css selector\",\"selector\":\".prose\"}\n",
      "  (Session info: chrome=112.0.5615.137)\n",
      "Stacktrace:\n",
      "0   chromedriver                        0x000000010491ed3c chromedriver + 4222268\n",
      "1   chromedriver                        0x00000001048a58e8 chromedriver + 3725544\n",
      "2   chromedriver                        0x000000010455bda4 chromedriver + 277924\n",
      "3   chromedriver                        0x00000001045971b8 chromedriver + 520632\n",
      "4   chromedriver                        0x00000001045cf618 chromedriver + 751128\n",
      "5   chromedriver                        0x00000001045898f0 chromedriver + 465136\n",
      "6   chromedriver                        0x000000010458a974 chromedriver + 469364\n",
      "7   chromedriver                        0x00000001048ef788 chromedriver + 4028296\n",
      "8   chromedriver                        0x00000001048f3c1c chromedriver + 4045852\n",
      "9   chromedriver                        0x00000001048f9c98 chromedriver + 4070552\n",
      "10  chromedriver                        0x00000001048f48d8 chromedriver + 4049112\n",
      "11  chromedriver                        0x00000001048cbd84 chromedriver + 3882372\n",
      "12  chromedriver                        0x0000000104912720 chromedriver + 4171552\n",
      "13  chromedriver                        0x0000000104912878 chromedriver + 4171896\n",
      "14  chromedriver                        0x0000000104926014 chromedriver + 4251668\n",
      "15  libsystem_pthread.dylib             0x00000001a3d2606c _pthread_start + 148\n",
      "16  libsystem_pthread.dylib             0x00000001a3d20e2c thread_start + 8\n",
      "\n"
     ]
    },
    {
     "name": "stderr",
     "output_type": "stream",
     "text": [
      "  1%|▏         | 427/30819 [39:28<48:10:09,  5.71s/it]"
     ]
    },
    {
     "name": "stdout",
     "output_type": "stream",
     "text": [
      "Message: no such element: Unable to locate element: {\"method\":\"css selector\",\"selector\":\".prose\"}\n",
      "  (Session info: chrome=112.0.5615.137)\n",
      "Stacktrace:\n",
      "0   chromedriver                        0x000000010491ed3c chromedriver + 4222268\n",
      "1   chromedriver                        0x00000001048a58e8 chromedriver + 3725544\n",
      "2   chromedriver                        0x000000010455bda4 chromedriver + 277924\n",
      "3   chromedriver                        0x00000001045971b8 chromedriver + 520632\n",
      "4   chromedriver                        0x00000001045cf618 chromedriver + 751128\n",
      "5   chromedriver                        0x00000001045898f0 chromedriver + 465136\n",
      "6   chromedriver                        0x000000010458a974 chromedriver + 469364\n",
      "7   chromedriver                        0x00000001048ef788 chromedriver + 4028296\n",
      "8   chromedriver                        0x00000001048f3c1c chromedriver + 4045852\n",
      "9   chromedriver                        0x00000001048f9c98 chromedriver + 4070552\n",
      "10  chromedriver                        0x00000001048f48d8 chromedriver + 4049112\n",
      "11  chromedriver                        0x00000001048cbd84 chromedriver + 3882372\n",
      "12  chromedriver                        0x0000000104912720 chromedriver + 4171552\n",
      "13  chromedriver                        0x0000000104912878 chromedriver + 4171896\n",
      "14  chromedriver                        0x0000000104926014 chromedriver + 4251668\n",
      "15  libsystem_pthread.dylib             0x00000001a3d2606c _pthread_start + 148\n",
      "16  libsystem_pthread.dylib             0x00000001a3d20e2c thread_start + 8\n",
      "\n"
     ]
    },
    {
     "name": "stderr",
     "output_type": "stream",
     "text": [
      "  1%|▏         | 428/30819 [39:32<44:30:23,  5.27s/it]"
     ]
    },
    {
     "name": "stdout",
     "output_type": "stream",
     "text": [
      "Message: no such element: Unable to locate element: {\"method\":\"css selector\",\"selector\":\".prose\"}\n",
      "  (Session info: chrome=112.0.5615.137)\n",
      "Stacktrace:\n",
      "0   chromedriver                        0x000000010491ed3c chromedriver + 4222268\n",
      "1   chromedriver                        0x00000001048a58e8 chromedriver + 3725544\n",
      "2   chromedriver                        0x000000010455bda4 chromedriver + 277924\n",
      "3   chromedriver                        0x00000001045971b8 chromedriver + 520632\n",
      "4   chromedriver                        0x00000001045cf618 chromedriver + 751128\n",
      "5   chromedriver                        0x00000001045898f0 chromedriver + 465136\n",
      "6   chromedriver                        0x000000010458a974 chromedriver + 469364\n",
      "7   chromedriver                        0x00000001048ef788 chromedriver + 4028296\n",
      "8   chromedriver                        0x00000001048f3c1c chromedriver + 4045852\n",
      "9   chromedriver                        0x00000001048f9c98 chromedriver + 4070552\n",
      "10  chromedriver                        0x00000001048f48d8 chromedriver + 4049112\n",
      "11  chromedriver                        0x00000001048cbd84 chromedriver + 3882372\n",
      "12  chromedriver                        0x0000000104912720 chromedriver + 4171552\n",
      "13  chromedriver                        0x0000000104912878 chromedriver + 4171896\n",
      "14  chromedriver                        0x0000000104926014 chromedriver + 4251668\n",
      "15  libsystem_pthread.dylib             0x00000001a3d2606c _pthread_start + 148\n",
      "16  libsystem_pthread.dylib             0x00000001a3d20e2c thread_start + 8\n",
      "\n"
     ]
    },
    {
     "name": "stderr",
     "output_type": "stream",
     "text": [
      "  1%|▏         | 437/30819 [40:19<42:44:35,  5.06s/it]"
     ]
    },
    {
     "name": "stdout",
     "output_type": "stream",
     "text": [
      "Message: no such element: Unable to locate element: {\"method\":\"css selector\",\"selector\":\".prose\"}\n",
      "  (Session info: chrome=112.0.5615.137)\n",
      "Stacktrace:\n",
      "0   chromedriver                        0x000000010491ed3c chromedriver + 4222268\n",
      "1   chromedriver                        0x00000001048a58e8 chromedriver + 3725544\n",
      "2   chromedriver                        0x000000010455bda4 chromedriver + 277924\n",
      "3   chromedriver                        0x00000001045971b8 chromedriver + 520632\n",
      "4   chromedriver                        0x00000001045cf618 chromedriver + 751128\n",
      "5   chromedriver                        0x00000001045898f0 chromedriver + 465136\n",
      "6   chromedriver                        0x000000010458a974 chromedriver + 469364\n",
      "7   chromedriver                        0x00000001048ef788 chromedriver + 4028296\n",
      "8   chromedriver                        0x00000001048f3c1c chromedriver + 4045852\n",
      "9   chromedriver                        0x00000001048f9c98 chromedriver + 4070552\n",
      "10  chromedriver                        0x00000001048f48d8 chromedriver + 4049112\n",
      "11  chromedriver                        0x00000001048cbd84 chromedriver + 3882372\n",
      "12  chromedriver                        0x0000000104912720 chromedriver + 4171552\n",
      "13  chromedriver                        0x0000000104912878 chromedriver + 4171896\n",
      "14  chromedriver                        0x0000000104926014 chromedriver + 4251668\n",
      "15  libsystem_pthread.dylib             0x00000001a3d2606c _pthread_start + 148\n",
      "16  libsystem_pthread.dylib             0x00000001a3d20e2c thread_start + 8\n",
      "\n"
     ]
    },
    {
     "name": "stderr",
     "output_type": "stream",
     "text": [
      "  1%|▏         | 438/30819 [40:23<40:42:27,  4.82s/it]"
     ]
    },
    {
     "name": "stdout",
     "output_type": "stream",
     "text": [
      "Message: no such element: Unable to locate element: {\"method\":\"css selector\",\"selector\":\".prose\"}\n",
      "  (Session info: chrome=112.0.5615.137)\n",
      "Stacktrace:\n",
      "0   chromedriver                        0x000000010491ed3c chromedriver + 4222268\n",
      "1   chromedriver                        0x00000001048a58e8 chromedriver + 3725544\n",
      "2   chromedriver                        0x000000010455bda4 chromedriver + 277924\n",
      "3   chromedriver                        0x00000001045971b8 chromedriver + 520632\n",
      "4   chromedriver                        0x00000001045cf618 chromedriver + 751128\n",
      "5   chromedriver                        0x00000001045898f0 chromedriver + 465136\n",
      "6   chromedriver                        0x000000010458a974 chromedriver + 469364\n",
      "7   chromedriver                        0x00000001048ef788 chromedriver + 4028296\n",
      "8   chromedriver                        0x00000001048f3c1c chromedriver + 4045852\n",
      "9   chromedriver                        0x00000001048f9c98 chromedriver + 4070552\n",
      "10  chromedriver                        0x00000001048f48d8 chromedriver + 4049112\n",
      "11  chromedriver                        0x00000001048cbd84 chromedriver + 3882372\n",
      "12  chromedriver                        0x0000000104912720 chromedriver + 4171552\n",
      "13  chromedriver                        0x0000000104912878 chromedriver + 4171896\n",
      "14  chromedriver                        0x0000000104926014 chromedriver + 4251668\n",
      "15  libsystem_pthread.dylib             0x00000001a3d2606c _pthread_start + 148\n",
      "16  libsystem_pthread.dylib             0x00000001a3d20e2c thread_start + 8\n",
      "\n"
     ]
    },
    {
     "name": "stderr",
     "output_type": "stream",
     "text": [
      "  1%|▏         | 439/30819 [40:30<44:19:13,  5.25s/it]"
     ]
    },
    {
     "name": "stdout",
     "output_type": "stream",
     "text": [
      "Message: no such element: Unable to locate element: {\"method\":\"css selector\",\"selector\":\".prose\"}\n",
      "  (Session info: chrome=112.0.5615.137)\n",
      "Stacktrace:\n",
      "0   chromedriver                        0x000000010491ed3c chromedriver + 4222268\n",
      "1   chromedriver                        0x00000001048a58e8 chromedriver + 3725544\n",
      "2   chromedriver                        0x000000010455bda4 chromedriver + 277924\n",
      "3   chromedriver                        0x00000001045971b8 chromedriver + 520632\n",
      "4   chromedriver                        0x00000001045cf618 chromedriver + 751128\n",
      "5   chromedriver                        0x00000001045898f0 chromedriver + 465136\n",
      "6   chromedriver                        0x000000010458a974 chromedriver + 469364\n",
      "7   chromedriver                        0x00000001048ef788 chromedriver + 4028296\n",
      "8   chromedriver                        0x00000001048f3c1c chromedriver + 4045852\n",
      "9   chromedriver                        0x00000001048f9c98 chromedriver + 4070552\n",
      "10  chromedriver                        0x00000001048f48d8 chromedriver + 4049112\n",
      "11  chromedriver                        0x00000001048cbd84 chromedriver + 3882372\n",
      "12  chromedriver                        0x0000000104912720 chromedriver + 4171552\n",
      "13  chromedriver                        0x0000000104912878 chromedriver + 4171896\n",
      "14  chromedriver                        0x0000000104926014 chromedriver + 4251668\n",
      "15  libsystem_pthread.dylib             0x00000001a3d2606c _pthread_start + 148\n",
      "16  libsystem_pthread.dylib             0x00000001a3d20e2c thread_start + 8\n",
      "\n"
     ]
    },
    {
     "name": "stderr",
     "output_type": "stream",
     "text": [
      "  1%|▏         | 440/30819 [40:35<44:21:17,  5.26s/it]"
     ]
    },
    {
     "name": "stdout",
     "output_type": "stream",
     "text": [
      "Message: no such element: Unable to locate element: {\"method\":\"css selector\",\"selector\":\".prose\"}\n",
      "  (Session info: chrome=112.0.5615.137)\n",
      "Stacktrace:\n",
      "0   chromedriver                        0x000000010491ed3c chromedriver + 4222268\n",
      "1   chromedriver                        0x00000001048a58e8 chromedriver + 3725544\n",
      "2   chromedriver                        0x000000010455bda4 chromedriver + 277924\n",
      "3   chromedriver                        0x00000001045971b8 chromedriver + 520632\n",
      "4   chromedriver                        0x00000001045cf618 chromedriver + 751128\n",
      "5   chromedriver                        0x00000001045898f0 chromedriver + 465136\n",
      "6   chromedriver                        0x000000010458a974 chromedriver + 469364\n",
      "7   chromedriver                        0x00000001048ef788 chromedriver + 4028296\n",
      "8   chromedriver                        0x00000001048f3c1c chromedriver + 4045852\n",
      "9   chromedriver                        0x00000001048f9c98 chromedriver + 4070552\n",
      "10  chromedriver                        0x00000001048f48d8 chromedriver + 4049112\n",
      "11  chromedriver                        0x00000001048cbd84 chromedriver + 3882372\n",
      "12  chromedriver                        0x0000000104912720 chromedriver + 4171552\n",
      "13  chromedriver                        0x0000000104912878 chromedriver + 4171896\n",
      "14  chromedriver                        0x0000000104926014 chromedriver + 4251668\n",
      "15  libsystem_pthread.dylib             0x00000001a3d2606c _pthread_start + 148\n",
      "16  libsystem_pthread.dylib             0x00000001a3d20e2c thread_start + 8\n",
      "\n"
     ]
    },
    {
     "name": "stderr",
     "output_type": "stream",
     "text": [
      "  1%|▏         | 445/30819 [41:03<46:51:13,  5.55s/it]"
     ]
    },
    {
     "name": "stdout",
     "output_type": "stream",
     "text": [
      "Message: no such element: Unable to locate element: {\"method\":\"css selector\",\"selector\":\".prose\"}\n",
      "  (Session info: chrome=112.0.5615.137)\n",
      "Stacktrace:\n",
      "0   chromedriver                        0x000000010491ed3c chromedriver + 4222268\n",
      "1   chromedriver                        0x00000001048a58e8 chromedriver + 3725544\n",
      "2   chromedriver                        0x000000010455bda4 chromedriver + 277924\n",
      "3   chromedriver                        0x00000001045971b8 chromedriver + 520632\n",
      "4   chromedriver                        0x00000001045cf618 chromedriver + 751128\n",
      "5   chromedriver                        0x00000001045898f0 chromedriver + 465136\n",
      "6   chromedriver                        0x000000010458a974 chromedriver + 469364\n",
      "7   chromedriver                        0x00000001048ef788 chromedriver + 4028296\n",
      "8   chromedriver                        0x00000001048f3c1c chromedriver + 4045852\n",
      "9   chromedriver                        0x00000001048f9c98 chromedriver + 4070552\n",
      "10  chromedriver                        0x00000001048f48d8 chromedriver + 4049112\n",
      "11  chromedriver                        0x00000001048cbd84 chromedriver + 3882372\n",
      "12  chromedriver                        0x0000000104912720 chromedriver + 4171552\n",
      "13  chromedriver                        0x0000000104912878 chromedriver + 4171896\n",
      "14  chromedriver                        0x0000000104926014 chromedriver + 4251668\n",
      "15  libsystem_pthread.dylib             0x00000001a3d2606c _pthread_start + 148\n",
      "16  libsystem_pthread.dylib             0x00000001a3d20e2c thread_start + 8\n",
      "\n"
     ]
    },
    {
     "name": "stderr",
     "output_type": "stream",
     "text": [
      "  1%|▏         | 446/30819 [41:07<43:35:27,  5.17s/it]"
     ]
    },
    {
     "name": "stdout",
     "output_type": "stream",
     "text": [
      "Message: no such element: Unable to locate element: {\"method\":\"css selector\",\"selector\":\".prose\"}\n",
      "  (Session info: chrome=112.0.5615.137)\n",
      "Stacktrace:\n",
      "0   chromedriver                        0x000000010491ed3c chromedriver + 4222268\n",
      "1   chromedriver                        0x00000001048a58e8 chromedriver + 3725544\n",
      "2   chromedriver                        0x000000010455bda4 chromedriver + 277924\n",
      "3   chromedriver                        0x00000001045971b8 chromedriver + 520632\n",
      "4   chromedriver                        0x00000001045cf618 chromedriver + 751128\n",
      "5   chromedriver                        0x00000001045898f0 chromedriver + 465136\n",
      "6   chromedriver                        0x000000010458a974 chromedriver + 469364\n",
      "7   chromedriver                        0x00000001048ef788 chromedriver + 4028296\n",
      "8   chromedriver                        0x00000001048f3c1c chromedriver + 4045852\n",
      "9   chromedriver                        0x00000001048f9c98 chromedriver + 4070552\n",
      "10  chromedriver                        0x00000001048f48d8 chromedriver + 4049112\n",
      "11  chromedriver                        0x00000001048cbd84 chromedriver + 3882372\n",
      "12  chromedriver                        0x0000000104912720 chromedriver + 4171552\n",
      "13  chromedriver                        0x0000000104912878 chromedriver + 4171896\n",
      "14  chromedriver                        0x0000000104926014 chromedriver + 4251668\n",
      "15  libsystem_pthread.dylib             0x00000001a3d2606c _pthread_start + 148\n",
      "16  libsystem_pthread.dylib             0x00000001a3d20e2c thread_start + 8\n",
      "\n"
     ]
    },
    {
     "name": "stderr",
     "output_type": "stream",
     "text": [
      "  1%|▏         | 447/30819 [41:13<43:51:01,  5.20s/it]"
     ]
    },
    {
     "name": "stdout",
     "output_type": "stream",
     "text": [
      "Message: no such element: Unable to locate element: {\"method\":\"css selector\",\"selector\":\".prose\"}\n",
      "  (Session info: chrome=112.0.5615.137)\n",
      "Stacktrace:\n",
      "0   chromedriver                        0x000000010491ed3c chromedriver + 4222268\n",
      "1   chromedriver                        0x00000001048a58e8 chromedriver + 3725544\n",
      "2   chromedriver                        0x000000010455bda4 chromedriver + 277924\n",
      "3   chromedriver                        0x00000001045971b8 chromedriver + 520632\n",
      "4   chromedriver                        0x00000001045cf618 chromedriver + 751128\n",
      "5   chromedriver                        0x00000001045898f0 chromedriver + 465136\n",
      "6   chromedriver                        0x000000010458a974 chromedriver + 469364\n",
      "7   chromedriver                        0x00000001048ef788 chromedriver + 4028296\n",
      "8   chromedriver                        0x00000001048f3c1c chromedriver + 4045852\n",
      "9   chromedriver                        0x00000001048f9c98 chromedriver + 4070552\n",
      "10  chromedriver                        0x00000001048f48d8 chromedriver + 4049112\n",
      "11  chromedriver                        0x00000001048cbd84 chromedriver + 3882372\n",
      "12  chromedriver                        0x0000000104912720 chromedriver + 4171552\n",
      "13  chromedriver                        0x0000000104912878 chromedriver + 4171896\n",
      "14  chromedriver                        0x0000000104926014 chromedriver + 4251668\n",
      "15  libsystem_pthread.dylib             0x00000001a3d2606c _pthread_start + 148\n",
      "16  libsystem_pthread.dylib             0x00000001a3d20e2c thread_start + 8\n",
      "\n"
     ]
    },
    {
     "name": "stderr",
     "output_type": "stream",
     "text": [
      "  1%|▏         | 448/30819 [41:17<41:27:50,  4.91s/it]"
     ]
    },
    {
     "name": "stdout",
     "output_type": "stream",
     "text": [
      "Message: no such element: Unable to locate element: {\"method\":\"css selector\",\"selector\":\".prose\"}\n",
      "  (Session info: chrome=112.0.5615.137)\n",
      "Stacktrace:\n",
      "0   chromedriver                        0x000000010491ed3c chromedriver + 4222268\n",
      "1   chromedriver                        0x00000001048a58e8 chromedriver + 3725544\n",
      "2   chromedriver                        0x000000010455bda4 chromedriver + 277924\n",
      "3   chromedriver                        0x00000001045971b8 chromedriver + 520632\n",
      "4   chromedriver                        0x00000001045cf618 chromedriver + 751128\n",
      "5   chromedriver                        0x00000001045898f0 chromedriver + 465136\n",
      "6   chromedriver                        0x000000010458a974 chromedriver + 469364\n",
      "7   chromedriver                        0x00000001048ef788 chromedriver + 4028296\n",
      "8   chromedriver                        0x00000001048f3c1c chromedriver + 4045852\n",
      "9   chromedriver                        0x00000001048f9c98 chromedriver + 4070552\n",
      "10  chromedriver                        0x00000001048f48d8 chromedriver + 4049112\n",
      "11  chromedriver                        0x00000001048cbd84 chromedriver + 3882372\n",
      "12  chromedriver                        0x0000000104912720 chromedriver + 4171552\n",
      "13  chromedriver                        0x0000000104912878 chromedriver + 4171896\n",
      "14  chromedriver                        0x0000000104926014 chromedriver + 4251668\n",
      "15  libsystem_pthread.dylib             0x00000001a3d2606c _pthread_start + 148\n",
      "16  libsystem_pthread.dylib             0x00000001a3d20e2c thread_start + 8\n",
      "\n"
     ]
    },
    {
     "name": "stderr",
     "output_type": "stream",
     "text": [
      "  1%|▏         | 449/30819 [41:22<42:23:21,  5.02s/it]"
     ]
    },
    {
     "name": "stdout",
     "output_type": "stream",
     "text": [
      "Message: no such element: Unable to locate element: {\"method\":\"css selector\",\"selector\":\".prose\"}\n",
      "  (Session info: chrome=112.0.5615.137)\n",
      "Stacktrace:\n",
      "0   chromedriver                        0x000000010491ed3c chromedriver + 4222268\n",
      "1   chromedriver                        0x00000001048a58e8 chromedriver + 3725544\n",
      "2   chromedriver                        0x000000010455bda4 chromedriver + 277924\n",
      "3   chromedriver                        0x00000001045971b8 chromedriver + 520632\n",
      "4   chromedriver                        0x00000001045cf618 chromedriver + 751128\n",
      "5   chromedriver                        0x00000001045898f0 chromedriver + 465136\n",
      "6   chromedriver                        0x000000010458a974 chromedriver + 469364\n",
      "7   chromedriver                        0x00000001048ef788 chromedriver + 4028296\n",
      "8   chromedriver                        0x00000001048f3c1c chromedriver + 4045852\n",
      "9   chromedriver                        0x00000001048f9c98 chromedriver + 4070552\n",
      "10  chromedriver                        0x00000001048f48d8 chromedriver + 4049112\n",
      "11  chromedriver                        0x00000001048cbd84 chromedriver + 3882372\n",
      "12  chromedriver                        0x0000000104912720 chromedriver + 4171552\n",
      "13  chromedriver                        0x0000000104912878 chromedriver + 4171896\n",
      "14  chromedriver                        0x0000000104926014 chromedriver + 4251668\n",
      "15  libsystem_pthread.dylib             0x00000001a3d2606c _pthread_start + 148\n",
      "16  libsystem_pthread.dylib             0x00000001a3d20e2c thread_start + 8\n",
      "\n"
     ]
    },
    {
     "name": "stderr",
     "output_type": "stream",
     "text": [
      "  1%|▏         | 450/30819 [41:28<42:58:04,  5.09s/it]"
     ]
    },
    {
     "name": "stdout",
     "output_type": "stream",
     "text": [
      "Message: no such element: Unable to locate element: {\"method\":\"css selector\",\"selector\":\".prose\"}\n",
      "  (Session info: chrome=112.0.5615.137)\n",
      "Stacktrace:\n",
      "0   chromedriver                        0x000000010491ed3c chromedriver + 4222268\n",
      "1   chromedriver                        0x00000001048a58e8 chromedriver + 3725544\n",
      "2   chromedriver                        0x000000010455bda4 chromedriver + 277924\n",
      "3   chromedriver                        0x00000001045971b8 chromedriver + 520632\n",
      "4   chromedriver                        0x00000001045cf618 chromedriver + 751128\n",
      "5   chromedriver                        0x00000001045898f0 chromedriver + 465136\n",
      "6   chromedriver                        0x000000010458a974 chromedriver + 469364\n",
      "7   chromedriver                        0x00000001048ef788 chromedriver + 4028296\n",
      "8   chromedriver                        0x00000001048f3c1c chromedriver + 4045852\n",
      "9   chromedriver                        0x00000001048f9c98 chromedriver + 4070552\n",
      "10  chromedriver                        0x00000001048f48d8 chromedriver + 4049112\n",
      "11  chromedriver                        0x00000001048cbd84 chromedriver + 3882372\n",
      "12  chromedriver                        0x0000000104912720 chromedriver + 4171552\n",
      "13  chromedriver                        0x0000000104912878 chromedriver + 4171896\n",
      "14  chromedriver                        0x0000000104926014 chromedriver + 4251668\n",
      "15  libsystem_pthread.dylib             0x00000001a3d2606c _pthread_start + 148\n",
      "16  libsystem_pthread.dylib             0x00000001a3d20e2c thread_start + 8\n",
      "\n"
     ]
    },
    {
     "name": "stderr",
     "output_type": "stream",
     "text": [
      "  1%|▏         | 451/30819 [41:34<46:26:05,  5.50s/it]"
     ]
    },
    {
     "name": "stdout",
     "output_type": "stream",
     "text": [
      "Message: no such element: Unable to locate element: {\"method\":\"css selector\",\"selector\":\".prose\"}\n",
      "  (Session info: chrome=112.0.5615.137)\n",
      "Stacktrace:\n",
      "0   chromedriver                        0x000000010491ed3c chromedriver + 4222268\n",
      "1   chromedriver                        0x00000001048a58e8 chromedriver + 3725544\n",
      "2   chromedriver                        0x000000010455bda4 chromedriver + 277924\n",
      "3   chromedriver                        0x00000001045971b8 chromedriver + 520632\n",
      "4   chromedriver                        0x00000001045cf618 chromedriver + 751128\n",
      "5   chromedriver                        0x00000001045898f0 chromedriver + 465136\n",
      "6   chromedriver                        0x000000010458a974 chromedriver + 469364\n",
      "7   chromedriver                        0x00000001048ef788 chromedriver + 4028296\n",
      "8   chromedriver                        0x00000001048f3c1c chromedriver + 4045852\n",
      "9   chromedriver                        0x00000001048f9c98 chromedriver + 4070552\n",
      "10  chromedriver                        0x00000001048f48d8 chromedriver + 4049112\n",
      "11  chromedriver                        0x00000001048cbd84 chromedriver + 3882372\n",
      "12  chromedriver                        0x0000000104912720 chromedriver + 4171552\n",
      "13  chromedriver                        0x0000000104912878 chromedriver + 4171896\n",
      "14  chromedriver                        0x0000000104926014 chromedriver + 4251668\n",
      "15  libsystem_pthread.dylib             0x00000001a3d2606c _pthread_start + 148\n",
      "16  libsystem_pthread.dylib             0x00000001a3d20e2c thread_start + 8\n",
      "\n"
     ]
    },
    {
     "name": "stderr",
     "output_type": "stream",
     "text": [
      "  1%|▏         | 456/30819 [42:01<47:26:38,  5.63s/it]"
     ]
    },
    {
     "name": "stdout",
     "output_type": "stream",
     "text": [
      "Message: no such element: Unable to locate element: {\"method\":\"css selector\",\"selector\":\".prose\"}\n",
      "  (Session info: chrome=112.0.5615.137)\n",
      "Stacktrace:\n",
      "0   chromedriver                        0x000000010491ed3c chromedriver + 4222268\n",
      "1   chromedriver                        0x00000001048a58e8 chromedriver + 3725544\n",
      "2   chromedriver                        0x000000010455bda4 chromedriver + 277924\n",
      "3   chromedriver                        0x00000001045971b8 chromedriver + 520632\n",
      "4   chromedriver                        0x00000001045cf618 chromedriver + 751128\n",
      "5   chromedriver                        0x00000001045898f0 chromedriver + 465136\n",
      "6   chromedriver                        0x000000010458a974 chromedriver + 469364\n",
      "7   chromedriver                        0x00000001048ef788 chromedriver + 4028296\n",
      "8   chromedriver                        0x00000001048f3c1c chromedriver + 4045852\n",
      "9   chromedriver                        0x00000001048f9c98 chromedriver + 4070552\n",
      "10  chromedriver                        0x00000001048f48d8 chromedriver + 4049112\n",
      "11  chromedriver                        0x00000001048cbd84 chromedriver + 3882372\n",
      "12  chromedriver                        0x0000000104912720 chromedriver + 4171552\n",
      "13  chromedriver                        0x0000000104912878 chromedriver + 4171896\n",
      "14  chromedriver                        0x0000000104926014 chromedriver + 4251668\n",
      "15  libsystem_pthread.dylib             0x00000001a3d2606c _pthread_start + 148\n",
      "16  libsystem_pthread.dylib             0x00000001a3d20e2c thread_start + 8\n",
      "\n"
     ]
    },
    {
     "name": "stderr",
     "output_type": "stream",
     "text": [
      "  1%|▏         | 457/30819 [42:06<43:52:48,  5.20s/it]"
     ]
    },
    {
     "name": "stdout",
     "output_type": "stream",
     "text": [
      "Message: no such element: Unable to locate element: {\"method\":\"css selector\",\"selector\":\".prose\"}\n",
      "  (Session info: chrome=112.0.5615.137)\n",
      "Stacktrace:\n",
      "0   chromedriver                        0x000000010491ed3c chromedriver + 4222268\n",
      "1   chromedriver                        0x00000001048a58e8 chromedriver + 3725544\n",
      "2   chromedriver                        0x000000010455bda4 chromedriver + 277924\n",
      "3   chromedriver                        0x00000001045971b8 chromedriver + 520632\n",
      "4   chromedriver                        0x00000001045cf618 chromedriver + 751128\n",
      "5   chromedriver                        0x00000001045898f0 chromedriver + 465136\n",
      "6   chromedriver                        0x000000010458a974 chromedriver + 469364\n",
      "7   chromedriver                        0x00000001048ef788 chromedriver + 4028296\n",
      "8   chromedriver                        0x00000001048f3c1c chromedriver + 4045852\n",
      "9   chromedriver                        0x00000001048f9c98 chromedriver + 4070552\n",
      "10  chromedriver                        0x00000001048f48d8 chromedriver + 4049112\n",
      "11  chromedriver                        0x00000001048cbd84 chromedriver + 3882372\n",
      "12  chromedriver                        0x0000000104912720 chromedriver + 4171552\n",
      "13  chromedriver                        0x0000000104912878 chromedriver + 4171896\n",
      "14  chromedriver                        0x0000000104926014 chromedriver + 4251668\n",
      "15  libsystem_pthread.dylib             0x00000001a3d2606c _pthread_start + 148\n",
      "16  libsystem_pthread.dylib             0x00000001a3d20e2c thread_start + 8\n",
      "\n"
     ]
    },
    {
     "name": "stderr",
     "output_type": "stream",
     "text": [
      "  1%|▏         | 458/30819 [42:10<41:30:31,  4.92s/it]"
     ]
    },
    {
     "name": "stdout",
     "output_type": "stream",
     "text": [
      "Message: no such element: Unable to locate element: {\"method\":\"css selector\",\"selector\":\".prose\"}\n",
      "  (Session info: chrome=112.0.5615.137)\n",
      "Stacktrace:\n",
      "0   chromedriver                        0x000000010491ed3c chromedriver + 4222268\n",
      "1   chromedriver                        0x00000001048a58e8 chromedriver + 3725544\n",
      "2   chromedriver                        0x000000010455bda4 chromedriver + 277924\n",
      "3   chromedriver                        0x00000001045971b8 chromedriver + 520632\n",
      "4   chromedriver                        0x00000001045cf618 chromedriver + 751128\n",
      "5   chromedriver                        0x00000001045898f0 chromedriver + 465136\n",
      "6   chromedriver                        0x000000010458a974 chromedriver + 469364\n",
      "7   chromedriver                        0x00000001048ef788 chromedriver + 4028296\n",
      "8   chromedriver                        0x00000001048f3c1c chromedriver + 4045852\n",
      "9   chromedriver                        0x00000001048f9c98 chromedriver + 4070552\n",
      "10  chromedriver                        0x00000001048f48d8 chromedriver + 4049112\n",
      "11  chromedriver                        0x00000001048cbd84 chromedriver + 3882372\n",
      "12  chromedriver                        0x0000000104912720 chromedriver + 4171552\n",
      "13  chromedriver                        0x0000000104912878 chromedriver + 4171896\n",
      "14  chromedriver                        0x0000000104926014 chromedriver + 4251668\n",
      "15  libsystem_pthread.dylib             0x00000001a3d2606c _pthread_start + 148\n",
      "16  libsystem_pthread.dylib             0x00000001a3d20e2c thread_start + 8\n",
      "\n"
     ]
    },
    {
     "name": "stderr",
     "output_type": "stream",
     "text": [
      "  1%|▏         | 459/30819 [42:15<42:19:25,  5.02s/it]"
     ]
    },
    {
     "name": "stdout",
     "output_type": "stream",
     "text": [
      "Message: no such element: Unable to locate element: {\"method\":\"css selector\",\"selector\":\".prose\"}\n",
      "  (Session info: chrome=112.0.5615.137)\n",
      "Stacktrace:\n",
      "0   chromedriver                        0x000000010491ed3c chromedriver + 4222268\n",
      "1   chromedriver                        0x00000001048a58e8 chromedriver + 3725544\n",
      "2   chromedriver                        0x000000010455bda4 chromedriver + 277924\n",
      "3   chromedriver                        0x00000001045971b8 chromedriver + 520632\n",
      "4   chromedriver                        0x00000001045cf618 chromedriver + 751128\n",
      "5   chromedriver                        0x00000001045898f0 chromedriver + 465136\n",
      "6   chromedriver                        0x000000010458a974 chromedriver + 469364\n",
      "7   chromedriver                        0x00000001048ef788 chromedriver + 4028296\n",
      "8   chromedriver                        0x00000001048f3c1c chromedriver + 4045852\n",
      "9   chromedriver                        0x00000001048f9c98 chromedriver + 4070552\n",
      "10  chromedriver                        0x00000001048f48d8 chromedriver + 4049112\n",
      "11  chromedriver                        0x00000001048cbd84 chromedriver + 3882372\n",
      "12  chromedriver                        0x0000000104912720 chromedriver + 4171552\n",
      "13  chromedriver                        0x0000000104912878 chromedriver + 4171896\n",
      "14  chromedriver                        0x0000000104926014 chromedriver + 4251668\n",
      "15  libsystem_pthread.dylib             0x00000001a3d2606c _pthread_start + 148\n",
      "16  libsystem_pthread.dylib             0x00000001a3d20e2c thread_start + 8\n",
      "\n"
     ]
    },
    {
     "name": "stderr",
     "output_type": "stream",
     "text": [
      "  1%|▏         | 460/30819 [42:20<42:54:41,  5.09s/it]"
     ]
    },
    {
     "name": "stdout",
     "output_type": "stream",
     "text": [
      "Message: no such element: Unable to locate element: {\"method\":\"css selector\",\"selector\":\".prose\"}\n",
      "  (Session info: chrome=112.0.5615.137)\n",
      "Stacktrace:\n",
      "0   chromedriver                        0x000000010491ed3c chromedriver + 4222268\n",
      "1   chromedriver                        0x00000001048a58e8 chromedriver + 3725544\n",
      "2   chromedriver                        0x000000010455bda4 chromedriver + 277924\n",
      "3   chromedriver                        0x00000001045971b8 chromedriver + 520632\n",
      "4   chromedriver                        0x00000001045cf618 chromedriver + 751128\n",
      "5   chromedriver                        0x00000001045898f0 chromedriver + 465136\n",
      "6   chromedriver                        0x000000010458a974 chromedriver + 469364\n",
      "7   chromedriver                        0x00000001048ef788 chromedriver + 4028296\n",
      "8   chromedriver                        0x00000001048f3c1c chromedriver + 4045852\n",
      "9   chromedriver                        0x00000001048f9c98 chromedriver + 4070552\n",
      "10  chromedriver                        0x00000001048f48d8 chromedriver + 4049112\n",
      "11  chromedriver                        0x00000001048cbd84 chromedriver + 3882372\n",
      "12  chromedriver                        0x0000000104912720 chromedriver + 4171552\n",
      "13  chromedriver                        0x0000000104912878 chromedriver + 4171896\n",
      "14  chromedriver                        0x0000000104926014 chromedriver + 4251668\n",
      "15  libsystem_pthread.dylib             0x00000001a3d2606c _pthread_start + 148\n",
      "16  libsystem_pthread.dylib             0x00000001a3d20e2c thread_start + 8\n",
      "\n"
     ]
    },
    {
     "name": "stderr",
     "output_type": "stream",
     "text": [
      "  1%|▏         | 461/30819 [42:27<45:58:00,  5.45s/it]"
     ]
    },
    {
     "name": "stdout",
     "output_type": "stream",
     "text": [
      "Message: no such element: Unable to locate element: {\"method\":\"css selector\",\"selector\":\".prose\"}\n",
      "  (Session info: chrome=112.0.5615.137)\n",
      "Stacktrace:\n",
      "0   chromedriver                        0x000000010491ed3c chromedriver + 4222268\n",
      "1   chromedriver                        0x00000001048a58e8 chromedriver + 3725544\n",
      "2   chromedriver                        0x000000010455bda4 chromedriver + 277924\n",
      "3   chromedriver                        0x00000001045971b8 chromedriver + 520632\n",
      "4   chromedriver                        0x00000001045cf618 chromedriver + 751128\n",
      "5   chromedriver                        0x00000001045898f0 chromedriver + 465136\n",
      "6   chromedriver                        0x000000010458a974 chromedriver + 469364\n",
      "7   chromedriver                        0x00000001048ef788 chromedriver + 4028296\n",
      "8   chromedriver                        0x00000001048f3c1c chromedriver + 4045852\n",
      "9   chromedriver                        0x00000001048f9c98 chromedriver + 4070552\n",
      "10  chromedriver                        0x00000001048f48d8 chromedriver + 4049112\n",
      "11  chromedriver                        0x00000001048cbd84 chromedriver + 3882372\n",
      "12  chromedriver                        0x0000000104912720 chromedriver + 4171552\n",
      "13  chromedriver                        0x0000000104912878 chromedriver + 4171896\n",
      "14  chromedriver                        0x0000000104926014 chromedriver + 4251668\n",
      "15  libsystem_pthread.dylib             0x00000001a3d2606c _pthread_start + 148\n",
      "16  libsystem_pthread.dylib             0x00000001a3d20e2c thread_start + 8\n",
      "\n"
     ]
    },
    {
     "name": "stderr",
     "output_type": "stream",
     "text": [
      "  1%|▏         | 462/30819 [42:31<42:57:44,  5.09s/it]"
     ]
    },
    {
     "name": "stdout",
     "output_type": "stream",
     "text": [
      "Message: no such element: Unable to locate element: {\"method\":\"css selector\",\"selector\":\".prose\"}\n",
      "  (Session info: chrome=112.0.5615.137)\n",
      "Stacktrace:\n",
      "0   chromedriver                        0x000000010491ed3c chromedriver + 4222268\n",
      "1   chromedriver                        0x00000001048a58e8 chromedriver + 3725544\n",
      "2   chromedriver                        0x000000010455bda4 chromedriver + 277924\n",
      "3   chromedriver                        0x00000001045971b8 chromedriver + 520632\n",
      "4   chromedriver                        0x00000001045cf618 chromedriver + 751128\n",
      "5   chromedriver                        0x00000001045898f0 chromedriver + 465136\n",
      "6   chromedriver                        0x000000010458a974 chromedriver + 469364\n",
      "7   chromedriver                        0x00000001048ef788 chromedriver + 4028296\n",
      "8   chromedriver                        0x00000001048f3c1c chromedriver + 4045852\n",
      "9   chromedriver                        0x00000001048f9c98 chromedriver + 4070552\n",
      "10  chromedriver                        0x00000001048f48d8 chromedriver + 4049112\n",
      "11  chromedriver                        0x00000001048cbd84 chromedriver + 3882372\n",
      "12  chromedriver                        0x0000000104912720 chromedriver + 4171552\n",
      "13  chromedriver                        0x0000000104912878 chromedriver + 4171896\n",
      "14  chromedriver                        0x0000000104926014 chromedriver + 4251668\n",
      "15  libsystem_pthread.dylib             0x00000001a3d2606c _pthread_start + 148\n",
      "16  libsystem_pthread.dylib             0x00000001a3d20e2c thread_start + 8\n",
      "\n"
     ]
    },
    {
     "name": "stderr",
     "output_type": "stream",
     "text": [
      "  2%|▏         | 463/30819 [42:35<40:51:56,  4.85s/it]"
     ]
    },
    {
     "name": "stdout",
     "output_type": "stream",
     "text": [
      "Message: no such element: Unable to locate element: {\"method\":\"css selector\",\"selector\":\".prose\"}\n",
      "  (Session info: chrome=112.0.5615.137)\n",
      "Stacktrace:\n",
      "0   chromedriver                        0x000000010491ed3c chromedriver + 4222268\n",
      "1   chromedriver                        0x00000001048a58e8 chromedriver + 3725544\n",
      "2   chromedriver                        0x000000010455bda4 chromedriver + 277924\n",
      "3   chromedriver                        0x00000001045971b8 chromedriver + 520632\n",
      "4   chromedriver                        0x00000001045cf618 chromedriver + 751128\n",
      "5   chromedriver                        0x00000001045898f0 chromedriver + 465136\n",
      "6   chromedriver                        0x000000010458a974 chromedriver + 469364\n",
      "7   chromedriver                        0x00000001048ef788 chromedriver + 4028296\n",
      "8   chromedriver                        0x00000001048f3c1c chromedriver + 4045852\n",
      "9   chromedriver                        0x00000001048f9c98 chromedriver + 4070552\n",
      "10  chromedriver                        0x00000001048f48d8 chromedriver + 4049112\n",
      "11  chromedriver                        0x00000001048cbd84 chromedriver + 3882372\n",
      "12  chromedriver                        0x0000000104912720 chromedriver + 4171552\n",
      "13  chromedriver                        0x0000000104912878 chromedriver + 4171896\n",
      "14  chromedriver                        0x0000000104926014 chromedriver + 4251668\n",
      "15  libsystem_pthread.dylib             0x00000001a3d2606c _pthread_start + 148\n",
      "16  libsystem_pthread.dylib             0x00000001a3d20e2c thread_start + 8\n",
      "\n"
     ]
    },
    {
     "name": "stderr",
     "output_type": "stream",
     "text": [
      "  2%|▏         | 469/30819 [43:12<48:51:55,  5.80s/it]"
     ]
    },
    {
     "name": "stdout",
     "output_type": "stream",
     "text": [
      "Message: no such element: Unable to locate element: {\"method\":\"css selector\",\"selector\":\".prose\"}\n",
      "  (Session info: chrome=112.0.5615.137)\n",
      "Stacktrace:\n",
      "0   chromedriver                        0x000000010491ed3c chromedriver + 4222268\n",
      "1   chromedriver                        0x00000001048a58e8 chromedriver + 3725544\n",
      "2   chromedriver                        0x000000010455bda4 chromedriver + 277924\n",
      "3   chromedriver                        0x00000001045971b8 chromedriver + 520632\n",
      "4   chromedriver                        0x00000001045cf618 chromedriver + 751128\n",
      "5   chromedriver                        0x00000001045898f0 chromedriver + 465136\n",
      "6   chromedriver                        0x000000010458a974 chromedriver + 469364\n",
      "7   chromedriver                        0x00000001048ef788 chromedriver + 4028296\n",
      "8   chromedriver                        0x00000001048f3c1c chromedriver + 4045852\n",
      "9   chromedriver                        0x00000001048f9c98 chromedriver + 4070552\n",
      "10  chromedriver                        0x00000001048f48d8 chromedriver + 4049112\n",
      "11  chromedriver                        0x00000001048cbd84 chromedriver + 3882372\n",
      "12  chromedriver                        0x0000000104912720 chromedriver + 4171552\n",
      "13  chromedriver                        0x0000000104912878 chromedriver + 4171896\n",
      "14  chromedriver                        0x0000000104926014 chromedriver + 4251668\n",
      "15  libsystem_pthread.dylib             0x00000001a3d2606c _pthread_start + 148\n",
      "16  libsystem_pthread.dylib             0x00000001a3d20e2c thread_start + 8\n",
      "\n"
     ]
    },
    {
     "name": "stderr",
     "output_type": "stream",
     "text": [
      "  2%|▏         | 470/30819 [43:18<49:58:55,  5.93s/it]"
     ]
    },
    {
     "name": "stdout",
     "output_type": "stream",
     "text": [
      "Message: no such element: Unable to locate element: {\"method\":\"css selector\",\"selector\":\".prose\"}\n",
      "  (Session info: chrome=112.0.5615.137)\n",
      "Stacktrace:\n",
      "0   chromedriver                        0x000000010491ed3c chromedriver + 4222268\n",
      "1   chromedriver                        0x00000001048a58e8 chromedriver + 3725544\n",
      "2   chromedriver                        0x000000010455bda4 chromedriver + 277924\n",
      "3   chromedriver                        0x00000001045971b8 chromedriver + 520632\n",
      "4   chromedriver                        0x00000001045cf618 chromedriver + 751128\n",
      "5   chromedriver                        0x00000001045898f0 chromedriver + 465136\n",
      "6   chromedriver                        0x000000010458a974 chromedriver + 469364\n",
      "7   chromedriver                        0x00000001048ef788 chromedriver + 4028296\n",
      "8   chromedriver                        0x00000001048f3c1c chromedriver + 4045852\n",
      "9   chromedriver                        0x00000001048f9c98 chromedriver + 4070552\n",
      "10  chromedriver                        0x00000001048f48d8 chromedriver + 4049112\n",
      "11  chromedriver                        0x00000001048cbd84 chromedriver + 3882372\n",
      "12  chromedriver                        0x0000000104912720 chromedriver + 4171552\n",
      "13  chromedriver                        0x0000000104912878 chromedriver + 4171896\n",
      "14  chromedriver                        0x0000000104926014 chromedriver + 4251668\n",
      "15  libsystem_pthread.dylib             0x00000001a3d2606c _pthread_start + 148\n",
      "16  libsystem_pthread.dylib             0x00000001a3d20e2c thread_start + 8\n",
      "\n"
     ]
    },
    {
     "name": "stderr",
     "output_type": "stream",
     "text": [
      "  2%|▏         | 471/30819 [43:25<50:47:18,  6.02s/it]"
     ]
    },
    {
     "name": "stdout",
     "output_type": "stream",
     "text": [
      "Message: no such element: Unable to locate element: {\"method\":\"css selector\",\"selector\":\".prose\"}\n",
      "  (Session info: chrome=112.0.5615.137)\n",
      "Stacktrace:\n",
      "0   chromedriver                        0x000000010491ed3c chromedriver + 4222268\n",
      "1   chromedriver                        0x00000001048a58e8 chromedriver + 3725544\n",
      "2   chromedriver                        0x000000010455bda4 chromedriver + 277924\n",
      "3   chromedriver                        0x00000001045971b8 chromedriver + 520632\n",
      "4   chromedriver                        0x00000001045cf618 chromedriver + 751128\n",
      "5   chromedriver                        0x00000001045898f0 chromedriver + 465136\n",
      "6   chromedriver                        0x000000010458a974 chromedriver + 469364\n",
      "7   chromedriver                        0x00000001048ef788 chromedriver + 4028296\n",
      "8   chromedriver                        0x00000001048f3c1c chromedriver + 4045852\n",
      "9   chromedriver                        0x00000001048f9c98 chromedriver + 4070552\n",
      "10  chromedriver                        0x00000001048f48d8 chromedriver + 4049112\n",
      "11  chromedriver                        0x00000001048cbd84 chromedriver + 3882372\n",
      "12  chromedriver                        0x0000000104912720 chromedriver + 4171552\n",
      "13  chromedriver                        0x0000000104912878 chromedriver + 4171896\n",
      "14  chromedriver                        0x0000000104926014 chromedriver + 4251668\n",
      "15  libsystem_pthread.dylib             0x00000001a3d2606c _pthread_start + 148\n",
      "16  libsystem_pthread.dylib             0x00000001a3d20e2c thread_start + 8\n",
      "\n"
     ]
    },
    {
     "name": "stderr",
     "output_type": "stream",
     "text": [
      "  2%|▏         | 472/30819 [43:30<48:51:10,  5.80s/it]"
     ]
    },
    {
     "name": "stdout",
     "output_type": "stream",
     "text": [
      "Message: no such element: Unable to locate element: {\"method\":\"css selector\",\"selector\":\".prose\"}\n",
      "  (Session info: chrome=112.0.5615.137)\n",
      "Stacktrace:\n",
      "0   chromedriver                        0x000000010491ed3c chromedriver + 4222268\n",
      "1   chromedriver                        0x00000001048a58e8 chromedriver + 3725544\n",
      "2   chromedriver                        0x000000010455bda4 chromedriver + 277924\n",
      "3   chromedriver                        0x00000001045971b8 chromedriver + 520632\n",
      "4   chromedriver                        0x00000001045cf618 chromedriver + 751128\n",
      "5   chromedriver                        0x00000001045898f0 chromedriver + 465136\n",
      "6   chromedriver                        0x000000010458a974 chromedriver + 469364\n",
      "7   chromedriver                        0x00000001048ef788 chromedriver + 4028296\n",
      "8   chromedriver                        0x00000001048f3c1c chromedriver + 4045852\n",
      "9   chromedriver                        0x00000001048f9c98 chromedriver + 4070552\n",
      "10  chromedriver                        0x00000001048f48d8 chromedriver + 4049112\n",
      "11  chromedriver                        0x00000001048cbd84 chromedriver + 3882372\n",
      "12  chromedriver                        0x0000000104912720 chromedriver + 4171552\n",
      "13  chromedriver                        0x0000000104912878 chromedriver + 4171896\n",
      "14  chromedriver                        0x0000000104926014 chromedriver + 4251668\n",
      "15  libsystem_pthread.dylib             0x00000001a3d2606c _pthread_start + 148\n",
      "16  libsystem_pthread.dylib             0x00000001a3d20e2c thread_start + 8\n",
      "\n"
     ]
    },
    {
     "name": "stderr",
     "output_type": "stream",
     "text": [
      "  2%|▏         | 473/30819 [43:35<47:28:35,  5.63s/it]"
     ]
    },
    {
     "name": "stdout",
     "output_type": "stream",
     "text": [
      "Message: no such element: Unable to locate element: {\"method\":\"css selector\",\"selector\":\".prose\"}\n",
      "  (Session info: chrome=112.0.5615.137)\n",
      "Stacktrace:\n",
      "0   chromedriver                        0x000000010491ed3c chromedriver + 4222268\n",
      "1   chromedriver                        0x00000001048a58e8 chromedriver + 3725544\n",
      "2   chromedriver                        0x000000010455bda4 chromedriver + 277924\n",
      "3   chromedriver                        0x00000001045971b8 chromedriver + 520632\n",
      "4   chromedriver                        0x00000001045cf618 chromedriver + 751128\n",
      "5   chromedriver                        0x00000001045898f0 chromedriver + 465136\n",
      "6   chromedriver                        0x000000010458a974 chromedriver + 469364\n",
      "7   chromedriver                        0x00000001048ef788 chromedriver + 4028296\n",
      "8   chromedriver                        0x00000001048f3c1c chromedriver + 4045852\n",
      "9   chromedriver                        0x00000001048f9c98 chromedriver + 4070552\n",
      "10  chromedriver                        0x00000001048f48d8 chromedriver + 4049112\n",
      "11  chromedriver                        0x00000001048cbd84 chromedriver + 3882372\n",
      "12  chromedriver                        0x0000000104912720 chromedriver + 4171552\n",
      "13  chromedriver                        0x0000000104912878 chromedriver + 4171896\n",
      "14  chromedriver                        0x0000000104926014 chromedriver + 4251668\n",
      "15  libsystem_pthread.dylib             0x00000001a3d2606c _pthread_start + 148\n",
      "16  libsystem_pthread.dylib             0x00000001a3d20e2c thread_start + 8\n",
      "\n"
     ]
    },
    {
     "name": "stderr",
     "output_type": "stream",
     "text": [
      "  2%|▏         | 479/30819 [44:09<46:07:50,  5.47s/it]"
     ]
    },
    {
     "name": "stdout",
     "output_type": "stream",
     "text": [
      "Message: no such element: Unable to locate element: {\"method\":\"css selector\",\"selector\":\".prose\"}\n",
      "  (Session info: chrome=112.0.5615.137)\n",
      "Stacktrace:\n",
      "0   chromedriver                        0x000000010491ed3c chromedriver + 4222268\n",
      "1   chromedriver                        0x00000001048a58e8 chromedriver + 3725544\n",
      "2   chromedriver                        0x000000010455bda4 chromedriver + 277924\n",
      "3   chromedriver                        0x00000001045971b8 chromedriver + 520632\n",
      "4   chromedriver                        0x00000001045cf618 chromedriver + 751128\n",
      "5   chromedriver                        0x00000001045898f0 chromedriver + 465136\n",
      "6   chromedriver                        0x000000010458a974 chromedriver + 469364\n",
      "7   chromedriver                        0x00000001048ef788 chromedriver + 4028296\n",
      "8   chromedriver                        0x00000001048f3c1c chromedriver + 4045852\n",
      "9   chromedriver                        0x00000001048f9c98 chromedriver + 4070552\n",
      "10  chromedriver                        0x00000001048f48d8 chromedriver + 4049112\n",
      "11  chromedriver                        0x00000001048cbd84 chromedriver + 3882372\n",
      "12  chromedriver                        0x0000000104912720 chromedriver + 4171552\n",
      "13  chromedriver                        0x0000000104912878 chromedriver + 4171896\n",
      "14  chromedriver                        0x0000000104926014 chromedriver + 4251668\n",
      "15  libsystem_pthread.dylib             0x00000001a3d2606c _pthread_start + 148\n",
      "16  libsystem_pthread.dylib             0x00000001a3d20e2c thread_start + 8\n",
      "\n"
     ]
    },
    {
     "name": "stderr",
     "output_type": "stream",
     "text": [
      "  2%|▏         | 480/30819 [44:14<43:01:18,  5.10s/it]"
     ]
    },
    {
     "name": "stdout",
     "output_type": "stream",
     "text": [
      "Message: no such element: Unable to locate element: {\"method\":\"css selector\",\"selector\":\".prose\"}\n",
      "  (Session info: chrome=112.0.5615.137)\n",
      "Stacktrace:\n",
      "0   chromedriver                        0x000000010491ed3c chromedriver + 4222268\n",
      "1   chromedriver                        0x00000001048a58e8 chromedriver + 3725544\n",
      "2   chromedriver                        0x000000010455bda4 chromedriver + 277924\n",
      "3   chromedriver                        0x00000001045971b8 chromedriver + 520632\n",
      "4   chromedriver                        0x00000001045cf618 chromedriver + 751128\n",
      "5   chromedriver                        0x00000001045898f0 chromedriver + 465136\n",
      "6   chromedriver                        0x000000010458a974 chromedriver + 469364\n",
      "7   chromedriver                        0x00000001048ef788 chromedriver + 4028296\n",
      "8   chromedriver                        0x00000001048f3c1c chromedriver + 4045852\n",
      "9   chromedriver                        0x00000001048f9c98 chromedriver + 4070552\n",
      "10  chromedriver                        0x00000001048f48d8 chromedriver + 4049112\n",
      "11  chromedriver                        0x00000001048cbd84 chromedriver + 3882372\n",
      "12  chromedriver                        0x0000000104912720 chromedriver + 4171552\n",
      "13  chromedriver                        0x0000000104912878 chromedriver + 4171896\n",
      "14  chromedriver                        0x0000000104926014 chromedriver + 4251668\n",
      "15  libsystem_pthread.dylib             0x00000001a3d2606c _pthread_start + 148\n",
      "16  libsystem_pthread.dylib             0x00000001a3d20e2c thread_start + 8\n",
      "\n"
     ]
    },
    {
     "name": "stderr",
     "output_type": "stream",
     "text": [
      "  2%|▏         | 481/30819 [44:20<45:54:21,  5.45s/it]"
     ]
    },
    {
     "name": "stdout",
     "output_type": "stream",
     "text": [
      "Message: no such element: Unable to locate element: {\"method\":\"css selector\",\"selector\":\".prose\"}\n",
      "  (Session info: chrome=112.0.5615.137)\n",
      "Stacktrace:\n",
      "0   chromedriver                        0x000000010491ed3c chromedriver + 4222268\n",
      "1   chromedriver                        0x00000001048a58e8 chromedriver + 3725544\n",
      "2   chromedriver                        0x000000010455bda4 chromedriver + 277924\n",
      "3   chromedriver                        0x00000001045971b8 chromedriver + 520632\n",
      "4   chromedriver                        0x00000001045cf618 chromedriver + 751128\n",
      "5   chromedriver                        0x00000001045898f0 chromedriver + 465136\n",
      "6   chromedriver                        0x000000010458a974 chromedriver + 469364\n",
      "7   chromedriver                        0x00000001048ef788 chromedriver + 4028296\n",
      "8   chromedriver                        0x00000001048f3c1c chromedriver + 4045852\n",
      "9   chromedriver                        0x00000001048f9c98 chromedriver + 4070552\n",
      "10  chromedriver                        0x00000001048f48d8 chromedriver + 4049112\n",
      "11  chromedriver                        0x00000001048cbd84 chromedriver + 3882372\n",
      "12  chromedriver                        0x0000000104912720 chromedriver + 4171552\n",
      "13  chromedriver                        0x0000000104912878 chromedriver + 4171896\n",
      "14  chromedriver                        0x0000000104926014 chromedriver + 4251668\n",
      "15  libsystem_pthread.dylib             0x00000001a3d2606c _pthread_start + 148\n",
      "16  libsystem_pthread.dylib             0x00000001a3d20e2c thread_start + 8\n",
      "\n"
     ]
    },
    {
     "name": "stderr",
     "output_type": "stream",
     "text": [
      "  2%|▏         | 482/30819 [44:26<47:57:14,  5.69s/it]"
     ]
    },
    {
     "name": "stdout",
     "output_type": "stream",
     "text": [
      "Message: no such element: Unable to locate element: {\"method\":\"css selector\",\"selector\":\".prose\"}\n",
      "  (Session info: chrome=112.0.5615.137)\n",
      "Stacktrace:\n",
      "0   chromedriver                        0x000000010491ed3c chromedriver + 4222268\n",
      "1   chromedriver                        0x00000001048a58e8 chromedriver + 3725544\n",
      "2   chromedriver                        0x000000010455bda4 chromedriver + 277924\n",
      "3   chromedriver                        0x00000001045971b8 chromedriver + 520632\n",
      "4   chromedriver                        0x00000001045cf618 chromedriver + 751128\n",
      "5   chromedriver                        0x00000001045898f0 chromedriver + 465136\n",
      "6   chromedriver                        0x000000010458a974 chromedriver + 469364\n",
      "7   chromedriver                        0x00000001048ef788 chromedriver + 4028296\n",
      "8   chromedriver                        0x00000001048f3c1c chromedriver + 4045852\n",
      "9   chromedriver                        0x00000001048f9c98 chromedriver + 4070552\n",
      "10  chromedriver                        0x00000001048f48d8 chromedriver + 4049112\n",
      "11  chromedriver                        0x00000001048cbd84 chromedriver + 3882372\n",
      "12  chromedriver                        0x0000000104912720 chromedriver + 4171552\n",
      "13  chromedriver                        0x0000000104912878 chromedriver + 4171896\n",
      "14  chromedriver                        0x0000000104926014 chromedriver + 4251668\n",
      "15  libsystem_pthread.dylib             0x00000001a3d2606c _pthread_start + 148\n",
      "16  libsystem_pthread.dylib             0x00000001a3d20e2c thread_start + 8\n",
      "\n"
     ]
    },
    {
     "name": "stderr",
     "output_type": "stream",
     "text": [
      "  2%|▏         | 483/30819 [44:30<44:22:01,  5.27s/it]"
     ]
    },
    {
     "name": "stdout",
     "output_type": "stream",
     "text": [
      "Message: no such element: Unable to locate element: {\"method\":\"css selector\",\"selector\":\".prose\"}\n",
      "  (Session info: chrome=112.0.5615.137)\n",
      "Stacktrace:\n",
      "0   chromedriver                        0x000000010491ed3c chromedriver + 4222268\n",
      "1   chromedriver                        0x00000001048a58e8 chromedriver + 3725544\n",
      "2   chromedriver                        0x000000010455bda4 chromedriver + 277924\n",
      "3   chromedriver                        0x00000001045971b8 chromedriver + 520632\n",
      "4   chromedriver                        0x00000001045cf618 chromedriver + 751128\n",
      "5   chromedriver                        0x00000001045898f0 chromedriver + 465136\n",
      "6   chromedriver                        0x000000010458a974 chromedriver + 469364\n",
      "7   chromedriver                        0x00000001048ef788 chromedriver + 4028296\n",
      "8   chromedriver                        0x00000001048f3c1c chromedriver + 4045852\n",
      "9   chromedriver                        0x00000001048f9c98 chromedriver + 4070552\n",
      "10  chromedriver                        0x00000001048f48d8 chromedriver + 4049112\n",
      "11  chromedriver                        0x00000001048cbd84 chromedriver + 3882372\n",
      "12  chromedriver                        0x0000000104912720 chromedriver + 4171552\n",
      "13  chromedriver                        0x0000000104912878 chromedriver + 4171896\n",
      "14  chromedriver                        0x0000000104926014 chromedriver + 4251668\n",
      "15  libsystem_pthread.dylib             0x00000001a3d2606c _pthread_start + 148\n",
      "16  libsystem_pthread.dylib             0x00000001a3d20e2c thread_start + 8\n",
      "\n"
     ]
    },
    {
     "name": "stderr",
     "output_type": "stream",
     "text": [
      "  2%|▏         | 484/30819 [44:37<46:52:17,  5.56s/it]"
     ]
    },
    {
     "name": "stdout",
     "output_type": "stream",
     "text": [
      "Message: no such element: Unable to locate element: {\"method\":\"css selector\",\"selector\":\".prose\"}\n",
      "  (Session info: chrome=112.0.5615.137)\n",
      "Stacktrace:\n",
      "0   chromedriver                        0x000000010491ed3c chromedriver + 4222268\n",
      "1   chromedriver                        0x00000001048a58e8 chromedriver + 3725544\n",
      "2   chromedriver                        0x000000010455bda4 chromedriver + 277924\n",
      "3   chromedriver                        0x00000001045971b8 chromedriver + 520632\n",
      "4   chromedriver                        0x00000001045cf618 chromedriver + 751128\n",
      "5   chromedriver                        0x00000001045898f0 chromedriver + 465136\n",
      "6   chromedriver                        0x000000010458a974 chromedriver + 469364\n",
      "7   chromedriver                        0x00000001048ef788 chromedriver + 4028296\n",
      "8   chromedriver                        0x00000001048f3c1c chromedriver + 4045852\n",
      "9   chromedriver                        0x00000001048f9c98 chromedriver + 4070552\n",
      "10  chromedriver                        0x00000001048f48d8 chromedriver + 4049112\n",
      "11  chromedriver                        0x00000001048cbd84 chromedriver + 3882372\n",
      "12  chromedriver                        0x0000000104912720 chromedriver + 4171552\n",
      "13  chromedriver                        0x0000000104912878 chromedriver + 4171896\n",
      "14  chromedriver                        0x0000000104926014 chromedriver + 4251668\n",
      "15  libsystem_pthread.dylib             0x00000001a3d2606c _pthread_start + 148\n",
      "16  libsystem_pthread.dylib             0x00000001a3d20e2c thread_start + 8\n",
      "\n"
     ]
    },
    {
     "name": "stderr",
     "output_type": "stream",
     "text": [
      "  2%|▏         | 493/30819 [45:29<49:08:32,  5.83s/it]"
     ]
    },
    {
     "name": "stdout",
     "output_type": "stream",
     "text": [
      "Message: no such element: Unable to locate element: {\"method\":\"css selector\",\"selector\":\".prose\"}\n",
      "  (Session info: chrome=112.0.5615.137)\n",
      "Stacktrace:\n",
      "0   chromedriver                        0x000000010491ed3c chromedriver + 4222268\n",
      "1   chromedriver                        0x00000001048a58e8 chromedriver + 3725544\n",
      "2   chromedriver                        0x000000010455bda4 chromedriver + 277924\n",
      "3   chromedriver                        0x00000001045971b8 chromedriver + 520632\n",
      "4   chromedriver                        0x00000001045cf618 chromedriver + 751128\n",
      "5   chromedriver                        0x00000001045898f0 chromedriver + 465136\n",
      "6   chromedriver                        0x000000010458a974 chromedriver + 469364\n",
      "7   chromedriver                        0x00000001048ef788 chromedriver + 4028296\n",
      "8   chromedriver                        0x00000001048f3c1c chromedriver + 4045852\n",
      "9   chromedriver                        0x00000001048f9c98 chromedriver + 4070552\n",
      "10  chromedriver                        0x00000001048f48d8 chromedriver + 4049112\n",
      "11  chromedriver                        0x00000001048cbd84 chromedriver + 3882372\n",
      "12  chromedriver                        0x0000000104912720 chromedriver + 4171552\n",
      "13  chromedriver                        0x0000000104912878 chromedriver + 4171896\n",
      "14  chromedriver                        0x0000000104926014 chromedriver + 4251668\n",
      "15  libsystem_pthread.dylib             0x00000001a3d2606c _pthread_start + 148\n",
      "16  libsystem_pthread.dylib             0x00000001a3d20e2c thread_start + 8\n",
      "\n"
     ]
    },
    {
     "name": "stderr",
     "output_type": "stream",
     "text": [
      "  2%|▏         | 494/30819 [45:34<47:40:24,  5.66s/it]"
     ]
    },
    {
     "name": "stdout",
     "output_type": "stream",
     "text": [
      "Message: no such element: Unable to locate element: {\"method\":\"css selector\",\"selector\":\".prose\"}\n",
      "  (Session info: chrome=112.0.5615.137)\n",
      "Stacktrace:\n",
      "0   chromedriver                        0x000000010491ed3c chromedriver + 4222268\n",
      "1   chromedriver                        0x00000001048a58e8 chromedriver + 3725544\n",
      "2   chromedriver                        0x000000010455bda4 chromedriver + 277924\n",
      "3   chromedriver                        0x00000001045971b8 chromedriver + 520632\n",
      "4   chromedriver                        0x00000001045cf618 chromedriver + 751128\n",
      "5   chromedriver                        0x00000001045898f0 chromedriver + 465136\n",
      "6   chromedriver                        0x000000010458a974 chromedriver + 469364\n",
      "7   chromedriver                        0x00000001048ef788 chromedriver + 4028296\n",
      "8   chromedriver                        0x00000001048f3c1c chromedriver + 4045852\n",
      "9   chromedriver                        0x00000001048f9c98 chromedriver + 4070552\n",
      "10  chromedriver                        0x00000001048f48d8 chromedriver + 4049112\n",
      "11  chromedriver                        0x00000001048cbd84 chromedriver + 3882372\n",
      "12  chromedriver                        0x0000000104912720 chromedriver + 4171552\n",
      "13  chromedriver                        0x0000000104912878 chromedriver + 4171896\n",
      "14  chromedriver                        0x0000000104926014 chromedriver + 4251668\n",
      "15  libsystem_pthread.dylib             0x00000001a3d2606c _pthread_start + 148\n",
      "16  libsystem_pthread.dylib             0x00000001a3d20e2c thread_start + 8\n",
      "\n"
     ]
    },
    {
     "name": "stderr",
     "output_type": "stream",
     "text": [
      "  2%|▏         | 502/30819 [46:20<45:29:47,  5.40s/it]"
     ]
    },
    {
     "name": "stdout",
     "output_type": "stream",
     "text": [
      "Message: no such element: Unable to locate element: {\"method\":\"css selector\",\"selector\":\".prose\"}\n",
      "  (Session info: chrome=112.0.5615.137)\n",
      "Stacktrace:\n",
      "0   chromedriver                        0x000000010491ed3c chromedriver + 4222268\n",
      "1   chromedriver                        0x00000001048a58e8 chromedriver + 3725544\n",
      "2   chromedriver                        0x000000010455bda4 chromedriver + 277924\n",
      "3   chromedriver                        0x00000001045971b8 chromedriver + 520632\n",
      "4   chromedriver                        0x00000001045cf618 chromedriver + 751128\n",
      "5   chromedriver                        0x00000001045898f0 chromedriver + 465136\n",
      "6   chromedriver                        0x000000010458a974 chromedriver + 469364\n",
      "7   chromedriver                        0x00000001048ef788 chromedriver + 4028296\n",
      "8   chromedriver                        0x00000001048f3c1c chromedriver + 4045852\n",
      "9   chromedriver                        0x00000001048f9c98 chromedriver + 4070552\n",
      "10  chromedriver                        0x00000001048f48d8 chromedriver + 4049112\n",
      "11  chromedriver                        0x00000001048cbd84 chromedriver + 3882372\n",
      "12  chromedriver                        0x0000000104912720 chromedriver + 4171552\n",
      "13  chromedriver                        0x0000000104912878 chromedriver + 4171896\n",
      "14  chromedriver                        0x0000000104926014 chromedriver + 4251668\n",
      "15  libsystem_pthread.dylib             0x00000001a3d2606c _pthread_start + 148\n",
      "16  libsystem_pthread.dylib             0x00000001a3d20e2c thread_start + 8\n",
      "\n"
     ]
    },
    {
     "name": "stderr",
     "output_type": "stream",
     "text": [
      "  2%|▏         | 503/30819 [46:24<42:27:36,  5.04s/it]"
     ]
    },
    {
     "name": "stdout",
     "output_type": "stream",
     "text": [
      "Message: no such element: Unable to locate element: {\"method\":\"css selector\",\"selector\":\".prose\"}\n",
      "  (Session info: chrome=112.0.5615.137)\n",
      "Stacktrace:\n",
      "0   chromedriver                        0x000000010491ed3c chromedriver + 4222268\n",
      "1   chromedriver                        0x00000001048a58e8 chromedriver + 3725544\n",
      "2   chromedriver                        0x000000010455bda4 chromedriver + 277924\n",
      "3   chromedriver                        0x00000001045971b8 chromedriver + 520632\n",
      "4   chromedriver                        0x00000001045cf618 chromedriver + 751128\n",
      "5   chromedriver                        0x00000001045898f0 chromedriver + 465136\n",
      "6   chromedriver                        0x000000010458a974 chromedriver + 469364\n",
      "7   chromedriver                        0x00000001048ef788 chromedriver + 4028296\n",
      "8   chromedriver                        0x00000001048f3c1c chromedriver + 4045852\n",
      "9   chromedriver                        0x00000001048f9c98 chromedriver + 4070552\n",
      "10  chromedriver                        0x00000001048f48d8 chromedriver + 4049112\n",
      "11  chromedriver                        0x00000001048cbd84 chromedriver + 3882372\n",
      "12  chromedriver                        0x0000000104912720 chromedriver + 4171552\n",
      "13  chromedriver                        0x0000000104912878 chromedriver + 4171896\n",
      "14  chromedriver                        0x0000000104926014 chromedriver + 4251668\n",
      "15  libsystem_pthread.dylib             0x00000001a3d2606c _pthread_start + 148\n",
      "16  libsystem_pthread.dylib             0x00000001a3d20e2c thread_start + 8\n",
      "\n"
     ]
    },
    {
     "name": "stderr",
     "output_type": "stream",
     "text": [
      "  2%|▏         | 504/30819 [46:30<45:31:29,  5.41s/it]"
     ]
    },
    {
     "name": "stdout",
     "output_type": "stream",
     "text": [
      "Message: no such element: Unable to locate element: {\"method\":\"css selector\",\"selector\":\".prose\"}\n",
      "  (Session info: chrome=112.0.5615.137)\n",
      "Stacktrace:\n",
      "0   chromedriver                        0x000000010491ed3c chromedriver + 4222268\n",
      "1   chromedriver                        0x00000001048a58e8 chromedriver + 3725544\n",
      "2   chromedriver                        0x000000010455bda4 chromedriver + 277924\n",
      "3   chromedriver                        0x00000001045971b8 chromedriver + 520632\n",
      "4   chromedriver                        0x00000001045cf618 chromedriver + 751128\n",
      "5   chromedriver                        0x00000001045898f0 chromedriver + 465136\n",
      "6   chromedriver                        0x000000010458a974 chromedriver + 469364\n",
      "7   chromedriver                        0x00000001048ef788 chromedriver + 4028296\n",
      "8   chromedriver                        0x00000001048f3c1c chromedriver + 4045852\n",
      "9   chromedriver                        0x00000001048f9c98 chromedriver + 4070552\n",
      "10  chromedriver                        0x00000001048f48d8 chromedriver + 4049112\n",
      "11  chromedriver                        0x00000001048cbd84 chromedriver + 3882372\n",
      "12  chromedriver                        0x0000000104912720 chromedriver + 4171552\n",
      "13  chromedriver                        0x0000000104912878 chromedriver + 4171896\n",
      "14  chromedriver                        0x0000000104926014 chromedriver + 4251668\n",
      "15  libsystem_pthread.dylib             0x00000001a3d2606c _pthread_start + 148\n",
      "16  libsystem_pthread.dylib             0x00000001a3d20e2c thread_start + 8\n",
      "\n"
     ]
    },
    {
     "name": "stderr",
     "output_type": "stream",
     "text": [
      "  2%|▏         | 505/30819 [46:35<42:37:03,  5.06s/it]"
     ]
    },
    {
     "name": "stdout",
     "output_type": "stream",
     "text": [
      "Message: no such element: Unable to locate element: {\"method\":\"css selector\",\"selector\":\".prose\"}\n",
      "  (Session info: chrome=112.0.5615.137)\n",
      "Stacktrace:\n",
      "0   chromedriver                        0x000000010491ed3c chromedriver + 4222268\n",
      "1   chromedriver                        0x00000001048a58e8 chromedriver + 3725544\n",
      "2   chromedriver                        0x000000010455bda4 chromedriver + 277924\n",
      "3   chromedriver                        0x00000001045971b8 chromedriver + 520632\n",
      "4   chromedriver                        0x00000001045cf618 chromedriver + 751128\n",
      "5   chromedriver                        0x00000001045898f0 chromedriver + 465136\n",
      "6   chromedriver                        0x000000010458a974 chromedriver + 469364\n",
      "7   chromedriver                        0x00000001048ef788 chromedriver + 4028296\n",
      "8   chromedriver                        0x00000001048f3c1c chromedriver + 4045852\n",
      "9   chromedriver                        0x00000001048f9c98 chromedriver + 4070552\n",
      "10  chromedriver                        0x00000001048f48d8 chromedriver + 4049112\n",
      "11  chromedriver                        0x00000001048cbd84 chromedriver + 3882372\n",
      "12  chromedriver                        0x0000000104912720 chromedriver + 4171552\n",
      "13  chromedriver                        0x0000000104912878 chromedriver + 4171896\n",
      "14  chromedriver                        0x0000000104926014 chromedriver + 4251668\n",
      "15  libsystem_pthread.dylib             0x00000001a3d2606c _pthread_start + 148\n",
      "16  libsystem_pthread.dylib             0x00000001a3d20e2c thread_start + 8\n",
      "\n"
     ]
    },
    {
     "name": "stderr",
     "output_type": "stream",
     "text": [
      "  2%|▏         | 509/30819 [47:01<52:36:38,  6.25s/it]"
     ]
    },
    {
     "name": "stdout",
     "output_type": "stream",
     "text": [
      "Message: no such element: Unable to locate element: {\"method\":\"css selector\",\"selector\":\".prose\"}\n",
      "  (Session info: chrome=112.0.5615.137)\n",
      "Stacktrace:\n",
      "0   chromedriver                        0x000000010491ed3c chromedriver + 4222268\n",
      "1   chromedriver                        0x00000001048a58e8 chromedriver + 3725544\n",
      "2   chromedriver                        0x000000010455bda4 chromedriver + 277924\n",
      "3   chromedriver                        0x00000001045971b8 chromedriver + 520632\n",
      "4   chromedriver                        0x00000001045cf618 chromedriver + 751128\n",
      "5   chromedriver                        0x00000001045898f0 chromedriver + 465136\n",
      "6   chromedriver                        0x000000010458a974 chromedriver + 469364\n",
      "7   chromedriver                        0x00000001048ef788 chromedriver + 4028296\n",
      "8   chromedriver                        0x00000001048f3c1c chromedriver + 4045852\n",
      "9   chromedriver                        0x00000001048f9c98 chromedriver + 4070552\n",
      "10  chromedriver                        0x00000001048f48d8 chromedriver + 4049112\n",
      "11  chromedriver                        0x00000001048cbd84 chromedriver + 3882372\n",
      "12  chromedriver                        0x0000000104912720 chromedriver + 4171552\n",
      "13  chromedriver                        0x0000000104912878 chromedriver + 4171896\n",
      "14  chromedriver                        0x0000000104926014 chromedriver + 4251668\n",
      "15  libsystem_pthread.dylib             0x00000001a3d2606c _pthread_start + 148\n",
      "16  libsystem_pthread.dylib             0x00000001a3d20e2c thread_start + 8\n",
      "\n"
     ]
    },
    {
     "name": "stderr",
     "output_type": "stream",
     "text": [
      "  2%|▏         | 510/30819 [47:05<47:32:07,  5.65s/it]"
     ]
    },
    {
     "name": "stdout",
     "output_type": "stream",
     "text": [
      "Message: no such element: Unable to locate element: {\"method\":\"css selector\",\"selector\":\".prose\"}\n",
      "  (Session info: chrome=112.0.5615.137)\n",
      "Stacktrace:\n",
      "0   chromedriver                        0x000000010491ed3c chromedriver + 4222268\n",
      "1   chromedriver                        0x00000001048a58e8 chromedriver + 3725544\n",
      "2   chromedriver                        0x000000010455bda4 chromedriver + 277924\n",
      "3   chromedriver                        0x00000001045971b8 chromedriver + 520632\n",
      "4   chromedriver                        0x00000001045cf618 chromedriver + 751128\n",
      "5   chromedriver                        0x00000001045898f0 chromedriver + 465136\n",
      "6   chromedriver                        0x000000010458a974 chromedriver + 469364\n",
      "7   chromedriver                        0x00000001048ef788 chromedriver + 4028296\n",
      "8   chromedriver                        0x00000001048f3c1c chromedriver + 4045852\n",
      "9   chromedriver                        0x00000001048f9c98 chromedriver + 4070552\n",
      "10  chromedriver                        0x00000001048f48d8 chromedriver + 4049112\n",
      "11  chromedriver                        0x00000001048cbd84 chromedriver + 3882372\n",
      "12  chromedriver                        0x0000000104912720 chromedriver + 4171552\n",
      "13  chromedriver                        0x0000000104912878 chromedriver + 4171896\n",
      "14  chromedriver                        0x0000000104926014 chromedriver + 4251668\n",
      "15  libsystem_pthread.dylib             0x00000001a3d2606c _pthread_start + 148\n",
      "16  libsystem_pthread.dylib             0x00000001a3d20e2c thread_start + 8\n",
      "\n"
     ]
    },
    {
     "name": "stderr",
     "output_type": "stream",
     "text": [
      "  2%|▏         | 511/30819 [47:09<44:00:21,  5.23s/it]"
     ]
    },
    {
     "name": "stdout",
     "output_type": "stream",
     "text": [
      "Message: no such element: Unable to locate element: {\"method\":\"css selector\",\"selector\":\".prose\"}\n",
      "  (Session info: chrome=112.0.5615.137)\n",
      "Stacktrace:\n",
      "0   chromedriver                        0x000000010491ed3c chromedriver + 4222268\n",
      "1   chromedriver                        0x00000001048a58e8 chromedriver + 3725544\n",
      "2   chromedriver                        0x000000010455bda4 chromedriver + 277924\n",
      "3   chromedriver                        0x00000001045971b8 chromedriver + 520632\n",
      "4   chromedriver                        0x00000001045cf618 chromedriver + 751128\n",
      "5   chromedriver                        0x00000001045898f0 chromedriver + 465136\n",
      "6   chromedriver                        0x000000010458a974 chromedriver + 469364\n",
      "7   chromedriver                        0x00000001048ef788 chromedriver + 4028296\n",
      "8   chromedriver                        0x00000001048f3c1c chromedriver + 4045852\n",
      "9   chromedriver                        0x00000001048f9c98 chromedriver + 4070552\n",
      "10  chromedriver                        0x00000001048f48d8 chromedriver + 4049112\n",
      "11  chromedriver                        0x00000001048cbd84 chromedriver + 3882372\n",
      "12  chromedriver                        0x0000000104912720 chromedriver + 4171552\n",
      "13  chromedriver                        0x0000000104912878 chromedriver + 4171896\n",
      "14  chromedriver                        0x0000000104926014 chromedriver + 4251668\n",
      "15  libsystem_pthread.dylib             0x00000001a3d2606c _pthread_start + 148\n",
      "16  libsystem_pthread.dylib             0x00000001a3d20e2c thread_start + 8\n",
      "\n"
     ]
    },
    {
     "name": "stderr",
     "output_type": "stream",
     "text": [
      "  2%|▏         | 512/30819 [47:15<44:06:04,  5.24s/it]"
     ]
    },
    {
     "name": "stdout",
     "output_type": "stream",
     "text": [
      "Message: no such element: Unable to locate element: {\"method\":\"css selector\",\"selector\":\".prose\"}\n",
      "  (Session info: chrome=112.0.5615.137)\n",
      "Stacktrace:\n",
      "0   chromedriver                        0x000000010491ed3c chromedriver + 4222268\n",
      "1   chromedriver                        0x00000001048a58e8 chromedriver + 3725544\n",
      "2   chromedriver                        0x000000010455bda4 chromedriver + 277924\n",
      "3   chromedriver                        0x00000001045971b8 chromedriver + 520632\n",
      "4   chromedriver                        0x00000001045cf618 chromedriver + 751128\n",
      "5   chromedriver                        0x00000001045898f0 chromedriver + 465136\n",
      "6   chromedriver                        0x000000010458a974 chromedriver + 469364\n",
      "7   chromedriver                        0x00000001048ef788 chromedriver + 4028296\n",
      "8   chromedriver                        0x00000001048f3c1c chromedriver + 4045852\n",
      "9   chromedriver                        0x00000001048f9c98 chromedriver + 4070552\n",
      "10  chromedriver                        0x00000001048f48d8 chromedriver + 4049112\n",
      "11  chromedriver                        0x00000001048cbd84 chromedriver + 3882372\n",
      "12  chromedriver                        0x0000000104912720 chromedriver + 4171552\n",
      "13  chromedriver                        0x0000000104912878 chromedriver + 4171896\n",
      "14  chromedriver                        0x0000000104926014 chromedriver + 4251668\n",
      "15  libsystem_pthread.dylib             0x00000001a3d2606c _pthread_start + 148\n",
      "16  libsystem_pthread.dylib             0x00000001a3d20e2c thread_start + 8\n",
      "\n"
     ]
    },
    {
     "name": "stderr",
     "output_type": "stream",
     "text": [
      "  2%|▏         | 513/30819 [47:20<44:10:49,  5.25s/it]"
     ]
    },
    {
     "name": "stdout",
     "output_type": "stream",
     "text": [
      "Message: no such element: Unable to locate element: {\"method\":\"css selector\",\"selector\":\".prose\"}\n",
      "  (Session info: chrome=112.0.5615.137)\n",
      "Stacktrace:\n",
      "0   chromedriver                        0x000000010491ed3c chromedriver + 4222268\n",
      "1   chromedriver                        0x00000001048a58e8 chromedriver + 3725544\n",
      "2   chromedriver                        0x000000010455bda4 chromedriver + 277924\n",
      "3   chromedriver                        0x00000001045971b8 chromedriver + 520632\n",
      "4   chromedriver                        0x00000001045cf618 chromedriver + 751128\n",
      "5   chromedriver                        0x00000001045898f0 chromedriver + 465136\n",
      "6   chromedriver                        0x000000010458a974 chromedriver + 469364\n",
      "7   chromedriver                        0x00000001048ef788 chromedriver + 4028296\n",
      "8   chromedriver                        0x00000001048f3c1c chromedriver + 4045852\n",
      "9   chromedriver                        0x00000001048f9c98 chromedriver + 4070552\n",
      "10  chromedriver                        0x00000001048f48d8 chromedriver + 4049112\n",
      "11  chromedriver                        0x00000001048cbd84 chromedriver + 3882372\n",
      "12  chromedriver                        0x0000000104912720 chromedriver + 4171552\n",
      "13  chromedriver                        0x0000000104912878 chromedriver + 4171896\n",
      "14  chromedriver                        0x0000000104926014 chromedriver + 4251668\n",
      "15  libsystem_pthread.dylib             0x00000001a3d2606c _pthread_start + 148\n",
      "16  libsystem_pthread.dylib             0x00000001a3d20e2c thread_start + 8\n",
      "\n"
     ]
    },
    {
     "name": "stderr",
     "output_type": "stream",
     "text": [
      "  2%|▏         | 514/30819 [47:24<41:51:26,  4.97s/it]"
     ]
    },
    {
     "name": "stdout",
     "output_type": "stream",
     "text": [
      "Message: no such element: Unable to locate element: {\"method\":\"css selector\",\"selector\":\".prose\"}\n",
      "  (Session info: chrome=112.0.5615.137)\n",
      "Stacktrace:\n",
      "0   chromedriver                        0x000000010491ed3c chromedriver + 4222268\n",
      "1   chromedriver                        0x00000001048a58e8 chromedriver + 3725544\n",
      "2   chromedriver                        0x000000010455bda4 chromedriver + 277924\n",
      "3   chromedriver                        0x00000001045971b8 chromedriver + 520632\n",
      "4   chromedriver                        0x00000001045cf618 chromedriver + 751128\n",
      "5   chromedriver                        0x00000001045898f0 chromedriver + 465136\n",
      "6   chromedriver                        0x000000010458a974 chromedriver + 469364\n",
      "7   chromedriver                        0x00000001048ef788 chromedriver + 4028296\n",
      "8   chromedriver                        0x00000001048f3c1c chromedriver + 4045852\n",
      "9   chromedriver                        0x00000001048f9c98 chromedriver + 4070552\n",
      "10  chromedriver                        0x00000001048f48d8 chromedriver + 4049112\n",
      "11  chromedriver                        0x00000001048cbd84 chromedriver + 3882372\n",
      "12  chromedriver                        0x0000000104912720 chromedriver + 4171552\n",
      "13  chromedriver                        0x0000000104912878 chromedriver + 4171896\n",
      "14  chromedriver                        0x0000000104926014 chromedriver + 4251668\n",
      "15  libsystem_pthread.dylib             0x00000001a3d2606c _pthread_start + 148\n",
      "16  libsystem_pthread.dylib             0x00000001a3d20e2c thread_start + 8\n",
      "\n"
     ]
    },
    {
     "name": "stderr",
     "output_type": "stream",
     "text": [
      "  2%|▏         | 515/30819 [47:31<45:07:32,  5.36s/it]"
     ]
    },
    {
     "name": "stdout",
     "output_type": "stream",
     "text": [
      "Message: no such element: Unable to locate element: {\"method\":\"css selector\",\"selector\":\".prose\"}\n",
      "  (Session info: chrome=112.0.5615.137)\n",
      "Stacktrace:\n",
      "0   chromedriver                        0x000000010491ed3c chromedriver + 4222268\n",
      "1   chromedriver                        0x00000001048a58e8 chromedriver + 3725544\n",
      "2   chromedriver                        0x000000010455bda4 chromedriver + 277924\n",
      "3   chromedriver                        0x00000001045971b8 chromedriver + 520632\n",
      "4   chromedriver                        0x00000001045cf618 chromedriver + 751128\n",
      "5   chromedriver                        0x00000001045898f0 chromedriver + 465136\n",
      "6   chromedriver                        0x000000010458a974 chromedriver + 469364\n",
      "7   chromedriver                        0x00000001048ef788 chromedriver + 4028296\n",
      "8   chromedriver                        0x00000001048f3c1c chromedriver + 4045852\n",
      "9   chromedriver                        0x00000001048f9c98 chromedriver + 4070552\n",
      "10  chromedriver                        0x00000001048f48d8 chromedriver + 4049112\n",
      "11  chromedriver                        0x00000001048cbd84 chromedriver + 3882372\n",
      "12  chromedriver                        0x0000000104912720 chromedriver + 4171552\n",
      "13  chromedriver                        0x0000000104912878 chromedriver + 4171896\n",
      "14  chromedriver                        0x0000000104926014 chromedriver + 4251668\n",
      "15  libsystem_pthread.dylib             0x00000001a3d2606c _pthread_start + 148\n",
      "16  libsystem_pthread.dylib             0x00000001a3d20e2c thread_start + 8\n",
      "\n"
     ]
    },
    {
     "name": "stderr",
     "output_type": "stream",
     "text": [
      "  2%|▏         | 516/30819 [47:37<47:28:11,  5.64s/it]"
     ]
    },
    {
     "name": "stdout",
     "output_type": "stream",
     "text": [
      "Message: no such element: Unable to locate element: {\"method\":\"css selector\",\"selector\":\".prose\"}\n",
      "  (Session info: chrome=112.0.5615.137)\n",
      "Stacktrace:\n",
      "0   chromedriver                        0x000000010491ed3c chromedriver + 4222268\n",
      "1   chromedriver                        0x00000001048a58e8 chromedriver + 3725544\n",
      "2   chromedriver                        0x000000010455bda4 chromedriver + 277924\n",
      "3   chromedriver                        0x00000001045971b8 chromedriver + 520632\n",
      "4   chromedriver                        0x00000001045cf618 chromedriver + 751128\n",
      "5   chromedriver                        0x00000001045898f0 chromedriver + 465136\n",
      "6   chromedriver                        0x000000010458a974 chromedriver + 469364\n",
      "7   chromedriver                        0x00000001048ef788 chromedriver + 4028296\n",
      "8   chromedriver                        0x00000001048f3c1c chromedriver + 4045852\n",
      "9   chromedriver                        0x00000001048f9c98 chromedriver + 4070552\n",
      "10  chromedriver                        0x00000001048f48d8 chromedriver + 4049112\n",
      "11  chromedriver                        0x00000001048cbd84 chromedriver + 3882372\n",
      "12  chromedriver                        0x0000000104912720 chromedriver + 4171552\n",
      "13  chromedriver                        0x0000000104912878 chromedriver + 4171896\n",
      "14  chromedriver                        0x0000000104926014 chromedriver + 4251668\n",
      "15  libsystem_pthread.dylib             0x00000001a3d2606c _pthread_start + 148\n",
      "16  libsystem_pthread.dylib             0x00000001a3d20e2c thread_start + 8\n",
      "\n"
     ]
    },
    {
     "name": "stderr",
     "output_type": "stream",
     "text": [
      "  2%|▏         | 522/30819 [48:11<46:51:28,  5.57s/it]"
     ]
    },
    {
     "name": "stdout",
     "output_type": "stream",
     "text": [
      "Message: no such element: Unable to locate element: {\"method\":\"css selector\",\"selector\":\".prose\"}\n",
      "  (Session info: chrome=112.0.5615.137)\n",
      "Stacktrace:\n",
      "0   chromedriver                        0x000000010491ed3c chromedriver + 4222268\n",
      "1   chromedriver                        0x00000001048a58e8 chromedriver + 3725544\n",
      "2   chromedriver                        0x000000010455bda4 chromedriver + 277924\n",
      "3   chromedriver                        0x00000001045971b8 chromedriver + 520632\n",
      "4   chromedriver                        0x00000001045cf618 chromedriver + 751128\n",
      "5   chromedriver                        0x00000001045898f0 chromedriver + 465136\n",
      "6   chromedriver                        0x000000010458a974 chromedriver + 469364\n",
      "7   chromedriver                        0x00000001048ef788 chromedriver + 4028296\n",
      "8   chromedriver                        0x00000001048f3c1c chromedriver + 4045852\n",
      "9   chromedriver                        0x00000001048f9c98 chromedriver + 4070552\n",
      "10  chromedriver                        0x00000001048f48d8 chromedriver + 4049112\n",
      "11  chromedriver                        0x00000001048cbd84 chromedriver + 3882372\n",
      "12  chromedriver                        0x0000000104912720 chromedriver + 4171552\n",
      "13  chromedriver                        0x0000000104912878 chromedriver + 4171896\n",
      "14  chromedriver                        0x0000000104926014 chromedriver + 4251668\n",
      "15  libsystem_pthread.dylib             0x00000001a3d2606c _pthread_start + 148\n",
      "16  libsystem_pthread.dylib             0x00000001a3d20e2c thread_start + 8\n",
      "\n"
     ]
    },
    {
     "name": "stderr",
     "output_type": "stream",
     "text": [
      "  2%|▏         | 523/30819 [48:17<48:33:37,  5.77s/it]"
     ]
    },
    {
     "name": "stdout",
     "output_type": "stream",
     "text": [
      "Message: no such element: Unable to locate element: {\"method\":\"css selector\",\"selector\":\".prose\"}\n",
      "  (Session info: chrome=112.0.5615.137)\n",
      "Stacktrace:\n",
      "0   chromedriver                        0x000000010491ed3c chromedriver + 4222268\n",
      "1   chromedriver                        0x00000001048a58e8 chromedriver + 3725544\n",
      "2   chromedriver                        0x000000010455bda4 chromedriver + 277924\n",
      "3   chromedriver                        0x00000001045971b8 chromedriver + 520632\n",
      "4   chromedriver                        0x00000001045cf618 chromedriver + 751128\n",
      "5   chromedriver                        0x00000001045898f0 chromedriver + 465136\n",
      "6   chromedriver                        0x000000010458a974 chromedriver + 469364\n",
      "7   chromedriver                        0x00000001048ef788 chromedriver + 4028296\n",
      "8   chromedriver                        0x00000001048f3c1c chromedriver + 4045852\n",
      "9   chromedriver                        0x00000001048f9c98 chromedriver + 4070552\n",
      "10  chromedriver                        0x00000001048f48d8 chromedriver + 4049112\n",
      "11  chromedriver                        0x00000001048cbd84 chromedriver + 3882372\n",
      "12  chromedriver                        0x0000000104912720 chromedriver + 4171552\n",
      "13  chromedriver                        0x0000000104912878 chromedriver + 4171896\n",
      "14  chromedriver                        0x0000000104926014 chromedriver + 4251668\n",
      "15  libsystem_pthread.dylib             0x00000001a3d2606c _pthread_start + 148\n",
      "16  libsystem_pthread.dylib             0x00000001a3d20e2c thread_start + 8\n",
      "\n"
     ]
    },
    {
     "name": "stderr",
     "output_type": "stream",
     "text": [
      "  2%|▏         | 524/30819 [48:23<47:14:10,  5.61s/it]"
     ]
    },
    {
     "name": "stdout",
     "output_type": "stream",
     "text": [
      "Message: no such element: Unable to locate element: {\"method\":\"css selector\",\"selector\":\".prose\"}\n",
      "  (Session info: chrome=112.0.5615.137)\n",
      "Stacktrace:\n",
      "0   chromedriver                        0x000000010491ed3c chromedriver + 4222268\n",
      "1   chromedriver                        0x00000001048a58e8 chromedriver + 3725544\n",
      "2   chromedriver                        0x000000010455bda4 chromedriver + 277924\n",
      "3   chromedriver                        0x00000001045971b8 chromedriver + 520632\n",
      "4   chromedriver                        0x00000001045cf618 chromedriver + 751128\n",
      "5   chromedriver                        0x00000001045898f0 chromedriver + 465136\n",
      "6   chromedriver                        0x000000010458a974 chromedriver + 469364\n",
      "7   chromedriver                        0x00000001048ef788 chromedriver + 4028296\n",
      "8   chromedriver                        0x00000001048f3c1c chromedriver + 4045852\n",
      "9   chromedriver                        0x00000001048f9c98 chromedriver + 4070552\n",
      "10  chromedriver                        0x00000001048f48d8 chromedriver + 4049112\n",
      "11  chromedriver                        0x00000001048cbd84 chromedriver + 3882372\n",
      "12  chromedriver                        0x0000000104912720 chromedriver + 4171552\n",
      "13  chromedriver                        0x0000000104912878 chromedriver + 4171896\n",
      "14  chromedriver                        0x0000000104926014 chromedriver + 4251668\n",
      "15  libsystem_pthread.dylib             0x00000001a3d2606c _pthread_start + 148\n",
      "16  libsystem_pthread.dylib             0x00000001a3d20e2c thread_start + 8\n",
      "\n"
     ]
    },
    {
     "name": "stderr",
     "output_type": "stream",
     "text": [
      "  2%|▏         | 525/30819 [48:29<48:51:11,  5.81s/it]"
     ]
    },
    {
     "name": "stdout",
     "output_type": "stream",
     "text": [
      "Message: no such element: Unable to locate element: {\"method\":\"css selector\",\"selector\":\".prose\"}\n",
      "  (Session info: chrome=112.0.5615.137)\n",
      "Stacktrace:\n",
      "0   chromedriver                        0x000000010491ed3c chromedriver + 4222268\n",
      "1   chromedriver                        0x00000001048a58e8 chromedriver + 3725544\n",
      "2   chromedriver                        0x000000010455bda4 chromedriver + 277924\n",
      "3   chromedriver                        0x00000001045971b8 chromedriver + 520632\n",
      "4   chromedriver                        0x00000001045cf618 chromedriver + 751128\n",
      "5   chromedriver                        0x00000001045898f0 chromedriver + 465136\n",
      "6   chromedriver                        0x000000010458a974 chromedriver + 469364\n",
      "7   chromedriver                        0x00000001048ef788 chromedriver + 4028296\n",
      "8   chromedriver                        0x00000001048f3c1c chromedriver + 4045852\n",
      "9   chromedriver                        0x00000001048f9c98 chromedriver + 4070552\n",
      "10  chromedriver                        0x00000001048f48d8 chromedriver + 4049112\n",
      "11  chromedriver                        0x00000001048cbd84 chromedriver + 3882372\n",
      "12  chromedriver                        0x0000000104912720 chromedriver + 4171552\n",
      "13  chromedriver                        0x0000000104912878 chromedriver + 4171896\n",
      "14  chromedriver                        0x0000000104926014 chromedriver + 4251668\n",
      "15  libsystem_pthread.dylib             0x00000001a3d2606c _pthread_start + 148\n",
      "16  libsystem_pthread.dylib             0x00000001a3d20e2c thread_start + 8\n",
      "\n"
     ]
    },
    {
     "name": "stderr",
     "output_type": "stream",
     "text": [
      "  2%|▏         | 526/30819 [48:35<50:00:29,  5.94s/it]"
     ]
    },
    {
     "name": "stdout",
     "output_type": "stream",
     "text": [
      "Message: no such element: Unable to locate element: {\"method\":\"css selector\",\"selector\":\".prose\"}\n",
      "  (Session info: chrome=112.0.5615.137)\n",
      "Stacktrace:\n",
      "0   chromedriver                        0x000000010491ed3c chromedriver + 4222268\n",
      "1   chromedriver                        0x00000001048a58e8 chromedriver + 3725544\n",
      "2   chromedriver                        0x000000010455bda4 chromedriver + 277924\n",
      "3   chromedriver                        0x00000001045971b8 chromedriver + 520632\n",
      "4   chromedriver                        0x00000001045cf618 chromedriver + 751128\n",
      "5   chromedriver                        0x00000001045898f0 chromedriver + 465136\n",
      "6   chromedriver                        0x000000010458a974 chromedriver + 469364\n",
      "7   chromedriver                        0x00000001048ef788 chromedriver + 4028296\n",
      "8   chromedriver                        0x00000001048f3c1c chromedriver + 4045852\n",
      "9   chromedriver                        0x00000001048f9c98 chromedriver + 4070552\n",
      "10  chromedriver                        0x00000001048f48d8 chromedriver + 4049112\n",
      "11  chromedriver                        0x00000001048cbd84 chromedriver + 3882372\n",
      "12  chromedriver                        0x0000000104912720 chromedriver + 4171552\n",
      "13  chromedriver                        0x0000000104912878 chromedriver + 4171896\n",
      "14  chromedriver                        0x0000000104926014 chromedriver + 4251668\n",
      "15  libsystem_pthread.dylib             0x00000001a3d2606c _pthread_start + 148\n",
      "16  libsystem_pthread.dylib             0x00000001a3d20e2c thread_start + 8\n",
      "\n"
     ]
    },
    {
     "name": "stderr",
     "output_type": "stream",
     "text": [
      "  2%|▏         | 533/30819 [49:08<39:24:32,  4.68s/it]"
     ]
    },
    {
     "name": "stdout",
     "output_type": "stream",
     "text": [
      "Message: no such element: Unable to locate element: {\"method\":\"css selector\",\"selector\":\".prose\"}\n",
      "  (Session info: chrome=112.0.5615.137)\n",
      "Stacktrace:\n",
      "0   chromedriver                        0x000000010491ed3c chromedriver + 4222268\n",
      "1   chromedriver                        0x00000001048a58e8 chromedriver + 3725544\n",
      "2   chromedriver                        0x000000010455bda4 chromedriver + 277924\n",
      "3   chromedriver                        0x00000001045971b8 chromedriver + 520632\n",
      "4   chromedriver                        0x00000001045cf618 chromedriver + 751128\n",
      "5   chromedriver                        0x00000001045898f0 chromedriver + 465136\n",
      "6   chromedriver                        0x000000010458a974 chromedriver + 469364\n",
      "7   chromedriver                        0x00000001048ef788 chromedriver + 4028296\n",
      "8   chromedriver                        0x00000001048f3c1c chromedriver + 4045852\n",
      "9   chromedriver                        0x00000001048f9c98 chromedriver + 4070552\n",
      "10  chromedriver                        0x00000001048f48d8 chromedriver + 4049112\n",
      "11  chromedriver                        0x00000001048cbd84 chromedriver + 3882372\n",
      "12  chromedriver                        0x0000000104912720 chromedriver + 4171552\n",
      "13  chromedriver                        0x0000000104912878 chromedriver + 4171896\n",
      "14  chromedriver                        0x0000000104926014 chromedriver + 4251668\n",
      "15  libsystem_pthread.dylib             0x00000001a3d2606c _pthread_start + 148\n",
      "16  libsystem_pthread.dylib             0x00000001a3d20e2c thread_start + 8\n",
      "\n"
     ]
    },
    {
     "name": "stderr",
     "output_type": "stream",
     "text": [
      "  2%|▏         | 534/30819 [49:13<38:17:21,  4.55s/it]"
     ]
    },
    {
     "name": "stdout",
     "output_type": "stream",
     "text": [
      "Message: no such element: Unable to locate element: {\"method\":\"css selector\",\"selector\":\".prose\"}\n",
      "  (Session info: chrome=112.0.5615.137)\n",
      "Stacktrace:\n",
      "0   chromedriver                        0x000000010491ed3c chromedriver + 4222268\n",
      "1   chromedriver                        0x00000001048a58e8 chromedriver + 3725544\n",
      "2   chromedriver                        0x000000010455bda4 chromedriver + 277924\n",
      "3   chromedriver                        0x00000001045971b8 chromedriver + 520632\n",
      "4   chromedriver                        0x00000001045cf618 chromedriver + 751128\n",
      "5   chromedriver                        0x00000001045898f0 chromedriver + 465136\n",
      "6   chromedriver                        0x000000010458a974 chromedriver + 469364\n",
      "7   chromedriver                        0x00000001048ef788 chromedriver + 4028296\n",
      "8   chromedriver                        0x00000001048f3c1c chromedriver + 4045852\n",
      "9   chromedriver                        0x00000001048f9c98 chromedriver + 4070552\n",
      "10  chromedriver                        0x00000001048f48d8 chromedriver + 4049112\n",
      "11  chromedriver                        0x00000001048cbd84 chromedriver + 3882372\n",
      "12  chromedriver                        0x0000000104912720 chromedriver + 4171552\n",
      "13  chromedriver                        0x0000000104912878 chromedriver + 4171896\n",
      "14  chromedriver                        0x0000000104926014 chromedriver + 4251668\n",
      "15  libsystem_pthread.dylib             0x00000001a3d2606c _pthread_start + 148\n",
      "16  libsystem_pthread.dylib             0x00000001a3d20e2c thread_start + 8\n",
      "\n"
     ]
    },
    {
     "name": "stderr",
     "output_type": "stream",
     "text": [
      "  2%|▏         | 535/30819 [49:17<37:32:14,  4.46s/it]"
     ]
    },
    {
     "name": "stdout",
     "output_type": "stream",
     "text": [
      "Message: no such element: Unable to locate element: {\"method\":\"css selector\",\"selector\":\".prose\"}\n",
      "  (Session info: chrome=112.0.5615.137)\n",
      "Stacktrace:\n",
      "0   chromedriver                        0x000000010491ed3c chromedriver + 4222268\n",
      "1   chromedriver                        0x00000001048a58e8 chromedriver + 3725544\n",
      "2   chromedriver                        0x000000010455bda4 chromedriver + 277924\n",
      "3   chromedriver                        0x00000001045971b8 chromedriver + 520632\n",
      "4   chromedriver                        0x00000001045cf618 chromedriver + 751128\n",
      "5   chromedriver                        0x00000001045898f0 chromedriver + 465136\n",
      "6   chromedriver                        0x000000010458a974 chromedriver + 469364\n",
      "7   chromedriver                        0x00000001048ef788 chromedriver + 4028296\n",
      "8   chromedriver                        0x00000001048f3c1c chromedriver + 4045852\n",
      "9   chromedriver                        0x00000001048f9c98 chromedriver + 4070552\n",
      "10  chromedriver                        0x00000001048f48d8 chromedriver + 4049112\n",
      "11  chromedriver                        0x00000001048cbd84 chromedriver + 3882372\n",
      "12  chromedriver                        0x0000000104912720 chromedriver + 4171552\n",
      "13  chromedriver                        0x0000000104912878 chromedriver + 4171896\n",
      "14  chromedriver                        0x0000000104926014 chromedriver + 4251668\n",
      "15  libsystem_pthread.dylib             0x00000001a3d2606c _pthread_start + 148\n",
      "16  libsystem_pthread.dylib             0x00000001a3d20e2c thread_start + 8\n",
      "\n"
     ]
    },
    {
     "name": "stderr",
     "output_type": "stream",
     "text": [
      "  2%|▏         | 536/30819 [49:23<42:04:34,  5.00s/it]"
     ]
    },
    {
     "name": "stdout",
     "output_type": "stream",
     "text": [
      "Message: no such element: Unable to locate element: {\"method\":\"css selector\",\"selector\":\".prose\"}\n",
      "  (Session info: chrome=112.0.5615.137)\n",
      "Stacktrace:\n",
      "0   chromedriver                        0x000000010491ed3c chromedriver + 4222268\n",
      "1   chromedriver                        0x00000001048a58e8 chromedriver + 3725544\n",
      "2   chromedriver                        0x000000010455bda4 chromedriver + 277924\n",
      "3   chromedriver                        0x00000001045971b8 chromedriver + 520632\n",
      "4   chromedriver                        0x00000001045cf618 chromedriver + 751128\n",
      "5   chromedriver                        0x00000001045898f0 chromedriver + 465136\n",
      "6   chromedriver                        0x000000010458a974 chromedriver + 469364\n",
      "7   chromedriver                        0x00000001048ef788 chromedriver + 4028296\n",
      "8   chromedriver                        0x00000001048f3c1c chromedriver + 4045852\n",
      "9   chromedriver                        0x00000001048f9c98 chromedriver + 4070552\n",
      "10  chromedriver                        0x00000001048f48d8 chromedriver + 4049112\n",
      "11  chromedriver                        0x00000001048cbd84 chromedriver + 3882372\n",
      "12  chromedriver                        0x0000000104912720 chromedriver + 4171552\n",
      "13  chromedriver                        0x0000000104912878 chromedriver + 4171896\n",
      "14  chromedriver                        0x0000000104926014 chromedriver + 4251668\n",
      "15  libsystem_pthread.dylib             0x00000001a3d2606c _pthread_start + 148\n",
      "16  libsystem_pthread.dylib             0x00000001a3d20e2c thread_start + 8\n",
      "\n"
     ]
    },
    {
     "name": "stderr",
     "output_type": "stream",
     "text": [
      "  2%|▏         | 537/30819 [49:29<45:15:08,  5.38s/it]"
     ]
    },
    {
     "name": "stdout",
     "output_type": "stream",
     "text": [
      "Message: no such element: Unable to locate element: {\"method\":\"css selector\",\"selector\":\".prose\"}\n",
      "  (Session info: chrome=112.0.5615.137)\n",
      "Stacktrace:\n",
      "0   chromedriver                        0x000000010491ed3c chromedriver + 4222268\n",
      "1   chromedriver                        0x00000001048a58e8 chromedriver + 3725544\n",
      "2   chromedriver                        0x000000010455bda4 chromedriver + 277924\n",
      "3   chromedriver                        0x00000001045971b8 chromedriver + 520632\n",
      "4   chromedriver                        0x00000001045cf618 chromedriver + 751128\n",
      "5   chromedriver                        0x00000001045898f0 chromedriver + 465136\n",
      "6   chromedriver                        0x000000010458a974 chromedriver + 469364\n",
      "7   chromedriver                        0x00000001048ef788 chromedriver + 4028296\n",
      "8   chromedriver                        0x00000001048f3c1c chromedriver + 4045852\n",
      "9   chromedriver                        0x00000001048f9c98 chromedriver + 4070552\n",
      "10  chromedriver                        0x00000001048f48d8 chromedriver + 4049112\n",
      "11  chromedriver                        0x00000001048cbd84 chromedriver + 3882372\n",
      "12  chromedriver                        0x0000000104912720 chromedriver + 4171552\n",
      "13  chromedriver                        0x0000000104912878 chromedriver + 4171896\n",
      "14  chromedriver                        0x0000000104926014 chromedriver + 4251668\n",
      "15  libsystem_pthread.dylib             0x00000001a3d2606c _pthread_start + 148\n",
      "16  libsystem_pthread.dylib             0x00000001a3d20e2c thread_start + 8\n",
      "\n"
     ]
    },
    {
     "name": "stderr",
     "output_type": "stream",
     "text": [
      "  2%|▏         | 538/30819 [49:34<42:23:47,  5.04s/it]"
     ]
    },
    {
     "name": "stdout",
     "output_type": "stream",
     "text": [
      "Message: no such element: Unable to locate element: {\"method\":\"css selector\",\"selector\":\".prose\"}\n",
      "  (Session info: chrome=112.0.5615.137)\n",
      "Stacktrace:\n",
      "0   chromedriver                        0x000000010491ed3c chromedriver + 4222268\n",
      "1   chromedriver                        0x00000001048a58e8 chromedriver + 3725544\n",
      "2   chromedriver                        0x000000010455bda4 chromedriver + 277924\n",
      "3   chromedriver                        0x00000001045971b8 chromedriver + 520632\n",
      "4   chromedriver                        0x00000001045cf618 chromedriver + 751128\n",
      "5   chromedriver                        0x00000001045898f0 chromedriver + 465136\n",
      "6   chromedriver                        0x000000010458a974 chromedriver + 469364\n",
      "7   chromedriver                        0x00000001048ef788 chromedriver + 4028296\n",
      "8   chromedriver                        0x00000001048f3c1c chromedriver + 4045852\n",
      "9   chromedriver                        0x00000001048f9c98 chromedriver + 4070552\n",
      "10  chromedriver                        0x00000001048f48d8 chromedriver + 4049112\n",
      "11  chromedriver                        0x00000001048cbd84 chromedriver + 3882372\n",
      "12  chromedriver                        0x0000000104912720 chromedriver + 4171552\n",
      "13  chromedriver                        0x0000000104912878 chromedriver + 4171896\n",
      "14  chromedriver                        0x0000000104926014 chromedriver + 4251668\n",
      "15  libsystem_pthread.dylib             0x00000001a3d2606c _pthread_start + 148\n",
      "16  libsystem_pthread.dylib             0x00000001a3d20e2c thread_start + 8\n",
      "\n"
     ]
    },
    {
     "name": "stderr",
     "output_type": "stream",
     "text": [
      "  2%|▏         | 542/30819 [49:58<49:52:59,  5.93s/it]"
     ]
    },
    {
     "name": "stdout",
     "output_type": "stream",
     "text": [
      "Message: no such element: Unable to locate element: {\"method\":\"css selector\",\"selector\":\".prose\"}\n",
      "  (Session info: chrome=112.0.5615.137)\n",
      "Stacktrace:\n",
      "0   chromedriver                        0x000000010491ed3c chromedriver + 4222268\n",
      "1   chromedriver                        0x00000001048a58e8 chromedriver + 3725544\n",
      "2   chromedriver                        0x000000010455bda4 chromedriver + 277924\n",
      "3   chromedriver                        0x00000001045971b8 chromedriver + 520632\n",
      "4   chromedriver                        0x00000001045cf618 chromedriver + 751128\n",
      "5   chromedriver                        0x00000001045898f0 chromedriver + 465136\n",
      "6   chromedriver                        0x000000010458a974 chromedriver + 469364\n",
      "7   chromedriver                        0x00000001048ef788 chromedriver + 4028296\n",
      "8   chromedriver                        0x00000001048f3c1c chromedriver + 4045852\n",
      "9   chromedriver                        0x00000001048f9c98 chromedriver + 4070552\n",
      "10  chromedriver                        0x00000001048f48d8 chromedriver + 4049112\n",
      "11  chromedriver                        0x00000001048cbd84 chromedriver + 3882372\n",
      "12  chromedriver                        0x0000000104912720 chromedriver + 4171552\n",
      "13  chromedriver                        0x0000000104912878 chromedriver + 4171896\n",
      "14  chromedriver                        0x0000000104926014 chromedriver + 4251668\n",
      "15  libsystem_pthread.dylib             0x00000001a3d2606c _pthread_start + 148\n",
      "16  libsystem_pthread.dylib             0x00000001a3d20e2c thread_start + 8\n",
      "\n"
     ]
    },
    {
     "name": "stderr",
     "output_type": "stream",
     "text": [
      "  2%|▏         | 543/30819 [50:04<50:40:13,  6.03s/it]"
     ]
    },
    {
     "name": "stdout",
     "output_type": "stream",
     "text": [
      "Message: no such element: Unable to locate element: {\"method\":\"css selector\",\"selector\":\".prose\"}\n",
      "  (Session info: chrome=112.0.5615.137)\n",
      "Stacktrace:\n",
      "0   chromedriver                        0x000000010491ed3c chromedriver + 4222268\n",
      "1   chromedriver                        0x00000001048a58e8 chromedriver + 3725544\n",
      "2   chromedriver                        0x000000010455bda4 chromedriver + 277924\n",
      "3   chromedriver                        0x00000001045971b8 chromedriver + 520632\n",
      "4   chromedriver                        0x00000001045cf618 chromedriver + 751128\n",
      "5   chromedriver                        0x00000001045898f0 chromedriver + 465136\n",
      "6   chromedriver                        0x000000010458a974 chromedriver + 469364\n",
      "7   chromedriver                        0x00000001048ef788 chromedriver + 4028296\n",
      "8   chromedriver                        0x00000001048f3c1c chromedriver + 4045852\n",
      "9   chromedriver                        0x00000001048f9c98 chromedriver + 4070552\n",
      "10  chromedriver                        0x00000001048f48d8 chromedriver + 4049112\n",
      "11  chromedriver                        0x00000001048cbd84 chromedriver + 3882372\n",
      "12  chromedriver                        0x0000000104912720 chromedriver + 4171552\n",
      "13  chromedriver                        0x0000000104912878 chromedriver + 4171896\n",
      "14  chromedriver                        0x0000000104926014 chromedriver + 4251668\n",
      "15  libsystem_pthread.dylib             0x00000001a3d2606c _pthread_start + 148\n",
      "16  libsystem_pthread.dylib             0x00000001a3d20e2c thread_start + 8\n",
      "\n"
     ]
    },
    {
     "name": "stderr",
     "output_type": "stream",
     "text": [
      "  2%|▏         | 544/30819 [50:08<46:09:58,  5.49s/it]"
     ]
    },
    {
     "name": "stdout",
     "output_type": "stream",
     "text": [
      "Message: no such element: Unable to locate element: {\"method\":\"css selector\",\"selector\":\".prose\"}\n",
      "  (Session info: chrome=112.0.5615.137)\n",
      "Stacktrace:\n",
      "0   chromedriver                        0x000000010491ed3c chromedriver + 4222268\n",
      "1   chromedriver                        0x00000001048a58e8 chromedriver + 3725544\n",
      "2   chromedriver                        0x000000010455bda4 chromedriver + 277924\n",
      "3   chromedriver                        0x00000001045971b8 chromedriver + 520632\n",
      "4   chromedriver                        0x00000001045cf618 chromedriver + 751128\n",
      "5   chromedriver                        0x00000001045898f0 chromedriver + 465136\n",
      "6   chromedriver                        0x000000010458a974 chromedriver + 469364\n",
      "7   chromedriver                        0x00000001048ef788 chromedriver + 4028296\n",
      "8   chromedriver                        0x00000001048f3c1c chromedriver + 4045852\n",
      "9   chromedriver                        0x00000001048f9c98 chromedriver + 4070552\n",
      "10  chromedriver                        0x00000001048f48d8 chromedriver + 4049112\n",
      "11  chromedriver                        0x00000001048cbd84 chromedriver + 3882372\n",
      "12  chromedriver                        0x0000000104912720 chromedriver + 4171552\n",
      "13  chromedriver                        0x0000000104912878 chromedriver + 4171896\n",
      "14  chromedriver                        0x0000000104926014 chromedriver + 4251668\n",
      "15  libsystem_pthread.dylib             0x00000001a3d2606c _pthread_start + 148\n",
      "16  libsystem_pthread.dylib             0x00000001a3d20e2c thread_start + 8\n",
      "\n"
     ]
    },
    {
     "name": "stderr",
     "output_type": "stream",
     "text": [
      "  2%|▏         | 545/30819 [50:13<43:04:27,  5.12s/it]"
     ]
    },
    {
     "name": "stdout",
     "output_type": "stream",
     "text": [
      "Message: no such element: Unable to locate element: {\"method\":\"css selector\",\"selector\":\".prose\"}\n",
      "  (Session info: chrome=112.0.5615.137)\n",
      "Stacktrace:\n",
      "0   chromedriver                        0x000000010491ed3c chromedriver + 4222268\n",
      "1   chromedriver                        0x00000001048a58e8 chromedriver + 3725544\n",
      "2   chromedriver                        0x000000010455bda4 chromedriver + 277924\n",
      "3   chromedriver                        0x00000001045971b8 chromedriver + 520632\n",
      "4   chromedriver                        0x00000001045cf618 chromedriver + 751128\n",
      "5   chromedriver                        0x00000001045898f0 chromedriver + 465136\n",
      "6   chromedriver                        0x000000010458a974 chromedriver + 469364\n",
      "7   chromedriver                        0x00000001048ef788 chromedriver + 4028296\n",
      "8   chromedriver                        0x00000001048f3c1c chromedriver + 4045852\n",
      "9   chromedriver                        0x00000001048f9c98 chromedriver + 4070552\n",
      "10  chromedriver                        0x00000001048f48d8 chromedriver + 4049112\n",
      "11  chromedriver                        0x00000001048cbd84 chromedriver + 3882372\n",
      "12  chromedriver                        0x0000000104912720 chromedriver + 4171552\n",
      "13  chromedriver                        0x0000000104912878 chromedriver + 4171896\n",
      "14  chromedriver                        0x0000000104926014 chromedriver + 4251668\n",
      "15  libsystem_pthread.dylib             0x00000001a3d2606c _pthread_start + 148\n",
      "16  libsystem_pthread.dylib             0x00000001a3d20e2c thread_start + 8\n",
      "\n"
     ]
    },
    {
     "name": "stderr",
     "output_type": "stream",
     "text": [
      "  2%|▏         | 546/30819 [50:19<45:53:00,  5.46s/it]"
     ]
    },
    {
     "name": "stdout",
     "output_type": "stream",
     "text": [
      "Message: no such element: Unable to locate element: {\"method\":\"css selector\",\"selector\":\".prose\"}\n",
      "  (Session info: chrome=112.0.5615.137)\n",
      "Stacktrace:\n",
      "0   chromedriver                        0x000000010491ed3c chromedriver + 4222268\n",
      "1   chromedriver                        0x00000001048a58e8 chromedriver + 3725544\n",
      "2   chromedriver                        0x000000010455bda4 chromedriver + 277924\n",
      "3   chromedriver                        0x00000001045971b8 chromedriver + 520632\n",
      "4   chromedriver                        0x00000001045cf618 chromedriver + 751128\n",
      "5   chromedriver                        0x00000001045898f0 chromedriver + 465136\n",
      "6   chromedriver                        0x000000010458a974 chromedriver + 469364\n",
      "7   chromedriver                        0x00000001048ef788 chromedriver + 4028296\n",
      "8   chromedriver                        0x00000001048f3c1c chromedriver + 4045852\n",
      "9   chromedriver                        0x00000001048f9c98 chromedriver + 4070552\n",
      "10  chromedriver                        0x00000001048f48d8 chromedriver + 4049112\n",
      "11  chromedriver                        0x00000001048cbd84 chromedriver + 3882372\n",
      "12  chromedriver                        0x0000000104912720 chromedriver + 4171552\n",
      "13  chromedriver                        0x0000000104912878 chromedriver + 4171896\n",
      "14  chromedriver                        0x0000000104926014 chromedriver + 4251668\n",
      "15  libsystem_pthread.dylib             0x00000001a3d2606c _pthread_start + 148\n",
      "16  libsystem_pthread.dylib             0x00000001a3d20e2c thread_start + 8\n",
      "\n"
     ]
    },
    {
     "name": "stderr",
     "output_type": "stream",
     "text": [
      "  2%|▏         | 547/30819 [50:25<47:56:21,  5.70s/it]"
     ]
    },
    {
     "name": "stdout",
     "output_type": "stream",
     "text": [
      "Message: no such element: Unable to locate element: {\"method\":\"css selector\",\"selector\":\".prose\"}\n",
      "  (Session info: chrome=112.0.5615.137)\n",
      "Stacktrace:\n",
      "0   chromedriver                        0x000000010491ed3c chromedriver + 4222268\n",
      "1   chromedriver                        0x00000001048a58e8 chromedriver + 3725544\n",
      "2   chromedriver                        0x000000010455bda4 chromedriver + 277924\n",
      "3   chromedriver                        0x00000001045971b8 chromedriver + 520632\n",
      "4   chromedriver                        0x00000001045cf618 chromedriver + 751128\n",
      "5   chromedriver                        0x00000001045898f0 chromedriver + 465136\n",
      "6   chromedriver                        0x000000010458a974 chromedriver + 469364\n",
      "7   chromedriver                        0x00000001048ef788 chromedriver + 4028296\n",
      "8   chromedriver                        0x00000001048f3c1c chromedriver + 4045852\n",
      "9   chromedriver                        0x00000001048f9c98 chromedriver + 4070552\n",
      "10  chromedriver                        0x00000001048f48d8 chromedriver + 4049112\n",
      "11  chromedriver                        0x00000001048cbd84 chromedriver + 3882372\n",
      "12  chromedriver                        0x0000000104912720 chromedriver + 4171552\n",
      "13  chromedriver                        0x0000000104912878 chromedriver + 4171896\n",
      "14  chromedriver                        0x0000000104926014 chromedriver + 4251668\n",
      "15  libsystem_pthread.dylib             0x00000001a3d2606c _pthread_start + 148\n",
      "16  libsystem_pthread.dylib             0x00000001a3d20e2c thread_start + 8\n",
      "\n"
     ]
    },
    {
     "name": "stderr",
     "output_type": "stream",
     "text": [
      "  2%|▏         | 548/30819 [50:29<44:19:46,  5.27s/it]"
     ]
    },
    {
     "name": "stdout",
     "output_type": "stream",
     "text": [
      "Message: no such element: Unable to locate element: {\"method\":\"css selector\",\"selector\":\".prose\"}\n",
      "  (Session info: chrome=112.0.5615.137)\n",
      "Stacktrace:\n",
      "0   chromedriver                        0x000000010491ed3c chromedriver + 4222268\n",
      "1   chromedriver                        0x00000001048a58e8 chromedriver + 3725544\n",
      "2   chromedriver                        0x000000010455bda4 chromedriver + 277924\n",
      "3   chromedriver                        0x00000001045971b8 chromedriver + 520632\n",
      "4   chromedriver                        0x00000001045cf618 chromedriver + 751128\n",
      "5   chromedriver                        0x00000001045898f0 chromedriver + 465136\n",
      "6   chromedriver                        0x000000010458a974 chromedriver + 469364\n",
      "7   chromedriver                        0x00000001048ef788 chromedriver + 4028296\n",
      "8   chromedriver                        0x00000001048f3c1c chromedriver + 4045852\n",
      "9   chromedriver                        0x00000001048f9c98 chromedriver + 4070552\n",
      "10  chromedriver                        0x00000001048f48d8 chromedriver + 4049112\n",
      "11  chromedriver                        0x00000001048cbd84 chromedriver + 3882372\n",
      "12  chromedriver                        0x0000000104912720 chromedriver + 4171552\n",
      "13  chromedriver                        0x0000000104912878 chromedriver + 4171896\n",
      "14  chromedriver                        0x0000000104926014 chromedriver + 4251668\n",
      "15  libsystem_pthread.dylib             0x00000001a3d2606c _pthread_start + 148\n",
      "16  libsystem_pthread.dylib             0x00000001a3d20e2c thread_start + 8\n",
      "\n"
     ]
    },
    {
     "name": "stderr",
     "output_type": "stream",
     "text": [
      "  2%|▏         | 549/30819 [50:34<41:47:55,  4.97s/it]"
     ]
    },
    {
     "name": "stdout",
     "output_type": "stream",
     "text": [
      "Message: no such element: Unable to locate element: {\"method\":\"css selector\",\"selector\":\".prose\"}\n",
      "  (Session info: chrome=112.0.5615.137)\n",
      "Stacktrace:\n",
      "0   chromedriver                        0x000000010491ed3c chromedriver + 4222268\n",
      "1   chromedriver                        0x00000001048a58e8 chromedriver + 3725544\n",
      "2   chromedriver                        0x000000010455bda4 chromedriver + 277924\n",
      "3   chromedriver                        0x00000001045971b8 chromedriver + 520632\n",
      "4   chromedriver                        0x00000001045cf618 chromedriver + 751128\n",
      "5   chromedriver                        0x00000001045898f0 chromedriver + 465136\n",
      "6   chromedriver                        0x000000010458a974 chromedriver + 469364\n",
      "7   chromedriver                        0x00000001048ef788 chromedriver + 4028296\n",
      "8   chromedriver                        0x00000001048f3c1c chromedriver + 4045852\n",
      "9   chromedriver                        0x00000001048f9c98 chromedriver + 4070552\n",
      "10  chromedriver                        0x00000001048f48d8 chromedriver + 4049112\n",
      "11  chromedriver                        0x00000001048cbd84 chromedriver + 3882372\n",
      "12  chromedriver                        0x0000000104912720 chromedriver + 4171552\n",
      "13  chromedriver                        0x0000000104912878 chromedriver + 4171896\n",
      "14  chromedriver                        0x0000000104926014 chromedriver + 4251668\n",
      "15  libsystem_pthread.dylib             0x00000001a3d2606c _pthread_start + 148\n",
      "16  libsystem_pthread.dylib             0x00000001a3d20e2c thread_start + 8\n",
      "\n"
     ]
    },
    {
     "name": "stderr",
     "output_type": "stream",
     "text": [
      "  2%|▏         | 559/30819 [51:33<49:10:46,  5.85s/it]"
     ]
    },
    {
     "name": "stdout",
     "output_type": "stream",
     "text": [
      "Message: no such element: Unable to locate element: {\"method\":\"css selector\",\"selector\":\".prose\"}\n",
      "  (Session info: chrome=112.0.5615.137)\n",
      "Stacktrace:\n",
      "0   chromedriver                        0x000000010491ed3c chromedriver + 4222268\n",
      "1   chromedriver                        0x00000001048a58e8 chromedriver + 3725544\n",
      "2   chromedriver                        0x000000010455bda4 chromedriver + 277924\n",
      "3   chromedriver                        0x00000001045971b8 chromedriver + 520632\n",
      "4   chromedriver                        0x00000001045cf618 chromedriver + 751128\n",
      "5   chromedriver                        0x00000001045898f0 chromedriver + 465136\n",
      "6   chromedriver                        0x000000010458a974 chromedriver + 469364\n",
      "7   chromedriver                        0x00000001048ef788 chromedriver + 4028296\n",
      "8   chromedriver                        0x00000001048f3c1c chromedriver + 4045852\n",
      "9   chromedriver                        0x00000001048f9c98 chromedriver + 4070552\n",
      "10  chromedriver                        0x00000001048f48d8 chromedriver + 4049112\n",
      "11  chromedriver                        0x00000001048cbd84 chromedriver + 3882372\n",
      "12  chromedriver                        0x0000000104912720 chromedriver + 4171552\n",
      "13  chromedriver                        0x0000000104912878 chromedriver + 4171896\n",
      "14  chromedriver                        0x0000000104926014 chromedriver + 4251668\n",
      "15  libsystem_pthread.dylib             0x00000001a3d2606c _pthread_start + 148\n",
      "16  libsystem_pthread.dylib             0x00000001a3d20e2c thread_start + 8\n",
      "\n"
     ]
    },
    {
     "name": "stderr",
     "output_type": "stream",
     "text": [
      "  2%|▏         | 566/30819 [52:09<42:47:52,  5.09s/it]"
     ]
    },
    {
     "name": "stdout",
     "output_type": "stream",
     "text": [
      "Message: no such element: Unable to locate element: {\"method\":\"css selector\",\"selector\":\".prose\"}\n",
      "  (Session info: chrome=112.0.5615.137)\n",
      "Stacktrace:\n",
      "0   chromedriver                        0x000000010491ed3c chromedriver + 4222268\n",
      "1   chromedriver                        0x00000001048a58e8 chromedriver + 3725544\n",
      "2   chromedriver                        0x000000010455bda4 chromedriver + 277924\n",
      "3   chromedriver                        0x00000001045971b8 chromedriver + 520632\n",
      "4   chromedriver                        0x00000001045cf618 chromedriver + 751128\n",
      "5   chromedriver                        0x00000001045898f0 chromedriver + 465136\n",
      "6   chromedriver                        0x000000010458a974 chromedriver + 469364\n",
      "7   chromedriver                        0x00000001048ef788 chromedriver + 4028296\n",
      "8   chromedriver                        0x00000001048f3c1c chromedriver + 4045852\n",
      "9   chromedriver                        0x00000001048f9c98 chromedriver + 4070552\n",
      "10  chromedriver                        0x00000001048f48d8 chromedriver + 4049112\n",
      "11  chromedriver                        0x00000001048cbd84 chromedriver + 3882372\n",
      "12  chromedriver                        0x0000000104912720 chromedriver + 4171552\n",
      "13  chromedriver                        0x0000000104912878 chromedriver + 4171896\n",
      "14  chromedriver                        0x0000000104926014 chromedriver + 4251668\n",
      "15  libsystem_pthread.dylib             0x00000001a3d2606c _pthread_start + 148\n",
      "16  libsystem_pthread.dylib             0x00000001a3d20e2c thread_start + 8\n",
      "\n"
     ]
    },
    {
     "name": "stderr",
     "output_type": "stream",
     "text": [
      "  2%|▏         | 567/30819 [52:14<43:10:28,  5.14s/it]"
     ]
    },
    {
     "name": "stdout",
     "output_type": "stream",
     "text": [
      "Message: no such element: Unable to locate element: {\"method\":\"css selector\",\"selector\":\".prose\"}\n",
      "  (Session info: chrome=112.0.5615.137)\n",
      "Stacktrace:\n",
      "0   chromedriver                        0x000000010491ed3c chromedriver + 4222268\n",
      "1   chromedriver                        0x00000001048a58e8 chromedriver + 3725544\n",
      "2   chromedriver                        0x000000010455bda4 chromedriver + 277924\n",
      "3   chromedriver                        0x00000001045971b8 chromedriver + 520632\n",
      "4   chromedriver                        0x00000001045cf618 chromedriver + 751128\n",
      "5   chromedriver                        0x00000001045898f0 chromedriver + 465136\n",
      "6   chromedriver                        0x000000010458a974 chromedriver + 469364\n",
      "7   chromedriver                        0x00000001048ef788 chromedriver + 4028296\n",
      "8   chromedriver                        0x00000001048f3c1c chromedriver + 4045852\n",
      "9   chromedriver                        0x00000001048f9c98 chromedriver + 4070552\n",
      "10  chromedriver                        0x00000001048f48d8 chromedriver + 4049112\n",
      "11  chromedriver                        0x00000001048cbd84 chromedriver + 3882372\n",
      "12  chromedriver                        0x0000000104912720 chromedriver + 4171552\n",
      "13  chromedriver                        0x0000000104912878 chromedriver + 4171896\n",
      "14  chromedriver                        0x0000000104926014 chromedriver + 4251668\n",
      "15  libsystem_pthread.dylib             0x00000001a3d2606c _pthread_start + 148\n",
      "16  libsystem_pthread.dylib             0x00000001a3d20e2c thread_start + 8\n",
      "\n"
     ]
    },
    {
     "name": "stderr",
     "output_type": "stream",
     "text": [
      "  2%|▏         | 568/30819 [52:19<43:23:45,  5.16s/it]"
     ]
    },
    {
     "name": "stdout",
     "output_type": "stream",
     "text": [
      "Message: no such element: Unable to locate element: {\"method\":\"css selector\",\"selector\":\".prose\"}\n",
      "  (Session info: chrome=112.0.5615.137)\n",
      "Stacktrace:\n",
      "0   chromedriver                        0x000000010491ed3c chromedriver + 4222268\n",
      "1   chromedriver                        0x00000001048a58e8 chromedriver + 3725544\n",
      "2   chromedriver                        0x000000010455bda4 chromedriver + 277924\n",
      "3   chromedriver                        0x00000001045971b8 chromedriver + 520632\n",
      "4   chromedriver                        0x00000001045cf618 chromedriver + 751128\n",
      "5   chromedriver                        0x00000001045898f0 chromedriver + 465136\n",
      "6   chromedriver                        0x000000010458a974 chromedriver + 469364\n",
      "7   chromedriver                        0x00000001048ef788 chromedriver + 4028296\n",
      "8   chromedriver                        0x00000001048f3c1c chromedriver + 4045852\n",
      "9   chromedriver                        0x00000001048f9c98 chromedriver + 4070552\n",
      "10  chromedriver                        0x00000001048f48d8 chromedriver + 4049112\n",
      "11  chromedriver                        0x00000001048cbd84 chromedriver + 3882372\n",
      "12  chromedriver                        0x0000000104912720 chromedriver + 4171552\n",
      "13  chromedriver                        0x0000000104912878 chromedriver + 4171896\n",
      "14  chromedriver                        0x0000000104926014 chromedriver + 4251668\n",
      "15  libsystem_pthread.dylib             0x00000001a3d2606c _pthread_start + 148\n",
      "16  libsystem_pthread.dylib             0x00000001a3d20e2c thread_start + 8\n",
      "\n"
     ]
    },
    {
     "name": "stderr",
     "output_type": "stream",
     "text": [
      "  2%|▏         | 569/30819 [52:25<46:09:38,  5.49s/it]"
     ]
    },
    {
     "name": "stdout",
     "output_type": "stream",
     "text": [
      "Message: no such element: Unable to locate element: {\"method\":\"css selector\",\"selector\":\".prose\"}\n",
      "  (Session info: chrome=112.0.5615.137)\n",
      "Stacktrace:\n",
      "0   chromedriver                        0x000000010491ed3c chromedriver + 4222268\n",
      "1   chromedriver                        0x00000001048a58e8 chromedriver + 3725544\n",
      "2   chromedriver                        0x000000010455bda4 chromedriver + 277924\n",
      "3   chromedriver                        0x00000001045971b8 chromedriver + 520632\n",
      "4   chromedriver                        0x00000001045cf618 chromedriver + 751128\n",
      "5   chromedriver                        0x00000001045898f0 chromedriver + 465136\n",
      "6   chromedriver                        0x000000010458a974 chromedriver + 469364\n",
      "7   chromedriver                        0x00000001048ef788 chromedriver + 4028296\n",
      "8   chromedriver                        0x00000001048f3c1c chromedriver + 4045852\n",
      "9   chromedriver                        0x00000001048f9c98 chromedriver + 4070552\n",
      "10  chromedriver                        0x00000001048f48d8 chromedriver + 4049112\n",
      "11  chromedriver                        0x00000001048cbd84 chromedriver + 3882372\n",
      "12  chromedriver                        0x0000000104912720 chromedriver + 4171552\n",
      "13  chromedriver                        0x0000000104912878 chromedriver + 4171896\n",
      "14  chromedriver                        0x0000000104926014 chromedriver + 4251668\n",
      "15  libsystem_pthread.dylib             0x00000001a3d2606c _pthread_start + 148\n",
      "16  libsystem_pthread.dylib             0x00000001a3d20e2c thread_start + 8\n",
      "\n"
     ]
    },
    {
     "name": "stderr",
     "output_type": "stream",
     "text": [
      "  2%|▏         | 570/30819 [52:31<45:34:34,  5.42s/it]"
     ]
    },
    {
     "name": "stdout",
     "output_type": "stream",
     "text": [
      "Message: no such element: Unable to locate element: {\"method\":\"css selector\",\"selector\":\".prose\"}\n",
      "  (Session info: chrome=112.0.5615.137)\n",
      "Stacktrace:\n",
      "0   chromedriver                        0x000000010491ed3c chromedriver + 4222268\n",
      "1   chromedriver                        0x00000001048a58e8 chromedriver + 3725544\n",
      "2   chromedriver                        0x000000010455bda4 chromedriver + 277924\n",
      "3   chromedriver                        0x00000001045971b8 chromedriver + 520632\n",
      "4   chromedriver                        0x00000001045cf618 chromedriver + 751128\n",
      "5   chromedriver                        0x00000001045898f0 chromedriver + 465136\n",
      "6   chromedriver                        0x000000010458a974 chromedriver + 469364\n",
      "7   chromedriver                        0x00000001048ef788 chromedriver + 4028296\n",
      "8   chromedriver                        0x00000001048f3c1c chromedriver + 4045852\n",
      "9   chromedriver                        0x00000001048f9c98 chromedriver + 4070552\n",
      "10  chromedriver                        0x00000001048f48d8 chromedriver + 4049112\n",
      "11  chromedriver                        0x00000001048cbd84 chromedriver + 3882372\n",
      "12  chromedriver                        0x0000000104912720 chromedriver + 4171552\n",
      "13  chromedriver                        0x0000000104912878 chromedriver + 4171896\n",
      "14  chromedriver                        0x0000000104926014 chromedriver + 4251668\n",
      "15  libsystem_pthread.dylib             0x00000001a3d2606c _pthread_start + 148\n",
      "16  libsystem_pthread.dylib             0x00000001a3d20e2c thread_start + 8\n",
      "\n"
     ]
    },
    {
     "name": "stderr",
     "output_type": "stream",
     "text": [
      "  2%|▏         | 571/30819 [52:36<45:12:56,  5.38s/it]"
     ]
    },
    {
     "name": "stdout",
     "output_type": "stream",
     "text": [
      "Message: no such element: Unable to locate element: {\"method\":\"css selector\",\"selector\":\".prose\"}\n",
      "  (Session info: chrome=112.0.5615.137)\n",
      "Stacktrace:\n",
      "0   chromedriver                        0x000000010491ed3c chromedriver + 4222268\n",
      "1   chromedriver                        0x00000001048a58e8 chromedriver + 3725544\n",
      "2   chromedriver                        0x000000010455bda4 chromedriver + 277924\n",
      "3   chromedriver                        0x00000001045971b8 chromedriver + 520632\n",
      "4   chromedriver                        0x00000001045cf618 chromedriver + 751128\n",
      "5   chromedriver                        0x00000001045898f0 chromedriver + 465136\n",
      "6   chromedriver                        0x000000010458a974 chromedriver + 469364\n",
      "7   chromedriver                        0x00000001048ef788 chromedriver + 4028296\n",
      "8   chromedriver                        0x00000001048f3c1c chromedriver + 4045852\n",
      "9   chromedriver                        0x00000001048f9c98 chromedriver + 4070552\n",
      "10  chromedriver                        0x00000001048f48d8 chromedriver + 4049112\n",
      "11  chromedriver                        0x00000001048cbd84 chromedriver + 3882372\n",
      "12  chromedriver                        0x0000000104912720 chromedriver + 4171552\n",
      "13  chromedriver                        0x0000000104912878 chromedriver + 4171896\n",
      "14  chromedriver                        0x0000000104926014 chromedriver + 4251668\n",
      "15  libsystem_pthread.dylib             0x00000001a3d2606c _pthread_start + 148\n",
      "16  libsystem_pthread.dylib             0x00000001a3d20e2c thread_start + 8\n",
      "\n"
     ]
    },
    {
     "name": "stderr",
     "output_type": "stream",
     "text": [
      "  2%|▏         | 575/30819 [52:59<49:12:36,  5.86s/it]"
     ]
    },
    {
     "name": "stdout",
     "output_type": "stream",
     "text": [
      "Message: no such element: Unable to locate element: {\"method\":\"css selector\",\"selector\":\".prose\"}\n",
      "  (Session info: chrome=112.0.5615.137)\n",
      "Stacktrace:\n",
      "0   chromedriver                        0x000000010491ed3c chromedriver + 4222268\n",
      "1   chromedriver                        0x00000001048a58e8 chromedriver + 3725544\n",
      "2   chromedriver                        0x000000010455bda4 chromedriver + 277924\n",
      "3   chromedriver                        0x00000001045971b8 chromedriver + 520632\n",
      "4   chromedriver                        0x00000001045cf618 chromedriver + 751128\n",
      "5   chromedriver                        0x00000001045898f0 chromedriver + 465136\n",
      "6   chromedriver                        0x000000010458a974 chromedriver + 469364\n",
      "7   chromedriver                        0x00000001048ef788 chromedriver + 4028296\n",
      "8   chromedriver                        0x00000001048f3c1c chromedriver + 4045852\n",
      "9   chromedriver                        0x00000001048f9c98 chromedriver + 4070552\n",
      "10  chromedriver                        0x00000001048f48d8 chromedriver + 4049112\n",
      "11  chromedriver                        0x00000001048cbd84 chromedriver + 3882372\n",
      "12  chromedriver                        0x0000000104912720 chromedriver + 4171552\n",
      "13  chromedriver                        0x0000000104912878 chromedriver + 4171896\n",
      "14  chromedriver                        0x0000000104926014 chromedriver + 4251668\n",
      "15  libsystem_pthread.dylib             0x00000001a3d2606c _pthread_start + 148\n",
      "16  libsystem_pthread.dylib             0x00000001a3d20e2c thread_start + 8\n",
      "\n"
     ]
    },
    {
     "name": "stderr",
     "output_type": "stream",
     "text": [
      "  2%|▏         | 576/30819 [53:05<50:14:31,  5.98s/it]"
     ]
    },
    {
     "name": "stdout",
     "output_type": "stream",
     "text": [
      "Message: no such element: Unable to locate element: {\"method\":\"css selector\",\"selector\":\".prose\"}\n",
      "  (Session info: chrome=112.0.5615.137)\n",
      "Stacktrace:\n",
      "0   chromedriver                        0x000000010491ed3c chromedriver + 4222268\n",
      "1   chromedriver                        0x00000001048a58e8 chromedriver + 3725544\n",
      "2   chromedriver                        0x000000010455bda4 chromedriver + 277924\n",
      "3   chromedriver                        0x00000001045971b8 chromedriver + 520632\n",
      "4   chromedriver                        0x00000001045cf618 chromedriver + 751128\n",
      "5   chromedriver                        0x00000001045898f0 chromedriver + 465136\n",
      "6   chromedriver                        0x000000010458a974 chromedriver + 469364\n",
      "7   chromedriver                        0x00000001048ef788 chromedriver + 4028296\n",
      "8   chromedriver                        0x00000001048f3c1c chromedriver + 4045852\n",
      "9   chromedriver                        0x00000001048f9c98 chromedriver + 4070552\n",
      "10  chromedriver                        0x00000001048f48d8 chromedriver + 4049112\n",
      "11  chromedriver                        0x00000001048cbd84 chromedriver + 3882372\n",
      "12  chromedriver                        0x0000000104912720 chromedriver + 4171552\n",
      "13  chromedriver                        0x0000000104912878 chromedriver + 4171896\n",
      "14  chromedriver                        0x0000000104926014 chromedriver + 4251668\n",
      "15  libsystem_pthread.dylib             0x00000001a3d2606c _pthread_start + 148\n",
      "16  libsystem_pthread.dylib             0x00000001a3d20e2c thread_start + 8\n",
      "\n"
     ]
    },
    {
     "name": "stderr",
     "output_type": "stream",
     "text": [
      "  2%|▏         | 577/30819 [53:12<50:55:35,  6.06s/it]"
     ]
    },
    {
     "name": "stdout",
     "output_type": "stream",
     "text": [
      "Message: no such element: Unable to locate element: {\"method\":\"css selector\",\"selector\":\".prose\"}\n",
      "  (Session info: chrome=112.0.5615.137)\n",
      "Stacktrace:\n",
      "0   chromedriver                        0x000000010491ed3c chromedriver + 4222268\n",
      "1   chromedriver                        0x00000001048a58e8 chromedriver + 3725544\n",
      "2   chromedriver                        0x000000010455bda4 chromedriver + 277924\n",
      "3   chromedriver                        0x00000001045971b8 chromedriver + 520632\n",
      "4   chromedriver                        0x00000001045cf618 chromedriver + 751128\n",
      "5   chromedriver                        0x00000001045898f0 chromedriver + 465136\n",
      "6   chromedriver                        0x000000010458a974 chromedriver + 469364\n",
      "7   chromedriver                        0x00000001048ef788 chromedriver + 4028296\n",
      "8   chromedriver                        0x00000001048f3c1c chromedriver + 4045852\n",
      "9   chromedriver                        0x00000001048f9c98 chromedriver + 4070552\n",
      "10  chromedriver                        0x00000001048f48d8 chromedriver + 4049112\n",
      "11  chromedriver                        0x00000001048cbd84 chromedriver + 3882372\n",
      "12  chromedriver                        0x0000000104912720 chromedriver + 4171552\n",
      "13  chromedriver                        0x0000000104912878 chromedriver + 4171896\n",
      "14  chromedriver                        0x0000000104926014 chromedriver + 4251668\n",
      "15  libsystem_pthread.dylib             0x00000001a3d2606c _pthread_start + 148\n",
      "16  libsystem_pthread.dylib             0x00000001a3d20e2c thread_start + 8\n",
      "\n"
     ]
    },
    {
     "name": "stderr",
     "output_type": "stream",
     "text": [
      "  2%|▏         | 578/30819 [53:16<46:24:47,  5.53s/it]"
     ]
    },
    {
     "name": "stdout",
     "output_type": "stream",
     "text": [
      "Message: no such element: Unable to locate element: {\"method\":\"css selector\",\"selector\":\".prose\"}\n",
      "  (Session info: chrome=112.0.5615.137)\n",
      "Stacktrace:\n",
      "0   chromedriver                        0x000000010491ed3c chromedriver + 4222268\n",
      "1   chromedriver                        0x00000001048a58e8 chromedriver + 3725544\n",
      "2   chromedriver                        0x000000010455bda4 chromedriver + 277924\n",
      "3   chromedriver                        0x00000001045971b8 chromedriver + 520632\n",
      "4   chromedriver                        0x00000001045cf618 chromedriver + 751128\n",
      "5   chromedriver                        0x00000001045898f0 chromedriver + 465136\n",
      "6   chromedriver                        0x000000010458a974 chromedriver + 469364\n",
      "7   chromedriver                        0x00000001048ef788 chromedriver + 4028296\n",
      "8   chromedriver                        0x00000001048f3c1c chromedriver + 4045852\n",
      "9   chromedriver                        0x00000001048f9c98 chromedriver + 4070552\n",
      "10  chromedriver                        0x00000001048f48d8 chromedriver + 4049112\n",
      "11  chromedriver                        0x00000001048cbd84 chromedriver + 3882372\n",
      "12  chromedriver                        0x0000000104912720 chromedriver + 4171552\n",
      "13  chromedriver                        0x0000000104912878 chromedriver + 4171896\n",
      "14  chromedriver                        0x0000000104926014 chromedriver + 4251668\n",
      "15  libsystem_pthread.dylib             0x00000001a3d2606c _pthread_start + 148\n",
      "16  libsystem_pthread.dylib             0x00000001a3d20e2c thread_start + 8\n",
      "\n"
     ]
    },
    {
     "name": "stderr",
     "output_type": "stream",
     "text": [
      "  2%|▏         | 579/30819 [53:20<43:13:21,  5.15s/it]"
     ]
    },
    {
     "name": "stdout",
     "output_type": "stream",
     "text": [
      "Message: no such element: Unable to locate element: {\"method\":\"css selector\",\"selector\":\".prose\"}\n",
      "  (Session info: chrome=112.0.5615.137)\n",
      "Stacktrace:\n",
      "0   chromedriver                        0x000000010491ed3c chromedriver + 4222268\n",
      "1   chromedriver                        0x00000001048a58e8 chromedriver + 3725544\n",
      "2   chromedriver                        0x000000010455bda4 chromedriver + 277924\n",
      "3   chromedriver                        0x00000001045971b8 chromedriver + 520632\n",
      "4   chromedriver                        0x00000001045cf618 chromedriver + 751128\n",
      "5   chromedriver                        0x00000001045898f0 chromedriver + 465136\n",
      "6   chromedriver                        0x000000010458a974 chromedriver + 469364\n",
      "7   chromedriver                        0x00000001048ef788 chromedriver + 4028296\n",
      "8   chromedriver                        0x00000001048f3c1c chromedriver + 4045852\n",
      "9   chromedriver                        0x00000001048f9c98 chromedriver + 4070552\n",
      "10  chromedriver                        0x00000001048f48d8 chromedriver + 4049112\n",
      "11  chromedriver                        0x00000001048cbd84 chromedriver + 3882372\n",
      "12  chromedriver                        0x0000000104912720 chromedriver + 4171552\n",
      "13  chromedriver                        0x0000000104912878 chromedriver + 4171896\n",
      "14  chromedriver                        0x0000000104926014 chromedriver + 4251668\n",
      "15  libsystem_pthread.dylib             0x00000001a3d2606c _pthread_start + 148\n",
      "16  libsystem_pthread.dylib             0x00000001a3d20e2c thread_start + 8\n",
      "\n"
     ]
    },
    {
     "name": "stderr",
     "output_type": "stream",
     "text": [
      "  2%|▏         | 580/30819 [53:25<43:35:14,  5.19s/it]"
     ]
    },
    {
     "name": "stdout",
     "output_type": "stream",
     "text": [
      "Message: no such element: Unable to locate element: {\"method\":\"css selector\",\"selector\":\".prose\"}\n",
      "  (Session info: chrome=112.0.5615.137)\n",
      "Stacktrace:\n",
      "0   chromedriver                        0x000000010491ed3c chromedriver + 4222268\n",
      "1   chromedriver                        0x00000001048a58e8 chromedriver + 3725544\n",
      "2   chromedriver                        0x000000010455bda4 chromedriver + 277924\n",
      "3   chromedriver                        0x00000001045971b8 chromedriver + 520632\n",
      "4   chromedriver                        0x00000001045cf618 chromedriver + 751128\n",
      "5   chromedriver                        0x00000001045898f0 chromedriver + 465136\n",
      "6   chromedriver                        0x000000010458a974 chromedriver + 469364\n",
      "7   chromedriver                        0x00000001048ef788 chromedriver + 4028296\n",
      "8   chromedriver                        0x00000001048f3c1c chromedriver + 4045852\n",
      "9   chromedriver                        0x00000001048f9c98 chromedriver + 4070552\n",
      "10  chromedriver                        0x00000001048f48d8 chromedriver + 4049112\n",
      "11  chromedriver                        0x00000001048cbd84 chromedriver + 3882372\n",
      "12  chromedriver                        0x0000000104912720 chromedriver + 4171552\n",
      "13  chromedriver                        0x0000000104912878 chromedriver + 4171896\n",
      "14  chromedriver                        0x0000000104926014 chromedriver + 4251668\n",
      "15  libsystem_pthread.dylib             0x00000001a3d2606c _pthread_start + 148\n",
      "16  libsystem_pthread.dylib             0x00000001a3d20e2c thread_start + 8\n",
      "\n"
     ]
    },
    {
     "name": "stderr",
     "output_type": "stream",
     "text": [
      "  2%|▏         | 581/30819 [53:32<46:18:02,  5.51s/it]"
     ]
    },
    {
     "name": "stdout",
     "output_type": "stream",
     "text": [
      "Message: no such element: Unable to locate element: {\"method\":\"css selector\",\"selector\":\".prose\"}\n",
      "  (Session info: chrome=112.0.5615.137)\n",
      "Stacktrace:\n",
      "0   chromedriver                        0x000000010491ed3c chromedriver + 4222268\n",
      "1   chromedriver                        0x00000001048a58e8 chromedriver + 3725544\n",
      "2   chromedriver                        0x000000010455bda4 chromedriver + 277924\n",
      "3   chromedriver                        0x00000001045971b8 chromedriver + 520632\n",
      "4   chromedriver                        0x00000001045cf618 chromedriver + 751128\n",
      "5   chromedriver                        0x00000001045898f0 chromedriver + 465136\n",
      "6   chromedriver                        0x000000010458a974 chromedriver + 469364\n",
      "7   chromedriver                        0x00000001048ef788 chromedriver + 4028296\n",
      "8   chromedriver                        0x00000001048f3c1c chromedriver + 4045852\n",
      "9   chromedriver                        0x00000001048f9c98 chromedriver + 4070552\n",
      "10  chromedriver                        0x00000001048f48d8 chromedriver + 4049112\n",
      "11  chromedriver                        0x00000001048cbd84 chromedriver + 3882372\n",
      "12  chromedriver                        0x0000000104912720 chromedriver + 4171552\n",
      "13  chromedriver                        0x0000000104912878 chromedriver + 4171896\n",
      "14  chromedriver                        0x0000000104926014 chromedriver + 4251668\n",
      "15  libsystem_pthread.dylib             0x00000001a3d2606c _pthread_start + 148\n",
      "16  libsystem_pthread.dylib             0x00000001a3d20e2c thread_start + 8\n",
      "\n"
     ]
    },
    {
     "name": "stderr",
     "output_type": "stream",
     "text": [
      "  2%|▏         | 582/30819 [53:36<43:08:21,  5.14s/it]"
     ]
    },
    {
     "name": "stdout",
     "output_type": "stream",
     "text": [
      "Message: no such element: Unable to locate element: {\"method\":\"css selector\",\"selector\":\".prose\"}\n",
      "  (Session info: chrome=112.0.5615.137)\n",
      "Stacktrace:\n",
      "0   chromedriver                        0x000000010491ed3c chromedriver + 4222268\n",
      "1   chromedriver                        0x00000001048a58e8 chromedriver + 3725544\n",
      "2   chromedriver                        0x000000010455bda4 chromedriver + 277924\n",
      "3   chromedriver                        0x00000001045971b8 chromedriver + 520632\n",
      "4   chromedriver                        0x00000001045cf618 chromedriver + 751128\n",
      "5   chromedriver                        0x00000001045898f0 chromedriver + 465136\n",
      "6   chromedriver                        0x000000010458a974 chromedriver + 469364\n",
      "7   chromedriver                        0x00000001048ef788 chromedriver + 4028296\n",
      "8   chromedriver                        0x00000001048f3c1c chromedriver + 4045852\n",
      "9   chromedriver                        0x00000001048f9c98 chromedriver + 4070552\n",
      "10  chromedriver                        0x00000001048f48d8 chromedriver + 4049112\n",
      "11  chromedriver                        0x00000001048cbd84 chromedriver + 3882372\n",
      "12  chromedriver                        0x0000000104912720 chromedriver + 4171552\n",
      "13  chromedriver                        0x0000000104912878 chromedriver + 4171896\n",
      "14  chromedriver                        0x0000000104926014 chromedriver + 4251668\n",
      "15  libsystem_pthread.dylib             0x00000001a3d2606c _pthread_start + 148\n",
      "16  libsystem_pthread.dylib             0x00000001a3d20e2c thread_start + 8\n",
      "\n"
     ]
    },
    {
     "name": "stderr",
     "output_type": "stream",
     "text": [
      "  2%|▏         | 588/30819 [54:11<49:35:37,  5.91s/it]"
     ]
    },
    {
     "name": "stdout",
     "output_type": "stream",
     "text": [
      "Message: no such element: Unable to locate element: {\"method\":\"css selector\",\"selector\":\".prose\"}\n",
      "  (Session info: chrome=112.0.5615.137)\n",
      "Stacktrace:\n",
      "0   chromedriver                        0x000000010491ed3c chromedriver + 4222268\n",
      "1   chromedriver                        0x00000001048a58e8 chromedriver + 3725544\n",
      "2   chromedriver                        0x000000010455bda4 chromedriver + 277924\n",
      "3   chromedriver                        0x00000001045971b8 chromedriver + 520632\n",
      "4   chromedriver                        0x00000001045cf618 chromedriver + 751128\n",
      "5   chromedriver                        0x00000001045898f0 chromedriver + 465136\n",
      "6   chromedriver                        0x000000010458a974 chromedriver + 469364\n",
      "7   chromedriver                        0x00000001048ef788 chromedriver + 4028296\n",
      "8   chromedriver                        0x00000001048f3c1c chromedriver + 4045852\n",
      "9   chromedriver                        0x00000001048f9c98 chromedriver + 4070552\n",
      "10  chromedriver                        0x00000001048f48d8 chromedriver + 4049112\n",
      "11  chromedriver                        0x00000001048cbd84 chromedriver + 3882372\n",
      "12  chromedriver                        0x0000000104912720 chromedriver + 4171552\n",
      "13  chromedriver                        0x0000000104912878 chromedriver + 4171896\n",
      "14  chromedriver                        0x0000000104926014 chromedriver + 4251668\n",
      "15  libsystem_pthread.dylib             0x00000001a3d2606c _pthread_start + 148\n",
      "16  libsystem_pthread.dylib             0x00000001a3d20e2c thread_start + 8\n",
      "\n"
     ]
    },
    {
     "name": "stderr",
     "output_type": "stream",
     "text": [
      "  2%|▏         | 589/30819 [54:15<45:23:31,  5.41s/it]"
     ]
    },
    {
     "name": "stdout",
     "output_type": "stream",
     "text": [
      "Message: no such element: Unable to locate element: {\"method\":\"css selector\",\"selector\":\".prose\"}\n",
      "  (Session info: chrome=112.0.5615.137)\n",
      "Stacktrace:\n",
      "0   chromedriver                        0x000000010491ed3c chromedriver + 4222268\n",
      "1   chromedriver                        0x00000001048a58e8 chromedriver + 3725544\n",
      "2   chromedriver                        0x000000010455bda4 chromedriver + 277924\n",
      "3   chromedriver                        0x00000001045971b8 chromedriver + 520632\n",
      "4   chromedriver                        0x00000001045cf618 chromedriver + 751128\n",
      "5   chromedriver                        0x00000001045898f0 chromedriver + 465136\n",
      "6   chromedriver                        0x000000010458a974 chromedriver + 469364\n",
      "7   chromedriver                        0x00000001048ef788 chromedriver + 4028296\n",
      "8   chromedriver                        0x00000001048f3c1c chromedriver + 4045852\n",
      "9   chromedriver                        0x00000001048f9c98 chromedriver + 4070552\n",
      "10  chromedriver                        0x00000001048f48d8 chromedriver + 4049112\n",
      "11  chromedriver                        0x00000001048cbd84 chromedriver + 3882372\n",
      "12  chromedriver                        0x0000000104912720 chromedriver + 4171552\n",
      "13  chromedriver                        0x0000000104912878 chromedriver + 4171896\n",
      "14  chromedriver                        0x0000000104926014 chromedriver + 4251668\n",
      "15  libsystem_pthread.dylib             0x00000001a3d2606c _pthread_start + 148\n",
      "16  libsystem_pthread.dylib             0x00000001a3d20e2c thread_start + 8\n",
      "\n"
     ]
    },
    {
     "name": "stderr",
     "output_type": "stream",
     "text": [
      "  2%|▏         | 590/30819 [54:22<47:31:57,  5.66s/it]"
     ]
    },
    {
     "name": "stdout",
     "output_type": "stream",
     "text": [
      "Message: no such element: Unable to locate element: {\"method\":\"css selector\",\"selector\":\".prose\"}\n",
      "  (Session info: chrome=112.0.5615.137)\n",
      "Stacktrace:\n",
      "0   chromedriver                        0x000000010491ed3c chromedriver + 4222268\n",
      "1   chromedriver                        0x00000001048a58e8 chromedriver + 3725544\n",
      "2   chromedriver                        0x000000010455bda4 chromedriver + 277924\n",
      "3   chromedriver                        0x00000001045971b8 chromedriver + 520632\n",
      "4   chromedriver                        0x00000001045cf618 chromedriver + 751128\n",
      "5   chromedriver                        0x00000001045898f0 chromedriver + 465136\n",
      "6   chromedriver                        0x000000010458a974 chromedriver + 469364\n",
      "7   chromedriver                        0x00000001048ef788 chromedriver + 4028296\n",
      "8   chromedriver                        0x00000001048f3c1c chromedriver + 4045852\n",
      "9   chromedriver                        0x00000001048f9c98 chromedriver + 4070552\n",
      "10  chromedriver                        0x00000001048f48d8 chromedriver + 4049112\n",
      "11  chromedriver                        0x00000001048cbd84 chromedriver + 3882372\n",
      "12  chromedriver                        0x0000000104912720 chromedriver + 4171552\n",
      "13  chromedriver                        0x0000000104912878 chromedriver + 4171896\n",
      "14  chromedriver                        0x0000000104926014 chromedriver + 4251668\n",
      "15  libsystem_pthread.dylib             0x00000001a3d2606c _pthread_start + 148\n",
      "16  libsystem_pthread.dylib             0x00000001a3d20e2c thread_start + 8\n",
      "\n"
     ]
    },
    {
     "name": "stderr",
     "output_type": "stream",
     "text": [
      "  2%|▏         | 591/30819 [54:26<44:01:14,  5.24s/it]"
     ]
    },
    {
     "name": "stdout",
     "output_type": "stream",
     "text": [
      "Message: no such element: Unable to locate element: {\"method\":\"css selector\",\"selector\":\".prose\"}\n",
      "  (Session info: chrome=112.0.5615.137)\n",
      "Stacktrace:\n",
      "0   chromedriver                        0x000000010491ed3c chromedriver + 4222268\n",
      "1   chromedriver                        0x00000001048a58e8 chromedriver + 3725544\n",
      "2   chromedriver                        0x000000010455bda4 chromedriver + 277924\n",
      "3   chromedriver                        0x00000001045971b8 chromedriver + 520632\n",
      "4   chromedriver                        0x00000001045cf618 chromedriver + 751128\n",
      "5   chromedriver                        0x00000001045898f0 chromedriver + 465136\n",
      "6   chromedriver                        0x000000010458a974 chromedriver + 469364\n",
      "7   chromedriver                        0x00000001048ef788 chromedriver + 4028296\n",
      "8   chromedriver                        0x00000001048f3c1c chromedriver + 4045852\n",
      "9   chromedriver                        0x00000001048f9c98 chromedriver + 4070552\n",
      "10  chromedriver                        0x00000001048f48d8 chromedriver + 4049112\n",
      "11  chromedriver                        0x00000001048cbd84 chromedriver + 3882372\n",
      "12  chromedriver                        0x0000000104912720 chromedriver + 4171552\n",
      "13  chromedriver                        0x0000000104912878 chromedriver + 4171896\n",
      "14  chromedriver                        0x0000000104926014 chromedriver + 4251668\n",
      "15  libsystem_pthread.dylib             0x00000001a3d2606c _pthread_start + 148\n",
      "16  libsystem_pthread.dylib             0x00000001a3d20e2c thread_start + 8\n",
      "\n"
     ]
    },
    {
     "name": "stderr",
     "output_type": "stream",
     "text": [
      "  2%|▏         | 592/30819 [54:30<41:33:09,  4.95s/it]"
     ]
    },
    {
     "name": "stdout",
     "output_type": "stream",
     "text": [
      "Message: no such element: Unable to locate element: {\"method\":\"css selector\",\"selector\":\".prose\"}\n",
      "  (Session info: chrome=112.0.5615.137)\n",
      "Stacktrace:\n",
      "0   chromedriver                        0x000000010491ed3c chromedriver + 4222268\n",
      "1   chromedriver                        0x00000001048a58e8 chromedriver + 3725544\n",
      "2   chromedriver                        0x000000010455bda4 chromedriver + 277924\n",
      "3   chromedriver                        0x00000001045971b8 chromedriver + 520632\n",
      "4   chromedriver                        0x00000001045cf618 chromedriver + 751128\n",
      "5   chromedriver                        0x00000001045898f0 chromedriver + 465136\n",
      "6   chromedriver                        0x000000010458a974 chromedriver + 469364\n",
      "7   chromedriver                        0x00000001048ef788 chromedriver + 4028296\n",
      "8   chromedriver                        0x00000001048f3c1c chromedriver + 4045852\n",
      "9   chromedriver                        0x00000001048f9c98 chromedriver + 4070552\n",
      "10  chromedriver                        0x00000001048f48d8 chromedriver + 4049112\n",
      "11  chromedriver                        0x00000001048cbd84 chromedriver + 3882372\n",
      "12  chromedriver                        0x0000000104912720 chromedriver + 4171552\n",
      "13  chromedriver                        0x0000000104912878 chromedriver + 4171896\n",
      "14  chromedriver                        0x0000000104926014 chromedriver + 4251668\n",
      "15  libsystem_pthread.dylib             0x00000001a3d2606c _pthread_start + 148\n",
      "16  libsystem_pthread.dylib             0x00000001a3d20e2c thread_start + 8\n",
      "\n"
     ]
    },
    {
     "name": "stderr",
     "output_type": "stream",
     "text": [
      "  2%|▏         | 593/30819 [54:35<42:21:01,  5.04s/it]"
     ]
    },
    {
     "name": "stdout",
     "output_type": "stream",
     "text": [
      "Message: no such element: Unable to locate element: {\"method\":\"css selector\",\"selector\":\".prose\"}\n",
      "  (Session info: chrome=112.0.5615.137)\n",
      "Stacktrace:\n",
      "0   chromedriver                        0x000000010491ed3c chromedriver + 4222268\n",
      "1   chromedriver                        0x00000001048a58e8 chromedriver + 3725544\n",
      "2   chromedriver                        0x000000010455bda4 chromedriver + 277924\n",
      "3   chromedriver                        0x00000001045971b8 chromedriver + 520632\n",
      "4   chromedriver                        0x00000001045cf618 chromedriver + 751128\n",
      "5   chromedriver                        0x00000001045898f0 chromedriver + 465136\n",
      "6   chromedriver                        0x000000010458a974 chromedriver + 469364\n",
      "7   chromedriver                        0x00000001048ef788 chromedriver + 4028296\n",
      "8   chromedriver                        0x00000001048f3c1c chromedriver + 4045852\n",
      "9   chromedriver                        0x00000001048f9c98 chromedriver + 4070552\n",
      "10  chromedriver                        0x00000001048f48d8 chromedriver + 4049112\n",
      "11  chromedriver                        0x00000001048cbd84 chromedriver + 3882372\n",
      "12  chromedriver                        0x0000000104912720 chromedriver + 4171552\n",
      "13  chromedriver                        0x0000000104912878 chromedriver + 4171896\n",
      "14  chromedriver                        0x0000000104926014 chromedriver + 4251668\n",
      "15  libsystem_pthread.dylib             0x00000001a3d2606c _pthread_start + 148\n",
      "16  libsystem_pthread.dylib             0x00000001a3d20e2c thread_start + 8\n",
      "\n"
     ]
    },
    {
     "name": "stderr",
     "output_type": "stream",
     "text": [
      "  2%|▏         | 600/30819 [55:12<45:06:05,  5.37s/it]"
     ]
    },
    {
     "name": "stdout",
     "output_type": "stream",
     "text": [
      "Message: no such element: Unable to locate element: {\"method\":\"css selector\",\"selector\":\".prose\"}\n",
      "  (Session info: chrome=112.0.5615.137)\n",
      "Stacktrace:\n",
      "0   chromedriver                        0x000000010491ed3c chromedriver + 4222268\n",
      "1   chromedriver                        0x00000001048a58e8 chromedriver + 3725544\n",
      "2   chromedriver                        0x000000010455bda4 chromedriver + 277924\n",
      "3   chromedriver                        0x00000001045971b8 chromedriver + 520632\n",
      "4   chromedriver                        0x00000001045cf618 chromedriver + 751128\n",
      "5   chromedriver                        0x00000001045898f0 chromedriver + 465136\n",
      "6   chromedriver                        0x000000010458a974 chromedriver + 469364\n",
      "7   chromedriver                        0x00000001048ef788 chromedriver + 4028296\n",
      "8   chromedriver                        0x00000001048f3c1c chromedriver + 4045852\n",
      "9   chromedriver                        0x00000001048f9c98 chromedriver + 4070552\n",
      "10  chromedriver                        0x00000001048f48d8 chromedriver + 4049112\n",
      "11  chromedriver                        0x00000001048cbd84 chromedriver + 3882372\n",
      "12  chromedriver                        0x0000000104912720 chromedriver + 4171552\n",
      "13  chromedriver                        0x0000000104912878 chromedriver + 4171896\n",
      "14  chromedriver                        0x0000000104926014 chromedriver + 4251668\n",
      "15  libsystem_pthread.dylib             0x00000001a3d2606c _pthread_start + 148\n",
      "16  libsystem_pthread.dylib             0x00000001a3d20e2c thread_start + 8\n",
      "\n"
     ]
    },
    {
     "name": "stderr",
     "output_type": "stream",
     "text": [
      "  2%|▏         | 601/30819 [55:16<42:17:19,  5.04s/it]"
     ]
    },
    {
     "name": "stdout",
     "output_type": "stream",
     "text": [
      "Message: no such element: Unable to locate element: {\"method\":\"css selector\",\"selector\":\".prose\"}\n",
      "  (Session info: chrome=112.0.5615.137)\n",
      "Stacktrace:\n",
      "0   chromedriver                        0x000000010491ed3c chromedriver + 4222268\n",
      "1   chromedriver                        0x00000001048a58e8 chromedriver + 3725544\n",
      "2   chromedriver                        0x000000010455bda4 chromedriver + 277924\n",
      "3   chromedriver                        0x00000001045971b8 chromedriver + 520632\n",
      "4   chromedriver                        0x00000001045cf618 chromedriver + 751128\n",
      "5   chromedriver                        0x00000001045898f0 chromedriver + 465136\n",
      "6   chromedriver                        0x000000010458a974 chromedriver + 469364\n",
      "7   chromedriver                        0x00000001048ef788 chromedriver + 4028296\n",
      "8   chromedriver                        0x00000001048f3c1c chromedriver + 4045852\n",
      "9   chromedriver                        0x00000001048f9c98 chromedriver + 4070552\n",
      "10  chromedriver                        0x00000001048f48d8 chromedriver + 4049112\n",
      "11  chromedriver                        0x00000001048cbd84 chromedriver + 3882372\n",
      "12  chromedriver                        0x0000000104912720 chromedriver + 4171552\n",
      "13  chromedriver                        0x0000000104912878 chromedriver + 4171896\n",
      "14  chromedriver                        0x0000000104926014 chromedriver + 4251668\n",
      "15  libsystem_pthread.dylib             0x00000001a3d2606c _pthread_start + 148\n",
      "16  libsystem_pthread.dylib             0x00000001a3d20e2c thread_start + 8\n",
      "\n"
     ]
    },
    {
     "name": "stderr",
     "output_type": "stream",
     "text": [
      "  2%|▏         | 602/30819 [55:22<45:21:01,  5.40s/it]"
     ]
    },
    {
     "name": "stdout",
     "output_type": "stream",
     "text": [
      "Message: no such element: Unable to locate element: {\"method\":\"css selector\",\"selector\":\".prose\"}\n",
      "  (Session info: chrome=112.0.5615.137)\n",
      "Stacktrace:\n",
      "0   chromedriver                        0x000000010491ed3c chromedriver + 4222268\n",
      "1   chromedriver                        0x00000001048a58e8 chromedriver + 3725544\n",
      "2   chromedriver                        0x000000010455bda4 chromedriver + 277924\n",
      "3   chromedriver                        0x00000001045971b8 chromedriver + 520632\n",
      "4   chromedriver                        0x00000001045cf618 chromedriver + 751128\n",
      "5   chromedriver                        0x00000001045898f0 chromedriver + 465136\n",
      "6   chromedriver                        0x000000010458a974 chromedriver + 469364\n",
      "7   chromedriver                        0x00000001048ef788 chromedriver + 4028296\n",
      "8   chromedriver                        0x00000001048f3c1c chromedriver + 4045852\n",
      "9   chromedriver                        0x00000001048f9c98 chromedriver + 4070552\n",
      "10  chromedriver                        0x00000001048f48d8 chromedriver + 4049112\n",
      "11  chromedriver                        0x00000001048cbd84 chromedriver + 3882372\n",
      "12  chromedriver                        0x0000000104912720 chromedriver + 4171552\n",
      "13  chromedriver                        0x0000000104912878 chromedriver + 4171896\n",
      "14  chromedriver                        0x0000000104926014 chromedriver + 4251668\n",
      "15  libsystem_pthread.dylib             0x00000001a3d2606c _pthread_start + 148\n",
      "16  libsystem_pthread.dylib             0x00000001a3d20e2c thread_start + 8\n",
      "\n"
     ]
    },
    {
     "name": "stderr",
     "output_type": "stream",
     "text": [
      "  2%|▏         | 603/30819 [55:28<44:57:40,  5.36s/it]"
     ]
    },
    {
     "name": "stdout",
     "output_type": "stream",
     "text": [
      "Message: no such element: Unable to locate element: {\"method\":\"css selector\",\"selector\":\".prose\"}\n",
      "  (Session info: chrome=112.0.5615.137)\n",
      "Stacktrace:\n",
      "0   chromedriver                        0x000000010491ed3c chromedriver + 4222268\n",
      "1   chromedriver                        0x00000001048a58e8 chromedriver + 3725544\n",
      "2   chromedriver                        0x000000010455bda4 chromedriver + 277924\n",
      "3   chromedriver                        0x00000001045971b8 chromedriver + 520632\n",
      "4   chromedriver                        0x00000001045cf618 chromedriver + 751128\n",
      "5   chromedriver                        0x00000001045898f0 chromedriver + 465136\n",
      "6   chromedriver                        0x000000010458a974 chromedriver + 469364\n",
      "7   chromedriver                        0x00000001048ef788 chromedriver + 4028296\n",
      "8   chromedriver                        0x00000001048f3c1c chromedriver + 4045852\n",
      "9   chromedriver                        0x00000001048f9c98 chromedriver + 4070552\n",
      "10  chromedriver                        0x00000001048f48d8 chromedriver + 4049112\n",
      "11  chromedriver                        0x00000001048cbd84 chromedriver + 3882372\n",
      "12  chromedriver                        0x0000000104912720 chromedriver + 4171552\n",
      "13  chromedriver                        0x0000000104912878 chromedriver + 4171896\n",
      "14  chromedriver                        0x0000000104926014 chromedriver + 4251668\n",
      "15  libsystem_pthread.dylib             0x00000001a3d2606c _pthread_start + 148\n",
      "16  libsystem_pthread.dylib             0x00000001a3d20e2c thread_start + 8\n",
      "\n"
     ]
    },
    {
     "name": "stderr",
     "output_type": "stream",
     "text": [
      "  2%|▏         | 604/30819 [55:34<47:13:43,  5.63s/it]"
     ]
    },
    {
     "name": "stdout",
     "output_type": "stream",
     "text": [
      "Message: no such element: Unable to locate element: {\"method\":\"css selector\",\"selector\":\".prose\"}\n",
      "  (Session info: chrome=112.0.5615.137)\n",
      "Stacktrace:\n",
      "0   chromedriver                        0x000000010491ed3c chromedriver + 4222268\n",
      "1   chromedriver                        0x00000001048a58e8 chromedriver + 3725544\n",
      "2   chromedriver                        0x000000010455bda4 chromedriver + 277924\n",
      "3   chromedriver                        0x00000001045971b8 chromedriver + 520632\n",
      "4   chromedriver                        0x00000001045cf618 chromedriver + 751128\n",
      "5   chromedriver                        0x00000001045898f0 chromedriver + 465136\n",
      "6   chromedriver                        0x000000010458a974 chromedriver + 469364\n",
      "7   chromedriver                        0x00000001048ef788 chromedriver + 4028296\n",
      "8   chromedriver                        0x00000001048f3c1c chromedriver + 4045852\n",
      "9   chromedriver                        0x00000001048f9c98 chromedriver + 4070552\n",
      "10  chromedriver                        0x00000001048f48d8 chromedriver + 4049112\n",
      "11  chromedriver                        0x00000001048cbd84 chromedriver + 3882372\n",
      "12  chromedriver                        0x0000000104912720 chromedriver + 4171552\n",
      "13  chromedriver                        0x0000000104912878 chromedriver + 4171896\n",
      "14  chromedriver                        0x0000000104926014 chromedriver + 4251668\n",
      "15  libsystem_pthread.dylib             0x00000001a3d2606c _pthread_start + 148\n",
      "16  libsystem_pthread.dylib             0x00000001a3d20e2c thread_start + 8\n",
      "\n"
     ]
    },
    {
     "name": "stderr",
     "output_type": "stream",
     "text": [
      "  2%|▏         | 611/30819 [56:11<45:26:41,  5.42s/it]"
     ]
    },
    {
     "name": "stdout",
     "output_type": "stream",
     "text": [
      "Message: no such element: Unable to locate element: {\"method\":\"css selector\",\"selector\":\".prose\"}\n",
      "  (Session info: chrome=112.0.5615.137)\n",
      "Stacktrace:\n",
      "0   chromedriver                        0x000000010491ed3c chromedriver + 4222268\n",
      "1   chromedriver                        0x00000001048a58e8 chromedriver + 3725544\n",
      "2   chromedriver                        0x000000010455bda4 chromedriver + 277924\n",
      "3   chromedriver                        0x00000001045971b8 chromedriver + 520632\n",
      "4   chromedriver                        0x00000001045cf618 chromedriver + 751128\n",
      "5   chromedriver                        0x00000001045898f0 chromedriver + 465136\n",
      "6   chromedriver                        0x000000010458a974 chromedriver + 469364\n",
      "7   chromedriver                        0x00000001048ef788 chromedriver + 4028296\n",
      "8   chromedriver                        0x00000001048f3c1c chromedriver + 4045852\n",
      "9   chromedriver                        0x00000001048f9c98 chromedriver + 4070552\n",
      "10  chromedriver                        0x00000001048f48d8 chromedriver + 4049112\n",
      "11  chromedriver                        0x00000001048cbd84 chromedriver + 3882372\n",
      "12  chromedriver                        0x0000000104912720 chromedriver + 4171552\n",
      "13  chromedriver                        0x0000000104912878 chromedriver + 4171896\n",
      "14  chromedriver                        0x0000000104926014 chromedriver + 4251668\n",
      "15  libsystem_pthread.dylib             0x00000001a3d2606c _pthread_start + 148\n",
      "16  libsystem_pthread.dylib             0x00000001a3d20e2c thread_start + 8\n",
      "\n"
     ]
    },
    {
     "name": "stderr",
     "output_type": "stream",
     "text": [
      "  2%|▏         | 612/30819 [56:17<44:59:53,  5.36s/it]"
     ]
    },
    {
     "name": "stdout",
     "output_type": "stream",
     "text": [
      "Message: no such element: Unable to locate element: {\"method\":\"css selector\",\"selector\":\".prose\"}\n",
      "  (Session info: chrome=112.0.5615.137)\n",
      "Stacktrace:\n",
      "0   chromedriver                        0x000000010491ed3c chromedriver + 4222268\n",
      "1   chromedriver                        0x00000001048a58e8 chromedriver + 3725544\n",
      "2   chromedriver                        0x000000010455bda4 chromedriver + 277924\n",
      "3   chromedriver                        0x00000001045971b8 chromedriver + 520632\n",
      "4   chromedriver                        0x00000001045cf618 chromedriver + 751128\n",
      "5   chromedriver                        0x00000001045898f0 chromedriver + 465136\n",
      "6   chromedriver                        0x000000010458a974 chromedriver + 469364\n",
      "7   chromedriver                        0x00000001048ef788 chromedriver + 4028296\n",
      "8   chromedriver                        0x00000001048f3c1c chromedriver + 4045852\n",
      "9   chromedriver                        0x00000001048f9c98 chromedriver + 4070552\n",
      "10  chromedriver                        0x00000001048f48d8 chromedriver + 4049112\n",
      "11  chromedriver                        0x00000001048cbd84 chromedriver + 3882372\n",
      "12  chromedriver                        0x0000000104912720 chromedriver + 4171552\n",
      "13  chromedriver                        0x0000000104912878 chromedriver + 4171896\n",
      "14  chromedriver                        0x0000000104926014 chromedriver + 4251668\n",
      "15  libsystem_pthread.dylib             0x00000001a3d2606c _pthread_start + 148\n",
      "16  libsystem_pthread.dylib             0x00000001a3d20e2c thread_start + 8\n",
      "\n"
     ]
    },
    {
     "name": "stderr",
     "output_type": "stream",
     "text": [
      "  2%|▏         | 613/30819 [56:23<47:12:26,  5.63s/it]"
     ]
    },
    {
     "name": "stdout",
     "output_type": "stream",
     "text": [
      "Message: no such element: Unable to locate element: {\"method\":\"css selector\",\"selector\":\".prose\"}\n",
      "  (Session info: chrome=112.0.5615.137)\n",
      "Stacktrace:\n",
      "0   chromedriver                        0x000000010491ed3c chromedriver + 4222268\n",
      "1   chromedriver                        0x00000001048a58e8 chromedriver + 3725544\n",
      "2   chromedriver                        0x000000010455bda4 chromedriver + 277924\n",
      "3   chromedriver                        0x00000001045971b8 chromedriver + 520632\n",
      "4   chromedriver                        0x00000001045cf618 chromedriver + 751128\n",
      "5   chromedriver                        0x00000001045898f0 chromedriver + 465136\n",
      "6   chromedriver                        0x000000010458a974 chromedriver + 469364\n",
      "7   chromedriver                        0x00000001048ef788 chromedriver + 4028296\n",
      "8   chromedriver                        0x00000001048f3c1c chromedriver + 4045852\n",
      "9   chromedriver                        0x00000001048f9c98 chromedriver + 4070552\n",
      "10  chromedriver                        0x00000001048f48d8 chromedriver + 4049112\n",
      "11  chromedriver                        0x00000001048cbd84 chromedriver + 3882372\n",
      "12  chromedriver                        0x0000000104912720 chromedriver + 4171552\n",
      "13  chromedriver                        0x0000000104912878 chromedriver + 4171896\n",
      "14  chromedriver                        0x0000000104926014 chromedriver + 4251668\n",
      "15  libsystem_pthread.dylib             0x00000001a3d2606c _pthread_start + 148\n",
      "16  libsystem_pthread.dylib             0x00000001a3d20e2c thread_start + 8\n",
      "\n"
     ]
    },
    {
     "name": "stderr",
     "output_type": "stream",
     "text": [
      "  2%|▏         | 614/30819 [56:28<46:14:50,  5.51s/it]"
     ]
    },
    {
     "name": "stdout",
     "output_type": "stream",
     "text": [
      "Message: no such element: Unable to locate element: {\"method\":\"css selector\",\"selector\":\".prose\"}\n",
      "  (Session info: chrome=112.0.5615.137)\n",
      "Stacktrace:\n",
      "0   chromedriver                        0x000000010491ed3c chromedriver + 4222268\n",
      "1   chromedriver                        0x00000001048a58e8 chromedriver + 3725544\n",
      "2   chromedriver                        0x000000010455bda4 chromedriver + 277924\n",
      "3   chromedriver                        0x00000001045971b8 chromedriver + 520632\n",
      "4   chromedriver                        0x00000001045cf618 chromedriver + 751128\n",
      "5   chromedriver                        0x00000001045898f0 chromedriver + 465136\n",
      "6   chromedriver                        0x000000010458a974 chromedriver + 469364\n",
      "7   chromedriver                        0x00000001048ef788 chromedriver + 4028296\n",
      "8   chromedriver                        0x00000001048f3c1c chromedriver + 4045852\n",
      "9   chromedriver                        0x00000001048f9c98 chromedriver + 4070552\n",
      "10  chromedriver                        0x00000001048f48d8 chromedriver + 4049112\n",
      "11  chromedriver                        0x00000001048cbd84 chromedriver + 3882372\n",
      "12  chromedriver                        0x0000000104912720 chromedriver + 4171552\n",
      "13  chromedriver                        0x0000000104912878 chromedriver + 4171896\n",
      "14  chromedriver                        0x0000000104926014 chromedriver + 4251668\n",
      "15  libsystem_pthread.dylib             0x00000001a3d2606c _pthread_start + 148\n",
      "16  libsystem_pthread.dylib             0x00000001a3d20e2c thread_start + 8\n",
      "\n"
     ]
    },
    {
     "name": "stderr",
     "output_type": "stream",
     "text": [
      "  2%|▏         | 615/30819 [56:32<43:05:56,  5.14s/it]"
     ]
    },
    {
     "name": "stdout",
     "output_type": "stream",
     "text": [
      "Message: no such element: Unable to locate element: {\"method\":\"css selector\",\"selector\":\".prose\"}\n",
      "  (Session info: chrome=112.0.5615.137)\n",
      "Stacktrace:\n",
      "0   chromedriver                        0x000000010491ed3c chromedriver + 4222268\n",
      "1   chromedriver                        0x00000001048a58e8 chromedriver + 3725544\n",
      "2   chromedriver                        0x000000010455bda4 chromedriver + 277924\n",
      "3   chromedriver                        0x00000001045971b8 chromedriver + 520632\n",
      "4   chromedriver                        0x00000001045cf618 chromedriver + 751128\n",
      "5   chromedriver                        0x00000001045898f0 chromedriver + 465136\n",
      "6   chromedriver                        0x000000010458a974 chromedriver + 469364\n",
      "7   chromedriver                        0x00000001048ef788 chromedriver + 4028296\n",
      "8   chromedriver                        0x00000001048f3c1c chromedriver + 4045852\n",
      "9   chromedriver                        0x00000001048f9c98 chromedriver + 4070552\n",
      "10  chromedriver                        0x00000001048f48d8 chromedriver + 4049112\n",
      "11  chromedriver                        0x00000001048cbd84 chromedriver + 3882372\n",
      "12  chromedriver                        0x0000000104912720 chromedriver + 4171552\n",
      "13  chromedriver                        0x0000000104912878 chromedriver + 4171896\n",
      "14  chromedriver                        0x0000000104926014 chromedriver + 4251668\n",
      "15  libsystem_pthread.dylib             0x00000001a3d2606c _pthread_start + 148\n",
      "16  libsystem_pthread.dylib             0x00000001a3d20e2c thread_start + 8\n",
      "\n"
     ]
    },
    {
     "name": "stderr",
     "output_type": "stream",
     "text": [
      "  2%|▏         | 616/30819 [56:38<43:25:00,  5.18s/it]"
     ]
    },
    {
     "name": "stdout",
     "output_type": "stream",
     "text": [
      "Message: no such element: Unable to locate element: {\"method\":\"css selector\",\"selector\":\".prose\"}\n",
      "  (Session info: chrome=112.0.5615.137)\n",
      "Stacktrace:\n",
      "0   chromedriver                        0x000000010491ed3c chromedriver + 4222268\n",
      "1   chromedriver                        0x00000001048a58e8 chromedriver + 3725544\n",
      "2   chromedriver                        0x000000010455bda4 chromedriver + 277924\n",
      "3   chromedriver                        0x00000001045971b8 chromedriver + 520632\n",
      "4   chromedriver                        0x00000001045cf618 chromedriver + 751128\n",
      "5   chromedriver                        0x00000001045898f0 chromedriver + 465136\n",
      "6   chromedriver                        0x000000010458a974 chromedriver + 469364\n",
      "7   chromedriver                        0x00000001048ef788 chromedriver + 4028296\n",
      "8   chromedriver                        0x00000001048f3c1c chromedriver + 4045852\n",
      "9   chromedriver                        0x00000001048f9c98 chromedriver + 4070552\n",
      "10  chromedriver                        0x00000001048f48d8 chromedriver + 4049112\n",
      "11  chromedriver                        0x00000001048cbd84 chromedriver + 3882372\n",
      "12  chromedriver                        0x0000000104912720 chromedriver + 4171552\n",
      "13  chromedriver                        0x0000000104912878 chromedriver + 4171896\n",
      "14  chromedriver                        0x0000000104926014 chromedriver + 4251668\n",
      "15  libsystem_pthread.dylib             0x00000001a3d2606c _pthread_start + 148\n",
      "16  libsystem_pthread.dylib             0x00000001a3d20e2c thread_start + 8\n",
      "\n"
     ]
    },
    {
     "name": "stderr",
     "output_type": "stream",
     "text": [
      "  2%|▏         | 623/30819 [57:19<45:55:44,  5.48s/it]"
     ]
    },
    {
     "name": "stdout",
     "output_type": "stream",
     "text": [
      "Message: no such element: Unable to locate element: {\"method\":\"css selector\",\"selector\":\".prose\"}\n",
      "  (Session info: chrome=112.0.5615.137)\n",
      "Stacktrace:\n",
      "0   chromedriver                        0x000000010491ed3c chromedriver + 4222268\n",
      "1   chromedriver                        0x00000001048a58e8 chromedriver + 3725544\n",
      "2   chromedriver                        0x000000010455bda4 chromedriver + 277924\n",
      "3   chromedriver                        0x00000001045971b8 chromedriver + 520632\n",
      "4   chromedriver                        0x00000001045cf618 chromedriver + 751128\n",
      "5   chromedriver                        0x00000001045898f0 chromedriver + 465136\n",
      "6   chromedriver                        0x000000010458a974 chromedriver + 469364\n",
      "7   chromedriver                        0x00000001048ef788 chromedriver + 4028296\n",
      "8   chromedriver                        0x00000001048f3c1c chromedriver + 4045852\n",
      "9   chromedriver                        0x00000001048f9c98 chromedriver + 4070552\n",
      "10  chromedriver                        0x00000001048f48d8 chromedriver + 4049112\n",
      "11  chromedriver                        0x00000001048cbd84 chromedriver + 3882372\n",
      "12  chromedriver                        0x0000000104912720 chromedriver + 4171552\n",
      "13  chromedriver                        0x0000000104912878 chromedriver + 4171896\n",
      "14  chromedriver                        0x0000000104926014 chromedriver + 4251668\n",
      "15  libsystem_pthread.dylib             0x00000001a3d2606c _pthread_start + 148\n",
      "16  libsystem_pthread.dylib             0x00000001a3d20e2c thread_start + 8\n",
      "\n"
     ]
    },
    {
     "name": "stderr",
     "output_type": "stream",
     "text": [
      "  2%|▏         | 624/30819 [57:23<42:52:51,  5.11s/it]"
     ]
    },
    {
     "name": "stdout",
     "output_type": "stream",
     "text": [
      "Message: no such element: Unable to locate element: {\"method\":\"css selector\",\"selector\":\".prose\"}\n",
      "  (Session info: chrome=112.0.5615.137)\n",
      "Stacktrace:\n",
      "0   chromedriver                        0x000000010491ed3c chromedriver + 4222268\n",
      "1   chromedriver                        0x00000001048a58e8 chromedriver + 3725544\n",
      "2   chromedriver                        0x000000010455bda4 chromedriver + 277924\n",
      "3   chromedriver                        0x00000001045971b8 chromedriver + 520632\n",
      "4   chromedriver                        0x00000001045cf618 chromedriver + 751128\n",
      "5   chromedriver                        0x00000001045898f0 chromedriver + 465136\n",
      "6   chromedriver                        0x000000010458a974 chromedriver + 469364\n",
      "7   chromedriver                        0x00000001048ef788 chromedriver + 4028296\n",
      "8   chromedriver                        0x00000001048f3c1c chromedriver + 4045852\n",
      "9   chromedriver                        0x00000001048f9c98 chromedriver + 4070552\n",
      "10  chromedriver                        0x00000001048f48d8 chromedriver + 4049112\n",
      "11  chromedriver                        0x00000001048cbd84 chromedriver + 3882372\n",
      "12  chromedriver                        0x0000000104912720 chromedriver + 4171552\n",
      "13  chromedriver                        0x0000000104912878 chromedriver + 4171896\n",
      "14  chromedriver                        0x0000000104926014 chromedriver + 4251668\n",
      "15  libsystem_pthread.dylib             0x00000001a3d2606c _pthread_start + 148\n",
      "16  libsystem_pthread.dylib             0x00000001a3d20e2c thread_start + 8\n",
      "\n"
     ]
    },
    {
     "name": "stderr",
     "output_type": "stream",
     "text": [
      "  2%|▏         | 625/30819 [57:28<40:43:24,  4.86s/it]"
     ]
    },
    {
     "name": "stdout",
     "output_type": "stream",
     "text": [
      "Message: no such element: Unable to locate element: {\"method\":\"css selector\",\"selector\":\".prose\"}\n",
      "  (Session info: chrome=112.0.5615.137)\n",
      "Stacktrace:\n",
      "0   chromedriver                        0x000000010491ed3c chromedriver + 4222268\n",
      "1   chromedriver                        0x00000001048a58e8 chromedriver + 3725544\n",
      "2   chromedriver                        0x000000010455bda4 chromedriver + 277924\n",
      "3   chromedriver                        0x00000001045971b8 chromedriver + 520632\n",
      "4   chromedriver                        0x00000001045cf618 chromedriver + 751128\n",
      "5   chromedriver                        0x00000001045898f0 chromedriver + 465136\n",
      "6   chromedriver                        0x000000010458a974 chromedriver + 469364\n",
      "7   chromedriver                        0x00000001048ef788 chromedriver + 4028296\n",
      "8   chromedriver                        0x00000001048f3c1c chromedriver + 4045852\n",
      "9   chromedriver                        0x00000001048f9c98 chromedriver + 4070552\n",
      "10  chromedriver                        0x00000001048f48d8 chromedriver + 4049112\n",
      "11  chromedriver                        0x00000001048cbd84 chromedriver + 3882372\n",
      "12  chromedriver                        0x0000000104912720 chromedriver + 4171552\n",
      "13  chromedriver                        0x0000000104912878 chromedriver + 4171896\n",
      "14  chromedriver                        0x0000000104926014 chromedriver + 4251668\n",
      "15  libsystem_pthread.dylib             0x00000001a3d2606c _pthread_start + 148\n",
      "16  libsystem_pthread.dylib             0x00000001a3d20e2c thread_start + 8\n",
      "\n"
     ]
    },
    {
     "name": "stderr",
     "output_type": "stream",
     "text": [
      "  2%|▏         | 626/30819 [57:32<39:13:26,  4.68s/it]"
     ]
    },
    {
     "name": "stdout",
     "output_type": "stream",
     "text": [
      "Message: no such element: Unable to locate element: {\"method\":\"css selector\",\"selector\":\".prose\"}\n",
      "  (Session info: chrome=112.0.5615.137)\n",
      "Stacktrace:\n",
      "0   chromedriver                        0x000000010491ed3c chromedriver + 4222268\n",
      "1   chromedriver                        0x00000001048a58e8 chromedriver + 3725544\n",
      "2   chromedriver                        0x000000010455bda4 chromedriver + 277924\n",
      "3   chromedriver                        0x00000001045971b8 chromedriver + 520632\n",
      "4   chromedriver                        0x00000001045cf618 chromedriver + 751128\n",
      "5   chromedriver                        0x00000001045898f0 chromedriver + 465136\n",
      "6   chromedriver                        0x000000010458a974 chromedriver + 469364\n",
      "7   chromedriver                        0x00000001048ef788 chromedriver + 4028296\n",
      "8   chromedriver                        0x00000001048f3c1c chromedriver + 4045852\n",
      "9   chromedriver                        0x00000001048f9c98 chromedriver + 4070552\n",
      "10  chromedriver                        0x00000001048f48d8 chromedriver + 4049112\n",
      "11  chromedriver                        0x00000001048cbd84 chromedriver + 3882372\n",
      "12  chromedriver                        0x0000000104912720 chromedriver + 4171552\n",
      "13  chromedriver                        0x0000000104912878 chromedriver + 4171896\n",
      "14  chromedriver                        0x0000000104926014 chromedriver + 4251668\n",
      "15  libsystem_pthread.dylib             0x00000001a3d2606c _pthread_start + 148\n",
      "16  libsystem_pthread.dylib             0x00000001a3d20e2c thread_start + 8\n",
      "\n"
     ]
    },
    {
     "name": "stderr",
     "output_type": "stream",
     "text": [
      "  2%|▏         | 633/30819 [58:12<47:59:10,  5.72s/it]"
     ]
    },
    {
     "name": "stdout",
     "output_type": "stream",
     "text": [
      "Message: no such element: Unable to locate element: {\"method\":\"css selector\",\"selector\":\".prose\"}\n",
      "  (Session info: chrome=112.0.5615.137)\n",
      "Stacktrace:\n",
      "0   chromedriver                        0x000000010491ed3c chromedriver + 4222268\n",
      "1   chromedriver                        0x00000001048a58e8 chromedriver + 3725544\n",
      "2   chromedriver                        0x000000010455bda4 chromedriver + 277924\n",
      "3   chromedriver                        0x00000001045971b8 chromedriver + 520632\n",
      "4   chromedriver                        0x00000001045cf618 chromedriver + 751128\n",
      "5   chromedriver                        0x00000001045898f0 chromedriver + 465136\n",
      "6   chromedriver                        0x000000010458a974 chromedriver + 469364\n",
      "7   chromedriver                        0x00000001048ef788 chromedriver + 4028296\n",
      "8   chromedriver                        0x00000001048f3c1c chromedriver + 4045852\n",
      "9   chromedriver                        0x00000001048f9c98 chromedriver + 4070552\n",
      "10  chromedriver                        0x00000001048f48d8 chromedriver + 4049112\n",
      "11  chromedriver                        0x00000001048cbd84 chromedriver + 3882372\n",
      "12  chromedriver                        0x0000000104912720 chromedriver + 4171552\n",
      "13  chromedriver                        0x0000000104912878 chromedriver + 4171896\n",
      "14  chromedriver                        0x0000000104926014 chromedriver + 4251668\n",
      "15  libsystem_pthread.dylib             0x00000001a3d2606c _pthread_start + 148\n",
      "16  libsystem_pthread.dylib             0x00000001a3d20e2c thread_start + 8\n",
      "\n"
     ]
    },
    {
     "name": "stderr",
     "output_type": "stream",
     "text": [
      "  2%|▏         | 634/30819 [58:19<49:17:07,  5.88s/it]"
     ]
    },
    {
     "name": "stdout",
     "output_type": "stream",
     "text": [
      "Message: no such element: Unable to locate element: {\"method\":\"css selector\",\"selector\":\".prose\"}\n",
      "  (Session info: chrome=112.0.5615.137)\n",
      "Stacktrace:\n",
      "0   chromedriver                        0x000000010491ed3c chromedriver + 4222268\n",
      "1   chromedriver                        0x00000001048a58e8 chromedriver + 3725544\n",
      "2   chromedriver                        0x000000010455bda4 chromedriver + 277924\n",
      "3   chromedriver                        0x00000001045971b8 chromedriver + 520632\n",
      "4   chromedriver                        0x00000001045cf618 chromedriver + 751128\n",
      "5   chromedriver                        0x00000001045898f0 chromedriver + 465136\n",
      "6   chromedriver                        0x000000010458a974 chromedriver + 469364\n",
      "7   chromedriver                        0x00000001048ef788 chromedriver + 4028296\n",
      "8   chromedriver                        0x00000001048f3c1c chromedriver + 4045852\n",
      "9   chromedriver                        0x00000001048f9c98 chromedriver + 4070552\n",
      "10  chromedriver                        0x00000001048f48d8 chromedriver + 4049112\n",
      "11  chromedriver                        0x00000001048cbd84 chromedriver + 3882372\n",
      "12  chromedriver                        0x0000000104912720 chromedriver + 4171552\n",
      "13  chromedriver                        0x0000000104912878 chromedriver + 4171896\n",
      "14  chromedriver                        0x0000000104926014 chromedriver + 4251668\n",
      "15  libsystem_pthread.dylib             0x00000001a3d2606c _pthread_start + 148\n",
      "16  libsystem_pthread.dylib             0x00000001a3d20e2c thread_start + 8\n",
      "\n"
     ]
    },
    {
     "name": "stderr",
     "output_type": "stream",
     "text": [
      "  2%|▏         | 635/30819 [58:24<47:42:50,  5.69s/it]"
     ]
    },
    {
     "name": "stdout",
     "output_type": "stream",
     "text": [
      "Message: no such element: Unable to locate element: {\"method\":\"css selector\",\"selector\":\".prose\"}\n",
      "  (Session info: chrome=112.0.5615.137)\n",
      "Stacktrace:\n",
      "0   chromedriver                        0x000000010491ed3c chromedriver + 4222268\n",
      "1   chromedriver                        0x00000001048a58e8 chromedriver + 3725544\n",
      "2   chromedriver                        0x000000010455bda4 chromedriver + 277924\n",
      "3   chromedriver                        0x00000001045971b8 chromedriver + 520632\n",
      "4   chromedriver                        0x00000001045cf618 chromedriver + 751128\n",
      "5   chromedriver                        0x00000001045898f0 chromedriver + 465136\n",
      "6   chromedriver                        0x000000010458a974 chromedriver + 469364\n",
      "7   chromedriver                        0x00000001048ef788 chromedriver + 4028296\n",
      "8   chromedriver                        0x00000001048f3c1c chromedriver + 4045852\n",
      "9   chromedriver                        0x00000001048f9c98 chromedriver + 4070552\n",
      "10  chromedriver                        0x00000001048f48d8 chromedriver + 4049112\n",
      "11  chromedriver                        0x00000001048cbd84 chromedriver + 3882372\n",
      "12  chromedriver                        0x0000000104912720 chromedriver + 4171552\n",
      "13  chromedriver                        0x0000000104912878 chromedriver + 4171896\n",
      "14  chromedriver                        0x0000000104926014 chromedriver + 4251668\n",
      "15  libsystem_pthread.dylib             0x00000001a3d2606c _pthread_start + 148\n",
      "16  libsystem_pthread.dylib             0x00000001a3d20e2c thread_start + 8\n",
      "\n"
     ]
    },
    {
     "name": "stderr",
     "output_type": "stream",
     "text": [
      "  2%|▏         | 636/30819 [58:29<46:36:30,  5.56s/it]"
     ]
    },
    {
     "name": "stdout",
     "output_type": "stream",
     "text": [
      "Message: no such element: Unable to locate element: {\"method\":\"css selector\",\"selector\":\".prose\"}\n",
      "  (Session info: chrome=112.0.5615.137)\n",
      "Stacktrace:\n",
      "0   chromedriver                        0x000000010491ed3c chromedriver + 4222268\n",
      "1   chromedriver                        0x00000001048a58e8 chromedriver + 3725544\n",
      "2   chromedriver                        0x000000010455bda4 chromedriver + 277924\n",
      "3   chromedriver                        0x00000001045971b8 chromedriver + 520632\n",
      "4   chromedriver                        0x00000001045cf618 chromedriver + 751128\n",
      "5   chromedriver                        0x00000001045898f0 chromedriver + 465136\n",
      "6   chromedriver                        0x000000010458a974 chromedriver + 469364\n",
      "7   chromedriver                        0x00000001048ef788 chromedriver + 4028296\n",
      "8   chromedriver                        0x00000001048f3c1c chromedriver + 4045852\n",
      "9   chromedriver                        0x00000001048f9c98 chromedriver + 4070552\n",
      "10  chromedriver                        0x00000001048f48d8 chromedriver + 4049112\n",
      "11  chromedriver                        0x00000001048cbd84 chromedriver + 3882372\n",
      "12  chromedriver                        0x0000000104912720 chromedriver + 4171552\n",
      "13  chromedriver                        0x0000000104912878 chromedriver + 4171896\n",
      "14  chromedriver                        0x0000000104926014 chromedriver + 4251668\n",
      "15  libsystem_pthread.dylib             0x00000001a3d2606c _pthread_start + 148\n",
      "16  libsystem_pthread.dylib             0x00000001a3d20e2c thread_start + 8\n",
      "\n"
     ]
    },
    {
     "name": "stderr",
     "output_type": "stream",
     "text": [
      "  2%|▏         | 637/30819 [58:35<48:22:19,  5.77s/it]"
     ]
    },
    {
     "name": "stdout",
     "output_type": "stream",
     "text": [
      "Message: no such element: Unable to locate element: {\"method\":\"css selector\",\"selector\":\".prose\"}\n",
      "  (Session info: chrome=112.0.5615.137)\n",
      "Stacktrace:\n",
      "0   chromedriver                        0x000000010491ed3c chromedriver + 4222268\n",
      "1   chromedriver                        0x00000001048a58e8 chromedriver + 3725544\n",
      "2   chromedriver                        0x000000010455bda4 chromedriver + 277924\n",
      "3   chromedriver                        0x00000001045971b8 chromedriver + 520632\n",
      "4   chromedriver                        0x00000001045cf618 chromedriver + 751128\n",
      "5   chromedriver                        0x00000001045898f0 chromedriver + 465136\n",
      "6   chromedriver                        0x000000010458a974 chromedriver + 469364\n",
      "7   chromedriver                        0x00000001048ef788 chromedriver + 4028296\n",
      "8   chromedriver                        0x00000001048f3c1c chromedriver + 4045852\n",
      "9   chromedriver                        0x00000001048f9c98 chromedriver + 4070552\n",
      "10  chromedriver                        0x00000001048f48d8 chromedriver + 4049112\n",
      "11  chromedriver                        0x00000001048cbd84 chromedriver + 3882372\n",
      "12  chromedriver                        0x0000000104912720 chromedriver + 4171552\n",
      "13  chromedriver                        0x0000000104912878 chromedriver + 4171896\n",
      "14  chromedriver                        0x0000000104926014 chromedriver + 4251668\n",
      "15  libsystem_pthread.dylib             0x00000001a3d2606c _pthread_start + 148\n",
      "16  libsystem_pthread.dylib             0x00000001a3d20e2c thread_start + 8\n",
      "\n"
     ]
    },
    {
     "name": "stderr",
     "output_type": "stream",
     "text": [
      "  2%|▏         | 638/30819 [58:42<49:39:14,  5.92s/it]"
     ]
    },
    {
     "name": "stdout",
     "output_type": "stream",
     "text": [
      "Message: no such element: Unable to locate element: {\"method\":\"css selector\",\"selector\":\".prose\"}\n",
      "  (Session info: chrome=112.0.5615.137)\n",
      "Stacktrace:\n",
      "0   chromedriver                        0x000000010491ed3c chromedriver + 4222268\n",
      "1   chromedriver                        0x00000001048a58e8 chromedriver + 3725544\n",
      "2   chromedriver                        0x000000010455bda4 chromedriver + 277924\n",
      "3   chromedriver                        0x00000001045971b8 chromedriver + 520632\n",
      "4   chromedriver                        0x00000001045cf618 chromedriver + 751128\n",
      "5   chromedriver                        0x00000001045898f0 chromedriver + 465136\n",
      "6   chromedriver                        0x000000010458a974 chromedriver + 469364\n",
      "7   chromedriver                        0x00000001048ef788 chromedriver + 4028296\n",
      "8   chromedriver                        0x00000001048f3c1c chromedriver + 4045852\n",
      "9   chromedriver                        0x00000001048f9c98 chromedriver + 4070552\n",
      "10  chromedriver                        0x00000001048f48d8 chromedriver + 4049112\n",
      "11  chromedriver                        0x00000001048cbd84 chromedriver + 3882372\n",
      "12  chromedriver                        0x0000000104912720 chromedriver + 4171552\n",
      "13  chromedriver                        0x0000000104912878 chromedriver + 4171896\n",
      "14  chromedriver                        0x0000000104926014 chromedriver + 4251668\n",
      "15  libsystem_pthread.dylib             0x00000001a3d2606c _pthread_start + 148\n",
      "16  libsystem_pthread.dylib             0x00000001a3d20e2c thread_start + 8\n",
      "\n"
     ]
    },
    {
     "name": "stderr",
     "output_type": "stream",
     "text": [
      "  2%|▏         | 639/30819 [58:47<48:01:27,  5.73s/it]"
     ]
    },
    {
     "name": "stdout",
     "output_type": "stream",
     "text": [
      "Message: no such element: Unable to locate element: {\"method\":\"css selector\",\"selector\":\".prose\"}\n",
      "  (Session info: chrome=112.0.5615.137)\n",
      "Stacktrace:\n",
      "0   chromedriver                        0x000000010491ed3c chromedriver + 4222268\n",
      "1   chromedriver                        0x00000001048a58e8 chromedriver + 3725544\n",
      "2   chromedriver                        0x000000010455bda4 chromedriver + 277924\n",
      "3   chromedriver                        0x00000001045971b8 chromedriver + 520632\n",
      "4   chromedriver                        0x00000001045cf618 chromedriver + 751128\n",
      "5   chromedriver                        0x00000001045898f0 chromedriver + 465136\n",
      "6   chromedriver                        0x000000010458a974 chromedriver + 469364\n",
      "7   chromedriver                        0x00000001048ef788 chromedriver + 4028296\n",
      "8   chromedriver                        0x00000001048f3c1c chromedriver + 4045852\n",
      "9   chromedriver                        0x00000001048f9c98 chromedriver + 4070552\n",
      "10  chromedriver                        0x00000001048f48d8 chromedriver + 4049112\n",
      "11  chromedriver                        0x00000001048cbd84 chromedriver + 3882372\n",
      "12  chromedriver                        0x0000000104912720 chromedriver + 4171552\n",
      "13  chromedriver                        0x0000000104912878 chromedriver + 4171896\n",
      "14  chromedriver                        0x0000000104926014 chromedriver + 4251668\n",
      "15  libsystem_pthread.dylib             0x00000001a3d2606c _pthread_start + 148\n",
      "16  libsystem_pthread.dylib             0x00000001a3d20e2c thread_start + 8\n",
      "\n"
     ]
    },
    {
     "name": "stderr",
     "output_type": "stream",
     "text": [
      "  2%|▏         | 640/30819 [58:53<49:23:01,  5.89s/it]"
     ]
    },
    {
     "name": "stdout",
     "output_type": "stream",
     "text": [
      "Message: no such element: Unable to locate element: {\"method\":\"css selector\",\"selector\":\".prose\"}\n",
      "  (Session info: chrome=112.0.5615.137)\n",
      "Stacktrace:\n",
      "0   chromedriver                        0x000000010491ed3c chromedriver + 4222268\n",
      "1   chromedriver                        0x00000001048a58e8 chromedriver + 3725544\n",
      "2   chromedriver                        0x000000010455bda4 chromedriver + 277924\n",
      "3   chromedriver                        0x00000001045971b8 chromedriver + 520632\n",
      "4   chromedriver                        0x00000001045cf618 chromedriver + 751128\n",
      "5   chromedriver                        0x00000001045898f0 chromedriver + 465136\n",
      "6   chromedriver                        0x000000010458a974 chromedriver + 469364\n",
      "7   chromedriver                        0x00000001048ef788 chromedriver + 4028296\n",
      "8   chromedriver                        0x00000001048f3c1c chromedriver + 4045852\n",
      "9   chromedriver                        0x00000001048f9c98 chromedriver + 4070552\n",
      "10  chromedriver                        0x00000001048f48d8 chromedriver + 4049112\n",
      "11  chromedriver                        0x00000001048cbd84 chromedriver + 3882372\n",
      "12  chromedriver                        0x0000000104912720 chromedriver + 4171552\n",
      "13  chromedriver                        0x0000000104912878 chromedriver + 4171896\n",
      "14  chromedriver                        0x0000000104926014 chromedriver + 4251668\n",
      "15  libsystem_pthread.dylib             0x00000001a3d2606c _pthread_start + 148\n",
      "16  libsystem_pthread.dylib             0x00000001a3d20e2c thread_start + 8\n",
      "\n"
     ]
    },
    {
     "name": "stderr",
     "output_type": "stream",
     "text": [
      "  2%|▏         | 641/30819 [58:58<45:20:04,  5.41s/it]"
     ]
    },
    {
     "name": "stdout",
     "output_type": "stream",
     "text": [
      "Message: no such element: Unable to locate element: {\"method\":\"css selector\",\"selector\":\".prose\"}\n",
      "  (Session info: chrome=112.0.5615.137)\n",
      "Stacktrace:\n",
      "0   chromedriver                        0x000000010491ed3c chromedriver + 4222268\n",
      "1   chromedriver                        0x00000001048a58e8 chromedriver + 3725544\n",
      "2   chromedriver                        0x000000010455bda4 chromedriver + 277924\n",
      "3   chromedriver                        0x00000001045971b8 chromedriver + 520632\n",
      "4   chromedriver                        0x00000001045cf618 chromedriver + 751128\n",
      "5   chromedriver                        0x00000001045898f0 chromedriver + 465136\n",
      "6   chromedriver                        0x000000010458a974 chromedriver + 469364\n",
      "7   chromedriver                        0x00000001048ef788 chromedriver + 4028296\n",
      "8   chromedriver                        0x00000001048f3c1c chromedriver + 4045852\n",
      "9   chromedriver                        0x00000001048f9c98 chromedriver + 4070552\n",
      "10  chromedriver                        0x00000001048f48d8 chromedriver + 4049112\n",
      "11  chromedriver                        0x00000001048cbd84 chromedriver + 3882372\n",
      "12  chromedriver                        0x0000000104912720 chromedriver + 4171552\n",
      "13  chromedriver                        0x0000000104912878 chromedriver + 4171896\n",
      "14  chromedriver                        0x0000000104926014 chromedriver + 4251668\n",
      "15  libsystem_pthread.dylib             0x00000001a3d2606c _pthread_start + 148\n",
      "16  libsystem_pthread.dylib             0x00000001a3d20e2c thread_start + 8\n",
      "\n"
     ]
    },
    {
     "name": "stderr",
     "output_type": "stream",
     "text": [
      "  2%|▏         | 642/30819 [59:02<42:28:26,  5.07s/it]"
     ]
    },
    {
     "name": "stdout",
     "output_type": "stream",
     "text": [
      "Message: no such element: Unable to locate element: {\"method\":\"css selector\",\"selector\":\".prose\"}\n",
      "  (Session info: chrome=112.0.5615.137)\n",
      "Stacktrace:\n",
      "0   chromedriver                        0x000000010491ed3c chromedriver + 4222268\n",
      "1   chromedriver                        0x00000001048a58e8 chromedriver + 3725544\n",
      "2   chromedriver                        0x000000010455bda4 chromedriver + 277924\n",
      "3   chromedriver                        0x00000001045971b8 chromedriver + 520632\n",
      "4   chromedriver                        0x00000001045cf618 chromedriver + 751128\n",
      "5   chromedriver                        0x00000001045898f0 chromedriver + 465136\n",
      "6   chromedriver                        0x000000010458a974 chromedriver + 469364\n",
      "7   chromedriver                        0x00000001048ef788 chromedriver + 4028296\n",
      "8   chromedriver                        0x00000001048f3c1c chromedriver + 4045852\n",
      "9   chromedriver                        0x00000001048f9c98 chromedriver + 4070552\n",
      "10  chromedriver                        0x00000001048f48d8 chromedriver + 4049112\n",
      "11  chromedriver                        0x00000001048cbd84 chromedriver + 3882372\n",
      "12  chromedriver                        0x0000000104912720 chromedriver + 4171552\n",
      "13  chromedriver                        0x0000000104912878 chromedriver + 4171896\n",
      "14  chromedriver                        0x0000000104926014 chromedriver + 4251668\n",
      "15  libsystem_pthread.dylib             0x00000001a3d2606c _pthread_start + 148\n",
      "16  libsystem_pthread.dylib             0x00000001a3d20e2c thread_start + 8\n",
      "\n"
     ]
    },
    {
     "name": "stderr",
     "output_type": "stream",
     "text": [
      "  2%|▏         | 643/30819 [59:08<45:31:29,  5.43s/it]"
     ]
    },
    {
     "name": "stdout",
     "output_type": "stream",
     "text": [
      "Message: no such element: Unable to locate element: {\"method\":\"css selector\",\"selector\":\".prose\"}\n",
      "  (Session info: chrome=112.0.5615.137)\n",
      "Stacktrace:\n",
      "0   chromedriver                        0x000000010491ed3c chromedriver + 4222268\n",
      "1   chromedriver                        0x00000001048a58e8 chromedriver + 3725544\n",
      "2   chromedriver                        0x000000010455bda4 chromedriver + 277924\n",
      "3   chromedriver                        0x00000001045971b8 chromedriver + 520632\n",
      "4   chromedriver                        0x00000001045cf618 chromedriver + 751128\n",
      "5   chromedriver                        0x00000001045898f0 chromedriver + 465136\n",
      "6   chromedriver                        0x000000010458a974 chromedriver + 469364\n",
      "7   chromedriver                        0x00000001048ef788 chromedriver + 4028296\n",
      "8   chromedriver                        0x00000001048f3c1c chromedriver + 4045852\n",
      "9   chromedriver                        0x00000001048f9c98 chromedriver + 4070552\n",
      "10  chromedriver                        0x00000001048f48d8 chromedriver + 4049112\n",
      "11  chromedriver                        0x00000001048cbd84 chromedriver + 3882372\n",
      "12  chromedriver                        0x0000000104912720 chromedriver + 4171552\n",
      "13  chromedriver                        0x0000000104912878 chromedriver + 4171896\n",
      "14  chromedriver                        0x0000000104926014 chromedriver + 4251668\n",
      "15  libsystem_pthread.dylib             0x00000001a3d2606c _pthread_start + 148\n",
      "16  libsystem_pthread.dylib             0x00000001a3d20e2c thread_start + 8\n",
      "\n"
     ]
    },
    {
     "name": "stderr",
     "output_type": "stream",
     "text": [
      "  2%|▏         | 644/30819 [59:14<47:42:40,  5.69s/it]"
     ]
    },
    {
     "name": "stdout",
     "output_type": "stream",
     "text": [
      "Message: no such element: Unable to locate element: {\"method\":\"css selector\",\"selector\":\".prose\"}\n",
      "  (Session info: chrome=112.0.5615.137)\n",
      "Stacktrace:\n",
      "0   chromedriver                        0x000000010491ed3c chromedriver + 4222268\n",
      "1   chromedriver                        0x00000001048a58e8 chromedriver + 3725544\n",
      "2   chromedriver                        0x000000010455bda4 chromedriver + 277924\n",
      "3   chromedriver                        0x00000001045971b8 chromedriver + 520632\n",
      "4   chromedriver                        0x00000001045cf618 chromedriver + 751128\n",
      "5   chromedriver                        0x00000001045898f0 chromedriver + 465136\n",
      "6   chromedriver                        0x000000010458a974 chromedriver + 469364\n",
      "7   chromedriver                        0x00000001048ef788 chromedriver + 4028296\n",
      "8   chromedriver                        0x00000001048f3c1c chromedriver + 4045852\n",
      "9   chromedriver                        0x00000001048f9c98 chromedriver + 4070552\n",
      "10  chromedriver                        0x00000001048f48d8 chromedriver + 4049112\n",
      "11  chromedriver                        0x00000001048cbd84 chromedriver + 3882372\n",
      "12  chromedriver                        0x0000000104912720 chromedriver + 4171552\n",
      "13  chromedriver                        0x0000000104912878 chromedriver + 4171896\n",
      "14  chromedriver                        0x0000000104926014 chromedriver + 4251668\n",
      "15  libsystem_pthread.dylib             0x00000001a3d2606c _pthread_start + 148\n",
      "16  libsystem_pthread.dylib             0x00000001a3d20e2c thread_start + 8\n",
      "\n"
     ]
    },
    {
     "name": "stderr",
     "output_type": "stream",
     "text": [
      "  2%|▏         | 645/30819 [59:19<44:09:09,  5.27s/it]"
     ]
    },
    {
     "name": "stdout",
     "output_type": "stream",
     "text": [
      "Message: no such element: Unable to locate element: {\"method\":\"css selector\",\"selector\":\".prose\"}\n",
      "  (Session info: chrome=112.0.5615.137)\n",
      "Stacktrace:\n",
      "0   chromedriver                        0x000000010491ed3c chromedriver + 4222268\n",
      "1   chromedriver                        0x00000001048a58e8 chromedriver + 3725544\n",
      "2   chromedriver                        0x000000010455bda4 chromedriver + 277924\n",
      "3   chromedriver                        0x00000001045971b8 chromedriver + 520632\n",
      "4   chromedriver                        0x00000001045cf618 chromedriver + 751128\n",
      "5   chromedriver                        0x00000001045898f0 chromedriver + 465136\n",
      "6   chromedriver                        0x000000010458a974 chromedriver + 469364\n",
      "7   chromedriver                        0x00000001048ef788 chromedriver + 4028296\n",
      "8   chromedriver                        0x00000001048f3c1c chromedriver + 4045852\n",
      "9   chromedriver                        0x00000001048f9c98 chromedriver + 4070552\n",
      "10  chromedriver                        0x00000001048f48d8 chromedriver + 4049112\n",
      "11  chromedriver                        0x00000001048cbd84 chromedriver + 3882372\n",
      "12  chromedriver                        0x0000000104912720 chromedriver + 4171552\n",
      "13  chromedriver                        0x0000000104912878 chromedriver + 4171896\n",
      "14  chromedriver                        0x0000000104926014 chromedriver + 4251668\n",
      "15  libsystem_pthread.dylib             0x00000001a3d2606c _pthread_start + 148\n",
      "16  libsystem_pthread.dylib             0x00000001a3d20e2c thread_start + 8\n",
      "\n"
     ]
    },
    {
     "name": "stderr",
     "output_type": "stream",
     "text": [
      "  2%|▏         | 646/30819 [59:23<41:38:57,  4.97s/it]"
     ]
    },
    {
     "name": "stdout",
     "output_type": "stream",
     "text": [
      "Message: no such element: Unable to locate element: {\"method\":\"css selector\",\"selector\":\".prose\"}\n",
      "  (Session info: chrome=112.0.5615.137)\n",
      "Stacktrace:\n",
      "0   chromedriver                        0x000000010491ed3c chromedriver + 4222268\n",
      "1   chromedriver                        0x00000001048a58e8 chromedriver + 3725544\n",
      "2   chromedriver                        0x000000010455bda4 chromedriver + 277924\n",
      "3   chromedriver                        0x00000001045971b8 chromedriver + 520632\n",
      "4   chromedriver                        0x00000001045cf618 chromedriver + 751128\n",
      "5   chromedriver                        0x00000001045898f0 chromedriver + 465136\n",
      "6   chromedriver                        0x000000010458a974 chromedriver + 469364\n",
      "7   chromedriver                        0x00000001048ef788 chromedriver + 4028296\n",
      "8   chromedriver                        0x00000001048f3c1c chromedriver + 4045852\n",
      "9   chromedriver                        0x00000001048f9c98 chromedriver + 4070552\n",
      "10  chromedriver                        0x00000001048f48d8 chromedriver + 4049112\n",
      "11  chromedriver                        0x00000001048cbd84 chromedriver + 3882372\n",
      "12  chromedriver                        0x0000000104912720 chromedriver + 4171552\n",
      "13  chromedriver                        0x0000000104912878 chromedriver + 4171896\n",
      "14  chromedriver                        0x0000000104926014 chromedriver + 4251668\n",
      "15  libsystem_pthread.dylib             0x00000001a3d2606c _pthread_start + 148\n",
      "16  libsystem_pthread.dylib             0x00000001a3d20e2c thread_start + 8\n",
      "\n"
     ]
    },
    {
     "name": "stderr",
     "output_type": "stream",
     "text": [
      "  2%|▏         | 647/30819 [59:29<44:57:22,  5.36s/it]"
     ]
    },
    {
     "name": "stdout",
     "output_type": "stream",
     "text": [
      "Message: no such element: Unable to locate element: {\"method\":\"css selector\",\"selector\":\".prose\"}\n",
      "  (Session info: chrome=112.0.5615.137)\n",
      "Stacktrace:\n",
      "0   chromedriver                        0x000000010491ed3c chromedriver + 4222268\n",
      "1   chromedriver                        0x00000001048a58e8 chromedriver + 3725544\n",
      "2   chromedriver                        0x000000010455bda4 chromedriver + 277924\n",
      "3   chromedriver                        0x00000001045971b8 chromedriver + 520632\n",
      "4   chromedriver                        0x00000001045cf618 chromedriver + 751128\n",
      "5   chromedriver                        0x00000001045898f0 chromedriver + 465136\n",
      "6   chromedriver                        0x000000010458a974 chromedriver + 469364\n",
      "7   chromedriver                        0x00000001048ef788 chromedriver + 4028296\n",
      "8   chromedriver                        0x00000001048f3c1c chromedriver + 4045852\n",
      "9   chromedriver                        0x00000001048f9c98 chromedriver + 4070552\n",
      "10  chromedriver                        0x00000001048f48d8 chromedriver + 4049112\n",
      "11  chromedriver                        0x00000001048cbd84 chromedriver + 3882372\n",
      "12  chromedriver                        0x0000000104912720 chromedriver + 4171552\n",
      "13  chromedriver                        0x0000000104912878 chromedriver + 4171896\n",
      "14  chromedriver                        0x0000000104926014 chromedriver + 4251668\n",
      "15  libsystem_pthread.dylib             0x00000001a3d2606c _pthread_start + 148\n",
      "16  libsystem_pthread.dylib             0x00000001a3d20e2c thread_start + 8\n",
      "\n"
     ]
    },
    {
     "name": "stderr",
     "output_type": "stream",
     "text": [
      "  2%|▏         | 648/30819 [59:35<47:15:11,  5.64s/it]"
     ]
    },
    {
     "name": "stdout",
     "output_type": "stream",
     "text": [
      "Message: no such element: Unable to locate element: {\"method\":\"css selector\",\"selector\":\".prose\"}\n",
      "  (Session info: chrome=112.0.5615.137)\n",
      "Stacktrace:\n",
      "0   chromedriver                        0x000000010491ed3c chromedriver + 4222268\n",
      "1   chromedriver                        0x00000001048a58e8 chromedriver + 3725544\n",
      "2   chromedriver                        0x000000010455bda4 chromedriver + 277924\n",
      "3   chromedriver                        0x00000001045971b8 chromedriver + 520632\n",
      "4   chromedriver                        0x00000001045cf618 chromedriver + 751128\n",
      "5   chromedriver                        0x00000001045898f0 chromedriver + 465136\n",
      "6   chromedriver                        0x000000010458a974 chromedriver + 469364\n",
      "7   chromedriver                        0x00000001048ef788 chromedriver + 4028296\n",
      "8   chromedriver                        0x00000001048f3c1c chromedriver + 4045852\n",
      "9   chromedriver                        0x00000001048f9c98 chromedriver + 4070552\n",
      "10  chromedriver                        0x00000001048f48d8 chromedriver + 4049112\n",
      "11  chromedriver                        0x00000001048cbd84 chromedriver + 3882372\n",
      "12  chromedriver                        0x0000000104912720 chromedriver + 4171552\n",
      "13  chromedriver                        0x0000000104912878 chromedriver + 4171896\n",
      "14  chromedriver                        0x0000000104926014 chromedriver + 4251668\n",
      "15  libsystem_pthread.dylib             0x00000001a3d2606c _pthread_start + 148\n",
      "16  libsystem_pthread.dylib             0x00000001a3d20e2c thread_start + 8\n",
      "\n"
     ]
    },
    {
     "name": "stderr",
     "output_type": "stream",
     "text": [
      "  2%|▏         | 656/30819 [1:00:18<45:15:30,  5.40s/it]"
     ]
    },
    {
     "name": "stdout",
     "output_type": "stream",
     "text": [
      "Message: no such element: Unable to locate element: {\"method\":\"css selector\",\"selector\":\".prose\"}\n",
      "  (Session info: chrome=112.0.5615.137)\n",
      "Stacktrace:\n",
      "0   chromedriver                        0x000000010491ed3c chromedriver + 4222268\n",
      "1   chromedriver                        0x00000001048a58e8 chromedriver + 3725544\n",
      "2   chromedriver                        0x000000010455bda4 chromedriver + 277924\n",
      "3   chromedriver                        0x00000001045971b8 chromedriver + 520632\n",
      "4   chromedriver                        0x00000001045cf618 chromedriver + 751128\n",
      "5   chromedriver                        0x00000001045898f0 chromedriver + 465136\n",
      "6   chromedriver                        0x000000010458a974 chromedriver + 469364\n",
      "7   chromedriver                        0x00000001048ef788 chromedriver + 4028296\n",
      "8   chromedriver                        0x00000001048f3c1c chromedriver + 4045852\n",
      "9   chromedriver                        0x00000001048f9c98 chromedriver + 4070552\n",
      "10  chromedriver                        0x00000001048f48d8 chromedriver + 4049112\n",
      "11  chromedriver                        0x00000001048cbd84 chromedriver + 3882372\n",
      "12  chromedriver                        0x0000000104912720 chromedriver + 4171552\n",
      "13  chromedriver                        0x0000000104912878 chromedriver + 4171896\n",
      "14  chromedriver                        0x0000000104926014 chromedriver + 4251668\n",
      "15  libsystem_pthread.dylib             0x00000001a3d2606c _pthread_start + 148\n",
      "16  libsystem_pthread.dylib             0x00000001a3d20e2c thread_start + 8\n",
      "\n"
     ]
    },
    {
     "name": "stderr",
     "output_type": "stream",
     "text": [
      "  2%|▏         | 657/30819 [1:00:25<47:20:31,  5.65s/it]"
     ]
    },
    {
     "name": "stdout",
     "output_type": "stream",
     "text": [
      "Message: no such element: Unable to locate element: {\"method\":\"css selector\",\"selector\":\".prose\"}\n",
      "  (Session info: chrome=112.0.5615.137)\n",
      "Stacktrace:\n",
      "0   chromedriver                        0x000000010491ed3c chromedriver + 4222268\n",
      "1   chromedriver                        0x00000001048a58e8 chromedriver + 3725544\n",
      "2   chromedriver                        0x000000010455bda4 chromedriver + 277924\n",
      "3   chromedriver                        0x00000001045971b8 chromedriver + 520632\n",
      "4   chromedriver                        0x00000001045cf618 chromedriver + 751128\n",
      "5   chromedriver                        0x00000001045898f0 chromedriver + 465136\n",
      "6   chromedriver                        0x000000010458a974 chromedriver + 469364\n",
      "7   chromedriver                        0x00000001048ef788 chromedriver + 4028296\n",
      "8   chromedriver                        0x00000001048f3c1c chromedriver + 4045852\n",
      "9   chromedriver                        0x00000001048f9c98 chromedriver + 4070552\n",
      "10  chromedriver                        0x00000001048f48d8 chromedriver + 4049112\n",
      "11  chromedriver                        0x00000001048cbd84 chromedriver + 3882372\n",
      "12  chromedriver                        0x0000000104912720 chromedriver + 4171552\n",
      "13  chromedriver                        0x0000000104912878 chromedriver + 4171896\n",
      "14  chromedriver                        0x0000000104926014 chromedriver + 4251668\n",
      "15  libsystem_pthread.dylib             0x00000001a3d2606c _pthread_start + 148\n",
      "16  libsystem_pthread.dylib             0x00000001a3d20e2c thread_start + 8\n",
      "\n"
     ]
    },
    {
     "name": "stderr",
     "output_type": "stream",
     "text": [
      "  2%|▏         | 658/30819 [1:00:30<46:16:32,  5.52s/it]"
     ]
    },
    {
     "name": "stdout",
     "output_type": "stream",
     "text": [
      "Message: no such element: Unable to locate element: {\"method\":\"css selector\",\"selector\":\".prose\"}\n",
      "  (Session info: chrome=112.0.5615.137)\n",
      "Stacktrace:\n",
      "0   chromedriver                        0x000000010491ed3c chromedriver + 4222268\n",
      "1   chromedriver                        0x00000001048a58e8 chromedriver + 3725544\n",
      "2   chromedriver                        0x000000010455bda4 chromedriver + 277924\n",
      "3   chromedriver                        0x00000001045971b8 chromedriver + 520632\n",
      "4   chromedriver                        0x00000001045cf618 chromedriver + 751128\n",
      "5   chromedriver                        0x00000001045898f0 chromedriver + 465136\n",
      "6   chromedriver                        0x000000010458a974 chromedriver + 469364\n",
      "7   chromedriver                        0x00000001048ef788 chromedriver + 4028296\n",
      "8   chromedriver                        0x00000001048f3c1c chromedriver + 4045852\n",
      "9   chromedriver                        0x00000001048f9c98 chromedriver + 4070552\n",
      "10  chromedriver                        0x00000001048f48d8 chromedriver + 4049112\n",
      "11  chromedriver                        0x00000001048cbd84 chromedriver + 3882372\n",
      "12  chromedriver                        0x0000000104912720 chromedriver + 4171552\n",
      "13  chromedriver                        0x0000000104912878 chromedriver + 4171896\n",
      "14  chromedriver                        0x0000000104926014 chromedriver + 4251668\n",
      "15  libsystem_pthread.dylib             0x00000001a3d2606c _pthread_start + 148\n",
      "16  libsystem_pthread.dylib             0x00000001a3d20e2c thread_start + 8\n",
      "\n"
     ]
    },
    {
     "name": "stderr",
     "output_type": "stream",
     "text": [
      "  2%|▏         | 659/30819 [1:00:36<48:05:26,  5.74s/it]"
     ]
    },
    {
     "name": "stdout",
     "output_type": "stream",
     "text": [
      "Message: no such element: Unable to locate element: {\"method\":\"css selector\",\"selector\":\".prose\"}\n",
      "  (Session info: chrome=112.0.5615.137)\n",
      "Stacktrace:\n",
      "0   chromedriver                        0x000000010491ed3c chromedriver + 4222268\n",
      "1   chromedriver                        0x00000001048a58e8 chromedriver + 3725544\n",
      "2   chromedriver                        0x000000010455bda4 chromedriver + 277924\n",
      "3   chromedriver                        0x00000001045971b8 chromedriver + 520632\n",
      "4   chromedriver                        0x00000001045cf618 chromedriver + 751128\n",
      "5   chromedriver                        0x00000001045898f0 chromedriver + 465136\n",
      "6   chromedriver                        0x000000010458a974 chromedriver + 469364\n",
      "7   chromedriver                        0x00000001048ef788 chromedriver + 4028296\n",
      "8   chromedriver                        0x00000001048f3c1c chromedriver + 4045852\n",
      "9   chromedriver                        0x00000001048f9c98 chromedriver + 4070552\n",
      "10  chromedriver                        0x00000001048f48d8 chromedriver + 4049112\n",
      "11  chromedriver                        0x00000001048cbd84 chromedriver + 3882372\n",
      "12  chromedriver                        0x0000000104912720 chromedriver + 4171552\n",
      "13  chromedriver                        0x0000000104912878 chromedriver + 4171896\n",
      "14  chromedriver                        0x0000000104926014 chromedriver + 4251668\n",
      "15  libsystem_pthread.dylib             0x00000001a3d2606c _pthread_start + 148\n",
      "16  libsystem_pthread.dylib             0x00000001a3d20e2c thread_start + 8\n",
      "\n"
     ]
    },
    {
     "name": "stderr",
     "output_type": "stream",
     "text": [
      "  2%|▏         | 667/30819 [1:01:23<49:28:43,  5.91s/it]"
     ]
    },
    {
     "name": "stdout",
     "output_type": "stream",
     "text": [
      "Message: no such element: Unable to locate element: {\"method\":\"css selector\",\"selector\":\".prose\"}\n",
      "  (Session info: chrome=112.0.5615.137)\n",
      "Stacktrace:\n",
      "0   chromedriver                        0x000000010491ed3c chromedriver + 4222268\n",
      "1   chromedriver                        0x00000001048a58e8 chromedriver + 3725544\n",
      "2   chromedriver                        0x000000010455bda4 chromedriver + 277924\n",
      "3   chromedriver                        0x00000001045971b8 chromedriver + 520632\n",
      "4   chromedriver                        0x00000001045cf618 chromedriver + 751128\n",
      "5   chromedriver                        0x00000001045898f0 chromedriver + 465136\n",
      "6   chromedriver                        0x000000010458a974 chromedriver + 469364\n",
      "7   chromedriver                        0x00000001048ef788 chromedriver + 4028296\n",
      "8   chromedriver                        0x00000001048f3c1c chromedriver + 4045852\n",
      "9   chromedriver                        0x00000001048f9c98 chromedriver + 4070552\n",
      "10  chromedriver                        0x00000001048f48d8 chromedriver + 4049112\n",
      "11  chromedriver                        0x00000001048cbd84 chromedriver + 3882372\n",
      "12  chromedriver                        0x0000000104912720 chromedriver + 4171552\n",
      "13  chromedriver                        0x0000000104912878 chromedriver + 4171896\n",
      "14  chromedriver                        0x0000000104926014 chromedriver + 4251668\n",
      "15  libsystem_pthread.dylib             0x00000001a3d2606c _pthread_start + 148\n",
      "16  libsystem_pthread.dylib             0x00000001a3d20e2c thread_start + 8\n",
      "\n"
     ]
    },
    {
     "name": "stderr",
     "output_type": "stream",
     "text": [
      "  2%|▏         | 668/30819 [1:01:29<50:21:26,  6.01s/it]"
     ]
    },
    {
     "name": "stdout",
     "output_type": "stream",
     "text": [
      "Message: no such element: Unable to locate element: {\"method\":\"css selector\",\"selector\":\".prose\"}\n",
      "  (Session info: chrome=112.0.5615.137)\n",
      "Stacktrace:\n",
      "0   chromedriver                        0x000000010491ed3c chromedriver + 4222268\n",
      "1   chromedriver                        0x00000001048a58e8 chromedriver + 3725544\n",
      "2   chromedriver                        0x000000010455bda4 chromedriver + 277924\n",
      "3   chromedriver                        0x00000001045971b8 chromedriver + 520632\n",
      "4   chromedriver                        0x00000001045cf618 chromedriver + 751128\n",
      "5   chromedriver                        0x00000001045898f0 chromedriver + 465136\n",
      "6   chromedriver                        0x000000010458a974 chromedriver + 469364\n",
      "7   chromedriver                        0x00000001048ef788 chromedriver + 4028296\n",
      "8   chromedriver                        0x00000001048f3c1c chromedriver + 4045852\n",
      "9   chromedriver                        0x00000001048f9c98 chromedriver + 4070552\n",
      "10  chromedriver                        0x00000001048f48d8 chromedriver + 4049112\n",
      "11  chromedriver                        0x00000001048cbd84 chromedriver + 3882372\n",
      "12  chromedriver                        0x0000000104912720 chromedriver + 4171552\n",
      "13  chromedriver                        0x0000000104912878 chromedriver + 4171896\n",
      "14  chromedriver                        0x0000000104926014 chromedriver + 4251668\n",
      "15  libsystem_pthread.dylib             0x00000001a3d2606c _pthread_start + 148\n",
      "16  libsystem_pthread.dylib             0x00000001a3d20e2c thread_start + 8\n",
      "\n"
     ]
    },
    {
     "name": "stderr",
     "output_type": "stream",
     "text": [
      "  2%|▏         | 669/30819 [1:01:34<48:26:04,  5.78s/it]"
     ]
    },
    {
     "name": "stdout",
     "output_type": "stream",
     "text": [
      "Message: no such element: Unable to locate element: {\"method\":\"css selector\",\"selector\":\".prose\"}\n",
      "  (Session info: chrome=112.0.5615.137)\n",
      "Stacktrace:\n",
      "0   chromedriver                        0x000000010491ed3c chromedriver + 4222268\n",
      "1   chromedriver                        0x00000001048a58e8 chromedriver + 3725544\n",
      "2   chromedriver                        0x000000010455bda4 chromedriver + 277924\n",
      "3   chromedriver                        0x00000001045971b8 chromedriver + 520632\n",
      "4   chromedriver                        0x00000001045cf618 chromedriver + 751128\n",
      "5   chromedriver                        0x00000001045898f0 chromedriver + 465136\n",
      "6   chromedriver                        0x000000010458a974 chromedriver + 469364\n",
      "7   chromedriver                        0x00000001048ef788 chromedriver + 4028296\n",
      "8   chromedriver                        0x00000001048f3c1c chromedriver + 4045852\n",
      "9   chromedriver                        0x00000001048f9c98 chromedriver + 4070552\n",
      "10  chromedriver                        0x00000001048f48d8 chromedriver + 4049112\n",
      "11  chromedriver                        0x00000001048cbd84 chromedriver + 3882372\n",
      "12  chromedriver                        0x0000000104912720 chromedriver + 4171552\n",
      "13  chromedriver                        0x0000000104912878 chromedriver + 4171896\n",
      "14  chromedriver                        0x0000000104926014 chromedriver + 4251668\n",
      "15  libsystem_pthread.dylib             0x00000001a3d2606c _pthread_start + 148\n",
      "16  libsystem_pthread.dylib             0x00000001a3d20e2c thread_start + 8\n",
      "\n"
     ]
    },
    {
     "name": "stderr",
     "output_type": "stream",
     "text": [
      "  2%|▏         | 677/30819 [1:02:19<47:33:07,  5.68s/it]"
     ]
    },
    {
     "name": "stdout",
     "output_type": "stream",
     "text": [
      "Message: no such element: Unable to locate element: {\"method\":\"css selector\",\"selector\":\".prose\"}\n",
      "  (Session info: chrome=112.0.5615.137)\n",
      "Stacktrace:\n",
      "0   chromedriver                        0x000000010491ed3c chromedriver + 4222268\n",
      "1   chromedriver                        0x00000001048a58e8 chromedriver + 3725544\n",
      "2   chromedriver                        0x000000010455bda4 chromedriver + 277924\n",
      "3   chromedriver                        0x00000001045971b8 chromedriver + 520632\n",
      "4   chromedriver                        0x00000001045cf618 chromedriver + 751128\n",
      "5   chromedriver                        0x00000001045898f0 chromedriver + 465136\n",
      "6   chromedriver                        0x000000010458a974 chromedriver + 469364\n",
      "7   chromedriver                        0x00000001048ef788 chromedriver + 4028296\n",
      "8   chromedriver                        0x00000001048f3c1c chromedriver + 4045852\n",
      "9   chromedriver                        0x00000001048f9c98 chromedriver + 4070552\n",
      "10  chromedriver                        0x00000001048f48d8 chromedriver + 4049112\n",
      "11  chromedriver                        0x00000001048cbd84 chromedriver + 3882372\n",
      "12  chromedriver                        0x0000000104912720 chromedriver + 4171552\n",
      "13  chromedriver                        0x0000000104912878 chromedriver + 4171896\n",
      "14  chromedriver                        0x0000000104926014 chromedriver + 4251668\n",
      "15  libsystem_pthread.dylib             0x00000001a3d2606c _pthread_start + 148\n",
      "16  libsystem_pthread.dylib             0x00000001a3d20e2c thread_start + 8\n",
      "\n"
     ]
    },
    {
     "name": "stderr",
     "output_type": "stream",
     "text": [
      "  2%|▏         | 678/30819 [1:02:24<43:56:10,  5.25s/it]"
     ]
    },
    {
     "name": "stdout",
     "output_type": "stream",
     "text": [
      "Message: no such element: Unable to locate element: {\"method\":\"css selector\",\"selector\":\".prose\"}\n",
      "  (Session info: chrome=112.0.5615.137)\n",
      "Stacktrace:\n",
      "0   chromedriver                        0x000000010491ed3c chromedriver + 4222268\n",
      "1   chromedriver                        0x00000001048a58e8 chromedriver + 3725544\n",
      "2   chromedriver                        0x000000010455bda4 chromedriver + 277924\n",
      "3   chromedriver                        0x00000001045971b8 chromedriver + 520632\n",
      "4   chromedriver                        0x00000001045cf618 chromedriver + 751128\n",
      "5   chromedriver                        0x00000001045898f0 chromedriver + 465136\n",
      "6   chromedriver                        0x000000010458a974 chromedriver + 469364\n",
      "7   chromedriver                        0x00000001048ef788 chromedriver + 4028296\n",
      "8   chromedriver                        0x00000001048f3c1c chromedriver + 4045852\n",
      "9   chromedriver                        0x00000001048f9c98 chromedriver + 4070552\n",
      "10  chromedriver                        0x00000001048f48d8 chromedriver + 4049112\n",
      "11  chromedriver                        0x00000001048cbd84 chromedriver + 3882372\n",
      "12  chromedriver                        0x0000000104912720 chromedriver + 4171552\n",
      "13  chromedriver                        0x0000000104912878 chromedriver + 4171896\n",
      "14  chromedriver                        0x0000000104926014 chromedriver + 4251668\n",
      "15  libsystem_pthread.dylib             0x00000001a3d2606c _pthread_start + 148\n",
      "16  libsystem_pthread.dylib             0x00000001a3d20e2c thread_start + 8\n",
      "\n"
     ]
    },
    {
     "name": "stderr",
     "output_type": "stream",
     "text": [
      "  2%|▏         | 679/30819 [1:02:28<41:25:20,  4.95s/it]"
     ]
    },
    {
     "name": "stdout",
     "output_type": "stream",
     "text": [
      "Message: no such element: Unable to locate element: {\"method\":\"css selector\",\"selector\":\".prose\"}\n",
      "  (Session info: chrome=112.0.5615.137)\n",
      "Stacktrace:\n",
      "0   chromedriver                        0x000000010491ed3c chromedriver + 4222268\n",
      "1   chromedriver                        0x00000001048a58e8 chromedriver + 3725544\n",
      "2   chromedriver                        0x000000010455bda4 chromedriver + 277924\n",
      "3   chromedriver                        0x00000001045971b8 chromedriver + 520632\n",
      "4   chromedriver                        0x00000001045cf618 chromedriver + 751128\n",
      "5   chromedriver                        0x00000001045898f0 chromedriver + 465136\n",
      "6   chromedriver                        0x000000010458a974 chromedriver + 469364\n",
      "7   chromedriver                        0x00000001048ef788 chromedriver + 4028296\n",
      "8   chromedriver                        0x00000001048f3c1c chromedriver + 4045852\n",
      "9   chromedriver                        0x00000001048f9c98 chromedriver + 4070552\n",
      "10  chromedriver                        0x00000001048f48d8 chromedriver + 4049112\n",
      "11  chromedriver                        0x00000001048cbd84 chromedriver + 3882372\n",
      "12  chromedriver                        0x0000000104912720 chromedriver + 4171552\n",
      "13  chromedriver                        0x0000000104912878 chromedriver + 4171896\n",
      "14  chromedriver                        0x0000000104926014 chromedriver + 4251668\n",
      "15  libsystem_pthread.dylib             0x00000001a3d2606c _pthread_start + 148\n",
      "16  libsystem_pthread.dylib             0x00000001a3d20e2c thread_start + 8\n",
      "\n"
     ]
    },
    {
     "name": "stderr",
     "output_type": "stream",
     "text": [
      "  2%|▏         | 680/30819 [1:02:32<39:41:20,  4.74s/it]"
     ]
    },
    {
     "name": "stdout",
     "output_type": "stream",
     "text": [
      "Message: no such element: Unable to locate element: {\"method\":\"css selector\",\"selector\":\".prose\"}\n",
      "  (Session info: chrome=112.0.5615.137)\n",
      "Stacktrace:\n",
      "0   chromedriver                        0x000000010491ed3c chromedriver + 4222268\n",
      "1   chromedriver                        0x00000001048a58e8 chromedriver + 3725544\n",
      "2   chromedriver                        0x000000010455bda4 chromedriver + 277924\n",
      "3   chromedriver                        0x00000001045971b8 chromedriver + 520632\n",
      "4   chromedriver                        0x00000001045cf618 chromedriver + 751128\n",
      "5   chromedriver                        0x00000001045898f0 chromedriver + 465136\n",
      "6   chromedriver                        0x000000010458a974 chromedriver + 469364\n",
      "7   chromedriver                        0x00000001048ef788 chromedriver + 4028296\n",
      "8   chromedriver                        0x00000001048f3c1c chromedriver + 4045852\n",
      "9   chromedriver                        0x00000001048f9c98 chromedriver + 4070552\n",
      "10  chromedriver                        0x00000001048f48d8 chromedriver + 4049112\n",
      "11  chromedriver                        0x00000001048cbd84 chromedriver + 3882372\n",
      "12  chromedriver                        0x0000000104912720 chromedriver + 4171552\n",
      "13  chromedriver                        0x0000000104912878 chromedriver + 4171896\n",
      "14  chromedriver                        0x0000000104926014 chromedriver + 4251668\n",
      "15  libsystem_pthread.dylib             0x00000001a3d2606c _pthread_start + 148\n",
      "16  libsystem_pthread.dylib             0x00000001a3d20e2c thread_start + 8\n",
      "\n"
     ]
    },
    {
     "name": "stderr",
     "output_type": "stream",
     "text": [
      "  2%|▏         | 681/30819 [1:02:37<40:57:20,  4.89s/it]"
     ]
    },
    {
     "name": "stdout",
     "output_type": "stream",
     "text": [
      "Message: no such element: Unable to locate element: {\"method\":\"css selector\",\"selector\":\".prose\"}\n",
      "  (Session info: chrome=112.0.5615.137)\n",
      "Stacktrace:\n",
      "0   chromedriver                        0x000000010491ed3c chromedriver + 4222268\n",
      "1   chromedriver                        0x00000001048a58e8 chromedriver + 3725544\n",
      "2   chromedriver                        0x000000010455bda4 chromedriver + 277924\n",
      "3   chromedriver                        0x00000001045971b8 chromedriver + 520632\n",
      "4   chromedriver                        0x00000001045cf618 chromedriver + 751128\n",
      "5   chromedriver                        0x00000001045898f0 chromedriver + 465136\n",
      "6   chromedriver                        0x000000010458a974 chromedriver + 469364\n",
      "7   chromedriver                        0x00000001048ef788 chromedriver + 4028296\n",
      "8   chromedriver                        0x00000001048f3c1c chromedriver + 4045852\n",
      "9   chromedriver                        0x00000001048f9c98 chromedriver + 4070552\n",
      "10  chromedriver                        0x00000001048f48d8 chromedriver + 4049112\n",
      "11  chromedriver                        0x00000001048cbd84 chromedriver + 3882372\n",
      "12  chromedriver                        0x0000000104912720 chromedriver + 4171552\n",
      "13  chromedriver                        0x0000000104912878 chromedriver + 4171896\n",
      "14  chromedriver                        0x0000000104926014 chromedriver + 4251668\n",
      "15  libsystem_pthread.dylib             0x00000001a3d2606c _pthread_start + 148\n",
      "16  libsystem_pthread.dylib             0x00000001a3d20e2c thread_start + 8\n",
      "\n"
     ]
    },
    {
     "name": "stderr",
     "output_type": "stream",
     "text": [
      "  2%|▏         | 689/30819 [1:03:21<44:31:03,  5.32s/it]"
     ]
    },
    {
     "name": "stdout",
     "output_type": "stream",
     "text": [
      "Message: no such element: Unable to locate element: {\"method\":\"css selector\",\"selector\":\".prose\"}\n",
      "  (Session info: chrome=112.0.5615.137)\n",
      "Stacktrace:\n",
      "0   chromedriver                        0x000000010491ed3c chromedriver + 4222268\n",
      "1   chromedriver                        0x00000001048a58e8 chromedriver + 3725544\n",
      "2   chromedriver                        0x000000010455bda4 chromedriver + 277924\n",
      "3   chromedriver                        0x00000001045971b8 chromedriver + 520632\n",
      "4   chromedriver                        0x00000001045cf618 chromedriver + 751128\n",
      "5   chromedriver                        0x00000001045898f0 chromedriver + 465136\n",
      "6   chromedriver                        0x000000010458a974 chromedriver + 469364\n",
      "7   chromedriver                        0x00000001048ef788 chromedriver + 4028296\n",
      "8   chromedriver                        0x00000001048f3c1c chromedriver + 4045852\n",
      "9   chromedriver                        0x00000001048f9c98 chromedriver + 4070552\n",
      "10  chromedriver                        0x00000001048f48d8 chromedriver + 4049112\n",
      "11  chromedriver                        0x00000001048cbd84 chromedriver + 3882372\n",
      "12  chromedriver                        0x0000000104912720 chromedriver + 4171552\n",
      "13  chromedriver                        0x0000000104912878 chromedriver + 4171896\n",
      "14  chromedriver                        0x0000000104926014 chromedriver + 4251668\n",
      "15  libsystem_pthread.dylib             0x00000001a3d2606c _pthread_start + 148\n",
      "16  libsystem_pthread.dylib             0x00000001a3d20e2c thread_start + 8\n",
      "\n"
     ]
    },
    {
     "name": "stderr",
     "output_type": "stream",
     "text": [
      "  2%|▏         | 690/30819 [1:03:25<41:54:40,  5.01s/it]"
     ]
    },
    {
     "name": "stdout",
     "output_type": "stream",
     "text": [
      "Message: no such element: Unable to locate element: {\"method\":\"css selector\",\"selector\":\".prose\"}\n",
      "  (Session info: chrome=112.0.5615.137)\n",
      "Stacktrace:\n",
      "0   chromedriver                        0x000000010491ed3c chromedriver + 4222268\n",
      "1   chromedriver                        0x00000001048a58e8 chromedriver + 3725544\n",
      "2   chromedriver                        0x000000010455bda4 chromedriver + 277924\n",
      "3   chromedriver                        0x00000001045971b8 chromedriver + 520632\n",
      "4   chromedriver                        0x00000001045cf618 chromedriver + 751128\n",
      "5   chromedriver                        0x00000001045898f0 chromedriver + 465136\n",
      "6   chromedriver                        0x000000010458a974 chromedriver + 469364\n",
      "7   chromedriver                        0x00000001048ef788 chromedriver + 4028296\n",
      "8   chromedriver                        0x00000001048f3c1c chromedriver + 4045852\n",
      "9   chromedriver                        0x00000001048f9c98 chromedriver + 4070552\n",
      "10  chromedriver                        0x00000001048f48d8 chromedriver + 4049112\n",
      "11  chromedriver                        0x00000001048cbd84 chromedriver + 3882372\n",
      "12  chromedriver                        0x0000000104912720 chromedriver + 4171552\n",
      "13  chromedriver                        0x0000000104912878 chromedriver + 4171896\n",
      "14  chromedriver                        0x0000000104926014 chromedriver + 4251668\n",
      "15  libsystem_pthread.dylib             0x00000001a3d2606c _pthread_start + 148\n",
      "16  libsystem_pthread.dylib             0x00000001a3d20e2c thread_start + 8\n",
      "\n"
     ]
    },
    {
     "name": "stderr",
     "output_type": "stream",
     "text": [
      "  2%|▏         | 691/30819 [1:03:31<42:31:18,  5.08s/it]"
     ]
    },
    {
     "name": "stdout",
     "output_type": "stream",
     "text": [
      "Message: no such element: Unable to locate element: {\"method\":\"css selector\",\"selector\":\".prose\"}\n",
      "  (Session info: chrome=112.0.5615.137)\n",
      "Stacktrace:\n",
      "0   chromedriver                        0x000000010491ed3c chromedriver + 4222268\n",
      "1   chromedriver                        0x00000001048a58e8 chromedriver + 3725544\n",
      "2   chromedriver                        0x000000010455bda4 chromedriver + 277924\n",
      "3   chromedriver                        0x00000001045971b8 chromedriver + 520632\n",
      "4   chromedriver                        0x00000001045cf618 chromedriver + 751128\n",
      "5   chromedriver                        0x00000001045898f0 chromedriver + 465136\n",
      "6   chromedriver                        0x000000010458a974 chromedriver + 469364\n",
      "7   chromedriver                        0x00000001048ef788 chromedriver + 4028296\n",
      "8   chromedriver                        0x00000001048f3c1c chromedriver + 4045852\n",
      "9   chromedriver                        0x00000001048f9c98 chromedriver + 4070552\n",
      "10  chromedriver                        0x00000001048f48d8 chromedriver + 4049112\n",
      "11  chromedriver                        0x00000001048cbd84 chromedriver + 3882372\n",
      "12  chromedriver                        0x0000000104912720 chromedriver + 4171552\n",
      "13  chromedriver                        0x0000000104912878 chromedriver + 4171896\n",
      "14  chromedriver                        0x0000000104926014 chromedriver + 4251668\n",
      "15  libsystem_pthread.dylib             0x00000001a3d2606c _pthread_start + 148\n",
      "16  libsystem_pthread.dylib             0x00000001a3d20e2c thread_start + 8\n",
      "\n"
     ]
    },
    {
     "name": "stderr",
     "output_type": "stream",
     "text": [
      "  2%|▏         | 692/30819 [1:03:35<40:26:34,  4.83s/it]"
     ]
    },
    {
     "name": "stdout",
     "output_type": "stream",
     "text": [
      "Message: no such element: Unable to locate element: {\"method\":\"css selector\",\"selector\":\".prose\"}\n",
      "  (Session info: chrome=112.0.5615.137)\n",
      "Stacktrace:\n",
      "0   chromedriver                        0x000000010491ed3c chromedriver + 4222268\n",
      "1   chromedriver                        0x00000001048a58e8 chromedriver + 3725544\n",
      "2   chromedriver                        0x000000010455bda4 chromedriver + 277924\n",
      "3   chromedriver                        0x00000001045971b8 chromedriver + 520632\n",
      "4   chromedriver                        0x00000001045cf618 chromedriver + 751128\n",
      "5   chromedriver                        0x00000001045898f0 chromedriver + 465136\n",
      "6   chromedriver                        0x000000010458a974 chromedriver + 469364\n",
      "7   chromedriver                        0x00000001048ef788 chromedriver + 4028296\n",
      "8   chromedriver                        0x00000001048f3c1c chromedriver + 4045852\n",
      "9   chromedriver                        0x00000001048f9c98 chromedriver + 4070552\n",
      "10  chromedriver                        0x00000001048f48d8 chromedriver + 4049112\n",
      "11  chromedriver                        0x00000001048cbd84 chromedriver + 3882372\n",
      "12  chromedriver                        0x0000000104912720 chromedriver + 4171552\n",
      "13  chromedriver                        0x0000000104912878 chromedriver + 4171896\n",
      "14  chromedriver                        0x0000000104926014 chromedriver + 4251668\n",
      "15  libsystem_pthread.dylib             0x00000001a3d2606c _pthread_start + 148\n",
      "16  libsystem_pthread.dylib             0x00000001a3d20e2c thread_start + 8\n",
      "\n"
     ]
    },
    {
     "name": "stderr",
     "output_type": "stream",
     "text": [
      "  2%|▏         | 693/30819 [1:03:39<39:00:51,  4.66s/it]"
     ]
    },
    {
     "name": "stdout",
     "output_type": "stream",
     "text": [
      "Message: no such element: Unable to locate element: {\"method\":\"css selector\",\"selector\":\".prose\"}\n",
      "  (Session info: chrome=112.0.5615.137)\n",
      "Stacktrace:\n",
      "0   chromedriver                        0x000000010491ed3c chromedriver + 4222268\n",
      "1   chromedriver                        0x00000001048a58e8 chromedriver + 3725544\n",
      "2   chromedriver                        0x000000010455bda4 chromedriver + 277924\n",
      "3   chromedriver                        0x00000001045971b8 chromedriver + 520632\n",
      "4   chromedriver                        0x00000001045cf618 chromedriver + 751128\n",
      "5   chromedriver                        0x00000001045898f0 chromedriver + 465136\n",
      "6   chromedriver                        0x000000010458a974 chromedriver + 469364\n",
      "7   chromedriver                        0x00000001048ef788 chromedriver + 4028296\n",
      "8   chromedriver                        0x00000001048f3c1c chromedriver + 4045852\n",
      "9   chromedriver                        0x00000001048f9c98 chromedriver + 4070552\n",
      "10  chromedriver                        0x00000001048f48d8 chromedriver + 4049112\n",
      "11  chromedriver                        0x00000001048cbd84 chromedriver + 3882372\n",
      "12  chromedriver                        0x0000000104912720 chromedriver + 4171552\n",
      "13  chromedriver                        0x0000000104912878 chromedriver + 4171896\n",
      "14  chromedriver                        0x0000000104926014 chromedriver + 4251668\n",
      "15  libsystem_pthread.dylib             0x00000001a3d2606c _pthread_start + 148\n",
      "16  libsystem_pthread.dylib             0x00000001a3d20e2c thread_start + 8\n",
      "\n"
     ]
    },
    {
     "name": "stderr",
     "output_type": "stream",
     "text": [
      "  2%|▏         | 694/30819 [1:03:43<38:00:05,  4.54s/it]"
     ]
    },
    {
     "name": "stdout",
     "output_type": "stream",
     "text": [
      "Message: no such element: Unable to locate element: {\"method\":\"css selector\",\"selector\":\".prose\"}\n",
      "  (Session info: chrome=112.0.5615.137)\n",
      "Stacktrace:\n",
      "0   chromedriver                        0x000000010491ed3c chromedriver + 4222268\n",
      "1   chromedriver                        0x00000001048a58e8 chromedriver + 3725544\n",
      "2   chromedriver                        0x000000010455bda4 chromedriver + 277924\n",
      "3   chromedriver                        0x00000001045971b8 chromedriver + 520632\n",
      "4   chromedriver                        0x00000001045cf618 chromedriver + 751128\n",
      "5   chromedriver                        0x00000001045898f0 chromedriver + 465136\n",
      "6   chromedriver                        0x000000010458a974 chromedriver + 469364\n",
      "7   chromedriver                        0x00000001048ef788 chromedriver + 4028296\n",
      "8   chromedriver                        0x00000001048f3c1c chromedriver + 4045852\n",
      "9   chromedriver                        0x00000001048f9c98 chromedriver + 4070552\n",
      "10  chromedriver                        0x00000001048f48d8 chromedriver + 4049112\n",
      "11  chromedriver                        0x00000001048cbd84 chromedriver + 3882372\n",
      "12  chromedriver                        0x0000000104912720 chromedriver + 4171552\n",
      "13  chromedriver                        0x0000000104912878 chromedriver + 4171896\n",
      "14  chromedriver                        0x0000000104926014 chromedriver + 4251668\n",
      "15  libsystem_pthread.dylib             0x00000001a3d2606c _pthread_start + 148\n",
      "16  libsystem_pthread.dylib             0x00000001a3d20e2c thread_start + 8\n",
      "\n"
     ]
    },
    {
     "name": "stderr",
     "output_type": "stream",
     "text": [
      "  2%|▏         | 695/30819 [1:03:48<37:16:04,  4.45s/it]"
     ]
    },
    {
     "name": "stdout",
     "output_type": "stream",
     "text": [
      "Message: no such element: Unable to locate element: {\"method\":\"css selector\",\"selector\":\".prose\"}\n",
      "  (Session info: chrome=112.0.5615.137)\n",
      "Stacktrace:\n",
      "0   chromedriver                        0x000000010491ed3c chromedriver + 4222268\n",
      "1   chromedriver                        0x00000001048a58e8 chromedriver + 3725544\n",
      "2   chromedriver                        0x000000010455bda4 chromedriver + 277924\n",
      "3   chromedriver                        0x00000001045971b8 chromedriver + 520632\n",
      "4   chromedriver                        0x00000001045cf618 chromedriver + 751128\n",
      "5   chromedriver                        0x00000001045898f0 chromedriver + 465136\n",
      "6   chromedriver                        0x000000010458a974 chromedriver + 469364\n",
      "7   chromedriver                        0x00000001048ef788 chromedriver + 4028296\n",
      "8   chromedriver                        0x00000001048f3c1c chromedriver + 4045852\n",
      "9   chromedriver                        0x00000001048f9c98 chromedriver + 4070552\n",
      "10  chromedriver                        0x00000001048f48d8 chromedriver + 4049112\n",
      "11  chromedriver                        0x00000001048cbd84 chromedriver + 3882372\n",
      "12  chromedriver                        0x0000000104912720 chromedriver + 4171552\n",
      "13  chromedriver                        0x0000000104912878 chromedriver + 4171896\n",
      "14  chromedriver                        0x0000000104926014 chromedriver + 4251668\n",
      "15  libsystem_pthread.dylib             0x00000001a3d2606c _pthread_start + 148\n",
      "16  libsystem_pthread.dylib             0x00000001a3d20e2c thread_start + 8\n",
      "\n"
     ]
    },
    {
     "name": "stderr",
     "output_type": "stream",
     "text": [
      "  2%|▏         | 696/30819 [1:03:54<41:48:44,  5.00s/it]"
     ]
    },
    {
     "name": "stdout",
     "output_type": "stream",
     "text": [
      "Message: no such element: Unable to locate element: {\"method\":\"css selector\",\"selector\":\".prose\"}\n",
      "  (Session info: chrome=112.0.5615.137)\n",
      "Stacktrace:\n",
      "0   chromedriver                        0x000000010491ed3c chromedriver + 4222268\n",
      "1   chromedriver                        0x00000001048a58e8 chromedriver + 3725544\n",
      "2   chromedriver                        0x000000010455bda4 chromedriver + 277924\n",
      "3   chromedriver                        0x00000001045971b8 chromedriver + 520632\n",
      "4   chromedriver                        0x00000001045cf618 chromedriver + 751128\n",
      "5   chromedriver                        0x00000001045898f0 chromedriver + 465136\n",
      "6   chromedriver                        0x000000010458a974 chromedriver + 469364\n",
      "7   chromedriver                        0x00000001048ef788 chromedriver + 4028296\n",
      "8   chromedriver                        0x00000001048f3c1c chromedriver + 4045852\n",
      "9   chromedriver                        0x00000001048f9c98 chromedriver + 4070552\n",
      "10  chromedriver                        0x00000001048f48d8 chromedriver + 4049112\n",
      "11  chromedriver                        0x00000001048cbd84 chromedriver + 3882372\n",
      "12  chromedriver                        0x0000000104912720 chromedriver + 4171552\n",
      "13  chromedriver                        0x0000000104912878 chromedriver + 4171896\n",
      "14  chromedriver                        0x0000000104926014 chromedriver + 4251668\n",
      "15  libsystem_pthread.dylib             0x00000001a3d2606c _pthread_start + 148\n",
      "16  libsystem_pthread.dylib             0x00000001a3d20e2c thread_start + 8\n",
      "\n"
     ]
    },
    {
     "name": "stderr",
     "output_type": "stream",
     "text": [
      "  2%|▏         | 697/30819 [1:03:58<39:59:25,  4.78s/it]"
     ]
    },
    {
     "name": "stdout",
     "output_type": "stream",
     "text": [
      "Message: no such element: Unable to locate element: {\"method\":\"css selector\",\"selector\":\".prose\"}\n",
      "  (Session info: chrome=112.0.5615.137)\n",
      "Stacktrace:\n",
      "0   chromedriver                        0x000000010491ed3c chromedriver + 4222268\n",
      "1   chromedriver                        0x00000001048a58e8 chromedriver + 3725544\n",
      "2   chromedriver                        0x000000010455bda4 chromedriver + 277924\n",
      "3   chromedriver                        0x00000001045971b8 chromedriver + 520632\n",
      "4   chromedriver                        0x00000001045cf618 chromedriver + 751128\n",
      "5   chromedriver                        0x00000001045898f0 chromedriver + 465136\n",
      "6   chromedriver                        0x000000010458a974 chromedriver + 469364\n",
      "7   chromedriver                        0x00000001048ef788 chromedriver + 4028296\n",
      "8   chromedriver                        0x00000001048f3c1c chromedriver + 4045852\n",
      "9   chromedriver                        0x00000001048f9c98 chromedriver + 4070552\n",
      "10  chromedriver                        0x00000001048f48d8 chromedriver + 4049112\n",
      "11  chromedriver                        0x00000001048cbd84 chromedriver + 3882372\n",
      "12  chromedriver                        0x0000000104912720 chromedriver + 4171552\n",
      "13  chromedriver                        0x0000000104912878 chromedriver + 4171896\n",
      "14  chromedriver                        0x0000000104926014 chromedriver + 4251668\n",
      "15  libsystem_pthread.dylib             0x00000001a3d2606c _pthread_start + 148\n",
      "16  libsystem_pthread.dylib             0x00000001a3d20e2c thread_start + 8\n",
      "\n"
     ]
    },
    {
     "name": "stderr",
     "output_type": "stream",
     "text": [
      "  2%|▏         | 698/30819 [1:04:03<41:12:50,  4.93s/it]"
     ]
    },
    {
     "name": "stdout",
     "output_type": "stream",
     "text": [
      "Message: no such element: Unable to locate element: {\"method\":\"css selector\",\"selector\":\".prose\"}\n",
      "  (Session info: chrome=112.0.5615.137)\n",
      "Stacktrace:\n",
      "0   chromedriver                        0x000000010491ed3c chromedriver + 4222268\n",
      "1   chromedriver                        0x00000001048a58e8 chromedriver + 3725544\n",
      "2   chromedriver                        0x000000010455bda4 chromedriver + 277924\n",
      "3   chromedriver                        0x00000001045971b8 chromedriver + 520632\n",
      "4   chromedriver                        0x00000001045cf618 chromedriver + 751128\n",
      "5   chromedriver                        0x00000001045898f0 chromedriver + 465136\n",
      "6   chromedriver                        0x000000010458a974 chromedriver + 469364\n",
      "7   chromedriver                        0x00000001048ef788 chromedriver + 4028296\n",
      "8   chromedriver                        0x00000001048f3c1c chromedriver + 4045852\n",
      "9   chromedriver                        0x00000001048f9c98 chromedriver + 4070552\n",
      "10  chromedriver                        0x00000001048f48d8 chromedriver + 4049112\n",
      "11  chromedriver                        0x00000001048cbd84 chromedriver + 3882372\n",
      "12  chromedriver                        0x0000000104912720 chromedriver + 4171552\n",
      "13  chromedriver                        0x0000000104912878 chromedriver + 4171896\n",
      "14  chromedriver                        0x0000000104926014 chromedriver + 4251668\n",
      "15  libsystem_pthread.dylib             0x00000001a3d2606c _pthread_start + 148\n",
      "16  libsystem_pthread.dylib             0x00000001a3d20e2c thread_start + 8\n",
      "\n"
     ]
    },
    {
     "name": "stderr",
     "output_type": "stream",
     "text": [
      "  2%|▏         | 699/30819 [1:04:09<42:05:23,  5.03s/it]"
     ]
    },
    {
     "name": "stdout",
     "output_type": "stream",
     "text": [
      "Message: no such element: Unable to locate element: {\"method\":\"css selector\",\"selector\":\".prose\"}\n",
      "  (Session info: chrome=112.0.5615.137)\n",
      "Stacktrace:\n",
      "0   chromedriver                        0x000000010491ed3c chromedriver + 4222268\n",
      "1   chromedriver                        0x00000001048a58e8 chromedriver + 3725544\n",
      "2   chromedriver                        0x000000010455bda4 chromedriver + 277924\n",
      "3   chromedriver                        0x00000001045971b8 chromedriver + 520632\n",
      "4   chromedriver                        0x00000001045cf618 chromedriver + 751128\n",
      "5   chromedriver                        0x00000001045898f0 chromedriver + 465136\n",
      "6   chromedriver                        0x000000010458a974 chromedriver + 469364\n",
      "7   chromedriver                        0x00000001048ef788 chromedriver + 4028296\n",
      "8   chromedriver                        0x00000001048f3c1c chromedriver + 4045852\n",
      "9   chromedriver                        0x00000001048f9c98 chromedriver + 4070552\n",
      "10  chromedriver                        0x00000001048f48d8 chromedriver + 4049112\n",
      "11  chromedriver                        0x00000001048cbd84 chromedriver + 3882372\n",
      "12  chromedriver                        0x0000000104912720 chromedriver + 4171552\n",
      "13  chromedriver                        0x0000000104912878 chromedriver + 4171896\n",
      "14  chromedriver                        0x0000000104926014 chromedriver + 4251668\n",
      "15  libsystem_pthread.dylib             0x00000001a3d2606c _pthread_start + 148\n",
      "16  libsystem_pthread.dylib             0x00000001a3d20e2c thread_start + 8\n",
      "\n"
     ]
    },
    {
     "name": "stderr",
     "output_type": "stream",
     "text": [
      "  2%|▏         | 700/30819 [1:04:13<40:12:08,  4.81s/it]"
     ]
    },
    {
     "name": "stdout",
     "output_type": "stream",
     "text": [
      "Message: no such element: Unable to locate element: {\"method\":\"css selector\",\"selector\":\".prose\"}\n",
      "  (Session info: chrome=112.0.5615.137)\n",
      "Stacktrace:\n",
      "0   chromedriver                        0x000000010491ed3c chromedriver + 4222268\n",
      "1   chromedriver                        0x00000001048a58e8 chromedriver + 3725544\n",
      "2   chromedriver                        0x000000010455bda4 chromedriver + 277924\n",
      "3   chromedriver                        0x00000001045971b8 chromedriver + 520632\n",
      "4   chromedriver                        0x00000001045cf618 chromedriver + 751128\n",
      "5   chromedriver                        0x00000001045898f0 chromedriver + 465136\n",
      "6   chromedriver                        0x000000010458a974 chromedriver + 469364\n",
      "7   chromedriver                        0x00000001048ef788 chromedriver + 4028296\n",
      "8   chromedriver                        0x00000001048f3c1c chromedriver + 4045852\n",
      "9   chromedriver                        0x00000001048f9c98 chromedriver + 4070552\n",
      "10  chromedriver                        0x00000001048f48d8 chromedriver + 4049112\n",
      "11  chromedriver                        0x00000001048cbd84 chromedriver + 3882372\n",
      "12  chromedriver                        0x0000000104912720 chromedriver + 4171552\n",
      "13  chromedriver                        0x0000000104912878 chromedriver + 4171896\n",
      "14  chromedriver                        0x0000000104926014 chromedriver + 4251668\n",
      "15  libsystem_pthread.dylib             0x00000001a3d2606c _pthread_start + 148\n",
      "16  libsystem_pthread.dylib             0x00000001a3d20e2c thread_start + 8\n",
      "\n"
     ]
    },
    {
     "name": "stderr",
     "output_type": "stream",
     "text": [
      "  2%|▏         | 701/30819 [1:04:19<43:54:43,  5.25s/it]"
     ]
    },
    {
     "name": "stdout",
     "output_type": "stream",
     "text": [
      "Message: no such element: Unable to locate element: {\"method\":\"css selector\",\"selector\":\".prose\"}\n",
      "  (Session info: chrome=112.0.5615.137)\n",
      "Stacktrace:\n",
      "0   chromedriver                        0x000000010491ed3c chromedriver + 4222268\n",
      "1   chromedriver                        0x00000001048a58e8 chromedriver + 3725544\n",
      "2   chromedriver                        0x000000010455bda4 chromedriver + 277924\n",
      "3   chromedriver                        0x00000001045971b8 chromedriver + 520632\n",
      "4   chromedriver                        0x00000001045cf618 chromedriver + 751128\n",
      "5   chromedriver                        0x00000001045898f0 chromedriver + 465136\n",
      "6   chromedriver                        0x000000010458a974 chromedriver + 469364\n",
      "7   chromedriver                        0x00000001048ef788 chromedriver + 4028296\n",
      "8   chromedriver                        0x00000001048f3c1c chromedriver + 4045852\n",
      "9   chromedriver                        0x00000001048f9c98 chromedriver + 4070552\n",
      "10  chromedriver                        0x00000001048f48d8 chromedriver + 4049112\n",
      "11  chromedriver                        0x00000001048cbd84 chromedriver + 3882372\n",
      "12  chromedriver                        0x0000000104912720 chromedriver + 4171552\n",
      "13  chromedriver                        0x0000000104912878 chromedriver + 4171896\n",
      "14  chromedriver                        0x0000000104926014 chromedriver + 4251668\n",
      "15  libsystem_pthread.dylib             0x00000001a3d2606c _pthread_start + 148\n",
      "16  libsystem_pthread.dylib             0x00000001a3d20e2c thread_start + 8\n",
      "\n"
     ]
    },
    {
     "name": "stderr",
     "output_type": "stream",
     "text": [
      "  2%|▏         | 702/30819 [1:04:25<44:01:55,  5.26s/it]"
     ]
    },
    {
     "name": "stdout",
     "output_type": "stream",
     "text": [
      "Message: no such element: Unable to locate element: {\"method\":\"css selector\",\"selector\":\".prose\"}\n",
      "  (Session info: chrome=112.0.5615.137)\n",
      "Stacktrace:\n",
      "0   chromedriver                        0x000000010491ed3c chromedriver + 4222268\n",
      "1   chromedriver                        0x00000001048a58e8 chromedriver + 3725544\n",
      "2   chromedriver                        0x000000010455bda4 chromedriver + 277924\n",
      "3   chromedriver                        0x00000001045971b8 chromedriver + 520632\n",
      "4   chromedriver                        0x00000001045cf618 chromedriver + 751128\n",
      "5   chromedriver                        0x00000001045898f0 chromedriver + 465136\n",
      "6   chromedriver                        0x000000010458a974 chromedriver + 469364\n",
      "7   chromedriver                        0x00000001048ef788 chromedriver + 4028296\n",
      "8   chromedriver                        0x00000001048f3c1c chromedriver + 4045852\n",
      "9   chromedriver                        0x00000001048f9c98 chromedriver + 4070552\n",
      "10  chromedriver                        0x00000001048f48d8 chromedriver + 4049112\n",
      "11  chromedriver                        0x00000001048cbd84 chromedriver + 3882372\n",
      "12  chromedriver                        0x0000000104912720 chromedriver + 4171552\n",
      "13  chromedriver                        0x0000000104912878 chromedriver + 4171896\n",
      "14  chromedriver                        0x0000000104926014 chromedriver + 4251668\n",
      "15  libsystem_pthread.dylib             0x00000001a3d2606c _pthread_start + 148\n",
      "16  libsystem_pthread.dylib             0x00000001a3d20e2c thread_start + 8\n",
      "\n"
     ]
    },
    {
     "name": "stderr",
     "output_type": "stream",
     "text": [
      "  2%|▏         | 703/30819 [1:04:30<44:04:22,  5.27s/it]"
     ]
    },
    {
     "name": "stdout",
     "output_type": "stream",
     "text": [
      "Message: no such element: Unable to locate element: {\"method\":\"css selector\",\"selector\":\".prose\"}\n",
      "  (Session info: chrome=112.0.5615.137)\n",
      "Stacktrace:\n",
      "0   chromedriver                        0x000000010491ed3c chromedriver + 4222268\n",
      "1   chromedriver                        0x00000001048a58e8 chromedriver + 3725544\n",
      "2   chromedriver                        0x000000010455bda4 chromedriver + 277924\n",
      "3   chromedriver                        0x00000001045971b8 chromedriver + 520632\n",
      "4   chromedriver                        0x00000001045cf618 chromedriver + 751128\n",
      "5   chromedriver                        0x00000001045898f0 chromedriver + 465136\n",
      "6   chromedriver                        0x000000010458a974 chromedriver + 469364\n",
      "7   chromedriver                        0x00000001048ef788 chromedriver + 4028296\n",
      "8   chromedriver                        0x00000001048f3c1c chromedriver + 4045852\n",
      "9   chromedriver                        0x00000001048f9c98 chromedriver + 4070552\n",
      "10  chromedriver                        0x00000001048f48d8 chromedriver + 4049112\n",
      "11  chromedriver                        0x00000001048cbd84 chromedriver + 3882372\n",
      "12  chromedriver                        0x0000000104912720 chromedriver + 4171552\n",
      "13  chromedriver                        0x0000000104912878 chromedriver + 4171896\n",
      "14  chromedriver                        0x0000000104926014 chromedriver + 4251668\n",
      "15  libsystem_pthread.dylib             0x00000001a3d2606c _pthread_start + 148\n",
      "16  libsystem_pthread.dylib             0x00000001a3d20e2c thread_start + 8\n",
      "\n"
     ]
    },
    {
     "name": "stderr",
     "output_type": "stream",
     "text": [
      "  2%|▏         | 704/30819 [1:04:35<44:05:08,  5.27s/it]"
     ]
    },
    {
     "name": "stdout",
     "output_type": "stream",
     "text": [
      "Message: no such element: Unable to locate element: {\"method\":\"css selector\",\"selector\":\".prose\"}\n",
      "  (Session info: chrome=112.0.5615.137)\n",
      "Stacktrace:\n",
      "0   chromedriver                        0x000000010491ed3c chromedriver + 4222268\n",
      "1   chromedriver                        0x00000001048a58e8 chromedriver + 3725544\n",
      "2   chromedriver                        0x000000010455bda4 chromedriver + 277924\n",
      "3   chromedriver                        0x00000001045971b8 chromedriver + 520632\n",
      "4   chromedriver                        0x00000001045cf618 chromedriver + 751128\n",
      "5   chromedriver                        0x00000001045898f0 chromedriver + 465136\n",
      "6   chromedriver                        0x000000010458a974 chromedriver + 469364\n",
      "7   chromedriver                        0x00000001048ef788 chromedriver + 4028296\n",
      "8   chromedriver                        0x00000001048f3c1c chromedriver + 4045852\n",
      "9   chromedriver                        0x00000001048f9c98 chromedriver + 4070552\n",
      "10  chromedriver                        0x00000001048f48d8 chromedriver + 4049112\n",
      "11  chromedriver                        0x00000001048cbd84 chromedriver + 3882372\n",
      "12  chromedriver                        0x0000000104912720 chromedriver + 4171552\n",
      "13  chromedriver                        0x0000000104912878 chromedriver + 4171896\n",
      "14  chromedriver                        0x0000000104926014 chromedriver + 4251668\n",
      "15  libsystem_pthread.dylib             0x00000001a3d2606c _pthread_start + 148\n",
      "16  libsystem_pthread.dylib             0x00000001a3d20e2c thread_start + 8\n",
      "\n"
     ]
    },
    {
     "name": "stderr",
     "output_type": "stream",
     "text": [
      "  2%|▏         | 712/30819 [1:05:20<46:17:59,  5.54s/it]"
     ]
    },
    {
     "name": "stdout",
     "output_type": "stream",
     "text": [
      "Message: no such element: Unable to locate element: {\"method\":\"css selector\",\"selector\":\".prose\"}\n",
      "  (Session info: chrome=112.0.5615.137)\n",
      "Stacktrace:\n",
      "0   chromedriver                        0x000000010491ed3c chromedriver + 4222268\n",
      "1   chromedriver                        0x00000001048a58e8 chromedriver + 3725544\n",
      "2   chromedriver                        0x000000010455bda4 chromedriver + 277924\n",
      "3   chromedriver                        0x00000001045971b8 chromedriver + 520632\n",
      "4   chromedriver                        0x00000001045cf618 chromedriver + 751128\n",
      "5   chromedriver                        0x00000001045898f0 chromedriver + 465136\n",
      "6   chromedriver                        0x000000010458a974 chromedriver + 469364\n",
      "7   chromedriver                        0x00000001048ef788 chromedriver + 4028296\n",
      "8   chromedriver                        0x00000001048f3c1c chromedriver + 4045852\n",
      "9   chromedriver                        0x00000001048f9c98 chromedriver + 4070552\n",
      "10  chromedriver                        0x00000001048f48d8 chromedriver + 4049112\n",
      "11  chromedriver                        0x00000001048cbd84 chromedriver + 3882372\n",
      "12  chromedriver                        0x0000000104912720 chromedriver + 4171552\n",
      "13  chromedriver                        0x0000000104912878 chromedriver + 4171896\n",
      "14  chromedriver                        0x0000000104926014 chromedriver + 4251668\n",
      "15  libsystem_pthread.dylib             0x00000001a3d2606c _pthread_start + 148\n",
      "16  libsystem_pthread.dylib             0x00000001a3d20e2c thread_start + 8\n",
      "\n"
     ]
    },
    {
     "name": "stderr",
     "output_type": "stream",
     "text": [
      "  2%|▏         | 713/30819 [1:05:26<48:07:09,  5.75s/it]"
     ]
    },
    {
     "name": "stdout",
     "output_type": "stream",
     "text": [
      "Message: no such element: Unable to locate element: {\"method\":\"css selector\",\"selector\":\".prose\"}\n",
      "  (Session info: chrome=112.0.5615.137)\n",
      "Stacktrace:\n",
      "0   chromedriver                        0x000000010491ed3c chromedriver + 4222268\n",
      "1   chromedriver                        0x00000001048a58e8 chromedriver + 3725544\n",
      "2   chromedriver                        0x000000010455bda4 chromedriver + 277924\n",
      "3   chromedriver                        0x00000001045971b8 chromedriver + 520632\n",
      "4   chromedriver                        0x00000001045cf618 chromedriver + 751128\n",
      "5   chromedriver                        0x00000001045898f0 chromedriver + 465136\n",
      "6   chromedriver                        0x000000010458a974 chromedriver + 469364\n",
      "7   chromedriver                        0x00000001048ef788 chromedriver + 4028296\n",
      "8   chromedriver                        0x00000001048f3c1c chromedriver + 4045852\n",
      "9   chromedriver                        0x00000001048f9c98 chromedriver + 4070552\n",
      "10  chromedriver                        0x00000001048f48d8 chromedriver + 4049112\n",
      "11  chromedriver                        0x00000001048cbd84 chromedriver + 3882372\n",
      "12  chromedriver                        0x0000000104912720 chromedriver + 4171552\n",
      "13  chromedriver                        0x0000000104912878 chromedriver + 4171896\n",
      "14  chromedriver                        0x0000000104926014 chromedriver + 4251668\n",
      "15  libsystem_pthread.dylib             0x00000001a3d2606c _pthread_start + 148\n",
      "16  libsystem_pthread.dylib             0x00000001a3d20e2c thread_start + 8\n",
      "\n"
     ]
    },
    {
     "name": "stderr",
     "output_type": "stream",
     "text": [
      "  2%|▏         | 714/30819 [1:05:31<44:20:46,  5.30s/it]"
     ]
    },
    {
     "name": "stdout",
     "output_type": "stream",
     "text": [
      "Message: no such element: Unable to locate element: {\"method\":\"css selector\",\"selector\":\".prose\"}\n",
      "  (Session info: chrome=112.0.5615.137)\n",
      "Stacktrace:\n",
      "0   chromedriver                        0x000000010491ed3c chromedriver + 4222268\n",
      "1   chromedriver                        0x00000001048a58e8 chromedriver + 3725544\n",
      "2   chromedriver                        0x000000010455bda4 chromedriver + 277924\n",
      "3   chromedriver                        0x00000001045971b8 chromedriver + 520632\n",
      "4   chromedriver                        0x00000001045cf618 chromedriver + 751128\n",
      "5   chromedriver                        0x00000001045898f0 chromedriver + 465136\n",
      "6   chromedriver                        0x000000010458a974 chromedriver + 469364\n",
      "7   chromedriver                        0x00000001048ef788 chromedriver + 4028296\n",
      "8   chromedriver                        0x00000001048f3c1c chromedriver + 4045852\n",
      "9   chromedriver                        0x00000001048f9c98 chromedriver + 4070552\n",
      "10  chromedriver                        0x00000001048f48d8 chromedriver + 4049112\n",
      "11  chromedriver                        0x00000001048cbd84 chromedriver + 3882372\n",
      "12  chromedriver                        0x0000000104912720 chromedriver + 4171552\n",
      "13  chromedriver                        0x0000000104912878 chromedriver + 4171896\n",
      "14  chromedriver                        0x0000000104926014 chromedriver + 4251668\n",
      "15  libsystem_pthread.dylib             0x00000001a3d2606c _pthread_start + 148\n",
      "16  libsystem_pthread.dylib             0x00000001a3d20e2c thread_start + 8\n",
      "\n"
     ]
    },
    {
     "name": "stderr",
     "output_type": "stream",
     "text": [
      "  2%|▏         | 715/30819 [1:05:37<47:35:46,  5.69s/it]"
     ]
    },
    {
     "name": "stdout",
     "output_type": "stream",
     "text": [
      "Message: no such element: Unable to locate element: {\"method\":\"css selector\",\"selector\":\".prose\"}\n",
      "  (Session info: chrome=112.0.5615.137)\n",
      "Stacktrace:\n",
      "0   chromedriver                        0x000000010491ed3c chromedriver + 4222268\n",
      "1   chromedriver                        0x00000001048a58e8 chromedriver + 3725544\n",
      "2   chromedriver                        0x000000010455bda4 chromedriver + 277924\n",
      "3   chromedriver                        0x00000001045971b8 chromedriver + 520632\n",
      "4   chromedriver                        0x00000001045cf618 chromedriver + 751128\n",
      "5   chromedriver                        0x00000001045898f0 chromedriver + 465136\n",
      "6   chromedriver                        0x000000010458a974 chromedriver + 469364\n",
      "7   chromedriver                        0x00000001048ef788 chromedriver + 4028296\n",
      "8   chromedriver                        0x00000001048f3c1c chromedriver + 4045852\n",
      "9   chromedriver                        0x00000001048f9c98 chromedriver + 4070552\n",
      "10  chromedriver                        0x00000001048f48d8 chromedriver + 4049112\n",
      "11  chromedriver                        0x00000001048cbd84 chromedriver + 3882372\n",
      "12  chromedriver                        0x0000000104912720 chromedriver + 4171552\n",
      "13  chromedriver                        0x0000000104912878 chromedriver + 4171896\n",
      "14  chromedriver                        0x0000000104926014 chromedriver + 4251668\n",
      "15  libsystem_pthread.dylib             0x00000001a3d2606c _pthread_start + 148\n",
      "16  libsystem_pthread.dylib             0x00000001a3d20e2c thread_start + 8\n",
      "\n"
     ]
    },
    {
     "name": "stderr",
     "output_type": "stream",
     "text": [
      "  2%|▏         | 721/30819 [1:06:11<46:59:15,  5.62s/it]"
     ]
    },
    {
     "name": "stdout",
     "output_type": "stream",
     "text": [
      "Message: no such element: Unable to locate element: {\"method\":\"css selector\",\"selector\":\".prose\"}\n",
      "  (Session info: chrome=112.0.5615.137)\n",
      "Stacktrace:\n",
      "0   chromedriver                        0x000000010491ed3c chromedriver + 4222268\n",
      "1   chromedriver                        0x00000001048a58e8 chromedriver + 3725544\n",
      "2   chromedriver                        0x000000010455bda4 chromedriver + 277924\n",
      "3   chromedriver                        0x00000001045971b8 chromedriver + 520632\n",
      "4   chromedriver                        0x00000001045cf618 chromedriver + 751128\n",
      "5   chromedriver                        0x00000001045898f0 chromedriver + 465136\n",
      "6   chromedriver                        0x000000010458a974 chromedriver + 469364\n",
      "7   chromedriver                        0x00000001048ef788 chromedriver + 4028296\n",
      "8   chromedriver                        0x00000001048f3c1c chromedriver + 4045852\n",
      "9   chromedriver                        0x00000001048f9c98 chromedriver + 4070552\n",
      "10  chromedriver                        0x00000001048f48d8 chromedriver + 4049112\n",
      "11  chromedriver                        0x00000001048cbd84 chromedriver + 3882372\n",
      "12  chromedriver                        0x0000000104912720 chromedriver + 4171552\n",
      "13  chromedriver                        0x0000000104912878 chromedriver + 4171896\n",
      "14  chromedriver                        0x0000000104926014 chromedriver + 4251668\n",
      "15  libsystem_pthread.dylib             0x00000001a3d2606c _pthread_start + 148\n",
      "16  libsystem_pthread.dylib             0x00000001a3d20e2c thread_start + 8\n",
      "\n"
     ]
    },
    {
     "name": "stderr",
     "output_type": "stream",
     "text": [
      "  2%|▏         | 722/30819 [1:06:17<48:34:40,  5.81s/it]"
     ]
    },
    {
     "name": "stdout",
     "output_type": "stream",
     "text": [
      "Message: no such element: Unable to locate element: {\"method\":\"css selector\",\"selector\":\".prose\"}\n",
      "  (Session info: chrome=112.0.5615.137)\n",
      "Stacktrace:\n",
      "0   chromedriver                        0x000000010491ed3c chromedriver + 4222268\n",
      "1   chromedriver                        0x00000001048a58e8 chromedriver + 3725544\n",
      "2   chromedriver                        0x000000010455bda4 chromedriver + 277924\n",
      "3   chromedriver                        0x00000001045971b8 chromedriver + 520632\n",
      "4   chromedriver                        0x00000001045cf618 chromedriver + 751128\n",
      "5   chromedriver                        0x00000001045898f0 chromedriver + 465136\n",
      "6   chromedriver                        0x000000010458a974 chromedriver + 469364\n",
      "7   chromedriver                        0x00000001048ef788 chromedriver + 4028296\n",
      "8   chromedriver                        0x00000001048f3c1c chromedriver + 4045852\n",
      "9   chromedriver                        0x00000001048f9c98 chromedriver + 4070552\n",
      "10  chromedriver                        0x00000001048f48d8 chromedriver + 4049112\n",
      "11  chromedriver                        0x00000001048cbd84 chromedriver + 3882372\n",
      "12  chromedriver                        0x0000000104912720 chromedriver + 4171552\n",
      "13  chromedriver                        0x0000000104912878 chromedriver + 4171896\n",
      "14  chromedriver                        0x0000000104926014 chromedriver + 4251668\n",
      "15  libsystem_pthread.dylib             0x00000001a3d2606c _pthread_start + 148\n",
      "16  libsystem_pthread.dylib             0x00000001a3d20e2c thread_start + 8\n",
      "\n"
     ]
    },
    {
     "name": "stderr",
     "output_type": "stream",
     "text": [
      "  2%|▏         | 723/30819 [1:06:22<47:11:56,  5.65s/it]"
     ]
    },
    {
     "name": "stdout",
     "output_type": "stream",
     "text": [
      "Message: no such element: Unable to locate element: {\"method\":\"css selector\",\"selector\":\".prose\"}\n",
      "  (Session info: chrome=112.0.5615.137)\n",
      "Stacktrace:\n",
      "0   chromedriver                        0x000000010491ed3c chromedriver + 4222268\n",
      "1   chromedriver                        0x00000001048a58e8 chromedriver + 3725544\n",
      "2   chromedriver                        0x000000010455bda4 chromedriver + 277924\n",
      "3   chromedriver                        0x00000001045971b8 chromedriver + 520632\n",
      "4   chromedriver                        0x00000001045cf618 chromedriver + 751128\n",
      "5   chromedriver                        0x00000001045898f0 chromedriver + 465136\n",
      "6   chromedriver                        0x000000010458a974 chromedriver + 469364\n",
      "7   chromedriver                        0x00000001048ef788 chromedriver + 4028296\n",
      "8   chromedriver                        0x00000001048f3c1c chromedriver + 4045852\n",
      "9   chromedriver                        0x00000001048f9c98 chromedriver + 4070552\n",
      "10  chromedriver                        0x00000001048f48d8 chromedriver + 4049112\n",
      "11  chromedriver                        0x00000001048cbd84 chromedriver + 3882372\n",
      "12  chromedriver                        0x0000000104912720 chromedriver + 4171552\n",
      "13  chromedriver                        0x0000000104912878 chromedriver + 4171896\n",
      "14  chromedriver                        0x0000000104926014 chromedriver + 4251668\n",
      "15  libsystem_pthread.dylib             0x00000001a3d2606c _pthread_start + 148\n",
      "16  libsystem_pthread.dylib             0x00000001a3d20e2c thread_start + 8\n",
      "\n"
     ]
    },
    {
     "name": "stderr",
     "output_type": "stream",
     "text": [
      "  2%|▏         | 724/30819 [1:06:26<43:42:43,  5.23s/it]"
     ]
    },
    {
     "name": "stdout",
     "output_type": "stream",
     "text": [
      "Message: no such element: Unable to locate element: {\"method\":\"css selector\",\"selector\":\".prose\"}\n",
      "  (Session info: chrome=112.0.5615.137)\n",
      "Stacktrace:\n",
      "0   chromedriver                        0x000000010491ed3c chromedriver + 4222268\n",
      "1   chromedriver                        0x00000001048a58e8 chromedriver + 3725544\n",
      "2   chromedriver                        0x000000010455bda4 chromedriver + 277924\n",
      "3   chromedriver                        0x00000001045971b8 chromedriver + 520632\n",
      "4   chromedriver                        0x00000001045cf618 chromedriver + 751128\n",
      "5   chromedriver                        0x00000001045898f0 chromedriver + 465136\n",
      "6   chromedriver                        0x000000010458a974 chromedriver + 469364\n",
      "7   chromedriver                        0x00000001048ef788 chromedriver + 4028296\n",
      "8   chromedriver                        0x00000001048f3c1c chromedriver + 4045852\n",
      "9   chromedriver                        0x00000001048f9c98 chromedriver + 4070552\n",
      "10  chromedriver                        0x00000001048f48d8 chromedriver + 4049112\n",
      "11  chromedriver                        0x00000001048cbd84 chromedriver + 3882372\n",
      "12  chromedriver                        0x0000000104912720 chromedriver + 4171552\n",
      "13  chromedriver                        0x0000000104912878 chromedriver + 4171896\n",
      "14  chromedriver                        0x0000000104926014 chromedriver + 4251668\n",
      "15  libsystem_pthread.dylib             0x00000001a3d2606c _pthread_start + 148\n",
      "16  libsystem_pthread.dylib             0x00000001a3d20e2c thread_start + 8\n",
      "\n"
     ]
    },
    {
     "name": "stderr",
     "output_type": "stream",
     "text": [
      "  2%|▏         | 724/30819 [1:06:30<46:04:20,  5.51s/it]\n"
     ]
    },
    {
     "ename": "KeyboardInterrupt",
     "evalue": "",
     "output_type": "error",
     "traceback": [
      "\u001b[0;31m---------------------------------------------------------------------------\u001b[0m",
      "\u001b[0;31mKeyboardInterrupt\u001b[0m                         Traceback (most recent call last)",
      "\u001b[0;32m/var/folders/27/vq5y844134sb8423ngwxqzgc0000gn/T/ipykernel_88665/4074502741.py\u001b[0m in \u001b[0;36m<module>\u001b[0;34m\u001b[0m\n\u001b[1;32m      3\u001b[0m     \u001b[0murl\u001b[0m \u001b[0;34m=\u001b[0m \u001b[0;34mf\"https://huggingface.co/datasets/{dataset}\"\u001b[0m\u001b[0;34m\u001b[0m\u001b[0;34m\u001b[0m\u001b[0m\n\u001b[1;32m      4\u001b[0m     \u001b[0;32mtry\u001b[0m\u001b[0;34m:\u001b[0m\u001b[0;34m\u001b[0m\u001b[0;34m\u001b[0m\u001b[0m\n\u001b[0;32m----> 5\u001b[0;31m         \u001b[0msleep\u001b[0m\u001b[0;34m(\u001b[0m\u001b[0mrandrange\u001b[0m\u001b[0;34m(\u001b[0m\u001b[0;36m4\u001b[0m\u001b[0;34m,\u001b[0m\u001b[0;36m7\u001b[0m\u001b[0;34m)\u001b[0m\u001b[0;34m)\u001b[0m\u001b[0;34m\u001b[0m\u001b[0;34m\u001b[0m\u001b[0m\n\u001b[0m\u001b[1;32m      6\u001b[0m         \u001b[0mdriver\u001b[0m\u001b[0;34m.\u001b[0m\u001b[0mget\u001b[0m\u001b[0;34m(\u001b[0m\u001b[0murl\u001b[0m\u001b[0;34m)\u001b[0m\u001b[0;34m\u001b[0m\u001b[0;34m\u001b[0m\u001b[0m\n\u001b[1;32m      7\u001b[0m         \u001b[0mcard\u001b[0m \u001b[0;34m=\u001b[0m \u001b[0mdriver\u001b[0m\u001b[0;34m.\u001b[0m\u001b[0mfind_element\u001b[0m\u001b[0;34m(\u001b[0m\u001b[0;34m'class name'\u001b[0m\u001b[0;34m,\u001b[0m\u001b[0;34m'prose'\u001b[0m\u001b[0;34m)\u001b[0m\u001b[0;34m\u001b[0m\u001b[0;34m\u001b[0m\u001b[0m\n",
      "\u001b[0;31mKeyboardInterrupt\u001b[0m: "
     ]
    }
   ],
   "source": [
    "dataset_cards_df = pd.DataFrame()\n",
    "for dataset in tqdm(all_datasets):\n",
    "    url = f\"https://huggingface.co/datasets/{dataset}\"\n",
    "    try:\n",
    "        sleep(randrange(4,7))\n",
    "        driver.get(url)\n",
    "        card = driver.find_element('class name','prose')\n",
    "        dataset_cards_df = dataset_cards_df.append(pd.DataFrame([{'dataset': dataset, \n",
    "                                                                  'dataset_card': card.text}]))\n",
    "    except Exception as e:\n",
    "        print(e)\n",
    "        pass"
   ]
  },
  {
   "cell_type": "code",
   "execution_count": null,
   "metadata": {},
   "outputs": [],
   "source": []
  },
  {
   "cell_type": "code",
   "execution_count": null,
   "metadata": {},
   "outputs": [],
   "source": [
    "executable_path = '../chromedriver'\n",
    "driver = webdriver.Chrome(executable_path)"
   ]
  },
  {
   "cell_type": "code",
   "execution_count": 6,
   "metadata": {},
   "outputs": [
    {
     "data": {
      "text/html": [
       "<div>\n",
       "<style scoped>\n",
       "    .dataframe tbody tr th:only-of-type {\n",
       "        vertical-align: middle;\n",
       "    }\n",
       "\n",
       "    .dataframe tbody tr th {\n",
       "        vertical-align: top;\n",
       "    }\n",
       "\n",
       "    .dataframe thead th {\n",
       "        text-align: right;\n",
       "    }\n",
       "</style>\n",
       "<table border=\"1\" class=\"dataframe\">\n",
       "  <thead>\n",
       "    <tr style=\"text-align: right;\">\n",
       "      <th></th>\n",
       "      <th>dataset</th>\n",
       "      <th>dataset_card</th>\n",
       "    </tr>\n",
       "  </thead>\n",
       "  <tbody>\n",
       "    <tr>\n",
       "      <th>0</th>\n",
       "      <td>acronym_identification</td>\n",
       "      <td>Dataset Card for Acronym Identification Datase...</td>\n",
       "    </tr>\n",
       "    <tr>\n",
       "      <th>0</th>\n",
       "      <td>ade_corpus_v2</td>\n",
       "      <td>Dataset Card for Adverse Drug Reaction Data v2...</td>\n",
       "    </tr>\n",
       "    <tr>\n",
       "      <th>0</th>\n",
       "      <td>adversarial_qa</td>\n",
       "      <td>Dataset Card for adversarialQA\\nDataset Summar...</td>\n",
       "    </tr>\n",
       "    <tr>\n",
       "      <th>0</th>\n",
       "      <td>aeslc</td>\n",
       "      <td>Dataset Card for \"aeslc\"\\nDataset Summary\\nA c...</td>\n",
       "    </tr>\n",
       "    <tr>\n",
       "      <th>0</th>\n",
       "      <td>afrikaans_ner_corpus</td>\n",
       "      <td>Dataset Card for Afrikaans Ner Corpus\\nDataset...</td>\n",
       "    </tr>\n",
       "    <tr>\n",
       "      <th>...</th>\n",
       "      <td>...</td>\n",
       "      <td>...</td>\n",
       "    </tr>\n",
       "    <tr>\n",
       "      <th>0</th>\n",
       "      <td>wrbsc</td>\n",
       "      <td>Dataset Card for wrbsc\\nDataset Summary\\nWUT R...</td>\n",
       "    </tr>\n",
       "    <tr>\n",
       "      <th>0</th>\n",
       "      <td>x_stance</td>\n",
       "      <td>Dataset Card for \"x_stance\"\\nDataset Summary\\n...</td>\n",
       "    </tr>\n",
       "    <tr>\n",
       "      <th>0</th>\n",
       "      <td>xcopa</td>\n",
       "      <td>Dataset Card for \"xcopa\"\\nDataset Summary\\nXCO...</td>\n",
       "    </tr>\n",
       "    <tr>\n",
       "      <th>0</th>\n",
       "      <td>xcsr</td>\n",
       "      <td>Dataset Card for X-CSR\\nDataset Summary\\nTo ev...</td>\n",
       "    </tr>\n",
       "    <tr>\n",
       "      <th>0</th>\n",
       "      <td>xed_en_fi</td>\n",
       "      <td>Dataset Card for xed_english_finnish\\nDataset ...</td>\n",
       "    </tr>\n",
       "  </tbody>\n",
       "</table>\n",
       "<p>362 rows × 2 columns</p>\n",
       "</div>"
      ],
      "text/plain": [
       "                   dataset                                       dataset_card\n",
       "0   acronym_identification  Dataset Card for Acronym Identification Datase...\n",
       "0            ade_corpus_v2  Dataset Card for Adverse Drug Reaction Data v2...\n",
       "0           adversarial_qa  Dataset Card for adversarialQA\\nDataset Summar...\n",
       "0                    aeslc  Dataset Card for \"aeslc\"\\nDataset Summary\\nA c...\n",
       "0     afrikaans_ner_corpus  Dataset Card for Afrikaans Ner Corpus\\nDataset...\n",
       "..                     ...                                                ...\n",
       "0                    wrbsc  Dataset Card for wrbsc\\nDataset Summary\\nWUT R...\n",
       "0                 x_stance  Dataset Card for \"x_stance\"\\nDataset Summary\\n...\n",
       "0                    xcopa  Dataset Card for \"xcopa\"\\nDataset Summary\\nXCO...\n",
       "0                     xcsr  Dataset Card for X-CSR\\nDataset Summary\\nTo ev...\n",
       "0                xed_en_fi  Dataset Card for xed_english_finnish\\nDataset ...\n",
       "\n",
       "[362 rows x 2 columns]"
      ]
     },
     "execution_count": 6,
     "metadata": {},
     "output_type": "execute_result"
    }
   ],
   "source": [
    "dataset_cards_df"
   ]
  },
  {
   "cell_type": "code",
   "execution_count": null,
   "metadata": {},
   "outputs": [],
   "source": [
    "card = driver.find_elements('class name','prose')"
   ]
  },
  {
   "cell_type": "code",
   "execution_count": null,
   "metadata": {},
   "outputs": [],
   "source": [
    "print(card[0].text)"
   ]
  },
  {
   "cell_type": "code",
   "execution_count": null,
   "metadata": {},
   "outputs": [],
   "source": []
  }
 ],
 "metadata": {
  "kernelspec": {
   "display_name": "nlp",
   "language": "python",
   "name": "python3"
  },
  "language_info": {
   "codemirror_mode": {
    "name": "ipython",
    "version": 3
   },
   "file_extension": ".py",
   "mimetype": "text/x-python",
   "name": "python",
   "nbconvert_exporter": "python",
   "pygments_lexer": "ipython3",
   "version": "3.8.5"
  },
  "orig_nbformat": 4
 },
 "nbformat": 4,
 "nbformat_minor": 2
}
