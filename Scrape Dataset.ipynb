{
 "cells": [
  {
   "cell_type": "code",
   "execution_count": 1,
   "metadata": {},
   "outputs": [],
   "source": [
    "import datasets\n",
    "from selenium import webdriver\n",
    "from time import sleep\n",
    "from random import randrange\n",
    "import pandas as pd\n",
    "\n",
    "from tqdm import tqdm\n"
   ]
  },
  {
   "cell_type": "code",
   "execution_count": 4,
   "metadata": {},
   "outputs": [],
   "source": [
    "all_datasets = datasets.list_datasets()"
   ]
  },
  {
   "cell_type": "code",
   "execution_count": 11,
   "metadata": {},
   "outputs": [],
   "source": [
    "data = datasets.get_dataset_infos(path=all_datasets[132])"
   ]
  },
  {
   "cell_type": "code",
   "execution_count": 16,
   "metadata": {},
   "outputs": [
    {
     "data": {
      "text/plain": [
       "'https://convex.mpi-inf.mpg.de'"
      ]
     },
     "execution_count": 16,
     "metadata": {},
     "output_type": "execute_result"
    }
   ],
   "source": [
    "data['default'].description"
   ]
  },
  {
   "cell_type": "code",
   "execution_count": 17,
   "metadata": {},
   "outputs": [
    {
     "name": "stderr",
     "output_type": "stream",
     "text": [
      "Downloading builder script: 100%|██████████| 11.7k/11.7k [00:00<00:00, 3.42MB/s]\n",
      "Downloading metadata: 100%|██████████| 11.9k/11.9k [00:00<00:00, 3.36MB/s]\n",
      "Downloading readme: 100%|██████████| 9.84k/9.84k [00:00<00:00, 4.46MB/s]\n",
      "  0%|          | 2/30686 [00:14<68:08:51,  8.00s/it]"
     ]
    },
    {
     "name": "stdout",
     "output_type": "stream",
     "text": [
      "'default'\n"
     ]
    },
    {
     "name": "stderr",
     "output_type": "stream",
     "text": [
      "Downloading builder script: 100%|██████████| 9.06k/9.06k [00:00<00:00, 2.71MB/s]\n",
      "Downloading metadata: 100%|██████████| 19.3k/19.3k [00:00<00:00, 3.16MB/s]\n",
      "Downloading readme: 100%|██████████| 14.7k/14.7k [00:00<00:00, 3.66MB/s]\n",
      "  0%|          | 3/30686 [00:29<92:30:24, 10.85s/it]"
     ]
    },
    {
     "name": "stdout",
     "output_type": "stream",
     "text": [
      "'default'\n"
     ]
    },
    {
     "name": "stderr",
     "output_type": "stream",
     "text": [
      "Downloading builder script: 100%|██████████| 3.46k/3.46k [00:00<00:00, 925kB/s]\n",
      "Downloading metadata: 100%|██████████| 1.54k/1.54k [00:00<00:00, 475kB/s]\n",
      "Downloading readme: 100%|██████████| 6.16k/6.16k [00:00<00:00, 1.72MB/s]\n",
      "Downloading builder script: 100%|██████████| 4.84k/4.84k [00:00<00:00, 1.31MB/s]\n",
      "Downloading metadata: 100%|██████████| 2.04k/2.04k [00:00<00:00, 1.28MB/s]\n",
      "Downloading readme: 100%|██████████| 5.69k/5.69k [00:00<00:00, 2.84MB/s]\n",
      "  0%|          | 5/30686 [00:41<66:58:24,  7.86s/it]"
     ]
    },
    {
     "name": "stdout",
     "output_type": "stream",
     "text": [
      "'default'\n"
     ]
    },
    {
     "name": "stderr",
     "output_type": "stream",
     "text": [
      "Downloading builder script: 100%|██████████| 4.06k/4.06k [00:00<00:00, 836kB/s]\n",
      "Downloading metadata: 100%|██████████| 2.65k/2.65k [00:00<00:00, 770kB/s]\n",
      "Downloading readme: 100%|██████████| 7.95k/7.95k [00:00<00:00, 2.09MB/s]\n",
      "Downloading builder script: 100%|██████████| 5.37k/5.37k [00:00<00:00, 1.34MB/s]\n",
      "Downloading metadata: 100%|██████████| 4.47k/4.47k [00:00<00:00, 967kB/s]\n",
      "Downloading readme: 100%|██████████| 8.66k/8.66k [00:00<00:00, 1.96MB/s]\n",
      "  0%|          | 7/30686 [00:54<63:08:33,  7.41s/it]"
     ]
    },
    {
     "name": "stdout",
     "output_type": "stream",
     "text": [
      "'default'\n"
     ]
    },
    {
     "name": "stderr",
     "output_type": "stream",
     "text": [
      "Downloading builder script: 100%|██████████| 15.4k/15.4k [00:00<00:00, 2.89MB/s]\n",
      "Downloading metadata: 100%|██████████| 9.15k/9.15k [00:00<00:00, 2.14MB/s]\n",
      "Downloading readme: 100%|██████████| 20.1k/20.1k [00:00<00:00, 3.88MB/s]\n",
      "  0%|          | 8/30686 [01:03<67:56:30,  7.97s/it]"
     ]
    },
    {
     "name": "stdout",
     "output_type": "stream",
     "text": [
      "'default'\n"
     ]
    },
    {
     "name": "stderr",
     "output_type": "stream",
     "text": [
      "Downloading builder script: 100%|██████████| 3.50k/3.50k [00:00<00:00, 1.68MB/s]\n",
      "Downloading metadata: 100%|██████████| 1.64k/1.64k [00:00<00:00, 564kB/s]\n",
      "Downloading readme: 100%|██████████| 4.66k/4.66k [00:00<00:00, 1.38MB/s]\n",
      "  0%|          | 9/30686 [01:10<64:07:05,  7.52s/it]"
     ]
    },
    {
     "name": "stdout",
     "output_type": "stream",
     "text": [
      "'default'\n"
     ]
    },
    {
     "name": "stderr",
     "output_type": "stream",
     "text": [
      "Downloading builder script: 100%|██████████| 3.97k/3.97k [00:00<00:00, 1.37MB/s]\n",
      "Downloading metadata: 100%|██████████| 2.17k/2.17k [00:00<00:00, 446kB/s]\n",
      "Downloading readme: 100%|██████████| 4.79k/4.79k [00:00<00:00, 1.98MB/s]\n",
      "Downloading builder script: 100%|██████████| 3.68k/3.68k [00:00<00:00, 881kB/s]\n",
      "Downloading metadata: 100%|██████████| 1.96k/1.96k [00:00<00:00, 498kB/s]\n",
      "Downloading readme: 100%|██████████| 9.11k/9.11k [00:00<00:00, 3.82MB/s]\n",
      "  0%|          | 11/30686 [01:21<56:36:55,  6.64s/it]"
     ]
    },
    {
     "name": "stdout",
     "output_type": "stream",
     "text": [
      "'default'\n"
     ]
    },
    {
     "name": "stderr",
     "output_type": "stream",
     "text": [
      "Downloading builder script: 100%|██████████| 17.8k/17.8k [00:00<00:00, 4.08MB/s]\n",
      "Downloading metadata: 100%|██████████| 20.1k/20.1k [00:00<00:00, 4.41MB/s]\n",
      "Downloading readme: 100%|██████████| 12.0k/12.0k [00:00<00:00, 2.30MB/s]\n",
      "  0%|          | 12/30686 [01:44<96:44:19, 11.35s/it]"
     ]
    },
    {
     "name": "stdout",
     "output_type": "stream",
     "text": [
      "'default'\n"
     ]
    },
    {
     "name": "stderr",
     "output_type": "stream",
     "text": [
      "Downloading builder script: 100%|██████████| 4.11k/4.11k [00:00<00:00, 1.07MB/s]\n",
      "Downloading metadata: 100%|██████████| 1.68k/1.68k [00:00<00:00, 483kB/s]\n",
      "Downloading readme: 100%|██████████| 6.64k/6.64k [00:00<00:00, 1.50MB/s]\n",
      "  0%|          | 13/30686 [01:49<82:07:38,  9.64s/it]"
     ]
    },
    {
     "name": "stdout",
     "output_type": "stream",
     "text": [
      "'default'\n"
     ]
    },
    {
     "name": "stderr",
     "output_type": "stream",
     "text": [
      "Downloading builder script: 100%|██████████| 7.16k/7.16k [00:00<00:00, 3.56MB/s]\n",
      "Downloading metadata: 100%|██████████| 37.4k/37.4k [00:00<00:00, 5.95MB/s]\n",
      "Downloading readme: 100%|██████████| 15.0k/15.0k [00:00<00:00, 4.75MB/s]\n",
      "  0%|          | 14/30686 [02:09<108:36:57, 12.75s/it]"
     ]
    },
    {
     "name": "stdout",
     "output_type": "stream",
     "text": [
      "'default'\n"
     ]
    },
    {
     "name": "stderr",
     "output_type": "stream",
     "text": [
      "Downloading builder script: 100%|██████████| 7.45k/7.45k [00:00<00:00, 3.29MB/s]\n",
      "Downloading metadata: 100%|██████████| 195k/195k [00:00<00:00, 480kB/s] \n",
      "Downloading readme: 100%|██████████| 60.0k/60.0k [00:00<00:00, 164kB/s] \n",
      "  0%|          | 15/30686 [04:11<387:59:51, 45.54s/it]"
     ]
    },
    {
     "name": "stdout",
     "output_type": "stream",
     "text": [
      "'default'\n"
     ]
    },
    {
     "name": "stderr",
     "output_type": "stream",
     "text": [
      "Downloading builder script: 100%|██████████| 5.73k/5.73k [00:00<00:00, 1.92MB/s]\n",
      "Downloading metadata: 100%|██████████| 5.61k/5.61k [00:00<00:00, 1.10MB/s]\n",
      "Downloading readme: 100%|██████████| 12.3k/12.3k [00:00<00:00, 3.01MB/s]\n",
      "  0%|          | 16/30686 [04:19<291:48:26, 34.25s/it]"
     ]
    },
    {
     "name": "stdout",
     "output_type": "stream",
     "text": [
      "'default'\n"
     ]
    },
    {
     "name": "stderr",
     "output_type": "stream",
     "text": [
      "Downloading builder script: 100%|██████████| 6.76k/6.76k [00:00<00:00, 1.72MB/s]\n",
      "Downloading metadata: 100%|██████████| 32.9k/32.9k [00:00<00:00, 4.71MB/s]\n",
      "Downloading readme: 100%|██████████| 15.8k/15.8k [00:00<00:00, 1.29MB/s]\n",
      "  0%|          | 17/30686 [04:50<283:02:52, 33.22s/it]"
     ]
    },
    {
     "name": "stdout",
     "output_type": "stream",
     "text": [
      "'default'\n"
     ]
    },
    {
     "name": "stderr",
     "output_type": "stream",
     "text": [
      "Downloading builder script: 100%|██████████| 20.4k/20.4k [00:00<00:00, 3.67MB/s]\n",
      "Downloading metadata: 100%|██████████| 500k/500k [00:00<00:00, 1.09MB/s]\n",
      "Downloading readme: 100%|██████████| 16.5k/16.5k [00:00<00:00, 4.13MB/s]\n",
      "/Users/noahkasmanoff/.cache/huggingface/modules/datasets_modules/datasets/ami/2be3c7c8cbb232ed592f22ef14fa122ad3e49dd099a68bff75ed95a82915bb96/ami.py:308: UserWarning: \n",
      "            This version of the AMI dataset is deprecated.\n",
      "            You can download the latest one (based on the official Kaldi recipes) with\n",
      "            >>> load_dataset(\"edinburghcstr/ami\", \"ihm\")  # for the \"independent headset microphone\" part\n",
      "            or\n",
      "            >>> load_dataset(\"edinburghcstr/ami\", \"sdm\")  # for the \"single distant microphone\" part\n",
      "            \n",
      "  warnings.warn(\n",
      "  0%|          | 18/30686 [05:01<227:40:11, 26.73s/it]"
     ]
    },
    {
     "name": "stdout",
     "output_type": "stream",
     "text": [
      "'default'\n"
     ]
    },
    {
     "name": "stderr",
     "output_type": "stream",
     "text": [
      "Downloading builder script: 100%|██████████| 5.33k/5.33k [00:00<00:00, 1.54MB/s]\n",
      "Downloading metadata: 100%|██████████| 2.86k/2.86k [00:00<00:00, 837kB/s]\n",
      "Downloading readme: 100%|██████████| 3.67k/3.67k [00:00<00:00, 1.02MB/s]\n",
      "  0%|          | 19/30686 [05:07<174:02:23, 20.43s/it]"
     ]
    },
    {
     "name": "stdout",
     "output_type": "stream",
     "text": [
      "'default'\n"
     ]
    },
    {
     "name": "stderr",
     "output_type": "stream",
     "text": [
      "Downloading builder script: 100%|██████████| 5.55k/5.55k [00:00<00:00, 1.84MB/s]\n",
      "Downloading metadata: 100%|██████████| 2.76k/2.76k [00:00<00:00, 724kB/s]\n",
      "Downloading readme: 100%|██████████| 7.47k/7.47k [00:00<00:00, 2.29MB/s]\n",
      "  0%|          | 20/30686 [05:13<137:47:34, 16.18s/it]"
     ]
    },
    {
     "name": "stdout",
     "output_type": "stream",
     "text": [
      "'default'\n"
     ]
    },
    {
     "name": "stderr",
     "output_type": "stream",
     "text": [
      "Downloading builder script: 100%|██████████| 3.12k/3.12k [00:00<00:00, 1.02MB/s]\n",
      "Downloading metadata: 100%|██████████| 1.68k/1.68k [00:00<00:00, 524kB/s]\n",
      "Downloading readme: 100%|██████████| 5.35k/5.35k [00:00<00:00, 1.48MB/s]\n",
      "Downloading builder script: 100%|██████████| 4.57k/4.57k [00:00<00:00, 992kB/s]\n",
      "Downloading metadata: 100%|██████████| 5.43k/5.43k [00:00<00:00, 1.28MB/s]\n",
      "Downloading readme: 100%|██████████| 5.53k/5.53k [00:00<00:00, 1.44MB/s]\n",
      "  0%|          | 22/30686 [05:27<99:04:53, 11.63s/it] "
     ]
    },
    {
     "name": "stdout",
     "output_type": "stream",
     "text": [
      "'default'\n"
     ]
    },
    {
     "name": "stderr",
     "output_type": "stream",
     "text": [
      "Downloading builder script: 100%|██████████| 6.29k/6.29k [00:00<00:00, 1.73MB/s]\n",
      "Downloading metadata: 100%|██████████| 3.55k/3.55k [00:00<00:00, 816kB/s]\n",
      "Downloading readme: 100%|██████████| 6.88k/6.88k [00:00<00:00, 1.37MB/s]\n",
      "  0%|          | 23/30686 [05:31<78:44:39,  9.24s/it]"
     ]
    },
    {
     "name": "stdout",
     "output_type": "stream",
     "text": [
      "To be able to use aquamuse, you need to install the following dependency: tensorflow.\n",
      "Please install it using 'pip install tensorflow' for instance.\n"
     ]
    },
    {
     "name": "stderr",
     "output_type": "stream",
     "text": [
      "Downloading builder script: 100%|██████████| 6.34k/6.34k [00:00<00:00, 1.32MB/s]\n",
      "Downloading metadata: 100%|██████████| 1.35k/1.35k [00:00<00:00, 378kB/s]\n",
      "Downloading readme: 100%|██████████| 4.90k/4.90k [00:00<00:00, 2.25MB/s]\n",
      "  0%|          | 24/30686 [05:37<69:51:28,  8.20s/it]"
     ]
    },
    {
     "name": "stdout",
     "output_type": "stream",
     "text": [
      "'default'\n"
     ]
    },
    {
     "name": "stderr",
     "output_type": "stream",
     "text": [
      "Downloading builder script: 100%|██████████| 3.11k/3.11k [00:00<00:00, 1.40MB/s]\n",
      "Downloading metadata: 100%|██████████| 1.66k/1.66k [00:00<00:00, 864kB/s]\n",
      "Downloading readme: 100%|██████████| 4.79k/4.79k [00:00<00:00, 1.41MB/s]\n",
      "Downloading builder script: 100%|██████████| 4.12k/4.12k [00:00<00:00, 949kB/s]\n",
      "Downloading metadata: 100%|██████████| 2.44k/2.44k [00:00<00:00, 766kB/s]\n",
      "Downloading readme: 100%|██████████| 6.31k/6.31k [00:00<00:00, 1.49MB/s]\n",
      "Downloading builder script: 100%|██████████| 6.41k/6.41k [00:00<00:00, 1.58MB/s]\n",
      "Downloading metadata: 100%|██████████| 16.0k/16.0k [00:00<00:00, 2.53MB/s]\n",
      "Downloading readme: 100%|██████████| 9.04k/9.04k [00:00<00:00, 2.37MB/s]\n",
      "  0%|          | 27/30686 [06:11<102:18:58, 12.01s/it]"
     ]
    },
    {
     "name": "stdout",
     "output_type": "stream",
     "text": [
      "'default'\n"
     ]
    },
    {
     "name": "stderr",
     "output_type": "stream",
     "text": [
      "Downloading builder script: 100%|██████████| 6.24k/6.24k [00:00<00:00, 2.02MB/s]\n",
      "Downloading metadata: 100%|██████████| 11.8k/11.8k [00:00<00:00, 5.05MB/s]\n",
      "Downloading readme: 100%|██████████| 11.8k/11.8k [00:00<00:00, 2.12MB/s]\n",
      "  0%|          | 28/30686 [06:24<103:49:51, 12.19s/it]"
     ]
    },
    {
     "name": "stdout",
     "output_type": "stream",
     "text": [
      "'default'\n"
     ]
    },
    {
     "name": "stderr",
     "output_type": "stream",
     "text": [
      "Downloading builder script: 100%|██████████| 5.33k/5.33k [00:00<00:00, 1.28MB/s]\n",
      "Downloading metadata: 100%|██████████| 2.38k/2.38k [00:00<00:00, 962kB/s]\n",
      "Downloading readme: 100%|██████████| 9.62k/9.62k [00:00<00:00, 2.47MB/s]\n",
      "  0%|          | 29/30686 [06:30<87:31:13, 10.28s/it] "
     ]
    },
    {
     "name": "stdout",
     "output_type": "stream",
     "text": [
      "'default'\n"
     ]
    },
    {
     "name": "stderr",
     "output_type": "stream",
     "text": [
      "Downloading builder script: 100%|██████████| 5.49k/5.49k [00:00<00:00, 2.42MB/s]\n",
      "Downloading metadata: 100%|██████████| 3.40k/3.40k [00:00<00:00, 1.21MB/s]\n",
      "Downloading readme: 100%|██████████| 8.36k/8.36k [00:00<00:00, 2.67MB/s]\n",
      "  0%|          | 30/30686 [06:36<75:52:17,  8.91s/it]"
     ]
    },
    {
     "name": "stdout",
     "output_type": "stream",
     "text": [
      "'default'\n"
     ]
    },
    {
     "name": "stderr",
     "output_type": "stream",
     "text": [
      "Downloading builder script: 100%|██████████| 3.09k/3.09k [00:00<00:00, 1.36MB/s]\n",
      "Downloading metadata: 100%|██████████| 1.84k/1.84k [00:00<00:00, 542kB/s]\n",
      "Downloading readme: 100%|██████████| 5.14k/5.14k [00:00<00:00, 1.19MB/s]\n",
      "Downloading builder script: 100%|██████████| 4.11k/4.11k [00:00<00:00, 1.30MB/s]\n",
      "Downloading metadata: 100%|██████████| 1.62k/1.62k [00:00<00:00, 1.01MB/s]\n",
      "Downloading readme: 100%|██████████| 6.79k/6.79k [00:00<00:00, 2.04MB/s]\n",
      "  0%|          | 32/30686 [06:46<60:33:28,  7.11s/it]"
     ]
    },
    {
     "name": "stdout",
     "output_type": "stream",
     "text": [
      "'default'\n"
     ]
    },
    {
     "name": "stderr",
     "output_type": "stream",
     "text": [
      "Downloading builder script: 100%|██████████| 4.67k/4.67k [00:00<00:00, 987kB/s]\n",
      "Downloading metadata: 100%|██████████| 1.83k/1.83k [00:00<00:00, 537kB/s]\n",
      "Downloading readme: 100%|██████████| 7.25k/7.25k [00:00<00:00, 1.56MB/s]\n",
      "Downloading builder script: 100%|██████████| 5.66k/5.66k [00:00<00:00, 1.87MB/s]\n",
      "Downloading metadata: 100%|██████████| 3.58k/3.58k [00:00<00:00, 1.11MB/s]\n",
      "Downloading readme: 100%|██████████| 8.48k/8.48k [00:00<00:00, 2.81MB/s]\n",
      "  0%|          | 34/30686 [07:00<60:51:52,  7.15s/it]"
     ]
    },
    {
     "name": "stdout",
     "output_type": "stream",
     "text": [
      "'default'\n"
     ]
    },
    {
     "name": "stderr",
     "output_type": "stream",
     "text": [
      "Downloading builder script: 100%|██████████| 2.82k/2.82k [00:00<00:00, 963kB/s]\n",
      "Downloading metadata: 100%|██████████| 1.70k/1.70k [00:00<00:00, 597kB/s]\n",
      "Downloading readme: 100%|██████████| 5.73k/5.73k [00:00<00:00, 2.11MB/s]\n",
      "Downloading builder script: 100%|██████████| 5.75k/5.75k [00:00<00:00, 1.59MB/s]\n",
      "Downloading metadata: 100%|██████████| 2.12k/2.12k [00:00<00:00, 1.05MB/s]\n",
      "Downloading readme: 100%|██████████| 7.35k/7.35k [00:00<00:00, 1.77MB/s]\n",
      "Downloading builder script: 100%|██████████| 6.44k/6.44k [00:00<00:00, 1.89MB/s]\n",
      "Downloading metadata: 100%|██████████| 13.5k/13.5k [00:00<00:00, 3.00MB/s]\n",
      "Downloading readme: 100%|██████████| 11.7k/11.7k [00:00<00:00, 2.97MB/s]\n",
      "  0%|          | 37/30686 [07:20<57:30:29,  6.75s/it]"
     ]
    },
    {
     "name": "stdout",
     "output_type": "stream",
     "text": [
      "'default'\n"
     ]
    },
    {
     "name": "stderr",
     "output_type": "stream",
     "text": [
      "Downloading builder script: 100%|██████████| 7.83k/7.83k [00:00<00:00, 2.07MB/s]\n",
      "Downloading metadata: 100%|██████████| 14.2k/14.2k [00:00<00:00, 3.19MB/s]\n",
      "Downloading readme: 100%|██████████| 9.04k/9.04k [00:00<00:00, 1.86MB/s]\n",
      "  0%|          | 38/30686 [07:30<67:12:47,  7.90s/it]"
     ]
    },
    {
     "name": "stdout",
     "output_type": "stream",
     "text": [
      "'default'\n"
     ]
    },
    {
     "name": "stderr",
     "output_type": "stream",
     "text": [
      "Downloading builder script: 100%|██████████| 4.24k/4.24k [00:00<00:00, 1.16MB/s]\n",
      "Downloading metadata: 100%|██████████| 2.54k/2.54k [00:00<00:00, 818kB/s]\n",
      "Downloading readme: 100%|██████████| 5.05k/5.05k [00:00<00:00, 1.60MB/s]\n",
      "Downloading builder script: 100%|██████████| 5.87k/5.87k [00:00<00:00, 1.75MB/s]\n",
      "Downloading metadata: 100%|██████████| 3.41k/3.41k [00:00<00:00, 993kB/s]\n",
      "Downloading readme: 100%|██████████| 7.01k/7.01k [00:00<00:00, 3.44MB/s]\n",
      "  0%|          | 40/30686 [07:42<58:56:10,  6.92s/it]"
     ]
    },
    {
     "name": "stdout",
     "output_type": "stream",
     "text": [
      "'default'\n"
     ]
    },
    {
     "name": "stderr",
     "output_type": "stream",
     "text": [
      "Downloading builder script: 100%|██████████| 9.87k/9.87k [00:00<00:00, 2.07MB/s]\n",
      "Downloading metadata: 100%|██████████| 9.72k/9.72k [00:00<00:00, 2.59MB/s]\n",
      "Downloading readme: 100%|██████████| 5.06k/5.06k [00:00<00:00, 1.23MB/s]\n",
      "  0%|          | 41/30686 [07:58<81:27:45,  9.57s/it]"
     ]
    },
    {
     "name": "stdout",
     "output_type": "stream",
     "text": [
      "'default'\n"
     ]
    },
    {
     "name": "stderr",
     "output_type": "stream",
     "text": [
      "Downloading builder script: 100%|██████████| 41.3k/41.3k [00:00<00:00, 2.72MB/s]\n",
      "Downloading metadata: 100%|██████████| 369k/369k [00:00<00:00, 3.80MB/s]\n",
      "Downloading readme: 100%|██████████| 106k/106k [00:00<00:00, 3.93MB/s]\n",
      "  0%|          | 42/30686 [08:24<123:01:19, 14.45s/it]"
     ]
    },
    {
     "name": "stdout",
     "output_type": "stream",
     "text": [
      "'default'\n"
     ]
    },
    {
     "name": "stderr",
     "output_type": "stream",
     "text": [
      "Downloading builder script: 100%|██████████| 7.46k/7.46k [00:00<00:00, 4.15MB/s]\n",
      "Downloading metadata: 100%|██████████| 5.89k/5.89k [00:00<00:00, 2.89MB/s]\n",
      "Downloading readme: 100%|██████████| 14.3k/14.3k [00:00<00:00, 3.81MB/s]\n",
      "/Users/noahkasmanoff/.cache/huggingface/modules/datasets_modules/datasets/banking77/9898c11f6afa9521953d2ef205667b527bad14ef9cab445d470f16240c8c8ec4/banking77.py:59: FutureWarning: Dataset 'banking77' is deprecated and will be deleted. Use 'PolyAI/banking77' instead.\n",
      "  warnings.warn(\n",
      "Downloading builder script: 100%|██████████| 3.34k/3.34k [00:00<00:00, 812kB/s]\n",
      "Downloading metadata: 100%|██████████| 1.60k/1.60k [00:00<00:00, 401kB/s]\n",
      "Downloading readme: 100%|██████████| 7.93k/7.93k [00:00<00:00, 2.12MB/s]\n",
      "Downloading builder script: 100%|██████████| 7.29k/7.29k [00:00<00:00, 1.85MB/s]\n",
      "Downloading metadata: 100%|██████████| 4.99k/4.99k [00:00<00:00, 1.42MB/s]\n",
      "Downloading readme: 100%|██████████| 9.18k/9.18k [00:00<00:00, 2.58MB/s]\n",
      "  0%|          | 45/30686 [08:39<71:52:10,  8.44s/it]"
     ]
    },
    {
     "name": "stdout",
     "output_type": "stream",
     "text": [
      "'default'\n"
     ]
    },
    {
     "name": "stderr",
     "output_type": "stream",
     "text": [
      "Downloading builder script: 100%|██████████| 5.47k/5.47k [00:00<00:00, 1.56MB/s]\n",
      "Downloading metadata: 100%|██████████| 3.14k/3.14k [00:00<00:00, 835kB/s]\n",
      "Downloading readme: 100%|██████████| 3.62k/3.62k [00:00<00:00, 1.16MB/s]\n",
      "  0%|          | 46/30686 [08:45<64:32:51,  7.58s/it]"
     ]
    },
    {
     "name": "stdout",
     "output_type": "stream",
     "text": [
      "'default'\n"
     ]
    },
    {
     "name": "stderr",
     "output_type": "stream",
     "text": [
      "Downloading builder script: 100%|██████████| 3.61k/3.61k [00:00<00:00, 1.12MB/s]\n",
      "Downloading metadata: 100%|██████████| 2.24k/2.24k [00:00<00:00, 532kB/s]\n",
      "Downloading readme: 100%|██████████| 4.75k/4.75k [00:00<00:00, 1.35MB/s]\n",
      "Downloading builder script: 100%|██████████| 5.60k/5.60k [00:00<00:00, 1.57MB/s]\n",
      "Downloading metadata: 100%|██████████| 2.68k/2.68k [00:00<00:00, 754kB/s]\n",
      "Downloading readme: 100%|██████████| 8.69k/8.69k [00:00<00:00, 2.40MB/s]\n",
      "  0%|          | 48/30686 [08:55<52:43:48,  6.20s/it]"
     ]
    },
    {
     "name": "stdout",
     "output_type": "stream",
     "text": [
      "'default'\n"
     ]
    },
    {
     "name": "stderr",
     "output_type": "stream",
     "text": [
      "Downloading builder script: 100%|██████████| 5.17k/5.17k [00:00<00:00, 1.06MB/s]\n",
      "Downloading metadata: 100%|██████████| 4.00k/4.00k [00:00<00:00, 1.16MB/s]\n",
      "Downloading readme: 100%|██████████| 4.72k/4.72k [00:00<00:00, 1.15MB/s]\n",
      "  0%|          | 49/30686 [09:05<63:52:36,  7.51s/it]"
     ]
    },
    {
     "name": "stdout",
     "output_type": "stream",
     "text": [
      "'default'\n"
     ]
    },
    {
     "name": "stderr",
     "output_type": "stream",
     "text": [
      "Downloading builder script: 100%|██████████| 3.95k/3.95k [00:00<00:00, 986kB/s]\n",
      "Downloading metadata: 100%|██████████| 7.88k/7.88k [00:00<00:00, 2.30MB/s]\n",
      "Downloading readme: 100%|██████████| 5.48k/5.48k [00:00<00:00, 1.48MB/s]\n",
      "  0%|          | 50/30686 [09:22<87:03:39, 10.23s/it]"
     ]
    },
    {
     "name": "stdout",
     "output_type": "stream",
     "text": [
      "'default'\n"
     ]
    },
    {
     "name": "stderr",
     "output_type": "stream",
     "text": [
      "Downloading builder script: 100%|██████████| 5.50k/5.50k [00:00<00:00, 1.33MB/s]\n",
      "Downloading metadata: 100%|██████████| 22.9k/22.9k [00:00<00:00, 1.55MB/s]\n",
      "Downloading readme: 100%|██████████| 9.70k/9.70k [00:00<00:00, 1.87MB/s]\n",
      "  0%|          | 51/30686 [09:49<129:28:44, 15.22s/it]"
     ]
    },
    {
     "name": "stdout",
     "output_type": "stream",
     "text": [
      "'default'\n"
     ]
    },
    {
     "name": "stderr",
     "output_type": "stream",
     "text": [
      "Downloading builder script: 100%|██████████| 3.66k/3.66k [00:00<00:00, 1.14MB/s]\n",
      "Downloading metadata: 100%|██████████| 1.80k/1.80k [00:00<00:00, 498kB/s]\n",
      "Downloading readme: 100%|██████████| 6.70k/6.70k [00:00<00:00, 1.51MB/s]\n",
      "Downloading builder script: 100%|██████████| 5.53k/5.53k [00:00<00:00, 2.01MB/s]\n",
      "Downloading metadata: 100%|██████████| 1.91k/1.91k [00:00<00:00, 514kB/s]\n",
      "Downloading readme: 100%|██████████| 3.72k/3.72k [00:00<00:00, 1.02MB/s]\n",
      "  0%|          | 53/30686 [09:59<86:33:51, 10.17s/it] "
     ]
    },
    {
     "name": "stdout",
     "output_type": "stream",
     "text": [
      "'default'\n"
     ]
    },
    {
     "name": "stderr",
     "output_type": "stream",
     "text": [
      "Downloading builder script: 100%|██████████| 8.20k/8.20k [00:00<00:00, 2.44MB/s]\n",
      "Downloading metadata: 100%|██████████| 26.9k/26.9k [00:00<00:00, 3.74MB/s]\n",
      "Downloading readme: 100%|██████████| 15.2k/15.2k [00:00<00:00, 2.62MB/s]\n",
      "  0%|          | 54/30686 [10:18<108:47:05, 12.78s/it]"
     ]
    },
    {
     "name": "stdout",
     "output_type": "stream",
     "text": [
      "'default'\n"
     ]
    },
    {
     "name": "stderr",
     "output_type": "stream",
     "text": [
      "Downloading builder script: 100%|██████████| 3.49k/3.49k [00:00<00:00, 954kB/s]\n",
      "Downloading metadata: 100%|██████████| 1.93k/1.93k [00:00<00:00, 487kB/s]\n",
      "Downloading readme: 100%|██████████| 6.66k/6.66k [00:00<00:00, 1.42MB/s]\n",
      "Downloading builder script: 100%|██████████| 8.95k/8.95k [00:00<00:00, 1.84MB/s]\n",
      "Downloading metadata: 100%|██████████| 27.0k/27.0k [00:00<00:00, 4.67MB/s]\n",
      "Downloading readme: 100%|██████████| 37.4k/37.4k [00:00<00:00, 5.77MB/s]\n",
      "  0%|          | 56/30686 [10:36<94:17:47, 11.08s/it]"
     ]
    },
    {
     "name": "stdout",
     "output_type": "stream",
     "text": [
      "'default'\n"
     ]
    },
    {
     "name": "stderr",
     "output_type": "stream",
     "text": [
      "Downloading builder script: 100%|██████████| 16.0k/16.0k [00:00<00:00, 3.04MB/s]\n",
      "Downloading metadata: 100%|██████████| 12.4k/12.4k [00:00<00:00, 2.50MB/s]\n",
      "Downloading readme: 100%|██████████| 25.3k/25.3k [00:00<00:00, 4.61MB/s]\n",
      "  0%|          | 57/30686 [10:47<94:25:13, 11.10s/it]"
     ]
    },
    {
     "name": "stdout",
     "output_type": "stream",
     "text": [
      "'default'\n"
     ]
    },
    {
     "name": "stderr",
     "output_type": "stream",
     "text": [
      "Downloading builder script: 100%|██████████| 6.80k/6.80k [00:00<00:00, 1.56MB/s]\n",
      "Downloading metadata: 100%|██████████| 2.78k/2.78k [00:00<00:00, 1.51MB/s]\n",
      "Downloading readme: 100%|██████████| 8.82k/8.82k [00:00<00:00, 2.80MB/s]\n",
      "Downloading builder script: 100%|██████████| 7.14k/7.14k [00:00<00:00, 3.65MB/s]\n",
      "Downloading metadata: 100%|██████████| 141k/141k [00:00<00:00, 4.06MB/s]\n",
      "Downloading readme: 100%|██████████| 49.5k/49.5k [00:00<00:00, 3.05MB/s]\n",
      "  0%|          | 59/30686 [13:37<476:43:39, 56.04s/it]"
     ]
    },
    {
     "name": "stdout",
     "output_type": "stream",
     "text": [
      "'default'\n"
     ]
    },
    {
     "name": "stderr",
     "output_type": "stream",
     "text": [
      "Downloading builder script: 100%|██████████| 5.60k/5.60k [00:00<00:00, 1.26MB/s]\n",
      "Downloading metadata: 100%|██████████| 2.81k/2.81k [00:00<00:00, 1.63MB/s]\n",
      "Downloading readme: 100%|██████████| 7.30k/7.30k [00:00<00:00, 1.96MB/s]\n",
      "  0%|          | 60/30686 [13:43<347:55:33, 40.90s/it]"
     ]
    },
    {
     "name": "stdout",
     "output_type": "stream",
     "text": [
      "'default'\n"
     ]
    },
    {
     "name": "stderr",
     "output_type": "stream",
     "text": [
      "Downloading builder script: 100%|██████████| 3.34k/3.34k [00:00<00:00, 1.65MB/s]\n",
      "Downloading metadata: 100%|██████████| 2.04k/2.04k [00:00<00:00, 448kB/s]\n",
      "Downloading readme: 100%|██████████| 7.98k/7.98k [00:00<00:00, 2.02MB/s]\n",
      "Downloading builder script: 100%|██████████| 6.25k/6.25k [00:00<00:00, 1.14MB/s]\n",
      "Downloading metadata: 100%|██████████| 2.14k/2.14k [00:00<00:00, 659kB/s]\n",
      "Downloading readme: 100%|██████████| 6.86k/6.86k [00:00<00:00, 2.23MB/s]\n",
      "  0%|          | 62/30686 [13:55<196:45:21, 23.13s/it]"
     ]
    },
    {
     "name": "stdout",
     "output_type": "stream",
     "text": [
      "'default'\n"
     ]
    },
    {
     "name": "stderr",
     "output_type": "stream",
     "text": [
      "Downloading builder script: 100%|██████████| 3.25k/3.25k [00:00<00:00, 1.05MB/s]\n",
      "Downloading metadata: 100%|██████████| 1.67k/1.67k [00:00<00:00, 565kB/s]\n",
      "Downloading readme: 100%|██████████| 6.48k/6.48k [00:00<00:00, 1.52MB/s]\n",
      "  0%|          | 63/30686 [14:01<152:43:39, 17.95s/it]"
     ]
    },
    {
     "name": "stdout",
     "output_type": "stream",
     "text": [
      "'default'\n"
     ]
    },
    {
     "name": "stderr",
     "output_type": "stream",
     "text": [
      "Downloading builder script: 100%|██████████| 3.91k/3.91k [00:00<00:00, 1.28MB/s]\n",
      "Downloading metadata: 100%|██████████| 2.13k/2.13k [00:00<00:00, 390kB/s]\n",
      "Downloading readme: 100%|██████████| 6.97k/6.97k [00:00<00:00, 3.57MB/s]\n",
      "  0%|          | 64/30686 [14:05<117:18:41, 13.79s/it]"
     ]
    },
    {
     "name": "stdout",
     "output_type": "stream",
     "text": [
      "'default'\n"
     ]
    },
    {
     "name": "stderr",
     "output_type": "stream",
     "text": [
      "Downloading builder script: 100%|██████████| 3.38k/3.38k [00:00<00:00, 698kB/s]\n",
      "Downloading metadata: 100%|██████████| 1.91k/1.91k [00:00<00:00, 679kB/s]\n",
      "Downloading readme: 100%|██████████| 6.60k/6.60k [00:00<00:00, 1.30MB/s]\n",
      "Downloading builder script: 100%|██████████| 8.63k/8.63k [00:00<00:00, 3.41MB/s]\n",
      "Downloading metadata: 100%|██████████| 14.8k/14.8k [00:00<00:00, 2.39MB/s]\n",
      "Downloading readme: 100%|██████████| 12.4k/12.4k [00:00<00:00, 2.63MB/s]\n",
      "  0%|          | 66/30686 [14:26<108:29:14, 12.75s/it]"
     ]
    },
    {
     "name": "stdout",
     "output_type": "stream",
     "text": [
      "'default'\n"
     ]
    },
    {
     "name": "stderr",
     "output_type": "stream",
     "text": [
      "Downloading builder script: 100%|██████████| 11.3k/11.3k [00:00<00:00, 2.91MB/s]\n",
      "Downloading metadata: 100%|██████████| 9.41k/9.41k [00:00<00:00, 2.50MB/s]\n",
      "Downloading readme: 100%|██████████| 11.7k/11.7k [00:00<00:00, 2.30MB/s]\n",
      "  0%|          | 67/30686 [14:40<110:38:38, 13.01s/it]"
     ]
    },
    {
     "name": "stdout",
     "output_type": "stream",
     "text": [
      "'default'\n"
     ]
    },
    {
     "name": "stderr",
     "output_type": "stream",
     "text": [
      "Downloading builder script: 100%|██████████| 5.53k/5.53k [00:00<00:00, 1.04MB/s]\n",
      "Downloading metadata: 100%|██████████| 1.83k/1.83k [00:00<00:00, 504kB/s]\n",
      "Downloading readme: 100%|██████████| 5.62k/5.62k [00:00<00:00, 1.23MB/s]\n",
      "Downloading builder script: 100%|██████████| 5.41k/5.41k [00:00<00:00, 1.03MB/s]\n",
      "Downloading metadata: 100%|██████████| 3.27k/3.27k [00:00<00:00, 793kB/s]\n",
      "Downloading readme: 100%|██████████| 5.81k/5.81k [00:00<00:00, 2.06MB/s]\n",
      "Downloading builder script: 100%|██████████| 3.33k/3.33k [00:00<00:00, 1.84MB/s]\n",
      "Downloading metadata: 100%|██████████| 2.14k/2.14k [00:00<00:00, 563kB/s]\n",
      "Downloading readme: 100%|██████████| 3.97k/3.97k [00:00<00:00, 1.17MB/s]\n",
      "  0%|          | 70/30686 [14:59<73:04:57,  8.59s/it]"
     ]
    },
    {
     "name": "stdout",
     "output_type": "stream",
     "text": [
      "'default'\n"
     ]
    },
    {
     "name": "stderr",
     "output_type": "stream",
     "text": [
      "Downloading builder script: 100%|██████████| 6.63k/6.63k [00:00<00:00, 1.30MB/s]\n",
      "Downloading metadata: 100%|██████████| 6.86k/6.86k [00:00<00:00, 1.72MB/s]\n",
      "Downloading readme: 100%|██████████| 5.55k/5.55k [00:00<00:00, 1.34MB/s]\n",
      "  0%|          | 71/30686 [15:06<70:09:15,  8.25s/it]"
     ]
    },
    {
     "name": "stdout",
     "output_type": "stream",
     "text": [
      "'default'\n"
     ]
    },
    {
     "name": "stderr",
     "output_type": "stream",
     "text": [
      "Downloading builder script: 100%|██████████| 3.29k/3.29k [00:00<00:00, 908kB/s]\n",
      "Downloading metadata: 100%|██████████| 2.40M/2.40M [00:00<00:00, 5.21MB/s]\n",
      "Downloading readme: 100%|██████████| 7.77k/7.77k [00:00<00:00, 1.99MB/s]\n",
      "  0%|          | 72/30686 [15:17<77:13:19,  9.08s/it]"
     ]
    },
    {
     "name": "stdout",
     "output_type": "stream",
     "text": [
      "'default'\n"
     ]
    },
    {
     "name": "stderr",
     "output_type": "stream",
     "text": [
      "Downloading builder script: 100%|██████████| 5.16k/5.16k [00:00<00:00, 2.41MB/s]\n",
      "Downloading metadata: 100%|██████████| 3.43k/3.43k [00:00<00:00, 924kB/s]\n",
      "Downloading readme: 100%|██████████| 3.79k/3.79k [00:00<00:00, 833kB/s]\n",
      "Downloading builder script: 100%|██████████| 3.87k/3.87k [00:00<00:00, 1.15MB/s]\n",
      "Downloading metadata: 100%|██████████| 1.60k/1.60k [00:00<00:00, 549kB/s]\n",
      "Downloading readme: 100%|██████████| 4.42k/4.42k [00:00<00:00, 1.09MB/s]\n",
      "Downloading builder script: 100%|██████████| 3.72k/3.72k [00:00<00:00, 904kB/s]\n",
      "Downloading metadata: 100%|██████████| 1.58k/1.58k [00:00<00:00, 425kB/s]\n",
      "Downloading readme: 100%|██████████| 3.86k/3.86k [00:00<00:00, 1.16MB/s]\n",
      "  0%|          | 75/30686 [15:38<63:50:23,  7.51s/it]"
     ]
    },
    {
     "name": "stdout",
     "output_type": "stream",
     "text": [
      "'default'\n"
     ]
    },
    {
     "name": "stderr",
     "output_type": "stream",
     "text": [
      "Downloading builder script: 100%|██████████| 8.50k/8.50k [00:00<00:00, 4.34MB/s]\n",
      "Downloading metadata: 100%|██████████| 5.32k/5.32k [00:00<00:00, 1.19MB/s]\n",
      "Downloading readme: 100%|██████████| 11.9k/11.9k [00:00<00:00, 2.42MB/s]\n",
      "Downloading builder script: 100%|██████████| 5.99k/5.99k [00:00<00:00, 1.58MB/s]\n",
      "Downloading metadata: 100%|██████████| 7.64k/7.64k [00:00<00:00, 2.53MB/s]\n",
      "Downloading readme: 100%|██████████| 4.53k/4.53k [00:00<00:00, 1.10MB/s]\n",
      "  0%|          | 77/30686 [15:54<66:13:53,  7.79s/it]"
     ]
    },
    {
     "name": "stdout",
     "output_type": "stream",
     "text": [
      "'default'\n"
     ]
    },
    {
     "name": "stderr",
     "output_type": "stream",
     "text": [
      "Downloading builder script: 100%|██████████| 3.33k/3.33k [00:00<00:00, 728kB/s]\n",
      "Downloading metadata: 100%|██████████| 1.94k/1.94k [00:00<00:00, 565kB/s]\n",
      "Downloading readme: 100%|██████████| 8.06k/8.06k [00:00<00:00, 1.82MB/s]\n",
      "Downloading builder script: 100%|██████████| 3.14k/3.14k [00:00<00:00, 825kB/s]\n",
      "Downloading metadata: 100%|██████████| 2.06k/2.06k [00:00<00:00, 771kB/s]\n",
      "Downloading readme: 100%|██████████| 4.44k/4.44k [00:00<00:00, 919kB/s]\n",
      "Downloading builder script: 100%|██████████| 8.71k/8.71k [00:00<00:00, 2.07MB/s]\n",
      "Downloading metadata: 100%|██████████| 8.94k/8.94k [00:00<00:00, 2.24MB/s]\n",
      "Downloading readme: 100%|██████████| 9.81k/9.81k [00:00<00:00, 2.27MB/s]\n",
      "  0%|          | 80/30686 [16:16<69:05:19,  8.13s/it]"
     ]
    },
    {
     "name": "stdout",
     "output_type": "stream",
     "text": [
      "'default'\n"
     ]
    },
    {
     "name": "stderr",
     "output_type": "stream",
     "text": [
      "Downloading builder script: 100%|██████████| 6.76k/6.76k [00:00<00:00, 1.50MB/s]\n",
      "Downloading metadata: 100%|██████████| 14.9k/14.9k [00:00<00:00, 3.64MB/s]\n",
      "Downloading readme: 100%|██████████| 9.58k/9.58k [00:00<00:00, 2.06MB/s]\n",
      "  0%|          | 81/30686 [16:27<77:55:43,  9.17s/it]"
     ]
    },
    {
     "name": "stdout",
     "output_type": "stream",
     "text": [
      "'default'\n"
     ]
    },
    {
     "name": "stderr",
     "output_type": "stream",
     "text": [
      "Downloading builder script: 100%|██████████| 4.38k/4.38k [00:00<00:00, 940kB/s]\n",
      "Downloading metadata: 100%|██████████| 2.04k/2.04k [00:00<00:00, 1.19MB/s]\n",
      "Downloading readme: 100%|██████████| 7.46k/7.46k [00:00<00:00, 2.09MB/s]\n",
      "  0%|          | 82/30686 [16:33<69:14:00,  8.14s/it]"
     ]
    },
    {
     "name": "stdout",
     "output_type": "stream",
     "text": [
      "'default'\n"
     ]
    },
    {
     "name": "stderr",
     "output_type": "stream",
     "text": [
      "Downloading builder script: 100%|██████████| 8.04k/8.04k [00:00<00:00, 4.14MB/s]\n",
      "Downloading metadata: 100%|██████████| 13.3k/13.3k [00:00<00:00, 2.72MB/s]\n",
      "Downloading readme: 100%|██████████| 13.7k/13.7k [00:00<00:00, 3.58MB/s]\n",
      "  0%|          | 83/30686 [16:51<94:09:14, 11.08s/it]"
     ]
    },
    {
     "name": "stdout",
     "output_type": "stream",
     "text": [
      "'default'\n"
     ]
    },
    {
     "name": "stderr",
     "output_type": "stream",
     "text": [
      "Downloading builder script: 100%|██████████| 5.46k/5.46k [00:00<00:00, 2.04MB/s]\n",
      "Downloading metadata: 100%|██████████| 3.94k/3.94k [00:00<00:00, 1.22MB/s]\n",
      "Downloading readme: 100%|██████████| 4.87k/4.87k [00:00<00:00, 1.63MB/s]\n",
      "  0%|          | 84/30686 [16:59<87:16:27, 10.27s/it]"
     ]
    },
    {
     "name": "stdout",
     "output_type": "stream",
     "text": [
      "'default'\n"
     ]
    },
    {
     "name": "stderr",
     "output_type": "stream",
     "text": [
      "Downloading builder script: 100%|██████████| 3.27k/3.27k [00:00<00:00, 788kB/s]\n",
      "Downloading metadata: 100%|██████████| 1.71k/1.71k [00:00<00:00, 493kB/s]\n",
      "Downloading readme: 100%|██████████| 3.45k/3.45k [00:00<00:00, 1.04MB/s]\n",
      "Downloading builder script: 100%|██████████| 8.75k/8.75k [00:00<00:00, 1.79MB/s]\n",
      "Downloading metadata: 100%|██████████| 4.23k/4.23k [00:00<00:00, 1.23MB/s]\n",
      "Downloading readme: 100%|██████████| 8.92k/8.92k [00:00<00:00, 1.80MB/s]\n",
      "  0%|          | 86/30686 [17:11<68:42:56,  8.08s/it]"
     ]
    },
    {
     "name": "stdout",
     "output_type": "stream",
     "text": [
      "'default'\n"
     ]
    },
    {
     "name": "stderr",
     "output_type": "stream",
     "text": [
      "Downloading builder script: 100%|██████████| 5.99k/5.99k [00:00<00:00, 1.88MB/s]\n",
      "Downloading metadata: 100%|██████████| 14.4k/14.4k [00:00<00:00, 2.64MB/s]\n",
      "Downloading readme: 100%|██████████| 11.4k/11.4k [00:00<00:00, 3.89MB/s]\n",
      "  0%|          | 87/30686 [17:28<91:18:02, 10.74s/it]"
     ]
    },
    {
     "name": "stdout",
     "output_type": "stream",
     "text": [
      "'default'\n"
     ]
    },
    {
     "name": "stderr",
     "output_type": "stream",
     "text": [
      "Downloading builder script: 100%|██████████| 9.64k/9.64k [00:00<00:00, 4.12MB/s]\n",
      "Downloading readme: 100%|██████████| 6.74k/6.74k [00:00<00:00, 1.96MB/s]\n",
      "  0%|          | 88/30686 [17:40<94:50:02, 11.16s/it]"
     ]
    },
    {
     "name": "stdout",
     "output_type": "stream",
     "text": [
      "'default'\n"
     ]
    },
    {
     "name": "stderr",
     "output_type": "stream",
     "text": [
      "Downloading builder script: 100%|██████████| 3.61k/3.61k [00:00<00:00, 1.68MB/s]\n",
      "Downloading metadata: 100%|██████████| 1.66k/1.66k [00:00<00:00, 551kB/s]\n",
      "Downloading readme: 100%|██████████| 5.00k/5.00k [00:00<00:00, 1.41MB/s]\n",
      "  0%|          | 89/30686 [17:47<82:03:26,  9.65s/it]"
     ]
    },
    {
     "name": "stdout",
     "output_type": "stream",
     "text": [
      "'default'\n"
     ]
    },
    {
     "name": "stderr",
     "output_type": "stream",
     "text": [
      "Downloading builder script: 100%|██████████| 5.61k/5.61k [00:00<00:00, 1.96MB/s]\n",
      "Downloading metadata: 100%|██████████| 4.21k/4.21k [00:00<00:00, 1.23MB/s]\n",
      "Downloading readme: 100%|██████████| 9.83k/9.83k [00:00<00:00, 1.94MB/s]\n",
      "  0%|          | 90/30686 [17:52<72:10:34,  8.49s/it]"
     ]
    },
    {
     "name": "stdout",
     "output_type": "stream",
     "text": [
      "'default'\n"
     ]
    },
    {
     "name": "stderr",
     "output_type": "stream",
     "text": [
      "Downloading builder script: 100%|██████████| 6.10k/6.10k [00:00<00:00, 1.33MB/s]\n",
      "Downloading metadata: 100%|██████████| 2.52k/2.52k [00:00<00:00, 1.41MB/s]\n",
      "Downloading readme: 100%|██████████| 10.4k/10.4k [00:00<00:00, 2.36MB/s]\n",
      "Downloading builder script: 100%|██████████| 6.17k/6.17k [00:00<00:00, 1.23MB/s]\n",
      "Downloading metadata: 100%|██████████| 3.25k/3.25k [00:00<00:00, 957kB/s]\n",
      "Downloading readme: 100%|██████████| 7.63k/7.63k [00:00<00:00, 1.26MB/s]\n",
      "Downloading builder script: 100%|██████████| 4.46k/4.46k [00:00<00:00, 1.15MB/s]\n",
      "Downloading metadata: 100%|██████████| 2.00k/2.00k [00:00<00:00, 502kB/s]\n",
      "Downloading readme: 100%|██████████| 5.95k/5.95k [00:00<00:00, 1.24MB/s]\n",
      "Downloading builder script: 100%|██████████| 5.13k/5.13k [00:00<00:00, 970kB/s]\n",
      "Downloading metadata: 100%|██████████| 2.36k/2.36k [00:00<00:00, 582kB/s]\n",
      "Downloading readme: 100%|██████████| 8.00k/8.00k [00:00<00:00, 2.10MB/s]\n",
      "Downloading builder script: 100%|██████████| 8.57k/8.57k [00:00<00:00, 2.72MB/s]\n",
      "Downloading metadata: 100%|██████████| 14.4k/14.4k [00:00<00:00, 5.11MB/s]\n",
      "Downloading readme: 100%|██████████| 23.4k/23.4k [00:00<00:00, 4.16MB/s]\n",
      "  0%|          | 95/30686 [18:23<62:01:40,  7.30s/it]"
     ]
    },
    {
     "name": "stdout",
     "output_type": "stream",
     "text": [
      "'default'\n"
     ]
    },
    {
     "name": "stderr",
     "output_type": "stream",
     "text": [
      "Downloading builder script: 100%|██████████| 25.5k/25.5k [00:00<00:00, 4.51MB/s]\n",
      "Downloading metadata: 100%|██████████| 28.2k/28.2k [00:00<00:00, 4.61MB/s]\n",
      "Downloading readme: 100%|██████████| 19.5k/19.5k [00:00<00:00, 3.60MB/s]\n",
      "  0%|          | 96/30686 [18:56<126:29:51, 14.89s/it]"
     ]
    },
    {
     "name": "stdout",
     "output_type": "stream",
     "text": [
      "'default'\n"
     ]
    },
    {
     "name": "stderr",
     "output_type": "stream",
     "text": [
      "Downloading builder script: 100%|██████████| 5.27k/5.27k [00:00<00:00, 1.20MB/s]\n",
      "Downloading metadata: 100%|██████████| 3.06k/3.06k [00:00<00:00, 808kB/s]\n",
      "Downloading readme: 100%|██████████| 7.68k/7.68k [00:00<00:00, 4.00MB/s]\n",
      "Downloading builder script: 100%|██████████| 8.11k/8.11k [00:00<00:00, 1.72MB/s]\n",
      "Downloading metadata: 100%|██████████| 3.51k/3.51k [00:00<00:00, 972kB/s]\n",
      "Downloading readme: 100%|██████████| 8.13k/8.13k [00:00<00:00, 1.97MB/s]\n",
      "Downloading builder script: 100%|██████████| 8.33k/8.33k [00:00<00:00, 2.51MB/s]\n",
      "Downloading metadata: 100%|██████████| 9.88k/9.88k [00:00<00:00, 1.98MB/s]\n",
      "Downloading readme: 100%|██████████| 15.1k/15.1k [00:00<00:00, 5.74MB/s]\n",
      "  0%|          | 99/30686 [19:15<80:48:05,  9.51s/it]"
     ]
    },
    {
     "name": "stdout",
     "output_type": "stream",
     "text": [
      "'default'\n"
     ]
    },
    {
     "name": "stderr",
     "output_type": "stream",
     "text": [
      "Downloading builder script: 100%|██████████| 6.89k/6.89k [00:00<00:00, 1.70MB/s]\n",
      "Downloading metadata: 100%|██████████| 3.12k/3.12k [00:00<00:00, 804kB/s]\n",
      "Downloading readme: 100%|██████████| 12.8k/12.8k [00:00<00:00, 3.68MB/s]\n",
      "  0%|          | 100/30686 [19:22<72:30:39,  8.53s/it]"
     ]
    },
    {
     "name": "stdout",
     "output_type": "stream",
     "text": [
      "'default'\n"
     ]
    },
    {
     "name": "stderr",
     "output_type": "stream",
     "text": [
      "Downloading builder script: 100%|██████████| 5.41k/5.41k [00:00<00:00, 1.45MB/s]\n",
      "Downloading metadata: 100%|██████████| 2.12k/2.12k [00:00<00:00, 729kB/s]\n",
      "Downloading readme: 100%|██████████| 7.32k/7.32k [00:00<00:00, 1.97MB/s]\n",
      "Downloading builder script: 100%|██████████| 5.73k/5.73k [00:00<00:00, 2.37MB/s]\n",
      "Downloading metadata: 100%|██████████| 15.8k/15.8k [00:00<00:00, 3.77MB/s]\n",
      "Downloading readme: 100%|██████████| 7.22k/7.22k [00:00<00:00, 1.75MB/s]\n",
      "  0%|          | 102/30686 [19:45<91:09:42, 10.73s/it]"
     ]
    },
    {
     "name": "stdout",
     "output_type": "stream",
     "text": [
      "'default'\n"
     ]
    },
    {
     "name": "stderr",
     "output_type": "stream",
     "text": [
      "Downloading builder script: 100%|██████████| 8.49k/8.49k [00:00<00:00, 2.78MB/s]\n",
      "Downloading metadata: 100%|██████████| 19.1k/19.1k [00:00<00:00, 1.35MB/s]\n",
      "Downloading readme: 100%|██████████| 12.9k/12.9k [00:00<00:00, 2.62MB/s]\n",
      "  0%|          | 103/30686 [20:04<112:05:51, 13.20s/it]"
     ]
    },
    {
     "name": "stdout",
     "output_type": "stream",
     "text": [
      "'default'\n"
     ]
    },
    {
     "name": "stderr",
     "output_type": "stream",
     "text": [
      "Downloading builder script: 100%|██████████| 3.73k/3.73k [00:00<00:00, 1.06MB/s]\n",
      "Downloading metadata: 100%|██████████| 3.51k/3.51k [00:00<00:00, 921kB/s]\n",
      "Downloading readme: 100%|██████████| 6.76k/6.76k [00:00<00:00, 1.63MB/s]\n",
      "Downloading extra modules: 100%|██████████| 2.35k/2.35k [00:00<00:00, 699kB/s]\n",
      "Downloading extra modules: 100%|██████████| 711/711 [00:00<00:00, 247kB/s]\n",
      "Downloading builder script: 100%|██████████| 3.58k/3.58k [00:00<00:00, 1.98MB/s]\n",
      "Downloading metadata: 100%|██████████| 2.05k/2.05k [00:00<00:00, 479kB/s]\n",
      "Downloading readme: 100%|██████████| 5.24k/5.24k [00:00<00:00, 1.42MB/s]\n",
      "Downloading extra modules: 100%|██████████| 2.35k/2.35k [00:00<00:00, 642kB/s]\n",
      "Downloading extra modules: 100%|██████████| 670/670 [00:00<00:00, 270kB/s]\n",
      "Downloading builder script: 100%|██████████| 3.53k/3.53k [00:00<00:00, 800kB/s]\n",
      "Downloading metadata: 100%|██████████| 17.0k/17.0k [00:00<00:00, 3.73MB/s]\n",
      "Downloading readme: 100%|██████████| 11.9k/11.9k [00:00<00:00, 2.43MB/s]\n",
      "Downloading extra modules: 100%|██████████| 2.35k/2.35k [00:00<00:00, 1.16MB/s]\n",
      "Downloading extra modules: 100%|██████████| 3.81k/3.81k [00:00<00:00, 950kB/s]\n",
      "  0%|          | 106/30686 [20:46<126:55:16, 14.94s/it]"
     ]
    },
    {
     "name": "stdout",
     "output_type": "stream",
     "text": [
      "'default'\n"
     ]
    },
    {
     "name": "stderr",
     "output_type": "stream",
     "text": [
      "Downloading builder script: 100%|██████████| 3.54k/3.54k [00:00<00:00, 1.00MB/s]\n",
      "Downloading metadata: 100%|██████████| 17.0k/17.0k [00:00<00:00, 2.87MB/s]\n",
      "Downloading readme: 100%|██████████| 13.6k/13.6k [00:00<00:00, 2.78MB/s]\n",
      "Downloading extra modules: 100%|██████████| 2.35k/2.35k [00:00<00:00, 758kB/s]\n",
      "Downloading extra modules: 100%|██████████| 3.92k/3.92k [00:00<00:00, 890kB/s]\n",
      "  0%|          | 107/30686 [21:09<149:18:37, 17.58s/it]"
     ]
    },
    {
     "name": "stdout",
     "output_type": "stream",
     "text": [
      "'default'\n"
     ]
    },
    {
     "name": "stderr",
     "output_type": "stream",
     "text": [
      "Downloading builder script: 100%|██████████| 3.24k/3.24k [00:00<00:00, 906kB/s]\n",
      "Downloading metadata: 100%|██████████| 5.24k/5.24k [00:00<00:00, 1.15MB/s]\n",
      "Downloading readme: 100%|██████████| 12.9k/12.9k [00:00<00:00, 2.89MB/s]\n",
      "Downloading extra modules: 100%|██████████| 2.35k/2.35k [00:00<00:00, 554kB/s]\n",
      "Downloading extra modules: 100%|██████████| 1.42k/1.42k [00:00<00:00, 626kB/s]\n",
      "  0%|          | 108/30686 [21:21<135:00:56, 15.90s/it]"
     ]
    },
    {
     "name": "stdout",
     "output_type": "stream",
     "text": [
      "'default'\n"
     ]
    },
    {
     "name": "stderr",
     "output_type": "stream",
     "text": [
      "Downloading builder script: 100%|██████████| 8.78k/8.78k [00:00<00:00, 2.00MB/s]\n",
      "Downloading metadata: 100%|██████████| 5.47k/5.47k [00:00<00:00, 1.05MB/s]\n",
      "Downloading readme: 100%|██████████| 14.1k/14.1k [00:00<00:00, 5.63MB/s]\n",
      "Downloading extra modules: 100%|██████████| 2.35k/2.35k [00:00<00:00, 658kB/s]\n",
      "Downloading extra modules: 100%|██████████| 1.46k/1.46k [00:00<00:00, 435kB/s]\n",
      "  0%|          | 109/30686 [21:33<124:03:03, 14.61s/it]"
     ]
    },
    {
     "name": "stdout",
     "output_type": "stream",
     "text": [
      "'default'\n"
     ]
    },
    {
     "name": "stderr",
     "output_type": "stream",
     "text": [
      "Downloading builder script: 100%|██████████| 4.52k/4.52k [00:00<00:00, 1.19MB/s]\n",
      "Downloading metadata: 100%|██████████| 9.48k/9.48k [00:00<00:00, 2.20MB/s]\n",
      "Downloading readme: 100%|██████████| 6.32k/6.32k [00:00<00:00, 1.76MB/s]\n",
      "Downloading extra modules: 100%|██████████| 2.35k/2.35k [00:00<00:00, 529kB/s]\n",
      "Downloading extra modules: 100%|██████████| 1.30k/1.30k [00:00<00:00, 314kB/s]\n",
      "  0%|          | 110/30686 [21:45<117:38:34, 13.85s/it]"
     ]
    },
    {
     "name": "stdout",
     "output_type": "stream",
     "text": [
      "'default'\n"
     ]
    },
    {
     "name": "stderr",
     "output_type": "stream",
     "text": [
      "Downloading builder script: 100%|██████████| 3.64k/3.64k [00:00<00:00, 875kB/s]\n",
      "Downloading metadata: 100%|██████████| 3.92k/3.92k [00:00<00:00, 1.03MB/s]\n",
      "Downloading readme: 100%|██████████| 5.53k/5.53k [00:00<00:00, 1.12MB/s]\n",
      "Downloading extra modules: 100%|██████████| 2.35k/2.35k [00:00<00:00, 686kB/s]\n",
      "Downloading extra modules: 100%|██████████| 635/635 [00:00<00:00, 202kB/s]\n",
      "Downloading builder script: 100%|██████████| 3.24k/3.24k [00:00<00:00, 738kB/s]\n",
      "Downloading metadata: 100%|██████████| 3.08k/3.08k [00:00<00:00, 776kB/s]\n",
      "Downloading readme: 100%|██████████| 5.43k/5.43k [00:00<00:00, 1.71MB/s]\n",
      "Downloading extra modules: 100%|██████████| 2.35k/2.35k [00:00<00:00, 559kB/s]\n",
      "Downloading extra modules: 100%|██████████| 629/629 [00:00<00:00, 164kB/s]\n",
      "Downloading builder script: 100%|██████████| 5.91k/5.91k [00:00<00:00, 1.21MB/s]\n",
      "Downloading metadata: 100%|██████████| 17.9k/17.9k [00:00<00:00, 3.23MB/s]\n",
      "Downloading readme: 100%|██████████| 25.7k/25.7k [00:00<00:00, 4.59MB/s]\n",
      "Downloading extra modules: 100%|██████████| 2.35k/2.35k [00:00<00:00, 550kB/s]\n",
      "Downloading extra modules: 100%|██████████| 3.74k/3.74k [00:00<00:00, 1.00MB/s]\n",
      "  0%|          | 113/30686 [22:24<123:57:30, 14.60s/it]"
     ]
    },
    {
     "name": "stdout",
     "output_type": "stream",
     "text": [
      "'default'\n"
     ]
    },
    {
     "name": "stderr",
     "output_type": "stream",
     "text": [
      "Downloading builder script: 100%|██████████| 8.37k/8.37k [00:00<00:00, 1.79MB/s]\n",
      "Downloading metadata: 100%|██████████| 3.49k/3.49k [00:00<00:00, 1.02MB/s]\n",
      "Downloading readme: 100%|██████████| 10.5k/10.5k [00:00<00:00, 2.63MB/s]\n",
      "Downloading extra modules: 100%|██████████| 2.35k/2.35k [00:00<00:00, 608kB/s]\n",
      "Downloading extra modules: 100%|██████████| 633/633 [00:00<00:00, 170kB/s]\n",
      "Downloading builder script: 100%|██████████| 2.43k/2.43k [00:00<00:00, 634kB/s]\n",
      "Downloading metadata: 100%|██████████| 2.28k/2.28k [00:00<00:00, 617kB/s]\n",
      "Downloading readme: 100%|██████████| 5.39k/5.39k [00:00<00:00, 1.56MB/s]\n",
      "Downloading extra modules: 100%|██████████| 2.35k/2.35k [00:00<00:00, 703kB/s]\n",
      "Downloading extra modules: 100%|██████████| 605/605 [00:00<00:00, 152kB/s]\n",
      "Downloading builder script: 100%|██████████| 3.58k/3.58k [00:00<00:00, 1.21MB/s]\n",
      "Downloading metadata: 100%|██████████| 14.3k/14.3k [00:00<00:00, 2.72MB/s]\n",
      "Downloading readme: 100%|██████████| 6.44k/6.44k [00:00<00:00, 1.83MB/s]\n",
      "Downloading extra modules: 100%|██████████| 2.35k/2.35k [00:00<00:00, 984kB/s]\n",
      "Downloading extra modules: 100%|██████████| 2.57k/2.57k [00:00<00:00, 602kB/s]\n",
      "  0%|          | 116/30686 [22:57<108:46:06, 12.81s/it]"
     ]
    },
    {
     "name": "stdout",
     "output_type": "stream",
     "text": [
      "'default'\n"
     ]
    },
    {
     "name": "stderr",
     "output_type": "stream",
     "text": [
      "Downloading builder script: 100%|██████████| 5.42k/5.42k [00:00<00:00, 1.30MB/s]\n",
      "Downloading metadata: 100%|██████████| 3.46k/3.46k [00:00<00:00, 1.36MB/s]\n",
      "Downloading readme: 100%|██████████| 7.57k/7.57k [00:00<00:00, 1.63MB/s]\n",
      "Downloading builder script: 100%|██████████| 4.10k/4.10k [00:00<00:00, 2.25MB/s]\n",
      "Downloading metadata: 100%|██████████| 2.40k/2.40k [00:00<00:00, 669kB/s]\n",
      "Downloading readme: 100%|██████████| 6.99k/6.99k [00:00<00:00, 1.91MB/s]\n",
      "Downloading builder script: 100%|██████████| 5.16k/5.16k [00:00<00:00, 1.03MB/s]\n",
      "Downloading metadata: 100%|██████████| 2.74k/2.74k [00:00<00:00, 683kB/s]\n",
      "Downloading readme: 100%|██████████| 9.95k/9.95k [00:00<00:00, 2.09MB/s]\n",
      "  0%|          | 119/30686 [23:16<73:37:15,  8.67s/it]"
     ]
    },
    {
     "name": "stdout",
     "output_type": "stream",
     "text": [
      "'default'\n"
     ]
    },
    {
     "name": "stderr",
     "output_type": "stream",
     "text": [
      "Downloading builder script: 100%|██████████| 26.7k/26.7k [00:00<00:00, 3.89MB/s]\n",
      "Downloading metadata: 100%|██████████| 174k/174k [00:00<00:00, 423kB/s]\n",
      "Downloading readme: 100%|██████████| 62.4k/62.4k [00:00<00:00, 3.04MB/s]\n",
      "/Users/noahkasmanoff/.cache/huggingface/modules/datasets_modules/datasets/common_voice/220833898d6a60c50f621126e51fb22eb2dfe5244392c70dccd8e6e2f055f4bf/common_voice.py:634: FutureWarning: \n",
      "            This version of the Common Voice dataset is deprecated.\n",
      "            You can download the latest one with\n",
      "            >>> load_dataset(\"mozilla-foundation/common_voice_11_0\", \"en\")\n",
      "            \n",
      "  warnings.warn(\n",
      "  0%|          | 120/30686 [25:56<458:48:25, 54.04s/it]"
     ]
    },
    {
     "name": "stdout",
     "output_type": "stream",
     "text": [
      "'default'\n"
     ]
    },
    {
     "name": "stderr",
     "output_type": "stream",
     "text": [
      "Downloading builder script: 100%|██████████| 3.64k/3.64k [00:00<00:00, 1.60MB/s]\n",
      "Downloading metadata: 100%|██████████| 3.04k/3.04k [00:00<00:00, 723kB/s]\n",
      "Downloading readme: 100%|██████████| 7.22k/7.22k [00:00<00:00, 1.81MB/s]\n",
      "Downloading builder script: 100%|██████████| 2.60k/2.60k [00:00<00:00, 905kB/s]\n",
      "Downloading metadata: 100%|██████████| 1.84k/1.84k [00:00<00:00, 562kB/s]\n",
      "Downloading readme: 100%|██████████| 5.32k/5.32k [00:00<00:00, 1.40MB/s]\n",
      "Downloading builder script: 100%|██████████| 12.2k/12.2k [00:00<00:00, 2.28MB/s]\n",
      "Downloading metadata: 100%|██████████| 7.65k/7.65k [00:00<00:00, 2.38MB/s]\n",
      "Downloading readme: 100%|██████████| 12.8k/12.8k [00:00<00:00, 3.00MB/s]\n",
      "  0%|          | 123/30686 [26:15<193:40:13, 22.81s/it]"
     ]
    },
    {
     "name": "stdout",
     "output_type": "stream",
     "text": [
      "'default'\n"
     ]
    },
    {
     "name": "stderr",
     "output_type": "stream",
     "text": [
      "Downloading builder script: 100%|██████████| 7.72k/7.72k [00:00<00:00, 1.70MB/s]\n",
      "Downloading metadata: 100%|██████████| 9.21k/9.21k [00:00<00:00, 1.98MB/s]\n",
      "Downloading readme: 100%|██████████| 13.4k/13.4k [00:00<00:00, 3.52MB/s]\n",
      "  0%|          | 124/30686 [26:24<159:10:10, 18.75s/it]"
     ]
    },
    {
     "name": "stdout",
     "output_type": "stream",
     "text": [
      "'default'\n"
     ]
    },
    {
     "name": "stderr",
     "output_type": "stream",
     "text": [
      "Downloading builder script: 100%|██████████| 7.47k/7.47k [00:00<00:00, 1.80MB/s]\n",
      "Downloading readme: 100%|██████████| 8.77k/8.77k [00:00<00:00, 3.44MB/s]\n",
      "Downloading builder script: 100%|██████████| 9.23k/9.23k [00:00<00:00, 2.29MB/s]\n",
      "Downloading metadata: 100%|██████████| 7.46k/7.46k [00:00<00:00, 1.62MB/s]\n",
      "Downloading readme: 100%|██████████| 12.9k/12.9k [00:00<00:00, 2.41MB/s]\n",
      "  0%|          | 126/30686 [26:39<111:10:47, 13.10s/it]"
     ]
    },
    {
     "name": "stdout",
     "output_type": "stream",
     "text": [
      "'default'\n"
     ]
    },
    {
     "name": "stderr",
     "output_type": "stream",
     "text": [
      "Downloading builder script: 100%|██████████| 9.57k/9.57k [00:00<00:00, 5.08MB/s]\n",
      "Downloading metadata: 100%|██████████| 3.73k/3.73k [00:00<00:00, 812kB/s]\n",
      "Downloading readme: 100%|██████████| 12.3k/12.3k [00:00<00:00, 2.69MB/s]\n",
      "  0%|          | 127/30686 [26:45<92:38:42, 10.91s/it] "
     ]
    },
    {
     "name": "stdout",
     "output_type": "stream",
     "text": [
      "'default'\n"
     ]
    },
    {
     "name": "stderr",
     "output_type": "stream",
     "text": [
      "Downloading builder script: 100%|██████████| 8.73k/8.73k [00:00<00:00, 1.58MB/s]\n",
      "Downloading metadata: 100%|██████████| 3.35k/3.35k [00:00<00:00, 834kB/s]\n",
      "Downloading readme: 100%|██████████| 7.70k/7.70k [00:00<00:00, 1.91MB/s]\n",
      "  0%|          | 128/30686 [26:50<79:28:49,  9.36s/it]"
     ]
    },
    {
     "name": "stdout",
     "output_type": "stream",
     "text": [
      "'default'\n"
     ]
    },
    {
     "name": "stderr",
     "output_type": "stream",
     "text": [
      "Downloading builder script: 100%|██████████| 8.42k/8.42k [00:00<00:00, 2.18MB/s]\n",
      "Downloading metadata: 100%|██████████| 5.60k/5.60k [00:00<00:00, 1.32MB/s]\n",
      "Downloading readme: 100%|██████████| 16.8k/16.8k [00:00<00:00, 4.00MB/s]\n",
      "Downloading builder script: 100%|██████████| 3.66k/3.66k [00:00<00:00, 871kB/s]\n",
      "Downloading metadata: 100%|██████████| 1.95k/1.95k [00:00<00:00, 553kB/s]\n",
      "Downloading readme: 100%|██████████| 4.06k/4.06k [00:00<00:00, 1.05MB/s]\n",
      "  0%|          | 130/30686 [27:01<61:52:38,  7.29s/it]"
     ]
    },
    {
     "name": "stdout",
     "output_type": "stream",
     "text": [
      "'default'\n"
     ]
    },
    {
     "name": "stderr",
     "output_type": "stream",
     "text": [
      "Downloading builder script: 100%|██████████| 3.36k/3.36k [00:00<00:00, 932kB/s]\n",
      "Downloading metadata: 100%|██████████| 1.92k/1.92k [00:00<00:00, 648kB/s]\n",
      "Downloading readme: 100%|██████████| 6.75k/6.75k [00:00<00:00, 1.96MB/s]\n",
      "  0%|          | 131/30686 [27:07<58:10:29,  6.85s/it]"
     ]
    },
    {
     "name": "stdout",
     "output_type": "stream",
     "text": [
      "'default'\n"
     ]
    },
    {
     "name": "stderr",
     "output_type": "stream",
     "text": [
      "Downloading builder script: 100%|██████████| 4.21k/4.21k [00:00<00:00, 1.26MB/s]\n",
      "Downloading metadata: 100%|██████████| 2.77k/2.77k [00:00<00:00, 815kB/s]\n",
      "Downloading readme: 100%|██████████| 7.41k/7.41k [00:00<00:00, 3.51MB/s]\n",
      "  0%|          | 132/30686 [27:13<56:36:46,  6.67s/it]"
     ]
    },
    {
     "name": "stdout",
     "output_type": "stream",
     "text": [
      "'default'\n"
     ]
    },
    {
     "name": "stderr",
     "output_type": "stream",
     "text": [
      "Downloading builder script: 100%|██████████| 3.20k/3.20k [00:00<00:00, 1.06MB/s]\n",
      "Downloading metadata: 100%|██████████| 2.09k/2.09k [00:00<00:00, 993kB/s]\n",
      "Downloading readme: 100%|██████████| 8.03k/8.03k [00:00<00:00, 1.75MB/s]\n",
      "Downloading builder script: 100%|██████████| 8.42k/8.42k [00:00<00:00, 3.24MB/s]\n",
      "Downloading metadata: 100%|██████████| 8.13k/8.13k [00:00<00:00, 3.51MB/s]\n",
      "Downloading readme: 100%|██████████| 11.6k/11.6k [00:00<00:00, 3.70MB/s]\n",
      "  0%|          | 135/30686 [27:33<59:54:36,  7.06s/it]"
     ]
    },
    {
     "name": "stdout",
     "output_type": "stream",
     "text": [
      "'default'\n"
     ]
    },
    {
     "name": "stderr",
     "output_type": "stream",
     "text": [
      "Downloading builder script: 100%|██████████| 7.11k/7.11k [00:00<00:00, 2.03MB/s]\n",
      "Downloading metadata: 100%|██████████| 2.63k/2.63k [00:00<00:00, 926kB/s]\n",
      "Downloading readme: 100%|██████████| 7.35k/7.35k [00:00<00:00, 1.74MB/s]\n",
      "Downloading builder script: 100%|██████████| 7.08k/7.08k [00:00<00:00, 1.84MB/s]\n",
      "Downloading metadata: 100%|██████████| 5.48k/5.48k [00:00<00:00, 1.14MB/s]\n",
      "Downloading readme: 100%|██████████| 7.61k/7.61k [00:00<00:00, 1.74MB/s]\n",
      "  0%|          | 137/30686 [27:48<62:05:27,  7.32s/it]"
     ]
    },
    {
     "name": "stdout",
     "output_type": "stream",
     "text": [
      "'default'\n"
     ]
    },
    {
     "name": "stderr",
     "output_type": "stream",
     "text": [
      "Downloading builder script: 100%|██████████| 4.32k/4.32k [00:00<00:00, 1.03MB/s]\n",
      "Downloading metadata: 100%|██████████| 2.93k/2.93k [00:00<00:00, 585kB/s]\n",
      "Downloading readme: 100%|██████████| 7.51k/7.51k [00:00<00:00, 1.75MB/s]\n",
      "Downloading builder script: 100%|██████████| 6.33k/6.33k [00:00<00:00, 1.46MB/s]\n",
      "Downloading metadata: 100%|██████████| 3.19k/3.19k [00:00<00:00, 814kB/s]\n",
      "Downloading readme: 100%|██████████| 18.3k/18.3k [00:00<00:00, 3.10MB/s]\n",
      "Downloading builder script: 100%|██████████| 4.36k/4.36k [00:00<00:00, 1.01MB/s]\n",
      "Downloading metadata: 100%|██████████| 5.28k/5.28k [00:00<00:00, 1.22MB/s]\n",
      "Downloading readme: 100%|██████████| 6.92k/6.92k [00:00<00:00, 2.07MB/s]\n",
      "  0%|          | 140/30686 [28:04<52:10:53,  6.15s/it]"
     ]
    },
    {
     "name": "stdout",
     "output_type": "stream",
     "text": [
      "'default'\n"
     ]
    },
    {
     "name": "stderr",
     "output_type": "stream",
     "text": [
      "Downloading builder script: 100%|██████████| 4.80k/4.80k [00:00<00:00, 1.12MB/s]\n",
      "Downloading metadata: 100%|██████████| 1.95k/1.95k [00:00<00:00, 570kB/s]\n",
      "Downloading readme: 100%|██████████| 5.61k/5.61k [00:00<00:00, 1.45MB/s]\n",
      "  0%|          | 141/30686 [28:10<49:53:21,  5.88s/it]"
     ]
    },
    {
     "name": "stdout",
     "output_type": "stream",
     "text": [
      "'default'\n"
     ]
    },
    {
     "name": "stderr",
     "output_type": "stream",
     "text": [
      "Downloading builder script: 100%|██████████| 12.2k/12.2k [00:00<00:00, 4.01MB/s]\n",
      "Downloading metadata: 100%|██████████| 3.12k/3.12k [00:00<00:00, 1.05MB/s]\n",
      "Downloading readme: 100%|██████████| 7.17k/7.17k [00:00<00:00, 1.78MB/s]\n",
      "  0%|          | 142/30686 [28:16<52:11:41,  6.15s/it]"
     ]
    },
    {
     "name": "stdout",
     "output_type": "stream",
     "text": [
      "'default'\n"
     ]
    },
    {
     "name": "stderr",
     "output_type": "stream",
     "text": [
      "Downloading builder script: 100%|██████████| 3.15k/3.15k [00:00<00:00, 1.09MB/s]\n",
      "Downloading metadata: 100%|██████████| 1.65k/1.65k [00:00<00:00, 541kB/s]\n",
      "Downloading readme: 100%|██████████| 5.34k/5.34k [00:00<00:00, 1.43MB/s]\n",
      "Downloading builder script: 100%|██████████| 6.96k/6.96k [00:00<00:00, 3.33MB/s]\n",
      "Downloading metadata: 100%|██████████| 84.3k/84.3k [00:00<00:00, 3.16MB/s]\n",
      "Downloading readme: 100%|██████████| 24.4k/24.4k [00:00<00:00, 4.64MB/s]\n",
      "  0%|          | 144/30686 [29:53<268:23:55, 31.64s/it]"
     ]
    },
    {
     "name": "stdout",
     "output_type": "stream",
     "text": [
      "'default'\n"
     ]
    },
    {
     "name": "stderr",
     "output_type": "stream",
     "text": [
      "Downloading builder script: 100%|██████████| 4.89k/4.89k [00:00<00:00, 1.08MB/s]\n",
      "Downloading metadata: 100%|██████████| 2.08k/2.08k [00:00<00:00, 613kB/s]\n",
      "Downloading readme: 100%|██████████| 11.0k/11.0k [00:00<00:00, 3.60MB/s]\n",
      "Downloading builder script: 100%|██████████| 8.70k/8.70k [00:00<00:00, 1.86MB/s]\n",
      "Downloading metadata: 100%|██████████| 3.24k/3.24k [00:00<00:00, 1.89MB/s]\n",
      "Downloading readme: 100%|██████████| 9.53k/9.53k [00:00<00:00, 2.60MB/s]\n",
      "Downloading builder script: 100%|██████████| 4.97k/4.97k [00:00<00:00, 1.31MB/s]\n",
      "Downloading metadata: 100%|██████████| 2.83k/2.83k [00:00<00:00, 636kB/s]\n",
      "Downloading readme: 100%|██████████| 6.06k/6.06k [00:00<00:00, 1.51MB/s]\n",
      "Downloading builder script: 100%|██████████| 6.36k/6.36k [00:00<00:00, 2.53MB/s]\n",
      "Downloading metadata: 100%|██████████| 2.63k/2.63k [00:00<00:00, 862kB/s]\n",
      "Downloading readme: 100%|██████████| 7.81k/7.81k [00:00<00:00, 1.75MB/s]\n",
      "Downloading builder script: 100%|██████████| 1.92k/1.92k [00:00<00:00, 546kB/s]\n",
      "Downloading readme: 100%|██████████| 5.08k/5.08k [00:00<00:00, 1.41MB/s]\n",
      "Downloading builder script: 100%|██████████| 3.67k/3.67k [00:00<00:00, 966kB/s]\n",
      "Downloading metadata: 100%|██████████| 2.52k/2.52k [00:00<00:00, 788kB/s]\n",
      "Downloading readme: 100%|██████████| 4.45k/4.45k [00:00<00:00, 1.31MB/s]\n",
      "  0%|          | 150/30686 [30:27<75:03:42,  8.85s/it]"
     ]
    },
    {
     "name": "stdout",
     "output_type": "stream",
     "text": [
      "'default'\n"
     ]
    },
    {
     "name": "stderr",
     "output_type": "stream",
     "text": [
      "Downloading builder script: 100%|██████████| 4.99k/4.99k [00:00<00:00, 1.02MB/s]\n",
      "Downloading metadata: 100%|██████████| 5.83k/5.83k [00:00<00:00, 1.40MB/s]\n",
      "Downloading readme: 100%|██████████| 6.12k/6.12k [00:00<00:00, 2.36MB/s]\n",
      "  0%|          | 151/30686 [30:32<65:51:01,  7.76s/it]"
     ]
    },
    {
     "name": "stdout",
     "output_type": "stream",
     "text": [
      "'default'\n"
     ]
    },
    {
     "name": "stderr",
     "output_type": "stream",
     "text": [
      "Downloading builder script: 100%|██████████| 3.80k/3.80k [00:00<00:00, 718kB/s]\n",
      "Downloading metadata: 100%|██████████| 2.39k/2.39k [00:00<00:00, 602kB/s]\n",
      "Downloading readme: 100%|██████████| 7.32k/7.32k [00:00<00:00, 1.70MB/s]\n",
      "  0%|          | 152/30686 [30:38<60:55:58,  7.18s/it]"
     ]
    },
    {
     "name": "stdout",
     "output_type": "stream",
     "text": [
      "'default'\n"
     ]
    },
    {
     "name": "stderr",
     "output_type": "stream",
     "text": [
      "Downloading builder script: 100%|██████████| 5.19k/5.19k [00:00<00:00, 1.26MB/s]\n",
      "Downloading metadata: 100%|██████████| 1.91k/1.91k [00:00<00:00, 944kB/s]\n",
      "Downloading readme: 100%|██████████| 15.5k/15.5k [00:00<00:00, 2.66MB/s]\n",
      "Downloading builder script: 100%|██████████| 9.24k/9.24k [00:00<00:00, 1.73MB/s]\n",
      "Downloading metadata: 100%|██████████| 5.03k/5.03k [00:00<00:00, 1.26MB/s]\n",
      "Downloading readme: 100%|██████████| 12.0k/12.0k [00:00<00:00, 2.26MB/s]\n",
      "  1%|          | 154/30686 [30:50<56:18:38,  6.64s/it]"
     ]
    },
    {
     "name": "stdout",
     "output_type": "stream",
     "text": [
      "'default'\n"
     ]
    },
    {
     "name": "stderr",
     "output_type": "stream",
     "text": [
      "Downloading builder script: 100%|██████████| 4.85k/4.85k [00:00<00:00, 1.05MB/s]\n",
      "Downloading metadata: 100%|██████████| 2.49k/2.49k [00:00<00:00, 526kB/s]\n",
      "Downloading readme: 100%|██████████| 7.23k/7.23k [00:00<00:00, 1.56MB/s]\n",
      "Downloading builder script: 100%|██████████| 12.8k/12.8k [00:00<00:00, 2.47MB/s]\n",
      "Downloading metadata: 100%|██████████| 5.49k/5.49k [00:00<00:00, 1.10MB/s]\n",
      "Downloading readme: 100%|██████████| 10.8k/10.8k [00:00<00:00, 3.16MB/s]\n",
      "Downloading builder script: 100%|██████████| 2.74k/2.74k [00:00<00:00, 710kB/s]\n",
      "Downloading metadata: 100%|██████████| 1.49k/1.49k [00:00<00:00, 390kB/s]\n",
      "Downloading readme: 100%|██████████| 3.39k/3.39k [00:00<00:00, 866kB/s]\n",
      "Downloading builder script: 100%|██████████| 4.33k/4.33k [00:00<00:00, 1.29MB/s]\n",
      "Downloading readme: 100%|██████████| 8.70k/8.70k [00:00<00:00, 1.71MB/s]\n",
      "Downloading builder script: 100%|██████████| 4.37k/4.37k [00:00<00:00, 1.14MB/s]\n",
      "Downloading metadata: 100%|██████████| 2.94k/2.94k [00:00<00:00, 722kB/s]\n",
      "Downloading readme: 100%|██████████| 7.57k/7.57k [00:00<00:00, 1.96MB/s]\n",
      "  1%|          | 159/30686 [31:18<49:52:21,  5.88s/it]"
     ]
    },
    {
     "name": "stdout",
     "output_type": "stream",
     "text": [
      "'default'\n"
     ]
    },
    {
     "name": "stderr",
     "output_type": "stream",
     "text": [
      "Downloading builder script: 100%|██████████| 5.22k/5.22k [00:00<00:00, 1.60MB/s]\n",
      "Downloading metadata: 100%|██████████| 2.47k/2.47k [00:00<00:00, 1.50MB/s]\n",
      "Downloading readme: 100%|██████████| 7.15k/7.15k [00:00<00:00, 2.99MB/s]\n",
      "  1%|          | 160/30686 [31:23<45:50:41,  5.41s/it]"
     ]
    },
    {
     "name": "stdout",
     "output_type": "stream",
     "text": [
      "'default'\n"
     ]
    },
    {
     "name": "stderr",
     "output_type": "stream",
     "text": [
      "Downloading builder script: 100%|██████████| 4.13k/4.13k [00:00<00:00, 1.29MB/s]\n",
      "Downloading metadata: 100%|██████████| 2.18k/2.18k [00:00<00:00, 634kB/s]\n",
      "Downloading readme: 100%|██████████| 8.83k/8.83k [00:00<00:00, 3.55MB/s]\n",
      "  1%|          | 161/30686 [31:27<42:38:53,  5.03s/it]"
     ]
    },
    {
     "name": "stdout",
     "output_type": "stream",
     "text": [
      "'default'\n"
     ]
    },
    {
     "name": "stderr",
     "output_type": "stream",
     "text": [
      "Downloading builder script: 100%|██████████| 6.38k/6.38k [00:00<00:00, 1.61MB/s]\n",
      "Downloading metadata: 100%|██████████| 4.02k/4.02k [00:00<00:00, 1.19MB/s]\n",
      "Downloading readme: 100%|██████████| 5.33k/5.33k [00:00<00:00, 1.06MB/s]\n",
      "  1%|          | 162/30686 [31:32<43:25:18,  5.12s/it]"
     ]
    },
    {
     "name": "stdout",
     "output_type": "stream",
     "text": [
      "'default'\n"
     ]
    },
    {
     "name": "stderr",
     "output_type": "stream",
     "text": [
      "Downloading builder script: 100%|██████████| 4.26k/4.26k [00:00<00:00, 982kB/s]\n",
      "Downloading metadata: 100%|██████████| 2.67k/2.67k [00:00<00:00, 810kB/s]\n",
      "Downloading readme: 100%|██████████| 7.18k/7.18k [00:00<00:00, 1.90MB/s]\n",
      "  1%|          | 163/30686 [31:38<44:56:32,  5.30s/it]"
     ]
    },
    {
     "name": "stdout",
     "output_type": "stream",
     "text": [
      "'default'\n"
     ]
    },
    {
     "name": "stderr",
     "output_type": "stream",
     "text": [
      "Downloading builder script: 100%|██████████| 4.55k/4.55k [00:00<00:00, 2.01MB/s]\n",
      "Downloading metadata: 100%|██████████| 2.22k/2.22k [00:00<00:00, 1.07MB/s]\n",
      "Downloading readme: 100%|██████████| 4.71k/4.71k [00:00<00:00, 2.04MB/s]\n",
      "Downloading builder script: 100%|██████████| 4.83k/4.83k [00:00<00:00, 1.07MB/s]\n",
      "Downloading metadata: 100%|██████████| 2.88k/2.88k [00:00<00:00, 1.01MB/s]\n",
      "Downloading readme: 100%|██████████| 7.45k/7.45k [00:00<00:00, 2.19MB/s]\n",
      "  1%|          | 165/30686 [31:47<42:35:45,  5.02s/it]"
     ]
    },
    {
     "name": "stdout",
     "output_type": "stream",
     "text": [
      "'default'\n"
     ]
    },
    {
     "name": "stderr",
     "output_type": "stream",
     "text": [
      "Downloading builder script: 100%|██████████| 7.04k/7.04k [00:00<00:00, 1.63MB/s]\n",
      "Downloading metadata: 100%|██████████| 5.80k/5.80k [00:00<00:00, 1.45MB/s]\n",
      "Downloading readme: 100%|██████████| 10.7k/10.7k [00:00<00:00, 3.92MB/s]\n",
      "Downloading builder script: 100%|██████████| 9.84k/9.84k [00:00<00:00, 2.06MB/s]\n",
      "Downloading metadata: 100%|██████████| 6.72k/6.72k [00:00<00:00, 1.66MB/s]\n",
      "Downloading readme: 100%|██████████| 13.3k/13.3k [00:00<00:00, 2.63MB/s]\n",
      "Downloading builder script: 100%|██████████| 9.03k/9.03k [00:00<00:00, 1.91MB/s]\n",
      "Downloading metadata: 100%|██████████| 4.28k/4.28k [00:00<00:00, 1.19MB/s]\n",
      "Downloading readme: 100%|██████████| 9.27k/9.27k [00:00<00:00, 2.03MB/s]\n",
      "  1%|          | 168/30686 [32:09<55:50:16,  6.59s/it]"
     ]
    },
    {
     "name": "stdout",
     "output_type": "stream",
     "text": [
      "'default'\n"
     ]
    },
    {
     "name": "stderr",
     "output_type": "stream",
     "text": [
      "Downloading builder script: 100%|██████████| 10.5k/10.5k [00:00<00:00, 2.18MB/s]\n",
      "Downloading metadata: 100%|██████████| 14.1k/14.1k [00:00<00:00, 2.33MB/s]\n",
      "Downloading readme: 100%|██████████| 15.6k/15.6k [00:00<00:00, 2.93MB/s]\n",
      "  1%|          | 169/30686 [32:18<63:13:44,  7.46s/it]"
     ]
    },
    {
     "name": "stdout",
     "output_type": "stream",
     "text": [
      "'default'\n"
     ]
    },
    {
     "name": "stderr",
     "output_type": "stream",
     "text": [
      "Downloading builder script: 100%|██████████| 8.04k/8.04k [00:00<00:00, 2.11MB/s]\n",
      "Downloading metadata: 100%|██████████| 3.67k/3.67k [00:00<00:00, 1.06MB/s]\n",
      "Downloading readme: 100%|██████████| 7.68k/7.68k [00:00<00:00, 1.71MB/s]\n",
      "Downloading builder script: 100%|██████████| 14.1k/14.1k [00:00<00:00, 2.96MB/s]\n",
      "Downloading metadata: 100%|██████████| 7.31k/7.31k [00:00<00:00, 1.47MB/s]\n",
      "Downloading readme: 100%|██████████| 22.6k/22.6k [00:00<00:00, 4.90MB/s]\n",
      "  1%|          | 171/30686 [32:35<69:50:18,  8.24s/it]"
     ]
    },
    {
     "name": "stdout",
     "output_type": "stream",
     "text": [
      "'default'\n"
     ]
    },
    {
     "name": "stderr",
     "output_type": "stream",
     "text": [
      "Downloading builder script: 100%|██████████| 5.49k/5.49k [00:00<00:00, 1.63MB/s]\n",
      "Downloading metadata: 100%|██████████| 4.09k/4.09k [00:00<00:00, 1.49MB/s]\n",
      "Downloading readme: 100%|██████████| 8.13k/8.13k [00:00<00:00, 2.08MB/s]\n",
      "Downloading builder script: 100%|██████████| 7.59k/7.59k [00:00<00:00, 1.91MB/s]\n",
      "Downloading metadata: 100%|██████████| 9.08k/9.08k [00:00<00:00, 2.22MB/s]\n",
      "Downloading readme: 100%|██████████| 12.7k/12.7k [00:00<00:00, 2.55MB/s]\n",
      "  1%|          | 173/30686 [32:53<73:07:13,  8.63s/it]"
     ]
    },
    {
     "name": "stdout",
     "output_type": "stream",
     "text": [
      "'default'\n"
     ]
    },
    {
     "name": "stderr",
     "output_type": "stream",
     "text": [
      "Downloading builder script: 100%|██████████| 4.36k/4.36k [00:00<00:00, 853kB/s]\n",
      "Downloading metadata: 100%|██████████| 2.37k/2.37k [00:00<00:00, 1.39MB/s]\n",
      "Downloading readme: 100%|██████████| 3.79k/3.79k [00:00<00:00, 900kB/s]\n",
      "  1%|          | 174/30686 [32:59<67:07:48,  7.92s/it]"
     ]
    },
    {
     "name": "stdout",
     "output_type": "stream",
     "text": [
      "'default'\n"
     ]
    },
    {
     "name": "stderr",
     "output_type": "stream",
     "text": [
      "Downloading builder script: 100%|██████████| 7.37k/7.37k [00:00<00:00, 1.60MB/s]\n",
      "Downloading metadata: 100%|██████████| 2.07k/2.07k [00:00<00:00, 724kB/s]\n",
      "Downloading readme: 100%|██████████| 6.85k/6.85k [00:00<00:00, 1.80MB/s]\n",
      "Downloading builder script: 100%|██████████| 5.21k/5.21k [00:00<00:00, 1.22MB/s]\n",
      "Downloading metadata: 100%|██████████| 4.77k/4.77k [00:00<00:00, 1.57MB/s]\n",
      "Downloading readme: 100%|██████████| 9.12k/9.12k [00:00<00:00, 1.82MB/s]\n",
      "  1%|          | 176/30686 [33:14<65:15:47,  7.70s/it]"
     ]
    },
    {
     "name": "stdout",
     "output_type": "stream",
     "text": [
      "'default'\n"
     ]
    },
    {
     "name": "stderr",
     "output_type": "stream",
     "text": [
      "Downloading builder script: 100%|██████████| 11.1k/11.1k [00:00<00:00, 5.26MB/s]\n",
      "Downloading metadata: 100%|██████████| 3.53k/3.53k [00:00<00:00, 1.09MB/s]\n",
      "Downloading readme: 100%|██████████| 9.13k/9.13k [00:00<00:00, 1.71MB/s]\n",
      "  1%|          | 177/30686 [33:20<61:42:57,  7.28s/it]"
     ]
    },
    {
     "name": "stdout",
     "output_type": "stream",
     "text": [
      "'default'\n"
     ]
    },
    {
     "name": "stderr",
     "output_type": "stream",
     "text": [
      "Downloading builder script: 100%|██████████| 3.43k/3.43k [00:00<00:00, 1.05MB/s]\n",
      "Downloading metadata: 100%|██████████| 1.83k/1.83k [00:00<00:00, 478kB/s]\n",
      "Downloading readme: 100%|██████████| 3.55k/3.55k [00:00<00:00, 803kB/s]\n",
      "Downloading builder script: 100%|██████████| 3.60k/3.60k [00:00<00:00, 1.01MB/s]\n",
      "Downloading metadata: 100%|██████████| 2.64k/2.64k [00:00<00:00, 613kB/s]\n",
      "Downloading readme: 100%|██████████| 6.73k/6.73k [00:00<00:00, 1.44MB/s]\n",
      "Downloading builder script: 100%|██████████| 3.37k/3.37k [00:00<00:00, 766kB/s]\n",
      "Downloading metadata: 100%|██████████| 2.94k/2.94k [00:00<00:00, 717kB/s]\n",
      "Downloading readme: 100%|██████████| 6.54k/6.54k [00:00<00:00, 1.58MB/s]\n",
      "Downloading builder script: 100%|██████████| 4.30k/4.30k [00:00<00:00, 2.64MB/s]\n",
      "Downloading metadata: 100%|██████████| 8.74k/8.74k [00:00<00:00, 2.09MB/s]\n",
      "Downloading readme: 100%|██████████| 4.77k/4.77k [00:00<00:00, 980kB/s]\n",
      "  1%|          | 181/30686 [33:54<78:07:33,  9.22s/it]"
     ]
    },
    {
     "name": "stdout",
     "output_type": "stream",
     "text": [
      "'default'\n"
     ]
    },
    {
     "name": "stderr",
     "output_type": "stream",
     "text": [
      "Downloading builder script: 100%|██████████| 8.61k/8.61k [00:00<00:00, 2.85MB/s]\n",
      "Downloading metadata: 100%|██████████| 4.57k/4.57k [00:00<00:00, 1.10MB/s]\n",
      "Downloading readme: 100%|██████████| 13.9k/13.9k [00:00<00:00, 3.27MB/s]\n",
      "  1%|          | 182/30686 [34:00<70:38:43,  8.34s/it]"
     ]
    },
    {
     "name": "stdout",
     "output_type": "stream",
     "text": [
      "'default'\n"
     ]
    },
    {
     "name": "stderr",
     "output_type": "stream",
     "text": [
      "Downloading builder script: 100%|██████████| 3.36k/3.36k [00:00<00:00, 846kB/s]\n",
      "Downloading metadata: 100%|██████████| 2.27k/2.27k [00:00<00:00, 1.29MB/s]\n",
      "Downloading readme: 100%|██████████| 4.90k/4.90k [00:00<00:00, 1.64MB/s]\n",
      "Downloading builder script: 100%|██████████| 7.31k/7.31k [00:00<00:00, 1.78MB/s]\n",
      "Downloading metadata: 100%|██████████| 3.71k/3.71k [00:00<00:00, 1.09MB/s]\n",
      "Downloading readme: 100%|██████████| 12.5k/12.5k [00:00<00:00, 2.81MB/s]\n",
      "  1%|          | 184/30686 [34:06<48:04:35,  5.67s/it]"
     ]
    },
    {
     "name": "stdout",
     "output_type": "stream",
     "text": [
      "'default'\n"
     ]
    },
    {
     "name": "stderr",
     "output_type": "stream",
     "text": [
      "Downloading builder script: 100%|██████████| 3.76k/3.76k [00:00<00:00, 1.02MB/s]\n",
      "Downloading metadata: 100%|██████████| 1.24k/1.24k [00:00<00:00, 334kB/s]\n",
      "Downloading readme: 100%|██████████| 3.92k/3.92k [00:00<00:00, 1.45MB/s]\n",
      "  1%|          | 185/30686 [34:11<44:13:30,  5.22s/it]"
     ]
    },
    {
     "name": "stdout",
     "output_type": "stream",
     "text": [
      "'default'\n"
     ]
    },
    {
     "name": "stderr",
     "output_type": "stream",
     "text": [
      "Downloading builder script: 100%|██████████| 6.82k/6.82k [00:00<00:00, 1.75MB/s]\n",
      "Downloading metadata: 100%|██████████| 4.53k/4.53k [00:00<00:00, 1.33MB/s]\n",
      "Downloading readme: 100%|██████████| 8.82k/8.82k [00:00<00:00, 2.07MB/s]\n",
      "Downloading extra modules: 100%|██████████| 772/772 [00:00<00:00, 194kB/s]\n",
      "  1%|          | 186/30686 [34:20<53:55:59,  6.37s/it]"
     ]
    },
    {
     "name": "stdout",
     "output_type": "stream",
     "text": [
      "'default'\n"
     ]
    },
    {
     "name": "stderr",
     "output_type": "stream",
     "text": [
      "Downloading builder script: 100%|██████████| 18.2k/18.2k [00:00<00:00, 1.23MB/s]\n",
      "Downloading metadata: 100%|██████████| 6.36k/6.36k [00:00<00:00, 1.46MB/s]\n",
      "Downloading readme: 100%|██████████| 15.6k/15.6k [00:00<00:00, 2.53MB/s]\n",
      "  1%|          | 187/30686 [34:26<53:50:37,  6.36s/it]"
     ]
    },
    {
     "name": "stdout",
     "output_type": "stream",
     "text": [
      "'default'\n"
     ]
    },
    {
     "name": "stderr",
     "output_type": "stream",
     "text": [
      "Downloading builder script: 100%|██████████| 4.17k/4.17k [00:00<00:00, 1.02MB/s]\n",
      "Downloading metadata: 100%|██████████| 3.42k/3.42k [00:00<00:00, 818kB/s]\n",
      "Downloading readme: 100%|██████████| 12.6k/12.6k [00:00<00:00, 2.64MB/s]\n",
      "Downloading builder script: 100%|██████████| 4.11k/4.11k [00:00<00:00, 840kB/s]\n",
      "Downloading metadata: 100%|██████████| 7.73k/7.73k [00:00<00:00, 1.56MB/s]\n",
      "Downloading readme: 100%|██████████| 5.78k/5.78k [00:00<00:00, 1.33MB/s]\n",
      "  1%|          | 189/30686 [34:48<77:25:27,  9.14s/it]"
     ]
    },
    {
     "name": "stdout",
     "output_type": "stream",
     "text": [
      "'default'\n"
     ]
    },
    {
     "name": "stderr",
     "output_type": "stream",
     "text": [
      "Downloading builder script: 100%|██████████| 5.75k/5.75k [00:00<00:00, 1.21MB/s]\n",
      "Downloading metadata: 100%|██████████| 3.62k/3.62k [00:00<00:00, 1.38MB/s]\n",
      "Downloading readme: 100%|██████████| 7.97k/7.97k [00:00<00:00, 1.91MB/s]\n",
      "  1%|          | 190/30686 [34:54<70:19:23,  8.30s/it]"
     ]
    },
    {
     "name": "stdout",
     "output_type": "stream",
     "text": [
      "'default'\n"
     ]
    },
    {
     "name": "stderr",
     "output_type": "stream",
     "text": [
      "Downloading builder script: 100%|██████████| 3.97k/3.97k [00:00<00:00, 2.02MB/s]\n",
      "Downloading metadata: 100%|██████████| 3.28k/3.28k [00:00<00:00, 924kB/s]\n",
      "Downloading readme: 100%|██████████| 8.78k/8.78k [00:00<00:00, 1.60MB/s]\n",
      "  1%|          | 191/30686 [35:03<70:41:46,  8.35s/it]"
     ]
    },
    {
     "name": "stdout",
     "output_type": "stream",
     "text": [
      "'default'\n"
     ]
    },
    {
     "name": "stderr",
     "output_type": "stream",
     "text": [
      "Downloading builder script: 100%|██████████| 2.90k/2.90k [00:00<00:00, 1.14MB/s]\n",
      "Downloading metadata: 100%|██████████| 1.64k/1.64k [00:00<00:00, 965kB/s]\n",
      "Downloading readme: 100%|██████████| 5.04k/5.04k [00:00<00:00, 1.52MB/s]\n",
      "Downloading builder script: 100%|██████████| 4.51k/4.51k [00:00<00:00, 1.46MB/s]\n",
      "Downloading metadata: 100%|██████████| 1.91k/1.91k [00:00<00:00, 494kB/s]\n",
      "Downloading readme: 100%|██████████| 7.15k/7.15k [00:00<00:00, 3.86MB/s]\n",
      "Downloading builder script: 100%|██████████| 10.1k/10.1k [00:00<00:00, 1.75MB/s]\n",
      "Downloading metadata: 100%|██████████| 6.23k/6.23k [00:00<00:00, 1.63MB/s]\n",
      "Downloading readme: 100%|██████████| 10.9k/10.9k [00:00<00:00, 2.75MB/s]\n",
      "  1%|          | 194/30686 [35:24<64:26:09,  7.61s/it]"
     ]
    },
    {
     "name": "stdout",
     "output_type": "stream",
     "text": [
      "'default'\n"
     ]
    },
    {
     "name": "stderr",
     "output_type": "stream",
     "text": [
      "Downloading builder script: 100%|██████████| 4.36k/4.36k [00:00<00:00, 1.93MB/s]\n",
      "Downloading metadata: 100%|██████████| 2.22k/2.22k [00:00<00:00, 654kB/s]\n",
      "Downloading readme: 100%|██████████| 13.0k/13.0k [00:00<00:00, 2.25MB/s]\n",
      "Downloading builder script: 100%|██████████| 4.41k/4.41k [00:00<00:00, 1.36MB/s]\n",
      "Downloading metadata: 100%|██████████| 2.78k/2.78k [00:00<00:00, 945kB/s]\n",
      "Downloading readme: 100%|██████████| 6.90k/6.90k [00:00<00:00, 1.70MB/s]\n",
      "  1%|          | 196/30686 [35:36<57:48:54,  6.83s/it]"
     ]
    },
    {
     "name": "stdout",
     "output_type": "stream",
     "text": [
      "'default'\n"
     ]
    },
    {
     "name": "stderr",
     "output_type": "stream",
     "text": [
      "Downloading builder script: 100%|██████████| 6.23k/6.23k [00:00<00:00, 1.59MB/s]\n",
      "Downloading metadata: 100%|██████████| 2.12k/2.12k [00:00<00:00, 604kB/s]\n",
      "Downloading readme: 100%|██████████| 4.61k/4.61k [00:00<00:00, 1.19MB/s]\n",
      "  1%|          | 197/30686 [35:41<55:18:53,  6.53s/it]"
     ]
    },
    {
     "name": "stdout",
     "output_type": "stream",
     "text": [
      "'default'\n"
     ]
    },
    {
     "name": "stderr",
     "output_type": "stream",
     "text": [
      "Downloading builder script: 100%|██████████| 5.94k/5.94k [00:00<00:00, 1.92MB/s]\n",
      "Downloading metadata: 100%|██████████| 3.52k/3.52k [00:00<00:00, 1.16MB/s]\n",
      "Downloading readme: 100%|██████████| 9.36k/9.36k [00:00<00:00, 2.19MB/s]\n",
      "  1%|          | 198/30686 [35:51<63:46:52,  7.53s/it]"
     ]
    },
    {
     "name": "stdout",
     "output_type": "stream",
     "text": [
      "'default'\n"
     ]
    },
    {
     "name": "stderr",
     "output_type": "stream",
     "text": [
      "Downloading builder script: 100%|██████████| 6.21k/6.21k [00:00<00:00, 1.46MB/s]\n",
      "Downloading metadata: 100%|██████████| 4.34k/4.34k [00:00<00:00, 1.14MB/s]\n",
      "Downloading readme: 100%|██████████| 9.83k/9.83k [00:00<00:00, 2.95MB/s]\n",
      "  1%|          | 199/30686 [36:07<83:26:19,  9.85s/it]"
     ]
    },
    {
     "name": "stdout",
     "output_type": "stream",
     "text": [
      "'default'\n"
     ]
    },
    {
     "name": "stderr",
     "output_type": "stream",
     "text": [
      "Downloading builder script: 100%|██████████| 5.11k/5.11k [00:00<00:00, 1.09MB/s]\n",
      "Downloading metadata: 100%|██████████| 2.04k/2.04k [00:00<00:00, 532kB/s]\n",
      "Downloading readme: 100%|██████████| 10.9k/10.9k [00:00<00:00, 5.25MB/s]\n",
      "  1%|          | 200/30686 [36:13<75:41:42,  8.94s/it]"
     ]
    },
    {
     "name": "stdout",
     "output_type": "stream",
     "text": [
      "'default'\n"
     ]
    },
    {
     "name": "stderr",
     "output_type": "stream",
     "text": [
      "Downloading builder script: 100%|██████████| 6.23k/6.23k [00:00<00:00, 1.29MB/s]\n",
      "Downloading metadata: 100%|██████████| 12.7k/12.7k [00:00<00:00, 2.20MB/s]\n",
      "Downloading readme: 100%|██████████| 5.12k/5.12k [00:00<00:00, 1.56MB/s]\n",
      "  1%|          | 201/30686 [36:29<91:43:02, 10.83s/it]"
     ]
    },
    {
     "name": "stdout",
     "output_type": "stream",
     "text": [
      "'default'\n"
     ]
    },
    {
     "name": "stderr",
     "output_type": "stream",
     "text": [
      "Downloading builder script: 100%|██████████| 8.79k/8.79k [00:00<00:00, 3.96MB/s]\n",
      "Downloading metadata: 100%|██████████| 73.8k/73.8k [00:00<00:00, 3.61MB/s]\n",
      "Downloading readme: 100%|██████████| 18.1k/18.1k [00:00<00:00, 4.09MB/s]\n",
      "  1%|          | 202/30686 [36:40<92:19:52, 10.90s/it]"
     ]
    },
    {
     "name": "stdout",
     "output_type": "stream",
     "text": [
      "'default'\n"
     ]
    },
    {
     "name": "stderr",
     "output_type": "stream",
     "text": [
      "Downloading builder script: 100%|██████████| 7.61k/7.61k [00:00<00:00, 2.00MB/s]\n",
      "Downloading metadata: 100%|██████████| 63.3k/63.3k [00:00<00:00, 3.75MB/s]\n",
      "Downloading readme: 100%|██████████| 16.5k/16.5k [00:00<00:00, 3.42MB/s]\n",
      "  1%|          | 203/30686 [36:51<93:46:10, 11.07s/it]"
     ]
    },
    {
     "name": "stdout",
     "output_type": "stream",
     "text": [
      "'default'\n"
     ]
    },
    {
     "name": "stderr",
     "output_type": "stream",
     "text": [
      "Downloading builder script: 100%|██████████| 6.92k/6.92k [00:00<00:00, 1.91MB/s]\n",
      "Downloading metadata: 100%|██████████| 457k/457k [00:00<00:00, 5.71MB/s]\n",
      "Downloading readme: 100%|██████████| 59.3k/59.3k [00:00<00:00, 1.62MB/s]\n",
      "  1%|          | 204/30686 [37:06<102:22:06, 12.09s/it]"
     ]
    },
    {
     "name": "stdout",
     "output_type": "stream",
     "text": [
      "'default'\n"
     ]
    },
    {
     "name": "stderr",
     "output_type": "stream",
     "text": [
      "Downloading builder script: 100%|██████████| 3.94k/3.94k [00:00<00:00, 2.44MB/s]\n",
      "Downloading metadata: 100%|██████████| 1.89k/1.89k [00:00<00:00, 667kB/s]\n",
      "Downloading readme: 100%|██████████| 6.82k/6.82k [00:00<00:00, 2.20MB/s]\n",
      "Downloading builder script: 100%|██████████| 10.2k/10.2k [00:00<00:00, 4.21MB/s]\n",
      "Downloading metadata: 100%|██████████| 8.25k/8.25k [00:00<00:00, 2.16MB/s]\n",
      "Downloading readme: 100%|██████████| 128k/128k [00:00<00:00, 309kB/s]\n",
      "  1%|          | 205/30686 [37:20<92:32:24, 10.93s/it]\n"
     ]
    },
    {
     "ename": "KeyboardInterrupt",
     "evalue": "",
     "output_type": "error",
     "traceback": [
      "\u001b[0;31m---------------------------------------------------------------------------\u001b[0m",
      "\u001b[0;31mKeyboardInterrupt\u001b[0m                         Traceback (most recent call last)",
      "\u001b[0;32m/var/folders/27/vq5y844134sb8423ngwxqzgc0000gn/T/ipykernel_15378/3254865891.py\u001b[0m in \u001b[0;36m<module>\u001b[0;34m\u001b[0m\n\u001b[1;32m      2\u001b[0m \u001b[0;32mfor\u001b[0m \u001b[0mdataset\u001b[0m \u001b[0;32min\u001b[0m \u001b[0mtqdm\u001b[0m\u001b[0;34m(\u001b[0m\u001b[0mall_datasets\u001b[0m\u001b[0;34m)\u001b[0m\u001b[0;34m:\u001b[0m\u001b[0;34m\u001b[0m\u001b[0;34m\u001b[0m\u001b[0m\n\u001b[1;32m      3\u001b[0m     \u001b[0;32mtry\u001b[0m\u001b[0;34m:\u001b[0m\u001b[0;34m\u001b[0m\u001b[0;34m\u001b[0m\u001b[0m\n\u001b[0;32m----> 4\u001b[0;31m         \u001b[0mdata\u001b[0m \u001b[0;34m=\u001b[0m \u001b[0mdatasets\u001b[0m\u001b[0;34m.\u001b[0m\u001b[0mget_dataset_infos\u001b[0m\u001b[0;34m(\u001b[0m\u001b[0mpath\u001b[0m\u001b[0;34m=\u001b[0m\u001b[0mdataset\u001b[0m\u001b[0;34m)\u001b[0m\u001b[0;34m\u001b[0m\u001b[0;34m\u001b[0m\u001b[0m\n\u001b[0m\u001b[1;32m      5\u001b[0m         \u001b[0mcard\u001b[0m \u001b[0;34m=\u001b[0m \u001b[0mdata\u001b[0m\u001b[0;34m[\u001b[0m\u001b[0;34m'default'\u001b[0m\u001b[0;34m]\u001b[0m\u001b[0;34m.\u001b[0m\u001b[0mdescription\u001b[0m\u001b[0;34m\u001b[0m\u001b[0;34m\u001b[0m\u001b[0m\n\u001b[1;32m      6\u001b[0m         dataset_cards_df = dataset_cards_df.append(pd.DataFrame([{'dataset': dataset, \n",
      "\u001b[0;32m~/anaconda3/envs/nlp/lib/python3.8/site-packages/datasets/inspect.py\u001b[0m in \u001b[0;36mget_dataset_infos\u001b[0;34m(path, data_files, download_config, download_mode, revision, use_auth_token, **config_kwargs)\u001b[0m\n\u001b[1;32m    250\u001b[0m         \u001b[0muse_auth_token\u001b[0m\u001b[0;34m=\u001b[0m\u001b[0muse_auth_token\u001b[0m\u001b[0;34m,\u001b[0m\u001b[0;34m\u001b[0m\u001b[0;34m\u001b[0m\u001b[0m\n\u001b[1;32m    251\u001b[0m     )\n\u001b[0;32m--> 252\u001b[0;31m     return {\n\u001b[0m\u001b[1;32m    253\u001b[0m         config_name: get_dataset_config_info(\n\u001b[1;32m    254\u001b[0m             \u001b[0mpath\u001b[0m\u001b[0;34m=\u001b[0m\u001b[0mpath\u001b[0m\u001b[0;34m,\u001b[0m\u001b[0;34m\u001b[0m\u001b[0;34m\u001b[0m\u001b[0m\n",
      "\u001b[0;32m~/anaconda3/envs/nlp/lib/python3.8/site-packages/datasets/inspect.py\u001b[0m in \u001b[0;36m<dictcomp>\u001b[0;34m(.0)\u001b[0m\n\u001b[1;32m    251\u001b[0m     )\n\u001b[1;32m    252\u001b[0m     return {\n\u001b[0;32m--> 253\u001b[0;31m         config_name: get_dataset_config_info(\n\u001b[0m\u001b[1;32m    254\u001b[0m             \u001b[0mpath\u001b[0m\u001b[0;34m=\u001b[0m\u001b[0mpath\u001b[0m\u001b[0;34m,\u001b[0m\u001b[0;34m\u001b[0m\u001b[0;34m\u001b[0m\u001b[0m\n\u001b[1;32m    255\u001b[0m             \u001b[0mconfig_name\u001b[0m\u001b[0;34m=\u001b[0m\u001b[0mconfig_name\u001b[0m\u001b[0;34m,\u001b[0m\u001b[0;34m\u001b[0m\u001b[0;34m\u001b[0m\u001b[0m\n",
      "\u001b[0;32m~/anaconda3/envs/nlp/lib/python3.8/site-packages/datasets/inspect.py\u001b[0m in \u001b[0;36mget_dataset_config_info\u001b[0;34m(path, config_name, data_files, download_config, download_mode, revision, use_auth_token, **config_kwargs)\u001b[0m\n\u001b[1;32m    365\u001b[0m \u001b[0;34m\u001b[0m\u001b[0m\n\u001b[1;32m    366\u001b[0m     \"\"\"\n\u001b[0;32m--> 367\u001b[0;31m     builder = load_dataset_builder(\n\u001b[0m\u001b[1;32m    368\u001b[0m         \u001b[0mpath\u001b[0m\u001b[0;34m,\u001b[0m\u001b[0;34m\u001b[0m\u001b[0;34m\u001b[0m\u001b[0m\n\u001b[1;32m    369\u001b[0m         \u001b[0mname\u001b[0m\u001b[0;34m=\u001b[0m\u001b[0mconfig_name\u001b[0m\u001b[0;34m,\u001b[0m\u001b[0;34m\u001b[0m\u001b[0;34m\u001b[0m\u001b[0m\n",
      "\u001b[0;32m~/anaconda3/envs/nlp/lib/python3.8/site-packages/datasets/load.py\u001b[0m in \u001b[0;36mload_dataset_builder\u001b[0;34m(path, name, data_dir, data_files, cache_dir, features, download_config, download_mode, revision, use_auth_token, **config_kwargs)\u001b[0m\n\u001b[1;32m   1494\u001b[0m         \u001b[0mdownload_config\u001b[0m \u001b[0;34m=\u001b[0m \u001b[0mdownload_config\u001b[0m\u001b[0;34m.\u001b[0m\u001b[0mcopy\u001b[0m\u001b[0;34m(\u001b[0m\u001b[0;34m)\u001b[0m \u001b[0;32mif\u001b[0m \u001b[0mdownload_config\u001b[0m \u001b[0;32melse\u001b[0m \u001b[0mDownloadConfig\u001b[0m\u001b[0;34m(\u001b[0m\u001b[0;34m)\u001b[0m\u001b[0;34m\u001b[0m\u001b[0;34m\u001b[0m\u001b[0m\n\u001b[1;32m   1495\u001b[0m         \u001b[0mdownload_config\u001b[0m\u001b[0;34m.\u001b[0m\u001b[0muse_auth_token\u001b[0m \u001b[0;34m=\u001b[0m \u001b[0muse_auth_token\u001b[0m\u001b[0;34m\u001b[0m\u001b[0;34m\u001b[0m\u001b[0m\n\u001b[0;32m-> 1496\u001b[0;31m     dataset_module = dataset_module_factory(\n\u001b[0m\u001b[1;32m   1497\u001b[0m         \u001b[0mpath\u001b[0m\u001b[0;34m,\u001b[0m\u001b[0;34m\u001b[0m\u001b[0;34m\u001b[0m\u001b[0m\n\u001b[1;32m   1498\u001b[0m         \u001b[0mrevision\u001b[0m\u001b[0;34m=\u001b[0m\u001b[0mrevision\u001b[0m\u001b[0;34m,\u001b[0m\u001b[0;34m\u001b[0m\u001b[0;34m\u001b[0m\u001b[0m\n",
      "\u001b[0;32m~/anaconda3/envs/nlp/lib/python3.8/site-packages/datasets/load.py\u001b[0m in \u001b[0;36mdataset_module_factory\u001b[0;34m(path, revision, download_config, download_mode, dynamic_modules_path, data_dir, data_files, **download_kwargs)\u001b[0m\n\u001b[1;32m   1185\u001b[0m                     \u001b[0;32mraise\u001b[0m \u001b[0me\u001b[0m\u001b[0;34m\u001b[0m\u001b[0;34m\u001b[0m\u001b[0m\n\u001b[1;32m   1186\u001b[0m             \u001b[0;32mif\u001b[0m \u001b[0mfilename\u001b[0m \u001b[0;32min\u001b[0m \u001b[0;34m[\u001b[0m\u001b[0msibling\u001b[0m\u001b[0;34m.\u001b[0m\u001b[0mrfilename\u001b[0m \u001b[0;32mfor\u001b[0m \u001b[0msibling\u001b[0m \u001b[0;32min\u001b[0m \u001b[0mdataset_info\u001b[0m\u001b[0;34m.\u001b[0m\u001b[0msiblings\u001b[0m\u001b[0;34m]\u001b[0m\u001b[0;34m:\u001b[0m\u001b[0;34m\u001b[0m\u001b[0;34m\u001b[0m\u001b[0m\n\u001b[0;32m-> 1187\u001b[0;31m                 return HubDatasetModuleFactoryWithScript(\n\u001b[0m\u001b[1;32m   1188\u001b[0m                     \u001b[0mpath\u001b[0m\u001b[0;34m,\u001b[0m\u001b[0;34m\u001b[0m\u001b[0;34m\u001b[0m\u001b[0m\n\u001b[1;32m   1189\u001b[0m                     \u001b[0mrevision\u001b[0m\u001b[0;34m=\u001b[0m\u001b[0mrevision\u001b[0m\u001b[0;34m,\u001b[0m\u001b[0;34m\u001b[0m\u001b[0;34m\u001b[0m\u001b[0m\n",
      "\u001b[0;32m~/anaconda3/envs/nlp/lib/python3.8/site-packages/datasets/load.py\u001b[0m in \u001b[0;36mget_module\u001b[0;34m(self)\u001b[0m\n\u001b[1;32m    903\u001b[0m         \u001b[0mlocal_path\u001b[0m \u001b[0;34m=\u001b[0m \u001b[0mself\u001b[0m\u001b[0;34m.\u001b[0m\u001b[0mdownload_loading_script\u001b[0m\u001b[0;34m(\u001b[0m\u001b[0;34m)\u001b[0m\u001b[0;34m\u001b[0m\u001b[0;34m\u001b[0m\u001b[0m\n\u001b[1;32m    904\u001b[0m         \u001b[0mdataset_infos_path\u001b[0m \u001b[0;34m=\u001b[0m \u001b[0mself\u001b[0m\u001b[0;34m.\u001b[0m\u001b[0mdownload_dataset_infos_file\u001b[0m\u001b[0;34m(\u001b[0m\u001b[0;34m)\u001b[0m\u001b[0;34m\u001b[0m\u001b[0;34m\u001b[0m\u001b[0m\n\u001b[0;32m--> 905\u001b[0;31m         \u001b[0mdataset_readme_path\u001b[0m \u001b[0;34m=\u001b[0m \u001b[0mself\u001b[0m\u001b[0;34m.\u001b[0m\u001b[0mdownload_dataset_readme_file\u001b[0m\u001b[0;34m(\u001b[0m\u001b[0;34m)\u001b[0m\u001b[0;34m\u001b[0m\u001b[0;34m\u001b[0m\u001b[0m\n\u001b[0m\u001b[1;32m    906\u001b[0m         \u001b[0mimports\u001b[0m \u001b[0;34m=\u001b[0m \u001b[0mget_imports\u001b[0m\u001b[0;34m(\u001b[0m\u001b[0mlocal_path\u001b[0m\u001b[0;34m)\u001b[0m\u001b[0;34m\u001b[0m\u001b[0;34m\u001b[0m\u001b[0m\n\u001b[1;32m    907\u001b[0m         local_imports = _download_additional_modules(\n",
      "\u001b[0;32m~/anaconda3/envs/nlp/lib/python3.8/site-packages/datasets/load.py\u001b[0m in \u001b[0;36mdownload_dataset_readme_file\u001b[0;34m(self)\u001b[0m\n\u001b[1;32m    892\u001b[0m             \u001b[0mdownload_config\u001b[0m\u001b[0;34m.\u001b[0m\u001b[0mdownload_desc\u001b[0m \u001b[0;34m=\u001b[0m \u001b[0;34m\"Downloading readme\"\u001b[0m\u001b[0;34m\u001b[0m\u001b[0;34m\u001b[0m\u001b[0m\n\u001b[1;32m    893\u001b[0m         \u001b[0;32mtry\u001b[0m\u001b[0;34m:\u001b[0m\u001b[0;34m\u001b[0m\u001b[0;34m\u001b[0m\u001b[0m\n\u001b[0;32m--> 894\u001b[0;31m             return cached_path(\n\u001b[0m\u001b[1;32m    895\u001b[0m                 \u001b[0mreadme_url\u001b[0m\u001b[0;34m,\u001b[0m\u001b[0;34m\u001b[0m\u001b[0;34m\u001b[0m\u001b[0m\n\u001b[1;32m    896\u001b[0m                 \u001b[0mdownload_config\u001b[0m\u001b[0;34m=\u001b[0m\u001b[0mdownload_config\u001b[0m\u001b[0;34m,\u001b[0m\u001b[0;34m\u001b[0m\u001b[0;34m\u001b[0m\u001b[0m\n",
      "\u001b[0;32m~/anaconda3/envs/nlp/lib/python3.8/site-packages/datasets/utils/file_utils.py\u001b[0m in \u001b[0;36mcached_path\u001b[0;34m(url_or_filename, download_config, **download_kwargs)\u001b[0m\n\u001b[1;32m    180\u001b[0m     \u001b[0;32mif\u001b[0m \u001b[0mis_remote_url\u001b[0m\u001b[0;34m(\u001b[0m\u001b[0murl_or_filename\u001b[0m\u001b[0;34m)\u001b[0m\u001b[0;34m:\u001b[0m\u001b[0;34m\u001b[0m\u001b[0;34m\u001b[0m\u001b[0m\n\u001b[1;32m    181\u001b[0m         \u001b[0;31m# URL, so get it from the cache (downloading if necessary)\u001b[0m\u001b[0;34m\u001b[0m\u001b[0;34m\u001b[0m\u001b[0;34m\u001b[0m\u001b[0m\n\u001b[0;32m--> 182\u001b[0;31m         output_path = get_from_cache(\n\u001b[0m\u001b[1;32m    183\u001b[0m             \u001b[0murl_or_filename\u001b[0m\u001b[0;34m,\u001b[0m\u001b[0;34m\u001b[0m\u001b[0;34m\u001b[0m\u001b[0m\n\u001b[1;32m    184\u001b[0m             \u001b[0mcache_dir\u001b[0m\u001b[0;34m=\u001b[0m\u001b[0mcache_dir\u001b[0m\u001b[0;34m,\u001b[0m\u001b[0;34m\u001b[0m\u001b[0;34m\u001b[0m\u001b[0m\n",
      "\u001b[0;32m~/anaconda3/envs/nlp/lib/python3.8/site-packages/datasets/utils/file_utils.py\u001b[0m in \u001b[0;36mget_from_cache\u001b[0;34m(url, cache_dir, force_download, proxies, etag_timeout, resume_download, user_agent, local_files_only, use_etag, max_retries, use_auth_token, ignore_url_params, download_desc)\u001b[0m\n\u001b[1;32m    473\u001b[0m             \u001b[0mconnected\u001b[0m \u001b[0;34m=\u001b[0m \u001b[0mftp_head\u001b[0m\u001b[0;34m(\u001b[0m\u001b[0murl\u001b[0m\u001b[0;34m)\u001b[0m\u001b[0;34m\u001b[0m\u001b[0;34m\u001b[0m\u001b[0m\n\u001b[1;32m    474\u001b[0m         \u001b[0;32mtry\u001b[0m\u001b[0;34m:\u001b[0m\u001b[0;34m\u001b[0m\u001b[0;34m\u001b[0m\u001b[0m\n\u001b[0;32m--> 475\u001b[0;31m             response = http_head(\n\u001b[0m\u001b[1;32m    476\u001b[0m                 \u001b[0murl\u001b[0m\u001b[0;34m,\u001b[0m\u001b[0;34m\u001b[0m\u001b[0;34m\u001b[0m\u001b[0m\n\u001b[1;32m    477\u001b[0m                 \u001b[0mallow_redirects\u001b[0m\u001b[0;34m=\u001b[0m\u001b[0;32mTrue\u001b[0m\u001b[0;34m,\u001b[0m\u001b[0;34m\u001b[0m\u001b[0;34m\u001b[0m\u001b[0m\n",
      "\u001b[0;32m~/anaconda3/envs/nlp/lib/python3.8/site-packages/datasets/utils/file_utils.py\u001b[0m in \u001b[0;36mhttp_head\u001b[0;34m(url, proxies, headers, cookies, allow_redirects, timeout, max_retries)\u001b[0m\n\u001b[1;32m    387\u001b[0m     \u001b[0mheaders\u001b[0m \u001b[0;34m=\u001b[0m \u001b[0mcopy\u001b[0m\u001b[0;34m.\u001b[0m\u001b[0mdeepcopy\u001b[0m\u001b[0;34m(\u001b[0m\u001b[0mheaders\u001b[0m\u001b[0;34m)\u001b[0m \u001b[0;32mor\u001b[0m \u001b[0;34m{\u001b[0m\u001b[0;34m}\u001b[0m\u001b[0;34m\u001b[0m\u001b[0;34m\u001b[0m\u001b[0m\n\u001b[1;32m    388\u001b[0m     \u001b[0mheaders\u001b[0m\u001b[0;34m[\u001b[0m\u001b[0;34m\"user-agent\"\u001b[0m\u001b[0;34m]\u001b[0m \u001b[0;34m=\u001b[0m \u001b[0mget_datasets_user_agent\u001b[0m\u001b[0;34m(\u001b[0m\u001b[0muser_agent\u001b[0m\u001b[0;34m=\u001b[0m\u001b[0mheaders\u001b[0m\u001b[0;34m.\u001b[0m\u001b[0mget\u001b[0m\u001b[0;34m(\u001b[0m\u001b[0;34m\"user-agent\"\u001b[0m\u001b[0;34m)\u001b[0m\u001b[0;34m)\u001b[0m\u001b[0;34m\u001b[0m\u001b[0;34m\u001b[0m\u001b[0m\n\u001b[0;32m--> 389\u001b[0;31m     response = _request_with_retry(\n\u001b[0m\u001b[1;32m    390\u001b[0m         \u001b[0mmethod\u001b[0m\u001b[0;34m=\u001b[0m\u001b[0;34m\"HEAD\"\u001b[0m\u001b[0;34m,\u001b[0m\u001b[0;34m\u001b[0m\u001b[0;34m\u001b[0m\u001b[0m\n\u001b[1;32m    391\u001b[0m         \u001b[0murl\u001b[0m\u001b[0;34m=\u001b[0m\u001b[0murl\u001b[0m\u001b[0;34m,\u001b[0m\u001b[0;34m\u001b[0m\u001b[0;34m\u001b[0m\u001b[0m\n",
      "\u001b[0;32m~/anaconda3/envs/nlp/lib/python3.8/site-packages/datasets/utils/file_utils.py\u001b[0m in \u001b[0;36m_request_with_retry\u001b[0;34m(method, url, max_retries, base_wait_time, max_wait_time, timeout, **params)\u001b[0m\n\u001b[1;32m    316\u001b[0m         \u001b[0mtries\u001b[0m \u001b[0;34m+=\u001b[0m \u001b[0;36m1\u001b[0m\u001b[0;34m\u001b[0m\u001b[0;34m\u001b[0m\u001b[0m\n\u001b[1;32m    317\u001b[0m         \u001b[0;32mtry\u001b[0m\u001b[0;34m:\u001b[0m\u001b[0;34m\u001b[0m\u001b[0;34m\u001b[0m\u001b[0m\n\u001b[0;32m--> 318\u001b[0;31m             \u001b[0mresponse\u001b[0m \u001b[0;34m=\u001b[0m \u001b[0mrequests\u001b[0m\u001b[0;34m.\u001b[0m\u001b[0mrequest\u001b[0m\u001b[0;34m(\u001b[0m\u001b[0mmethod\u001b[0m\u001b[0;34m=\u001b[0m\u001b[0mmethod\u001b[0m\u001b[0;34m.\u001b[0m\u001b[0mupper\u001b[0m\u001b[0;34m(\u001b[0m\u001b[0;34m)\u001b[0m\u001b[0;34m,\u001b[0m \u001b[0murl\u001b[0m\u001b[0;34m=\u001b[0m\u001b[0murl\u001b[0m\u001b[0;34m,\u001b[0m \u001b[0mtimeout\u001b[0m\u001b[0;34m=\u001b[0m\u001b[0mtimeout\u001b[0m\u001b[0;34m,\u001b[0m \u001b[0;34m**\u001b[0m\u001b[0mparams\u001b[0m\u001b[0;34m)\u001b[0m\u001b[0;34m\u001b[0m\u001b[0;34m\u001b[0m\u001b[0m\n\u001b[0m\u001b[1;32m    319\u001b[0m             \u001b[0msuccess\u001b[0m \u001b[0;34m=\u001b[0m \u001b[0;32mTrue\u001b[0m\u001b[0;34m\u001b[0m\u001b[0;34m\u001b[0m\u001b[0m\n\u001b[1;32m    320\u001b[0m         \u001b[0;32mexcept\u001b[0m \u001b[0;34m(\u001b[0m\u001b[0mrequests\u001b[0m\u001b[0;34m.\u001b[0m\u001b[0mexceptions\u001b[0m\u001b[0;34m.\u001b[0m\u001b[0mConnectTimeout\u001b[0m\u001b[0;34m,\u001b[0m \u001b[0mrequests\u001b[0m\u001b[0;34m.\u001b[0m\u001b[0mexceptions\u001b[0m\u001b[0;34m.\u001b[0m\u001b[0mConnectionError\u001b[0m\u001b[0;34m)\u001b[0m \u001b[0;32mas\u001b[0m \u001b[0merr\u001b[0m\u001b[0;34m:\u001b[0m\u001b[0;34m\u001b[0m\u001b[0;34m\u001b[0m\u001b[0m\n",
      "\u001b[0;32m~/anaconda3/envs/nlp/lib/python3.8/site-packages/requests/api.py\u001b[0m in \u001b[0;36mrequest\u001b[0;34m(method, url, **kwargs)\u001b[0m\n\u001b[1;32m     59\u001b[0m     \u001b[0;31m# cases, and look like a memory leak in others.\u001b[0m\u001b[0;34m\u001b[0m\u001b[0;34m\u001b[0m\u001b[0;34m\u001b[0m\u001b[0m\n\u001b[1;32m     60\u001b[0m     \u001b[0;32mwith\u001b[0m \u001b[0msessions\u001b[0m\u001b[0;34m.\u001b[0m\u001b[0mSession\u001b[0m\u001b[0;34m(\u001b[0m\u001b[0;34m)\u001b[0m \u001b[0;32mas\u001b[0m \u001b[0msession\u001b[0m\u001b[0;34m:\u001b[0m\u001b[0;34m\u001b[0m\u001b[0;34m\u001b[0m\u001b[0m\n\u001b[0;32m---> 61\u001b[0;31m         \u001b[0;32mreturn\u001b[0m \u001b[0msession\u001b[0m\u001b[0;34m.\u001b[0m\u001b[0mrequest\u001b[0m\u001b[0;34m(\u001b[0m\u001b[0mmethod\u001b[0m\u001b[0;34m=\u001b[0m\u001b[0mmethod\u001b[0m\u001b[0;34m,\u001b[0m \u001b[0murl\u001b[0m\u001b[0;34m=\u001b[0m\u001b[0murl\u001b[0m\u001b[0;34m,\u001b[0m \u001b[0;34m**\u001b[0m\u001b[0mkwargs\u001b[0m\u001b[0;34m)\u001b[0m\u001b[0;34m\u001b[0m\u001b[0;34m\u001b[0m\u001b[0m\n\u001b[0m\u001b[1;32m     62\u001b[0m \u001b[0;34m\u001b[0m\u001b[0m\n\u001b[1;32m     63\u001b[0m \u001b[0;34m\u001b[0m\u001b[0m\n",
      "\u001b[0;32m~/anaconda3/envs/nlp/lib/python3.8/site-packages/requests/sessions.py\u001b[0m in \u001b[0;36mrequest\u001b[0;34m(self, method, url, params, data, headers, cookies, files, auth, timeout, allow_redirects, proxies, hooks, stream, verify, cert, json)\u001b[0m\n\u001b[1;32m    540\u001b[0m         }\n\u001b[1;32m    541\u001b[0m         \u001b[0msend_kwargs\u001b[0m\u001b[0;34m.\u001b[0m\u001b[0mupdate\u001b[0m\u001b[0;34m(\u001b[0m\u001b[0msettings\u001b[0m\u001b[0;34m)\u001b[0m\u001b[0;34m\u001b[0m\u001b[0;34m\u001b[0m\u001b[0m\n\u001b[0;32m--> 542\u001b[0;31m         \u001b[0mresp\u001b[0m \u001b[0;34m=\u001b[0m \u001b[0mself\u001b[0m\u001b[0;34m.\u001b[0m\u001b[0msend\u001b[0m\u001b[0;34m(\u001b[0m\u001b[0mprep\u001b[0m\u001b[0;34m,\u001b[0m \u001b[0;34m**\u001b[0m\u001b[0msend_kwargs\u001b[0m\u001b[0;34m)\u001b[0m\u001b[0;34m\u001b[0m\u001b[0;34m\u001b[0m\u001b[0m\n\u001b[0m\u001b[1;32m    543\u001b[0m \u001b[0;34m\u001b[0m\u001b[0m\n\u001b[1;32m    544\u001b[0m         \u001b[0;32mreturn\u001b[0m \u001b[0mresp\u001b[0m\u001b[0;34m\u001b[0m\u001b[0;34m\u001b[0m\u001b[0m\n",
      "\u001b[0;32m~/anaconda3/envs/nlp/lib/python3.8/site-packages/requests/sessions.py\u001b[0m in \u001b[0;36msend\u001b[0;34m(self, request, **kwargs)\u001b[0m\n\u001b[1;32m    653\u001b[0m \u001b[0;34m\u001b[0m\u001b[0m\n\u001b[1;32m    654\u001b[0m         \u001b[0;31m# Send the request\u001b[0m\u001b[0;34m\u001b[0m\u001b[0;34m\u001b[0m\u001b[0;34m\u001b[0m\u001b[0m\n\u001b[0;32m--> 655\u001b[0;31m         \u001b[0mr\u001b[0m \u001b[0;34m=\u001b[0m \u001b[0madapter\u001b[0m\u001b[0;34m.\u001b[0m\u001b[0msend\u001b[0m\u001b[0;34m(\u001b[0m\u001b[0mrequest\u001b[0m\u001b[0;34m,\u001b[0m \u001b[0;34m**\u001b[0m\u001b[0mkwargs\u001b[0m\u001b[0;34m)\u001b[0m\u001b[0;34m\u001b[0m\u001b[0;34m\u001b[0m\u001b[0m\n\u001b[0m\u001b[1;32m    656\u001b[0m \u001b[0;34m\u001b[0m\u001b[0m\n\u001b[1;32m    657\u001b[0m         \u001b[0;31m# Total elapsed time of the request (approximately)\u001b[0m\u001b[0;34m\u001b[0m\u001b[0;34m\u001b[0m\u001b[0;34m\u001b[0m\u001b[0m\n",
      "\u001b[0;32m~/anaconda3/envs/nlp/lib/python3.8/site-packages/requests/adapters.py\u001b[0m in \u001b[0;36msend\u001b[0;34m(self, request, stream, timeout, verify, cert, proxies)\u001b[0m\n\u001b[1;32m    437\u001b[0m         \u001b[0;32mtry\u001b[0m\u001b[0;34m:\u001b[0m\u001b[0;34m\u001b[0m\u001b[0;34m\u001b[0m\u001b[0m\n\u001b[1;32m    438\u001b[0m             \u001b[0;32mif\u001b[0m \u001b[0;32mnot\u001b[0m \u001b[0mchunked\u001b[0m\u001b[0;34m:\u001b[0m\u001b[0;34m\u001b[0m\u001b[0;34m\u001b[0m\u001b[0m\n\u001b[0;32m--> 439\u001b[0;31m                 resp = conn.urlopen(\n\u001b[0m\u001b[1;32m    440\u001b[0m                     \u001b[0mmethod\u001b[0m\u001b[0;34m=\u001b[0m\u001b[0mrequest\u001b[0m\u001b[0;34m.\u001b[0m\u001b[0mmethod\u001b[0m\u001b[0;34m,\u001b[0m\u001b[0;34m\u001b[0m\u001b[0;34m\u001b[0m\u001b[0m\n\u001b[1;32m    441\u001b[0m                     \u001b[0murl\u001b[0m\u001b[0;34m=\u001b[0m\u001b[0murl\u001b[0m\u001b[0;34m,\u001b[0m\u001b[0;34m\u001b[0m\u001b[0;34m\u001b[0m\u001b[0m\n",
      "\u001b[0;32m~/anaconda3/envs/nlp/lib/python3.8/site-packages/urllib3/connectionpool.py\u001b[0m in \u001b[0;36murlopen\u001b[0;34m(self, method, url, body, headers, retries, redirect, assert_same_host, timeout, pool_timeout, release_conn, chunked, body_pos, **response_kw)\u001b[0m\n\u001b[1;32m    697\u001b[0m \u001b[0;34m\u001b[0m\u001b[0m\n\u001b[1;32m    698\u001b[0m             \u001b[0;31m# Make the request on the httplib connection object.\u001b[0m\u001b[0;34m\u001b[0m\u001b[0;34m\u001b[0m\u001b[0;34m\u001b[0m\u001b[0m\n\u001b[0;32m--> 699\u001b[0;31m             httplib_response = self._make_request(\n\u001b[0m\u001b[1;32m    700\u001b[0m                 \u001b[0mconn\u001b[0m\u001b[0;34m,\u001b[0m\u001b[0;34m\u001b[0m\u001b[0;34m\u001b[0m\u001b[0m\n\u001b[1;32m    701\u001b[0m                 \u001b[0mmethod\u001b[0m\u001b[0;34m,\u001b[0m\u001b[0;34m\u001b[0m\u001b[0;34m\u001b[0m\u001b[0m\n",
      "\u001b[0;32m~/anaconda3/envs/nlp/lib/python3.8/site-packages/urllib3/connectionpool.py\u001b[0m in \u001b[0;36m_make_request\u001b[0;34m(self, conn, method, url, timeout, chunked, **httplib_request_kw)\u001b[0m\n\u001b[1;32m    443\u001b[0m                     \u001b[0;31m# Python 3 (including for exceptions like SystemExit).\u001b[0m\u001b[0;34m\u001b[0m\u001b[0;34m\u001b[0m\u001b[0;34m\u001b[0m\u001b[0m\n\u001b[1;32m    444\u001b[0m                     \u001b[0;31m# Otherwise it looks like a bug in the code.\u001b[0m\u001b[0;34m\u001b[0m\u001b[0;34m\u001b[0m\u001b[0;34m\u001b[0m\u001b[0m\n\u001b[0;32m--> 445\u001b[0;31m                     \u001b[0msix\u001b[0m\u001b[0;34m.\u001b[0m\u001b[0mraise_from\u001b[0m\u001b[0;34m(\u001b[0m\u001b[0me\u001b[0m\u001b[0;34m,\u001b[0m \u001b[0;32mNone\u001b[0m\u001b[0;34m)\u001b[0m\u001b[0;34m\u001b[0m\u001b[0;34m\u001b[0m\u001b[0m\n\u001b[0m\u001b[1;32m    446\u001b[0m         \u001b[0;32mexcept\u001b[0m \u001b[0;34m(\u001b[0m\u001b[0mSocketTimeout\u001b[0m\u001b[0;34m,\u001b[0m \u001b[0mBaseSSLError\u001b[0m\u001b[0;34m,\u001b[0m \u001b[0mSocketError\u001b[0m\u001b[0;34m)\u001b[0m \u001b[0;32mas\u001b[0m \u001b[0me\u001b[0m\u001b[0;34m:\u001b[0m\u001b[0;34m\u001b[0m\u001b[0;34m\u001b[0m\u001b[0m\n\u001b[1;32m    447\u001b[0m             \u001b[0mself\u001b[0m\u001b[0;34m.\u001b[0m\u001b[0m_raise_timeout\u001b[0m\u001b[0;34m(\u001b[0m\u001b[0merr\u001b[0m\u001b[0;34m=\u001b[0m\u001b[0me\u001b[0m\u001b[0;34m,\u001b[0m \u001b[0murl\u001b[0m\u001b[0;34m=\u001b[0m\u001b[0murl\u001b[0m\u001b[0;34m,\u001b[0m \u001b[0mtimeout_value\u001b[0m\u001b[0;34m=\u001b[0m\u001b[0mread_timeout\u001b[0m\u001b[0;34m)\u001b[0m\u001b[0;34m\u001b[0m\u001b[0;34m\u001b[0m\u001b[0m\n",
      "\u001b[0;32m~/anaconda3/envs/nlp/lib/python3.8/site-packages/urllib3/packages/six.py\u001b[0m in \u001b[0;36mraise_from\u001b[0;34m(value, from_value)\u001b[0m\n",
      "\u001b[0;32m~/anaconda3/envs/nlp/lib/python3.8/site-packages/urllib3/connectionpool.py\u001b[0m in \u001b[0;36m_make_request\u001b[0;34m(self, conn, method, url, timeout, chunked, **httplib_request_kw)\u001b[0m\n\u001b[1;32m    438\u001b[0m                 \u001b[0;31m# Python 3\u001b[0m\u001b[0;34m\u001b[0m\u001b[0;34m\u001b[0m\u001b[0;34m\u001b[0m\u001b[0m\n\u001b[1;32m    439\u001b[0m                 \u001b[0;32mtry\u001b[0m\u001b[0;34m:\u001b[0m\u001b[0;34m\u001b[0m\u001b[0;34m\u001b[0m\u001b[0m\n\u001b[0;32m--> 440\u001b[0;31m                     \u001b[0mhttplib_response\u001b[0m \u001b[0;34m=\u001b[0m \u001b[0mconn\u001b[0m\u001b[0;34m.\u001b[0m\u001b[0mgetresponse\u001b[0m\u001b[0;34m(\u001b[0m\u001b[0;34m)\u001b[0m\u001b[0;34m\u001b[0m\u001b[0;34m\u001b[0m\u001b[0m\n\u001b[0m\u001b[1;32m    441\u001b[0m                 \u001b[0;32mexcept\u001b[0m \u001b[0mBaseException\u001b[0m \u001b[0;32mas\u001b[0m \u001b[0me\u001b[0m\u001b[0;34m:\u001b[0m\u001b[0;34m\u001b[0m\u001b[0;34m\u001b[0m\u001b[0m\n\u001b[1;32m    442\u001b[0m                     \u001b[0;31m# Remove the TypeError from the exception chain in\u001b[0m\u001b[0;34m\u001b[0m\u001b[0;34m\u001b[0m\u001b[0;34m\u001b[0m\u001b[0m\n",
      "\u001b[0;32m~/anaconda3/envs/nlp/lib/python3.8/http/client.py\u001b[0m in \u001b[0;36mgetresponse\u001b[0;34m(self)\u001b[0m\n\u001b[1;32m   1345\u001b[0m         \u001b[0;32mtry\u001b[0m\u001b[0;34m:\u001b[0m\u001b[0;34m\u001b[0m\u001b[0;34m\u001b[0m\u001b[0m\n\u001b[1;32m   1346\u001b[0m             \u001b[0;32mtry\u001b[0m\u001b[0;34m:\u001b[0m\u001b[0;34m\u001b[0m\u001b[0;34m\u001b[0m\u001b[0m\n\u001b[0;32m-> 1347\u001b[0;31m                 \u001b[0mresponse\u001b[0m\u001b[0;34m.\u001b[0m\u001b[0mbegin\u001b[0m\u001b[0;34m(\u001b[0m\u001b[0;34m)\u001b[0m\u001b[0;34m\u001b[0m\u001b[0;34m\u001b[0m\u001b[0m\n\u001b[0m\u001b[1;32m   1348\u001b[0m             \u001b[0;32mexcept\u001b[0m \u001b[0mConnectionError\u001b[0m\u001b[0;34m:\u001b[0m\u001b[0;34m\u001b[0m\u001b[0;34m\u001b[0m\u001b[0m\n\u001b[1;32m   1349\u001b[0m                 \u001b[0mself\u001b[0m\u001b[0;34m.\u001b[0m\u001b[0mclose\u001b[0m\u001b[0;34m(\u001b[0m\u001b[0;34m)\u001b[0m\u001b[0;34m\u001b[0m\u001b[0;34m\u001b[0m\u001b[0m\n",
      "\u001b[0;32m~/anaconda3/envs/nlp/lib/python3.8/http/client.py\u001b[0m in \u001b[0;36mbegin\u001b[0;34m(self)\u001b[0m\n\u001b[1;32m    305\u001b[0m         \u001b[0;31m# read until we get a non-100 response\u001b[0m\u001b[0;34m\u001b[0m\u001b[0;34m\u001b[0m\u001b[0;34m\u001b[0m\u001b[0m\n\u001b[1;32m    306\u001b[0m         \u001b[0;32mwhile\u001b[0m \u001b[0;32mTrue\u001b[0m\u001b[0;34m:\u001b[0m\u001b[0;34m\u001b[0m\u001b[0;34m\u001b[0m\u001b[0m\n\u001b[0;32m--> 307\u001b[0;31m             \u001b[0mversion\u001b[0m\u001b[0;34m,\u001b[0m \u001b[0mstatus\u001b[0m\u001b[0;34m,\u001b[0m \u001b[0mreason\u001b[0m \u001b[0;34m=\u001b[0m \u001b[0mself\u001b[0m\u001b[0;34m.\u001b[0m\u001b[0m_read_status\u001b[0m\u001b[0;34m(\u001b[0m\u001b[0;34m)\u001b[0m\u001b[0;34m\u001b[0m\u001b[0;34m\u001b[0m\u001b[0m\n\u001b[0m\u001b[1;32m    308\u001b[0m             \u001b[0;32mif\u001b[0m \u001b[0mstatus\u001b[0m \u001b[0;34m!=\u001b[0m \u001b[0mCONTINUE\u001b[0m\u001b[0;34m:\u001b[0m\u001b[0;34m\u001b[0m\u001b[0;34m\u001b[0m\u001b[0m\n\u001b[1;32m    309\u001b[0m                 \u001b[0;32mbreak\u001b[0m\u001b[0;34m\u001b[0m\u001b[0;34m\u001b[0m\u001b[0m\n",
      "\u001b[0;32m~/anaconda3/envs/nlp/lib/python3.8/http/client.py\u001b[0m in \u001b[0;36m_read_status\u001b[0;34m(self)\u001b[0m\n\u001b[1;32m    266\u001b[0m \u001b[0;34m\u001b[0m\u001b[0m\n\u001b[1;32m    267\u001b[0m     \u001b[0;32mdef\u001b[0m \u001b[0m_read_status\u001b[0m\u001b[0;34m(\u001b[0m\u001b[0mself\u001b[0m\u001b[0;34m)\u001b[0m\u001b[0;34m:\u001b[0m\u001b[0;34m\u001b[0m\u001b[0;34m\u001b[0m\u001b[0m\n\u001b[0;32m--> 268\u001b[0;31m         \u001b[0mline\u001b[0m \u001b[0;34m=\u001b[0m \u001b[0mstr\u001b[0m\u001b[0;34m(\u001b[0m\u001b[0mself\u001b[0m\u001b[0;34m.\u001b[0m\u001b[0mfp\u001b[0m\u001b[0;34m.\u001b[0m\u001b[0mreadline\u001b[0m\u001b[0;34m(\u001b[0m\u001b[0m_MAXLINE\u001b[0m \u001b[0;34m+\u001b[0m \u001b[0;36m1\u001b[0m\u001b[0;34m)\u001b[0m\u001b[0;34m,\u001b[0m \u001b[0;34m\"iso-8859-1\"\u001b[0m\u001b[0;34m)\u001b[0m\u001b[0;34m\u001b[0m\u001b[0;34m\u001b[0m\u001b[0m\n\u001b[0m\u001b[1;32m    269\u001b[0m         \u001b[0;32mif\u001b[0m \u001b[0mlen\u001b[0m\u001b[0;34m(\u001b[0m\u001b[0mline\u001b[0m\u001b[0;34m)\u001b[0m \u001b[0;34m>\u001b[0m \u001b[0m_MAXLINE\u001b[0m\u001b[0;34m:\u001b[0m\u001b[0;34m\u001b[0m\u001b[0;34m\u001b[0m\u001b[0m\n\u001b[1;32m    270\u001b[0m             \u001b[0;32mraise\u001b[0m \u001b[0mLineTooLong\u001b[0m\u001b[0;34m(\u001b[0m\u001b[0;34m\"status line\"\u001b[0m\u001b[0;34m)\u001b[0m\u001b[0;34m\u001b[0m\u001b[0;34m\u001b[0m\u001b[0m\n",
      "\u001b[0;32m~/anaconda3/envs/nlp/lib/python3.8/socket.py\u001b[0m in \u001b[0;36mreadinto\u001b[0;34m(self, b)\u001b[0m\n\u001b[1;32m    667\u001b[0m         \u001b[0;32mwhile\u001b[0m \u001b[0;32mTrue\u001b[0m\u001b[0;34m:\u001b[0m\u001b[0;34m\u001b[0m\u001b[0;34m\u001b[0m\u001b[0m\n\u001b[1;32m    668\u001b[0m             \u001b[0;32mtry\u001b[0m\u001b[0;34m:\u001b[0m\u001b[0;34m\u001b[0m\u001b[0;34m\u001b[0m\u001b[0m\n\u001b[0;32m--> 669\u001b[0;31m                 \u001b[0;32mreturn\u001b[0m \u001b[0mself\u001b[0m\u001b[0;34m.\u001b[0m\u001b[0m_sock\u001b[0m\u001b[0;34m.\u001b[0m\u001b[0mrecv_into\u001b[0m\u001b[0;34m(\u001b[0m\u001b[0mb\u001b[0m\u001b[0;34m)\u001b[0m\u001b[0;34m\u001b[0m\u001b[0;34m\u001b[0m\u001b[0m\n\u001b[0m\u001b[1;32m    670\u001b[0m             \u001b[0;32mexcept\u001b[0m \u001b[0mtimeout\u001b[0m\u001b[0;34m:\u001b[0m\u001b[0;34m\u001b[0m\u001b[0;34m\u001b[0m\u001b[0m\n\u001b[1;32m    671\u001b[0m                 \u001b[0mself\u001b[0m\u001b[0;34m.\u001b[0m\u001b[0m_timeout_occurred\u001b[0m \u001b[0;34m=\u001b[0m \u001b[0;32mTrue\u001b[0m\u001b[0;34m\u001b[0m\u001b[0;34m\u001b[0m\u001b[0m\n",
      "\u001b[0;32m~/anaconda3/envs/nlp/lib/python3.8/ssl.py\u001b[0m in \u001b[0;36mrecv_into\u001b[0;34m(self, buffer, nbytes, flags)\u001b[0m\n\u001b[1;32m   1239\u001b[0m                   \u001b[0;34m\"non-zero flags not allowed in calls to recv_into() on %s\"\u001b[0m \u001b[0;34m%\u001b[0m\u001b[0;34m\u001b[0m\u001b[0;34m\u001b[0m\u001b[0m\n\u001b[1;32m   1240\u001b[0m                   self.__class__)\n\u001b[0;32m-> 1241\u001b[0;31m             \u001b[0;32mreturn\u001b[0m \u001b[0mself\u001b[0m\u001b[0;34m.\u001b[0m\u001b[0mread\u001b[0m\u001b[0;34m(\u001b[0m\u001b[0mnbytes\u001b[0m\u001b[0;34m,\u001b[0m \u001b[0mbuffer\u001b[0m\u001b[0;34m)\u001b[0m\u001b[0;34m\u001b[0m\u001b[0;34m\u001b[0m\u001b[0m\n\u001b[0m\u001b[1;32m   1242\u001b[0m         \u001b[0;32melse\u001b[0m\u001b[0;34m:\u001b[0m\u001b[0;34m\u001b[0m\u001b[0;34m\u001b[0m\u001b[0m\n\u001b[1;32m   1243\u001b[0m             \u001b[0;32mreturn\u001b[0m \u001b[0msuper\u001b[0m\u001b[0;34m(\u001b[0m\u001b[0;34m)\u001b[0m\u001b[0;34m.\u001b[0m\u001b[0mrecv_into\u001b[0m\u001b[0;34m(\u001b[0m\u001b[0mbuffer\u001b[0m\u001b[0;34m,\u001b[0m \u001b[0mnbytes\u001b[0m\u001b[0;34m,\u001b[0m \u001b[0mflags\u001b[0m\u001b[0;34m)\u001b[0m\u001b[0;34m\u001b[0m\u001b[0;34m\u001b[0m\u001b[0m\n",
      "\u001b[0;32m~/anaconda3/envs/nlp/lib/python3.8/ssl.py\u001b[0m in \u001b[0;36mread\u001b[0;34m(self, len, buffer)\u001b[0m\n\u001b[1;32m   1097\u001b[0m         \u001b[0;32mtry\u001b[0m\u001b[0;34m:\u001b[0m\u001b[0;34m\u001b[0m\u001b[0;34m\u001b[0m\u001b[0m\n\u001b[1;32m   1098\u001b[0m             \u001b[0;32mif\u001b[0m \u001b[0mbuffer\u001b[0m \u001b[0;32mis\u001b[0m \u001b[0;32mnot\u001b[0m \u001b[0;32mNone\u001b[0m\u001b[0;34m:\u001b[0m\u001b[0;34m\u001b[0m\u001b[0;34m\u001b[0m\u001b[0m\n\u001b[0;32m-> 1099\u001b[0;31m                 \u001b[0;32mreturn\u001b[0m \u001b[0mself\u001b[0m\u001b[0;34m.\u001b[0m\u001b[0m_sslobj\u001b[0m\u001b[0;34m.\u001b[0m\u001b[0mread\u001b[0m\u001b[0;34m(\u001b[0m\u001b[0mlen\u001b[0m\u001b[0;34m,\u001b[0m \u001b[0mbuffer\u001b[0m\u001b[0;34m)\u001b[0m\u001b[0;34m\u001b[0m\u001b[0;34m\u001b[0m\u001b[0m\n\u001b[0m\u001b[1;32m   1100\u001b[0m             \u001b[0;32melse\u001b[0m\u001b[0;34m:\u001b[0m\u001b[0;34m\u001b[0m\u001b[0;34m\u001b[0m\u001b[0m\n\u001b[1;32m   1101\u001b[0m                 \u001b[0;32mreturn\u001b[0m \u001b[0mself\u001b[0m\u001b[0;34m.\u001b[0m\u001b[0m_sslobj\u001b[0m\u001b[0;34m.\u001b[0m\u001b[0mread\u001b[0m\u001b[0;34m(\u001b[0m\u001b[0mlen\u001b[0m\u001b[0;34m)\u001b[0m\u001b[0;34m\u001b[0m\u001b[0;34m\u001b[0m\u001b[0m\n",
      "\u001b[0;31mKeyboardInterrupt\u001b[0m: "
     ]
    }
   ],
   "source": [
    "dataset_cards_df = pd.DataFrame()\n",
    "for dataset in tqdm(all_datasets):\n",
    "    try:\n",
    "        data = datasets.get_dataset_infos(path=dataset)\n",
    "        card = data['default'].description\n",
    "        dataset_cards_df = dataset_cards_df.append(pd.DataFrame([{'dataset': dataset, \n",
    "                                                            'dataset_card': card}]))\n",
    "    except Exception as e:\n",
    "        print(e)\n",
    "        pass"
   ]
  },
  {
   "cell_type": "code",
   "execution_count": 18,
   "metadata": {},
   "outputs": [
    {
     "data": {
      "text/html": [
       "<div>\n",
       "<style scoped>\n",
       "    .dataframe tbody tr th:only-of-type {\n",
       "        vertical-align: middle;\n",
       "    }\n",
       "\n",
       "    .dataframe tbody tr th {\n",
       "        vertical-align: top;\n",
       "    }\n",
       "\n",
       "    .dataframe thead th {\n",
       "        text-align: right;\n",
       "    }\n",
       "</style>\n",
       "<table border=\"1\" class=\"dataframe\">\n",
       "  <thead>\n",
       "    <tr style=\"text-align: right;\">\n",
       "      <th></th>\n",
       "      <th>dataset</th>\n",
       "      <th>dataset_card</th>\n",
       "    </tr>\n",
       "  </thead>\n",
       "  <tbody>\n",
       "    <tr>\n",
       "      <th>0</th>\n",
       "      <td>acronym_identification</td>\n",
       "      <td>Acronym identification training and developmen...</td>\n",
       "    </tr>\n",
       "    <tr>\n",
       "      <th>0</th>\n",
       "      <td>aeslc</td>\n",
       "      <td>\\nA collection of email messages of employees ...</td>\n",
       "    </tr>\n",
       "    <tr>\n",
       "      <th>0</th>\n",
       "      <td>ag_news</td>\n",
       "      <td>AG is a collection of more than 1 million news...</td>\n",
       "    </tr>\n",
       "    <tr>\n",
       "      <th>0</th>\n",
       "      <td>allegro_reviews</td>\n",
       "      <td>Allegro Reviews is a sentiment analysis datase...</td>\n",
       "    </tr>\n",
       "    <tr>\n",
       "      <th>0</th>\n",
       "      <td>app_reviews</td>\n",
       "      <td>It is a large dataset of Android applications ...</td>\n",
       "    </tr>\n",
       "    <tr>\n",
       "      <th>...</th>\n",
       "      <td>...</td>\n",
       "      <td>...</td>\n",
       "    </tr>\n",
       "    <tr>\n",
       "      <th>0</th>\n",
       "      <td>eli5_category</td>\n",
       "      <td>The ELI5-Category dataset is a smaller but new...</td>\n",
       "    </tr>\n",
       "    <tr>\n",
       "      <th>0</th>\n",
       "      <td>emotone_ar</td>\n",
       "      <td>Dataset of 10065 tweets in Arabic for Emotion ...</td>\n",
       "    </tr>\n",
       "    <tr>\n",
       "      <th>0</th>\n",
       "      <td>empathetic_dialogues</td>\n",
       "      <td>PyTorch original implementation of Towards Emp...</td>\n",
       "    </tr>\n",
       "    <tr>\n",
       "      <th>0</th>\n",
       "      <td>eraser_multi_rc</td>\n",
       "      <td>\\nEraser Multi RC is a dataset for queries ove...</td>\n",
       "    </tr>\n",
       "    <tr>\n",
       "      <th>0</th>\n",
       "      <td>event2Mind</td>\n",
       "      <td>In Event2Mind, we explore the task of understa...</td>\n",
       "    </tr>\n",
       "  </tbody>\n",
       "</table>\n",
       "<p>78 rows × 2 columns</p>\n",
       "</div>"
      ],
      "text/plain": [
       "                   dataset                                       dataset_card\n",
       "0   acronym_identification  Acronym identification training and developmen...\n",
       "0                    aeslc  \\nA collection of email messages of employees ...\n",
       "0                  ag_news  AG is a collection of more than 1 million news...\n",
       "0          allegro_reviews  Allegro Reviews is a sentiment analysis datase...\n",
       "0              app_reviews  It is a large dataset of Android applications ...\n",
       "..                     ...                                                ...\n",
       "0            eli5_category  The ELI5-Category dataset is a smaller but new...\n",
       "0               emotone_ar  Dataset of 10065 tweets in Arabic for Emotion ...\n",
       "0     empathetic_dialogues  PyTorch original implementation of Towards Emp...\n",
       "0          eraser_multi_rc  \\nEraser Multi RC is a dataset for queries ove...\n",
       "0               event2Mind  In Event2Mind, we explore the task of understa...\n",
       "\n",
       "[78 rows x 2 columns]"
      ]
     },
     "execution_count": 18,
     "metadata": {},
     "output_type": "execute_result"
    }
   ],
   "source": [
    "dataset_cards_df"
   ]
  },
  {
   "cell_type": "code",
   "execution_count": null,
   "metadata": {},
   "outputs": [],
   "source": [
    "executable_path = '../chromedriver'\n",
    "driver = webdriver.Chrome(executable_path)"
   ]
  },
  {
   "cell_type": "code",
   "execution_count": null,
   "metadata": {},
   "outputs": [],
   "source": [
    "dataset_cards_df = pd.DataFrame()\n",
    "for dataset in tqdm(all_datasets):\n",
    "    url = f\"https://huggingface.co/datasets/{dataset}\"\n",
    "    try:\n",
    "        driver.get(url)\n",
    "        card = driver.find_element('class name','prose')\n",
    "        dataset_cards_df = dataset_cards_df.append(pd.DataFrame([{'dataset': dataset, \n",
    "                                                                  'dataset_card': card.text}]))\n",
    "    except Exception as e:\n",
    "        print(e)\n",
    "        pass"
   ]
  },
  {
   "cell_type": "code",
   "execution_count": null,
   "metadata": {},
   "outputs": [],
   "source": []
  },
  {
   "cell_type": "code",
   "execution_count": null,
   "metadata": {},
   "outputs": [],
   "source": [
    "executable_path = '../chromedriver'\n",
    "driver = webdriver.Chrome(executable_path)"
   ]
  },
  {
   "cell_type": "code",
   "execution_count": null,
   "metadata": {},
   "outputs": [],
   "source": [
    "dataset_cards_df.shape"
   ]
  },
  {
   "cell_type": "code",
   "execution_count": null,
   "metadata": {},
   "outputs": [],
   "source": [
    "card = driver.find_elements('class name','prose')"
   ]
  },
  {
   "cell_type": "code",
   "execution_count": null,
   "metadata": {},
   "outputs": [],
   "source": [
    "print(card[0].text)"
   ]
  },
  {
   "cell_type": "code",
   "execution_count": null,
   "metadata": {},
   "outputs": [],
   "source": []
  }
 ],
 "metadata": {
  "kernelspec": {
   "display_name": "nlp",
   "language": "python",
   "name": "python3"
  },
  "language_info": {
   "codemirror_mode": {
    "name": "ipython",
    "version": 3
   },
   "file_extension": ".py",
   "mimetype": "text/x-python",
   "name": "python",
   "nbconvert_exporter": "python",
   "pygments_lexer": "ipython3",
   "version": "3.8.5"
  },
  "orig_nbformat": 4
 },
 "nbformat": 4,
 "nbformat_minor": 2
}
