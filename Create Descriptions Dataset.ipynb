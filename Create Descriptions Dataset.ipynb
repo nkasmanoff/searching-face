{
 "cells": [
  {
   "cell_type": "code",
   "execution_count": 2,
   "metadata": {},
   "outputs": [],
   "source": [
    "from scrape_dataset_descriptions import scrape_dataset\n",
    "import pandas as pd\n",
    "from huggingface_hub import Repository\n",
    "from datasets import load_dataset\n",
    "from huggingface_hub import  notebook_login\n",
    "notebook_login()"
   ]
  },
  {
   "cell_type": "code",
   "execution_count": 3,
   "metadata": {},
   "outputs": [],
   "source": [
    "# saves responses in this folder. takes around 4 hours. \n",
    "scrape_dataset()"
   ]
  },
  {
   "cell_type": "code",
   "execution_count": null,
   "metadata": {},
   "outputs": [],
   "source": [
    "# load the dataset as a HF dataset\n",
    "data = load_dataset('json',data_dir='.',data_files='responses.json',split='train')"
   ]
  },
  {
   "cell_type": "code",
   "execution_count": null,
   "metadata": {},
   "outputs": [],
   "source": [
    "# send to HF hub. We can add a dataset card and better metadata once there!\n",
    "data.push_to_hub(\"nkasmanoff/huggingface-datasets\")"
   ]
  }
 ],
 "metadata": {
  "kernelspec": {
   "display_name": "nlp",
   "language": "python",
   "name": "python3"
  },
  "language_info": {
   "codemirror_mode": {
    "name": "ipython",
    "version": 3
   },
   "file_extension": ".py",
   "mimetype": "text/x-python",
   "name": "python",
   "nbconvert_exporter": "python",
   "pygments_lexer": "ipython3",
   "version": "3.8.5"
  },
  "orig_nbformat": 4
 },
 "nbformat": 4,
 "nbformat_minor": 2
}
